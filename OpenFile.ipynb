{
  "nbformat": 4,
  "nbformat_minor": 0,
  "metadata": {
    "colab": {
      "name": "OpenFile.ipynb",
      "provenance": []
    },
    "kernelspec": {
      "name": "python3",
      "display_name": "Python 3"
    },
    "language_info": {
      "name": "python"
    }
  },
  "cells": [
    {
      "cell_type": "markdown",
      "source": [
        "# **เลื่อนลงไปตรง Attacut กับ OSKut**"
      ],
      "metadata": {
        "id": "xEVXej7HEYZ2"
      }
    },
    {
      "cell_type": "code",
      "execution_count": null,
      "metadata": {
        "id": "9Hvylkpw_WiD"
      },
      "outputs": [],
      "source": [
        "import pandas as pd\n",
        "import os\n",
        "import glob\n",
        "import matplotlib.pyplot as plt"
      ]
    },
    {
      "cell_type": "code",
      "source": [
        "!gdown --id 1OxAPWlilK1gAl0_hDlMEHAUe_r-WogoG"
      ],
      "metadata": {
        "id": "2s_hCL2PQqhc",
        "colab": {
          "base_uri": "https://localhost:8080/"
        },
        "outputId": "05693b58-73cc-4095-d355-73207758ca1b"
      },
      "execution_count": null,
      "outputs": [
        {
          "output_type": "stream",
          "name": "stdout",
          "text": [
            "Downloading...\n",
            "From: https://drive.google.com/uc?id=1OxAPWlilK1gAl0_hDlMEHAUe_r-WogoG\n",
            "To: /content/dataset.zip\n",
            "\r  0% 0.00/14.7M [00:00<?, ?B/s]\r100% 14.7M/14.7M [00:00<00:00, 168MB/s]\n"
          ]
        }
      ]
    },
    {
      "cell_type": "code",
      "source": [
        "!unzip -qq '/content/dataset.zip'"
      ],
      "metadata": {
        "id": "UUdHRPkNXQpz",
        "colab": {
          "base_uri": "https://localhost:8080/"
        },
        "outputId": "2bef4818-f116-4ee0-d9ea-faf6791c88b6"
      },
      "execution_count": null,
      "outputs": [
        {
          "output_type": "stream",
          "name": "stdout",
          "text": [
            "replace dataset/.DS_Store? [y]es, [n]o, [A]ll, [N]one, [r]ename: A\n"
          ]
        }
      ]
    },
    {
      "cell_type": "code",
      "source": [
        "#read file by glob\n",
        "path_train = glob.glob('/content/dataset/train/*')\n",
        "path_test = glob.glob('/content/dataset/test/*')\n",
        "path_eval = glob.glob('/content/dataset/eval/*')"
      ],
      "metadata": {
        "id": "pmhYd_USXfzu"
      },
      "execution_count": null,
      "outputs": []
    },
    {
      "cell_type": "code",
      "source": [
        "path_train[1]"
      ],
      "metadata": {
        "colab": {
          "base_uri": "https://localhost:8080/",
          "height": 35
        },
        "id": "gR_A0FpXX0Nr",
        "outputId": "35d22ec4-f7f4-422e-9f68-8ab469e771bb"
      },
      "execution_count": null,
      "outputs": [
        {
          "output_type": "execute_result",
          "data": {
            "application/vnd.google.colaboratory.intrinsic+json": {
              "type": "string"
            },
            "text/plain": [
              "'/content/dataset/train/T11465.txt'"
            ]
          },
          "metadata": {},
          "execution_count": 5
        }
      ]
    },
    {
      "cell_type": "code",
      "source": [
        "def create_dataframe(list_path):\n",
        "    data_list = []\n",
        "    for item in list_path:\n",
        "        with open(item, 'r') as f:\n",
        "            for line in f:\n",
        "                if line == '\\n':\n",
        "                    continue\n",
        "                line = line.strip().split('\\t')\n",
        "                data_list.append(line)\n",
        "    df = pd.DataFrame(data_list, columns = ['word', 'pos', 'entity-name', 'sentence-seg'])\n",
        "    df['pos'] = df['pos'].fillna('O')\n",
        "    df['entity-name'] = df['entity-name'].fillna('O')\n",
        "    df['sentence-seg'] = df['sentence-seg'].fillna('O')\n",
        "    return df"
      ],
      "metadata": {
        "colab": {
          "base_uri": "https://localhost:8080/",
          "height": 133
        },
        "id": "pdNwPPiOcNGO",
        "outputId": "3bc98dbd-9ddc-4378-e5fa-c8331f913bc4"
      },
      "execution_count": null,
      "outputs": [
        {
          "output_type": "error",
          "ename": "IndentationError",
          "evalue": "ignored",
          "traceback": [
            "\u001b[0;36m  File \u001b[0;32m\"<ipython-input-8-34a598b2509e>\"\u001b[0;36m, line \u001b[0;32m9\u001b[0m\n\u001b[0;31m    line = line.strip().split('\\t')\u001b[0m\n\u001b[0m       ^\u001b[0m\n\u001b[0;31mIndentationError\u001b[0m\u001b[0;31m:\u001b[0m expected an indented block\n"
          ]
        }
      ]
    },
    {
      "cell_type": "code",
      "source": [
        "train_df = create_dataframe(path_train)\n",
        "test_df = create_dataframe(path_test)\n",
        "eval_df = create_dataframe(path_eval)"
      ],
      "metadata": {
        "colab": {
          "base_uri": "https://localhost:8080/",
          "height": 204
        },
        "id": "0MVD20ycezn0",
        "outputId": "8b1134c4-6fb4-4f74-cfe9-57a4a55669a9"
      },
      "execution_count": null,
      "outputs": [
        {
          "output_type": "error",
          "ename": "NameError",
          "evalue": "ignored",
          "traceback": [
            "\u001b[0;31m---------------------------------------------------------------------------\u001b[0m",
            "\u001b[0;31mNameError\u001b[0m                                 Traceback (most recent call last)",
            "\u001b[0;32m<ipython-input-9-e667171512d0>\u001b[0m in \u001b[0;36m<module>\u001b[0;34m()\u001b[0m\n\u001b[0;32m----> 1\u001b[0;31m \u001b[0mtrain_df\u001b[0m \u001b[0;34m=\u001b[0m \u001b[0mcreate_dataframe\u001b[0m\u001b[0;34m(\u001b[0m\u001b[0mpath_train\u001b[0m\u001b[0;34m)\u001b[0m\u001b[0;34m\u001b[0m\u001b[0;34m\u001b[0m\u001b[0m\n\u001b[0m\u001b[1;32m      2\u001b[0m \u001b[0mtest_df\u001b[0m \u001b[0;34m=\u001b[0m \u001b[0mcreate_dataframe\u001b[0m\u001b[0;34m(\u001b[0m\u001b[0mpath_test\u001b[0m\u001b[0;34m)\u001b[0m\u001b[0;34m\u001b[0m\u001b[0;34m\u001b[0m\u001b[0m\n\u001b[1;32m      3\u001b[0m \u001b[0meval_df\u001b[0m \u001b[0;34m=\u001b[0m \u001b[0mcreate_dataframe\u001b[0m\u001b[0;34m(\u001b[0m\u001b[0mpath_eval\u001b[0m\u001b[0;34m)\u001b[0m\u001b[0;34m\u001b[0m\u001b[0;34m\u001b[0m\u001b[0m\n",
            "\u001b[0;31mNameError\u001b[0m: name 'create_dataframe' is not defined"
          ]
        }
      ]
    },
    {
      "cell_type": "code",
      "source": [
        "test_df['pos'].str.find('O')"
      ],
      "metadata": {
        "colab": {
          "base_uri": "https://localhost:8080/"
        },
        "id": "_-lIooKBSSWQ",
        "outputId": "36d56ac1-5a68-4abd-bef5-1452f08e95be"
      },
      "execution_count": null,
      "outputs": [
        {
          "output_type": "execute_result",
          "data": {
            "text/plain": [
              "0        -1\n",
              "1        -1\n",
              "2        -1\n",
              "3        -1\n",
              "4        -1\n",
              "         ..\n",
              "207273   -1\n",
              "207274   -1\n",
              "207275   -1\n",
              "207276   -1\n",
              "207277   -1\n",
              "Name: pos, Length: 207278, dtype: int64"
            ]
          },
          "metadata": {},
          "execution_count": 9
        }
      ]
    },
    {
      "cell_type": "code",
      "source": [
        "train_df"
      ],
      "metadata": {
        "colab": {
          "base_uri": "https://localhost:8080/",
          "height": 423
        },
        "id": "8Pok6vzoFcKE",
        "outputId": "670c50b9-abda-4d44-9bf6-7b285c1f491c"
      },
      "execution_count": null,
      "outputs": [
        {
          "output_type": "execute_result",
          "data": {
            "text/html": [
              "\n",
              "  <div id=\"df-9c06cf52-4e70-4291-827d-6540edbf57d3\">\n",
              "    <div class=\"colab-df-container\">\n",
              "      <div>\n",
              "<style scoped>\n",
              "    .dataframe tbody tr th:only-of-type {\n",
              "        vertical-align: middle;\n",
              "    }\n",
              "\n",
              "    .dataframe tbody tr th {\n",
              "        vertical-align: top;\n",
              "    }\n",
              "\n",
              "    .dataframe thead th {\n",
              "        text-align: right;\n",
              "    }\n",
              "</style>\n",
              "<table border=\"1\" class=\"dataframe\">\n",
              "  <thead>\n",
              "    <tr style=\"text-align: right;\">\n",
              "      <th></th>\n",
              "      <th>word</th>\n",
              "      <th>pos</th>\n",
              "      <th>entity-name</th>\n",
              "      <th>sentence-seg</th>\n",
              "    </tr>\n",
              "  </thead>\n",
              "  <tbody>\n",
              "    <tr>\n",
              "      <th>0</th>\n",
              "      <td>\"</td>\n",
              "      <td>PU</td>\n",
              "      <td>O</td>\n",
              "      <td>B_CLS</td>\n",
              "    </tr>\n",
              "    <tr>\n",
              "      <th>1</th>\n",
              "      <td>มิ่งขวัญ</td>\n",
              "      <td>NN</td>\n",
              "      <td>B_PER</td>\n",
              "      <td>I_CLS</td>\n",
              "    </tr>\n",
              "    <tr>\n",
              "      <th>2</th>\n",
              "      <td>\"</td>\n",
              "      <td>PU</td>\n",
              "      <td>O</td>\n",
              "      <td>I_CLS</td>\n",
              "    </tr>\n",
              "    <tr>\n",
              "      <th>3</th>\n",
              "      <td>พร้อม</td>\n",
              "      <td>PS</td>\n",
              "      <td>O</td>\n",
              "      <td>I_CLS</td>\n",
              "    </tr>\n",
              "    <tr>\n",
              "      <th>4</th>\n",
              "      <td>บอร์ด</td>\n",
              "      <td>NN</td>\n",
              "      <td>O</td>\n",
              "      <td>I_CLS</td>\n",
              "    </tr>\n",
              "    <tr>\n",
              "      <th>...</th>\n",
              "      <td>...</td>\n",
              "      <td>...</td>\n",
              "      <td>...</td>\n",
              "      <td>...</td>\n",
              "    </tr>\n",
              "    <tr>\n",
              "      <th>2714721</th>\n",
              "      <td>ไว้</td>\n",
              "      <td>AX</td>\n",
              "      <td>O</td>\n",
              "      <td>I_CLS</td>\n",
              "    </tr>\n",
              "    <tr>\n",
              "      <th>2714722</th>\n",
              "      <td>กับ</td>\n",
              "      <td>PS</td>\n",
              "      <td>O</td>\n",
              "      <td>I_CLS</td>\n",
              "    </tr>\n",
              "    <tr>\n",
              "      <th>2714723</th>\n",
              "      <td>พนักงาน</td>\n",
              "      <td>NN</td>\n",
              "      <td>O</td>\n",
              "      <td>I_CLS</td>\n",
              "    </tr>\n",
              "    <tr>\n",
              "      <th>2714724</th>\n",
              "      <td>สอบสวน</td>\n",
              "      <td>VV</td>\n",
              "      <td>O</td>\n",
              "      <td>I_CLS</td>\n",
              "    </tr>\n",
              "    <tr>\n",
              "      <th>2714725</th>\n",
              "      <td>หรือ</td>\n",
              "      <td>CC</td>\n",
              "      <td>O</td>\n",
              "      <td>E_CLS</td>\n",
              "    </tr>\n",
              "  </tbody>\n",
              "</table>\n",
              "<p>2714726 rows × 4 columns</p>\n",
              "</div>\n",
              "      <button class=\"colab-df-convert\" onclick=\"convertToInteractive('df-9c06cf52-4e70-4291-827d-6540edbf57d3')\"\n",
              "              title=\"Convert this dataframe to an interactive table.\"\n",
              "              style=\"display:none;\">\n",
              "        \n",
              "  <svg xmlns=\"http://www.w3.org/2000/svg\" height=\"24px\"viewBox=\"0 0 24 24\"\n",
              "       width=\"24px\">\n",
              "    <path d=\"M0 0h24v24H0V0z\" fill=\"none\"/>\n",
              "    <path d=\"M18.56 5.44l.94 2.06.94-2.06 2.06-.94-2.06-.94-.94-2.06-.94 2.06-2.06.94zm-11 1L8.5 8.5l.94-2.06 2.06-.94-2.06-.94L8.5 2.5l-.94 2.06-2.06.94zm10 10l.94 2.06.94-2.06 2.06-.94-2.06-.94-.94-2.06-.94 2.06-2.06.94z\"/><path d=\"M17.41 7.96l-1.37-1.37c-.4-.4-.92-.59-1.43-.59-.52 0-1.04.2-1.43.59L10.3 9.45l-7.72 7.72c-.78.78-.78 2.05 0 2.83L4 21.41c.39.39.9.59 1.41.59.51 0 1.02-.2 1.41-.59l7.78-7.78 2.81-2.81c.8-.78.8-2.07 0-2.86zM5.41 20L4 18.59l7.72-7.72 1.47 1.35L5.41 20z\"/>\n",
              "  </svg>\n",
              "      </button>\n",
              "      \n",
              "  <style>\n",
              "    .colab-df-container {\n",
              "      display:flex;\n",
              "      flex-wrap:wrap;\n",
              "      gap: 12px;\n",
              "    }\n",
              "\n",
              "    .colab-df-convert {\n",
              "      background-color: #E8F0FE;\n",
              "      border: none;\n",
              "      border-radius: 50%;\n",
              "      cursor: pointer;\n",
              "      display: none;\n",
              "      fill: #1967D2;\n",
              "      height: 32px;\n",
              "      padding: 0 0 0 0;\n",
              "      width: 32px;\n",
              "    }\n",
              "\n",
              "    .colab-df-convert:hover {\n",
              "      background-color: #E2EBFA;\n",
              "      box-shadow: 0px 1px 2px rgba(60, 64, 67, 0.3), 0px 1px 3px 1px rgba(60, 64, 67, 0.15);\n",
              "      fill: #174EA6;\n",
              "    }\n",
              "\n",
              "    [theme=dark] .colab-df-convert {\n",
              "      background-color: #3B4455;\n",
              "      fill: #D2E3FC;\n",
              "    }\n",
              "\n",
              "    [theme=dark] .colab-df-convert:hover {\n",
              "      background-color: #434B5C;\n",
              "      box-shadow: 0px 1px 3px 1px rgba(0, 0, 0, 0.15);\n",
              "      filter: drop-shadow(0px 1px 2px rgba(0, 0, 0, 0.3));\n",
              "      fill: #FFFFFF;\n",
              "    }\n",
              "  </style>\n",
              "\n",
              "      <script>\n",
              "        const buttonEl =\n",
              "          document.querySelector('#df-9c06cf52-4e70-4291-827d-6540edbf57d3 button.colab-df-convert');\n",
              "        buttonEl.style.display =\n",
              "          google.colab.kernel.accessAllowed ? 'block' : 'none';\n",
              "\n",
              "        async function convertToInteractive(key) {\n",
              "          const element = document.querySelector('#df-9c06cf52-4e70-4291-827d-6540edbf57d3');\n",
              "          const dataTable =\n",
              "            await google.colab.kernel.invokeFunction('convertToInteractive',\n",
              "                                                     [key], {});\n",
              "          if (!dataTable) return;\n",
              "\n",
              "          const docLinkHtml = 'Like what you see? Visit the ' +\n",
              "            '<a target=\"_blank\" href=https://colab.research.google.com/notebooks/data_table.ipynb>data table notebook</a>'\n",
              "            + ' to learn more about interactive tables.';\n",
              "          element.innerHTML = '';\n",
              "          dataTable['output_type'] = 'display_data';\n",
              "          await google.colab.output.renderOutput(dataTable, element);\n",
              "          const docLink = document.createElement('div');\n",
              "          docLink.innerHTML = docLinkHtml;\n",
              "          element.appendChild(docLink);\n",
              "        }\n",
              "      </script>\n",
              "    </div>\n",
              "  </div>\n",
              "  "
            ],
            "text/plain": [
              "             word pos entity-name sentence-seg\n",
              "0               \"  PU           O        B_CLS\n",
              "1        มิ่งขวัญ  NN       B_PER        I_CLS\n",
              "2               \"  PU           O        I_CLS\n",
              "3           พร้อม  PS           O        I_CLS\n",
              "4           บอร์ด  NN           O        I_CLS\n",
              "...           ...  ..         ...          ...\n",
              "2714721       ไว้  AX           O        I_CLS\n",
              "2714722       กับ  PS           O        I_CLS\n",
              "2714723   พนักงาน  NN           O        I_CLS\n",
              "2714724    สอบสวน  VV           O        I_CLS\n",
              "2714725      หรือ  CC           O        E_CLS\n",
              "\n",
              "[2714726 rows x 4 columns]"
            ]
          },
          "metadata": {},
          "execution_count": 10
        }
      ]
    },
    {
      "cell_type": "code",
      "source": [
        "train_df['pos'].hist()"
      ],
      "metadata": {
        "colab": {
          "base_uri": "https://localhost:8080/",
          "height": 294
        },
        "id": "fiJPQSQppI73",
        "outputId": "84125cfc-9682-4089-d9f9-b261ef218df2"
      },
      "execution_count": null,
      "outputs": [
        {
          "output_type": "execute_result",
          "data": {
            "text/plain": [
              "<matplotlib.axes._subplots.AxesSubplot at 0x7f1efc6fcc90>"
            ]
          },
          "metadata": {},
          "execution_count": 11
        },
        {
          "output_type": "display_data",
          "data": {
            "image/png": "[encoded data removed]",
            "text/plain": [
              "<Figure size 432x288 with 1 Axes>"
            ]
          },
          "metadata": {
            "needs_background": "light"
          }
        }
      ]
    },
    {
      "cell_type": "code",
      "source": [
        "#Name entities count\n",
        "check_df = eval_df['entity-name'].str.find('B_', end=2)\n",
        "check_df = pd.DataFrame(check_df)\n",
        "check_df['entity-name'].value_counts(0)"
      ],
      "metadata": {
        "colab": {
          "base_uri": "https://localhost:8080/"
        },
        "id": "RlFZ6Dak2jkb",
        "outputId": "40f6fe1e-400e-40df-c340-44be8cff390a"
      },
      "execution_count": null,
      "outputs": [
        {
          "output_type": "execute_result",
          "data": {
            "text/plain": [
              "-1    217684\n",
              " 0     23176\n",
              "Name: entity-name, dtype: int64"
            ]
          },
          "metadata": {},
          "execution_count": 12
        }
      ]
    },
    {
      "cell_type": "code",
      "source": [
        "sentence_df = test_df['sentence-seg'].str.find('new line')\n",
        "sentence_df = pd.DataFrame(sentence_df)\n",
        "sentence_df['sentence-seg'].value_counts(0)"
      ],
      "metadata": {
        "colab": {
          "base_uri": "https://localhost:8080/"
        },
        "id": "LOLQyGWwG3Cl",
        "outputId": "63ab5a58-a1a5-43bc-8358-40ae76ac6ddf"
      },
      "execution_count": null,
      "outputs": [
        {
          "output_type": "execute_result",
          "data": {
            "text/plain": [
              "-1    207278\n",
              "Name: sentence-seg, dtype: int64"
            ]
          },
          "metadata": {},
          "execution_count": 13
        }
      ]
    },
    {
      "cell_type": "markdown",
      "source": [
        "# **Attacut**"
      ],
      "metadata": {
        "id": "sn4w6_MKA8gO"
      }
    },
    {
      "cell_type": "code",
      "source": [
        "!pip -qq install pythainlp\n",
        "!pip -qq install epitran\n",
        "!pip -qq install python-crfsuite\n",
        "!pip -qq install attacut"
      ],
      "metadata": {
        "id": "RQ2xmbBeBtKE"
      },
      "execution_count": null,
      "outputs": []
    },
    {
      "cell_type": "code",
      "source": [
        "import pythainlp\n",
        "from pythainlp import sent_tokenize\n",
        "from pythainlp import word_tokenize\n",
        "from pythainlp import word_tokenize, Tokenizer\n",
        "import pandas as pd\n",
        "from pythainlp.tokenize.multi_cut import find_all_segment, mmcut, segment\n",
        "# from pythainlp.tokenize import dict_trie\n",
        "from pythainlp.corpus.common import thai_words\n",
        "from pythainlp.util import normalize"
      ],
      "metadata": {
        "id": "A8cCmC5CCCOP"
      },
      "execution_count": null,
      "outputs": []
    },
    {
      "cell_type": "code",
      "source": [
        "!gdown --id 11EAAsZ3ofLUOT5UIu85PTTkSvO-DKdhP"
      ],
      "metadata": {
        "colab": {
          "base_uri": "https://localhost:8080/"
        },
        "id": "ZiBMvpAuTZYX",
        "outputId": "ca9b3043-b0d5-4f75-be98-a02a8ff88e00"
      },
      "execution_count": null,
      "outputs": [
        {
          "output_type": "stream",
          "name": "stdout",
          "text": [
            "Downloading...\n",
            "From: https://drive.google.com/uc?id=11EAAsZ3ofLUOT5UIu85PTTkSvO-DKdhP\n",
            "To: /content/ws_test.txt\n",
            "\r  0% 0.00/106k [00:00<?, ?B/s]\r100% 106k/106k [00:00<00:00, 54.8MB/s]\n"
          ]
        }
      ]
    },
    {
      "cell_type": "code",
      "source": [
        "# text = \"สวัสดีจ้าทดลองตัดคำจ้าาา\"\n",
        "# print(word_tokenize(text))\n",
        "# print(text)"
      ],
      "metadata": {
        "id": "DQhZFkacGQmx"
      },
      "execution_count": null,
      "outputs": []
    },
    {
      "cell_type": "code",
      "source": [
        "# data_path = '/content/ws_test.txt'\n",
        "\n",
        "# test_data = open(data_path, 'r')\n",
        "\n",
        "# text = test_data.readlines()\n",
        "# word_normalize = normalize(text[0])\n",
        "# print(word_normalize)\n",
        "# print(word_tokenize(word_normalize))"
      ],
      "metadata": {
        "id": "Lj_3-k67Bbgp"
      },
      "execution_count": null,
      "outputs": []
    },
    {
      "cell_type": "code",
      "source": [
        "data_path = '/content/ws_test.txt'\n",
        "test_data = open(data_path, 'r')\n",
        "text = test_data.readlines()\n",
        "\n",
        "\n",
        "test_text = word_tokenize(text[0], engine='attacut')\n",
        "        \n",
        "print(test_text)\n"
      ],
      "metadata": {
        "colab": {
          "base_uri": "https://localhost:8080/"
        },
        "id": "ASwfZRwDDfg8",
        "outputId": "56c6af06-a979-4ee3-b420-cc182afa4ee4"
      },
      "execution_count": null,
      "outputs": [
        {
          "output_type": "stream",
          "name": "stdout",
          "text": [
            "['ที่', 'ยัง', 'สถานการณ์', 'ยัง', 'ไม่', 'คลี่คลาย', 'อาจ', 'ส่ง', 'ผล', 'กระทบ', 'การ', 'ค้า', 'ชาย', 'แดน', 'ไทย', ' ', '-', ' ', 'กัมพูชา', ' ', 'ว่า', ' ', 'เท่า', 'ที่', 'เข้า', 'ไป', 'ดำเนิน', 'การ', 'ตรวจสอบ', 'ยัง', 'ไม่', 'พบ', 'ว่า', 'มี', 'การ', 'ปิด', 'ด่าน', 'บริเวณ', 'ดัง', 'กล่าว', ' ', 'และ', 'ที่', 'สำคัญ', 'การ', 'ค้า', 'ระหว่าง', 'ไทย', 'และ', 'กัมพูชา', 'ส่วน', 'ใหญ่', 'จะ', 'มี', 'ปริมาณ', 'มาก', 'ที่', 'ด่านปอยเปต', ' ', 'อ. อรัญประเทศ', ' ', 'จ. สระแก้ว', ' ', 'มาก', 'กว่า', 'ด่าน', 'อื่น', ' ', 'ๆ', ' ', 'ส่วน', 'ที่', 'กัน', 'ทรลักษ์', 'เป็น', 'ด่าน', 'ขนาด', 'เล็ก', 'จะ', 'เน้น', 'ด้าน', 'ท่องเที่ยว', ' ', 'จึง', 'ไม่', 'น่า', 'ส่ง', 'ผล', 'กระทบ', 'ต่อ', 'บรรยากาศ', 'การค้า', 'ชาย', 'แดน', 'ไทย', ' ', '-', ' ', 'กัมพูชา', 'แต่อย่างใด', ' ', 'อย่าง', 'ไร', 'ก็ตาม', ' ', 'แม้', 'จะ', 'มี', 'ปัญหา', 'ความ', 'ขัดแย้ง', 'เรื่อง', 'เขาพระวิหาร', ' ', 'แต่', 'ปริมาณ', 'การ', 'ค้า', 'ชาย', 'แดน', 'ไทย', ' ', '-', ' ', 'กัมพูชา', 'ใน', 'ปี', 'ที่', 'ผ่าน', 'มา', 'ยังคง', 'เพิ่ม', 'ขึ้น', ' ', 'โดย', 'มี', 'จำ', 'ปริมาณ', 'ทั้งสิ้น', ' ', '48', ',', '406', ' ', 'ล้าน', 'บาท', ' ', 'เพิ่ม', 'ขึ้น', 'เมื่อ', 'เทียบ', 'กับ', 'ปี', ' ', '2549', ' ', 'ร้อยละ', ' ', '0', '.', '2', ' ', 'โดย', 'เป็น', 'การ', 'ส่ง', 'ออก', 'จาก', 'ไทย', 'ทั้งสิ้น', ' ', '46', ',', '718', ' ', 'ล้าน', 'บาท', ' ', 'ขณะ', 'ที่', 'มี', 'การ', 'นำ', 'เข้า', 'สินค้า', 'จาก', 'กัมพูชา', 'เพียง', ' ', '1', ',', '689', ' ', 'ล้าน', 'บาท', 'เท่า', 'นั้น', ' ', 'ทั้งนี้', ' ', 'ใน', 'ช่วง', ' ', '5', ' ', 'เดือน', 'แรก', 'ปี', 'นี้', ' ', '(', ' ', 'ม.ค.', ' ', '-', ' ', 'พ.ค.', ' ', '2551', ' ', ')', ' ', 'การ', 'ค้า', 'ทั้ง', 'สอง', 'ประเทศ', 'มี', 'มูลค่า', 'รวม', 'ทั้งสิ้น', ' ', '29', ',', '677', ' ', 'ล้าน', 'บาท', ' ', 'เพิ่ม', 'ขึ้น', 'เมื่อ', 'เทียบ', 'กับ', 'ช่วง', 'เดียว', 'กัน', 'ของ', 'ปี', 'ที่', 'ผ่าน', 'มา', 'ร้อย', 'ละ', ' ', '59', '.', '2', ' ', 'โดย', 'ไทย', 'ส่ง', 'ออกมูลค่า', 'ทั้งสิ้น', ' ', '28', ',', '680', ' ', 'ล้าน', 'บาท', ' ', 'และ', 'มี', 'การ', 'นำ', 'เข้า', 'เพียง', ' ', '997', ' ', 'ล้าน', 'บาท', ' ', 'ถก', 'นอก', 'รอบ', ' ', '\"', ' ', 'ไทย', ' ', '-', ' ', 'เขมร', ' ', '\"', ' ', '8', ' ', 'ชม.', ' ', 'สรุป', ' ', '\"', ' ', 'ตรึง', 'กำลัง', 'ทหาร', ' ', '-', ' ', 'ห้าม', 'ยิง', ' ', '\"', ' ', 'ผล', 'การ', 'ประชุม', 'ร่วม', 'ไทย', ' ', '-', ' ', 'กัมพูชา', 'นอก', 'รอบ', 'รวม', ' ', '8', ' ', 'ชั่วโมง', ' ', 'ได้', 'ข้อ', 'สรุป', ' ', '\"', ' ', 'ลด', 'อุณหภูมิ', 'ความ', 'ตึงเครียด', ' ', 'ห้าม', 'ยิง', ' ', 'คง', 'กำลัง', 'ทหาร', ' ', '\"', ' ', 'ส่วน', 'การ', 'แก้', 'ปัญหา', 'พื้นที่', 'ทับซ้อน', 'ยัง', 'ติด', 'ข้อ', 'กฎหมาย', ' ', 'ทั้ง', 'สอง', 'ฝ่าย', 'ต้อง', 'นำ', 'กลับ', 'ไป', 'พิจารณา', 'และ', 'นำ', 'มา', 'หารือ', 'กัน', 'อีก', 'ครั้ง', ' ', 'ปลัด', 'บัวแก้ว', 'ไม่', 'ตอบ', 'ข้อ', 'กฎหมาย', 'บอก', 'ต้อง', 'รายงาน', 'รัฐบาล', 'ก่อน', ' ', 'เมื่อ', 'เวลา', ' ', '13', '.', '00', ' ', 'น.', ' ', 'วัน', 'ที่', ' ', '21', ' ', 'ก.ค.', ' ', 'หลัง', 'หารือ', 'ทวิภาคี', ' ', 'ระหว่าง', ' ', 'พล.อ. ', 'บุญสร้าง เนียมประดิษฐ์', ' ', 'สส.', ' ', 'หัวหน้า', 'คณะ', 'ฝ่าย', 'ไทย', ' ', 'และ', ' ', 'พล.อ. เตีย บันห์', ' ', 'รอง', 'นายก', ' ฯ', ' ', 'และ', ' ', 'รมว.', ' ', 'กลาโหม', ' ', 'ประธาน', 'ฝ่าย', 'กัมพูชา', ' ', 'เสร็จสิ้น', 'ลง', ' ', 'ได้', 'มี', 'การ', 'ประชุม', 'กลุ่ม', 'เล็ก', 'ของ', 'สอง', 'ประเทศ', ' ', 'ฝ่าย', 'ละ', ' ', '5', ' ', 'คน', ' ', 'ฝ่าย', 'ไทย', 'นำ', 'โดย', ' ', 'พล.อ. บุญ', 'สร้าง', ' ', 'พล.อ.', ' ', 'อนุพงษ์ เผ่าจินดา', ' ', 'พล.อ.', ' ', 'ทรงกิตติ', ' จักรบาตร์ ', 'เสนาธิการ', 'ทหาร', 'บก', ' ', 'พล.ท.', ' พิพัทธ์', ' ', 'ทอง', 'เล็ก', ' ', 'เจ้า', 'กรมกิจการชาย', 'แดน', 'ทหาร', ' ', 'และ', 'นายวีรศักดิ์ ฟูตระกูล', ' ', 'ปลัด', 'กระทรวงการต่างประเทศ', ' ', 'ฝ่าย', 'กัมพูชา', 'ประกอบ', 'ด้วย', ' ', 'พล.อ.', ' เตีย บันห์', ' ', 'พล.อ.', ' ', 'เนียง', ' ', 'พาด', ' ', 'รมช.', ' ', 'กลาโหม', ' ', 'นายลอง วิสาโล', ' ', 'รมช.', ' ', 'ต่าง', 'ประเทศ', 'ความ', 'ร่วมมือ', 'ระหว่าง', 'ประเทศ', ' ', 'นายวาร์ กิม ฮอง', ' ', 'รัฐมนตรี', 'อาวุโส', ' ', 'และ', 'ที่ปรึกษา', 'รัฐบาล', 'กัมพูชา', 'ส่วน', 'กิจการ', ' ', 'ใน', 'ฐานะ', 'ประธาน', 'คณะ', 'กรรมาธิการเขตแดนร่วม', 'ฝ่าย', 'กัมพูชา', ' ', 'และ', ' ', 'พล.อ.', ' ', 'พอล ซาเรือน', ' ', 'รอง', ' ', 'ผบ.', ' ', 'สส.', ' ', 'และ', 'เสนาธิการทหาร', 'แห่ง', 'กองทัพ', 'กัมพูชา', ' ', 'การ', 'ประชุม', 'กลุ่ม', 'เล็ก', ' ', 'เป็น', 'การ', 'หารือ', 'เพื่อ', 'แก้', 'ปัญหา', 'เฉพาะ', 'ข้อ', 'พิพาท', 'ตาม', 'แนว', 'ชาย', 'แดน', ' ', 'ไทย', ' ', '-', ' ', 'กัมพูชา', ' ', 'ซึ่ง', 'หลัง', 'การ', 'ประชุม', 'ผ่าน', 'ไป', ' ', '2', ' ', 'ชั่วโมง', ' ', 'ยัง', 'ไม่', 'มี', 'ทีท่า', 'จะ', 'ยุติ', ' ', 'ทำ', 'ให้', 'การ', 'ประชุม', 'คณะ', 'กรรมการ', 'ชาย', 'แดน', 'ทั่วไป', ' ', '(', ' ', 'จีบีซี', ' ', ')', ' ', 'ไทย', ' ', '-', ' ', 'กัมพูชา', ' ', 'สมัย', 'วิสามัญ', ' ', 'ยัง', 'ไม่', 'สามารถ', 'เริ่ม', 'ได้', ' ', 'รายงาน', 'ข่าว', 'แจ้ง', 'ว่า', ' ', 'การ', 'ประชุม', 'คณะ', 'กรรมการ', 'ชาย', 'แดน', 'ทั่วไป', 'ไทย', ' ', '-', ' ', 'กัมพูชา', ' ', 'สามัญ', 'วิสามัญ', 'นั้น', ' ', 'จะ', 'มี', 'การ', 'ประชุม', 'ร่วม', 'กัน', ' ', '2', ' ', 'แนวทาง', ' ', 'คือ', ' ', 'แนวทาง', 'ที่', ' ', '1', '.', ' ', 'จะ', 'มี', 'การ', 'หารือ', 'กัน', 'แบบ', 'ตัว', 'ต่อ', 'ตัว', ' ', 'คือ', ' ', 'พล.อ.', ' เตีย บันห์', ' ', 'และ', ' ', 'พล.อ. บุญ', 'สร้าง', ' ', 'ส่วน', 'แนวทาง', 'ที่', ' ', '2', '.', ' ', 'คือ', 'จะ', 'หารือ', 'กัน', 'ระหว่าง', ' ', 'พล.อ. เตีย บันห์', ' ', 'และ', ' ', 'พล.อ. ', 'บุญ', 'สร้าง', 'พร้อม', 'คณะ', 'ฝ่าย', 'ไทย', ' ', 'และ', 'กัมพูชา', 'อีก', 'ฝ่าย', 'ละ', ' ', '4', ' ', 'คน', ' ', 'โดย', 'เฉพาะ', 'ประเด็น', 'ที่', 'จะ', 'หารือ', 'กัน', ' ', 'คือ', ' ', 'การ', 'ลด', 'ความ', 'ตึงเครียด', 'บริเวณ', 'ปราสาทพระวิหาร', 'โดย', 'เฉพาะ', 'อาจ', 'จะ', 'มี', 'การ', 'ลด', 'กำลัง', 'ทหาร', 'ของ', 'ทั้ง', 'สอง', 'ฝ่าย', 'ออก', 'ไป', 'เพื่อ', 'ลด', 'ความ', 'ตึงเครียด', ' ', 'ชี้', 'เพราะ', 'สอง', 'ฝ่าย', 'ต้องการ', 'หา', 'ข้อ', 'ยุติ', 'ให้', 'ได้', ' ', 'นายวีรศักดิ์ ฟูตระกูล', ' ', 'ปลัด', 'กระทรวงการต่างประเทศ', ' ', 'เปิดเผย', 'ว่า', ' ', 'การ', 'หารือ', 'ทวิภาคี', ' ', 'ระหว่าง', ' ', 'พล.อ. ', 'บุญ', 'สร้าง', ' ', 'พล.อ. เตีย บันห์', ' ', 'เป็น', 'ไป', 'อย่าง', 'สร้างสรรค์', ' ', 'แม้', 'การ', 'เจรจา', 'หา', 'ข้อ', 'ยุติ', 'เรื่อง', 'ปราสาทพระวิหาร', 'ต้อง', 'ยืดเยื้อ', 'ออก', 'ไป', 'จาก', ' ', '15', ' ', 'นาที', ' ', 'เป็น', ' ', '3', ' ', 'ชั่วโมง', ' ', 'ก็', 'เป็น', 'เพราะ', 'ทั้ง', 'สอง', 'ฝ่าย', 'ต้องการ', 'หา', 'ข้อ', 'ยุติ', 'เรื่อง', 'นี้', 'ให้', 'ได้', ' ', 'จัด', 'กำลัง', 'ทหาร', ' ', '-', ' ', 'ตำรวจ', 'ดูแล', 'เข้ม', 'ความ', 'ปลอด', 'ภัย', 'จีบีซี', ' ', 'พล.ต.', ' ', 'วลิต โรจน', 'ภักดี', ' ', 'ผู้', 'บัญชา', 'การ', 'กองพลทหารราบที่ 2', ' ', 'รักษาพระองค์', ' ', '(', ' ', 'พล.ร.2รอ.', ' ', ')', ' ', 'และ', ' ', 'ผู้', 'บัญชา', 'การ', 'กอง', 'กำลังบูรพา', ' ', 'เปิดเผย', 'ว่า', ' ', 'การ', 'ดูแลรักษา', 'ความ', 'ปลอด', 'ภัย', 'ใน', 'วัน', 'นี้', ' ', 'ได้', 'มี', 'การ', 'สนธิ', 'กำลัง', 'จาก', 'ฝ่าย', 'ทหาร', ' ', 'ตำรวจ', ' ', 'และ', ' ', 'พลเรือน', ' ', 'โดย', 'ทาง', 'กอง', 'กำลัง', 'บูรพา', 'ได้', 'จัด', 'กำลัง', 'จาก', 'กรมทหาร', 'พราน', 'ที่', ' 12', ' ', 'กรมทหารพราน', 'ที่', ' ', '13', ' ', 'และ', ' ', 'มณฑล', 'จังหวัด', 'ทหารบกสระแก้ว', ' ', 'เพื่อ', 'ดูแล', 'ตั้งแต่', 'บริเวณ', 'ด่านพรมแดนคลองลึก', ' ', 'จน', 'ถึง', ' ', 'รร._', 'อินโดจีน', ' ', 'อ. อรัญประเทศ', ' ', 'จ. สระแก้ว', ' ', 'พล.ต.', ' วลิต', ' ', 'กล่าว', 'อีก', 'ว่า', ' ', 'การ', 'ดูแลรักษา', 'ความ', 'ปลอด', 'ภัย', 'วัน', 'นี้', 'ไม่', 'น่า', 'เป็นห่วง', ' ', 'และ', 'เชื่อ', 'ว่า', 'สถานการณ์', 'จะ', 'ไม่', 'เกิด', 'ความ', 'รุนแรง', 'หรือ', 'ยุ่งยาก', ' ', 'ส่วน', 'การ', 'เรียกร้อง', 'ของ', 'ธรรม', 'ญาติ', 'ตา', 'ใน', 'วัน', 'นี้', 'ก็', 'ไม่', 'ได้', 'มี', 'การ', 'อะไร', 'รุนแรง', ' ', 'เนื่อง', 'จาก', 'กลุ่ม', 'ดัง', 'กล่าว', 'นำ', 'เอกสาร', 'มา', 'ยื่น', 'ให้', 'ตน', 'นำ', 'เรียน', 'ต่อ', 'ที่', 'ประชุม', 'คณะ', 'กรรมการ', 'ชาย', 'แดน', 'ไทย', ' ', '-', ' ', 'กัมพูชา', ' ', 'สมัย', 'วิสามัญ', 'กรณี', 'พิเศษ', 'เท่า', 'นั้น', ' ', 'รายงาน', 'ข่าว', 'แจ้ง', 'ว่า', ' ', 'จาก', 'การ', 'ที่', 'มี', 'เจ้าหน้าที่', 'ทหาร', 'พราน', 'และ', 'ตำรวจ', ' ', 'เข้า', 'ไป', 'ดูแล', 'พื้นที่', 'บริเวณ', 'หน้า', 'ด่านพรมแดนอรัญประเทศ', ' ', 'จำนวน', 'มาก', 'ทำ', 'ให้', 'พ่อค้า', ' ', 'แม่ค้า', ' ', 'ชาว', 'กัมพูชา', 'และ', 'ประชาชน', 'ชาว', 'กัมพูชา', ' ', 'ใน', 'ตลาด', 'โรง', 'เกลือ', 'และ', 'ฝั่ง', 'ปอยเปต', ' ', 'ประเทศกัมพูชา', 'รวม', 'ถึง', 'พนักงาน', 'บ่อน', 'กาสิโนฝั่ง', 'ปอยเปต', ' ', 'ซึ่ง', 'เป็น', 'ชาว', 'ไทย', ' ', 'เกิด', 'ความ', 'แตกตื่น', 'คิด', 'ว่า', 'ทางการ', 'ไทย', 'เตรียม', 'ปิด', 'ด่าน', 'พรมแดนอรัญประเทศ', ' ', 'ทำ', 'ให้', 'พ่อค้า', ' ', 'แม่ค้า', ' ', 'ชาว', 'เขมร', 'หลาย', 'ราย', 'กลัว', 'จัด', 'รีบ', 'ขน', 'ของ', 'และ', 'สินค้า', 'ของ', 'ตน', 'เอง', 'บาง', 'ส่วน', 'ใน', 'ตลาด', 'โรง', 'เกลือ', ' ', 'กลับ', 'ไป', 'ฝั่ง', 'กัมพูชา', ' ', 'ส่วน', 'พนักงาน', 'บ่อน', ' ', 'ฯ', ' ', 'ต้อง', 'โทรศัพท์', 'สอบถาม', 'กัน', 'ให้', 'วุ่น', 'ทำ', 'ให้', ' ', 'จนท.', ' ', 'ต้อง', 'รีบ', 'ประชาสัมพันธ์', 'ว่า', 'ไม่', 'ได้', 'มี', 'การ', 'ปิด', 'ด่านการ', 'ที่', 'ส่ง', ' ', 'จนท.', ' ', 'มา', 'มาก', 'เนื่อง', 'จาก', 'ต้องการ', 'มา', 'รักษา', 'ความ', 'ปลอด', 'ภัย', 'ให้', 'กับ', ' ', 'จนท.', ' ', 'ระดับ', 'สูง', 'ของ', 'กัมพูชา', ' ', 'จึง', 'ทำ', 'ให้', 'ชาว', 'กัมพูชา', 'คลาย', 'วิตกลง', 'ได้', ' ', 'แต่', 'ยังคง', 'มี', 'บาง', 'ส่วน', 'ยัง', 'ไม่', 'มั่นใจ', ' ', 'ยังคง', 'เดินทาง', 'กลับ', 'เข้า', 'ประเทศ', ' ', 'มี', 'ข้อ', 'เสนอ', ' ', '\"', ' ', 'ห้าม', 'ยิง', 'เพิ่ม', 'กำลัง', 'ทหาร', 'การ', 'เมือง', 'ห้าม', 'ยุ่ง', ' ', '\"', ' ', 'สำหรับ', 'บรรยาย', 'การ', 'ประชุม', 'ใน', 'การ', 'หารือ', 'กัน', 'นอก', 'รอบ', 'นั้น', ' ', 'ได้', 'ใช้', 'เวลา', 'หารือ', 'กัน', 'นาน', 'กว่า', 'ที่', 'ได้', 'กำหนด', 'ใน', 'ช่วง', 'เช้า', 'ประมาณ', ' ', '3', ' ', 'ชั่วโมง', ' ', 'และ', 'ใน', 'ช่วง', 'บ่าย', 'เริ่ม', 'ประชุม', 'เหลือ', 'ฝ่าย', 'ละ', ' ', '3', ' ', 'คน', ' ', 'ประกอบ', 'ด้วย', ' ', 'พล.อ. ', 'บุญ', 'สร้าง', ' ', 'พล.อ.', ' ', 'อนุพงษ์', ' ', 'และ', 'นายวีระศักดิ์', ' ', 'ส่วน', 'ฝ่าย', 'กัมพูชา', 'ประกอบ', 'ด้วย', ' ', 'พล.อ.', ' เตีย บันห์', ' ', 'พล.อ.', ' ', 'เนียง', ' ', 'พาด', ' ', 'นาย', ' ลอง วิสาโล', ' ', 'ทำ', 'ให้', 'การ', 'ประชุม', 'ต้อง', 'ยืดเยื้อ', 'ออก', 'ไป', 'เพราะ', 'ยัง', 'ไม่', 'ได้', 'ข้อ', 'สรุป', 'ที่', 'แน่ชัด', ' ', 'ดัง', 'นั้น', 'กำหนดการ', 'ต่าง ', 'ๆ', ' ', 'จึง', 'ต้อง', 'เลื่อน', 'ไป', 'อย่าง', 'ไม่', 'มี', 'กำหนด', ' ', 'รายงาน', 'ข่าว', 'แจ้ง', 'ว่า', ' ', 'ใน', 'ที่', 'ประชุม', 'ได้', 'มี', 'การ', 'หารือ', 'โดย', 'ได้', 'เสนอ', 'ใน', ' ', '3', ' ', 'ประเด็น', ' ', 'คือ', ' ', '1', '.', ' ', 'ห้าม', 'ยิง', ' ', '2', '.', ' ', 'ห้าม', 'เพิ่ม', 'กำลัง', 'ทหาร', 'ทั้ง', ' ', '2', ' ', 'ฝ่าย', ' ', 'และ', ' ', '3', '.', ' ', 'ห้าม', 'นำ', 'ผล', 'การ', 'ประชุม', 'ไป', 'เป็น', 'ประเด็น', 'การ', 'เมือง', ' ', 'ผล', 'การ', 'ถก', 'นอก', 'รอบ', ' ', '\"', ' ', 'มุ่ง', 'ลด', 'อุณหภูมิ', 'ความ', 'ตึงเครียด', ' ', '\"', ' ', 'หลัง', 'หารือ', 'นอก', 'รอบ', 'ใช้', 'เวลา', 'ประมาณ', ' ', '8', ' ', 'ชั่วโมง', 'ได้', 'ยุติ', 'ลง', 'เมื่อ', 'เวลา', 'ประมาณ', ' ', '18', '.', '15', ' ', 'น.', ' ', 'พล.อ. เตีย บันห์', ' ', 'และ', ' ', 'พล.อ. ', 'บุญ', 'สร้าง', 'พร้อม', 'คณะ', 'ได้', 'ร่วม', 'กัน', 'แถลง', 'ข่าว', ' ', 'โดย', ' ', 'พล.อ. เตีย บันห์', ' ', 'กล่าว', 'ว่า', ' ', 'ที่', 'ประชุม', 'ได้', 'ข้อ', 'สรุป', 'ว่า', ' ', 'ต้อง', 'พยายาม', 'ให้', 'หลีกเลี่ยง', 'การ', 'เผชิญ', 'หน้า', ' ', 'ไม่', 'ให้', 'เกิด', 'ความ', 'รุนแรง', ' ', 'ส่วน', 'ที่', 'อุณหภูมิ', 'ความ', 'ตึงเครียด', ' ', 'ยัง', 'ไม่', 'ลด', 'ลง', ' ', 'ทั้ง', 'สอง', 'ฝ่าย', 'ก็', 'อยาก', 'ให้', 'อุณหภูมิ', 'ลด', 'ลง', ' ', '\"', ' ', 'การ', 'หารือ', 'ต่าง', ' ', 'ๆ', ' ', 'ได้', 'ข้อ', 'ยุติ', 'เป็น', 'ส่วน', 'ใหญ่', 'แล้ว', ' ', 'ติด', 'แค่', 'ข้อ', 'กฏหมาย', 'เท่า', 'นั้น', ' ', 'ทำ', 'ให้', 'การ', 'ประชุม', 'คณะ', 'กรรมการ', 'ชาย', 'แดน', 'ทั่วไป', ' ', '(', ' ', 'จีบีซี', ' ', ')', ' ', 'ไทย', ' ', '-', ' ', 'กัมพูชา', ' ', 'สมัย', 'วิสามัญ', ' ', 'เริ่ม', 'ขึ้น', 'ไม่', 'ได้', ' ', '\"', ' ', 'พล.อ. เตีย บันห์', ' ', 'กล่าว', ' ', 'และ', 'ว่า', 'อยาก', 'จะ', 'บอก', 'ด้วย', 'ความ', 'จริงใจ', 'ว่า', ' ', 'หลาย', 'วัน', 'ที่', 'ผ่าน', 'มา', ' ', 'เหตุการณ์', 'ที่', 'เขา', 'พระวิหาร', 'ทั้ง', 'สอง', 'ฝ่าย', 'เป็นห่วง', ' ', 'ซึ่ง', 'ตน', 'ใช้', 'คำ', 'ว่า', 'อุณหภูมิ', 'เพิ่ม', 'ขึ้น', ' ', 'จึง', 'อยาก', 'ให้', 'ทุก', 'อย่าง', 'จบ', 'ด้วย', 'ความ', 'ราบรื่น', ' ', 'สิ่ง', 'ที่', 'ทั้ง', 'สอง', 'ฝ่าย', 'หารือ', 'กัน', ' ', 'แม้', 'ใช้', 'เวลา', 'นาน', ' ', 'แต่', 'ทั้ง', 'สอง', 'ฝ่าย', 'ได้', 'ผล', 'ที่', 'พอใจ', ' ', 'แต่', 'ผล', 'เหล่า', 'นั้น', 'ยัง', 'นำ', 'ไป', 'ปฏิบัติ', 'เป็น', 'รูปธรรม', 'ไม่', 'ได้', ' ', 'เนื่อง', 'จาก', 'ขัด', 'ต่อ', 'ข้อ', 'กฏหมาย', 'บาง', 'ประการ', ' ', 'ต้อง', 'ส่ง', 'เรื่อง', 'ไป', 'หารือ', 'กับ', 'รัฐบาล', ' ', 'ทั้ง', 'สอง', 'ฝ่าย', 'เข้าใจ', 'กัน', 'ใน', 'จุด', 'นี้', ' ', 'และ', 'สิ่ง', 'ที่', 'จะ', 'ทำ', 'ต่อ', 'ไป', 'ก็', 'คือ', ' ', 'จะ', 'ทำ', 'สิ่ง', 'ที่', 'ควร', 'จะ', 'ทำ', ' ', 'พล.อ. ', 'บุญสร้าง', 'กล่าว', 'ว่า', ' ', 'เบื้อง', 'ต้น', 'ทั้ง', 'สอง', 'ฝ่าย', ' ', 'จะ', 'ให้', 'ทหาร', 'ให้', 'อยู่', 'กับ', 'ที่', 'ของ', 'แต่ละ', 'ฝ่าย', ' ', 'และ', 'ไม่', 'มี', 'การ', 'ใช้', 'ความ', 'รุนแรง', ' ', 'ไม่', 'ใช้', 'อาวุธ', ' ', 'ส่วน', 'เรื่อง', 'ข้อ', 'กฏหมาย', 'ที่', 'ติดขัด', ' ', 'ต้อง', 'ถาม', 'นัก', 'กฏหมาย', ' ', 'เมื่อ', 'ถาม', 'ว่า', ' ', 'บันทึก', 'ความ', 'ตกลง', 'เมื่อ', 'ปี', ' ', '2543', ' ', 'ได้', 'ยก', 'มา', 'หารือ', 'หรือ', 'ไม่', ' ', 'ผบ.', ' ', 'สส.', ' ', 'กล่าว', 'ว่า', ' ', 'นำ', 'มา', 'หารือ', ' ', 'ต่อ', 'ข้อ', 'ถาม', 'ว่า', ' ', 'การ', 'หารือ', 'ครั้ง', 'นี้', 'ล้มเหลว', 'หรือ', 'ไม่', ' ', 'พล.อ. ', 'บุญ', 'สร้าง', 'ว่า', ' ', 'ไม่', 'ได้', 'ล้มเหลว', ' ', 'ได้', 'อะไร', 'มาก', ' ', 'ได้', 'ประโยชน์', ' ', 'แต่', 'ไม่', 'ได้', 'ข้อ', 'เสนอ', 'ที่', 'จะ', 'ไป', 'เสนอ', 'รัฐบาล', 'เท่า', 'นั้น', ' ', 'เพราะ', 'ต่าง', 'คน', 'ต่าง', 'รู้', 'ว่า', 'จุดยืน', 'แต่ละ', 'ฝ่าย', 'เป็น', 'อย่าง', 'ไร', ' ', 'และ', 'ติด', 'ข้อ', 'กฏหมาย', ' ', 'จึง', 'นำ', 'ไป', 'สู่', 'รูปธรรม', 'ไม่', 'ได้', ' ', 'และ', 'จะ', 'ประชุม', 'อีก', 'ครั้ง', ' ', 'หลัง', 'นำ', 'ผล', 'หารือ', 'ไป', 'แจ้ง', 'รัฐบาล', ' ', 'ว่า', 'ผล', 'หารือ', 'เป็น', 'อย่าง', 'ไร', ' ', 'ติดขัด', 'อะไร', ' ', 'หลัง', 'จาก', 'แถลง', 'ข่าว', 'เสร็จ', ' ', 'พล.อ.', ' เตีย บันห์', 'และ', 'คณะ', 'ได้', 'เดินทาง', 'กลับ', 'ประเทศกัมพูชา', ' ', 'ขณะ', 'ที่', ' ', 'พล.อ. ', 'บุญสร้าง', 'ยังคง', 'ถูก', 'นัก', 'ข่าวไทย', 'สอบถาม', 'ต่อ', 'ใน', 'รายละเอียด', ' ', 'ปลัด', 'บัวแก้ว', 'ไม่', 'ตอบ', 'ข้อ', 'กฎหมาย', 'ที่', 'ติดขัด', ' ', 'นายวีระศักดิ์ ฟูตระกูล', ' ', 'ปลัด', 'กระทรวงการต่างประเทศ', ' ', 'ปฏิเสธ', 'ที่', 'จะ', 'ตอบ', 'คำ', 'ถาม', 'สื่อ', 'มวล', 'ชน', 'เกี่ยว', 'กับ', 'ข้อ', 'กฏหมาย', ' ', 'ที่', 'ไทย', ' ', '-', ' ', 'กัมพูชา', ' ', 'ยัง', 'ตกลง', 'กัน', 'ไม่', 'ได้', ' ', 'ใน', 'การ', 'ประชุม', 'กลุ่ม', 'ย่อย', 'เพื่อ', 'แก้', 'ปัญหา', 'ความ', 'ขัดแย้ง', 'ปราสาท', 'เขาพระวิหาร', ' ', 'โดย', 'กล่าว', 'เพียง', 'ว่า', ' ', 'ติดขัด', 'เรื่อง', 'กฏหมาย', 'ระหว่าง', 'ประเทศ', 'ที่', 'มี', 'ความ', 'ซับซ้อน', 'มาก', ' ', 'ผล', 'การ', 'ประชุม', 'ครั้ง', 'นี้', 'ตน', 'ยัง', 'ไม่', 'อยาก', 'พูด', 'ถึง', ' ', 'เพราะ', 'ต้อง', 'รายงาน', 'รัฐบาล', 'ก่อน', ' ', 'เรื่อง', 'นี้', 'ค่อนข้าง', 'ยาก', 'ใน', 'การ', 'แก้ไข', 'ปัญหา', ' ', 'และ', 'ต้อง', 'ใช้', 'เวลา', 'ใน', 'การ', 'เจรจา', 'มาก', ' ', 'ด้าน', 'นายวีรชัย พลาศรัย', ' ', 'เอกอัครราชทูต', ' ', 'ประจำ', 'กระทรวงการต่างประเทศ', ' ', 'อดีต', 'อธิบดี', 'กรมสนธิสัญญา', 'และ', 'กฏหมาย', ' ', 'ใน', 'ฐานะ', 'ที่ปรึกษา', 'กฏหมาย', 'ฝ่าย', 'ไทย', ' ', 'ก็', 'ปฏิเสธ', 'ที่', 'จะ', 'ขยาย', 'ความ', 'ถึง', 'ข้อ', 'กฏหมาย', 'ระหว่าง', 'ประเทศ', 'ที่', 'ติดขัด', ' ', 'เพราะ', 'อาจ', 'มี', 'ผล', 'ต่อ', 'การ', 'เจรจา', 'ที่', 'ยัง', 'ไม่', 'ได้', 'ข้อ', 'ยุติ', ' ', 'รวบหนุ่มนรา', ' ', 'ฯ', ' ', 'ถ่าย', 'คลิป', ' ', 'นร.', ' ', 'สาว', ' ', '3', ' ', 'คน', 'หวังแบล็คเมล์', ' ', 'สาว', ' ', '20', ' ', 'ปี', 'สุดทน', 'แจ้ง', 'ตำรวจ', ' ', 'ทหาร', 'จับ', 'หนุ่ม', 'ขาย', 'ยา', 'ลูกกลอน', 'ใช้', 'ไฟฟ้า', 'ช็อต', ' ', '-', ' ', 'มีด', 'จี้', 'คอ', ' ', 'บังคับ', 'ข่มขืนถ่าย', 'คลิป', ' ', 'วิดีโอแบล็คเมล์', 'รีด', 'เงิน', 'นาน', 'เกือบ', 'ปี', ' ', 'ค้น', 'ห้อง', 'พัก', 'พบ', 'คลิป', 'วิดีโอ', 'นัก', 'เรียน', 'สาว', 'อีก', ' ', '3', ' ', 'คน', ' ', 'และ', 'วีซีดีลามก', 'อีก', 'นับ', 'ร้อย', 'แผ่น', ' ', 'เมื่อ', 'เวลา', ' ', '21', '.', '30', ' ', 'น.', ' ', 'วัน', 'ที่', ' ', '21', ' ', 'ก.ค.', ' ', 'ที่', ' ', 'สภ. ', 'เมือง', ' ', 'จ. นราธิวาส', ' ', 'พ.ต.อ. สมพงษ์ ชิงดวง', ' ', 'รอง', ' ', 'ผบก.', ' ', 'ภ.จว.นราธิวาส', ' ', 'พ.ท. ', 'จรัญ เอี่ยมฐานนท์', ' ', 'รอง', 'ผู้', 'บังคับ', 'การ', 'กรมทหารพราน', 'ที่', ' ', '45', ' ', 'ได้', 'เดินทาง', 'มา', 'ร่วม', 'แถลง', 'ข่าว', 'การ', 'จับกุม', 'ตัว', ' ', 'นายโมหำหมัดซอรี สะมะแอ', ' ', 'อายุ', ' ', '39', ' ', 'ปี', ' ', 'อาชีพ', 'ขาย', 'ยา', 'ลูกกลอน', ' ', 'อยู่', 'บ้าน', 'เลข', 'ที่', ' ', '30', ' ', 'ซอยปอฮงกือ', 'ปัส ', '1', ' ', 'ถนนจารุเสถียร', ' ', 'ต.', ' ', 'ปะลุรู', ' ', 'อ. สุไหงปาดี', ' ', 'จ. นราธิวาส', ' ', 'ผู้', 'ต้อง', 'หา', 'ข่มขืน', ' ', 'บังคับ', 'ขู่เข็ญ', ' ', 'กรรโชกทรัพย์', ' ', 'พ.ต.อ. สมพงษ์', ' ', 'เปิดเผย', 'ว่า', ' ', 'ก่อน', 'การ', 'วาง', 'แผน', 'จับกุม', 'ผู้', 'ต้อง', 'หา', 'ครั้ง', 'นี้', ' ', 'สืบเนื่อง', 'จาก', 'ทาง', 'ตำรวจ', 'ได้', 'รับ', 'แจ้ง', 'เบาะแส', 'จาก', ' ', 'น.ส. ', 'ส้ม', ' ', '(', ' ', 'นาม', 'สมมติ', ' ', ')', ' ', 'อายุ', ' ', '20', ' ', 'ปี', ' ', 'ว่า', 'ได้', 'ถูก', 'นายโมหำหมัด', ' ', 'บังคับ', 'ข่มขืน', 'และ', 'ถ่าย', 'คลิป', 'วิดีโอ', 'เอา', 'ไว้', 'ขณะ', 'ที่', 'กำลัง', 'มี', 'เพศสัมพันธ์', 'เพื่อ', 'รีดไถ', 'ทรัพย์สิน', ' ', 'ต่อ', 'มา', 'นายโมหำหมัด', 'ก็', 'ได้', 'ใช้', 'คลิป', 'วิดีโอ', 'ดัง', 'กล่าว', 'เป็น', 'เครื่องมือ', 'ใน', 'การ', 'บังคับ', 'ขู่เข็ญ', 'เพื่อ', 'จะ', 'ขอ', 'ร่วม', 'เพศ', 'อีก', ' ', 'รวม', 'ไป', 'ถึง', 'การ', 'กรรโชก', 'ทรัพย์', ' ', 'เป็น', 'เวลา', 'เกือบ', ' ', '1', ' ', 'ปี', ' ', '\"', ' ', 'นอก', 'จาก', 'นี้', 'นายโมหำหมัด', 'ยัง', 'ได้', 'ข่มขู่', 'อีก', 'ว่า', 'หาก', 'ไม่', 'ยินยอม', 'ก็', 'จะ', 'นำ', 'คลิป', 'วิดีโอ', 'ออก', 'มา', 'เผยแพร่', 'เพื่อ', 'ประจาน', 'ให้', 'อับอาย', ' ', '\"', ' ', 'พ.ต.อ. สมพงษ์', ' ', 'กล่าว', ' ', 'และ', 'ว่า', 'กระทั่ง', 'ต่อ', 'มา', 'ทาง', 'ตำรวจ', 'ได้', 'ให้', 'ผู้', 'เสียหาย', 'นัด', 'แนะ', 'กับ', 'นายโมหำหมัด', ' ', 'ให้', 'ออก', 'มา', 'พบ', 'ใน', ' ', 'อ. ', 'เมือง', ' ', 'จ. นราธิวาส', ' ', 'จาก', 'นั้น', 'เด็ก', 'นัก', 'เรียน', 'หญิง', 'ก็', 'ขึ้น', 'ไป', 'นั่ง', 'ซ้อน', 'ท้าย', ' ', 'รถ', 'จักรยาน', 'ยนต์', 'ของ', 'ผู้', 'ต้อง', 'หา', ' ', 'ระหว่าง', 'ผ่าน', 'จุด', 'ตรวจ', 'จุด', 'สกัด', 'ตำบลมะนังตายอ', ' ', 'อ. ', 'เมือง', ' ', 'จ. นราธิวาส', ' ', 'ทาง', 'ตำรวจ', 'ซึ่ง', 'ได้', 'มี', 'การ', 'วาง', 'แผน', 'ไว้', 'ตั้งแต่', 'ต้น', 'จึง', 'ได้', 'เรียก', 'ให้', 'หยุด', 'รถ', 'และ', 'ได้', 'เข้า', 'จับกุม', 'ทันที', ' ', 'พ.ต.อ. สมพงษ์', ' ', 'กล่าว', 'อีก', 'ว่า', ' ', 'เมื่อ', 'ค้น', 'ตัว', 'ผู้', 'ต้อง', 'หา', 'พบ', 'เครื่องช็อต', 'ไฟฟ้า', ' ', '1', ' ', 'อัน', ' ', 'อาวุธ', 'ปืน', 'ปลอม', ' ', '1', ' ', 'กระบอก', ' ', 'โทรศัพท์', 'มือถือ', ' ', 'และ', 'ได้', 'นำ', 'ตัว', 'นายโมหำหมัด', ' ', 'ไป', 'ตรวจ', 'ค้น', 'ที่', 'บ้าน', 'พัก', 'ซึ่ง', 'เป็น', 'บ้าน', 'เช่า', 'ข้าง', 'โรง', 'เรียนเทศบาล', ' ', '6', ' ', 'เขตเทศบาลเมืองนราธิวาส', ' ', 'พบ', 'คลิปวีดีโอ', ' ', 'ของ', ' ', 'น.ส.', ' ', 'ส้ม', ' ', 'ผู้', 'เสียหาย', ' ', 'และ', 'พบ', 'คลิป', 'วิดีโอ', 'ของ', 'ผู้', 'เสียหาย', 'จำนวน', ' ', '3', ' ', 'ราย', ' ', 'ซึ่ง', 'เป็น', 'นัก', 'เรียน', 'หญิง', ' ', 'อายุ', ' ', '16', ' ', 'ปี', ' ', 'กำลัง', 'ศึกษา', 'อยู่', 'ที่', 'โรง', 'เรียน', 'แห่ง', 'หนึ่ง', 'ใน', ' ', 'จ. นราธิวาส', ' ', 'นอก', 'จาก', 'นี้', 'ยัง', 'พบ', 'วีซีดีลามก', ' ', 'อีก', ' ', '100', ' ', 'แผ่น', ' ', 'และ', 'ยา', 'ปลุก', 'เซ็กส์', ' ', 'จำนวน', 'มาก', ' ', 'จึง', 'ได้', 'ทำ', 'การ', 'จับกุม', 'และ', 'แจ้ง', 'ข้อ', 'กล่าวหา', 'ว่า', 'ข่มขืน', 'กระทำ', 'ชำเรา', 'ผู้', 'อื่น', 'โดย', 'ขู่เข็ญ', 'ด้วย', 'ประการ', 'ใด', ' ', 'ๆ', ' ', 'โดย', 'ผู้', 'อื่น', 'นั้น', 'อยู่', 'ใน', 'ภาวะ', 'ที่', 'ไม่', 'สามารถ', 'ขัดขืน', 'ได้', ' ', 'ตาม', 'หมาย', 'จับ', 'ที่', ' ', '588', '/', '2551', ' ', 'ลง', 'วัน', 'ที่', ' ', '21', ' ', 'ก.ค.', ' ', '2551', ' ', 'ส่ง', 'พนักงาน', 'สอบสวน', ' ', 'สภ. เมืองนราธิวาส', ' ', 'ดำเนิน', 'การ', 'ใน', 'ส่วน', 'ที่', 'เกี่ยวข้อง', 'ต่อ', 'ไป', ' ', 'ต่อ', 'มา', 'ได้', 'มี', ' ', 'น.ส.', ' ', 'แดง', ' ', '(', ' ', 'นาม', 'สมมุติ', ' ', ')', ' ', 'อายุ', ' ', '16', ' ', 'ปี', ' ', 'และ', ' ', 'น.ส. ', 'ดำ', ' ', '(', ' ', 'นาม', 'สมมุติ', ' ', ')', ' ', 'อายุ', ' ', '16', ' ', 'ปี', ' ', 'ผู้', 'เสียหาย', 'เดินทาง', 'มา', 'ชี้', 'ตัว', 'ว่า', 'ถูก', ' ', 'นายโมหำหมัด', ' ซอรีข่มขืน', ' ', 'อีก', ' ', 'ทั้ง', 'ยัง', 'ได้', 'ให้การ', 'เพิ่มเติม', 'ว่า', ' ', 'ก่อน', 'ที่', 'จะ', 'ถูก', 'ข่มขืน', 'นายโมหำหมัด', ' ซอรี', ' ', 'จะ', 'ใช้', 'เครื่องช็อต', 'ไฟฟ้า', 'จี้', 'ตัว', ' ', 'รวม', 'ทั้ง', 'ใช้', 'มีด', 'จี้', 'คอ', ' ', 'หาก', 'พวก', 'ตน', 'ขัดขืน', 'ไม่', 'ยอม', 'มี', 'เพศสัมพันธ์', 'แต่', 'โดย', 'ดี', ' ', 'ทั้งนี้', 'ผู้', 'เสียหาย', 'ราย', 'ใด', 'ที่', 'เคย', 'ถูก', 'กระทำ', 'ชำเรา', 'กรณี', 'ดัง', 'กล่าว', 'ให้', 'มา', 'ดู', 'ตัว', 'ผู้', 'ต้อง', 'หา', 'ได้', 'ที่', ' ', 'สภ. ', 'เมืองนราธิวาส', ' ', 'ใน', 'ที่สุด', ' ', 'นายโมหำหมัด ซอรี', 'ได้', 'รับ', 'สารภาพ', 'ว่า', 'ได้', 'ข่มขืน', 'ผู้', 'เสียหาย', 'จริง', ' ', 'ทาบ', ' ', '\"', ' ', 'น้อง', 'แก้ม', ' ', '\"', ' ', 'โปรโมทมวยไทย', ' ', 'ชุด', 'มวย', 'ไทย', ' ', 'และ', 'ลีลา', 'มวย', 'ไทย', 'เข้าตา', ' ', 'กระทรวงการท่องเที่ยว', 'และกีฬา', ' ', 'ทาบ', ' ', '\"', ' ', 'น้อง', 'แก้ม', ' ', '\"', ' ', 'กวินตรา โพธิจักร', ' ', 'มิสไทยแลนด์ยูนิเวิร์ส', ' ', 'ซึ่ง', 'เพิ่ง', 'คว้า', 'รางวัล', 'ชุด', 'แต่ง', 'กาย', 'ประจำ', 'ชาติ', 'ยอดเยี่ยม', 'ใน', 'การ', 'ประกวด', 'มิส', 'ยูนิเวิร์ส', ' ', 'หรือ', ' ', '\"', ' ', 'นาง', 'งาม', 'จักรวาล', ' ', '\"', ' ', 'ปี', ' ', '2008', ' ', 'ร่วม', 'เป็น', 'พรีเซ็นเตอร์', 'โปรโมท', 'กีฬา', 'มวย', 'ไทย', ' ', 'ด้าน', ' ', '\"', ' ', 'รมต.', ' ', 'กีฬา', ' ', '\"', ' ', 'วีระศักดิ์ โควสุรัตน์', ' ', 'สั่ง', 'นาย', 'ทะเบียน', 'เอาจริง', ' ', 'ใคร', 'ล้มมวย', ' ', 'ดำเนินการ', 'ตาม', 'พระราชบัญญัติ', 'กีฬา', 'มวย', ' ', '2542', ' ', 'ทันที', ' ', 'นายวีระศักดิ์ โควสุรัตน์', ' ', 'รัฐมนตรี', 'ว่าการ', 'กระทรวงการท่องเที่ยว', 'และกีฬา', ' ', 'เป็น', 'ประธาน', 'การ', 'ประชุม', 'คณะ', 'กรรมการกีฬา', 'มวย', ' ', 'ที่', 'ห้อง', 'ประชุม', 'กระทรวงการท่องเที่ยว', 'และกีฬา', ' ', 'ถ.ราชดำเนิน', ' ', 'เมื่อ', 'วัน', 'ที่', ' ', '21', ' ', 'กรกฎาคม', ' ', 'ที่', 'ผ่าน', 'มา', ' ', 'หลัง', 'การ', 'ประชุม', ' ', 'นายวีระศักดิ์', ' ', 'เปิดเผย', 'ว่า', ' ', 'คณะกรรมการกีฬา', 'มวย', 'มี', 'มติ', 'ว่า', 'ที่', 'จะ', 'ดำเนินการ', 'เรื่อง', 'การ', 'ล้ม', 'มวย', ' ', 'ตาม', 'พระราชบัญญัติ', 'กีฬามวย', ' ', 'พ.ศ.', ' ', '2542', ' ', 'อย่าง', 'จริงจัง', ' ', 'โดย', 'นายสันติ ภู่ขวัญเมือง', ' ', 'ผอ.', ' ', 'สำนักงานคณะกรรมการกีฬา', 'มวย', ' ', 'ซึ่ง', 'ทำ', 'หน้าที่', 'นาย', 'ทะเบียน', ' ', 'มี', 'หน้าที่', 'ตาม', 'พระราชบัญญัติ', 'โดย', 'ตรง', ' ', 'ซึ่ง', 'ตน', 'ทราบ', 'มา', 'ว่า', ' ', 'วงการ', 'กีฬา', 'มวย', 'ใน', 'ขณะ', 'นี้', 'กำลัง', 'มี', 'ปัญหา', 'เรื่อง', 'การ', 'ล้ม', 'มวย', 'พอสมควร', ' ', 'ดัง', 'นั้น', ' ', 'กฎหมาย', 'ตาม', 'พระราชบัญญัติ', 'กีฬามวย', ' ', 'พ.ศ.', ' ', '2542', ' ', 'สามารถ', 'ดำเนินการ', 'กับ', 'ผู้', 'กระทำ', 'ผิด', 'ได้', 'ทันที', ' ', 'รมต.', ' ', 'กีฬา', ' ', 'กล่าว', 'ถึง', 'การ', 'ประกวด', 'มิส', 'ยูนิเวิร์ส', ' ', 'หรือ', ' ', '\"', ' ', 'นาง', 'งาม', 'จักรวาล', ' ', '\"', ' ', 'ประจำ', 'ปี', ' ', '2008', ' ', 'ซึ่ง', 'เป็น', 'การ', 'ประกวด', 'ครั้ง', 'ที่', ' ', '57', ' ', 'ที่', 'ประเทศเวียดนาม', 'เมื่อ', 'วัน', 'ที่', ' ', '14', ' ', 'กรกฎาคม', ' ', 'ที่', 'ผ่าน', 'มา', ' ', 'โดย', ' ', '\"', ' ', 'น้อง', 'แก้ม', ' ', '\"', ' ', 'กวินตรา โพธิจักร', ' ', 'มิสไทยแลนด์ยูนิเวิร์ส', ' ', 'สามารถ', 'คว้า', 'รางวัล', 'ชุด', 'แต่ง', 'กาย', 'ประจำ', 'ชาติ', 'ยอดเยี่ยม', ' ', 'ที่', 'มี', 'ชื่อ', 'ว่า', ' ', '\"', ' ', 'สปิริต', ' ', 'ออฟ', ' ', 'ไฟติ้ง', ' ', '\"', ' ', 'โดย', ' ', '\"', ' ', 'น้อง', 'แก้ม', ' ', '\"', ' ', 'นำ', 'เสนอ', 'ความ', 'งดงาม', 'ของ', 'หญิง', ' ', 'และ', 'ความ', 'แกร่ง', 'กล้า', 'ของ', 'กีฬา', 'มวย', 'ไทย', 'ได้', 'อย่าง', 'ลงตัว', ' ', 'ซึ่ง', 'กระทรวงการท่องเที่ยว', 'และกีฬา', ' ', 'ได้', 'มอบหมาย', 'ให้', 'นายปรีดี โชติช่วง', ' ', 'หัวหน้า', 'ผู้', 'ตรวจ', 'ราชการ', 'กระทรวง', ' ', 'เป็น', 'ผู้', 'ทาบทาม', ' ', '\"', ' ', 'น้อง', 'แก้ม', ' ', '\"', ' ', 'เป็น', 'พรีเซ็นเตอร์', 'ร่วม', 'โปรโมท', 'กีฬา', 'มวย', 'ไทย', ' ', 'และ', 'กีฬา', 'อื่น', 'ของ', 'ไทย', ' ', 'ใน', 'ขณะ', 'ที่', 'เรื่อง', 'ของ', 'การ', 'ท่องเที่ยว', 'นั้น', ' ', 'มิส', 'ไทยแลนด์ยูนิเวิร์ส', 'ทุก', 'คน', 'มี', 'หน้าที่', 'อยู่แล้ว', ' ', 'โดย', ' ', '\"', ' ', 'น้อง', 'แก้ม', ' ', '\"', ' ', 'ปัจจุบัน', 'อายุ', ' ', '22', ' ', 'ปี', ' ', 'เกิด', 'ที่', ' ', 'จ. หนองคาย', ' ', 'ศึกษา', 'อยู่', 'ชั้น', 'ปี', 'ที่', ' ', '2', ' ', 'คณะนิเทศศาสตร์', ' ', 'สาขา', 'ประชาสัมพันธ์ ', 'มหาวิทยาลัยกรุงเทพ', ' ', 'ส่วน', 'เรื่อง', 'ของ', 'กีฬา', 'นั้น', 'เคย', 'เป็น', 'นัก', 'กีฬา', 'เยาวชน', 'วอลเลย์', 'บอล', 'ของ', ' ', 'จ. หนองคาย', ' ', 'มา', 'แล้ว', ' ', 'นอก', 'จาก', 'นี้', ' ', 'คณะกรรมการกีฬามวย', ' ', 'กำลัง', 'จะ', 'รวบรวม', 'สถาบัน', 'สอน', 'มวย', 'ไทย', 'ใน', 'ประเทศไทย', 'ที่', 'ได้', 'มาตรฐาน', ' ', 'โดย', ' ', 'นายสมชาติ เจริญวัชรวิทย์ ', 'นายก', 'สมาคมกีฬา', 'มวย', 'อาชีพแห่งประเทศไทย', ' ', 'ซึ่ง', 'มี', 'ข้อมูล', 'ทั้งหมด', ' ', 'ดำเนิน', 'การ', 'คัดเลือก', 'สถาบัน', ' ', 'นำ', 'มา', 'เป็น', 'ข้อมูล', 'บรรจุ', 'ลง', 'ใน', 'เว็บไซต์', 'ของ', 'การ', 'ท่องเที่ยวแห่งประเทศไทย', ' ', '(', ' ', 'ททท.', ' ', ')', ' ', 'และ', 'การ', 'กีฬาแห่งประเทศไทย', ' ', '(', ' ', 'กกท.', ' ', ')', ' ', 'เพื่อ', 'ให้', 'ชาว', 'ไทย', 'และ', 'ชาว', 'ต่าง', 'ชาติ', 'ที่', 'จะ', 'สนใจ', 'จะ', 'เรียน', 'มวย', 'ไทย', 'ได้', 'รับ', 'ทราบ', 'ข้อมูล', 'มาก', 'ยิ่ง', 'ขึ้น', ' ', 'สำหรับ', 'การ', 'จัด', 'การ', 'แข่งขัน', 'มหกรรม', 'กีฬา', 'ศิลปะ', 'การ', 'ต่อสู้', 'แห่ง', 'เอเชีย', ' ', '\"', ' ', 'เอเชี่ยนมาร์เชียล อาร์ท', ' ', 'เกมส์', ' ', '\"', ' ', 'ครั้ง', 'ที่', ' ', '1', ' ', 'ซึ่ง', 'ประเทศไทย', 'ยืนยัน', 'ความ', 'พร้อม', 'ต่อ', 'สภา', 'โอลิมปิก', 'แห่ง', 'เอเชีย', ' ', '(', ' ', 'โอซีเอ', ' ', ')', ' ', 'พร้อม', 'รับ', 'เป็น', 'เจ้าภาพ', 'ใน', 'ปี', ' ', '2009', ' ', 'นั้น', ' ', 'คณะ', 'กรรมการกีฬา', 'มวย', 'เห็น', 'ชอบ', 'ให้', 'ไทย', 'รับ', 'เป็น', 'เจ้าภาพ', ' ', 'นอก', 'จาก', 'นี้', ' ', 'ยัง', 'รับ', 'ทราบ', 'การ', 'จัดการ', 'แข่งขัน', 'มวย', 'ไทย', 'สมัคร', 'เล่น', 'นานา', 'ชาติ', ' ', 'เทิด', 'พระเกียรติ', ' ', 'สมเด็จพระบรมโอรสาธิราชฯสยามมกุฎราชกุมาร', 'ครั้ง', 'ที่', ' ', '10', ' ', 'แข่งขัน', 'วัน', 'ที่', ' ', '29', ' ', 'กรกฎาคม', ' ', '-', ' ', '2', ' ', 'สิงหาคม', ' ', 'ที่', 'อินดอร์ สเตเดี้ยม', ' หัวหมาก', ' ', 'กกท.', ' ', 'โดย', 'มี', 'นัก', 'ชก', 'ชาย', ' ', '-', ' ', 'หญิง', ' ', 'จาก', 'ทั่ว', 'โลก', 'เข้า', 'ร่วม', 'การ', 'แข่งขัน', 'ทั้งหมด', ' ', '24', ' ', 'ประเทศ', ' ', '\"', ' ', 'สุรชัย สมบัติ', 'เจริญ', ' ', '\"', ' ', 'บุก', 'ตื้บ', 'ดีเจ', ' ', 'FM', ' ', '95', ' ', 'น่วมคา', 'สถานี', ' ', '\"', ' ', 'วาสุ เลิศจรรยา', ' ', '\"', ' ', 'ดีเจ', ' ', '.', ' ', 'ลูกทุ่ง', 'ชื่อ', 'ดัง', ' ', 'FM', ' ', '95', ' ', 'โล่', 'ขึ้น', 'โรง', 'พัก', 'แจ้ง', 'ความ', 'เอา', 'ผิด', ' ', '\"', ' ', 'สุรชัย สมบัติ', 'เจริญ', ' ', '\"', ' ', 'นัก', 'ร้อง', 'ลูกทุ่งเลือด', 'ร้อน', ' ', 'หลัง', 'บุก', 'เข้า', 'ไป', 'ใน', 'สถานีวิทยุ ', 'อสมท.', ' ', 'ใช้', 'กำปั้น', ' ', '-', ' ', 'เท้า', 'ตื้บ', 'จน', 'น่วม', ' ', 'คาด', 'ว่า', 'ไม่', 'พอใจ', 'เรื่อง', 'เปิด', 'สปอต', 'โฆษณา', ' ', 'ยัน', 'เอา', 'เรื่อง', 'ถึง', 'ที่สุด', ' ', 'ตำรวจ', 'ส่ง', 'แพทย์', 'ตรวจ', 'ร่างกาย', 'ก่อน', 'เรียก', 'คู่', 'กรณี', 'มา', 'รับ', 'ทราบ', 'ข้อ', 'หา', ' ', 'เมื่อ', 'เวลา', ' ', '11', '.', '45', ' ', 'น.', ' ', 'วัน', 'ที่', ' ', '21', ' ', 'กรกฎาคม', ' ', 'นายวินัย ปลั่งพินิจ', 'กิจการ', ' ', 'อายุ', ' ', '35', ' ', 'ปี', ' ', 'อยู่', 'บ้าน', 'เลข', 'ที่', ' ', '194', ' ', 'ซอยเปรมสมบัติ', ' แยก', ' ', '5', ' ', 'แขวง', ' ', '-', ' ', 'เขตดินแดง', ' ', 'กทม.', ' ', 'ดี', 'เจ', 'ชื่อ', 'ดัง', 'คลื่น', ' ', 'เอฟเอ็ม', ' ', '95', ' ', 'ลุกทุ่งมหานคร', ' ', 'หรือ', 'ใน', 'นาม', ' ', '\"', ' ', 'วาสุ เลิศจรรยา', ' ', '\"', ' ', 'และ', 'เป็น', 'ผู้', 'อำนวย', 'การ', 'ฝ่าย', 'สถานี', 'วิทยุคลื่น', 'ดัง', 'กล่าว', ' ', 'เข้า', 'แจ้ง', 'ความ', 'กับ', ' ', 'พ.ต.ท. วรลภย์ สุวรรณเกษการ', ' ', 'รอง', ' ', 'ผกก.', ' ', '(', ' ', 'สส.', ' ', ')', ' ', 'สน. ', 'ห้วยขวาง', ' ', 'เพื่อ', 'ให้', 'ดำเนิน', 'คดี', 'กับ', 'นายสุรชัย สมบัติ', 'เจริญ', ' ', 'นัก', 'ร้อง', 'ลูกทุ่ง', 'ชื่อ', 'ดัง', ' ', 'บุตร', 'ชาย', 'ของ', 'นายสุรพล สมบัติ', 'เจริญ', ' ', 'นัก', 'ร้อง', 'ลูกทุ่งยอด', 'นิยม', ' ', 'ใน', 'ข้อ', 'หา', 'ทำร้าย', 'ร่างกาย', ' ', 'นายวินัย', ' ', 'ให้การ', 'ว่า', ' ', 'เมื่อ', 'เวลา', 'ประมาณ', ' ', '10', '.', '20', ' ', 'น.', ' ', 'วัน', 'นี้', ' ', '(', ' ', '21', ' ', 'ก.ค.', ' ', ')', ' ', 'หลัง', 'จาก', 'ที่', 'ตน', 'จัด', 'รายการ', 'ลุกทุ่ง', 'มหานคร', 'เสร็จ', ' ', 'จาก', 'บริเวณ', 'ชั้น', ' ', '5', ' ', 'อาคาร', 'ปฏิบัติ', 'การ', 'วิทยุ', 'โทรทัศน์', ' บริษัท อสมท จำกัด', ' ', '(', ' ', 'มหาชน', ' ', ')', ' ', 'ถนนพระรามเก้า', ' ', 'แขวง', ' ', '-', ' ', 'เขต', 'ได้', 'ลง', 'มา', 'ที่', 'ชั้น', ' ', '4', ' ', 'ปรากฏ', 'ว่า', ' ', 'พนักงาน', 'ใน', 'บริษัท', 'แจ้ง', 'ว่า', 'นายสุรชัย', 'มา', 'ขอ', 'พบ', 'เมื่อ', 'เห็น', 'หน้า', 'ตน', 'จึง', 'ได้', 'ยก', 'มือ', 'ไหว้', ' ', 'แต่', 'นายสุรชัย', 'กลับ', 'ใช้', 'เท้า', 'ถีบ', 'บริเวณ', 'หน้าอก', 'ของ', 'ตน', 'อย่าง', 'แรง', ' ', 'จน', 'ทำ', 'ให้', 'ล้ม', 'ลง', 'กับ', 'พื้น', ' ', 'จาก', 'นั้น', 'นายสุรชัย', ' ', 'เข้า', 'มา', 'ชก', 'ต่อย', 'ทำร้าย', 'ตบต่อ', ' ', 'ซึ่ง', 'ตน', 'พยายาม', 'ปัด', 'ป้อง', ' ', 'เจ้าหน้าที่', 'รักษา', 'ความ', 'ปลอด', 'ภัย', 'พยายาม', 'จะ', 'เข้า', 'มา', 'ห้าม', ' ', 'แต่', 'นายสุรชัย ', 'บอก', 'ว่า', ' ', '\"', ' ', 'อย่า', 'เข้า', 'มา', 'ยุ่ง', ' ', '\"', ' ', 'กระทั่ง', 'เจ้าหน้าที่', 'รักษา', 'ความ', 'ปลอด', 'ภัย', 'เข้า', 'มา', 'แยก', 'สำเร็จ', ' ', 'และ', 'ให้', 'นายสุรชัย', ' ', 'นั่ง', 'สงบ', 'สติ', 'อารมณ์', 'เอา', 'ไว้', 'ก่อน', ' ', '\"', ' ', 'ผม', 'เอง', 'ก็', 'งง', 'และ', 'ตกใจ', 'ว่า', ' ', 'พี่แอ๊ด', ' ', '(', ' ', 'นายสุรชัย', ' ', ')', ' ', 'ทำไม', 'ถึง', 'มา', 'ชก', 'ต่อย', 'ผม', ' ', 'ปกติ', 'ผม', 'ไม่', 'ได้', 'รู้จัก', 'ส่วน', 'ตัว', ' ', 'แต่', 'รู้', 'ว่า', ' ', 'เป็น', 'นัก', 'ร้อง', 'ลูกทุ่ง', 'ชื่อ', 'ดัง', ' ', 'มี', 'ลูก', 'ชาย', 'ชื่อ', ' ', 'ร็อคกี้', ' ', 'หรือ', 'นายสุรบดินทร์ สมบัติ', 'เจริญ', ' ', 'ซึ่ง', 'เป็น', 'ดีเจ', 'อยู่', 'ที่', 'คลื่น', 'เดียว', 'กัน', ' ', 'และ', 'ไม่', 'ได้', 'มี', 'ปัญหา', 'ใน', 'การ', 'ทำ', 'หน้าที่', ' ', 'เหตุการณ์', 'ครั้ง', 'นี้', 'ก็', 'รู้สึก', 'ตกใจ', ' ', 'ไม่', 'คิด', 'ว่า', 'นายสุรชัย', 'จะ', 'เข้า', 'มา', 'ทำร้าย', 'ร่างกาย', 'กัน', 'ถึง', 'ใน', 'สถานี', ' ', 'จน', 'ทำ', 'ให้', 'ผม', 'บาดเจ็บ', 'ที่', 'กก', 'หู', 'ด้าน', 'ซ้าย', ' ', 'มี', 'รอย', 'ข่วน', ' ', 'แขน', 'ซ้าย', 'และ', 'ท้องถูก', 'ถีบ', 'และ', 'เหยียบ', ' ', 'ผม', 'ก็', 'จะ', 'เอา', 'เรื่อง', 'ให้', 'ถึง', 'ที่สุด', ' ', '\"', ' ', 'นายวินัย', ' ', 'กล่าว', ' ', 'และ', 'ว่า', 'ส่วน', 'สาเหตุ', 'คาด', 'ว่า', ' ', 'เกิด', 'จาก', 'เรื่อง', 'การ', 'ที่', 'นายสุรชัยนำ', 'สปอต', 'โฆษณา', 'มา', 'ลง', 'ที่', 'รายการ', 'ลูกทุ่งเอ็ฟเอ็ม', ' ', '95', ' ', 'เป็น', 'งาน', 'คอนเสิร์ต', 'สุรชัย สมบัติ', 'เจริญ', ' ', 'ครบ', 'รอบ', ' ', '40', ' ', 'ปี', ' ', 'ที่', 'จัด', 'ที่', 'ศูนย์วัฒนธรรมแห่งประเทศไทย', ' ', 'ที่', 'จัด', 'งาน', 'ไป', 'แล้ว', ' ', 'ใน', 'ราคา', ' ', '50', ',', '000', ' ', 'บาท', ' ', 'แต่', 'เมื่อ', 'เปิด', 'สปอต', 'โฆษณา', 'ไป', 'แล้ว', ' ', 'ปรากฏ', 'ว่า', ' ', 'บริษัทเมโท', 'แผ่นเสียง', 'เทป', ' ', 'ซึ่ง', 'ได้', 'โทร', 'มา', 'แจ้ง', 'ว่า', ' ', 'คอนเสิร์ต', 'ดัง', 'กล่าว', 'เป็น', 'ลิขสิทธิ์', 'ของ', 'บริษัท', ' ', 'และ', 'ยัง', 'ไม่', 'ได้', 'มี', 'การ', 'ขอ', 'อนุญาต', 'แต่อย่างใด', ' ', '\"', ' ', 'ผม', 'ใน', 'ฐานะ', ' ', 'ผอ.', ' ', 'สถานี', 'จึง', 'ต้อง', 'งด', 'การ', 'ออกอากาศ', ' ', 'แต่', 'เงิน', 'จำนวน', ' ', '50', ',', '000', ' ', 'บาท', 'ที่', 'รับ', 'มา', 'นั้น', ' ', 'จะ', 'ต้อง', 'คืน', 'ให้', ' ', 'แต่', 'ที่', 'ยัง', 'ไม่', 'ได้', 'คืน', 'เนื่อง', 'จาก', 'อยู่', 'ใน', 'ขั้นตอน', 'ของ', 'ทาง', ' ', 'อสมท.', ' ', 'ใน', 'การ', 'ทำ', 'เรื่อง', 'คืน', 'ให้', ' ', '\"', ' ', 'นายวินัย', ' ', 'กล่าว', ' ', 'พ.ต.ท. วรลภย์', ' ', 'กล่าว', 'ว่า', ' ', 'เบื้อง', 'ต้น', 'เจ้าหน้าที่', 'ตำรวจ', 'ได้', 'ทำ', 'การ', 'สอบ', 'ปากคำ', 'นายวินัย', 'ก่อน', 'ส่ง', 'ตัว', 'ไป', 'ให้', 'แพทย์', 'ตรวจ', 'ร่างกาย', 'ที่', 'โรงพยาบาลมหานคร', 'การ', 'แพทย์', ' ', 'เพื่อ', 'ตรวจสอบ', 'บาดแผล', 'ภาย', 'ใน', 'และ', 'ภาย', 'นอก', 'ว่า', 'เป็น', 'อย่าง', 'ไร', 'บ้าง', ' ', 'ก่อน', 'จะ', 'เรียก', 'นายสุรชัย', 'มา', 'รับ', 'ทราบ', 'ข้อ', 'หา', 'ใช้', 'กำลัง', 'ทำร้าย', 'ร่างกาย', 'ผู้', 'อื่น', 'เป็น', 'เหตุ', 'ให้', 'ผู้', 'อื่น', 'ได้', 'รับ', 'อันตราย', 'ทั้ง', 'ร่างกาย', 'และ', 'จิตใจ', ' ', '\"', ' ', 'คดี', 'นี้', 'เป็น', 'คดี', 'ที่', 'ยอม', 'ความ', 'กัน', 'ได้', ' ', 'ถ้า', 'คู่', 'กรณี', 'ตกลง', 'กัน', 'ได้', ' ', 'ก็', 'จะ', 'ทำ', 'การ', 'ปรับ', 'ใน', 'ชั้น', 'สอบสวน', ' ', 'แต่', 'หาก', 'ว่า', 'ฝ่าย', 'หนึ่ง', 'ฝ่าย', 'ใด', 'ไม่', 'ยอม', 'ความ', 'กัน', ' ', 'ก็', 'จะ', 'สรุป', 'สำนวน', 'ส่ง', 'ฟ้อง', 'ศาล', 'ดำเนิน', 'คดี', 'ต่อ', 'ไป', ' ', '\"', ' ', 'พ.ต.ท. วรลภย์', ' ', 'กล่าว', ' ', 'รัสเซีย', 'ยอม', 'คืน', 'ดินแดน', 'ให้', 'จีน', ' ', '174', ' ', 'ตาราง', 'กิโลเมตร', ' ', 'รัสเซีย', 'ยอม', 'คืน', 'ดินแดน', ' ', '174', ' ', 'ตาราง', 'กิโลเมตร', 'ให้', 'จีน', ' ', 'ท่ามกลาง', 'บรรยากาศ', 'ใน', 'ความ', 'สัมพันธ์', 'ที่', 'อบอุ่น', 'ระหว่าง', ' ', '2', ' ', 'ประเทศ', ' ', 'จีน', 'และ', 'รัสเซีย', 'ลง', 'นาม', 'ใน', 'ข้อ', 'ตกลง', 'ยุติ', 'กรณี', 'พิพาท', 'เรื่อง', 'ดินแดน', 'ที่', 'ดำเนิน', 'มา', 'ยาวนาน', ' ', '40', ' ', 'ปี', 'ใน', 'วัน', 'นี้', ' ', 'โดย', 'ฝ่าย', 'รัสเซีย', 'จะ', 'ยก', 'ดินแดน', ' ', '174', ' ', 'ตาราง', 'กิโลเมตร', 'ให้', 'กับ', 'จีน', ' ', 'ซึ่ง', 'เป็น', 'สัญญาณ', 'ที่', 'ชี้', 'ถึง', 'ความ', 'สัมพันธ์', 'ที่', 'อบอุ่น', 'มาก', 'ขึ้น', 'ระหว่าง', ' ', '2', ' ', 'ประเทศ', ' ', 'เอกสาร', 'ที่', 'ลง', 'นาม', 'โดย', 'รัฐมนตรี', 'ต่างประเทศ', 'สอง', 'ฝ่าย', 'ที่', 'กรุงปักกิ่ง', ' ', 'เป็น', 'การ', 'เสริม', 'ข้อ', 'ตกลง', 'เรื่อง', 'พรมแดน', 'ระหว่าง', ' ', '2', ' ', 'ประเทศ', 'ที่', 'ยาวเหยียด', 'ถึง', ' ', '4', ',', '300', ' ', 'กิโลเมตร', 'ที่', 'มี', 'การ', 'ลง', 'นาม', 'ไป', 'ก่อนหน้า', ' ', 'ซึ่ง', 'หลัง', 'การ', 'ลง', 'นาม', ' ', 'นายเซอร์เกย์ ลาฟรอฟ', ' ', 'รัฐมนตรี', 'ต่าง', 'ประเทศ', 'บอก', 'ว่า', ' ', 'เรื่อง', 'นี้', 'หมาย', 'ความ', 'ว่า', 'พรมแดน', 'ระหว่าง', ' ', '2', ' ', 'ประเทศ', 'มี', 'การ', 'ปักปัน', 'เรียบร้อย', 'แล้ว', 'ทั้งหมด', ' ', 'และ', 'จะ', 'เป็น', 'เงื่อนไข', 'ใน', 'การ', 'นำ', 'ไป', 'สู่', 'มิตรภาพ', ' ', 'ความ', 'ร่วมมือ', ' ', 'และ', 'ผล', 'ประโยชน์', 'ซึ่ง', 'กันและกัน', ' ', 'ภาย', 'ใต้', 'ข้อ', 'ตกลง', 'นี้', ' ', 'เกาะหยิงหลง', ' ', 'หรือ', 'ที่', 'รัสเซีย', 'เรียก', ' ', 'ตาราบารอฟ', 'ทั้งหมด', ' ', 'รวม', 'ทั้ง', 'อีก', 'ครึ่ง', 'หนึ่ง', 'ของ', 'เกาะเฮยซาจื้อ', ' ', 'หรือ', 'ที่', 'รัสเซีย', 'เรียก', 'บอล', 'ชอย อุสซูริสกี้', ' ', 'ที่', 'อยู่', 'ใน', 'บริเวณ', 'ที่', 'แม่น้ำ', 'เหยหลงเจียง', ' ', 'หรือ', 'ที่', 'รัสเซีย', 'เรียก', 'แม่น้ำอามูร์', ' ', 'มา', 'บรรจบ', 'กับ', 'แม่น้ำวูซูลิเจียง', ' ', 'จะ', 'กลับ', 'มา', 'เป็น', 'ของ', 'จีน', ' ', 'ใน', 'ช่วง', 'สงคราม', 'เย็น', ' ', 'กรณี', 'พิพาท', 'เรื่อง', 'ดินแดน', 'เหล่า', 'นี้', ' ', 'ทำ', 'ให้', 'ทั้ง', 'สอง', 'ประเทศ', 'ต้อง', 'ปะทะ', 'กัน', 'อยู่', 'หลาย', 'ครั้ง', 'ใน', 'ยุค', ' ', '60', ' ', 'และ', ' ', '70', ' ', 'แต่', 'ปัจจุบัน', ' ', 'ทั้ง', 'สอง', 'ชาติ', 'กลับ', 'มา', 'มี', 'ความ', 'ใกล้ชิด', 'กัน', 'อีก', 'ครั้ง', ' ', 'เพื่อ', 'ร่วม', 'กัน', 'ต่อต้าน', 'อิทธิพล', 'ของ', 'สหรัฐ', ' ', 'ทักษิณ', 'ฟ้อง', ' ', '\"', ' ', 'สมเกียรติ', ' ', '\"', ' ', 'หมิ่น', 'เรียก', 'ร้อย', 'ล้าน', ' ', '\"', ' ', 'ทักษิณ', ' ', '\"', ' ', 'ส่ง', 'ทนาย', 'ฟ้อง', ' ', '\"', ' ', 'สมเกียรติ พงษ์ไพบูลย์', ' ', '\"', ' ', 'แกนนำ', 'พันธมิตร ฯ', ' ', '-', ' ', 'เอเอ', 'ส', '_', 'ทีวี', ' ', '-', ' ', 'ไทยเดย์', ' ', '\"', ' ', 'ละเมิด', ' ', 'เรียก', ' ', '100', ' ', 'ล้าน', ' ', 'ฐาน', 'หมิ่นประมาท', ' ', 'กล่าวหา', 'หวัง', 'เป็น', 'ประธานาธิบดี', ' ', 'พร้อม', 'ร้อง', 'คุ้มครอง', 'ชั่วคราว', 'ให้', 'ศาล', 'ห้าม', 'พูด', 'ให้ร้าย', 'อีก', ' ', 'ที่', 'ศาลแพ่ง', ' ', 'ถ. รัชดาภิเษก', ' ', 'กทม.', ' ', 'เมื่อ', 'เวลา', ' ', '13', '.', '30', ' ', 'น.', ' ', 'วัน', 'ที่', ' ', '21', ' ', 'ก.ค.', ' ', 'พ.ต.ท. ทักษิณ ชินวัตร', 'นายก', 'รัฐมนตรี', ' ', 'ได้', 'มอบ', 'อำนาจ', 'ให้', 'นายวานิจ ปิณฑวนิช', ' ', 'ทนายความ', ' ', 'เป็น', 'โจทก์', 'ยื่น', 'ฟ้อง', 'นายสมเกียรติ พงษ์ไพบูลย์', ' ', 'แกนนำ', 'พันธมิตรประชาชนเพื่อประชาธิปไตย', 'และ', 'บริษัทไทยเดย์ดอทคอม จำกัด', ' ', 'เป็น', 'จำเลย', 'ที่', ' ', '1', ' ', '-', ' ', '3', ' ', 'เรื่อง', ' ', 'ละเมิด', ' ', 'เรียก', 'ค่า', 'เสียหาย', ' ', '100', ' ', 'ล้าน', 'บาท', ' ', 'พร้อม', 'ดอกเบี้ย', ' ', 'ร้อย', 'ละ', ' ', '7', '.', '5', ' ', 'ต่อ', 'ปี', ' ', 'ตาม', 'ฟ้อง', 'โจทก์', 'สรุป', 'ว่า', ' ', 'ตั้งแต่', 'วัน', 'ที่', ' ', '25', ' ', 'พ.ค.', ' ', '2551', ' ', 'ถึง', 'ปัจจุบัน', ' ', 'จำเลย', 'กับ', 'พวก', 'รวม', ' ', '5', ' ', 'คน', ' ', 'ประกอบ', 'ด้วย', ' ', 'นายสนธิ ลิ้มทองกุล', ' ', 'นายพิภพ ธงไชย', ' ', 'พล.ต. ', 'จำลอง ศรีเมือง', ' ', 'และ', 'นายสมศักดิ์ โกสัยสุข', ' ', 'ใน', 'นาม', 'กลุ่มพันธมิตรประชาชนเพื่อประชาธิปไตย', 'จัดการ', 'ชุมนุม', 'และ', 'เวที', 'ปราศรัย', 'ตาม', 'สถานที่', 'ต่าง', ' ', 'ๆ', ' ', 'อย่าง', 'ต่อเนื่อง', ' ', 'โดย', 'จำเลย', 'กับ', 'พวก', 'ได้', 'ออก', 'แถลง', 'การณ์', 'รวม', ' ', '5', ' ', 'ฉบับ', ' ', 'อีก', 'ทั้ง', 'จำเลย', 'ยัง', 'ได้', 'กล่าว', 'ปราศรัย', 'บน', 'เวที', 'พันธมิตร ', 'ฯ', ' ', 'เมื่อ', 'คืน', 'วัน', 'ที่', ' ', '25', ' ', ',', ' ', '26', ' ', 'และ', ' ', '31', ' ', 'พ.ค.', ' ', '2551', ' ', 'มี', 'เนื้อหา', 'ให้', 'ร้าย', 'โจทก์', 'ทำนอง', 'ว่า', ' ', 'โจทก์', 'ต้องการ', 'เปลี่ยนแปลง', 'การ', 'ปกครองในระบอบประชาธิปไตย', 'อันมีพระมหากษัตริย์', 'เป็น', 'ประมุข', ' ', 'เป็น', 'ระบบ', 'สาธารณรัฐ', ' ', 'โดย', 'โจทก์', 'หวัง', 'เป็น', 'ประธานาธิบดี', ' ', 'นอก', 'จาก', 'นี้', 'โจทก์', 'ยัง', 'เกี่ยวข้อง', 'กับ', 'การ', 'โยกย้าย', 'ข้า', 'ราชการ', 'อย่าง', 'ไม่', 'ชอบธรรม', ' ', 'พยายาม', 'เข้า', 'ไป', 'ยุ่งเหยิง', 'กับ', 'กระบวน', 'การ', 'การ', 'ยุติธรรม', ' ', 'และ', 'ผลักดัน', 'ให้', 'รัฐบาล', 'พยายาม', 'แก้ไข', 'รัฐธรรมนูญ', ' ', 'เพื่อ', 'ให้', 'ตัว', 'เอง', 'และ', 'พวกพ้อง', 'ไม่', 'ต้อง', 'รับ', 'โทษ', ' ', 'ซึ่ง', 'ทำ', 'ให้', 'โจทก์', 'และ', 'ครอบครัว', 'ได้', 'รับ', 'ความ', 'เสียหาย', 'จึง', 'ขอ', 'ให้', 'ศาล', 'ลง', 'โทษ', 'จำเลย', 'ตาม', 'ความ', 'ผิด', 'ด้วย', ' ', 'ศาล', 'รับ', 'คำ', 'ฟ้อง', 'ไว้', 'พิจารณา', 'และ', 'นัด', 'ชี้', 'สอง', 'สถาน', 'ใน', 'วัน', 'ที่', ' ', '27', ' ', 'ต.ค.', ' ', 'นี้', ' ', 'เวลา', ' ', '13', '.', '30', ' ', 'น.', ' ', 'ทั้งนี้', ' ', 'โจทก์', 'ยัง', 'ได้', 'ยื่น', 'คำ', 'ร้องขอ', 'ไต่สวน', 'ฉุกเฉิน', 'ให้', 'ศาล', 'มี', 'คำ', 'สั่ง', 'ห้าม', 'ไม่', 'ให้', 'จำเลย', 'ที่', ' ', '1', ' ', 'กระทำ', 'การ', 'อัน', 'ก่อ', 'ให้', 'เกิด', 'ความ', 'เสียหาย', 'แก่', 'โจทก์', ' ', 'รวม', 'ทั้ง', 'ห้าม', 'นำ', 'เอา', 'ถ้อยคำ', 'ที่', 'ทำ', 'ให้', 'เข้าใจ', 'ว่า', 'เป็น', 'โจทก์', 'มา', 'กล่าว', 'ใน', 'ทาง', 'เสียหาย', ' ', 'และ', 'ห้าม', 'จำเลย', 'ที่', ' ', '2', ' ', 'และ', ' ', '3', ' ', 'เผยแพร่', 'ถ้อยคำ', 'ของ', 'จำเลย', 'ที่', ' ', '1', ' ', 'ซึ่ง', 'อาจ', 'ทำ', 'ให้', 'โจทก์', 'ได้', 'รับ', 'ความ', 'เสียหาย', ' ', 'วัน', 'เดียว', 'กัน', 'นี้', ' ', 'ที่', 'ห้อง', 'พิจารณา', 'คดี', ' ', '412', ' ', 'ศาล', 'ได้', 'ไต่สวน', ' ', 'นายวานิจ', ' ', 'ทนายความ', 'ผู้', 'รับ', 'มอบ', 'อำนาจ', 'จาก', ' ', 'พ.ต.ท. ทักษิณ', 'ซึ่ง', 'เบิกความ', 'ยืนยัน', 'ถึง', 'ความ', 'จำเป็น', 'ที่', 'ต้อง', 'ขอ', 'ให้', 'ศาล', 'มี', 'คำ', 'สั่ง', 'คุ้มครอง', 'ชั่วคราว', 'ว่า', ' ', 'เนื่อง', 'จาก', 'ที่', 'ผ่าน', 'มา', 'จำเลย', 'ได้', 'กล่าว', 'ให้', 'ร้าย', 'โจทก์', 'และ', 'ครอบครัว', 'ให้', 'ได้', 'รับ', 'ความ', 'เสียหาย', ' ', 'และ', 'ถูก', 'ดูหมิ่น', 'และ', 'เกลียดชัง', 'จาก', 'ประชาชน', 'ทั่วไป', ' ', 'รวม', 'ทั้ง', 'ส่ง', 'ผล', 'กระทบ', 'ต่อ', 'การ', 'ประกอบ', 'ธุรกิจ', 'ของ', 'โจทก์', ' ', 'อย่าง', 'ไร', 'ก็ดี', 'เมื่อ', 'พยาน', 'เบิกความ', 'ตอบ', 'คำ', 'ถาม', 'ทนาย', 'โจทก์', 'เสร็จสิ้น', 'แล้ว', ' ', 'ศาล', 'นัด', 'ไต่สวน', 'พยาน', 'อีก', 'ครั้ง', 'เพื่อ', 'ตอบ', 'คำ', 'ถาม', 'ค้าน', 'ทนาย', 'จำเลย', ' ', 'ใน', 'วัน', 'ที่', ' ', '23', ' ', 'ก.ค.', ' ', 'นี้', ' ', 'เวลา', ' ', '13', '.', '30', ' ', 'น.', ' ', 'ทบ.', ' ', 'จี้', ' ', 'บช.น.', ' ', 'ดำเนิน', 'คดี', ' ', '\"', ' ', 'ดาตอร์ปิโด', ' ', '\"', ' ', 'หมิ่น', 'เบื้อง', 'สูง', ' ', 'ทบ.', ' ', 'ส่ง', 'หนังสือ', 'ถึง', ' ', 'บชน', '.', ' ', 'ขอ', 'ให้', 'ดำเนิน', 'คดี', 'กับ', ' ', '\"', ' ', 'ดาตอร์ปิโด', ' ', '\"', ' ', 'ฐาน', 'ดูหมิ่น', 'องค์', 'พระมหากษัตริย์', ' ', '(', ' ', '21', ' ', 'ก.ค.', ' ', ')', ' ', 'พ.อ.หญิง ศิริจันทร์ งาทอง', ' ', 'รอง', 'โฆษก', 'กองทัพบก', ' ', 'เปิดเผย', 'ว่า', ' ', 'กองทัพบก', 'ได้', 'รับ', 'ทราบ', 'ข้อมูลข่าวสาร', 'ว่า', ' ', 'นางดารณี ชาญ', 'เชิง', 'ศิลปกุล', ' ', 'หรือ', ' ', '\"', ' ', 'ดาตอร์ปิโด', ' ', '\"', ' ', 'ได้', 'ขึ้น', 'กล่าว', 'ปราศรัย', 'ใน', 'การ', 'ชุมนุม', ' ', 'ณ', ' ', 'บริเวณ', 'ท้องสนามหลวง', 'เมื่อ', 'วัน', 'ที่', ' ', '18', ' ', 'ก.ค.', ' ', '51', ' ', 'โดย', 'มี', 'การ', 'ใช้', 'ถ้อยคำ', 'ดูหมิ่น', ' ', 'หมิ่นประมาท', ' ', 'หรือ', 'แสดง', 'ความ', 'อาฆาตมาดร้าย', 'ต่อ', 'องค์', 'พระบาทสมเด็จพระเจ้าอยู่หัว', ' ', 'และ', 'สมเด็จพระนางเจ้าฯถพระบรมราชินีนาถ', 'อัน', 'เป็น', 'การ', 'กระทำ', 'ความ', 'ผิด', 'ตาม', 'ประมวล', 'กฎหมาย', 'อาญา', 'มาตรา', ' ', '112', ' ', 'และ', 'ถือ', 'เป็น', 'การ', 'มิบัง', 'ควร', 'อย่าง', 'ที่สุด', ' ', '\"', ' ', 'จาก', 'การ', 'กระทำ', 'ดัง', 'กล่าว', ' ', 'กองทัพบก', 'จึง', 'ได้', 'มี', 'หนังสือ', 'ด่วน', 'ที่สุด', ' ', 'เมื่อ', 'วัน', 'ที่', ' ', '21', ' ', 'ก.ค.', ' ', '2551', ' ', 'ถึง', 'ผู้', 'บัญชา', 'การตำรวจนครบาล', ' ', 'เรื่อง', ' ', 'ขอ', 'ให้', 'ดำเนิน', 'คดี', 'กับ', 'ผู้', 'กระทำ', 'ความ', 'ผิด', 'ต่อ', 'องค์', 'พระมหากษัตริย์', ' ', '\"', ' ', 'รอง', 'โฆษก', 'กองทัพบก', ' ', 'กล่าว', ' ', 'และ', 'ว่า', 'เนื้อหา', 'ใน', 'หนังสือ', 'ระบุ', 'ว่า', ' ', '\"', ' ', 'กองทัพบก', ' ', 'ขอ', 'ให้', 'กองบัญชาการตำรวจนครบาล', 'ได้', 'กรุณา', 'ตรวจสอบ', 'การ', 'ปราศรัย', 'ของ', 'นางดารณีฯ', ' ', 'หาก', 'พบ', 'ว่า', 'มี', 'การ', 'กระทำ', 'ความ', 'ผิด', 'จริง', ' ', 'ขอ', 'ให้', 'ดำเนิน', 'การ', 'ตาม', 'กฎหมาย', 'ต่อ', 'ไป', ' ', '\"', ' ', 'ทั้งนี้', 'หนังสือ', 'ดัง', 'กล่าว', 'ได้', 'ส่ง', 'ไป', 'ยัง', 'กองบัญชาการตำรวจนครบาล', 'แล้ว', 'ใน', 'วัน', 'เดียว', 'กัน', ' ', 'พ.อ.หญิงศิริจันทร์', ' ', 'กล่าว', 'ว่า', ' ', 'กองทัพบก', 'ใน', 'ฐานะ', 'ที่', 'เป็น', 'หน่วย', 'งาน', 'หลัก', 'ที่', 'มี', 'หน้าที่', 'ใน', 'การ', 'เทิดทูน', 'ไว้', 'ซึ่ง', 'สถาบัน', ' ', 'ชาติ', ' ', 'ศาสนา', ' ', 'พระมหากษัตริย์', ' ', 'จะ', 'ดำเนินการ', 'ใน', 'ทุก', 'วิถีทาง', 'เพื่อ', 'ป้องกัน', 'มิ', 'ให้', 'มี', 'การ', 'กระทำ', 'ใด', ' ', 'ๆ', ' ', 'อัน', 'เป็น', 'การ', 'ระคายเคือง', 'เบื้อง', 'พระยุคลบาท', 'โดย', 'เด็ดขาด', ' ', 'ทั้งนี้', 'กองทัพบก', 'จะ', 'ติดตาม', 'ผล', 'ของ', 'การ', 'ดำเนิน', 'คดี', 'ใน', 'เรื่อง', 'ดัง', 'กล่าว', 'อย่าง', 'ใกล้ชิด', 'ต่อ', 'ไป', ' ', 'ปลัด', ' ', 'กห.', ' ', 'แจง', 'ดำเนินการ', 'กับ', 'เว็บไซต์', 'หมิ่น', 'สถาบัน', ' ', 'พล.อ.', ' ', 'วินัย ภัทธิยกุล', ' ', 'ปลัด', 'กระทรวงกลาโหม', ' ', 'ได้', 'ชี้แจง', 'ถึง', 'การ', 'แก้ไข', 'ปัญหา', 'เว็บไซต์', 'หมิ่น', 'สถาบัน', 'ต่อ', 'ที่ประชุม', 'คณะ', 'กรรมาธิการ', 'วิสามัญ', 'พิจารณา', 'ร่าง', ' ', 'พ.ร.บ.', ' ', 'งบ', 'ประมาณ', 'ราย', 'จ่าย', 'ประจำ', 'ปี', 'งบ', 'ประมาณ', ' ', '2552', ' ', 'ซึ่ง', 'เป็น', 'การ', 'พิจารณา', 'งบ', 'ประมาณ', 'กระทรวงกลาโหม', 'ว่า', ' ', 'ขณะ', 'นี้', 'ทาง', 'กอง', 'ทัพ', 'ได้', 'ตั้ง', 'หน่วย', 'งาน', 'เฉพาะ', 'กิจ', '_', '080', ' ', 'ประกอบ', 'ด้วย', ' ', 'เจ้าหน้าที่', 'จาก', 'กระทรวงไอซีที', 'และ', 'เจ้าหน้าที่', 'ตำรวจ', 'มา', 'ดูแล', 'เรื่อง', 'นี้', 'อย่าง', 'เข้มข้น', ' ', 'โดย', 'มี', 'กองทัพบก', 'เป็น', 'เจ้าภาพ', ' ', 'ปลัด', ' ', 'กห.', ' ', 'แจง', ' ', 'กมธ.', ' ', 'งบ', ' ', 'ฯ', ' ', 'รับ', 'ปัญหา', 'ไทย', ' ', '-', ' ', 'กัมพูชา', 'เกิด', 'แน่', ' ', 'รอง', ' ', 'ปธ.', ' ', 'กมธ.', ' ', 'ต่าง', 'ประเทศวุฒิ', ' ', 'อัด', 'รัฐบาล', 'ไทย', 'เฉย', 'ปัญหา', 'ปราสาท', 'เขาพระวิหาร', ' ', 'จวก', 'ยูเอ็น', 'จุ้น', 'เรื่อง', 'ภาย', 'ใน', ' ', 'แนะ', 'ปิด', 'ทาง', 'ขึ้น', 'ปราสาท', 'สร้าง', 'อำนาจ', 'ต่อรอง', ' ', '(', ' ', '21', ' ', 'ก.ค.', ' ', ')', ' ', 'ม.ร.ว. ปรียนันทนา', ' รังสิต', ' ', 'ส.ว.', ' ', 'สรรหา', ' ', 'รอง', 'ประธาน', 'คณะ', 'กรรมาธิการ', 'การต่างประเทศ', ' ', 'วุฒิสภา', ' ', 'กล่าว', 'ปัญหา', 'ปราสาท', 'เขาพระวิหาร', 'ว่า', ' ', 'จนถึง', 'ขณะ', 'นี้', 'รัฐบาล', 'ไทย', 'ไม่', 'ได้', 'ดำเนิน', 'การ', 'ใด', ' ', 'ๆ', ' ', 'ทั้ง', 'เรื่อง', 'การ', 'ประกาศ', 'ยกเลิก', 'แถลง', 'การณ์', 'ร่วม', 'ไทย', ' ', '-', ' ', 'กัมพูชา', ' ', 'การ', 'ประชุม', 'คณะ', 'กรรมการยูเนสโก', ' ', 'ที่', 'ประเทศแคนาดา', ' ', 'จน', 'ทำ', 'ให้', 'สถานการณ์', 'ชาย', 'แดน', 'ระหว่าง', 'ไทย', ' ', '-', ' ', 'กัมพูชาตึงเครียด', 'เสี่ยง', 'ต่อ', 'ความ', 'มั่นคง', ' ', 'ซึ่ง', 'ทหาร', 'ทั้ง', ' ', '2', ' ', 'ฝ่าย', 'มี', 'การ', 'ตรึง', 'บริเวณ', 'ชาย', 'แดน', 'ตลอด', ' ', '24', ' ', 'ชั่วโมง', ' ', 'หาก', 'มี', 'การ', 'กระทบกระทั่ง', 'กัน', 'สถานการณ์', 'อาจ', 'บานปลาย', 'ได้', ' ', 'ม.ร.ว. ปรียานันทนา', ' ', 'กล่าว', 'ว่า', ' ', 'ขณะ', 'นี้', 'กัมพูชา', 'ได้', 'ทำ', 'จดหมาย', 'ไป', 'ถึง', 'ยูเอ็น', 'ให้', 'เข้า', 'มา', 'ไกล่เกลี่ย', 'ข้อ', 'พิพาท', 'ระหว่าง', 'ไทย', ' ', 'กัมพูชา', ' ', 'ถือ', 'เป็น', 'ความ', 'ฉลาด', ' ', 'เขา', 'ได้', 'วาง', 'แผน', 'ล่วงหน้า', 'กัน', 'เป็น', 'ที่', 'เรียบร้อย', 'ทำ', 'ให้', 'ไทย', 'เสียเปรียบ', 'ตลอด', 'เวลา', ' ', 'ความ', 'จริง', 'เรื่อง', 'นี้', 'ควร', 'คุย', 'เฉพาะ', 'ไทย', 'กับ', 'กัมพูชา', ' ', 'หรือ', 'ใน', 'กลุ่มประชาคม', 'อาเซียน', ' ', 'แต่', 'เขา', 'กลับ', 'ไป', 'ฟ้องโลก', ' ', 'ฟ้อง', 'ยูเอ็น', ' ', 'ซึ่ง', 'ทำ', 'ให้', 'คน', 'ที่', 'ฟ้อง', 'ก่อน', 'ได้', 'เปรียบ', ' ', 'ประเทศไทย', 'เดินต้อย', 'ๆ', ' ', 'ตาม', 'คอย', 'แก้', 'ปัญหา', 'แผน', 'ต่อ', 'ไป', 'คือ', ' ', 'การ', 'บริหารจัดการ', 'ซึ่ง', 'กรรมการ', 'ร่วม', ' ', '6', ' ', 'ประเทศ', ' ', 'มี', 'ความ', 'ใกล้ชิด', 'และ', 'เคย', 'เป็น', 'กรรมการ', 'บริหาร', 'ปราสาทนครวัด', '-', 'นครธม', 'มา', 'แล้ว', ' ', 'มา', 'ก่อน', ' ', 'ซึ่ง', 'อาจ', 'จะ', 'มี', 'การ', 'รุกล้ำ', 'เข้า', 'ไป', 'ใน', 'เขต', 'พื้นที่', 'ทับซ้อน', ' ', 'ซึ่ง', 'จะ', 'ทำ', 'ให้', 'ไทย', 'ไม่', 'มี', 'สิทธิ', 'เหนือ', 'ดินแดน', 'ของ', 'ตน', 'ได้', ' ', '\"', ' ', 'รัฐบาล', 'ไทย', 'ต้อง', 'ยืนยัน', 'ว่า', 'เป็น', 'เรื่อง', 'ภาย', 'ใน', 'อย่า', 'ให้', 'ยูเอ็น', 'เข้า', 'ยุ่ง', 'เด็ดขาด', ' ', 'เมื่อ', 'เรา', 'ทำ', 'ทุก', 'อย่าง', 'แล้ว', 'ยัง', 'เสียเปรียบ', 'อยู่', ' ', 'มาตรการ', 'สุดท้าย', 'คือ', ' ', 'การ', 'ประกาศ', 'ปิด', 'ทาง', 'ขึ้น', 'ปราสาทพระวิหาร', 'เพราะ', 'เป็น', 'พื้นที่', 'ของ', 'ประเทศไทย', 'ตรง', 'นี้', 'ถือ', 'เป็น', 'อำนาจ', 'ต่อรอง', 'ของ', 'เรา', 'เพียง', 'อย่าง', 'เดียว', ' ', 'เมื่อ', 'เรา', 'ปิด', 'ทาง', 'ขึ้น', 'เขา', 'เด็ดขาด', 'ทาง', 'กัมพูชา', ' ', 'จะ', 'ดำเนิน', 'การ', 'อย่าง', 'ไร', 'ก็', 'ช่าง', 'เขา', 'เพราะ', 'ทาง', 'ขึ้น', 'เขา', 'เป็น', 'พื้นที่', 'ของ', 'บ้าน', 'เรา', ' ', '\"', ' ', 'ม.ร.ว. ปรียนันทนา', ' ', 'กล่าว', ' ', 'ปลัด', 'กลาโหม', 'รับ', 'ปัญหา', 'ไทย', ' ', '-', ' ', 'กัมพูชา', 'เกิด', 'แน่', ' ', 'พล.อ.', ' ', 'วินัย ภัทธิยกุล', ' ', 'ปลัด', 'กระทรวงกลาโหม', ' ', 'ได้', 'ชี้แจง', 'การ', 'แก้ไข', 'ปัญหา', 'เขตแดน', 'ของ', 'ไทย', 'ภาย', 'หลัง', 'กัมพูชา', 'ขึ้น', 'ปราสาทพระวิหาร', 'มร', 'ดก', 'โลก', 'ต่อ', 'ที่', 'ประชุม', 'คณะ', 'กรรมาธิการ', 'วิสามัญ', 'พิจารณา', 'ร่าง', ' ', 'พ.ร.บ.', ' ', 'งบ', 'ประมาณ', 'ราย', 'จ่าย', 'ประจำ', 'ปี', 'งบ', 'ประมาณ', ' ', '2552', ' ', 'ซึ่ง', 'เป็น', 'การ', 'พิจารณา', 'งบ', 'ประมาณ', 'กระทรวงกลาโหม', 'ว่า', ' ', 'ขณะ', 'นี้', ' ', 'พล.อ. ', 'บุญสร้างเนียมประดิษฐ์', ' ', 'สส.', ' ', 'ได้', 'เดินทาง', 'ไป', 'ร่วม', 'ประชุม', 'กับ', 'กัมพูชา', 'แล้ว', ' ', 'ส่วน', 'พื้นที่', 'ทับซ้อน', 'ทาง', 'กัมพูชา', 'ก็', 'ยัง', 'ยืน', 'ว่า', 'เป็น', 'พื้นที่', 'ของ', 'เขา', ' ', 'ซึ่ง', 'ทาง', 'ไทย', 'ได้', 'ใช้', 'แผนที่', ' ', 'L', ' ', '7017', ' ', 'มา', 'ยืนยัน', ' ', 'ทั้งนี้', 'ยอม', 'รับ', 'ว่า', 'เรื่อง', 'นี้', 'ก็', 'ต้อง', 'มี', 'ปัญหา', 'ต่อ', 'ไป', ' ', 'เพราะ', 'ถือ', 'แผนที่', 'คน', 'ละ', 'ฉบับ', 'กับ', 'ประเทศกัมพูชา', ' ', '\"', ' ', 'เฉลิม', ' ', '\"', ' ', 'ปลง', 'หาก', 'ปรับ', ' ', 'ครม.', ' ', 'หลุด', 'เก้าอี้', ' ', '\"', ' ', 'มท.1', ' ', '\"', ' ', '\"', ' ', 'เฉลิม ', '\"', ' ', 'ปลง', ' ', 'หาก', 'ปรับ', ' ', 'ครม.', ' ', 'หลุด', 'เก้าอี้', ' ', '\"', ' ', 'มท.1', ' ', '\"', ' ', 'บอก', 'นั่ง', 'ได้', 'ทุก', 'ที่', ' ', 'ระบุ', ' ', 'ถ้า', 'ได้', 'ดู', 'มหาดไทย', 'จะ', 'ลุย', 'สาง', 'ปัญหา', 'ที่ดิน', 'ต่อ', ' ', '(', ' ', '21', ' ', 'ก.ค.', ' ', ')', ' ', 'ร.ต.อ. ', 'เฉลิม อยู่', 'บำรุง', ' ', 'รัฐมนตรี', 'ว่าการ', 'กระทรวงมหาดไทย', ' ', 'กล่าว', 'ถึง', 'กรณี', 'ที่', 'จะ', 'มี', 'การ', 'ปรับ', 'คณะ', 'รัฐมนตรี', ' ', '(', ' ', 'ครม.', ' ', ')', ' ', 'โดย', 'ให้', 'ไป', 'ดำรง', 'ตำแหน่ง', ' ', 'รมว.', ' ', 'สาธารณสุข', 'หรือ', 'กระทรวงยุติธรรม', 'ว่า', ' ', 'ไม่', 'เป็น', 'ไร', ' ', 'เคย', 'บอก', 'มา', 'ตลอด', 'ว่า', ' ', 'การ', 'ปรับ', ' ', 'ครม.', ' ', 'เป็น', 'อำนาจ', 'ของ', 'นายก', 'รัฐมนตรี', ' ', 'และ', 'คณะ', 'ผู้', 'บริหาร', 'พรรค', ' ', 'ซึ่ง', 'ไม่', 'ขัดข้อง', 'และ', 'เต็มใจ', ' ', 'เมื่อ', 'ถาม', 'ว่า', ' ', 'ขณะ', 'นี้', 'ไม่', 'ได้', 'มี', 'การ', 'ส่ง', 'สัญญาณ', 'อะไร', 'จาก', 'นายก', 'รัฐมนตรี', ' ', 'รมว.', ' ', 'มหาดไทย', ' ', 'กล่าว', 'ว่า', ' ', 'หาก', 'จะ', 'มี', 'การ', 'ปรับ', 'ออก', ' ', 'นายก', 'รัฐมนตรี', 'ก็', 'ไม่', 'จำเป็น', 'ต้อง', 'ส่ง', 'สัญญาณ', 'อะไร', ' ', 'เพราะ', 'เป็น', 'อำนาจ', ' ', 'ตน', 'มี', 'หน้าที่', 'ปฏิบัติ', 'ตาม', ' ', '\"', ' ', 'นัก', 'การ', 'เมือง', 'ต้อง', 'มี', 'ความ', 'เข้าใจ', 'ใน', 'สถานการณ์', 'การ', 'เมือง', ' ', 'การ', 'ปรับเปลี่ยน', 'เป็น', 'เรื่อง', 'ปกติ', 'ธรรมดา', ' ', 'ไม่', 'ได้', 'คิด', 'อะไร', ' ', 'ผม', 'ยัง', 'ไม่', 'ได้', 'คิด', 'ไป', 'ถึง', 'ตรง', 'นั้น', ' ', 'ส่วน', 'นายก', 'รัฐมนตรี', 'คิด', 'อย่าง', 'ไร', 'ถึง', 'มา', 'ปรับ', 'ผม', 'นั้น', ' ', 'ก็', 'ต้อง', 'ไป', 'ถาม', 'ท่าน', 'นายก', 'รัฐมนตรี', ' ', 'ผม', 'ไม่', 'ได้', 'คิด', 'อะไร', ' ', 'จะ', 'ถาม', 'กัน', 'สัก', 'กี่', 'ครั้ง', 'ก็', 'จะ', 'ตอบ', 'อย่าง', 'นี้', ' ', 'ให้', 'ไป', 'ถาม', 'นายก', 'รัฐมนตรี', ' ', 'จะ', 'มา', 'ถาม', 'ผม', 'ได้', 'อย่าง', 'ไร', ' ', '\"', ' ', 'ร.ต.อ. เฉลิม', ' ', 'กล่าว', ' ', 'ตอบ', 'คำ', 'ถาม', 'ที่', 'ว่า', ' ', 'เกิด', 'ความ', 'ท้อถอย', 'หรือ', 'ไม่', ' ', 'ที่', 'มี', 'ราย', 'ชื่อ', 'ใน', 'การ', 'ปรับ', ' ', 'ครม.', ' ', 'เมื่อ', 'ถาม', 'ว่า', ' ', 'เกี่ยว', 'กับ', 'กรณี', 'ที่', 'ไม่', 'มี', 'การ', 'โยกย้าย', 'ผู้', 'ว่า', 'ราชการ', 'จังหวัด', 'ตาม', 'ที่', 'มี', 'การ', 'ขอร้อง', 'มา', 'หรือ', 'ไม่', ' ', 'ร.ต.อ. เฉลิม', ' ', 'กล่าว', 'ว่า', ' ', 'คง', 'ไม่', 'ใช่', ' ', 'ไม่', 'ทราบ', 'ว่า', ' ', 'นายก', 'รัฐมนตรี', 'จะ', 'ปรับเปลี่ยน', 'อย่าง', 'ไร', ' ', 'ถ้า', 'พูด', 'มาก', 'ไป', 'จะ', 'ไม่', 'ดี', ' ', 'เมื่อ', 'ถาม', 'ว่า', ' ', 'หาก', 'จะ', 'ให้', 'ไป', 'เป็น', 'รอง', 'นายก', 'รัฐมนตรี', 'ด้าน', 'ความ', 'มั่นคง', 'จะ', 'พอใจ', 'หรือ', 'ไม่', ' ', 'ร.ต.อ. เฉลิม', ' ', 'กล่าว', 'ว่า', ' ', 'ฝน', 'ไม่', 'ตก', ' ', 'แดด', 'ไม่', 'ออก', 'อย่า', 'เพิ่ง', 'กาง', 'ร่ม', ' ', 'ส่วน', 'เรื่อง', 'ที่', 'จะ', 'ให้', ' ', 'รมว.', ' ', 'ยุติธรรม', ' ', 'มา', 'นั่ง', 'แทน', 'ใน', 'ตำแหน่ง', ' ', 'รมว.', ' ', 'มหาดไทย', 'นั้น', ' ', 'ไม่', 'ขอ', 'แสดง', 'ความ', 'เห็น', ' ', 'นอก', 'จาก', 'นี้', ' ', 'ร.ต.อ. ', 'เฉลิม', ' ', 'ยัง', 'ปฏิเสธ', 'ที่', 'จะ', 'ให้', 'ความ', 'เห็น', 'ว่า', ' ', 'คน', 'ที่', 'จะ', 'มา', 'นั่ง', 'ตำแหน่ง', ' ', 'รมว.', ' ', 'มหาดไทย', ' ', 'ควร', 'จะ', 'มี', 'คุณสมบัติ', 'อย่าง', 'ไร', 'พร้อม', 'กับ', 'หัวเราะ', ' ', 'และ', 'กล่าว', 'ต่อ', 'ว่า', ' ', 'เรื่อง', 'ที่', 'ตน', 'ดำเนิน', 'การ', 'ตรวจสอบ', 'เรื่อง', 'ที่ดิน', 'หลาย', 'คน', 'บอก', 'ว่า', ' ', 'เรื่อง', 'ไป', 'ถึง', 'ไหน', ' ', 'ซึ่ง', 'ตั้งแต่', 'เข้า', 'มา', 'ทำ', 'หน้าที่', ' ', 'รมว.', ' ', 'มหาดไทย', ' ', 'ได้', 'สำรวจ', 'พื้นที่', 'ทั่ว', 'ประเทศ', ' ', 'พบ', 'ว่า', ' ', 'มี', 'การ', 'บุกรุก', ' ', '6', ' ', 'ล้าน', 'ไร่', ' ', 'โดย', 'มี', 'การ', 'แยก', 'คน', 'จน', ' ', 'ดำเนินการ', 'กับ', 'คน', 'ที่', 'มี', 'อิทธิพล', 'ที่', 'เอา', 'มา', 'เป็น', 'สมบัติ', 'ของ', 'ตัว', 'เอง', ' ', 'และ', 'จะ', 'ได้', 'คืน', 'ประมาณ', ' ', '2', ' ', 'พัน', 'กว่า', 'ไร่', ' ', 'ฉะนั้น', 'จะ', 'ต้อง', 'ทำ', 'ต่อ', ' ', 'ไม่', 'ได้', 'หยุด', ' ', 'เพราะ', 'กระบวนการ', 'ไม่', 'ได้', 'ง่าย', ' ', 'ๆ', ' ', 'คิด', 'ว่า', 'จะ', 'เชิญ', 'อธิบดี', 'กรมส่งเสริมการ', 'ปกครอง', 'ท้องถิ่น', ' ', 'มา', 'หารือ', 'เรื่อง', 'การ', 'เสีย', 'ภาษี', 'บำรุง', 'ท้องที่', ' ', 'เป็น', 'การ', 'ดำเนิน', 'การ', 'ไป', 'สู่', 'ขั้นตอน', 'ที่', 'จะ', 'ออก', 'เอกสาร', 'สิทธิ', ' ', 'เพราะ', 'ว่า', 'เป็น', 'การ', 'เปิด', 'ทาง', ' ', 'ถ้า', 'เขา', 'ไม่', 'มี', 'สิทธิ', 'ต้อง', 'มี', 'การ', 'ระงับ', 'แต่', 'ต้น', ' ', 'หาก', 'มี', 'เวลา', ' ', 'คิด', 'ว่า', ' ', 'จะ', 'ได้', 'ที่ดิน', 'คืน', 'มา', 'อีก', 'เป็น', 'แสน', 'ไร่', ' ', 'ทั้งนี้', ' ', 'ร.ต.อ. ', 'เฉลิม', ' ', 'ยัง', 'กล่าว', 'ว่า', ' ', 'ไม่', 'เป็นห่วง', 'หาก', 'มี', 'การ', 'เปลี่ยน', 'คน', 'มา', 'นั่ง', 'ตำแหน่ง', ' ', 'รมว.', ' ', 'มหาดไทย', ' ', 'เพราะ', 'ใคร', 'มา', 'ก็', 'ทำ', 'เป็น', ' ', 'โดย', 'ตน', 'ก็', 'ไม่', 'ได้', 'เก่ง', 'อะไร', ' ', 'เป็น', 'คน', 'ธรรมดา', 'เท่า', 'นั้น', 'เอง', ' ', 'ส่วน', 'นายก', 'รัฐมนตรี', 'จะ', 'มอง', 'เห็น', 'ผล', 'งาน', 'ที่', 'ผ่าน', 'มา', 'หรือ', 'ไม่', 'นั้น', ' ', 'ร.ต.อ. เฉลิม', ' ', 'กล่าว', 'ว่า', ' ', 'ไม่', 'ทราบ', ' ', 'ต้อง', 'ไป', 'ถาม', 'นายก', 'รัฐมนตรี', 'เอง', ' ', 'ต่อ', 'ข้อ', 'ถาม', 'ที่', 'ว่า', ' ', 'เป็น', 'ไป', 'ได้', 'หรือ', 'ไม่', 'ว่า', ' ', 'นายก', 'รัฐมนตรี', 'เข้าใจ', 'เห็น', 'ผล', 'งาน', 'ที่', 'ผ่าน', 'มา', 'แต่', 'เป็น', 'ปัญหา', 'ภาย', 'ใน', 'พรรคพลังประชาชน', 'กว่า', ' ', 'ร.ต.อ. เฉลิม', ' ', 'กล่าว', 'ว่า', ' ', 'ไม่', 'ทราบ', 'ไม่', 'ได้', 'ติดตาม', 'เรื่อง', 'นี้', ' ', 'เรื่อง', 'การ', 'ปรับ', 'ใน', 'ตำแหน่ง', 'ใน', 'ครั้ง', 'นี้', ' ', 'ไม่', 'มั่นใจ', ' ', 'ไม่', 'ไว้ใจ', 'และ', 'ไม่', 'ได้', 'คิด', ' ', 'เป็น', 'ธรรมดา', ' ', 'เรื่อง', 'การ', 'ปรับ', ' ', 'ครม.', ' ', 'แสดง', 'ความ', 'เห็น', 'ไม่', 'ได้', ' ', 'เพราะ', 'ว่า', 'เรื่อง', 'นี้', 'ต้อง', 'อยู่', 'ที่', 'นายก', 'รัฐมนตรี', ' ', '\"', ' ', 'สื่อ', 'เสนอ', 'เรื่อง', 'ปรับ', ' ', 'ครม.', ' ', 'ยัง', 'ขาด', 'ความ', 'เข้าใจ', ' ', 'กรณี', 'ของ', ' ', 'นพ. สุรพงษ์ สืบวงษ์ลี', ' ', 'นายอนุรักษ์ จุรีมาศ', ' ', 'นางอุไรวรรณ เทียนทอง', ' ', 'ระหว่าง', 'ที่', 'ถูก', 'กล่าวหา', 'เรื่อง', 'หวย', ' ', 'ไม่', 'ได้', 'อยู่', 'ใน', 'ตำแหน่ง', 'นี้', ' ', 'ที่', 'จะ', 'ต้อง', 'ถูก', 'พัก', 'งาน', ' ', 'ต้อง', 'อยู่', 'ใน', 'ตำแหน่ง', ' ', 'เป็น', 'คน', 'ละ', 'เรื่อง', 'กัน', ' ', 'ซึ่ง', 'เขา', 'ห้าม', 'ผู้', 'ถูก', 'กล่าวหา', 'ระหว่าง', 'ดำรง', 'ตำแหน่ง', 'จึง', 'ต้อง', 'พัก', ' ', 'แต่', 'นี่', 'ถูก', 'กล่าวหา', 'ระหว่าง', 'ที่', 'อยู่', 'ตำแหน่ง', 'เก่า', ' ', 'อย่า', 'ไป', 'บอก', 'ว่า', ' ', 'ทันที', 'ที่', 'ศาล', 'ประทับ', 'รับ', 'ฟ้อง', 'ก็', 'มี', 'ความ', 'ผิด', ' ', 'ไม่', 'ใช่', ' ', 'อัยการ', 'ฟ้อง', ' ', 'คตส.', ' ', 'ฟ้อง', 'เอง', ' ', 'ศาล', 'จะ', 'ตรวจ', 'สำนวน', 'และ', 'จะ', 'รับ', 'ไว้', 'พิจารณา', 'หรือ', 'ไม่', 'และ', 'รับ', 'ไว้', 'พิจารณา', 'ก็', 'ตก', 'เป็น', 'จำเลย', ' ', 'และ', 'ให้', 'สันนิษฐาน', 'ว่า', ' ', 'จำเลย', 'เป็น', 'ผู้', 'ตาม', 'รัฐธรรมนูญ', ' ', 'ยัง', 'ไม่', 'ได้', 'ซีเรียส', 'ขนาด', 'นั้น', 'เพราะ', 'ว่า', 'ยัง', 'ไม่', 'มี', 'อะไร', ' ', '\"', ' ', 'ร.ต.อ. เฉลิม', ' ', 'กล่าว', ' ', 'ทหาร', 'เขมรแดง', 'กระหาย', 'จะ', 'สู้', 'รบ', 'กับ', 'ทหาร', 'ไทย', ' ', 'ทหาร', 'เขมรแดง', 'กระหาย', 'จะ', 'สู้', 'รบ', 'กับ', 'ทหาร', 'ไทย', ' ', 'แม้', 'จะ', 'ใส่', 'รองเท้า', 'ฟอง', 'น้ำ', 'และ', 'ใช้', 'ปืน', 'สมัย', 'สงคราม', 'เย็น', ' ', '(', ' ', '21', ' ', 'ก.ค.', ' ', ')', ' ', 'ทหาร', 'ประเทศกัมพูชา', 'เปิดเผย', 'ต่อ', 'สำนักข่าว', ' ', 'AFP', ' ', 'ว่า', ' ', 'พวก', 'เขา', 'อาจ', 'จะ', 'สวม', 'รองเท้า', 'ฟองน้ำ', ' ', 'แต่', 'ทหาร', 'กัมพูชา', 'ส่วน', 'ใหญ่', 'ที่', 'เผชิญ', 'หน้า', 'กับ', 'ทหาร', 'ไทย', ' ', 'บริเวณ', 'ชาย', 'แดน', 'ที่', 'เป็น', 'พื้นที่', 'พิพาท', ' ', 'ต่าง', 'เป็น', 'อดีต', 'ทหาร', 'เขมรแดง', 'ที่', 'ผ่าน', 'บท', 'ทดสอบ', 'การ', 'สู้', 'รบ', 'มา', 'แล้ว', ' ', 'โดย', 'ขณะ', 'นี้', 'มี', 'ทหาร', 'ไทย', 'กว่า', ' ', '500', ' ', 'นาย', ' ', 'และ', 'ทหาร', 'กัมพู', 'ชาก', 'ว่า', ' ', '1', ' ', 'พัน', 'นาย', ' ', 'ต่าง', 'ประจัน', 'หน้า', 'กัน', 'อยู่', 'ใน', 'พื้นที่', 'บริเวณ', 'รอบ', 'เจดีย์', 'ขนาด', 'เล็ก', ' ', 'เชิง', 'เขา', 'อัน', 'เป็น', 'เส้นทาง', 'สู่', 'ที่', 'ตั้ง', 'ของ', 'ปราสาทพระวิหาร', 'ที่', 'สร้าง', 'ตั้งแต่', 'สมัย', 'ศตวรรษ', 'ที่', ' ', '11', ' ', 'แต่', 'บรรยากาศ', 'การ', 'เผชิญ', 'หน้า', 'ค่อนข้าง', 'จะ', 'สงบ', 'ลง', 'แล้ว', 'ใน', 'วัน', 'นี้', ' ', 'จาก', 'การ', 'ที่', 'เจ้าหน้าที่', 'ระดับ', 'สูง', 'ของ', 'แต่ละ', 'ฝ่าย', 'ได้', 'เจรจา', ' ', 'ถ่าย', 'ภาพ', 'และ', 'รับประทาน', 'อาหาร', 'ร่วม', 'กัน', ' ', 'ซึ่ง', 'แตกต่าง', 'จาก', 'เมื่อ', 'วัน', 'พฤหัสบดี', 'ที่', 'ต่าง', 'ฝ่าย', 'ต่าง', 'หัน', 'ปาก', 'กระบอก', 'ปืน', 'เข้า', 'ใส่', 'กัน', ' ', 'เพียง', 'แต่', 'ไม่', 'ได้', 'ยิง', 'กัน', 'เท่า', 'นั้น', ' ', 'พวก', 'อดีต', 'ทหาร', 'เขมรแดง', ' ', 'ระบุ', 'ว่า', ' ', 'พวก', 'เขา', 'กระหาย', 'ที่', 'จะ', 'ต่อสู้', 'และ', 'ทหาร', 'ไทย', 'ไม่', 'ควร', 'ประมาท', ' ', 'เพียง', 'แค่', 'เห็น', 'รูปลักษณ์', 'ภาย', 'นอก', 'ของ', 'พวก', 'เขา', ' ', 'ซึ่ง', 'พวก', 'ทหาร', 'กัมพูชา', 'ต่าง', 'สวม', 'รองเท้า', 'ฟองน้ำ', ' ', 'และ', 'ถือ', 'ปืน', 'สมัย', 'สงคราม', 'เย็น', ' ', 'ทหาร', 'วัย', ' ', '32', ' ', 'ปี', ' ', 'ชื่อ', ' ', 'ดวง', ' ', 'เตย', ' ', 'ที่', 'เริ่ม', 'เป็น', 'ทหาร', 'เขมรแดง', ' ', 'ตั้งแต่', 'อายุ', ' ', '12', ' ', 'ปี', ' ', 'กล่าวหา', 'ทหาร', 'ไทย', 'ว่า', ' ', 'ว่า', 'พวก', 'เขา', 'กระจอก', ' ', 'สวม', 'รองเท้า', 'แตะ', ' ', 'แต่', 'รองเท้า', 'แตะ', 'ทำ', 'ให้', 'พวก', 'เขา', 'เคลื่อนไหว', 'รวดเร็ว', 'อีก', 'ทั้ง', 'ยัง', 'เชี่ยวชาญ', 'พื้นที่', ' ', 'และ', 'ยืนยัน', 'ว่า', ' ', 'ถึง', 'จะ', 'กระจอก', 'แต่', 'แข็งแกร่ง', ' ', 'รายงาน', 'ระบุ', 'ว่า', ' ', 'ทหาร', 'ฝั่ง', 'ไทย', 'มี', 'อาวุธ', 'ปืน', 'และ', 'เครื่องแบบ', 'ที่', 'ทัน', 'สมัย', 'และ', 'มี', 'การ', 'เตรียม', 'พร้อม', 'อย่าง', 'ดี', ' ', 'แต่', ' ', 'ยัน', ' ', 'ซัน', ' ', 'ทหาร', 'วัย', ' ', '47', ' ', 'ปี', ' ', 'ที่', 'เคย', 'เป็น', 'ทหาร', 'เขมรแดง', 'ตั้งแต่', 'อายุ', ' ', '15', ' ', 'ปี', ' ', 'กล่าว', 'ว่า', ' ', 'ทหาร', 'ไทย', 'รู้', 'เพียง', 'แค่', 'ทฤษฎี', ' ', 'แต่', 'พวก', 'เขา', 'ไม่', 'รู้', 'ว่า', ' ', 'ทหาร', 'กัมพูชา', 'เปรียว', 'เหมือน', 'ไก่', 'ป่า', ' ', 'และ', 'ต้องการ', 'จะ', 'รบ', 'กับ', 'ทหาร', 'ไทย', ' ', 'ด้าน', 'พลจัตวา', ' ', 'เจีย', ' ', 'โก', ' ', 'ผู้', 'บัญชา', 'การ', 'กอง', 'กำลัง', 'ใน', 'พื้นที่', 'พิพาท', ' ', 'และ', 'เคย', 'เป็น', 'ทหาร', 'เขมรแดง', 'มา', 'ก่อน', 'กล่าว', 'ว่า', ' ', 'กว่า', ' ', '60', ' ', 'เปอร์เซ็นต์', 'ของ', 'ทหาร', 'ที่', 'ต่อสู้', 'เพื่อ', 'ระบอบ', 'เขมรแดง', ' ', 'เมื่อ', 'ช่วง', 'ปี', ' ', '2518', ' ', '-', ' ', '2522', ' ', 'เป็น', 'พวก', 'ที่', 'รับ', 'ใช้', 'กอง', 'ทัพ', 'ใน', 'ปัจจุบัน', 'บรรดา', 'ผู้', 'นำ', 'ทั้ง', 'ของ', 'ไทย', 'และ', 'กัมพูชา', ' ', 'ต่าง', 'สั่งการ', 'ไม่', 'ให้', 'ทหาร', 'เปิดฉาก', 'ยิง', ' ', 'และ', 'เรียกร้อง', 'ให้', 'แก้', 'ปัญหา', 'โดย', 'สันติวิธี', ' ', 'เจ้าหน้าที่', 'กลาโหม', 'ทั้ง', 'ของ', 'สอง', 'ฝ่าย', 'ได้', 'พบปะ', 'กัน', 'ใน', 'วัน', 'นี้', ' ', 'เพื่อ', 'ปลด', 'ชนวน', 'วิกฤติ', 'ที่', 'ปะทุ', 'ขึ้น', 'เมื่อ', 'สัปดาห์', 'ที่', 'แล้ว', ' ', 'ปราสาทพระวิหาร', 'เป็น', 'จุด', 'ที่', 'เขมรแดง', 'ที่', 'เหลือ', 'หลาย', 'ร้อย', 'คน', ' ', 'ยอม', 'จำนน', 'ต่อ', 'รัฐบาล', 'เมื่อ', 'ปี', ' ', '2541', ' ', 'การ', 'เผชิญ', 'หน้า', 'กัน', 'รอบ', 'ที่', 'ตั้ง', 'ปราสาทพระวิหาร', 'เริ่ม', 'ขึ้น', 'หลัง', 'จาก', 'ผู้', 'ประท้วง', 'ที่', 'เป็น', 'คน', 'ไทย', ' ', '3', ' ', 'คน', ' ', 'ถูก', 'จับ', 'หลัง', 'จาก', 'กระโดด', 'ข้าม', 'รั้ว', 'เข้า', 'ไป', 'ยัง', 'ฝั่ง', 'กัมพูชา', 'เมื่อ', 'วัน', 'อังคาร', ' ', 'อย่าง', 'ไร', 'ก็ตาม', ' ', 'ศาลโลก', 'ได้', 'ตัดสิน', 'เมื่อ', 'ปี', ' ', '2505', ' ', 'ว่า', ' ', 'ปราสาทพระวิหาร', 'ของ', 'กัมพูชา', ' ', 'แต่', 'ทาง', 'เข้า', 'หลัก', 'อยู่', 'ใน', 'ประเทศไทย', 'และ', 'พื้นที่', 'รอบ', 'ที่', 'ตั้ง', 'ขนาด', ' ', '4', '.', '5', ' ', 'ตาราง', 'กิโลเมตร', ' ', 'ก็', 'ยัง', 'เป็น', 'ข้อ', 'พิพาท', 'ที่', 'ยัง', 'แก้', 'ไม่', 'ตก', 'จน', 'ทุก', 'วัน', 'นี้', ' ', 'บัวแก้ว', 'แจง', 'ยูเอ็น', 'ไม่', 'ยุ่ง', 'พระวิหาร', ' ', 'อินโดนีเซีย', 'ตำหนิกัมพูชา', 'ขี้', 'ฟ้อง', ' ', 'ฮุน', ' ', 'เซน', 'ตอบโต้', 'สมัคร', 'อ้าง', 'คำ', 'ตัดสิน', 'ศาลโลก', 'ไทย', 'ผิด', ' ', 'อาเซียน', 'เป็นห่วง', 'สถานการณ์', 'ไทย', ' ', '-', ' ', 'กัมพูชา', ' ', 'พร้อม', 'เสนอ', 'ตัว', 'ไกล่เกลี่ย', ' ', 'อินโด ', 'ฯ', ' ', 'ตำหนิกัมพูชากรณี', 'ฟ้อง', 'ยูเอ็น', ' ', 'ชาว', 'เขมร', 'ส่ง', 'อีเมล', 'ขอ', 'บริจาค', 'อาหาร', ' ', '-', ' ', 'ยา', ' บัวแก้ว', 'แจง', 'ยูเอ็น', 'ไม่', 'ยุ่ง', 'กรณี', 'พิพาท', 'เขาพระวิหาร', ' ', '(', ' ', '21', ' ', 'ก.ค.', ' ', ')', ' ', 'นายฮุน เซน ', 'นายก', 'รัฐมนตรี', 'ประเทศกัมพูชา', ' ', 'ระบุ', 'ใน', 'จดหมาย', 'ที่', 'ตอบ', 'นายสมัคร สุนทรเวช', ' ', 'นายก', 'รัฐมนตรี', 'ของ', 'ประเทศไทย', ' ', 'คำ', 'ตัดสิน', 'ของ', 'ศาลโลก', 'ปี', ' ', '2505', ' ', 'ชี้', 'ว่า', 'ไทย', 'เป็น', 'ฝ่าย', 'ผิด', 'ใน', 'กรณี', 'พิพาท', 'ชาย', 'แดน', 'ที่', 'เกิด', 'ขึ้น', 'ใน', 'ขณะ', 'นี้', ' ', 'ทั้งนี้', 'นายก', 'รัฐมนตรีฮุน', ' ', 'เซน', ' ', 'ตอบ', 'จดหมาย', 'ลง', 'วัน', 'ที่', ' ', '19', ' ', 'กรกฎาคม', 'ว่า', ' ', 'แผนที่', 'ที่', 'ใช้', 'ใน', 'การ', 'ตัดสิน', 'ของ', 'ศาลโลก', 'เมื่อ', 'ปี', ' ', '2505', ' ', 'ว่า', 'ปราสาทพระวิหาร', 'ของ', 'กัมพูชา', 'นั้น', 'ยัง', 'แสดง', 'ให้', 'เห็น', 'ว่า', 'ปราสาทพระวิหาร', 'อยู่', 'ใน', 'พื้นที่', ' ', '700', ' ', 'เมตร', 'ภาย', 'ใน', 'ดินแดน', 'ของ', 'กัมพูชา', 'อย่าง', 'ถูก', 'กฎหมาย', ' ', 'อย่าง', 'ไร', 'ก็ดี', 'นายฮุน เซน ', 'มั่นใจ', 'เต็มเปี่ยม', 'ว่า', ' ', 'ความ', 'พยายาม', 'ร่วม', 'กัน', 'ของ', 'ทั้ง', 'สอง', 'ฝ่าย', 'จะ', 'ได้', 'ทาง', 'ออก', 'ที่', 'น่า', 'พอใจ', 'ต่อ', 'ทั้ง', 'สอง', 'ฝ่าย', 'สำหรับ', 'ปัญหา', 'ที่', 'เกิด', 'ขึ้น', 'ใน', 'ขณะ', 'นี้', ' ', 'ผู้', 'นำ', 'กัมพูชา', 'ระบุ', 'ด้วย', 'ว่า', ' ', 'จดหมาย', 'ฉบับ', 'นี้', 'เป็น', 'การ', 'ตอบ', 'จดหมาย', 'ของ', 'ผู้', 'นำ', 'ไทย', 'เมื่อ', 'วัน', 'ศุกร์', 'ที่', 'ระบุ', 'ว่า', 'การ', 'ที่', 'กัมพูชา', 'ส่ง', 'ทหาร', 'ไป', 'ยัง', 'ปราสาทพระวิหาร', 'เป็น', ' ', '1', ',', '000', ' ', 'นาย', ' ', 'ทำ', 'ให้', 'สถานการณ์', 'แย่', 'ลง', ' ', 'เขมร', 'ส่ง', 'อีเมล', 'ขอ', 'บริจาค', 'อาหาร', ' ', '-', ' ', 'ยา', ' ', 'ทาง', 'ด้าน', 'คณะ', 'กรรมการ', 'เฉพาะ', 'กิจ', 'ชาว', 'กัมพูชา', 'ได้', 'ร่วมมือ', 'กับ', 'องค์กร', 'เอกชน', ' ', '(', ' ', 'เอ็นจีโอ', ' ', ')', ' ', 'ใน', 'กัมพูชา', 'ส่ง', 'อี', 'เมล', 'กระจาย', 'ไป', 'ถึง', 'กลุ่มเอ็นจีโอ', 'ทั้ง', 'ใน', 'สหรัฐ', ' ', 'สหภาพยุโรป', ' ', 'และ', 'กัมพูชา', 'เพื่อ', 'ขอ', 'บริจาค', 'อาหาร', ' ', 'และ', 'หยูกยา', 'ไป', 'ช่วยเหลือ', 'ทหาร', 'เขมร', 'ที่', 'ประจำการ', 'อยู่', 'บริเวณ', 'ปราสาทพระวิหาร', 'การ', 'ด่วน', ' ', 'โดย', 'ใน', 'อีเมล', 'นั้น', 'ได้', 'มี', 'การ', 'ตีพิมพ์', 'ภาพ', 'ทหาร', 'เขมร', 'ที่', 'ปราสาทพระวิหาร', 'นอกเหนือ', 'จาก', 'บอก', 'สถานที่', ' ', 'เบอร์', 'โทรศัพท์', ' ', 'และ', 'อีเมล', 'ที่', 'จะ', 'ติดต่อ', 'บริจาค', 'ของ', 'ผ่าน', 'คณะ', 'กรรมการ', 'เฉพาะ', 'กิจ', 'ชาว', 'กัมพูชา', 'เอา', 'ไว้', 'ด้วย', ' ', 'อาเซียน', 'ห่วง', 'สถานการณ์', 'ไทย', ' ', '-', ' ', 'กัมพูชา', ' ', 'สถานการณ์', 'ตึงเครียด', 'บริเวณ', 'พรมแดน', 'ไทย', ' ', '-', ' ', 'กัมพูชา', ' ', 'กลาย', 'เป็น', 'ประเด็น', 'หารือ', 'สำคัญ', 'บน', 'เวที', 'ประชุม', 'รัฐมนตรี', 'ต่างประเทศ', 'ที่', 'สิงคโปร์', ' ', 'โดย', 'นายจอร์จ ', 'เยียว', ' ', 'รัฐมนตรี', 'ต่างประเทศ', ' ', 'เปิดเผย', 'ก่อน', 'ที่', 'การ', 'ประชุม', 'ประจำ', 'ปี', 'ของ', 'รัฐมนตรี', 'ต่าง', 'ประเทศ', 'จะ', 'เริ่ม', 'ขึ้น', 'ใน', 'วัน', 'นี้', 'ที่', 'สิงคโปร์', 'ว่า', ' ', 'อาเซียน', 'ได้', 'เรียกร้อง', 'ให้', 'ไทย', 'และ', 'กัมพูชา', 'ใช้', 'ความ', 'อดกลั้น', 'อย่าง', 'ที่สุด', 'และ', 'คลี่คลาย', 'ความ', 'ตึงเครียด', 'บริเวณ', 'พรมแดน', 'โดย', 'คำนึง', 'ถึง', 'ความ', 'สมานฉันท์', 'และ', 'ความ', 'เป็น', 'เพื่อนบ้าน', 'ที่', 'ดี', 'ต่อ', 'กัน', ' ', 'สอง', 'ฝ่าย', 'ก็', 'เห็น', 'พ้อง', 'ที่', 'จะ', 'ใช้', 'ความ', 'พยายาม', 'อย่าง', 'เต็มที่', 'ที่', 'จะ', 'หา', 'หนทาง', 'แก้ไข', 'ความ', 'ขัดแย้ง', 'ที่', 'เกิด', 'ขึ้น', 'ด้วย', 'สันติวิธี', ' ', 'โดย', 'ยึด', 'ตาม', 'หลัก', 'เกณฑ์', 'สากล', 'และ', 'กฎ', 'ข้อ', 'บังคับ', 'ของ', 'อาเซียน', ' ', 'พบ', 'ว่า', 'อาเซียน', 'คาดหวัง', 'ให้', 'การ', 'ประชุม', 'คณะ', 'กรรมการ', 'ชาย', 'แดน', 'ทั่วไป', 'ไทย', ' ', '-', ' ', 'กัมพูชา', 'ใน', 'วัน', 'นี้', ' ', 'สามารถ', 'หา', 'ทาง', 'ออก', 'ที่', 'เหมาะสม', 'ได้', ' ', 'เช่น', 'เดียว', 'กับ', 'นายสุรินทร์ พิศสุวรรณ', ' ', 'เลขาธิการ', 'อาเซียน', ' ', 'ที่', 'ให้', 'สัมภาษณ์', 'ว่า', ' ', 'รัฐมนตรี', 'ต่าง', 'ประเทศ', 'ต้องการ', 'เห็น', 'ประเด็น', 'นี้', 'ได้', 'รับ', 'การ', 'แก้', 'ปัญหา', 'โดย', 'เร็ว', 'ที่สุด', ' ', 'เพราะ', 'ความ', 'ตึงเครียด', 'หรือ', 'ความ', 'เข้าใจ', 'ผิด', 'ระหว่าง', 'ชาติ', 'สมาชิก', 'เป็น', 'เรื่อง', 'ที่', 'อาเซียน', 'เป็นห่วง', ' ', 'และ', 'มี', 'รายงาน', 'ว่า', ' ', 'รัฐมนตรี', 'ต่าง', 'ประเทศ', 'ได้', 'รับฟัง', 'การ', 'สรุป', 'สถานการณ์', 'จาก', 'ฝ่าย', 'ไทย', 'และ', 'กัมพูชา', ' ', 'ระหว่าง', 'งาน', 'เลี้ยง', 'อาหาร', 'ค่ำ', 'เมื่อ', 'คืน', 'นี้', ' ', 'พร้อม', 'เสนอ', 'ความ', 'ช่วยเหลือ', 'หาก', 'ไทย', 'และ', 'กัมพูชา', 'คิด', 'ว่า', 'ต้องการ', 'การ', 'สนับสนุน', 'เพิ่มเติม', ' ', 'เพื่อ', 'ให้', 'สามารถ', 'หา', 'ทาง', 'แก้ไข', 'ปัญหา', 'ได้', 'เร็ว', 'ขึ้น', ' ', 'อินโด ', 'ฯ', ' ', 'ตำหนิกัมพูชากรณี', 'ฟ้อง', 'ยูเอ็น', ' ', 'นายฮัสซัน วิรายุดา', ' ', 'รัฐมนตรี', 'ต่างประเทศ', ' ', 'เสนอ', 'แนวทาง', 'แก้ไข', 'ปัญหา', 'พิพาท', 'ชาย', 'แดน', 'ไทย', ' ', '-', ' ', 'กัมพูชา', 'ระหว่าง', 'การ', 'ประชุม', 'อาเซียน', 'ที่', 'สิงคโปร์', 'ใน', 'วัน', 'นี้', ' ', 'โดย', 'แนะ', 'ให้', 'อาเซียน', 'ตั้ง', 'คณะ', 'ประสาน', 'งาน', 'ที่', 'จะ', 'ผลักดัน', 'การ', 'เจรจา', 'ระหว่าง', 'ไทย', 'และ', 'กัมพูชา', ' ', 'เขา', 'บอก', 'ว่า', 'ข้อ', 'เสนอ', 'นี้', 'มี', 'ขึ้น', 'หลัง', 'จาก', 'รัฐมนตรี', 'ต่าง', 'ประเทศ', 'ทุก', 'คน', 'ได้', 'ฟัง', 'สรุป', 'สถานการณ์', 'ตึงเครียด', 'บริเวณ', 'ชาย', 'แดน', 'ไทย', ' ', '-', ' ', 'กัมพูชา', 'ใน', 'บริเวณ', 'รอบ', 'ปราสาทพระวิหาร', 'วาน', 'นี้', ' ', 'และ', 'ที่', 'ประชุม', 'ได้', 'แสดง', 'ความ', 'พร้อม', 'ที่', 'จะ', 'ให้', 'ไทย', 'และ', 'กัมพูชา', 'ใช้', 'กลไก', 'ของ', 'อาเซียน', 'ใน', 'การ', 'หา', 'ทาง', 'ยุติ', 'ข้อ', 'ขัดแย้ง', 'โดย', 'เร็ว', ' ', 'หาก', 'สอง', 'ฝ่าย', 'ต้องการ', ' ', 'นอก', 'จาก', 'นี้', 'นายวิรายุดา', ' ', 'บอก', 'ว่า', ' ', 'ฝ่าย', 'ไทย', 'ได้', 'ขอ', 'ต่อ', 'สิงคโปร์', 'ซึ่ง', 'เป็น', 'ประธาน', 'การ', 'ประชุม', 'ใน', 'ปี', 'นี้', 'ให้', 'มี', 'โอกาส', 'ได้', 'เปิดเผย', 'ข้อ', 'เท็จจริง', 'เกี่ยว', 'กับ', 'สถานการณ์', 'ขัดแย้ง', 'ที่', 'เกิด', 'ขึ้น', 'บ้าง', ' ', 'หลัง', 'จาก', 'ฝ่าย', 'กัมพูชา', 'ได้', 'ยื่น', 'หนังสือ', 'ถึง', 'คณะมนตรีความมั่นคงแห่งสหประชาชาติ', 'รุกล้ำชาย', 'แดน', 'กัมพูชา', 'ตั้งแต่', 'วัน', 'อังคาร', 'ที่', 'แล้ว', ' ', 'ซึ่ง', 'นายวิรายุดา', 'บอก', 'ว่า', ' ', 'การ', 'เคลื่อนไหว', 'ของ', 'กัมพูชา', 'ที่', 'จะ', 'ทำ', 'ให้', 'เรื่อง', 'นี้', 'กลาย', 'เป็น', 'ประเด็น', 'ใน', 'เวที', 'ระหว่าง', 'ประเทศ', ' ', 'ทำ', 'ให้', 'อาเซียน', 'รู้สึก', 'ไม่', 'สบายใจ', 'และ', 'อาเซียน', 'ได้', 'ออก', 'แถลง', 'การณ์', 'ร่วม', 'หวัง', 'ว่า', 'ทั้ง', 'สอง', 'ฝ่าย', 'จะ', 'หา', 'ข้อ', 'ยุติ', 'ได้', 'ใน', 'การ', 'เจรจา', 'ที่', 'จัด', 'ขึ้น', 'วัน', 'นี้', ' ', 'แต่', 'เขา', 'ก็', 'เสนอ', 'ให้', 'ตั้ง', 'คณะ', 'ทำ', 'งาน', 'ไกล่เกลี่ย', ' ', 'หาก', 'สอง', 'ฝ่าย', 'ยัง', 'หา', 'แนวทาง', 'ยุติ', 'ปัญหา', 'ร่วม', 'กัน', 'ไม่', 'ได้', ' ', 'พร้อม', 'กับ', 'แสดง', 'ความวิต', 'กว่า', ' ', 'หาก', 'ข้อ', 'พิพาท', 'นี้', 'ไม่', 'สามารถ', 'แก้ไข', 'ได้', ' ', 'ก็', 'อาจ', 'จะ', 'กระทบ', 'ต่อ', 'เสถียรภาพ', 'ทาง', 'การ', 'เมือง', 'ใน', 'ภูมิภาค บัวแก้ว', 'แจง', 'ยูเอ็น', 'ไม่', 'ยุ่ง', 'กรณี', 'พิพาท', 'เขาพระวิหาร', ' ', 'นายธฤต จรุงวัฒน์', ' ', 'อธิบดี', 'กรมสารนิเทศ', 'และ', 'โฆษก', 'กระทรวงการต่างประเทศ', ' ', 'กล่าว', 'ถึง', 'กรณี', 'ประเทศกัมพูชา', 'ไป', 'ยัง', 'คณะมนตรีความมั่นคงแห่งสหประชาชาติ', 'เขาพระวิหาร', 'ว่า', ' ', 'เป็น', 'เพียง', 'การ', 'แจ้ง', 'ให้', 'ยูเอ็น', 'ทราบ', ' ', 'โดย', 'ไม่', 'ได้', 'เรียกร้อง', 'ให้', 'ยูเอ็น', 'ดำเนินการ', 'อะไร', ' ', 'ซึ่ง', 'ไทย', 'ก็', 'ได้', 'อธิบาย', 'กับ', 'ประธาน', ' ', 'คณะมนตรีความมั่นคง', ' ', 'ฯ', ' ', 'ระดับ', 'หนึ่ง', ' ', '\"', ' ', 'นายธฤต', ' ', 'กล่าว', 'ว่า', ' ', 'ใน', 'ทาง', 'ปฏิบัติ', 'การ', 'ระหว่าง', 'ประเทศ', 'โดย', 'ทั่วไป', 'ไม่', 'เฉพาะ', 'แต่', 'กรณี', 'ปราสาทพระวิหารไทย', 'กับ', 'กัมพูชา', 'เท่า', 'นั้น', ' ', 'หลาย', ' ', 'ๆ', ' ', 'ข้อ', 'พิพาท', 'ระหว่าง', 'ประเทศ', 'ก็', 'ไม่', 'ได้', 'ถูก', 'นำ', 'เข้า', 'ที่', 'ประชุม', 'คณะมนตรีความมั่นคงแห่งสหประชาชาติ', ' ', 'การ', 'เจรจา', 'กัน', 'ทั้ง', 'ใน', 'ระดับ', 'ทวิภาคี', 'ระหว่าง', 'ประเทศ', 'คู่', 'กรณี', ' ', 'หรือ', 'ระดับ', 'ภูมิภาค', ' ', 'ยก', 'ตัวอย่าง', 'เช่น', ' ', 'ไทย', 'และ', 'กัมพูชา', 'ก็', 'มี', 'การ', 'ประชุม', 'อาเซียน', 'ซึ่ง', 'เป็น', 'การ', 'ประชุม', 'ระดับ', 'ภูมิภาค', ' ', '\"', ' ', 'โฆษก', 'กระทรวงการต่างประเทศ', ' ', 'กล่าว', ' ', 'และ', 'ว่า', 'ทั้งนี้', 'เรื่อง', 'ที่', 'จะ', 'เข้า', 'สู่', 'ที่', 'ประชุม', ' ', 'คณะมนตรีความมั่นคง', ' ', 'ฯ', ' ', 'ข้อ', 'ร้องเรียน', 'เกี่ยว', 'กับ', 'สันติภาพ', 'ระหว่าง', 'ประเทศ', ' ', 'เช่น', ' ', 'การ', 'ก่อ', 'การ', 'ร้าย', 'ซึ่ง', 'เป็น', 'เรื่อง', 'ไม่', 'มี', 'พรมแดน', ' ', 'เรื่อง', 'สิทธิ', 'มนุษยชน', ' ', 'เรื่อง', 'นิวเคลียร์', ' ', 'ส่วน', 'ข้อ', 'ร้องเรียน', 'เรื่อง', 'เกี่ยว', 'กับ', 'ข้อ', 'พิพาท', 'ระหว่าง', 'ประเทศ', 'นั้น', ' ', 'ไม่', 'ใช่', 'ทุก', 'เรื่อง', 'จะ', 'ถูก', 'นำ', 'เข้า', 'ที่', 'ประชุม', 'ซึ่ง', 'บาง', 'กรณี', 'แม้', 'มี', 'ความ', 'ขัดแย้ง', 'ถึง', 'ขั้น', 'ใช้', 'กำลัง', 'ทาง', 'กายภาพ', 'ระหว่าง', 'กัน', ' ', 'แต่', 'หาก', 'สมาชิก', ' ', 'คณะมนตรีความมั่นคง', ' ', 'ฯ', ' ', 'ควร', 'นำ', 'เข้า', 'ที่', 'ประชุม', ' ', 'เรื่อง', 'ก็', 'จะ', 'ไม่', 'ได้', 'รับ', 'การ', 'นำ', 'เข้า', 'พิจารณา', ' ', '\"', ' ', 'จำลอง', ' ', '\"', ' ', 'ไม่', 'คาดหวัง', 'ผล', 'ประชุม', 'ร่วม', 'ไทย', ' ', '-', ' ', 'เขมร', ' ', '\"', ' ', 'จำลอง', ' ', '\"', ' ', 'ไม่', 'คาดหวัง', 'ผล', 'ประชุม', 'ร่วม', 'ไทย', ' ', '-', ' ', 'เขมร', ' ', 'ขอ', 'เพียง', 'หาก', 'เจรจา', 'เหลว', 'ควร', 'เสนอ', 'ให้', 'มี', 'ประชุม', 'อีก', 'รอบ', ' ', 'ขณะ', 'ที่', 'กลุ่มพันธมิตรศรีสะเกษ', 'แจ้ง', 'ข่าว', 'ทหาร', 'ไทย', 'ขาด', 'อาหาร', ' ', 'ข้าวเหนียว', ' ', '-', ' ', 'เครื่อง', 'กระป๋อง', ' ', 'รับ', 'บริจาค', 'ด่วน', ' ', '(', ' ', '21', ' ', 'ก.ค.', ' ', ')', ' ', 'พล.ต. ', 'จำลอง ศรีเมือง', ' ', 'แกนนำ', 'กลุ่มพันธมิตร', 'กล่าว', 'ถึง', 'กรณี', 'การ', 'ประชุม', 'ร่วม', 'ไทย', ' ', '-', ' ', 'กัมพูชา', ' ', 'ที่', 'โรงแรมอินโดจีน', ' ', 'อ. อรัญประเทศ', ' ', 'จ. สระแก้ว', 'ว่า', ' ', 'พันธมิตร ', 'ฯ', ' ', 'ได้', 'หวัง', 'ผล', 'อะไร', 'จาก', 'การ', 'ประชุม', 'ครั้ง', 'นี้', ' ', 'แต่', 'หาก', 'การ', 'ประชุม', 'ไม่', 'สำเร็จ', 'ทาง', 'รัฐบาล', 'ควร', 'เสนอ', 'ให้', 'มี', 'การ', 'ประชุม', 'ใน', 'ลักษณะ', 'ดัง', 'กล่าว', 'อีก', ' ', 'เพื่อ', 'เปิด', 'โอกาส', 'ให้', 'ประเทศไทย', 'เจรจา', 'อย่าง', 'ต่อเนื่อง', ' ', 'ซึ่ง', 'การ', 'เจรจา', 'ถือ', 'เป็น', 'วิธี', 'ที่', 'ดี', ' ', 'เพราะ', 'จะ', 'ช่วย', 'หลีกเลี่ยง', 'การ', 'ปะทะ', 'ที่', 'อาจ', 'ก่อ', 'ให้', 'เกิด', 'การ', 'นอง', 'เลือด', 'ได้', ' ', 'พล.ต. ', 'จำลอง', ' ', 'กล่าว', 'อีก', 'ว่า', ' ', 'นอก', 'จาก', 'นี้', ' ', 'ล่าสุด', 'ยัง', 'ได้', 'รับ', 'รายงาน', 'จาก', 'กลุ่มพันธมิตร', 'เดินทาง', 'ไป', 'ยัง', ' ', 'อ. ', 'กันทรลักษ์', ' ', 'จ. ศรีสะเกษ', ' ', 'กรณี', 'เขาพระวิหาร', 'ว่า', ' ', 'จาก', 'การ', 'คลุกคลี', 'กับ', 'กลุ่ม', 'ทหาร', 'ไทย', 'พบ', 'ว่า', ' ', 'ขณะ', 'นี้', 'กำลัง', 'ประสบ', 'ปัญหา', 'ขาดแคลน', 'ข้าวเหนียว', ' ', 'และ', 'อาหาร', 'กระป๋อง', ' ', 'ด้วย', 'ความ', 'เป็นห่วง', ' ', 'จึง', 'ขอ', 'ให้', 'ประชาชน', 'ที่', 'ต้องการ', 'ช่วยเหลือ', 'สามารถ', 'ติดต่อ', 'ยัง', 'กลุ่มพันธมิตร', 'กลาง', 'ได้', ' ', 'โดย', 'จะ', 'ทำ', 'หน้าที่', 'ประสาน', 'และ', 'ส่ง', 'ข้าว', 'ของ', 'ดัง', 'กล่าว', 'ไป', 'ยัง', 'ทหาร', 'ไทย', 'ต่อ', 'ไป', ' ', 'ม.', 'อุบลฯ', 'เชิญ', ' ', '\"', ' ', 'สุจิตต์ วงษ์เทศ', ' ', '\"', ' ', 'ถก', 'พระวิหาร', ' ', 'มหาวิทยาลัยอุบลราชธานี', ' ', 'จัด', 'บรรยาย', 'ประวัติศาสตร์', 'และ', 'ปราสาทพระวิหาร', 'โดย', 'นัก', 'วิชาการ', 'ด้าน', 'ประวัติศาสตร์', ' ', '\"', ' ', 'สุจิตต์ วงษ์เทศ', ' ', '\"', ' ', 'ซึ่ง', 'ยืนยัน', 'ขอม', 'คือ', 'เขมร', 'ปัจจุบัน', ' ', 'แต่', 'ไม่', 'ฟัน', 'ธง', 'กรณี', 'ปราสาทพระวิหาร', 'ลงเอย', 'ยัง', 'ไง', 'ม.', 'เที่ยง', 'คืน', 'ออก', 'แถลง', 'การณ์', ' ', 'เมื่อ', 'วัน', 'ที่', ' ', '21', ' ', 'ก.ค.', ' ', 'ที่', 'โรง', 'ละคร', 'คณะศิลปศาสตร์', ' ', 'มหาวิทยาลัยอุบลราชธานี', ' ', 'นายสุจิตต์ วงษ์เทศ', ' ', 'นัก', 'วิชาการ', 'ด้าน', 'ประวัติศาสตร์', 'ได้', 'บรรยาย', 'พิเศษ', 'เรื่อง', ' ', '\"', ' ', 'ประวัติศาสตร์แห่งชาติ', 'และ', 'ปราสาทพระวิหาร', ' ', 'โดย', 'มี', 'อาจารย์', ' ', 'นัก', 'ศึกษา', ' ', 'ประชาชน', 'สนใจ', 'เข้า', 'ร่วม', 'ฟัง', 'จน', 'ล้น', 'โรง', 'ละคร', 'กว่า', ' ', '500', ' ', 'คน', ' ', 'แต่', 'การ', 'บรรยาย', 'เน้น', 'เนื้อหาสาระการ', 'เข้า', 'มา', 'ตั้ง', 'ถิ่นฐาน', 'ของ', 'ชาติพันธุ์', 'ต่าง', ' ', 'ๆ', ' ', 'เมื่อ', 'กว่า', ' ', '3', ',', '000', ' ', 'ปี', ' ', 'ซึ่ง', 'ขณะ', 'นั้น', 'ภูมิภาค', 'เอเชีย', 'ตะวัน', 'ออก', 'เอเชีย', 'ตะวัน', 'ออก', 'เฉียง', 'ใต้', 'ใต้', 'ไม่', 'มี', 'การ', 'แบ่ง', 'เป็น', 'ชน', 'ชาติ', 'ชัดเจน', 'เหมือน', 'ปัจจุบัน', ' ', 'มี', 'เพียง', 'กลุ่ม', 'ชาติพันธุ์', 'เล็ก', ' ', 'ๆ', ' ', 'อาทิ', ' ', 'มอญ', ' ', 'ขอม', ' ', 'ไทยใหญ่', ' ', 'ไทย', 'น้อย', ' ', 'โดย', 'กลุ่ม', 'ชาติพันธุ์', 'ทั้งหมด', 'มี', 'ภาษา', 'และ', 'วัฒนธรรม', 'เชื่อมโยง', 'สอดคล้อง', ' ', 'จึง', 'เป็น', 'พี่น้อง', 'ไม่', 'มี', 'การ', 'แบ่งแยก', 'อาณาเขต', 'ชัดเจน', ' ', 'นายสุจิตต์', ' ', 'กล่าว', 'ถึง', 'ความ', 'รุ่งเรือง', 'ของ', 'ชาติพันธุ์', 'ขอม', 'หรือ', 'เขมร', 'ปัจจุบัน', 'ว่า', ' ', 'ขณะ', 'นั้น', 'ขอม', 'มี', 'อารยธรรม', 'มาก', 'กว่า', 'ชาติพันธุ์', 'อื่น', ' ', 'โดย', 'มี', 'เมืองพระนคร', 'หรือ', 'นครวัด', 'นครธม', 'เป็น', 'ศูนย์กลาง', 'ของ', 'อารยธรรม', ' ', 'มี', 'เมืองสุโขทัย', 'ควบคุม', 'ดูแล', 'เส้นทาง', 'คมนาคม', 'ใน', 'ลุ่มแม่น้ำยม', 'และ', 'พื้นที่', 'ติด', 'ทะเลอันดามัน', ' ', 'มีเมืองอโยธยา', 'ที่', 'โต', 'ขึ้น', 'มา', 'พร้อม', 'เมืองละโว้', 'ดูแล', 'ลุ่มแม่น้ำเจ้าพระยา', ' ', 'ต่อ', 'มา', 'เมื่อ', 'ชาติพันธุ์', 'ต่าง', ' ', 'ๆ', ' ', 'เริ่ม', 'รุ่งเรือง', 'ขึ้น', 'ภาย', 'หลัง', ' ', 'จึง', 'มี', 'การ', 'สถาปนา', 'แบ่งแยก', 'เป็น', 'ชน', 'ชาติ', 'ต่าง', ' ', 'ๆ', ' ', '\"', ' ', 'สำหรับ', 'ชน', 'ชาติ', 'ไทย', 'เกิด', 'ขึ้น', 'ใน', 'ยุค', 'ของ', 'จอมพล ป. พิบูลสงคราม', ' ', 'และ', 'ต้องการ', 'ให้', 'กระทรวงศึกษาธิการ', 'เปลี่ยน', 'ตำรา', 'ใช้', 'สอน', 'เรื่อง', 'ประวัติศาสตร์', 'ชาติไทย', 'ให้', 'ชัดเจน', ' ', 'จะ', 'ได้', 'ไม่', 'เรียนรู้', 'กัน', 'อย่าง', 'ผิด', ' ', 'ๆ', ' ', '\"', ' ', 'ตลอด', 'การ', 'บรรยาย', 'มี', 'การ', 'ขับ', 'เสภา', 'และ', 'มี', 'การ', 'นำ', 'เพลง', 'แต่ง', 'โดย', 'หลวงวิจิตรวาทการ', 'มา', 'ขับร้อง', 'โดย', 'วง', 'ออเคสตรา', 'ลูกทุ่ง', 'กรมศิลปากร', 'นอก', 'จาก', 'นี้', 'ได้', 'มี', 'การ', 'นำ', 'หนังสือ', ' ', '\"', ' ', 'ปราสาทพระวิหาร', 'ทำไม', ' ', '?', ' ', 'มา', 'จาก', 'ไหน', ' ', '\"', ' ', 'เขียน', 'โดย', ' ', 'นายสุจิตต์ วงษ์เทศ', ' ', 'พิมพ์', 'ขึ้น', 'ใน', 'เดือน', 'กรกฎาคม', ' ', '2551', ' ', 'แจก', 'ให้', 'ผู้', 'ฟัง', 'การ', 'บรรยาย', ' ', 'โดย', 'หนังสือ', 'เล่า', 'ความ', 'เป็นมา', 'ของ', 'ชาติพันธุ์', 'ใน', 'ภูมิภาค', 'นี้', ' ', 'รวม', 'ทั้ง', 'ความ', 'ร่วงโรย', 'ของ', 'อาณาจักรขอม', ' ', 'กระทั่ง', 'ปราสาทพระวิหาร', 'ทิ้ง', 'ให้', 'รกร้าง', 'ว่างเปล่า', 'อยู่', 'บน', 'เทือกเขาพนมดงรัก', ' ', 'แต่', 'ไม่', 'มี', 'การ', 'กล่าว', 'ถึง', 'การ', 'ค้น', 'พบ', 'ตัว', 'ปราสาทพระวิหาร', 'ปี', ' ', 'พ.ศ.', ' ', '2442', ' ', 'โดย', 'กรมหลวงสรรพสิทธิประสงค์', ' ', 'แต่', 'กลับ', 'มี', 'การ', 'นำ', 'ภาพ', 'กรมพระยาดำรงราชานุภาพ', 'ขณะ', 'ภาพ', 'ทรง', 'ฉาย', 'ไว้', 'ระหว่าง', 'ทาง', 'ขึ้น', 'เขาพระวิหาร', 'ร่วม', 'กับ', 'นาย', 'ทหาร', 'ฝรั่งเศส', 'เมื่อ', 'ปี', ' ', 'พ.ศ.', ' ', '2472', ' ', 'มา', 'ตีพิมพ์', 'ไว้', 'ที่', 'ปกหลัง', ' ', 'ขณะ', 'เดียว', 'กัน', 'บริเวณ', 'หน้า', 'โรง', 'ละคร', ' ', 'มหาวิทยาลัยอุบลราชธานี', ' ', 'ได้', 'นำ', 'ภาพ', 'ประวัติศาสตร์', 'การ', 'ค้นพบ', 'ปราสาทพระวิหาร', 'กรมหลวงสรรพสิทธิประสงค์', 'ขณะ', 'มา', 'ปกครอง', 'มณฑล', 'บูรพา', ' ', 'เมื่อ', ' ', 'พ.ศ.', ' ', '2442', ' ', 'หรือ', ' ', 'รศ.', ' 118', ' ', 'พร้อม', 'ระบุ', 'ว่า', 'หลัง', 'การ', 'ค้น', 'พบ', 'กรมหลวง', 'สรรพสิทธิ', 'ประสงค์', 'ได้', 'ขนาน', 'นาม', 'ปราสาทพระวิหาร', ' ', '\"', ' ', 'ปราสาทพรหมวิหาร', ' ', '\"', ' ', 'และ', 'ระบุ', 'ด้วย', 'ว่า', 'ยัง', 'พบ', 'รอย', 'จารึก', 'การ', 'ค้น', 'พบ', 'ของ', 'กรมหลวงสรรพสิทธิ', 'ประสงค์', 'ที่', 'ชะง่อนผาเป้ย', 'ตาดี', 'ความ', 'ว่า', ' ', '\"', ' ', '118', ' ', '-', ' ', 'สรรพสิทธิ', ' ', '\"', ' ', 'ด้วย', ' ', 'ม.', 'เที่ยง', 'คืน', 'ออก', 'แถลง', 'การณ์', ' ', 'เมื่อ', 'เวลา', ' ', '12', '.', '00', ' ', 'น.', ' ', 'วัน', 'ที่', ' ', '21', ' ', 'ก.ค.', ' ', 'ที่', 'มหาวิทยาลัยเที่ยงคืน ', 'รศ. สมเกียรติ ตั้งนโม', ' ', 'อธิการบดี', 'มหาวิทยาลัยเที่ยงคืน ', 'รศ. สมชาย ปรีชาศิลปกุล', ' ', 'คณบดี', 'คณะนิติศาสตร์', 'มหาวิทยาลัยเชียงใหม่', ' ', 'รศ. ดร. อรรถจักร สัตยานุรักษ์', ' ', 'นัก', 'วิชาการ', 'คณะมนุษยศาสตร์', ' ', 'มหาวิทยาลัยเชียงใหม่', 'และ', 'นัก', 'วิชาการ', 'อีก', ' ', '8', ' ', 'คน', ' ', 'ออก', 'แถลง', 'การณ์', 'มหาวิทยาลัยเที่ยง', 'คืน', 'เรื่อง', ' ', 'เขาพระวิหาร', 'กับ', 'ความ', 'รุนแรง', 'ใน', 'สังคม', 'ไทย', 'และ', 'ความ', 'ขัดแย้ง', 'ระหว่าง', 'ไทย', 'กับ', 'กัมพูชา', ' ', 'รศ. สมชาย', ' ', 'กล่าว', 'ว่า', ' ', 'กรณี', 'เขาพระวิหาร', 'ได้', 'นำ', 'มา', 'ซึ่ง', 'ความ', 'ขัดแย้ง', 'ที่', 'เกิด', 'ขึ้น', 'อย่าง', 'กว้างขวาง', 'ทั้ง', 'ภาย', 'ใน', 'สังคม', 'ไทย', 'และ', 'ความ', 'สัมพันธ์', 'ระหว่าง', 'ประเทศไทย', 'ประเทศ', 'เพื่อนบ้าน', ' ', 'และ', 'ขณะ', 'นี้', 'ดู', 'เหมือน', 'ว่า', 'ความ', 'ขัดแย้ง', 'อาจ', 'แปร', 'ไป', 'สู่', 'ความ', 'รุนแรง', ' ', 'ซึ่ง', 'ข้อ', 'ถกเถียง', 'เรื่อง', 'เขา', 'พระวิหาร', 'มี', 'อีก', 'หลาย', 'ประเด็น', 'ที่', 'จำเป็น', 'ต้อง', 'ได้', 'รับ', 'การ', 'แก้ไข', ' ', 'โดย', 'ต้อง', 'คำนึง', 'ถึง', 'สาเหตุ', 'ของ', 'การ', 'ปะทุ', 'ขึ้น', 'ของ', 'ความ', 'ขัดแย้ง', ' ', 'เพราะ', 'เป็น', 'ปัญหา', 'ที่', 'มี', 'ความ', 'สลับซับซ้อน', 'และ', 'เป็น', 'ปัญหา', 'ที่', 'สะสม', 'สืบเนื่อง', 'มา', 'ยาวนาน', ' ', 'ทั้งนี้', ' ', 'ความ', 'ขัดแย้ง', 'ที่', 'เกิด', 'ขึ้น', 'เป็น', 'ผล', 'จาก', 'ปัญหา', 'การ', 'เมือง', 'ภาย', 'ใน', 'ของ', 'สังคม', 'ไทย', 'ที่', 'มี', 'การ', 'ใช้', 'ประเด็น', 'ชาตินิยม', 'มาก', 'ปลุกเร้า', ' ', 'เพื่อ', 'ให้', 'เกิด', 'ความ', 'เกลียดชัง', 'ต่อ', 'รัฐบาล', 'และ', 'คน', 'ไทย', 'ด้วย', 'กัน', ' ', 'ไม่ว่า', 'จะ', 'เป็น', 'ตั้งใจ', 'หรือ', 'ไม่', 'ตั้งใจ', 'ก็ตาม', ' ', 'แต่', 'ได้', 'ขยาย', 'ออก', 'เป็น', 'ความ', 'ขัดแย้ง', 'กับ', 'ประเทศ', 'เพื่อนบ้าน', 'เป็น', 'ที่', 'เรียบร้อย', 'แล้ว']\n"
          ]
        }
      ]
    },
    {
      "cell_type": "code",
      "source": [
        "def split(word):\n",
        "    return list(word)"
      ],
      "metadata": {
        "id": "wV33fa0PuQVt"
      },
      "execution_count": null,
      "outputs": []
    },
    {
      "cell_type": "code",
      "source": [
        "l"
      ],
      "metadata": {
        "id": "pSFbvpIn7vxs"
      },
      "execution_count": null,
      "outputs": []
    },
    {
      "cell_type": "code",
      "source": [
        "import pandas as pd"
      ],
      "metadata": {
        "id": "UWulcO0Ez2c3"
      },
      "execution_count": null,
      "outputs": []
    },
    {
      "cell_type": "code",
      "source": [
        "def submission(test_text):\n",
        "    data = []\n",
        "    label = []\n",
        "    for i in test_text:\n",
        "        a = split(i)\n",
        "        \n",
        "        for index, j in enumerate(a):\n",
        "            if index == 0:\n",
        "                label.append('B_WORD')\n",
        "            elif index == len(a)-1:\n",
        "                label.append('E_WORD')\n",
        "            else:\n",
        "                label.append('I_WORD') \n",
        "        data.extend(a)\n",
        "        \n",
        "    label = pd.DataFrame(label)\n",
        "    data = pd.DataFrame(data)    \n",
        "    data_submission = pd.concat([data, label], axis = 1)\n",
        "    return data_submission\n",
        "    \n",
        "\n",
        "submission(test_text)\n",
        "\n",
        "\n",
        "\n"
      ],
      "metadata": {
        "colab": {
          "base_uri": "https://localhost:8080/",
          "height": 423
        },
        "id": "62UNZAymusaI",
        "outputId": "553d52c5-7308-4f81-a409-ba88e3edb849"
      },
      "execution_count": null,
      "outputs": [
        {
          "output_type": "execute_result",
          "data": {
            "text/html": [
              "\n",
              "  <div id=\"df-aabf1355-c205-4750-bb67-0882a0b5454c\">\n",
              "    <div class=\"colab-df-container\">\n",
              "      <div>\n",
              "<style scoped>\n",
              "    .dataframe tbody tr th:only-of-type {\n",
              "        vertical-align: middle;\n",
              "    }\n",
              "\n",
              "    .dataframe tbody tr th {\n",
              "        vertical-align: top;\n",
              "    }\n",
              "\n",
              "    .dataframe thead th {\n",
              "        text-align: right;\n",
              "    }\n",
              "</style>\n",
              "<table border=\"1\" class=\"dataframe\">\n",
              "  <thead>\n",
              "    <tr style=\"text-align: right;\">\n",
              "      <th></th>\n",
              "      <th>0</th>\n",
              "      <th>0</th>\n",
              "    </tr>\n",
              "  </thead>\n",
              "  <tbody>\n",
              "    <tr>\n",
              "      <th>0</th>\n",
              "      <td>ท</td>\n",
              "      <td>B_WORD</td>\n",
              "    </tr>\n",
              "    <tr>\n",
              "      <th>1</th>\n",
              "      <td>ี</td>\n",
              "      <td>I_WORD</td>\n",
              "    </tr>\n",
              "    <tr>\n",
              "      <th>2</th>\n",
              "      <td>่</td>\n",
              "      <td>E_WORD</td>\n",
              "    </tr>\n",
              "    <tr>\n",
              "      <th>3</th>\n",
              "      <td>ย</td>\n",
              "      <td>B_WORD</td>\n",
              "    </tr>\n",
              "    <tr>\n",
              "      <th>4</th>\n",
              "      <td>ั</td>\n",
              "      <td>I_WORD</td>\n",
              "    </tr>\n",
              "    <tr>\n",
              "      <th>...</th>\n",
              "      <td>...</td>\n",
              "      <td>...</td>\n",
              "    </tr>\n",
              "    <tr>\n",
              "      <th>37243</th>\n",
              "      <td>ย</td>\n",
              "      <td>E_WORD</td>\n",
              "    </tr>\n",
              "    <tr>\n",
              "      <th>37244</th>\n",
              "      <td>แ</td>\n",
              "      <td>B_WORD</td>\n",
              "    </tr>\n",
              "    <tr>\n",
              "      <th>37245</th>\n",
              "      <td>ล</td>\n",
              "      <td>I_WORD</td>\n",
              "    </tr>\n",
              "    <tr>\n",
              "      <th>37246</th>\n",
              "      <td>้</td>\n",
              "      <td>I_WORD</td>\n",
              "    </tr>\n",
              "    <tr>\n",
              "      <th>37247</th>\n",
              "      <td>ว</td>\n",
              "      <td>E_WORD</td>\n",
              "    </tr>\n",
              "  </tbody>\n",
              "</table>\n",
              "<p>37248 rows × 2 columns</p>\n",
              "</div>\n",
              "      <button class=\"colab-df-convert\" onclick=\"convertToInteractive('df-aabf1355-c205-4750-bb67-0882a0b5454c')\"\n",
              "              title=\"Convert this dataframe to an interactive table.\"\n",
              "              style=\"display:none;\">\n",
              "        \n",
              "  <svg xmlns=\"http://www.w3.org/2000/svg\" height=\"24px\"viewBox=\"0 0 24 24\"\n",
              "       width=\"24px\">\n",
              "    <path d=\"M0 0h24v24H0V0z\" fill=\"none\"/>\n",
              "    <path d=\"M18.56 5.44l.94 2.06.94-2.06 2.06-.94-2.06-.94-.94-2.06-.94 2.06-2.06.94zm-11 1L8.5 8.5l.94-2.06 2.06-.94-2.06-.94L8.5 2.5l-.94 2.06-2.06.94zm10 10l.94 2.06.94-2.06 2.06-.94-2.06-.94-.94-2.06-.94 2.06-2.06.94z\"/><path d=\"M17.41 7.96l-1.37-1.37c-.4-.4-.92-.59-1.43-.59-.52 0-1.04.2-1.43.59L10.3 9.45l-7.72 7.72c-.78.78-.78 2.05 0 2.83L4 21.41c.39.39.9.59 1.41.59.51 0 1.02-.2 1.41-.59l7.78-7.78 2.81-2.81c.8-.78.8-2.07 0-2.86zM5.41 20L4 18.59l7.72-7.72 1.47 1.35L5.41 20z\"/>\n",
              "  </svg>\n",
              "      </button>\n",
              "      \n",
              "  <style>\n",
              "    .colab-df-container {\n",
              "      display:flex;\n",
              "      flex-wrap:wrap;\n",
              "      gap: 12px;\n",
              "    }\n",
              "\n",
              "    .colab-df-convert {\n",
              "      background-color: #E8F0FE;\n",
              "      border: none;\n",
              "      border-radius: 50%;\n",
              "      cursor: pointer;\n",
              "      display: none;\n",
              "      fill: #1967D2;\n",
              "      height: 32px;\n",
              "      padding: 0 0 0 0;\n",
              "      width: 32px;\n",
              "    }\n",
              "\n",
              "    .colab-df-convert:hover {\n",
              "      background-color: #E2EBFA;\n",
              "      box-shadow: 0px 1px 2px rgba(60, 64, 67, 0.3), 0px 1px 3px 1px rgba(60, 64, 67, 0.15);\n",
              "      fill: #174EA6;\n",
              "    }\n",
              "\n",
              "    [theme=dark] .colab-df-convert {\n",
              "      background-color: #3B4455;\n",
              "      fill: #D2E3FC;\n",
              "    }\n",
              "\n",
              "    [theme=dark] .colab-df-convert:hover {\n",
              "      background-color: #434B5C;\n",
              "      box-shadow: 0px 1px 3px 1px rgba(0, 0, 0, 0.15);\n",
              "      filter: drop-shadow(0px 1px 2px rgba(0, 0, 0, 0.3));\n",
              "      fill: #FFFFFF;\n",
              "    }\n",
              "  </style>\n",
              "\n",
              "      <script>\n",
              "        const buttonEl =\n",
              "          document.querySelector('#df-aabf1355-c205-4750-bb67-0882a0b5454c button.colab-df-convert');\n",
              "        buttonEl.style.display =\n",
              "          google.colab.kernel.accessAllowed ? 'block' : 'none';\n",
              "\n",
              "        async function convertToInteractive(key) {\n",
              "          const element = document.querySelector('#df-aabf1355-c205-4750-bb67-0882a0b5454c');\n",
              "          const dataTable =\n",
              "            await google.colab.kernel.invokeFunction('convertToInteractive',\n",
              "                                                     [key], {});\n",
              "          if (!dataTable) return;\n",
              "\n",
              "          const docLinkHtml = 'Like what you see? Visit the ' +\n",
              "            '<a target=\"_blank\" href=https://colab.research.google.com/notebooks/data_table.ipynb>data table notebook</a>'\n",
              "            + ' to learn more about interactive tables.';\n",
              "          element.innerHTML = '';\n",
              "          dataTable['output_type'] = 'display_data';\n",
              "          await google.colab.output.renderOutput(dataTable, element);\n",
              "          const docLink = document.createElement('div');\n",
              "          docLink.innerHTML = docLinkHtml;\n",
              "          element.appendChild(docLink);\n",
              "        }\n",
              "      </script>\n",
              "    </div>\n",
              "  </div>\n",
              "  "
            ],
            "text/plain": [
              "       0       0\n",
              "0      ท  B_WORD\n",
              "1      ี  I_WORD\n",
              "2      ่  E_WORD\n",
              "3      ย  B_WORD\n",
              "4      ั  I_WORD\n",
              "...   ..     ...\n",
              "37243  ย  E_WORD\n",
              "37244  แ  B_WORD\n",
              "37245  ล  I_WORD\n",
              "37246  ้  I_WORD\n",
              "37247  ว  E_WORD\n",
              "\n",
              "[37248 rows x 2 columns]"
            ]
          },
          "metadata": {},
          "execution_count": 19
        }
      ]
    },
    {
      "cell_type": "code",
      "source": [
        "def create_data(data):\n",
        "    data= []\n",
        "    for i in data:\n",
        "            a = split(i)\n",
        "            data.append(a)\n",
        "    return data\n",
        "    \n",
        "create_data(test_text)\n"
      ],
      "metadata": {
        "colab": {
          "base_uri": "https://localhost:8080/"
        },
        "id": "BMPyewAJ4BAQ",
        "outputId": "b8a1983f-306d-41f5-f5c6-4b342e09a3af"
      },
      "execution_count": null,
      "outputs": [
        {
          "output_type": "execute_result",
          "data": {
            "text/plain": [
              "[]"
            ]
          },
          "metadata": {},
          "execution_count": 16
        }
      ]
    },
    {
      "cell_type": "code",
      "source": [
        "data = []\n",
        "label = []\n",
        "def submission(test_text):\n",
        "    for i in test_text:\n",
        "        data = split(test_text)\n",
        "        for j in data:\n",
        "            if j == data[0]:\n",
        "                label.append('B_WORD')\n",
        "            elif j == data[len(data)-1]:\n",
        "                label.append('E_WORD')\n",
        "            else:\n",
        "                label.append('I_WORD')\n",
        "        return label\n"
      ],
      "metadata": {
        "id": "sXFO8NbHylZp"
      },
      "execution_count": null,
      "outputs": []
    },
    {
      "cell_type": "code",
      "source": [
        "# for i in test_text:\n",
        "#     word = test_text[i].split()\n",
        "#     print(word) "
      ],
      "metadata": {
        "id": "hUhIrr1mqXI9"
      },
      "execution_count": null,
      "outputs": []
    },
    {
      "cell_type": "markdown",
      "source": [
        "# **OSKut**\n"
      ],
      "metadata": {
        "id": "y4I3PQageLXh"
      }
    },
    {
      "cell_type": "code",
      "source": [
        "!pip -qq install OSKut\n",
        "!pip -qq install sefr_cut"
      ],
      "metadata": {
        "id": "6lJuQ850eOP6"
      },
      "execution_count": null,
      "outputs": []
    },
    {
      "cell_type": "code",
      "source": [
        "import sys\n",
        "import oskut\n",
        "# import sefr_cut\n",
        "import numpy as np"
      ],
      "metadata": {
        "id": "f3Ozr5qKeVYw"
      },
      "execution_count": null,
      "outputs": []
    },
    {
      "cell_type": "code",
      "source": [
        "oskut.load_model(engine='ws')\n",
        "print(oskut.OSKut(text))\n"
      ],
      "metadata": {
        "colab": {
          "base_uri": "https://localhost:8080/"
        },
        "id": "1902ckB0espX",
        "outputId": "35664eb7-c79e-4ac4-e82e-e7ba58f4710b"
      },
      "execution_count": null,
      "outputs": [
        {
          "output_type": "stream",
          "name": "stdout",
          "text": [
            "['ที่', 'ยัง', 'สถานการณ์', 'ยัง', 'ไม่', 'คลี่', 'คลาย', 'อาจส่ง', 'ผล', 'กระทบการ', 'ค้า', 'ชาย', 'แดน', 'ไทย', ' ', '-', ' ', 'กัม', 'พู', 'ชา', ' ', 'ว่า', ' ', 'เท่า', 'ที่', 'เข้า', 'ไป', 'ดำ', 'เนิน', 'การ', 'ตรวจ', 'สอบ', 'ยัง', 'ไม่', 'พบ', 'ว่า', 'มี', 'การ', 'ปิด', 'ด่าน', 'บริเวณ', 'ดัง', 'กล่าว', ' ', 'และ', 'ที่', 'สำคัญการ', 'ค้า', 'ระหว่าง', 'ไทย', 'และ', 'กัม', 'พูชา', 'ส่วนใหญ่', 'จะ', 'มี', 'ปริมาณ', 'มาก', 'ที่', 'ด่าน', 'ปอย', 'เปต', ' ', 'อ.', ' ', 'อรัญประเทศ', ' ', 'จ.', ' ', 'สระแก้ว', ' ', 'มาก', 'กว่า', 'ด่าน', 'อื่น', ' ', 'ๆ', ' ', 'ส่วน', 'ที่', 'กันทร', 'ลักษ์', 'เป็น', 'ด่าน', 'ขนาด', 'เล็ก', 'จะ', 'เน้น', 'ด้าน', 'ท่องเที่ยว', ' ', 'จึง', 'ไม่', 'น่า', 'ส่ง', 'ผล', 'กระทบ', 'ต่อบรรยากาศการ', 'ค้า', 'ชาย', 'แดน', 'ไทย', ' ', '-', ' ', 'กัม', 'พูชา', 'แต่', 'อย่าง', 'ใด', ' ', 'อย่าง', 'ไร', 'ก็', 'ตาม', ' ', 'แม้', 'จะ', 'มี', 'ปัญหา', 'ความ', 'ขัดแย้ง', 'เรื่อง', 'เขา', 'พระวิหาร', ' ', 'แต่', 'ปริมาณ', 'การ', 'ค้า', 'ชาย', 'แดน', 'ไทย', ' ', '-', ' ', 'กัม', 'พู', 'ชาใน', 'ปี', 'ที่', 'ผ่าน', 'มา', 'ยัง', 'คง', 'เพิ่ม', 'ขึ้น', ' ', 'โดย', 'มี', 'จำปริมาณ', 'ทั้ง', 'สิ้น', ' ', '48,', '406', ' ', 'ล้าน', 'บาท', ' ', 'เพิ่ม', 'ขึ้น', 'เมื่อ', 'เทียบ', 'กับ', 'ปี', ' ', '2549', ' ', 'ร้อยละ', ' ', '0.2', ' ', 'โดย', 'เป็น', 'การ', 'ส่ง', 'ออกจาก', 'ไทย', 'ทั้ง', 'สิ้น', ' ', '4', '6,', '718', ' ', 'ล้าน', 'บาท', ' ', 'ขณะ', 'ที่', 'มี', 'การ', 'นำ', 'เข้า', 'สิน', 'ค้า', 'จาก', 'กัม', 'พู', 'ชาเพียง', ' ', '1,', '689', ' ', 'ล้าน', 'บาท', 'เท่า', 'นั้น', ' ', 'ทั้ง', 'นี้', ' ', 'ใน', 'ช่วง', ' ', '5', ' ', 'เดือน', 'แรก', 'ปี', 'นี้', ' ', '(', ' ', 'ม.ค.', ' ', '-', ' ', 'พ.ค.', ' ', '2551', ' ', ')', ' ', 'การ', 'ค้า', 'ทั้ง', 'สอง', 'ประเทศ', 'มี', 'มูล', 'ค่า', 'รวม', 'ทั้ง', 'สิ้น', ' ', '29,', '677', ' ', 'ล้าน', 'บาท', ' ', 'เพิ่ม', 'ขึ้น', 'เมื่อ', 'เทียบ', 'กับ', 'ช่วง', 'เดียว', 'กัน', 'ของ', 'ปี', 'ที่', 'ผ่าน', 'มา', 'ร้อย', 'ละ', ' ', '59.2', ' ', 'โดย', 'ไทย', 'ส่ง', 'ออกมูล', 'ค่า', 'ทั้ง', 'สิ้น', ' ', '28', ',', '680', ' ', 'ล้าน', 'บาท', ' ', 'และ', 'มี', 'การ', 'นำ', 'เข้า', 'เพียง', ' ', '997', ' ', 'ล้าน', 'บาท', ' ', 'ถกนอกรอบ', ' ', '\"', ' ', 'ไทย', ' ', '-', ' ', 'เขมร', ' ', '\"', ' ', '8', ' ', 'ชม.', ' ', 'สรุป', ' ', '\"', ' ', 'ตรึง', 'กำลัง', 'ทหาร', ' ', '-', ' ', 'ห้ามยิง', ' ', '\"', ' ', 'ผล', 'การ', 'ประชุม', 'ร่วม', 'ไทย', ' ', '-', ' ', 'กัม', 'พูชา', 'น', 'อกรอบรวม', ' ', '8', ' ', 'ชั่วโมง', ' ', 'ได้', 'ข้อสรุป', ' ', '\"', ' ', 'ลด', 'อุณหภูมิ', 'ความ', 'ตึง', 'เครียด', ' ', 'ห้าม', 'ยิง', ' ', 'คง', 'กำลัง', 'ทหาร', ' ', '\"', ' ', 'ส่วน', 'การ', 'แก้', 'ปัญหา', 'พื้น', 'ที่', 'ทับ', 'ซ้อน', 'ยัง', 'ติด', 'ข้อ', 'กฎหมาย', ' ', 'ทั้ง', 'สอง', 'ฝ่าย', 'ต้อง', 'นำ', 'กลับ', 'ไป', 'พิจารณา', 'และ', 'นำ', 'มา', 'หารือ', 'กัน', 'อีก', 'ครั้ง', ' ', 'ปลัด', 'บัว', 'แก้ว', 'ไม่', 'ตอบ', 'ข้อ', 'กฎหมาย', 'บอก', 'ต้อง', 'ราย', 'งาน', 'รัฐบาล', 'ก่อน', ' ', 'เมื่อ', 'เวลา', ' ', '13.00', ' ', 'น.', ' ', 'วัน', 'ที่', ' ', '21', ' ', 'ก.ค.', ' ', 'หลัง', 'หารือ', 'ทวิภา', 'คี', ' ', 'ระหว่าง', ' ', 'พล', '.อ.', ' ', 'บุญ', 'สร้าง', ' ', 'เนียม', 'ประดิษฐ์', ' ', 'สส.', ' ', 'หัว', 'หน้า', 'คณะ', 'ฝ่าย', 'ไทย', ' ', 'และ', ' ', 'พล', '.อ. เตีย บันห์', ' ', 'รอง', 'นายก ', 'ฯ', ' ', 'และ', ' ', 'รมว.', ' ', 'กลา', 'โหม', ' ', 'ประธาน', 'ฝ่าย', 'กัม', 'พู', 'ชา', ' ', 'เสร็จ', 'สิ้นลง', ' ', 'ได้', 'มี', 'การ', 'ประชุม', 'กลุ่ม', 'เล็ก', 'ของ', 'สอง', 'ประเทศ', ' ', 'ฝ่าย', 'ละ', ' ', '5', ' ', 'คน', ' ', 'ฝ่าย', 'ไทย', 'นำโดย', ' ', 'พล', '.อ.', ' ', 'บุญ', 'สร้าง', ' ', 'พล.อ.', ' ', 'อนุพงษ์', ' ', 'เผ่า', 'จิน', 'ดา', ' ', 'พล.', 'อ', '.', ' ', 'ทรง', 'กิตติ ', 'จักรบาตร์', ' ', 'เสนาธิการ', 'ทหารบก', ' ', 'พล.ท.', ' ', 'พิพัทธ์ ', 'ทอง', 'เล็ก', ' ', 'เจ้ากรม', 'กิจ', 'การ', 'ชาย', 'แดนทหาร', ' ', 'และ', 'นาย', 'วีรศักดิ์ ', 'ฟูตระกูล', ' ', 'ปลัดกระทรวง', 'การ', 'ต่าง', 'ประเทศ', ' ', 'ฝ่าย', 'กัม', 'พู', 'ชา', 'ประกอบ', 'ด้วย', ' ', 'พล', '.อ.', ' เตีย', ' ', 'บันห์', ' ', 'พล.อ', '.', ' ', 'เนียง', ' ', 'พาด', ' ', 'รมช.', ' ', 'กลา', 'โหม', ' ', 'นาย', 'ลอง', ' ', 'วิสาโล', ' ', 'รมช.', ' ', 'ต่าง', 'ประเทศ', 'ความ', 'ร่วม', 'มือ', 'ระหว่าง', 'ประเทศ', ' ', 'นาย', 'วาร์', ' ', 'กิม', ' ฮอง', ' ', 'รัฐมนตรี', 'อาวุโส', ' ', 'และ', 'ที่', 'ปรึกษา', 'รัฐบาล', 'กัมพูชา', 'ส่วน', 'กิจการ', ' ', 'ใน', 'ฐานะ', 'ประธาน', 'คณะกรร', 'มาธิการ', 'เขต', 'แดน', 'ร่วม', 'ฝ่าย', 'กัม', 'พู', 'ชา', ' ', 'และ', ' ', 'พล.อ.', ' ', 'พอล', ' ', 'ซาเรือน', ' ', 'รอง', ' ', 'ผบ.', ' ', 'สส.', ' ', 'และ', 'เสนาธิการทหาร', 'แห่ง', 'กองทัพ', 'กัม', 'พู', 'ชา', ' ', 'การ', 'ประชุม', 'กลุ่ม', 'เล็ก', ' ', 'เป็น', 'การ', 'หารือ', 'เพื่อ', 'แก้', 'ปัญหา', 'เฉพาะ', 'ข้อ', 'พิพาท', 'ตาม', 'แนว', 'ชาย', 'แดน', ' ', 'ไทย', ' ', '-', ' ', 'กัม', 'พู', 'ชา', ' ', 'ซึ่ง', 'หลัง', 'การ', 'ประชุม', 'ผ่าน', 'ไป', ' ', '2', ' ', 'ชั่ว', 'โมง', ' ', 'ยัง', 'ไม่', 'มี', 'ที', 'ท่า', 'จะยุติ', ' ', 'ทำ', 'ให้', 'การ', 'ประชุม', 'คณะกรรมการ', 'ชาย', 'แดน', 'ทั่ว', 'ไป', ' ', '(', ' ', 'จี', 'บีซี', ' ', ') ', 'ไทย', ' ', '-', ' ', 'กัม', 'พูชา', ' ', 'สมัย', 'วิสามัญ', ' ', 'ยัง', 'ไม่', 'สามารถ', 'เริ่ม', 'ได้', ' ', 'ราย', 'งาน', 'ข่าว', 'แจ้ง', 'ว่า', ' ', 'การ', 'ประชุม', 'คณะกรรมการ', 'ชาย', 'แดน', 'ทั่ว', 'ไป', 'ไทย', ' ', '-', ' ', 'กัม', 'พูชา', ' ', 'สามัญวิสามัญ', 'นั้น', ' ', 'จะ', 'มี', 'การ', 'ประชุม', 'ร่วม', 'กัน', ' ', '2', ' ', 'แนว', 'ทาง', ' ', 'คือ', ' ', 'แนว', 'ทาง', 'ที่', ' ', '1.', ' ', 'จะ', 'มี', 'การ', 'หารือ', 'กัน', 'แบบ', 'ตัว', 'ต่อ', 'ตัว', ' ', 'คือ', ' ', 'พล', '.อ.', ' เตีย', ' ', 'บันห์', ' ', 'และ', ' ', 'พล.อ.', ' ', 'บุญ', 'สร้าง', ' ', 'ส่วน', 'แนว', 'ทาง', 'ที่', ' ', '2', '.', ' ', 'คือ', 'จะ', 'หารือ', 'กัน', 'ระหว่าง', ' ', 'พล', '.อ.', ' เตีย', ' ', 'บันห์', ' ', 'และ', ' ', 'พล.อ.', ' ', 'บุญ', 'สร้าง', 'พร้อม', 'คณะ', 'ฝ่าย', 'ไทย', ' ', 'และ', 'กัม', 'พู', 'ชา', 'อีก', 'ฝ่าย', 'ละ', ' ', '4', ' ', 'คน', ' ', 'โดย', 'เฉพาะ', 'ประเด็น', 'ที่', 'จะ', 'หารือ', 'กัน', ' ', 'คือ', ' ', 'การ', 'ลด', 'ความ', 'ตึง', 'เครียด', 'บริเวณ', 'ปราสาท', 'พระวิหาร', 'โดย', 'เฉพาะอาจ', 'จะ', 'มี', 'การ', 'ลด', 'กำลัง', 'ทหาร', 'ของ', 'ทั้ง', 'สอง', 'ฝ่าย', 'ออก', 'ไป', 'เพื่อ', 'ลด', 'ความ', 'ตึง', 'เครียด', ' ', 'ชี้', 'เพราะ', 'สอง', 'ฝ่าย', 'ต้อง', 'การ', 'หา', 'ข้อยุ', 'ติ', 'ให้', 'ได้', ' ', 'นาย', 'วีรศักดิ์ ', 'ฟูตระกูล', ' ', 'ปลัดกระทรวง', 'การ', 'ต่าง', 'ประเทศ', ' ', 'เปิดเผย', 'ว่า', ' ', 'การ', 'หารือ', 'ทวิภา', 'คี', ' ', 'ระหว่าง', ' ', 'พล', '.อ.', ' ', 'บุญ', 'สร้าง', ' ', 'พล', '.อ.', ' ', 'เตีย', ' ', 'บันห์', ' ', 'เป็น', 'ไป', 'อย่าง', 'สร้าง', 'สรรค์', ' ', 'แม้', 'การ', 'เจร', 'จา', 'หา', 'ข้', 'อยุติ', 'เรื่อง', 'ปราสาท', 'พระวิหาร', 'ต้อง', 'ยืด', 'เยื้อ', 'ออก', 'ไป', 'จาก', ' ', '15', ' ', 'นาที', ' ', 'เป็น', ' ', '3', ' ', 'ชั่วโมง', ' ', 'ก็', 'เป็น', 'เพราะ', 'ทั้ง', 'สอง', 'ฝ่าย', 'ต้อง', 'การ', 'หา', 'ข้', 'อยุติ', 'เรื่อง', 'นี้', 'ให้', 'ได้', ' ', 'จัด', 'กำลัง', 'ทหาร', ' ', '-', ' ', 'ตำรวจดู', 'แล', 'เข้ม', 'ความ', 'ปลอด', 'ภัย', 'จี', 'บีซี', ' ', 'พล.ต', '.', ' วลิต', ' โรจน', 'ภัก', 'ดี', ' ', 'ผู้บัญชาการ', 'กอง', 'พล', 'ท', 'หาร', 'ราบ', 'ที่', ' ', '2', ' ', 'รักษา', 'พระองค์', ' ', '(', ' ', 'พล.ร.2รอ.', ' ', ')', ' ', 'และ', ' ', 'ผู้บัญชา', 'การ', 'กอง', 'กำลัง', 'บูร', 'พา', ' ', 'เปิด', 'เผย', 'ว่า', ' ', 'การ', 'ดูแล', 'รักษา', 'ความ', 'ปลอด', 'ภัย', 'ใน', 'วัน', 'นี้', ' ', 'ได้', 'มี', 'การ', 'สนธิกำลัง', 'จาก', 'ฝ่าย', 'ทหาร', ' ', 'ตำรวจ', ' ', 'และ', ' ', 'พล', 'เรือน', ' ', 'โดย', 'ทาง', 'กอง', 'กำลัง', 'บูรพา', 'ได้', 'จัด', 'กำลัง', 'จากกรมทหาร', 'พราน', 'ที่', ' ', '12', ' ', 'กรมทหาร', 'พราน', 'ที่', ' ', '13', ' ', 'และ', ' ', 'มณฑล', 'จังหวัด', 'ทหาร', 'บก', 'สระแก้ว', ' ', 'เพื่อ', 'ดู', 'แล', 'ตั้ง', 'แต่', 'บริเวณ', 'ด่านพรม', 'แดน', 'คลอง', 'ลึก', ' ', 'จน', 'ถึง', ' ', 'รร._', 'อินโดจีน', ' ', 'อ.', ' ', 'อรัญประเทศ', ' ', 'จ.', ' ', 'สระแก้ว', ' ', 'พล.ต', '.', ' วลิต', ' ', 'กล่าว', 'อี', 'กว่า', ' ', 'การ', 'ดูแล', 'รักษา', 'ความ', 'ปลอด', 'ภัย', 'วัน', 'นี้', 'ไม่', 'น่า', 'เป็น', 'ห่วง', ' ', 'และ', 'เชื่อ', 'ว่า', 'ส', 'ถานการณ์', 'จะ', 'ไม่', 'เกิด', 'ความรุน', 'แรง', 'หรือ', 'ยุ่ง', 'ยาก', ' ', 'ส่วน', 'การ', 'เรียกร้อง', 'ของ', 'ธรรมญาติ', 'ตา', 'ใน', 'วัน', 'นี้', 'ก็', 'ไม่', 'ได้', 'มี', 'การ', 'อะไร', 'รุน', 'แรง', ' ', 'เนื่อง', 'จาก', 'กลุ่ม', 'ดัง', 'กล่าว', 'นำ', 'เอก', 'สาร', 'มายื่น', 'ให้', 'ตน', 'นำเรียน', 'ต่อ', 'ที่', 'ประชุม', 'คณะกรรมการ', 'ชาย', 'แดน', 'ไทย', ' ', '-', ' ', 'กัม', 'พูชา', ' ', 'สมัยวิสามัญกรณี', 'พิเศษ', 'เท่า', 'นั้น', ' ', 'ราย', 'งาน', 'ข่าว', 'แจ้ง', 'ว่า', ' ', 'จาก', 'การ', 'ที่', 'มี', 'เจ้า', 'หน้า', 'ที่', 'ทหาร', 'พราน', 'และ', 'ตำรวจ', ' ', 'เข้า', 'ไป', 'ดู', 'แล', 'พื้น', 'ที่', 'บริเวณ', 'หน้า', 'ด่าน', 'พรม', 'แดน', 'อรัญประเทศ', ' ', 'จำนวน', 'มาก', 'ทำ', 'ให้', 'พ่อ', 'ค้า', ' ', 'แม่', 'ค้า', ' ', 'ชาว', 'กัม', 'พู', 'ชา', 'และ', 'ประชาชน', 'ชาว', 'กัม', 'พูชา', ' ', 'ใน', 'ตลาด', 'โรง', 'เกลือ', 'และ', 'ฝั่ง', 'ปอย', 'เปต', ' ', 'ประเทศ', 'กัม', 'พูชารวม', 'ถึง', 'พนักงาน', 'บ่อน', 'กาสิโน', 'ฝั่ง', 'ปอย', 'เปต', ' ', 'ซึ่ง', 'เป็น', 'ชาว', 'ไทย', ' ', 'เกิด', 'ความ', 'แตกตื่น', 'คิด', 'ว่า', 'ทาง', 'การ', 'ไทย', 'เตรียม', 'ปิด', 'ด่าน', 'พรม', 'แดน', 'อรัญ', 'ประเทศ', ' ', 'ทำ', 'ให้', 'พ่อ', 'ค้า', ' ', 'แม่', 'ค้า', ' ', 'ชาว', 'เขมร', 'หลาย', 'ราย', 'กลัว', 'จัด', 'รีบ', 'ขน', 'ของ', 'และ', 'สิน', 'ค้า', 'ของ', 'ตน', 'เอง', 'บาง', 'ส่วน', 'ใน', 'ตลาด', 'โรง', 'เกลือ', ' ', 'กลับ', 'ไป', 'ฝั่ง', 'กัม', 'พูชา', ' ', 'ส่วน', 'พนักงาน', 'บ่อน', ' ', 'ฯ', ' ', 'ต้องโทรศัพท์', 'สอบ', 'ถาม', 'กัน', 'ให้', 'วุ่น', 'ทำ', 'ให้', ' ', 'จนท.', ' ', 'ต้อง', 'รีบ', 'ประชา', 'สัมพันธ์', 'ว่า', 'ไม่', 'ได้', 'มี', 'การ', 'ปิด', 'ด่าน', 'การ', 'ที่', 'ส่ง', ' ', 'จนท.', ' ', 'มา', 'มาก', 'เนื่อง', 'จาก', 'ต้องการ', 'มารักษา', 'ความ', 'ปลอด', 'ภัย', 'ให้', 'กับ', ' ', 'จนท.', ' ', 'ระดับ', 'สูง', 'ของ', 'กัม', 'พู', 'ชา', ' ', 'จึง', 'ทำ', 'ให้', 'ชาว', 'กัม', 'พู', 'ชา', 'คลายวิต', 'กลง', 'ได้', ' ', 'แต่', 'ยังคง', 'มี', 'บาง', 'ส่วน', 'ยัง', 'ไม่', 'มั่น', 'ใจ', ' ', 'ยัง', 'คง', 'เดิน', 'ทาง', 'กลับ', 'เข้า', 'ประเทศ', ' ', 'มี', 'ข้อ', 'เสนอ', ' ', '\"', ' ', 'ห้าม', 'ยิง', 'เพิ่ม', 'กำลัง', 'ทหาร', 'การ', 'เมือง', 'ห้าม', 'ยุ่ง', ' ', '\"', ' ', 'สำหรับ', 'บรรยายการ', 'ประชุม', 'ใน', 'การ', 'หารือ', 'กัน', 'นอก', 'รอบ', 'นั้น', ' ', 'ได้', 'ใช้', 'เวลา', 'หารือ', 'กัน', 'นาน', 'กว่า', 'ที่', 'ได้', 'กำหนด', 'ใน', 'ช่วง', 'เช้า', 'ประมาณ', ' ', '3', ' ', 'ชั่วโมง', ' ', 'และ', 'ใน', 'ช่วง', 'บ่าย', 'เริ่ม', 'ประชุม', 'เหลือ', 'ฝ่าย', 'ละ', ' ', '3', ' ', 'คน', ' ', 'ประกอบ', 'ด้วย', ' ', 'พล', '.อ.', ' ', 'บุญ', 'สร้าง', ' ', 'พล.อ.', ' ', 'อนุพงษ์', ' ', 'และ', 'นาย', 'วีระศักดิ์', ' ', 'ส่วน', 'ฝ่าย', 'กัม', 'พู', 'ชา', 'ประกอบ', 'ด้วย', ' ', 'พล', '.อ.', ' เตีย', ' ', 'บันห์', ' ', 'พล.อ', '.', ' ', 'เนียง', ' ', 'พาด', ' ', 'นาย', ' ', 'ลอง', ' ', 'วิสาโล', ' ', 'ทำ', 'ให้', 'การ', 'ประชุม', 'ต้อง', 'ยืด', 'เยื้อ', 'ออก', 'ไป', 'เพราะ', 'ยัง', 'ไม่', 'ได้', 'ข้อ', 'สรุป', 'ที่', 'แน่', 'ชัด', ' ', 'ดัง', 'นั้น', 'กำหนด', 'การ', 'ต่าง', ' ', 'ๆ', ' ', 'จึง', 'ต้อง', 'เลื่อน', 'ไป', 'อย่าง', 'ไม่', 'มี', 'กำหนด', ' ', 'ราย', 'งาน', 'ข่าว', 'แจ้ง', 'ว่า', ' ', 'ใน', 'ที่', 'ประชุม', 'ได้', 'มี', 'การ', 'หารือ', 'โดย', 'ได้', 'เสนอใน', ' ', '3', ' ', 'ประเด็น', ' ', 'คือ', ' ', '1', '.', ' ', 'ห้ามยิง', ' ', '2', '.', ' ', 'ห้าม', 'เพิ่ม', 'กำลัง', 'ทหาร', 'ทั้ง', ' ', '2', ' ', 'ฝ่าย', ' ', 'และ', ' ', '3', '.', ' ', 'ห้าม', 'นำผล', 'การ', 'ประชุม', 'ไป', 'เป็น', 'ประเด็น', 'การเมือง', ' ', 'ผล', 'กา', 'รถก', 'นอกรอบ', ' ', '\"', ' ', 'มุ่ง', 'ลด', 'อุณหภูมิ', 'ความ', 'ตึง', 'เครียด', ' ', '\"', ' ', 'หลัง', 'หารือ', 'นอกรอบ', 'ใช้', 'เวลา', 'ประมาณ', ' ', '8', ' ', 'ชั่วโมง', 'ได้', 'ยุ', 'ติ', 'ลง', 'เมื่อ', 'เวลา', 'ประมาณ', ' ', '18.15', ' ', 'น.', ' ', 'พล.อ. เตีย', ' ', 'บันห์', ' ', 'และ', ' ', 'พล.อ.', ' ', 'บุญ', 'สร้าง', 'พร้อม', 'คณะ', 'ได้', 'ร่วม', 'กัน', 'แถลง', 'ข่าว', ' ', 'โดย', ' ', 'พล', '.อ. เตีย', ' ', 'บันห์', ' ', 'กล่าว', 'ว่า', ' ', 'ที่', 'ประชุม', 'ได้', 'ข้อ', 'สรุป', 'ว่า', ' ', 'ต้อง', 'พยายาม', 'ให้', 'หลีก', 'เลี่ยงการ', 'เผชิญ', 'หน้า', ' ', 'ไม่', 'ให้', 'เกิด', 'ความ', 'รุน', 'แรง', ' ', 'ส่วน', 'ที่', 'อุณหภูมิ', 'ความ', 'ตึง', 'เครียด', ' ', 'ยัง', 'ไม่', 'ลดลง', ' ', 'ทั้ง', 'สอง', 'ฝ่าย', 'ก็', 'อยาก', 'ให้', 'อุณหภูมิลดลง', ' ', '\"', ' ', 'การหารือ', 'ต่าง', ' ', 'ๆ', ' ', 'ได้', 'ข้', 'อ', 'ยุติ', 'เป็น', 'ส่วนใหญ่', 'แล้ว', ' ', 'ติด', 'แค่', 'ข้อ', 'กฏหมาย', 'เท่านั้น', ' ', 'ทำ', 'ให้', 'การ', 'ประชุม', 'คณะกรรมการ', 'ชาย', 'แดน', 'ทั่ว', 'ไป', ' ', '(', ' ', 'จี', 'บีซี', ' ', ') ', 'ไทย', ' ', '-', ' ', 'กัม', 'พูชา', ' ', 'สมัยวิสามัญ', ' ', 'เริ่ม', 'ขึ้น', 'ไม่', 'ได้', ' ', '\"', ' ', 'พล', '.อ.', ' ', 'เตีย', ' ', 'บันห์', ' ', 'กล่าว', ' ', 'และ', 'ว่า', 'อ', 'ยาก', 'จะ', 'บอก', 'ด้วย', 'ความ', 'จริง', 'ใจ', 'ว่า', ' ', 'หลาย', 'วัน', 'ที่', 'ผ่าน', 'มา', ' ', 'เหตุการณ์', 'ที่', 'เขา', 'พระวิหาร', 'ทั้ง', 'สอง', 'ฝ่าย', 'เป็น', 'ห่วง', ' ', 'ซึ่ง', 'ตน', 'ใช้', 'คำ', 'ว่า', 'อุณหภู', 'มิ', 'เพิ่ม', 'ขึ้น', ' ', 'จึง', 'อยาก', 'ให้', 'ทุก', 'อย่าง', 'จบ', 'ด้วย', 'ความ', 'ราบรื่น', ' ', 'สิ่ง', 'ที่', 'ทั้ง', 'สอง', 'ฝ่าย', 'หารือ', 'กัน', ' ', 'แม้', 'ใช้', 'เวลา', 'นาน', ' ', 'แต่', 'ทั้ง', 'สอง', 'ฝ่าย', 'ได้', 'ผล', 'ที่', 'พอใจ', ' ', 'แต่', 'ผล', 'เหล่า', 'นั้น', 'ยัง', 'นำ', 'ไป', 'ปฏิบัติ', 'เป็น', 'รูปธรรม', 'ไม่', 'ได้', ' ', 'เนื่อง', 'จาก', 'ขัด', 'ต่อ', 'ข้อ', 'กฏหมาย', 'บาง', 'ประการ', ' ', 'ต้อง', 'ส่ง', 'เรื่อง', 'ไป', 'หารือ', 'กับ', 'รัฐบาล', ' ', 'ทั้ง', 'สอง', 'ฝ่าย', 'เข้า', 'ใจ', 'กัน', 'ใน', 'จุด', 'นี้', ' ', 'และ', 'สิ่ง', 'ที่', 'จะ', 'ทำ', 'ต่อ', 'ไป', 'ก็', 'คือ', ' ', 'จะ', 'ทำ', 'สิ่ง', 'ที่', 'ควร', 'จะ', 'ทำ', ' ', 'พล', '.อ.', ' ', 'บุญสร้าง', 'กล่าว', 'ว่า', ' ', 'เบื้อง', 'ต้น', 'ทั้ง', 'สอง', 'ฝ่าย', ' ', 'จะ', 'ให้', 'ทหาร', 'ให้', 'อยู่', 'กับ', 'ที่', 'ของ', 'แต่', 'ละ', 'ฝ่าย', ' ', 'และ', 'ไม่', 'มี', 'การ', 'ใช้', 'ความรุน', 'แรง', ' ', 'ไม่', 'ใช้', 'อาวุธ', ' ', 'ส่วน', 'เรื่อง', 'ข้อ', 'กฏหมาย', 'ที่', 'ติด', 'ขัด', ' ', 'ต้อง', 'ถามนัก', 'กฏหมาย', ' ', 'เมื่อ', 'ถาม', 'ว่า', ' ', 'บัน', 'ทึก', 'ความตกลง', 'เมื่อ', 'ปี', ' ', '2543', ' ', 'ได้', 'ยก', 'มา', 'หารือ', 'หรือ', 'ไม่', ' ', 'ผบ', '.', ' ', 'สส.', ' ', 'กล่าว', 'ว่า', ' ', 'นำ', 'มาหารือ', ' ', 'ต่อ', 'ข้อ', 'ถาม', 'ว่า', ' ', 'การ', 'หารือ', 'ครั้ง', 'นี้', 'ล้ม', 'เหลว', 'หรือ', 'ไม่', ' ', 'พล', '.อ.', ' ', 'บุญ', 'สร้าง', 'ว่า', ' ', 'ไม่', 'ได้', 'ล้ม', 'เหลว', ' ', 'ได้', 'อะไร', 'มาก', ' ', 'ได้', 'ประโยชน์', ' ', 'แต่', 'ไม่', 'ได้', 'ข้อ', 'เสนอ', 'ที่', 'จะ', 'ไป', 'เสนอรัฐบาล', 'เท่านั้น', ' ', 'เพราะ', 'ต่าง', 'คน', 'ต่าง', 'รู้', 'ว่า', 'จุด', 'ยืน', 'แต่', 'ละ', 'ฝ่าย', 'เป็น', 'อย่าง', 'ไร', ' ', 'และ', 'ติด', 'ข้อ', 'กฏหมาย', ' ', 'จึง', 'นำไป', 'สู่', 'รูปธรรม', 'ไม่', 'ได้', ' ', 'และ', 'จะ', 'ประชุม', 'อีก', 'ครั้ง', ' ', 'หลัง', 'นำ', 'ผล', 'หารือ', 'ไป', 'แจ้ง', 'รัฐบาล', ' ', 'ว่า', 'ผล', 'หารือ', 'เป็น', 'อย่าง', 'ไร', ' ', 'ติด', 'ขัด', 'อะไร', ' ', 'หลัง', 'จาก', 'แถลง', 'ข่าว', 'เสร็จ', ' ', 'พล', '.อ.', ' ', 'เตีย', ' ', 'บันห์', 'และ', 'คณะ', 'ได้', 'เดิน', 'ทาง', 'กลับ', 'ประเทศ', 'กัม', 'พูชา', ' ', 'ขณะ', 'ที่', ' ', 'พล', '.', 'อ.', ' ', 'บุญ', 'สร้าง', 'ยัง', 'คง', 'ถูก', 'นัก', 'ข่าว', 'ไทย', 'สอบถาม', 'ต่อ', 'ใน', 'รายละเอียด', ' ', 'ปลัด', 'บัว', 'แก้ว', 'ไม่', 'ตอบ', 'ข้อ', 'กฎหมาย', 'ที่', 'ติด', 'ขัด', ' ', 'นาย', 'วีระศักดิ์ ', 'ฟู', 'ตระกูล', ' ', 'ปลัดกระทรวง', 'การ', 'ต่าง', 'ประเทศ', ' ', 'ปฏิเสธ', 'ที่', 'จะ', 'ตอบ', 'คำถาม', 'สื่อ', 'มวลชน', 'เกี่ยว', 'กับ', 'ข้อ', 'กฏหมาย', ' ', 'ที่', 'ไทย', ' ', '-', ' ', 'กัม', 'พูชา', ' ', 'ยัง', 'ตกลง', 'กัน', 'ไม่', 'ได้', ' ', 'ใน', 'การ', 'ประชุม', 'กลุ่ม', 'ย่อย', 'เพื่อ', 'แก้', 'ปัญหา', 'ความ', 'ขัดแย้ง', 'ปราสาท', 'เขา', 'พระวิหาร', ' ', 'โดยกล่าว', 'เพียง', 'ว่า', ' ', 'ติด', 'ขัด', 'เรื่อง', 'กฏหมาย', 'ระหว่าง', 'ประเทศ', 'ที่', 'มี', 'ความ', 'ซับ', 'ซ้อน', 'มาก', ' ', 'ผล', 'การ', 'ประชุม', 'ครั้ง', 'นี้', 'ตน', 'ยัง', 'ไม่', 'อยาก', 'พูด', 'ถึง', ' ', 'เพราะ', 'ต้อง', 'ราย', 'งาน', 'รัฐบาล', 'ก่อน', ' ', 'เรื่อง', 'นี้', 'ค่อน', 'ข้าง', 'ยาก', 'ใน', 'การ', 'แก้', 'ไข', 'ปัญหา', ' ', 'และ', 'ต้อง', 'ใช้', 'เวลา', 'ใน', 'การเจรจา', 'มาก', ' ', 'ด้าน', 'นาย', 'วีรชัย', ' ', 'พลา', 'ศรัย', ' ', 'เอก', 'อัครราชทูต', ' ', 'ประจำ', 'กระทรวง', 'การ', 'ต่าง', 'ประเทศ', ' ', 'อดี', 'ตอ', 'ธิบ', 'ดีกรม', 'สนธิสัญญา', 'และ', 'กฏหมาย', ' ', 'ใน', 'ฐา', 'นะ', 'ที่', 'ปรึกษา', 'กฏหมาย', 'ฝ่าย', 'ไทย', ' ', 'ก็', 'ปฏิเสธ', 'ที่', 'จะ', 'ขยาย', 'ความ', 'ถึง', 'ข้อ', 'กฏหมาย', 'ระหว่าง', 'ประเทศ', 'ที่', 'ติด', 'ขัด', ' ', 'เพราะ', 'อาจ', 'มี', 'ผล', 'ต่อการ', 'เจรจา', 'ที่', 'ยัง', 'ไม่', 'ได้', 'ข้', 'อยุติ', ' ', 'รวบ', 'หนุ่มนรา', ' ', 'ฯ', ' ', 'ถ่าย', 'คลิป', ' ', 'นร.', ' ', 'สาว', ' ', '3', ' ', 'คน', 'หวัง', 'แบล็คเมล์', ' ', 'สาว', ' ', '20', ' ', 'ปีสุด', 'ทน', 'แจ้ง', 'ตำรวจ', ' ', 'ทหาร', 'จับ', 'หนุ่ม', 'ขาย', 'ยา', 'ลูกกลอน', 'ใช้', 'ไฟ', 'ฟ้า', 'ช็อต', ' ', '-', ' ', 'มีด', 'จี้', 'คอ', ' ', 'บัง', 'คับ', 'ข่ม', 'ขืน', 'ถ่าย', 'คลิป', ' ', 'วิ', 'ดี', 'โอแบล็คเมล์', 'รีดเงิน', 'นาน', 'เกือบ', 'ปี', ' ', 'ค้น', 'ห้อง', 'พัก', 'พบ', 'คลิป', 'วิดีโอนัก', 'เรียน', 'สาว', 'อีก', ' ', '3', ' ', 'คน', ' ', 'และ', 'วี', 'ซี', 'ดี', 'ลามก', 'อีกนับ', 'ร้อย', 'แผ่น', ' ', 'เมื่อ', 'เวลา', ' ', '21.30', ' ', 'น.', ' ', 'วัน', 'ที่', ' ', '21', ' ', 'ก.ค.', ' ', 'ที่', ' ', 'สภ.', ' ', 'เมือง', ' ', 'จ.', ' ', 'นราธิวาส', ' ', 'พ.ต.อ.', ' ', 'สมพงษ์', ' ', 'ชิงดวง', ' ', 'รอง', ' ', 'ผบ', 'ก.', ' ', 'ภ.จว.นราธิวาส', ' ', 'พ.ท.', ' ', 'จรัญ', ' ', 'เอี่ยมฐานนท์', ' ', 'รอง', 'ผู้', 'บังคับ', 'การกรมทหาร', 'พราน', 'ที่', ' ', '45', ' ', 'ได้', 'เดิน', 'ทาง', 'มา', 'ร่วม', 'แถลง', 'ข่าว', 'การ', 'จับ', 'กุม', 'ตัว', ' ', 'นาย', 'โม', 'หำหมัดซอรี', ' ', 'สะมะ', 'แอ', ' ', 'อายุ', ' ', '39', ' ', 'ปี', ' ', 'อา', 'ชีพขายยา', 'ลูกกลอน', ' ', 'อยู่', 'บ้าน', 'เลข', 'ที่', ' ', '30', ' ', 'ซอย', 'ปอฮงกือ', 'ปัส', ' ', '1', ' ', 'ถนน', 'จารุ', 'เสถียร', ' ', 'ต.', ' ', 'ปะลุรู', ' ', 'อ.', ' ', 'สุไหง', 'ปา', 'ดี', ' ', 'จ.', ' ', 'นราธิวาส', ' ', 'ผู้', 'ต้องหา', 'ข่มขืน', ' ', 'บังคับ', 'ขู่', 'เข็ญ', ' ', 'กรรโชกทรัพย์', ' ', 'พ.ต.อ.', ' ', 'สมพงษ์', ' ', 'เปิด', 'เผย', 'ว่า', ' ', 'ก่อน', 'การ', 'วาง', 'แผน', 'จับ', 'กุม', 'ผู้', 'ต้อง', 'หาครั้ง', 'นี้', ' ', 'สืบ', 'เนื่อง', 'จาก', 'ทาง', 'ตำรวจ', 'ได้', 'รับ', 'แจ้ง', 'เบาะ', 'แสจาก', ' ', 'น.ส.', ' ', 'ส้ม', ' ', '(', ' ', 'นาม', 'สมมติ', ' ', ')', ' ', 'อายุ', ' ', '20', ' ', 'ปี', ' ', 'ว่า', 'ได้', 'ถูกนาย', 'โม', 'หำหมัด', ' ', 'บัง', 'คับ', 'ข่ม', 'ขืน', 'และ', 'ถ่าย', 'คลิป', 'วิดี', 'โอ', 'เอา', 'ไว้', 'ขณะ', 'ที่', 'กำลัง', 'มี', 'เพศ', 'สัมพันธ์', 'เพื่อรีด', 'ไถ', 'ทรัพย์สิน', ' ', 'ต่อ', 'มา', 'นาย', 'โม', 'หำหมัด', 'ก็', 'ได้', 'ใช้', 'คลิป', 'วิดีโอ', 'ดังกล่าว', 'เป็น', 'เครื่อง', 'มือ', 'ใน', 'การ', 'บัง', 'คับ', 'ขู่', 'เข็ญ', 'เพื่อ', 'จะ', 'ขอร่วม', 'เพศ', 'อีก', ' ', 'รวม', 'ไป', 'ถึง', 'การ', 'กรรโชก', 'ทรัพย์', ' ', 'เป็น', 'เวลาเกือบ', ' ', '1', ' ', 'ปี', ' ', '\"', ' ', 'นอก', 'จาก', 'นี้', 'นาย', 'โม', 'หำหมัด', 'ยัง', 'ได้', 'ข่ม', 'ขู่', 'อี', 'กว่า', 'หาก', 'ไม่', 'ยิน', 'ยอม', 'ก็', 'จะ', 'นำ', 'คลิป', 'วิ', 'ดี', 'โอออกมา', 'เผย', 'แพร่', 'เพื่อ', 'ประจาน', 'ให้', 'อับ', 'อาย', ' ', '\"', ' ', 'พ.ต.อ.', ' สมพงษ์', ' ', 'กล่าว', ' ', 'และ', 'ว่า', 'กระ', 'ทั่ง', 'ต่อ', 'มา', 'ทาง', 'ตำรวจ', 'ได้', 'ให้', 'ผู้', 'เสีย', 'หาย', 'นัด', 'แนะ', 'กับ', 'นาย', 'โม', 'หำหมัด', ' ', 'ให้', 'ออกมา', 'พบ', 'ใน', ' ', 'อ.', ' ', 'เมือง', ' ', 'จ.', ' ', 'นราธิวาส', ' ', 'จาก', 'นั้น', 'เด็ก', 'นัก', 'เรียน', 'หญิง', 'ก็', 'ขึ้น', 'ไป', 'นั่ง', 'ซ้อน', 'ท้าย', ' ', 'รถ', 'จักรยานยนต์', 'ของ', 'ผู้', 'ต้อง', 'หา', ' ', 'ระหว่าง', 'ผ่าน', 'จุด', 'ตรวจจุด', 'สกัด', 'ตำบลมะ', 'นัง', 'ตายอ', ' ', 'อ.', ' ', 'เมือง', ' ', 'จ.', ' ', 'นราธิวาส', ' ', 'ทาง', 'ตำรวจซึ่ง', 'ได้', 'มี', 'การ', 'วาง', 'แผน', 'ไว้', 'ตั้ง', 'แต่', 'ต้น', 'จึง', 'ได้', 'เรียก', 'ให้', 'หยุด', 'รถ', 'และ', 'ได้', 'เข้า', 'จับ', 'กุม', 'ทัน', 'ที', ' ', 'พ.ต.อ.', ' สมพงษ์', ' ', 'กล่าว', 'อี', 'กว่า', ' ', 'เมื่อ', 'ค้น', 'ตัว', 'ผู้', 'ต้อง', 'หา', 'พบ', 'เครื่อง', 'ช็อตไฟ', 'ฟ้า', ' ', '1', ' ', 'อัน', ' ', 'อาวุธ', 'ปืน', 'ปลอม', ' ', '1', ' ', 'กระบอก', ' ', 'โทร', 'ศัพท์', 'มือ', 'ถือ', ' ', 'และ', 'ได้', 'นำ', 'ตัว', 'นาย', 'โม', 'หำหมัด', ' ', 'ไป', 'ตรวจ', 'ค้น', 'ที่', 'บ้าน', 'พัก', 'ซึ่ง', 'เป็น', 'บ้าน', 'เช่า', 'ข้าง', 'โรงเรียน', 'เทศบาล', ' ', '6', ' ', 'เขตเทศบาล', 'เมือง', 'น', 'ราธิวาส', ' ', 'พบ', 'คลิป', 'วี', 'ดีโอ', ' ', 'ของ', ' ', 'น.ส.', ' ', 'ส้ม', ' ', 'ผู้', 'เสียหาย', ' ', 'และ', 'พบ', 'คลิป', 'วิดีโอ', 'ของ', 'ผู้', 'เสีย', 'หาย', 'จำนวน', ' ', '3', ' ', 'ราย', ' ', 'ซึ่ง', 'เป็น', 'นัก', 'เรียน', 'หญิง', ' ', 'อายุ', ' ', '16', ' ', 'ปี', ' ', 'กำลัง', 'ศึกษา', 'อยู่', 'ที่', 'โรงเรียน', 'แห่ง', 'หนึ่ง', 'ใน', ' ', 'จ.', ' ', 'นราธิวาส', ' ', 'นอก', 'จาก', 'นี้', 'ยัง', 'พบ', 'วี', 'ซี', 'ดีลามก', ' ', 'อีก', ' ', '100', ' ', 'แผ่น', ' ', 'และ', 'ยาป', 'ลุก', 'เซ็กส์', ' ', 'จำนวน', 'มาก', ' ', 'จึง', 'ได้', 'ทำ', 'การ', 'จับ', 'กุม', 'และ', 'แจ้ง', 'ข้อกล่าว', 'หา', 'ว่า', 'ข่ม', 'ขืน', 'กระทำชำเรา', 'ผู้', 'อื่น', 'โดย', 'ขู่', 'เข็ญ', 'ด้วย', 'ประการ', 'ใด', ' ', 'ๆ', ' ', 'โดย', 'ผู้', 'อื่น', 'นั้น', 'อยู่', 'ใน', 'ภาวะ', 'ที่', 'ไม่', 'สามารถ', 'ขัด', 'ขืน', 'ได้', ' ', 'ตามหมาย', 'จับ', 'ที่', ' ', '588/', '2551', ' ', 'ลง', 'วัน', 'ที่', ' ', '21', ' ', 'ก.ค.', ' ', '2551', ' ', 'ส่ง', 'พนักงาน', 'สอบสวน', ' ', 'สภ.', ' ', 'เมือง', 'น', 'ราธิวาส', ' ', 'ดำเนินการ', 'ใน', 'ส่วน', 'ที่', 'เกี่ยว', 'ข้อง', 'ต่อ', 'ไป', ' ', 'ต่อมา', 'ได้', 'มี', ' ', 'น.ส.', ' ', 'แดง', ' ', '(', ' ', 'นาม', 'สมมุติ', ' ', ')', ' ', 'อายุ', ' ', '16', ' ', 'ปี', ' ', 'และ', ' ', 'น', '.ส.', ' ', 'ดำ', ' ', '(', ' ', 'นาม', 'สมมุติ', ' ', ')', ' ', 'อายุ', ' ', '16', ' ', 'ปี', ' ', 'ผู้', 'เสีย', 'หาย', 'เดิน', 'ทาง', 'มา', 'ชี้', 'ตัว', 'ว่า', 'ถูก', ' ', 'นาย', 'โมหำหมัด', ' ', 'ซอรี', 'ข่ม', 'ขืน', ' ', 'อีก', ' ', 'ทั้ง', 'ยัง', 'ได้', 'ให้', 'การ', 'เพิ่มเติม', 'ว่า', ' ', 'ก่อน', 'ที่', 'จะ', 'ถูกข่ม', 'ขืน', 'นาย', 'โมหำหมัด', ' ', 'ซอรี', ' ', 'จะ', 'ใช้', 'เครื่อง', 'ช็อตไฟฟ้า', 'จี้', 'ตัว', ' ', 'รวม', 'ทั้ง', 'ใช้', 'มีด', 'จี้', 'คอ', ' ', 'หาก', 'พว', 'ก', 'ตน', 'ขัด', 'ขืน', 'ไม่', 'ยอม', 'มี', 'เพศ', 'สัมพันธ์', 'แต่', 'โดย', 'ดี', ' ', 'ทั้ง', 'นี้', 'ผู้', 'เสีย', 'หาย', 'ราย', 'ใด', 'ที่', 'เคย', 'ถูก', 'กระทำชำเรากรณี', 'ดัง', 'กล่าว', 'ให้', 'มา', 'ดู', 'ตัว', 'ผู้', 'ต้อง', 'หา', 'ได้', 'ที่', ' ', 'สภ.', ' ', 'เมือง', 'น', 'ราธิวาส', ' ', 'ใน', 'ที่', 'สุด', ' ', 'นาย', 'โมหำหมัด', ' ', 'ซอรี', 'ได้', 'รับ', 'สาร', 'ภาพว่า', 'ได้', 'ข่มขืน', 'ผู้', 'เสีย', 'หาย', 'จริง', ' ', 'ทาบ', ' ', '\"', ' ', 'น้องแก้ม', ' ', '\"', ' ', 'โปรโมท', 'มวย', 'ไทย', ' ', 'ชุด', 'มวย', 'ไทย', ' ', 'และ', 'ลี', 'ลา', 'มวย', 'ไทย', 'เข้า', 'ตา', ' ', 'กระทรวง', 'การ', 'ท่อง', 'เที่ยว', 'และ', 'กีฬา', ' ', 'ทาบ', ' ', '\"', ' ', 'น้องแก้ม', ' ', '\"', ' ', 'กวิน', 'ตรา', ' ', 'โพธิ', 'จักร', ' ', 'มิสไทย', 'แลนด์', 'ยูนิเวิร์ส', ' ', 'ซึ่ง', 'เพิ่ง', 'คว้า', 'รางวัล', 'ชุด', 'แต่ง', 'กาย', 'ประ', 'จำชาติยอด', 'เยี่ยม', 'ใน', 'การ', 'ประกวด', 'มิสยู', 'นิเวิร์ส', ' ', 'หรือ', ' ', '\"', ' ', 'นาง', 'งาม', 'จักรวาล', ' ', '\"', ' ', 'ปี', ' ', '2008', ' ', 'ร่วม', 'เป็น', 'พรี', 'เซ็นเตอร์', 'โปรโมท', 'กีฬา', 'มวย', 'ไทย', ' ', 'ด้าน', ' ', '\"', ' ', 'รมต.', ' ', 'กีฬา', ' ', '\"', ' ', 'วีระศักดิ์', ' โควสุรัตน์', ' ', 'สั่ง', 'นาย', 'ทะเบียน', 'เอา', 'จริง', ' ', 'ใคร', 'ล้ม', 'มวย', ' ', 'ดำเนิน', 'การ', 'ตาม', 'พระราชบัญญัติ', 'กีฬามวย', ' ', '2542', ' ', 'ทัน', 'ที', ' ', 'นาย', 'วีระศักดิ์', ' โควสุรัตน์', ' ', 'รัฐมนตรี', 'ว่า', 'การ', 'กระทรวง', 'การ', 'ท่อง', 'เที่ยว', 'และ', 'กีฬา', ' ', 'เป็น', 'ประธาน', 'การ', 'ประชุม', 'คณะกรรมการ', 'กีฬา', 'มวย', ' ', 'ที่', 'ห้อง', 'ประชุม', 'กระทรวง', 'การ', 'ท่อง', 'เที่ยว', 'และ', 'กีฬา', ' ', 'ถ', '.ราชดำเนิน', ' ', 'เมื่อ', 'วัน', 'ที่', ' ', '21', ' ', 'กรกฎาคม', ' ', 'ที่', 'ผ่าน', 'มา', ' ', 'หลัง', 'การ', 'ประชุม', ' ', 'นาย', 'วีระศักดิ์', ' ', 'เปิด', 'เผย', 'ว่า', ' ', 'คณะกรรมการ', 'กีฬา', 'มวย', 'มีม', 'ติว่า', 'ที่', 'จะ', 'ดำ', 'เนิน', 'การ', 'เรื่อง', 'การ', 'ล้ม', 'มวย', ' ', 'ตาม', 'พระราชบัญญัติ', 'กีฬา', 'มวย', ' ', 'พ.ศ.', ' ', '2542', ' ', 'อย่าง', 'จริง', 'จัง', ' ', 'โดย', 'นาย', 'สันติ', ' ', 'ภู่', 'ขวัญเมือง', ' ', 'ผอ.', ' ', 'สำนักงาน', 'คณะกรรมการ', 'กีฬา', 'มวย', ' ', 'ซึ่ง', 'ทำหน้า', 'ที่', 'นาย', 'ทะเบียน', ' ', 'มี', 'หน้า', 'ที่', 'ตาม', 'พระราชบัญญัติ', 'โดยตรง', ' ', 'ซึ่ง', 'ตน', 'ทราบ', 'มา', 'ว่า', ' ', 'วง', 'การ', 'กีฬา', 'มวย', 'ใน', 'ขณะ', 'นี้', 'กำลัง', 'มี', 'ปัญหา', 'เรื่อง', 'การ', 'ล้ม', 'มวย', 'พอสมควร', ' ', 'ดัง', 'นั้น', ' ', 'กฎหมาย', 'ตาม', 'พระราชบัญญัติ', 'กีฬา', 'มวย', ' ', 'พ.ศ.', ' ', '2542', ' ', 'สามารถ', 'ดำเนิน', 'การ', 'กับ', 'ผู้', 'กระทำ', 'ผิด', 'ได้', 'ทัน', 'ที', ' ', 'รมต.', ' ', 'กีฬา', ' ', 'กล่าว', 'ถึง', 'การ', 'ประกวด', 'มิสยู', 'นิเวิร์ส', ' ', 'หรือ', ' ', '\"', ' ', 'นาง', 'งาม', 'จักรวาล', ' ', '\"', ' ', 'ประจำปี', ' ', '2008', ' ', 'ซึ่ง', 'เป็น', 'การ', 'ประกวด', 'ครั้ง', 'ที่', ' ', '57', ' ', 'ที่', 'ประเทศ', 'เวียด', 'นาม', 'เมื่อ', 'วัน', 'ที่', ' ', '14', ' ', 'กรกฎาคม', ' ', 'ที่', 'ผ่าน', 'มา', ' ', 'โดย', ' ', '\"', ' ', 'น้องแก้ม', ' ', '\"', ' ', 'กวิน', 'ตรา', ' ', 'โพธิ', 'จักร', ' ', 'มิสไทย', 'แลนด์', 'ยู', 'นิเวิร์ส', ' ', 'สามา', 'รถ', 'คว้า', 'รางวัล', 'ชุด', 'แต่ง', 'กาย', 'ประ', 'จำชาติยอด', 'เยี่ยม', ' ', 'ที่', 'มี', 'ชื่อว่า', ' ', '\"', ' ', 'สปิริต', ' ', 'ออฟ', ' ', 'ไฟ', 'ติ้ง', ' ', '\"', ' ', 'โดย', ' ', '\"', ' ', 'น้อง', 'แก้ม', ' ', '\"', ' ', 'นำเสนอ', 'ความงดงาม', 'ของ', 'หญิง', ' ', 'และ', 'ความ', 'แกร่งกล้า', 'ของ', 'กีฬา', 'มวย', 'ไทย', 'ได้', 'อย่าง', 'ลง', 'ตัว', ' ', 'ซึ่ง', 'กระทรวง', 'การ', 'ท่อง', 'เที่ยว', 'และ', 'กีฬา', ' ', 'ได้', 'มอบ', 'หมาย', 'ให้', 'นาย', 'ปรี', 'ดี', ' ', 'โชติช่วง', ' ', 'หัว', 'หน้า', 'ผู้', 'ตรวจราชการ', 'กระทรวง', ' ', 'เป็น', 'ผู้ทาบ', 'ทาม', ' ', '\"', ' ', 'น้อง', 'แก้ม', ' ', '\"', ' ', 'เป็น', 'พรีเซ็นเตอร์', 'ร่วม', 'โปรโมท', 'กีฬา', 'มวย', 'ไทย', ' ', 'และ', 'กีฬา', 'อื่น', 'ของ', 'ไทย', ' ', 'ใน', 'ขณะ', 'ที่', 'เรื่อง', 'ของ', 'การ', 'ท่อง', 'เที่ยว', 'นั้น', ' ', 'มิสไทยแลนด์', 'ยู', 'นิเวิร์สทุก', 'คน', 'มี', 'หน้า', 'ที่', 'อยู่', 'แล้ว', ' ', 'โดย', ' ', '\"', ' ', 'น้องแก้ม', ' ', '\"', ' ', 'ปัจจุบัน', 'อายุ', ' ', '22', ' ', 'ปี', ' ', 'เกิด', 'ที่', ' ', 'จ.', ' ', 'หนอง', 'คาย', ' ', 'ศึกษา', 'อยู่', 'ชั้น', 'ปี', 'ที่', ' ', '2', ' ', 'คณะ', 'นิเทศศาสตร์', ' ', 'สาขา', 'ประชาสัมพันธ์', ' ', 'มหาวิทยาลัยกรุงเทพ', ' ', 'ส่วน', 'เรื่อง', 'ของ', 'กีฬา', 'นั้น', 'เคย', 'เป็น', 'นักกีฬา', 'เยาว', 'ชนวอลเลย์', 'บอลของ', ' ', 'จ.', ' ', 'หนอง', 'คาย', ' ', 'มา', 'แล้ว', ' ', 'นอก', 'จาก', 'นี้', ' ', 'คณะกรรมการ', 'กีฬา', 'มวย', ' ', 'กำลัง', 'จะ', 'รวบ', 'รวม', 'สถา', 'บัน', 'สอน', 'มวย', 'ไทย', 'ใน', 'ประเทศไทย', 'ที่', 'ได้', 'มา', 'ตรฐาน', ' ', 'โดย', ' ', 'นาย', 'สมชาติ', ' ', 'เจริญวัชรวิทย์', ' ', 'นายก', 'สมา', 'คม', 'กีฬา', 'มวย', 'อา', 'ชีพ', 'แห่ง', 'ประเทศ', 'ไทย', ' ', 'ซึ่ง', 'มี', 'ข้อมูล', 'ทั้งหมด', ' ', 'ดำเนิน', 'การ', 'คัด', 'เลือก', 'สถา', 'บัน', ' ', 'นำมา', 'เป็น', 'ข้อมู', 'ลบรรจุลง', 'ใน', 'เว็บไซต์', 'ของ', 'การ', 'ท่องเที่ยว', 'แห่ง', 'ประเทศ', 'ไทย', ' ', '(', ' ', 'ททท.', ' ', ')', ' ', 'และ', 'การ', 'กีฬา', 'แห่ง', 'ประเทศ', 'ไทย', ' ', '(', ' ', 'กกท.', ' ', ')', ' ', 'เพื่อ', 'ให้', 'ชาว', 'ไทย', 'และ', 'ชาว', 'ต่าง', 'ชาติ', 'ที่', 'จะ', 'สนใจ', 'จะ', 'เรียน', 'มวย', 'ไทย', 'ได้', 'รับ', 'ทราบ', 'ข้อ', 'มูลมาก', 'ยิ่ง', 'ขึ้น', ' ', 'สำหรับ', 'การ', 'จัด', 'การ', 'แข่ง', 'ขัน', 'ม', 'หกรรม', 'กีฬา', 'ศิลปะการ', 'ต่อ', 'สู้', 'แห่ง', 'เอเชีย', ' ', '\"', ' ', 'เอ', 'เชี่ยน', 'มาร์', 'เชียล', ' ', 'อาร์ท', ' เกมส์', ' ', '\"', ' ', 'ครั้ง', 'ที่', ' ', '1', ' ', 'ซึ่ง', 'ประเทศ', 'ไทย', 'ยืน', 'ยัน', 'ความ', 'พร้อม', 'ต่อ', 'สภาโอลิม', 'ปิก', 'แห่ง', 'เอเชีย', ' ', '(', ' ', 'โอซีเอ', ' ', ')', ' ', 'พร้อม', 'รับ', 'เป็น', 'เจ้าภาพใน', 'ปี', ' ', '2009', ' ', 'นั้น', ' ', 'คณะกรรมการ', 'กีฬา', 'มวย', 'เห็น', 'ชอบ', 'ให้', 'ไทย', 'รับ', 'เป็น', 'เจ้าภาพ', ' ', 'นอก', 'จากนี้', ' ', 'ยังรับ', 'ทราบ', 'การ', 'จัด', 'การ', 'แข่ง', 'ขัน', 'มวย', 'ไทย', 'สมัคร', 'เล่น', 'นา', 'นาชาติ', ' ', 'เทิด', 'พระ', 'เกียรติ', ' ', 'สม', 'เด็จ', 'พระบรมโอรสาธิราชฯ', 'สยาม', 'มกุฎราชกุมาร', 'ครั้ง', 'ที่', ' ', '10', ' ', 'แข่ง', 'ขัน', 'วัน', 'ที่', ' ', '29', ' ', 'กรกฎาคม', ' ', '-', ' ', '2', ' ', 'สิง', 'หาคม', ' ', 'ที่', 'อิน', 'ดอร์', ' ', 'สเตเดี้ยม', ' ', 'หัวหมาก', ' ', 'กกท.', ' ', 'โดย', 'มี', 'นักชกชาย', ' ', '-', ' ', 'หญิง', ' ', 'จาก', 'ทั่ว', 'โลก', 'เข้า', 'ร่วม', 'การ', 'แข่งขัน', 'ทั้งหมด', ' ', '24', ' ', 'ประเทศ', ' ', '\"', ' ', 'สุรชัย', ' ', 'สมบัติเจริญ', ' ', '\"', ' ', 'บุก', 'ตื้บ', 'ดีเจ', ' ', 'FM', ' ', '95', ' ', 'น่วมคา', 'สถานี', ' ', '\"', ' ', 'วาสุ', ' ', 'เลิศ', 'จร', 'ร', 'ยา ', '\"', ' ', 'ดีเจ', ' ', '.', ' ', 'ลูก', 'ทุ่ง', 'ชื่อ', 'ดัง', ' ', 'FM', ' ', '95', ' ', 'โล่', 'ขึ้น', 'โรง', 'พัก', 'แจ้ง', 'ความ', 'เอา', 'ผิด', ' ', '\"', ' ', 'สุรชัย', ' ', 'สมบัติเจริญ', ' ', '\"', ' ', 'นักร้อง', 'ลูก', 'ทุ่ง', 'เลือด', 'ร้อน', ' ', 'หลัง', 'บุก', 'เข้า', 'ไป', 'ใน', 'สถานีวิทยุ', ' ', 'อ', 'สมท.', ' ', 'ใช้', 'กำปั้น', ' ', '-', ' ', 'เท้า', 'ตื้บ', 'จน', 'น่วม', ' ', 'คาด', 'ว่า', 'ไม่', 'พอใจ', 'เรื่อง', 'เปิด', 'สปอตโฆษณา', ' ', 'ยันเอา', 'เรื่อง', 'ถึง', 'ที่', 'สุด', ' ', 'ตำรวจส่ง', 'แพทย์', 'ตรวจร่าง', 'กาย', 'ก่อน', 'เรียก', 'คู่', 'กรณีมารับ', 'ทราบ', 'ข้อหา', ' ', 'เมื่อ', 'เวลา', ' ', '11.45', ' ', 'น.', ' ', 'วัน', 'ที่', ' ', '21', ' ', 'กรกฎาคม', ' ', 'นาย', 'วินัย', ' ', 'ปลั่งพินิจ', 'กิจการ', ' ', 'อายุ', ' ', '35', ' ', 'ปี', ' ', 'อยู่', 'บ้าน', 'เลข', 'ที่', ' ', '194', ' ', 'ซอย', 'เปรมสมบัติ', ' ', 'แยก', ' ', '5', ' ', 'แขวง', ' ', '-', ' ', 'เขต', 'ดิน', 'แดง', ' ', 'กทม.', ' ', 'ดีเจชื่อ', 'ดัง', 'คลื่น', ' ', 'เอฟเอ็ม', ' ', '95', ' ', 'ลุก', 'ทุ่งมหานคร', ' ', 'หรือใน', 'นาม', ' ', '\"', ' ', 'วาสุ', ' ', 'เลิศ', 'จร', 'รยา', ' ', '\"', ' ', 'และ', 'เป็น', 'ผู้', 'อำนวยการ', 'ฝ่าย', 'สถานีวิทยุ', 'คลื่น', 'ดัง', 'กล่าว', ' ', 'เข้า', 'แจ้ง', 'ความ', 'กับ', ' ', 'พ.ต.ท.', ' วรลภย์', ' ', 'สุวรรณเกษ', 'การ', ' ', 'รอง', ' ', 'ผกก.', ' ', '(', ' ', 'สส.', ' ', ')', ' ', 'สน', '.', ' ', 'ห้วย', 'ขวาง', ' ', 'เพื่อ', 'ให้', 'ดำเนินคดี', 'กับ', 'นาย', 'สุรชัย', ' สมบัติเจริญ', ' ', 'นักร้อง', 'ลูก', 'ทุ่ง', 'ชื่อ', 'ดัง', ' ', 'บุตรชาย', 'ของ', 'นาย', 'สุรพล', ' ', 'สมบัติเจริญ', ' ', 'นักร้อง', 'ลูก', 'ทุ่ง', 'ยอด', 'นิยม', ' ', 'ใน', 'ข้อหา', 'ทำร้าย', 'ร่าง', 'กาย', ' ', 'นาย', 'วินัย', ' ', 'ให้', 'การ', 'ว่า', ' ', 'เมื่อ', 'เวลา', 'ประมาณ', ' ', '10.20', ' ', 'น.', ' ', 'วัน', 'นี้', ' ', '(', ' ', '21', ' ', 'ก.ค.', ' ', ')', ' ', 'หลัง', 'จาก', 'ที่', 'ตน', 'จัด', 'ราย', 'การ', 'ลุก', 'ทุ่งมหานครเสร็จ', ' ', 'จาก', 'บริเวณ', 'ชั้น', ' ', '5', ' ', 'อา', 'คาร', 'ปฏิบัติ', 'การ', 'วิทยุโทรทัศน์', ' ', 'บริษัท อสมท จำกัด', ' ', '(', ' ', 'มหาชน', ' ', ')', ' ', 'ถนน', 'พระรามเก้า', ' ', 'แขวง', ' ', '-', ' ', 'เขต', 'ได้', 'ลง', 'มา', 'ที่', 'ชั้น', ' ', '4', ' ', 'ปรากฏว่า', ' ', 'พนักงาน', 'ใน', 'บริษัทแจ้ง', 'ว่า', 'นาย', 'สุรชัย', 'มา', 'ขอ', 'พบ', 'เมื่อ', 'เห็น', 'หน้า', 'ตน', 'จึง', 'ได้', 'ยก', 'มือ', 'ไหว้', ' ', 'แต่', 'นาย', 'สุรชัย', 'กลับ', 'ใช้', 'เท้า', 'ถีบ', 'บริเวณ', 'หน้าอก', 'ของ', 'ตน', 'อย่าง', 'แรง', ' ', 'จน', 'ทำ', 'ให้', 'ล้ม', 'ลง', 'กับ', 'พื้น', ' ', 'จาก', 'นั้น', 'นาย', 'สุรชัย', ' ', 'เข้า', 'มา', 'ชก', 'ต่อย', 'ทำ', 'ร้าย', 'ตบ', 'ต่อ', ' ', 'ซึ่ง', 'ตน', 'พยายาม', 'ปัด', 'ป้อง', ' ', 'เจ้า', 'หน้า', 'ที่', 'รักษา', 'ความ', 'ปลอด', 'ภัย', 'พ', 'ยายาม', 'จะ', 'เข้า', 'มา', 'ห้าม', ' ', 'แต่', 'นาย', 'สุรชัย', ' ', 'บอก', 'ว่า', ' ', '\"', ' ', 'อย่า', 'เข้า', 'มา', 'ยุ่ง', ' ', '\"', ' ', 'กระทั่ง', 'เจ้า', 'หน้า', 'ที่', 'รักษา', 'ความ', 'ปลอด', 'ภัย', 'เข้า', 'มา', 'แยก', 'สำเร็จ', ' ', 'และ', 'ให้', 'นาย', 'สุรชัย', ' ', 'นั่ง', 'สงบ', 'สติอารมณ์', 'เอา', 'ไว้', 'ก่อน', ' ', '\"', ' ', 'ผม', 'เอง', 'ก็งง', 'และ', 'ตก', 'ใจ', 'ว่า', ' ', 'พี่', 'แอ๊ด', ' ', '(', ' ', 'นาย', 'สุรชัย', ' ', ')', ' ', 'ทำไม', 'ถึง', 'มา', 'ชกต่อย', 'ผม', ' ', 'ปกติ', 'ผม', 'ไม่', 'ได้', 'รู้', 'จัก', 'ส่วน', 'ตัว', ' ', 'แต่', 'รู้', 'ว่า', ' ', 'เป็น', 'นักร้อง', 'ลูก', 'ทุ่ง', 'ชื่อ', 'ดัง', ' ', 'มี', 'ลูก', 'ชาย', 'ชื่อ', ' ', 'ร็อค', 'กี้', ' ', 'หรือ', 'นาย', 'สุรบดินทร์', ' ', 'สมบัติเจริญ', ' ', 'ซึ่ง', 'เป็น', 'ดีเจอยู่', 'ที่', 'คลื่น', 'เดียว', 'กัน', ' ', 'และ', 'ไม่', 'ได้', 'มี', 'ปัญหา', 'ใน', 'การ', 'ทำหน้า', 'ที่', ' ', 'เหตุการณ์', 'ครั้ง', 'นี้', 'ก็', 'รู้', 'สึก', 'ตกใจ', ' ', 'ไม่', 'คิด', 'ว่า', 'นาย', 'สุรชัย', 'จะ', 'เข้า', 'มา', 'ทำร้าย', 'ร่าง', 'กาย', 'กัน', 'ถึง', 'ใน', 'สถานี', ' ', 'จน', 'ทำ', 'ให้', 'ผม', 'บาด', 'เจ็บ', 'ที่', 'กกหูด้าน', 'ซ้าย', ' ', 'มี', 'รอย', 'ข่วน', ' ', 'แขน', 'ซ้าย', 'และ', 'ท้อง', 'ถูกถีบ', 'และ', 'เหยียบ', ' ', 'ผม', 'ก็', 'จะ', 'เอา', 'เรื่อง', 'ให้', 'ถึง', 'ที่', 'สุด', ' ', '\"', ' ', 'นาย', 'วินัย', ' ', 'กล่าว', ' ', 'และ', 'ว่า', 'ส่วน', 'สาเหตุ', 'คาด', 'ว่า', ' ', 'เกิด', 'จาก', 'เรื่อง', 'การ', 'ที่', 'นาย', 'สุร', 'ชัย', 'นำ', 'สปอต', 'โฆษณา', 'มา', 'ลง', 'ที่', 'ราย', 'การ', 'ลูก', 'ทุ่ง', 'เอ็ฟเอ็ม', ' ', '95', ' ', 'เป็น', 'งาน', 'คอนเสิร์ตสุรชัย', ' ', 'สมบัติเจริญ', ' ', 'ครบ', 'รอบ', ' ', '40', ' ', 'ปี', ' ', 'ที่', 'จัด', 'ที่', 'ศูนย์', 'วัฒนธรรม', 'แห่ง', 'ประเทศไทย', ' ', 'ที่', 'จัด', 'งาน', 'ไป', 'แล้ว', ' ', 'ใน', 'ราคา', ' ', '50,', '000', ' ', 'บาท', ' ', 'แต่', 'เมื่อ', 'เปิด', 'ส', 'ปอตโฆษณา', 'ไป', 'แล้ว', ' ', 'ปรากฏว่า', ' ', 'บริษัท', 'เมโทแผ่น', 'เสียง', 'เทป', ' ', 'ซึ่ง', 'ได้โทร', 'มา', 'แจ้ง', 'ว่า', ' ', 'คอนเสิร์ต', 'ดัง', 'กล่าว', 'เป็น', 'ลิข', 'สิทธิ์', 'ของ', 'บริษัท', ' ', 'และ', 'ยัง', 'ไม่', 'ได้', 'มี', 'การ', 'ขออนุญาต', 'แต่', 'อย่าง', 'ใด', ' ', '\"', ' ', 'ผม', 'ใน', 'ฐานะ', ' ', 'ผอ.', ' ', 'สถานี', 'จึง', 'ต้องงดการ', 'ออกอากาศ', ' ', 'แต่', 'เงิน', 'จำนวน', ' ', '50,', '000', ' ', 'บาท', 'ที่', 'รับมา', 'นั้น', ' ', 'จะ', 'ต้อง', 'คืน', 'ให้', ' ', 'แต่', 'ที่', 'ยัง', 'ไม่', 'ได้', 'คืน', 'เนื่อง', 'จาก', 'อยู่', 'ใน', 'ขั้น', 'ตอน', 'ของ', 'ทาง', ' ', 'อสมท.', ' ', 'ใน', 'การ', 'ทำ', 'เรื่อง', 'คืน', 'ให้', ' ', '\"', ' ', 'นาย', 'วินัย', ' ', 'กล่าว', ' ', 'พ.ต.ท.', ' วรลภย์', ' ', 'กล่าว', 'ว่า', ' ', 'เบื้อง', 'ต้น', 'เจ้า', 'หน้า', 'ที่', 'ตำรวจได้', 'ทำ', 'การ', 'สอบ', 'ปาก', 'คำ', 'นายวินัย', 'ก่อน', 'ส่ง', 'ตัว', 'ไป', 'ให้', 'แพทย์', 'ตรวจร่างกาย', 'ที่', 'โรง', 'พยาบาลมหาน', 'คร', 'การ', 'แพทย์', ' ', 'เพื่อ', 'ตรวจ', 'สอบ', 'บาด', 'แผล', 'ภาย', 'ใน', 'และ', 'ภาย', 'นอกว่า', 'เป็น', 'อย่างไร', 'บ้าง', ' ', 'ก่อน', 'จะ', 'เรียกนาย', 'สุรชัย', 'มารับ', 'ทราบ', 'ข้อหา', 'ใช้', 'กำลัง', 'ทำร้าย', 'ร่าง', 'กาย', 'ผู้', 'อื่น', 'เป็น', 'เหตุ', 'ให้', 'ผู้', 'อื่น', 'ได้', 'รับ', 'อัน', 'ตราย', 'ทั้ง', 'ร่าง', 'กาย', 'และ', 'จิตใจ', ' ', '\"', ' ', 'คดี', 'นี้', 'เป็นคดี', 'ที่', 'ยอม', 'ความ', 'กัน', 'ได้', ' ', 'ถ้า', 'คู่', 'กรณี', 'ต', 'กลง', 'กัน', 'ได้', ' ', 'ก็', 'จะ', 'ทำการ', 'ปรับ', 'ใน', 'ชั้น', 'สอบ', 'สวน', ' ', 'แต่', 'หา', 'กว่า', 'ฝ่าย', 'หนึ่ง', 'ฝ่าย', 'ใด', 'ไม่', 'ยอม', 'ความ', 'กัน', ' ', 'ก็', 'จะ', 'สรุป', 'สำนวน', 'ส่ง', 'ฟ้อง', 'ศาล', 'ดำเนินคดี', 'ต่อ', 'ไป', ' ', '\"', ' ', 'พ.ต.ท.', ' วรลภย์', ' ', 'กล่าว', ' ', 'รัสเซีย', 'ยอม', 'คืน', 'ดินแดน', 'ให้', 'จีน', ' ', '174', ' ', 'ตา', 'ราง', 'กิโลเมตร', ' ', 'รัสเซีย', 'ยอม', 'คืน', 'ดินแดน', ' ', '174', ' ', 'ตา', 'ราง', 'กิโล', 'เมตร', 'ให้', 'จีน', ' ', 'ท่า', 'ม', 'กลาง', 'บรรยากาศ', 'ใน', 'ความ', 'สัมพันธ์', 'ที่', 'อบ', 'อุ่น', 'ระหว่าง', ' ', '2', ' ', 'ประเทศ', ' ', 'จีน', 'และ', 'รัสเซียลง', 'นาม', 'ใน', 'ข้อ', 'ตก', 'ลง', 'ยุติกรณี', 'พิ', 'พาท', 'เรื่อง', 'ดิน', 'แดน', 'ที่', 'ดำเนิน', 'มายาว', 'นาน', ' ', '40', ' ', 'ปี', 'ใน', 'วัน', 'นี้', ' ', 'โดย', 'ฝ่าย', 'รัสเซีย', 'จะ', 'ยก', 'ดินแดน', ' ', '174', ' ', 'ตา', 'ราง', 'กิโลเมตร', 'ให้', 'กับ', 'จีน', ' ', 'ซึ่ง', 'เป็น', 'สัญญาณ', 'ที่', 'ชี้', 'ถึง', 'ความ', 'สัมพันธ์', 'ที่', 'อบ', 'อุ่น', 'มาก', 'ขึ้น', 'ระหว่าง', ' ', '2', ' ', 'ประเทศ', ' ', 'เอกสาร', 'ที่', 'ลง', 'นาม', 'โดย', 'รัฐมนตรี', 'ต่าง', 'ประเทศ', 'สอง', 'ฝ่าย', 'ที่', 'กรุง', 'ปัก', 'กิ่ง', ' ', 'เป็น', 'การ', 'เสริม', 'ข้อ', 'ตกลง', 'เรื่อง', 'พรม', 'แดน', 'ระหว่าง', ' ', '2', ' ', 'ประเทศ', 'ที่', 'ยาว', 'เหยียด', 'ถึง', ' ', '4', ',', '300', ' ', 'กิโล', 'เมตร', 'ที่', 'มี', 'การลง', 'นาม', 'ไป', 'ก่อน', 'หน้า', ' ', 'ซึ่ง', 'หลัง', 'การ', 'ลง', 'นาม', ' ', 'นายเซอร์เกย์', ' ', 'ลาฟรอฟ', ' ', 'รัฐมนตรี', 'ต่าง', 'ประเทศ', 'บอกว่า', ' ', 'เรื่อง', 'นี้หมาย', 'ความ', 'ว่าพรม', 'แดน', 'ระหว่าง', ' ', '2', ' ', 'ประเทศ', 'มี', 'การ', 'ปักปัน', 'เรียบ', 'ร้อย', 'แล้ว', 'ทั้ง', 'หมด', ' ', 'และ', 'จะ', 'เป็น', 'เงื่อน', 'ไข', 'ใน', 'การ', 'นำไป', 'สู่', 'มิตร', 'ภาพ', ' ', 'ความ', 'ร่วม', 'มือ', ' ', 'และ', 'ผล', 'ประโยชน์', 'ซึ่ง', 'กัน', 'และ', 'กัน', ' ', 'ภาย', 'ใต้', 'ข้อ', 'ตกลง', 'นี้', ' ', 'เกาะ', 'หยิง', 'หลง', ' ', 'หรือ', 'ที่', 'รัส', 'เซีย', 'เรียก', ' ', 'ตา', 'ราบา', 'รอฟ', 'ทั้งหมด', ' ', 'รวม', 'ทั้ง', 'อีก', 'ครึ่ง', 'หนึ่ง', 'ของ', 'เกาะ', 'เฮยซาจื้อ', ' ', 'หรือ', 'ที่', 'รัส', 'เซีย', 'เรียก', 'บอลชอย', ' ', 'อุสซูริส', 'กี้', ' ', 'ที่', 'อยู่', 'ใน', 'บริเวณ', 'ที่', 'แม่', 'น้ำ', 'เหย', 'หลง', 'เจียง', ' ', 'หรือ', 'ที่', 'รัส', 'เซีย', 'เรียก', 'แม่', 'น้ำอามูร์', ' ', 'มาบรรจบ', 'กับ', 'แม่', 'น้ำวู', 'ซูลิเจียง', ' ', 'จะ', 'กลับ', 'มา', 'เป็น', 'ของ', 'จีน', ' ', 'ใน', 'ช่วง', 'สง', 'คราม', 'เย็น', ' ', 'กรณีพิ', 'พาท', 'เรื่อง', 'ดิน', 'แดน', 'เหล่า', 'นี้', ' ', 'ทำ', 'ให้', 'ทั้ง', 'สอง', 'ประเทศ', 'ต้อง', 'ปะทะ', 'กัน', 'อยู่', 'หลาย', 'ครั้ง', 'ใน', 'ยุค', ' ', '60', ' ', 'และ', ' ', '70', ' ', 'แต่', 'ปัจจุบัน', ' ', 'ทั้ง', 'สองชาติก', 'ลับ', 'มา', 'มี', 'ความ', 'ใก', 'ล้', 'ชิด', 'กัน', 'อีก', 'ครั้ง', ' ', 'เพื่อร่วม', 'กัน', 'ต่อ', 'ต้าน', 'อิทธิพล', 'ของ', 'สหรัฐ', ' ', 'ทักษิณ', 'ฟ้อง', ' ', '\"', ' ', 'สม', 'เกียรติ', ' ', '\"', ' ', 'หมิ่น', 'เรียก', 'ร้อย', 'ล้าน', ' ', '\"', ' ', 'ทักษิณ', ' ', '\"', ' ', 'ส่ง', 'ทนาย', 'ฟ้อง', ' ', '\"', ' ', 'สมเกียรติ พงษ์', 'ไพบูลย์', ' ', '\"', ' ', 'แกนนำ', 'พันธมิตร', ' ฯ', ' ', '-', ' ', 'เอเอส_ทีวี', ' ', '-', ' ', 'ไทย', 'เดย์', ' ', '\"', ' ', 'ละเมิด', ' ', 'เรียก', ' ', '100', ' ', 'ล้าน', ' ', 'ฐาน', 'หมิ่น', 'ประมาท', ' ', 'กล่าว', 'หาหวัง', 'เป็น', 'ประธานาธิบดี', ' ', 'พร้อม', 'ร้อง', 'คุ้ม', 'ครอง', 'ชั่ว', 'คราว', 'ให้', 'ศาล', 'ห้าม', 'พูด', 'ให้', 'ร้าย', 'อีก', ' ', 'ที่', 'ศาลแพ่ง', ' ', 'ถ', '.', ' ', 'รัชดาภิเษก', ' ', 'กทม.', ' ', 'เมื่อ', 'เวลา', ' ', '13.30', ' ', 'น.', ' ', 'วัน', 'ที่', ' ', '21', ' ', 'ก.ค.', ' ', 'พ.ต.ท.', ' ทักษิณ', ' ', 'ชิน', 'วัตร', 'นายกรัฐมนตรี', ' ', 'ได้', 'มอบ', 'อำนาจ', 'ให้', 'นายวานิจ ปิณฑว', 'นิช', ' ', 'ทนาย', 'ความ', ' ', 'เป็น', 'โจทก์', 'ยื่น', 'ฟ้อง', 'นาย', 'สมเกียรติ พงษ์', 'ไพบูลย์', ' ', 'แกน', 'นำพัน', 'ธมิตร', 'ประชาชน', 'เพื่อ', 'ประชาธิปไตย', 'และ', 'บริษัท', 'ไทย', 'เดย์', 'ดอทคอม จำกัด', ' ', 'เป็น', 'จำ', 'เลย', 'ที่', ' ', '1', ' ', '-', ' ', '3', ' ', 'เรื่อง', ' ', 'ละเมิด', ' ', 'เรียกค่า', 'เสีย', 'หาย', ' ', '100', ' ', 'ล้าน', 'บาท', ' ', 'พร้อม', 'ดอก', 'เบี้ย', ' ', 'ร้อย', 'ละ', ' ', '7.5', ' ', 'ต่อ', 'ปี', ' ', 'ตาม', 'ฟ้องโจทก์', 'สรุป', 'ว่า', ' ', 'ตั้งแต่', 'วัน', 'ที่', ' ', '25', ' ', 'พ.ค.', ' ', '2551', ' ', 'ถึง', 'ปัจจุบัน', ' ', 'จำ', 'เลย', 'กับ', 'พวกรวม', ' ', '5', ' ', 'คน', ' ', 'ประกอบ', 'ด้วย', ' ', 'นาย', 'สนธิ', ' ลิ้ม', 'ทองกุล', ' ', 'นาย', 'พิภพ', ' ', 'ธง', 'ไชย', ' ', 'พล.', 'ต.', ' ', 'จำลอง', ' ', 'ศรีเมือง', ' ', 'และ', 'นาย', 'สมศักดิ์', ' ', 'โกสัย', 'สุข', ' ', 'ใน', 'นาม', 'กลุ่ม', 'พันธมิตร', 'ประชาชน', 'เพื่อ', 'ประชาธิปไตย', 'จัด', 'การ', 'ชุม', 'นุม', 'และ', 'เวที', 'ปราศรัย', 'ตาม', 'สถาน', 'ที่', 'ต่าง', ' ', 'ๆ', ' ', 'อย่าง', 'ต่อ', 'เนื่อง', ' ', 'โดย', 'จำ', 'เลย', 'กับ', 'พวก', 'ได้', 'ออก', 'แถลงการณ์', 'รวม', ' ', '5', ' ', 'ฉบับ', ' ', 'อีก', 'ทั้ง', 'จำ', 'เลย', 'ยัง', 'ได้', 'กล่าว', 'ปราศรัย', 'บน', 'เวที', 'พันธมิตร', ' ', 'ฯ', ' ', 'เมื่อ', 'คืน', 'วัน', 'ที่', ' ', '25', ' ', ',', ' 26', ' ', 'และ', ' ', '31', ' ', 'พ.ค.', ' ', '2551', ' ', 'มี', 'เนื้อหา', 'ให้ร้ายโจทก์', 'ทำ', 'นอง', 'ว่า', ' ', 'โจทก์', 'ต้อง', 'การ', 'เปลี่ยน', 'แปลง', 'การ', 'ปกครอง', 'ใน', 'ระบอบ', 'ประชาธิปไตย', 'อัน', 'มี', 'พระมหากษัตริย์', 'เป็น', 'ประมุข', ' ', 'เป็น', 'ระบบ', 'สาธาร', 'ณ', 'รัฐ', ' ', 'โดยโจทก์', 'หวัง', 'เป็น', 'ประธา', 'นาธิบดี', ' ', 'นอกจาก', 'นี้โจทก์', 'ยัง', 'เกี่ยว', 'ข้อง', 'กับ', 'การ', 'โยกย้าย', 'ข้า', 'ราชการ', 'อย่าง', 'ไม่', 'ชอบ', 'ธรรม', ' ', 'พยา', 'ยาม', 'เข้า', 'ไป', 'ยุ่ง', 'เหยิง', 'กับ', 'กระบวน', 'การ', 'การ', 'ยุติธรรม', ' ', 'และ', 'ผลัก', 'ดัน', 'ให้', 'รัฐ', 'บาล', 'พ', 'ยา', 'ยาม', 'แก้', 'ไข', 'รัฐธรรมนูญ', ' ', 'เพื่อ', 'ให้', 'ตัวเอง', 'และ', 'พวก', 'พ้อง', 'ไม่', 'ต้อง', 'รับโทษ', ' ', 'ซึ่งทำ', 'ให้', 'โจทก์', 'และ', 'ครอบ', 'ครัว', 'ได้', 'รับ', 'ความ', 'เสีย', 'หาย', 'จึง', 'ขอ', 'ให้', 'ศาล', 'ลง', 'โทษ', 'จำ', 'เลย', 'ตาม', 'ความ', 'ผิด', 'ด้วย', ' ', 'ศาล', 'รับ', 'คำ', 'ฟ้อง', 'ไว้', 'พิจารณา', 'และ', 'นัด', 'ชี้', 'สอง', 'สถาน', 'ใน', 'วัน', 'ที่', ' ', '27', ' ', 'ต.ค.', ' ', 'นี้', ' ', 'เวลา', ' ', '13.30', ' ', 'น', '.', ' ', 'ทั้ง', 'นี้', ' ', 'โจทก์', 'ยัง', 'ได้', 'ยื่น', 'คำร้อง', 'ขอ', 'ไต่', 'สวน', 'ฉุก', 'เฉิน', 'ให้', 'ศาล', 'มี', 'คำ', 'สั่ง', 'ห้าม', 'ไม่', 'ให้', 'จำ', 'เลย', 'ที่', ' ', '1', ' ', 'กระทำ', 'การ', 'อัน', 'ก่อ', 'ให้', 'เกิด', 'ความ', 'เสีย', 'หาย', 'แก่โจทก์', ' ', 'รวม', 'ทั้ง', 'ห้าม', 'นำเอา', 'ถ้อย', 'คำ', 'ที่', 'ทำ', 'ให้', 'เข้า', 'ใจ', 'ว่า', 'เป็น', 'โจทก์', 'มา', 'กล่าว', 'ใน', 'ทาง', 'เสีย', 'หาย', ' ', 'และ', 'ห้าม', 'จำ', 'เลย', 'ที่', ' ', '2', ' ', 'และ', ' ', '3', ' ', 'เผย', 'แพร่', 'ถ้อย', 'คำ', 'ของ', 'จำ', 'เลย', 'ที่', ' ', '1', ' ', 'ซึ่ง', 'อาจทำ', 'ให้', 'โจทก์', 'ได้', 'รับ', 'ความ', 'เสีย', 'หาย', ' ', 'วัน', 'เดียว', 'กัน', 'นี้', ' ', 'ที่', 'ห้องพิจารณา', 'ค', 'ดี', ' ', '412', ' ', 'ศาล', 'ได้', 'ไต่', 'สวน', ' ', 'นายวานิจ', ' ', 'ทนาย', 'ความ', 'ผู้', 'รับ', 'มอบ', 'อำนาจ', 'จาก', ' ', 'พ.ต.ท.', ' ', 'ทักษิณ', 'ซึ่ง', 'เบิก', 'ความ', 'ยืนยัน', 'ถึง', 'ความ', 'จำ', 'เป็น', 'ที่', 'ต้อง', 'ขอ', 'ให้', 'ศาล', 'มี', 'คำ', 'สั่ง', 'คุ้ม', 'ครอง', 'ชั่ว', 'คราว', 'ว่า', ' ', 'เนื่อง', 'จาก', 'ที่', 'ผ่าน', 'มา', 'จำ', 'เลย', 'ได้', 'กล่าว', 'ให้ร้ายโจทก์', 'และ', 'ครอบ', 'ครัว', 'ให้', 'ได้', 'รับ', 'ความ', 'เสีย', 'หาย', ' ', 'และ', 'ถูก', 'ดู', 'หมิ่น', 'และ', 'เกลียด', 'ชัง', 'จาก', 'ประชาชน', 'ทั่ว', 'ไป', ' ', 'รวม', 'ทั้ง', 'ส่ง', 'ผล', 'กระทบ', 'ต่อการ', 'ประกอบ', 'ธุรกิจ', 'ของโจทก์', ' ', 'อย่าง', 'ไร', 'ก็', 'ดี', 'เมื่อ', 'พยาน', 'เบิก', 'ความ', 'ตอบ', 'คำ', 'ถาม', 'ท', 'นายโจทก์เสร็จ', 'สิ้น', 'แล้ว', ' ', 'ศาล', 'นัด', 'ไต่', 'สวน', 'พยาน', 'อีก', 'ครั้ง', 'เพื่อ', 'ตอบ', 'คำ', 'ถาม', 'ค้านทนาย', 'จำ', 'เลย', ' ', 'ใน', 'วัน', 'ที่', ' ', '23', ' ', 'ก.ค.', ' ', 'นี้', ' ', 'เวลา', ' ', '13.30', ' ', 'น.', ' ', 'ทบ', '.', ' ', 'จี้', ' ', 'บช.น.', ' ', 'ดำเนินคดี', ' ', '\"', ' ', 'ดา', 'ตอร์ปิโด', ' ', '\"', ' ', 'หมิ่น', 'เบื้อง', 'สูง', ' ', 'ทบ.', ' ', 'ส่ง', 'หนังสือ', 'ถึง', ' ', 'บชน.', ' ', 'ขอ', 'ให้', 'ดำเนินคดี', 'กับ', ' ', '\"', ' ', 'ดา', 'ตอร์ปิโด', ' ', '\"', ' ', 'ฐาน', 'ดูหมิ่นองค์', 'พระมหากษัตริย์', ' ', '(', ' 21', ' ', 'ก.ค.', ' ', ')', ' ', 'พ.อ.หญิง ศิริจันทร์', ' ', 'งา', 'ทอง', ' ', 'รอง', 'โฆษกกอง', 'ทัพบก', ' ', 'เปิด', 'เผย', 'ว่า', ' ', 'กอง', 'ทั', 'พบก', 'ได้', 'รับ', 'ทราบ', 'ข้อ', 'มูล', 'ข่าว', 'สาร', 'ว่า', ' ', 'นางดาร', 'ณี', ' ', 'ชาญ', 'เชิง', 'ศิลป', 'กุล', ' ', 'หรือ', ' ', '\"', ' ', 'ดา', 'ตอร์ปิโด', ' ', '\"', ' ', 'ได้', 'ขึ้น', 'กล่าว', 'ปราศรัยใน', 'การ', 'ชุม', 'นุม', ' ', 'ณ', ' ', 'บริเวณ', 'ท้อง', 'สนามหลวง', 'เมื่อ', 'วัน', 'ที่', ' ', '18', ' ', 'ก.ค.', ' ', '51', ' ', 'โดย', 'มี', 'การ', 'ใช้', 'ถ้อย', 'คำ', 'ดู', 'หมิ่น', ' ', 'หมิ่น', 'ประมาท', ' ', 'หรือ', 'แสดง', 'ความ', 'อาฆาต', 'มาดร้าย', 'ต่อองค์', 'พระ', 'บาทสมเด็จ', 'พระเจ้า', 'อยู่หัว', ' ', 'และ', 'สมเด็จ', 'พระนางเจ้าฯถ', 'พระบรมราชินี', 'นาถ', 'อัน', 'เป็น', 'การ', 'กระทำ', 'ความ', 'ผิด', 'ตาม', 'ประมวล', 'กฎหมาย', 'อาญา', 'มา', 'ตรา', ' ', '112', ' ', 'และ', 'ถือ', 'เป็น', 'การ', 'มิ', 'บัง', 'ควร', 'อย่าง', 'ที่', 'สุด', ' ', '\"', ' ', 'จาก', 'การ', 'กระทำ', 'ดัง', 'กล่าว', ' ', 'กอง', 'ทั', 'พบกจึง', 'ได้', 'มี', 'หนังสือ', 'ด่วน', 'ที่', 'สุด', ' ', 'เมื่อ', 'วัน', 'ที่', ' ', '21', ' ', 'ก.ค.', ' ', '2551', ' ', 'ถึง', 'ผู้', 'บัญชา', 'การ', 'ตำรวจน', 'ครบาล', ' ', 'เรื่อง', ' ', 'ขอ', 'ให้', 'ดำเนินคดี', 'กับ', 'ผู้', 'กระทำ', 'ความ', 'ผิด', 'ต่', 'อองค์', 'พระมหากษัตริย์', ' ', '\"', ' ', 'รอง', 'โฆษก', 'กองทัพบก', ' ', 'กล่าว', ' ', 'และ', 'ว่า', 'เนื้อ', 'หา', 'ใน', 'หนัง', 'สือ', 'ระบุว่า', ' ', '\"', ' ', 'กอง', 'ทั', 'พบก', ' ', 'ขอ', 'ให้', 'กอง', 'บัญชา', 'การ', 'ตำรวจน', 'คร', 'บาล', 'ได้', 'กรุณา', 'ตรวจ', 'สอบ', 'การ', 'ปราศรัย', 'ของ', 'นาง', 'ดาร', 'ณีฯ', ' ', 'หาก', 'พบ', 'ว่า', 'มี', 'การ', 'กระทำ', 'ความ', 'ผิด', 'จริง', ' ', 'ขอ', 'ให้', 'ดำ', 'เนิน', 'การ', 'ตาม', 'กฎหมาย', 'ต่อ', 'ไป', ' ', '\"', ' ', 'ทั้ง', 'นี้', 'หนังสือ', 'ดังกล่าว', 'ได้', 'ส่ง', 'ไป', 'ยัง', 'กอง', 'บัญชา', 'การ', 'ตำรวจน', 'ครบาล', 'แล้ว', 'ใน', 'วัน', 'เดียว', 'กัน', ' ', 'พ.อ.', 'หญิงศิริจันทร์', ' ', 'กล่าว', 'ว่า', ' ', 'กอง', 'ทัพบก', 'ใน', 'ฐานะ', 'ที่', 'เป็น', 'หน่วย', 'งาน', 'หลัก', 'ที่', 'มี', 'หน้า', 'ที่', 'ใน', 'การ', 'เทิด', 'ทูน', 'ไว้', 'ซึ่ง', 'สถา', 'บัน', ' ', 'ชาติ', ' ', 'ศา', 'สนา', ' ', 'พระมหากษัตริย์', ' ', 'จะ', 'ดำเนินการ', 'ใน', 'ทุก', 'วิถี', 'ทาง', 'เพื่อ', 'ป้อง', 'กันมิ', 'ให้', 'มี', 'การ', 'กระทำ', 'ใด', ' ', 'ๆ', ' ', 'อัน', 'เป็น', 'การ', 'ระคาย', 'เคือง', 'เบื้อง', 'พระยุ', 'คล', 'บาท', 'โดย', 'เด็ด', 'ขาด', ' ', 'ทั้ง', 'นี้', 'กอง', 'ทัพบกจะ', 'ติด', 'ตาม', 'ผล', 'ของ', 'การ', 'ดำเนินคดี', 'ใน', 'เรื่อง', 'ดังกล่าว', 'อย่าง', 'ใกล้', 'ชิด', 'ต่อ', 'ไป', ' ', 'ปลัด', ' ', 'กห.', ' ', 'แจง', 'ดำ', 'เนิน', 'การ', 'กับ', 'เว็บ', 'ไซต์', 'หมิ่น', 'สถา', 'บัน', ' ', 'พล.อ.', ' ', 'วินัย', ' ', 'ภัทธิยกุล', ' ', 'ปลัด', 'กระทรวง', 'กลาโหม', ' ', 'ได้', 'ชี้', 'แจง', 'ถึง', 'การ', 'แก้', 'ไข', 'ปัญหา', 'เว็บ', 'ไซต์', 'หมิ่น', 'สถา', 'บัน', 'ต่อ', 'ที่', 'ประชุม', 'คณะกรร', 'มาธิการ', 'วิสามัญพิจารณา', 'ร่าง', ' ', 'พ.ร.บ.', ' ', 'งบ', 'ประมาณ', 'ราย', 'จ่าย', 'ประจำปีงบ', 'ประมาณ', ' ', '2552', ' ', 'ซึ่ง', 'เป็น', 'การพิจาร', 'ณางบ', 'ประมาณ', 'กระทรวง', 'กลา', 'โหม', 'ว่า', ' ', 'ขณะ', 'นี้', 'ทาง', 'กอง', 'ทัพ', 'ได้', 'ตั้ง', 'หน่วยงาน', 'เฉพาะ', 'กิจ_080', ' ', 'ประกอบ', 'ด้วย', ' ', 'เจ้า', 'หน้า', 'ที่', 'จาก', 'กระทรวง', 'ไอ', 'ซี', 'ที', 'และ', 'เจ้า', 'หน้า', 'ที่', 'ตำรวจมา', 'ดู', 'แล', 'เรื่อง', 'นี้', 'อย่าง', 'เข้ม', 'ข้น', ' ', 'โดย', 'มี', 'กอง', 'ทั', 'พบก', 'เป็น', 'เจ้าภาพ', ' ', 'ปลัด', ' ', 'กห.', ' ', 'แจง', ' ', 'กมธ.', ' งบ', ' ฯ', ' ', 'รับ', 'ปัญหา', 'ไทย', ' ', '-', ' ', 'กัม', 'พูชาเกิด', 'แน่', ' ', 'รอง', ' ', 'ปธ.', ' ', 'กมธ.', ' ', 'ต่าง', 'ประเทศ', 'วุฒิ', ' ', 'อัดรัฐบาล', 'ไทย', 'เฉย', 'ปัญหา', 'ปรา', 'สาท', 'เขา', 'พระวิหาร', ' ', 'จวกยู', 'เอ็น', 'จุ้น', 'เรื่อง', 'ภาย', 'ใน', ' ', 'แนะ', 'ปิด', 'ทาง', 'ขึ้น', 'ปราสาท', 'สร้าง', 'อำนาจ', 'ต่อรอง', ' ', '(', ' 21', ' ', 'ก.ค.', ' ', ')', ' ', 'ม', '.ร.ว.', ' ', 'ปรีย', 'นันทนา', ' ', 'รังสิต', ' ', 'ส.ว.', ' ', 'สรรหา', ' ', 'รอง', 'ประธาน', 'คณะกรร', 'มาธิการ', 'การ', 'ต่าง', 'ประเทศ', ' ', 'วุฒิ', 'สภา', ' ', 'กล่าว', 'ปัญหา', 'ปรา', 'สาท', 'เขา', 'พระวิหาร', 'ว่า', ' ', 'จน', 'ถึง', 'ขณะ', 'นี้', 'รัฐบาล', 'ไทย', 'ไม่', 'ได้', 'ดำเนิน', 'การ', 'ใด', ' ', 'ๆ', ' ', 'ทั้ง', 'เรื่อง', 'การ', 'ประกาศ', 'ยก', 'เลิก', 'แถลงการณ์', 'ร่วม', 'ไทย', ' ', '-', ' ', 'กัม', 'พู', 'ชา', ' ', 'การ', 'ประชุม', 'คณะกรรมการ', 'ยูเนสโก', ' ', 'ที่', 'ประเทศ', 'แคนา', 'ดา', ' ', 'จน', 'ทำ', 'ให้', 'สถานการณ์', 'ชาย', 'แดน', 'ระหว่าง', 'ไทย', ' ', '-', ' ', 'กัม', 'พูชาตึง', 'เครียด', 'เสี่ยง', 'ต่อ', 'ความ', 'มั่นคง', ' ', 'ซึ่ง', 'ทหาร', 'ทั้ง', ' ', '2', ' ', 'ฝ่าย', 'มี', 'การ', 'ตรึง', 'บริเวณชาย', 'แดน', 'ตลอด', ' ', '24', ' ', 'ชั่วโมง', ' ', 'หาก', 'มี', 'การ', 'กระทบ', 'กระ', 'ทั่ง', 'กัน', 'สถานการณ์', 'อาจ', 'บาน', 'ปลาย', 'ได้', ' ', 'ม', '.ร.ว.', ' ', 'ปรียา', 'นันทนา', ' ', 'กล่าว', 'ว่า', ' ', 'ขณะ', 'นี้', 'กัม', 'พูชา', 'ได้', 'ทำ', 'จด', 'หมาย', 'ไป', 'ถึง', 'ยู', 'เอ็น', 'ให้', 'เข้า', 'มา', 'ไก', 'ล่', 'เกลี่ย', 'ข้อ', 'พิพาท', 'ระหว่าง', 'ไทย', ' ', 'กัม', 'พูชา', ' ', 'ถือ', 'เป็น', 'ความ', 'ฉลาด', ' ', 'เขา', 'ได้', 'วาง', 'แผน', 'ล่วง', 'หน้า', 'กัน', 'เป็น', 'ที่', 'เรียบ', 'ร้อย', 'ทำ', 'ให้', 'ไทย', 'เสีย', 'เปรียบ', 'ตลอด', 'เวลา', ' ', 'ความ', 'จริง', 'เรื่อง', 'นี้', 'ควร', 'คุย', 'เฉพาะ', 'ไทย', 'กับ', 'กัม', 'พูชา', ' ', 'หรือ', 'ใน', 'กลุ่ม', 'ประชา', 'คม', 'อาเซียน', ' ', 'แต่', 'เขา', 'กลับ', 'ไป', 'ฟ้องโลก', ' ', 'ฟ้อง', 'ยูเอ็น', ' ', 'ซึ่ง', 'ทำ', 'ให้', 'คน', 'ที่', 'ฟ้อง', 'ก่อน', 'ได้', 'เปรียบ', ' ', 'ประเทศ', 'ไทย', 'เดิน', 'ต้อย', 'ๆ', ' ', 'ตาม', 'คอย', 'แก้', 'ปัญหาแผน', 'ต่อ', 'ไป', 'คือ', ' ', 'การ', 'บริหาร', 'จัด', 'การ', 'ซึ่ง', 'กรรมการ', 'ร่วม', ' ', '6', ' ', 'ประเทศ', ' ', 'มี', 'ความ', 'ใก', 'ล้', 'ชิด', 'และ', 'เคย', 'เป็นกรรมการ', 'บริหาร', 'ปราสาทนคร', 'วัด-', 'นครธม', 'มา', 'แล้ว', ' ', 'มา', 'ก่อน', ' ', 'ซึ่ง', 'อาจ', 'จะ', 'มี', 'การ', 'รุก', 'ล้ำ', 'เข้า', 'ไป', 'ใน', 'เขต', 'พื้น', 'ที่', 'ทับ', 'ซ้อน', ' ', 'ซึ่ง', 'จะ', 'ทำ', 'ให้', 'ไทย', 'ไม่', 'มี', 'สิทธิ', 'เหนือ', 'ดิน', 'แดน', 'ของ', 'ตน', 'ได้', ' ', '\"', ' ', 'รัฐบาล', 'ไทย', 'ต้อง', 'ยืน', 'ยัน', 'ว่า', 'เป็น', 'เรื่อง', 'ภาย', 'ใน', 'อย่า', 'ให้', 'ยู', 'เอ็น', 'เข้า', 'ยุ่ง', 'เด็ด', 'ขาด', ' ', 'เมื่อเรา', 'ทำ', 'ทุก', 'อย่าง', 'แล้ว', 'ยัง', 'เสีย', 'เปรียบ', 'อยู่', ' ', 'มาตร', 'การ', 'สุด', 'ท้าย', 'คือ', ' ', 'การ', 'ประกาศ', 'ปิด', 'ทาง', 'ขึ้น', 'ปราสาท', 'พระวิหาร', 'เพราะ', 'เป็น', 'พื้น', 'ที่', 'ของ', 'ประเทศ', 'ไทย', 'ตรง', 'นี้', 'ถือ', 'เป็น', 'อำนาจ', 'ต่อ', 'รอง', 'ของ', 'เรา', 'เพียง', 'อย่าง', 'เดียว', ' ', 'เมื่อเรา', 'ปิด', 'ทาง', 'ขึ้น', 'เขา', 'เด็ดขาด', 'ทาง', 'กัม', 'พู', 'ชา', ' ', 'จะ', 'ดำเนินการ', 'อย่างไร', 'ก็', 'ช่าง', 'เขา', 'เพราะ', 'ทาง', 'ขึ้น', 'เขา', 'เป็น', 'พื้นที่', 'ของ', 'บ้าน', 'เรา', ' ', '\"', ' ', 'ม', '.ร.ว.', ' ', 'ปรีย', 'นันทนา', ' ', 'กล่าว', ' ', 'ปลัดกลา', 'โหม', 'รับ', 'ปัญหา', 'ไทย', ' ', '-', ' ', 'กัม', 'พูชา', 'เกิด', 'แน่', ' ', 'พล.อ.', ' ', 'วินัย', ' ', 'ภัทธิยกุล', ' ', 'ปลัด', 'กระทรวง', 'กลาโหม', ' ', 'ได้', 'ชี้', 'แจง', 'การ', 'แก้', 'ไข', 'ปัญหา', 'เขต', 'แดน', 'ของ', 'ไทย', 'ภาย', 'หลัง', 'กัม', 'พูชา', 'ขึ้น', 'ปราสาท', 'พระวิหารม', 'รดกโลก', 'ต่อ', 'ที่', 'ประชุม', 'คณะกรร', 'มาธิการ', 'วิสามัญพิจารณา', 'ร่าง', ' ', 'พ.ร.บ.', ' ', 'งบ', 'ประมาณ', 'ราย', 'จ่าย', 'ประจำปีงบ', 'ประมาณ', ' ', '2552', ' ', 'ซึ่ง', 'เป็น', 'การพิจาร', 'ณางบ', 'ประมาณ', 'กระทรวง', 'กลา', 'โหม', 'ว่า', ' ', 'ขณะ', 'นี้', ' ', 'พล', '.อ.', ' ', 'บุญ', 'สร้าง', 'เนียม', 'ประดิษฐ์', ' ', 'สส.', ' ', 'ได้', 'เดิน', 'ทาง', 'ไป', 'ร่วม', 'ประชุม', 'กับ', 'กัม', 'พู', 'ชา', 'แล้ว', ' ', 'ส่วน', 'พื้น', 'ที่', 'ทับ', 'ซ้อน', 'ทาง', 'กัม', 'พูชา', 'ก็', 'ยัง', 'ยืน', 'ว่า', 'เป็น', 'พื้น', 'ที่', 'ของ', 'เขา', ' ', 'ซึ่ง', 'ทาง', 'ไทย', 'ได้', 'ใช้', 'แผน', 'ที่', ' ', 'L', ' ', '70', '17', ' ', 'มา', 'ยืน', 'ยัน', ' ', 'ทั้ง', 'นี้', 'ยอม', 'รับ', 'ว่า', 'เรื่อง', 'นี้', 'ก็', 'ต้อง', 'มี', 'ปัญหา', 'ต่อ', 'ไป', ' ', 'เพราะ', 'ถือ', 'แผน', 'ที่', 'คน', 'ละ', 'ฉบับ', 'กับ', 'ประเทศกัม', 'พูชา', ' ', '\"', ' ', 'เฉลิม', ' ', '\"', ' ', 'ปลง', 'หาก', 'ปรับ', ' ', 'ครม.', ' ', 'หลุด', 'เก้า', 'อี้', ' ', '\"', ' ', 'มท.1', ' ', '\"', ' ', '\"', ' ', 'เฉลิม', ' ', '\"', ' ', 'ปลง', ' ', 'หาก', 'ปรับ', ' ', 'ครม.', ' ', 'หลุด', 'เก้า', 'อี้', ' ', '\"', ' ', 'มท.1', ' ', '\"', ' ', 'บอก', 'นั่ง', 'ได้', 'ทุก', 'ที่', ' ', 'ระบุ', ' ', 'ถ้า', 'ได้', 'ดู', 'มหาด', 'ไทย', 'จะ', 'ลุย', 'สาง', 'ปัญหา', 'ที่', 'ดิน', 'ต่อ', ' ', '(', ' 21', ' ', 'ก.ค.', ' ', ')', ' ', 'ร.ต.อ.', ' ', 'เฉลิม', ' ', 'อยู่', 'บำรุง', ' ', 'รัฐมนตรี', 'ว่าการ', 'กระทรวง', 'มหาดไทย', ' ', 'กล่าว', 'ถึง', 'กรณี', 'ที่', 'จะ', 'มี', 'การ', 'ปรับ', 'คณะ', 'รัฐมนตรี', ' ', '(', ' ครม.', ' ', ')', ' ', 'โดย', 'ให้', 'ไป', 'ดำรง', 'ตำแหน่ง', ' ', 'รมว.', ' ', 'สาธารณสุข', 'หรือ', 'กระทรวง', 'ยุติธรรม', 'ว่า', ' ', 'ไม่', 'เป็นไร', ' ', 'เคย', 'บอก', 'มา', 'ตลอด', 'ว่า', ' ', 'การ', 'ปรับ', ' ', 'คร', 'ม.', ' ', 'เป็น', 'อำนาจ', 'ของ', 'นายก', 'รัฐมนตรี', ' ', 'และ', 'คณะ', 'ผู้บริหารพรรค', ' ', 'ซึ่ง', 'ไม่', 'ขัด', 'ข้อง', 'และ', 'เต็มใจ', ' ', 'เมื่อ', 'ถาม', 'ว่า', ' ', 'ขณะ', 'นี้', 'ไม่', 'ได้', 'มี', 'การ', 'ส่ง', 'สัญญาณ', 'อะไร', 'จาก', 'นายก', 'รัฐมนตรี', ' ', 'รมว.', ' ', 'มหาดไทย', ' ', 'กล่าว', 'ว่า', ' ', 'หากจะ', 'มี', 'การ', 'ปรับ', 'ออก', ' ', 'นาย', 'ก', 'รัฐมนตรี', 'ก็', 'ไม่', 'จำเป็น', 'ต้อง', 'ส่ง', 'สัญญาณ', 'อะไร', ' ', 'เพราะ', 'เป็น', 'อำนาจ', ' ', 'ตน', 'มี', 'หน้า', 'ที่', 'ปฏิบัติตาม', ' ', '\"', ' ', 'นัก', 'การ', 'เมือง', 'ต้อง', 'มี', 'ความ', 'เข้า', 'ใจ', 'ใน', 'สถานการณ์', 'การ', 'เมือง', ' ', 'การ', 'ปรับ', 'เปลี่ยน', 'เป็น', 'เรื่อง', 'ปกติธรรมดา', ' ', 'ไม่', 'ได้', 'คิด', 'อะไร', ' ', 'ผม', 'ยัง', 'ไม่', 'ได้', 'คิด', 'ไป', 'ถึง', 'ตรง', 'นั้น', ' ', 'ส่วน', 'นายกรัฐมนตรีคิด', 'อย่าง', 'ไร', 'ถึง', 'มา', 'ปรับ', 'ผม', 'นั้น', ' ', 'ก็', 'ต้อง', 'ไป', 'ถาม', 'ท่าน', 'นายกรัฐ', 'มนตรี', ' ', 'ผม', 'ไม่', 'ได้', 'คิด', 'อะไร', ' ', 'จะ', 'ถาม', 'กัน', 'สัก', 'กี่', 'ครั้ง', 'ก็', 'จะ', 'ตอบ', 'อย่าง', 'นี้', ' ', 'ให้', 'ไป', 'ถาม', 'นายกรัฐ', 'มนตรี', ' ', 'จะ', 'มา', 'ถาม', 'ผม', 'ได้', 'อย่าง', 'ไร', ' ', '\"', ' ', 'ร.ต.อ.', ' ', 'เฉลิม', ' ', 'กล่าว', ' ', 'ตอบ', 'คำถาม', 'ที่', 'ว่า', ' ', 'เกิด', 'ความ', 'ท้อ', 'ถอย', 'หรือ', 'ไม่', ' ', 'ที่', 'มี', 'ราย', 'ชื่อ', 'ใน', 'การ', 'ปรับ', ' ', 'ครม', '.', ' ', 'เมื่อ', 'ถาม', 'ว่า', ' ', 'เกี่ยว', 'กับกรณี', 'ที่', 'ไม่', 'มี', 'การ', 'โยก', 'ย้าย', 'ผู้', 'ว่า', 'ราชการ', 'จัง', 'หวัดตาม', 'ที่', 'มี', 'การ', 'ขอ', 'ร้อง', 'มา', 'หรือ', 'ไม่', ' ', 'ร.ต.อ.', ' ', 'เฉลิม', ' ', 'กล่าว', 'ว่า', ' ', 'คง', 'ไม่', 'ใช่', ' ', 'ไม่', 'ทราบ', 'ว่า', ' ', 'นายก', 'รัฐมนตรี', 'จะ', 'ปรับ', 'เปลี่ยน', 'อย่างไร', ' ', 'ถ้า', 'พูด', 'มาก', 'ไป', 'จะ', 'ไม่', 'ดี', ' ', 'เมื่อ', 'ถาม', 'ว่า', ' ', 'หาก', 'จะ', 'ให้', 'ไป', 'เป็น', 'รอง', 'นายกรัฐมน', 'ตรี', 'ด้าน', 'ความ', 'มั่นคง', 'จะ', 'พอใจ', 'หรือ', 'ไม่', ' ', 'ร.ต.อ.', ' ', 'เฉลิม', ' ', 'กล่าว', 'ว่า', ' ', 'ฝน', 'ไม่', 'ตก', ' ', 'แดด', 'ไม่', 'ออกอย่า', 'เพิ่ง', 'กาง', 'ร่ม', ' ', 'ส่วน', 'เรื่อง', 'ที่', 'จะ', 'ให้', ' ', 'รมว.', ' ', 'ยุติธรรม', ' ', 'มา', 'นั่ง', 'แทน', 'ใน', 'ตำแหน่ง', ' ', 'รมว.', ' ', 'ม', 'หาด', 'ไทย', 'นั้น', ' ', 'ไม่', 'ขอ', 'แสดง', 'ความ', 'เห็น', ' ', 'นอก', 'จากนี้', ' ', 'ร.ต.อ.', ' ', 'เฉลิม', ' ', 'ยัง', 'ปฏิเสธ', 'ที่', 'จะ', 'ให้', 'ความ', 'เห็น', 'ว่า', ' ', 'คน', 'ที่', 'จะ', 'มา', 'นั่ง', 'ตำแหน่ง', ' ', 'รมว.', ' ', 'มหาด', 'ไทย', ' ', 'ควรจะ', 'มี', 'คุณ', 'สมบัติ', 'อย่าง', 'ไร', 'พร้อม', 'กับ', 'หัว', 'เราะ', ' ', 'และ', 'กล่าว', 'ต่อ', 'ว่า', ' ', 'เรื่อง', 'ที่', 'ตน', 'ดำเนิน', 'การ', 'ตรวจ', 'สอบ', 'เรื่อง', 'ที่', 'ดิน', 'หลาย', 'คน', 'บอกว่า', ' ', 'เรื่อง', 'ไป', 'ถึง', 'ไหน', ' ', 'ซึ่ง', 'ตั้ง', 'แต่', 'เข้า', 'มา', 'ทำหน้า', 'ที่', ' ', 'รมว.', ' ', 'มหาดไทย', ' ', 'ได้', 'สำรวจ', 'พื้น', 'ที่', 'ทั่ว', 'ประเทศ', ' ', 'พบ', 'ว่า', ' ', 'มี', 'การ', 'บุก', 'รุก', ' ', '6', ' ', 'ล้าน', 'ไร่', ' ', 'โดย', 'มี', 'การ', 'แยกคน', 'จน', ' ', 'ดำ', 'เนิน', 'การ', 'กับ', 'คน', 'ที่', 'มี', 'อิทธิพล', 'ที่', 'เอามา', 'เป็น', 'สมบัติ', 'ของ', 'ตัว', 'เอง', ' ', 'และ', 'จะ', 'ได้', 'คืน', 'ประมาณ', ' ', '2', ' ', 'พัน', 'กว่า', 'ไร่', ' ', 'ฉะ', 'นั้น', 'จะ', 'ต้อง', 'ทำ', 'ต่อ', ' ', 'ไม่', 'ได้', 'หยุด', ' ', 'เพราะ', 'กระบวนการ', 'ไม่', 'ได้', 'ง่าย', ' ', 'ๆ', ' ', 'คิด', 'ว่า', 'จะ', 'เชิญอธิบ', 'ดีกรม', 'ส่ง', 'เสริม', 'การ', 'ปกครอง', 'ท้อง', 'ถิ่น', ' ', 'มาหารือ', 'เรื่อง', 'การ', 'เสีย', 'ภาษี', 'บำรุง', 'ท้อง', 'ที่', ' ', 'เป็น', 'การ', 'ดำเนิน', 'การ', 'ไป', 'สู่', 'ขั้น', 'ตอน', 'ที่', 'จะ', 'ออก', 'เอก', 'สาร', 'สิทธิ', ' ', 'เพราะ', 'ว่า', 'เป็น', 'การ', 'เปิด', 'ทาง', ' ', 'ถ้า', 'เขา', 'ไม่', 'มี', 'สิทธิ', 'ต้อง', 'มี', 'การ', 'ระงับ', 'แต่', 'ต้น', ' ', 'หาก', 'มี', 'เวลา', ' ', 'คิด', 'ว่า', ' ', 'จะ', 'ได้', 'ที่', 'ดิน', 'คืน', 'มา', 'อีก', 'เป็น', 'แสน', 'ไร่', ' ', 'ทั้ง', 'นี้', ' ', 'ร.ต.อ.', ' ', 'เฉลิม', ' ', 'ยังกล่าว', 'ว่า', ' ', 'ไม่', 'เป็น', 'ห่วง', 'หาก', 'มี', 'การ', 'เปลี่ยน', 'คนมา', 'นั่ง', 'ตำ', 'แหน่ง', ' ', 'รมว.', ' ', 'มหาด', 'ไทย', ' ', 'เพราะ', 'ใคร', 'มา', 'ก็', 'ทำ', 'เป็น', ' ', 'โดยตน', 'ก็', 'ไม่', 'ได้', 'เก่ง', 'อะไร', ' ', 'เป็น', 'คน', 'ธรรมดา', 'เท่า', 'นั้น', 'เอง', ' ', 'ส่วน', 'นายก', 'รัฐมนตรี', 'จะ', 'มอง', 'เห็น', 'ผล', 'งาน', 'ที่', 'ผ่าน', 'มา', 'หรือ', 'ไม่', 'นั้น', ' ', 'ร.ต.อ.', ' ', 'เฉลิม', ' ', 'กล่าว', 'ว่า', ' ', 'ไม่', 'ทราบ', ' ', 'ต้อง', 'ไป', 'ถาม', 'นายกรัฐมนตรี', 'เอง', ' ', 'ต่อ', 'ข้อถาม', 'ที่', 'ว่า', ' ', 'เป็น', 'ไป', 'ได้', 'หรือ', 'ไม่', 'ว่า', ' ', 'นายกรัฐมนตรี', 'เข้าใจ', 'เห็น', 'ผลงาน', 'ที่', 'ผ่าน', 'มา', 'แต่', 'เป็น', 'ปัญหา', 'ภาย', 'ใน', 'พรรค', 'พลัง', 'ประชาชน', 'กว่า', ' ', 'ร.ต.อ.', ' ', 'เฉลิม', ' ', 'กล่าว', 'ว่า', ' ', 'ไม่', 'ทราบ', 'ไม่', 'ได้', 'ติด', 'ตาม', 'เรื่อง', 'นี้', ' ', 'เรื่อง', 'การ', 'ปรับ', 'ใน', 'ตำแหน่งใน', 'ครั้ง', 'นี้', ' ', 'ไม่', 'มั่น', 'ใจ', ' ', 'ไม่', 'ไว้ใจ', 'และ', 'ไม่', 'ได้', 'คิด', ' ', 'เป็น', 'ธรรม', 'ดา', ' ', 'เรื่อง', 'การ', 'ปรับ', ' ', 'ครม.', ' ', 'แสดง', 'ความ', 'เห็น', 'ไม่', 'ได้', ' ', 'เพราะ', 'ว่า', 'เรื่อง', 'นี้', 'ต้อง', 'อยู่', 'ที่', 'นายกรัฐมนตรี', ' ', '\"', ' ', 'สื่อเสนอ', 'เรื่อง', 'ปรับ', ' ', 'ครม.', ' ', 'ยัง', 'ขาด', 'ความ', 'เข้า', 'ใจ', ' ', 'กรณี', 'ของ', ' ', 'นพ. ', 'สุรพงษ์', ' ', 'สืบวงษ์', 'ลี', ' ', 'นายอนุรักษ์', ' ', 'จุรีมาศ', ' ', 'นาง', 'อุไรวรรณ', ' ', 'เทียน', 'ทอง', ' ', 'ระหว่าง', 'ที่', 'ถูกกล่าว', 'หา', 'เรื่อง', 'หวย', ' ', 'ไม่', 'ได้', 'อยู่', 'ใน', 'ตำ', 'แหน่ง', 'นี้', ' ', 'ที่', 'จะ', 'ต้อง', 'ถูกพักงาน', ' ', 'ต้อง', 'อยู่', 'ใน', 'ตำ', 'แหน่ง', ' ', 'เป็น', 'คน', 'ละเรื่อง', 'กัน', ' ', 'ซึ่ง', 'เขา', 'ห้าม', 'ผู้', 'ถูกกล่าว', 'หา', 'ระหว่าง', 'ดำรง', 'ตำ', 'แหน่ง', 'จึง', 'ต้อง', 'พัก', ' ', 'แต่', 'นี่', 'ถูกกล่าว', 'หาระหว่าง', 'ที่', 'อยู่', 'ตำแหน่ง', 'เก่า', ' ', 'อย่า', 'ไป', 'บอกว่า', ' ', 'ทัน', 'ที', 'ที่', 'ศาล', 'ประทับ', 'รับ', 'ฟ้อง', 'ก็', 'มี', 'ความ', 'ผิด', ' ', 'ไม่', 'ใช่', ' ', 'อัย', 'การฟ้อง', ' ', 'คตส.', ' ', 'ฟ้องเอง', ' ', 'ศาล', 'จะ', 'ตรวจ', 'สำนวน', 'และ', 'จะ', 'รับ', 'ไว้', 'พิจารณา', 'หรือ', 'ไม่', 'และ', 'รับ', 'ไว้', 'พิจารณา', 'ก็ตก', 'เป็น', 'จำ', 'เลย', ' ', 'และ', 'ให้', 'สัน', 'นิษฐาน', 'ว่า', ' ', 'จำ', 'เลย', 'เป็น', 'ผู้', 'ตาม', 'รัฐธรรมนูญ', ' ', 'ยัง', 'ไม่', 'ได้', 'ซีเรียสขนาด', 'นั้น', 'เพราะ', 'ว่า', 'ยัง', 'ไม่', 'มี', 'อะไร', ' ', '\"', ' ', 'ร.ต.อ.', ' ', 'เฉลิม', ' ', 'กล่าว', ' ', 'ทหาร', 'เขมร', 'แดง', 'กระหาย', 'จะ', 'สู้รบ', 'กับ', 'ทหาร', 'ไทย', ' ', 'ทหาร', 'เขมร', 'แดง', 'กระหาย', 'จะ', 'สู้รบ', 'กับ', 'ทหาร', 'ไทย', ' ', 'แม้', 'จะ', 'ใส่', 'รอง', 'เท้า', 'ฟอง', 'น้ำ', 'และ', 'ใช้', 'ปืน', 'สมัย', 'สงคราม', 'เย็น', ' ', '(', ' ', '21', ' ', 'ก.ค.', ' ', ')', ' ', 'ทหาร', 'ประเทศ', 'กัม', 'พูชา', 'เปิด', 'เผย', 'ต่อสำนัก', 'ข่าว', ' ', 'AFP', ' ', 'ว่า', ' ', 'พวก', 'เขา', 'อาจ', 'จะ', 'สวมรอง', 'เท้า', 'ฟอง', 'น้ำ', ' ', 'แต่', 'ทหาร', 'กัม', 'พูชา', 'ส่วน', 'ใหญ่', 'ที่', 'เผชิญหน้า', 'กับ', 'ทหาร', 'ไทย', ' ', 'บริเวณ', 'ชาย', 'แดน', 'ที่', 'เป็น', 'พื้น', 'ที่', 'พิพาท', ' ', 'ต่าง', 'เป็นอดีต', 'ทหาร', 'เขมร', 'แดง', 'ที่', 'ผ่าน', 'บททด', 'สอบ', 'การ', 'สู้', 'รบ', 'มา', 'แล้ว', ' ', 'โดย', 'ขณะ', 'นี้', 'มี', 'ทหาร', 'ไทย', 'กว่า', ' ', '500', ' ', 'นาย', ' ', 'และ', 'ทหาร', 'กัม', 'พู', 'ชากว่า', ' ', '1', ' ', 'พัน', 'นาย', ' ', 'ต่าง', 'ประจัน', 'หน้า', 'กัน', 'อยู่', 'ใน', 'พื้น', 'ที่', 'บริเวณ', 'รอบ', 'เจดีย์', 'ขนาด', 'เล็ก', ' ', 'เชิง', 'เขา', 'อัน', 'เป็น', 'เส้น', 'ทาง', 'สู่', 'ที่', 'ตั้ง', 'ของ', 'ปราสาท', 'พระวิหาร', 'ที่', 'สร้าง', 'ตั้ง', 'แต่', 'สมัยศตวรรษ', 'ที่', ' ', '11', ' ', 'แต่', 'บรรยากาศ', 'การ', 'เผชิญ', 'หน้า', 'ค่อน', 'ข้าง', 'จะ', 'สงบลง', 'แล้ว', 'ใน', 'วัน', 'นี้', ' ', 'จาก', 'การ', 'ที่', 'เจ้า', 'หน้า', 'ที่', 'ระดับ', 'สูง', 'ของ', 'แต่', 'ละ', 'ฝ่าย', 'ได้เจรจา', ' ', 'ถ่าย', 'ภาพ', 'และ', 'รับ', 'ประทาน', 'อาหาร', 'ร่วม', 'กัน', ' ', 'ซึ่ง', 'แตกต่าง', 'จาก', 'เมื่อ', 'วัน', 'พฤหัสบ', 'ดี', 'ที่', 'ต่าง', 'ฝ่าย', 'ต่าง', 'หัน', 'ปาก', 'กระบอก', 'ปืน', 'เข้า', 'ใส่', 'กัน', ' ', 'เพียง', 'แต่', 'ไม่', 'ได้', 'ยิง', 'กัน', 'เท่า', 'นั้น', ' ', 'พวก', 'อดีต', 'ท', 'หาร', 'เขมรแดง', ' ', 'ระบุว่า', ' ', 'พวก', 'เขากระหาย', 'ที่', 'จะ', 'ต่อ', 'สู้', 'และ', 'ทหาร', 'ไทย', 'ไม่', 'ควร', 'ประมาท', ' ', 'เพียง', 'แค่', 'เห็น', 'รูปลักษณ์', 'ภาย', 'นอก', 'ของ', 'พวก', 'เขา', ' ', 'ซึ่ง', 'พวก', 'ทหาร', 'กัม', 'พูชา', 'ต่าง', 'สวม', 'รอง', 'เท้า', 'ฟอง', 'น้ำ', ' ', 'และ', 'ถือ', 'ปืน', 'สมัย', 'สง', 'คราม', 'เย็น', ' ', 'ทหาร', 'วัย', ' ', '32', ' ', 'ปี', ' ', 'ชื่อ', ' ', 'ดวง', ' ', 'เตย', ' ', 'ที่', 'เริ่ม', 'เป็น', 'ทหาร', 'เขมรแดง', ' ', 'ตั้ง', 'แต่', 'อายุ', ' ', '12', ' ', 'ปี', ' ', 'กล่าว', 'หา', 'ทหาร', 'ไทย', 'ว่า', ' ', 'ว่า', 'พวกเขา', 'กระจอก', ' ', 'สวม', 'รอง', 'เท้า', 'แตะ', ' ', 'แต่', 'รอง', 'เท้า', 'แตะ', 'ทำ', 'ให้', 'พวก', 'เขา', 'เคลื่อน', 'ไหว', 'รวด', 'เร็ว', 'อีก', 'ทั้ง', 'ยังเชี่ยว', 'ชาญ', 'พื้น', 'ที่', ' ', 'และ', 'ยืน', 'ยัน', 'ว่า', ' ', 'ถึง', 'จะ', 'กระจอก', 'แต่', 'แข็ง', 'แกร่ง', ' ', 'ราย', 'งาน', 'ระบุว่า', ' ', 'ทหาร', 'ฝั่ง', 'ไทย', 'มี', 'อาวุธปืน', 'และ', 'เครื่อง', 'แบบ', 'ที่', 'ทัน', 'สมัย', 'และ', 'มี', 'การ', 'เตรียม', 'พร้อม', 'อย่าง', 'ดี', ' ', 'แต่', ' ', 'ยัน', ' ซัน', ' ', 'ทหาร', 'วัย', ' ', '47', ' ', 'ปี', ' ', 'ที่', 'เคย', 'เป็น', 'ทหาร', 'เขมร', 'แดง', 'ตั้ง', 'แต่', 'อายุ', ' ', '15', ' ', 'ปี', ' ', 'กล่าว', 'ว่า', ' ', 'ทหาร', 'ไทย', 'รู้', 'เพียง', 'แค่', 'ทฤษฎี', ' ', 'แต่', 'พวก', 'เขา', 'ไม่', 'รู้', 'ว่า', ' ', 'ทหาร', 'กัม', 'พูชาเปรียว', 'เหมือน', 'ไก่', 'ป่า', ' ', 'และ', 'ต้อง', 'การ', 'จะ', 'รบ', 'กับ', 'ทหาร', 'ไทย', ' ', 'ด้านพล', 'จัตวา', ' ', 'เจีย', ' ', 'โก', ' ', 'ผู้บัญชา', 'การ', 'กอง', 'กำลัง', 'ใน', 'พื้น', 'ที่', 'พิพาท', ' ', 'และ', 'เคย', 'เป็น', 'ทหาร', 'เขมร', 'แดง', 'มา', 'ก่อน', 'กล่าว', 'ว่า', ' ', 'กว่า', ' ', '60', ' ', 'เปอร์', 'เซ็นต์', 'ของ', 'ทหาร', 'ที่', 'ต่อ', 'สู้', 'เพื่อระบอบเขมร', 'แดง', ' ', 'เมื่อ', 'ช่วง', 'ปี', ' ', '2518', ' ', '-', ' ', '2522', ' ', 'เป็น', 'พวก', 'ที่', 'รับ', 'ใช้', 'กองทัพ', 'ใน', 'ปัจ', 'จุบันบรรดา', 'ผู้', 'นำ', 'ทั้ง', 'ของ', 'ไทย', 'และ', 'กัม', 'พูชา', ' ', 'ต่าง', 'สั่ง', 'การ', 'ไม่', 'ให้', 'ทหาร', 'เปิด', 'ฉาก', 'ยิง', ' ', 'และ', 'เรียกร้อง', 'ให้', 'แก้', 'ปัญหา', 'โดย', 'สัน', 'ติวิธี', ' ', 'เจ้าหน้า', 'ที่', 'กลา', 'โหม', 'ทั้ง', 'ของ', 'สอง', 'ฝ่าย', 'ได้', 'พบ', 'ปะกัน', 'ใน', 'วัน', 'นี้', ' ', 'เพื่อปลด', 'ชนวน', 'วิกฤติ', 'ที่', 'ปะทุ', 'ขึ้น', 'เมื่อ', 'สัปดาห์', 'ที่', 'แล้ว', ' ', 'ปราสาท', 'พระวิหาร', 'เป็น', 'จุด', 'ที่', 'เขมร', 'แดง', 'ที่', 'เหลือ', 'หลาย', 'ร้อย', 'คน', ' ', 'ยอม', 'จำนน', 'ต่อ', 'รัฐบาล', 'เมื่อ', 'ปี', ' ', '2541', ' ', 'การ', 'เผชิญ', 'หน้า', 'กัน', 'รอบ', 'ที่', 'ตั้ง', 'ปรา', 'สาท', 'พระวิหาร', 'เริ่ม', 'ขึ้น', 'หลัง', 'จาก', 'ผู้', 'ประท้วง', 'ที่', 'เป็น', 'คน', 'ไทย', ' ', '3', ' ', 'คน', ' ', 'ถูก', 'จับ', 'หลัง', 'จาก', 'กระโดด', 'ข้าม', 'รั้ว', 'เข้า', 'ไป', 'ยัง', 'ฝั่ง', 'กัม', 'พูชา', 'เมื่อ', 'วัน', 'อังคาร', ' ', 'อย่างไร', 'ก็', 'ตาม', ' ', 'ศาล', 'โลก', 'ได้', 'ตัด', 'สิน', 'เมื่อ', 'ปี', ' ', '2505', ' ', 'ว่า', ' ', 'ปรา', 'สาท', 'พระวิหาร', 'ของ', 'กัม', 'พูชา', ' ', 'แต่', 'ทาง', 'เข้า', 'หลัก', 'อยู่', 'ใน', 'ประเทศ', 'ไทย', 'และ', 'พื้น', 'ที่', 'รอบ', 'ที่', 'ตั้ง', 'ขนาด', ' ', '4.5', ' ', 'ตาราง', 'กิโลเมตร', ' ', 'ก็', 'ยัง', 'เป็น', 'ข้อ', 'พิพาท', 'ที่', 'ยัง', 'แก้', 'ไม่', 'ตก', 'จน', 'ทุก', 'วัน', 'นี้', ' ', 'บัว', 'แก้ว', 'แจง', 'ยู', 'เอ็น', 'ไม่', 'ยุ่ง', 'พระวิหาร', ' ', 'อินโดนี', 'เซีย', 'ตำหนิกัม', 'พู', 'ชา', 'ขี้', 'ฟ้อง', ' ฮุน', ' ', 'เซน', 'ตอบ', 'โต้', 'ส', 'มัคร', 'อ้าง', 'คำตัด', 'สิน', 'ศาล', 'โลก', 'ไทย', 'ผิด', ' ', 'อาเซียน', 'เป็น', 'ห่วง', 'สถานการณ์', 'ไทย', ' ', '-', ' ', 'กัม', 'พู', 'ชา', ' ', 'พร้อม', 'เสนอตัว', 'ไกล่', 'เกลี่ย', ' ', 'อินโด', ' ฯ', ' ', 'ตำหนิกัม', 'พูชา', 'กรณี', 'ฟ้อง', 'ยูเอ็น', ' ', 'ชาว', 'เขมร', 'ส่ง', 'อีเมล', 'ขอ', 'บ', 'ริจาค', 'อาหาร', ' ', '-', ' ', 'ยา', ' ', 'บัว', 'แก้ว', 'แจง', 'ยู', 'เอ็น', 'ไม่', 'ยุ่ง', 'กรณี', 'พิพาท', 'เขา', 'พระวิหาร', ' ', '(', ' 21', ' ', 'ก.ค.', ' ', ')', ' ', 'นายฮุน', ' เซน', ' ', 'นายกรัฐมนตรี', 'ประเทศ', 'กัม', 'พูชา', ' ', 'ระบุ', 'ใน', 'จดหมาย', 'ที่', 'ตอบ', 'นาย', 'สมัคร', ' ', 'สุนทรเวช', ' ', 'นาย', 'กรัฐมนตรี', 'ของ', 'ประเทศ', 'ไทย', ' ', 'คำตัด', 'สิน', 'ของ', 'ศาล', 'โลก', 'ปี', ' ', '2505', ' ', 'ชี้', 'ว่า', 'ไทย', 'เป็น', 'ฝ่าย', 'ผิด', 'ใน', 'กรณี', 'พิพาทชาย', 'แดน', 'ที่', 'เกิด', 'ขึ้น', 'ใน', 'ขณะ', 'นี้', ' ', 'ทั้ง', 'นี้', 'นายกรัฐมนตรีฮุน', ' ', 'เซน', ' ', 'ตอบ', 'จด', 'หมายลง', 'วัน', 'ที่', ' ', '19', ' ', 'กรกฎาคม', 'ว่า', ' ', 'แผน', 'ที่', 'ที่', 'ใช้', 'ใน', 'การ', 'ตัด', 'สิน', 'ของ', 'ศาลโลก', 'เมื่อ', 'ปี', ' ', '2505', ' ', 'ว่า', 'ปราสาท', 'พระวิหาร', 'ของ', 'กัม', 'พูชา', 'นั้น', 'ยัง', 'แสดง', 'ให้', 'เห็น', 'ว่าปรา', 'สาท', 'พระวิหาร', 'อยู่', 'ใน', 'พื้น', 'ที่', ' ', '700', ' ', 'เมตร', 'ภาย', 'ใน', 'ดิน', 'แดน', 'ของ', 'กัม', 'พู', 'ชา', 'อย่าง', 'ถูก', 'กฎหมาย', ' ', 'อย่าง', 'ไร', 'ก็', 'ดี', 'นายฮุน', ' ', 'เซน', ' ', 'มั่น', 'ใจ', 'เต็ม', 'เปี่ยม', 'ว่า', ' ', 'ความ', 'พยายาม', 'ร่วม', 'กัน', 'ของ', 'ทั้ง', 'สอง', 'ฝ่าย', 'จะ', 'ได้', 'ทาง', 'ออก', 'ที่', 'น่า', 'พอใจ', 'ต่อ', 'ทั้ง', 'สอง', 'ฝ่าย', 'สำหรับ', 'ปัญหา', 'ที่', 'เกิด', 'ขึ้น', 'ใน', 'ขณะ', 'นี้', ' ', 'ผู้', 'นำกัมพูชา', 'ระ', 'บุ', 'ด้วย', 'ว่า', ' ', 'จด', 'หมาย', 'ฉบับ', 'นี้', 'เป็น', 'การ', 'ตอบ', 'จดหมาย', 'ของ', 'ผู้', 'นำ', 'ไทย', 'เมื่อ', 'วัน', 'ศุกร์', 'ที่', 'ระบุว่า', 'การ', 'ที่', 'กัม', 'พูชา', 'ส่ง', 'ทหาร', 'ไป', 'ยัง', 'ปราสาท', 'พระวิหาร', 'เป็น', ' ', '1,000', ' ', 'นาย', ' ', 'ทำ', 'ให้', 'สถานการณ์', 'แย่', 'ลง', ' ', 'เขมร', 'ส่ง', 'อีเมล', 'ขอ', 'บ', 'ริจาค', 'อาหาร', ' ', '-', ' ', 'ยา', ' ', 'ทาง', 'ด้าน', 'คณะ', 'กรรม', 'การ', 'เฉพาะ', 'กิจ', 'ชาว', 'กัม', 'พูชา', 'ได้', 'ร่วม', 'มือ', 'กับ', 'องค์กร', 'เอกชน', ' ', '(', ' ', 'เอ็น', 'จีโอ', ' ', ')', ' ', 'ใน', 'กัม', 'พู', 'ชา', 'ส่ง', 'อีเมลกระจาย', 'ไป', 'ถึง', 'กลุ่ม', 'เอ็น', 'จี', 'โอ', 'ทั้ง', 'ใน', 'สหรัฐ', ' ', 'สหภาพยุโรป', ' ', 'และ', 'กัม', 'พูชา', 'เพื่อ', 'ขอ', 'บ', 'ริจา', 'ค', 'อาหาร', ' ', 'และ', 'หยูก', 'ยา', 'ไป', 'ช่วย', 'เหลือ', 'ทหาร', 'เขมร', 'ที่', 'ประจำการ', 'อยู่', 'บริเวณ', 'ปราสาท', 'พระวิหาร', 'การ', 'ด่วน', ' ', 'โดย', 'ใน', 'อีเมล', 'นั้น', 'ได้', 'มี', 'การ', 'ตี', 'พิมพ์', 'ภาพ', 'ท', 'หาร', 'เขมร', 'ที่', 'ปราสาท', 'พระวิหาร', 'นอก', 'เหนือ', 'จาก', 'บอก', 'สถาน', 'ที่', ' เบอร์', 'โทรศัพท์', ' ', 'และ', 'อีเมล', 'ที่', 'จะ', 'ติด', 'ต่อบริจาคของ', 'ผ่าน', 'คณะ', 'กรรม', 'การ', 'เฉพาะ', 'กิจ', 'ชาว', 'กัม', 'พูชา', 'เอา', 'ไว้', 'ด้วย', ' ', 'อาเซียน', 'ห่วง', 'สถานการณ์', 'ไทย', ' ', '-', ' ', 'กัม', 'พูชา', ' ', 'สถานการณ์', 'ตึง', 'เครียด', 'บริเวณ', 'พรม', 'แดน', 'ไทย', ' ', '-', ' ', 'กัม', 'พู', 'ชา', ' ', 'กลาย', 'เป็น', 'ประเด็น', 'หารือ', 'สำคัญ', 'บน', 'เวที', 'ประชุม', 'รัฐมนตรี', 'ต่าง', 'ประเทศ', 'ที่', 'สิง', 'คโปร์', ' ', 'โดย', 'นาย', 'จอร์จ', ' ', 'เยียว', ' ', 'รัฐมนตรี', 'ต่าง', 'ประเทศ', ' ', 'เปิด', 'เผย', 'ก่อน', 'ที่', 'การ', 'ประชุม', 'ประจำปี', 'ของ', 'รัฐมนตรี', 'ต่าง', 'ประเทศ', 'จะ', 'เริ่ม', 'ขึ้น', 'ใน', 'วัน', 'นี้', 'ที่', 'สิง', 'คโปร์', 'ว่า', ' ', 'อาเซียน', 'ได้', 'เรียกร้อง', 'ให้', 'ไทย', 'และ', 'กัม', 'พู', 'ชา', 'ใช้', 'ความ', 'อดกลั้น', 'อย่าง', 'ที่', 'สุด', 'และ', 'คลี่', 'คลาย', 'ความ', 'ตึง', 'เครียด', 'บริเวณ', 'พรม', 'แดน', 'โดย', 'คำ', 'นึง', 'ถึง', 'ความ', 'สมาน', 'ฉันท์', 'และ', 'ความ', 'เป็น', 'เพื่อน', 'บ้าน', 'ที่', 'ดี', 'ต่อ', 'กัน', ' ', 'สอง', 'ฝ่าย', 'ก็', 'เห็น', 'พ้อง', 'ที่', 'จะ', 'ใช้', 'ความ', 'พยายาม', 'อย่าง', 'เต็ม', 'ที่', 'ที่', 'จะ', 'หา', 'หน', 'ทาง', 'แก้ไข', 'ความ', 'ขัด', 'แย้ง', 'ที่', 'เกิด', 'ขึ้น', 'ด้วย', 'สัน', 'ติวิธี', ' ', 'โดย', 'ยึด', 'ตาม', 'หลักเกณฑ์', 'สากล', 'และ', 'กฎ', 'ข้อ', 'บัง', 'คับ', 'ของ', 'อาเซียน', ' ', 'พบ', 'ว่า', 'อาเซียน', 'คาด', 'หวัง', 'ให้', 'การ', 'ประชุม', 'คณะกรรมการ', 'ชาย', 'แดน', 'ทั่ว', 'ไป', 'ไทย', ' ', '-', ' ', 'กัม', 'พู', 'ชา', 'ใน', 'วัน', 'นี้', ' ', 'สามา', 'รถ', 'หา', 'ทาง', 'ออก', 'ที่', 'เหมาะ', 'สม', 'ได้', ' ', 'เช่น', 'เดียว', 'กับ', 'นาย', 'สุรินทร์', ' พิศ', 'สุวรรณ', ' ', 'เลขาธิการ', 'อาเซียน', ' ', 'ที่', 'ให้', 'สัมภาษณ์', 'ว่า', ' ', 'รัฐมนตรี', 'ต่าง', 'ประเทศ', 'ต้องการ', 'เห็น', 'ประเด็น', 'นี้', 'ได้', 'รับ', 'การ', 'แก้', 'ปัญหา', 'โดย', 'เร็ว', 'ที่', 'สุด', ' ', 'เพราะ', 'ความ', 'ตึง', 'เครียด', 'หรือ', 'ความ', 'เข้าใจ', 'ผิด', 'ระหว่าง', 'ชา', 'ติ', 'สมา', 'ชิก', 'เป็น', 'เรื่อง', 'ที่', 'อาเซียน', 'เป็น', 'ห่วง', ' ', 'และ', 'มี', 'ราย', 'งาน', 'ว่า', ' ', 'รัฐมนตรี', 'ต่าง', 'ประเทศ', 'ได้', 'รับ', 'ฟัง', 'การ', 'สรุป', 'สถานการณ์', 'จาก', 'ฝ่าย', 'ไทย', 'และ', 'กัม', 'พูชา', ' ', 'ระหว่าง', 'งาน', 'เลี้ยง', 'อาหาร', 'ค่ำ', 'เมื่อ', 'คืน', 'นี้', ' ', 'พร้อม', 'เสนอ', 'ความ', 'ช่วย', 'เหลือ', 'หาก', 'ไทย', 'และ', 'กัม', 'พูชา', 'คิด', 'ว่า', 'ต้อง', 'การ', 'การ', 'สนับ', 'สนุน', 'เพิ่ม', 'เติม', ' ', 'เพื่อ', 'ให้', 'สามา', 'รถ', 'หา', 'ทาง', 'แก้', 'ไข', 'ปัญ', 'หา', 'ได้', 'เร็ว', 'ขึ้น', ' ', 'อินโด', ' ฯ', ' ', 'ตำหนิกัม', 'พูชา', 'กรณี', 'ฟ้อง', 'ยู', 'เอ็น', ' ', 'นายฮัสซัน', ' ', 'วิรายุดา', ' ', 'รัฐมนตรี', 'ต่าง', 'ประเทศ', ' ', 'เสนอ', 'แนว', 'ทาง', 'แก้', 'ไข', 'ปัญ', 'หาพิพาทชาย', 'แดน', 'ไทย', ' ', '-', ' ', 'กัม', 'พูชา', 'ระหว่าง', 'การ', 'ประชุม', 'อาเซียน', 'ที่', 'สิง', 'คโปร์', 'ใน', 'วัน', 'นี้', ' ', 'โดย', 'แนะ', 'ให้', 'อา', 'เซียน', 'ตั้ง', 'คณะ', 'ประสานงาน', 'ที่', 'จะ', 'ผลักดัน', 'การ', 'เจรจา', 'ระหว่าง', 'ไทย', 'และ', 'กัม', 'พูชา', ' ', 'เขา', 'บอกว่า', 'ข้อ', 'เสนอ', 'นี้', 'มี', 'ขึ้น', 'หลัง', 'จาก', 'รัฐมนตรี', 'ต่าง', 'ประเทศ', 'ทุก', 'คน', 'ได้', 'ฟัง', 'สรุป', 'สถานการณ์', 'ตึง', 'เครียด', 'บริเวณชาย', 'แดน', 'ไทย', ' ', '-', ' ', 'กัม', 'พู', 'ชา', 'ใน', 'บริเวณ', 'รอบ', 'ปราสาท', 'พระวิหาร', 'วาน', 'นี้', ' ', 'และ', 'ที่', 'ประชุม', 'ได้', 'แสดง', 'ความ', 'พร้อม', 'ที่', 'จะ', 'ให้', 'ไทย', 'และ', 'กัม', 'พูชา', 'ใช้', 'กล', 'ไก', 'ของ', 'อา', 'เซียน', 'ใน', 'การ', 'หา', 'ทาง', 'ยุติข้อ', 'ขัด', 'แย้ง', 'โดย', 'เร็ว', ' ', 'หาก', 'สอง', 'ฝ่าย', 'ต้องการ', ' ', 'นอก', 'จาก', 'นี้', 'นายวิรา', 'ยุดา', ' ', 'บอกว่า', ' ', 'ฝ่าย', 'ไทย', 'ได้', 'ขอ', 'ต่อ', 'สิงคโปร์', 'ซึ่ง', 'เป็น', 'ประธาน', 'การ', 'ประชุม', 'ใน', 'ปี', 'นี้', 'ให้', 'มี', 'โอกาส', 'ได้', 'เปิด', 'เผย', 'ข้อ', 'เท็จ', 'จริง', 'เกี่ยว', 'กับ', 'สถานการณ์', 'ขัด', 'แย้ง', 'ที่', 'เกิด', 'ขึ้น', 'บ้าง', ' ', 'หลัง', 'จาก', 'ฝ่าย', 'กัม', 'พู', 'ชา', 'ได้', 'ยื่น', 'หนังสือ', 'ถึง', 'คณะมน', 'ตรี', 'ความ', 'มั่นคง', 'แห่ง', 'สหประชาชาติ', 'รุก', 'ล้ำชาย', 'แดน', 'กัม', 'พูชา', 'ตั้ง', 'แต่', 'วัน', 'อังคาร', 'ที่', 'แล้ว', ' ', 'ซึ่ง', 'นายวิรายุ', 'ดา', 'บอก', 'ว่า', ' ', 'การเคลื่อน', 'ไหว', 'ของ', 'กัม', 'พูชา', 'ที่', 'จะ', 'ทำ', 'ให้', 'เรื่อง', 'นี้', 'กลาย', 'เป็น', 'ประเด็น', 'ใน', 'เวที', 'ระหว่าง', 'ประเทศ', ' ', 'ทำ', 'ให้', 'อา', 'เซียน', 'รู้', 'สึก', 'ไม่', 'สบายใจ', 'และ', 'อาเซียน', 'ได้', 'ออก', 'แถลงการณ์', 'ร่วม', 'หวัง', 'ว่า', 'ทั้ง', 'สอง', 'ฝ่าย', 'จะ', 'หา', 'ข้', 'อยุติ', 'ได้', 'ใน', 'การเจรจา', 'ที่', 'จัด', 'ขึ้น', 'วัน', 'นี้', ' ', 'แต่', 'เขา', 'ก็', 'เสนอ', 'ให้', 'ตั้ง', 'คณะ', 'ทำงาน', 'ไกล่', 'เกลี่ย', ' ', 'หาก', 'สอง', 'ฝ่าย', 'ยัง', 'หา', 'แนว', 'ทาง', 'ยุติปัญหา', 'ร่วม', 'กัน', 'ไม่', 'ได้', ' ', 'พร้อม', 'กับ', 'แสดง', 'ความ', 'วิตก', 'ว่า', ' ', 'หาก', 'ข้อ', 'พิพาท', 'นี้', 'ไม่', 'สามารถ', 'แก้ไข', 'ได้', ' ', 'ก็', 'อาจ', 'จะ', 'กระทบ', 'ต่อ', 'เสถียรภาพ', 'ทาง', 'การ', 'เมือง', 'ใน', 'ภูมิภาค', ' ', 'บัว', 'แก้ว', 'แจง', 'ยู', 'เอ็น', 'ไม่', 'ยุ่ง', 'กรณี', 'พิพาท', 'เขา', 'พระวิหาร', ' ', 'นายธฤต', ' ', 'จรุง', 'วัฒน์', ' ', 'อธิบ', 'ดีกรมสารนิเทศ', 'และ', 'โฆษกกระทรวง', 'การ', 'ต่าง', 'ประเทศ', ' ', 'กล่าว', 'ถึง', 'กรณี', 'ประเทศกัม', 'พูชา', 'ไป', 'ยัง', 'คณะมน', 'ตรี', 'ความ', 'มั่นคง', 'แห่ง', 'สหประชาชาติเขา', 'พระวิหาร', 'ว่า', ' ', 'เป็น', 'เพียง', 'การ', 'แจ้ง', 'ให้', 'ยูเอ็น', 'ทราบ', ' ', 'โดย', 'ไม่', 'ได้', 'เรียกร้อง', 'ให้', 'ยู', 'เอ็น', 'ดำเนิน', 'การ', 'อะไร', ' ', 'ซึ่ง', 'ไทย', 'ก็', 'ได้', 'อธิบาย', 'กับ', 'ประธาน', ' ', 'คณะมน', 'ตรี', 'ความ', 'มั่นคง', ' ฯ', ' ', 'ระดับ', 'หนึ่ง', ' ', '\"', ' ', 'นายธฤต', ' ', 'กล่าว', 'ว่า', ' ', 'ใน', 'ทาง', 'ปฏิบัติ', 'การ', 'ระหว่าง', 'ประเทศ', 'โดย', 'ทั่ว', 'ไป', 'ไม่', 'เฉพาะ', 'แต่', 'กรณี', 'ปราสาท', 'พระวิหาร', 'ไทย', 'กับ', 'กัม', 'พู', 'ชา', 'เท่า', 'นั้น', ' ', 'หลาย', ' ', 'ๆ', ' ', 'ข้อ', 'พิพาทระหว่าง', 'ประเทศ', 'ก็', 'ไม่', 'ได้', 'ถูก', 'นำเข้า', 'ที่', 'ประชุม', 'คณะมน', 'ตรี', 'ความ', 'มั่นคง', 'แห่ง', 'สหประชาชา', 'ติ', ' ', 'การ', 'เจรจา', 'กัน', 'ทั้ง', 'ใน', 'ระดับ', 'ทวิภา', 'คี', 'ระหว่าง', 'ประเทศ', 'คู่', 'กรณี', ' ', 'หรือ', 'ระ', 'ดับ', 'ภูมิภาค', ' ', 'ยกตัว', 'อย่าง', 'เช่น', ' ', 'ไทย', 'และ', 'กัม', 'พูชา', 'ก็', 'มี', 'การ', 'ประชุม', 'อาเซียน', 'ซึ่ง', 'เป็น', 'การ', 'ประชุมระดับ', 'ภูมิภาค', ' ', '\"', ' ', 'โฆษก', 'กระทรวง', 'การ', 'ต่าง', 'ประเทศ', ' ', 'กล่าว', ' ', 'และ', 'ว่า', 'ทั้ง', 'นี้', 'เรื่อง', 'ที่', 'จะ', 'เข้า', 'สู่', 'ที่', 'ประชุม', ' ', 'คณะมน', 'ตรี', 'ความ', 'มั่นคง', ' ', 'ฯ', ' ', 'ข้อ', 'ร้อง', 'เรียน', 'เกี่ยว', 'กับ', 'สันติภาพระหว่าง', 'ประเทศ', ' ', 'เช่น', ' ', 'การ', 'ก่อการ', 'ร้าย', 'ซึ่ง', 'เป็น', 'เรื่อง', 'ไม่', 'มี', 'พรม', 'แดน', ' ', 'เรื่องสิทธิม', 'นุษย', 'ชน', ' ', 'เรื่อง', 'นิวเคลียร์', ' ', 'ส่วน', 'ข้อ', 'ร้อง', 'เรียน', 'เรื่อง', 'เกี่ยว', 'กับ', 'ข้อ', 'พิพาทระหว่าง', 'ประเทศ', 'นั้น', ' ', 'ไม่', 'ใช่', 'ทุก', 'เรื่อง', 'จะ', 'ถูก', 'นำเข้า', 'ที่', 'ประชุม', 'ซึ่ง', 'บาง', 'กรณี', 'แม้', 'มี', 'ความ', 'ขัด', 'แย้ง', 'ถึง', 'ขั้น', 'ใช้', 'กำลัง', 'ทาง', 'กาย', 'ภาพ', 'ระหว่าง', 'กัน', ' ', 'แต่', 'หาก', 'สมาชิก', ' ', 'คณะมน', 'ตรี', 'ความ', 'มั่นคง', ' ', 'ฯ', ' ', 'ควร', 'นำเข้า', 'ที่', 'ประชุม', ' ', 'เรื่อง', 'ก็', 'จะ', 'ไม่', 'ได้', 'รับ', 'การ', 'นำเข้า', 'พิจารณา', ' ', '\"', ' ', 'จำลอง', ' ', '\"', ' ', 'ไม่', 'คาด', 'หวัง', 'ผล', 'ประชุมร่วม', 'ไทย', ' ', '-', ' ', 'เขมร', ' ', '\"', ' ', 'จำลอง', ' ', '\"', ' ', 'ไม่', 'คาด', 'หวัง', 'ผล', 'ประชุมร่วม', 'ไทย', ' ', '-', ' ', 'เขมร', ' ', 'ขอ', 'เพียง', 'หาก', 'เจร', 'จา', 'เหลว', 'ควร', 'เสนอ', 'ให้', 'มี', 'ประชุม', 'อี', 'กรอบ', ' ', 'ขณะ', 'ที่', 'กลุ่ม', 'พันธมิตร', 'ศรี', 'สะ', 'เกษ', 'แจ้ง', 'ข่าว', 'ทหาร', 'ไทย', 'ขาด', 'อาหาร', ' ', 'ข้าว', 'เหนียว', ' ', '-', ' ', 'เครื่อง', 'กระป๋อง', ' ', 'รับ', 'บริจาค', 'ด่วน', ' ', '(', ' 21', ' ', 'ก.ค.', ' ', ')', ' ', 'พล.ต.', ' ', 'จำลอง', ' ', 'ศรีเมือง', ' ', 'แกน', 'นำ', 'กลุ่ม', 'พันธมิตร', 'กล่าว', 'ถึง', 'กรณีการ', 'ประชุม', 'ร่วม', 'ไทย', ' ', '-', ' ', 'กัม', 'พูชา', ' ', 'ที่', 'โรงแรม', 'อินโดจีน', ' ', 'อ.', ' ', 'อรัญประเทศ', ' ', 'จ.', ' ', 'สระแก้ว', 'ว่า', ' ', 'พัน', 'ธมิตร', ' ฯ', ' ', 'ได้', 'หวัง', 'ผล', 'อะไร', 'จาก', 'การ', 'ประชุม', 'ครั้ง', 'นี้', ' ', 'แต่', 'หาก', 'การ', 'ประชุม', 'ไม่', 'สำเร็จ', 'ทาง', 'รัฐบาล', 'ควร', 'เสนอ', 'ให้', 'มี', 'การ', 'ประชุม', 'ใน', 'ลักษณะ', 'ดัง', 'กล่าว', 'อีก', ' ', 'เพื่อ', 'เปิด', 'โอกาส', 'ให้', 'ประเทศ', 'ไทย', 'เจร', 'จา', 'อย่าง', 'ต่อ', 'เนื่อง', ' ', 'ซึ่ง', 'การเจรจา', 'ถือ', 'เป็น', 'วิธี', 'ที่', 'ดี', ' ', 'เพราะ', 'จะ', 'ช่วย', 'หลีก', 'เลี่ยง', 'การ', 'ปะทะ', 'ที่', 'อาจ', 'ก่อ', 'ให้', 'เกิด', 'การ', 'นอง', 'เลือด', 'ได้', ' ', 'พล.ต.', ' ', 'จำลอง', ' ', 'กล่าว', 'อี', 'กว่า', ' ', 'นอก', 'จาก', 'นี้', ' ', 'ล่า', 'สุด', 'ยัง', 'ได้', 'รับ', 'ราย', 'งาน', 'จาก', 'กลุ่ม', 'พัน', 'ธมิตร', 'เดิน', 'ทาง', 'ไป', 'ยัง', ' ', 'อ.', ' ', 'กันทร', 'ลักษ์', ' ', 'จ.', ' ', 'ศรี', 'สะเกษ', ' ', 'กรณี', 'เขา', 'พระวิหาร', 'ว่า', ' ', 'จาก', 'การ', 'คลุก', 'คลี', 'กับ', 'กลุ่มทหาร', 'ไทย', 'พบ', 'ว่า', ' ', 'ขณะ', 'นี้', 'กำลัง', 'ประสบ', 'ปัญ', 'หา', 'ขาด', 'แคลน', 'ข้าว', 'เหนียว', ' ', 'และ', 'อาหาร', 'กระป๋อง', ' ', 'ด้วย', 'ความ', 'เป็น', 'ห่วง', ' ', 'จึง', 'ขอ', 'ให้', 'ประชาชน', 'ที่', 'ต้อง', 'การ', 'ช่วย', 'เหลือ', 'สามา', 'รถ', 'ติด', 'ต่อยัง', 'กลุ่ม', 'พันธมิตร', 'กลาง', 'ได้', ' ', 'โดย', 'จะ', 'ทำหน้า', 'ที่', 'ประสาน', 'และ', 'ส่ง', 'ข้าว', 'ของ', 'ดังกล่าว', 'ไป', 'ยัง', 'ทหาร', 'ไทย', 'ต่อ', 'ไป', ' ', 'ม.', 'อุบลฯเชิญ ', '\"', ' ', 'สุจิตต์ วงษ์', 'เทศ', ' ', '\"', ' ', 'ถก', 'พระวิหาร', ' ', 'มหาวิทยาลัย', 'อุบลราชธา', 'นี', ' ', 'จัด', 'บรรยาย', 'ประวัติ', 'ศาสตร์', 'และ', 'ปราสาท', 'พระวิหาร', 'โดย', 'นัก', 'วิชา', 'การ', 'ด้าน', 'ประวัติศาสตร์', ' ', '\"', ' ', 'สุจิตต์ วงษ์เทศ', ' ', '\"', ' ', 'ซึ่ง', 'ยืน', 'ยัน', 'ขอม', 'คือ', 'เขมร', 'ปัจจุบัน', ' ', 'แต่', 'ไม่', 'ฟัน', 'ธงกรณี', 'ปราสาท', 'พระวิหาร', 'ลง', 'เอย', 'ยัง', 'ไง', 'ม.', 'เที่ยง', 'คืน', 'ออก', 'แถลงการณ์', ' ', 'เมื่อ', 'วัน', 'ที่', ' ', '21', ' ', 'ก.ค.', ' ', 'ที่', 'โรง', 'ละคร', 'คณะ', 'ศิลปศาสตร์', ' ', 'มหาวิทยาลัย', 'อุบลราชธานี', ' ', 'นายสุจิตต์ วงษ์เทศ', ' ', 'นักวิชา', 'การ', 'ด้าน', 'ประวัติ', 'ศาสตร์', 'ได้', 'บรรยาย', 'พิเศษ', 'เรื่อง', ' ', '\"', ' ', 'ประวัติศาสตร์', 'แห่ง', 'ชาติ', 'และ', 'ปราสาท', 'พระวิหาร', ' ', 'โดย', 'มี', 'อาจารย์', ' ', 'นัก', 'ศึกษา', ' ', 'ประชาชน', 'สน', 'ใจ', 'เข้า', 'ร่วม', 'ฟัง', 'จน', 'ล้น', 'โรง', 'ละ', 'ครกว่า', ' ', '500', ' ', 'คน', ' ', 'แต่', 'การ', 'บรรยาย', 'เน้น', 'เนื้อ', 'หา', 'สาระการ', 'เข้า', 'มา', 'ตั้ง', 'ถิ่น', 'ฐาน', 'ของ', 'ชาติ', 'พันธุ์', 'ต่าง', ' ', 'ๆ', ' ', 'เมื่อ', 'กว่า', ' ', '3,', '000', ' ', 'ปี', ' ', 'ซึ่ง', 'ขณะ', 'นั้น', 'ภูมิภาค', 'เอเชีย', 'ตะวัน', 'ออก', 'เอเชีย', 'ตะวัน', 'ออก', 'เฉียง', 'ใต้', 'ใต้', 'ไม่', 'มี', 'การ', 'แบ่ง', 'เป็น', 'ชน', 'ชาติชัด', 'เจน', 'เหมือน', 'ปัจจุบัน', ' ', 'มี', 'เพียง', 'กลุ่มชาติพันธุ์', 'เล็ก', ' ', 'ๆ', ' ', 'อาทิ', ' ', 'มอญ', ' ', 'ขอม', ' ', 'ไทย', 'ใหญ่', ' ', 'ไทย', 'น้อย', ' ', 'โดย', 'กลุ่ม', 'ชาติ', 'พันธุ์', 'ทั้ง', 'หมด', 'มี', 'ภาษา', 'และ', 'วัฒน', 'ธรรม', 'เชื่อม', 'โยง', 'สอด', 'คล้อง', ' ', 'จึง', 'เป็น', 'พี่', 'น้อง', 'ไม่', 'มี', 'การ', 'แบ่ง', 'แยก', 'อาณา', 'เขตชัดเจน', ' ', 'นาย', 'สุจิตต์', ' ', 'กล่าว', 'ถึง', 'ความ', 'รุ่ง', 'เรือง', 'ของ', 'ชาติ', 'พันธุ์', 'ขอม', 'หรือ', 'เขมร', 'ปัจ', 'จุบัน', 'ว่า', ' ', 'ขณะ', 'นั้น', 'ขอม', 'มี', 'อารยธรรม', 'มาก', 'กว่า', 'ชาติ', 'พันธุ์', 'อื่น', ' ', 'โดย', 'มี', 'เมือง', 'พระนคร', 'หรือนคร', 'วัด', 'นครธม', 'เป็น', 'ศูนย์', 'กลาง', 'ของ', 'อารยธรรม', ' ', 'มีเมือง', 'สุโขทัย', 'ควบ', 'คุม', 'ดู', 'แล', 'เส้น', 'ทาง', 'คม', 'นาคม', 'ใน', 'ลุ่ม', 'แม่', 'น้ำยม', 'และ', 'พื้น', 'ที่', 'ติด', 'ทะเลอัน', 'ดา', 'มัน', ' ', 'มี', 'เมือ', 'งอโยธยา', 'ที่โตขึ้น', 'มา', 'พร้อม', 'เมือง', 'ละ', 'โว้', 'ดูแล', 'ลุ่ม', 'แม่', 'น้ำเจ้า', 'พระยา', ' ', 'ต่อ', 'มา', 'เมื่อ', 'ชาติ', 'พันธุ์', 'ต่าง', ' ', 'ๆ', ' ', 'เริ่มรุ่ง', 'เรือง', 'ขึ้น', 'ภาย', 'หลัง', ' ', 'จึง', 'มี', 'การ', 'สถา', 'ปนา', 'แบ่ง', 'แยก', 'เป็น', 'ชน', 'ชาติ', 'ต่าง', ' ', 'ๆ', ' ', '\"', ' ', 'สำหรับ', 'ชน', 'ชาติ', 'ไทย', 'เกิด', 'ขึ้น', 'ใน', 'ยุค', 'ของ', 'จอมพล', ' ', 'ป.', ' ', 'พิบูลสงคราม', ' ', 'และ', 'ต้อง', 'การ', 'ให้', 'กระทรวงศึกษาธิ', 'การ', 'เปลี่ยน', 'ตำรา', 'ใช้', 'สอน', 'เรื่อง', 'ประวัติ', 'ศาสตร์ชาติ', 'ไทย', 'ให้', 'ชัดเจน', ' ', 'จะ', 'ได้', 'ไม่', 'เรียน', 'รู้', 'กัน', 'อย่าง', 'ผิด', ' ', 'ๆ', ' ', '\"', ' ', 'ตลอด', 'การ', 'บรรยาย', 'มี', 'การ', 'ขับเสภา', 'และ', 'มี', 'การ', 'นำเพลง', 'แต่ง', 'โดย', 'หลวง', 'วิจิตร', 'วาทการ', 'มา', 'ขับ', 'ร้องโดยวง', 'ออเคสตรา', 'ลูก', 'ทุ่งกรม', 'ศิล', 'ปากร', 'นอก', 'จาก', 'นี้', 'ได้', 'มี', 'การ', 'นำหนังสือ', ' ', '\"', ' ', 'ปราสาท', 'พระวิหาร', 'ทำไม', ' ', '?', ' ', 'มา', 'จาก', 'ไหน', ' ', '\"', ' ', 'เขียนโดย', ' ', 'นายสุจิตต์ วงษ์เทศ', ' ', 'พิมพ์', 'ขึ้น', 'ใน', 'เดือนกรกฎาคม', ' ', '2551', ' ', 'แจก', 'ให้', 'ผู้', 'ฟัง', 'การ', 'บรรยาย', ' ', 'โดย', 'หนังสือ', 'เล่า', 'ความ', 'เป็น', 'มา', 'ของ', 'ชาติ', 'พันธุ์', 'ใน', 'ภูมิภาคนี้', ' ', 'รวม', 'ทั้ง', 'ความ', 'ร่วง', 'โรย', 'ของ', 'อาณา', 'จักร', 'ขอม', ' ', 'กระทั่ง', 'ปรา', 'สาท', 'พระวิหาร', 'ทิ้ง', 'ให้', 'รกร้าง', 'ว่าง', 'เปล่า', 'อ', 'ยู่', 'บน', 'เทือก', 'เขา', 'พน', 'มดง', 'รัก', ' ', 'แต่', 'ไม่', 'มีการ', 'กล่าว', 'ถึง', 'การ', 'ค้น', 'พบ', 'ตัว', 'ปราสาท', 'พระวิหาร', 'ปี', ' ', 'พ.ศ.', ' ', '2442', ' ', 'โดย', 'กรม', 'หลวง', 'สรรพสิทธิ', 'ประสงค์', ' ', 'แต่', 'กลับ', 'มีการ', 'นำภาพกรม', 'พระยาดำรงราชา', 'นุภาพ', 'ขณะภาพ', 'ทรง', 'ฉาย', 'ไว้', 'ระหว่าง', 'ทาง', 'ขึ้น', 'เขา', 'พระวิหาร', 'ร่วม', 'กับ', 'นาย', 'ทหาร', 'ฝรั่งเศสเมื่อ', 'ปี', ' ', 'พ.ศ.', ' ', '2472', ' ', 'มา', 'ตี', 'พิมพ์', 'ไว้', 'ที่', 'ปกหลัง', ' ', 'ขณะ', 'เดียว', 'กัน', 'บริเวณ', 'หน้า', 'โรงละคร', ' ', 'มหาวิทยาลัย', 'อุบลราชธานี', ' ', 'ได้', 'นำภาพ', 'ประวัติศาสตร์การ', 'ค้น', 'พบ', 'ปราสาท', 'พระวิหารกรม', 'หลวง', 'สรรพสิทธิ', 'ประสงค์', 'ขณะ', 'มา', 'ปกครองมณฑล', 'บูรพา', ' ', 'เมื่อ', ' ', 'พ.ศ.', ' ', '2442', ' ', 'หรือ', ' ', 'รศ.', ' ', '118', ' ', 'พร้อม', 'ระบุว่า', 'หลัง', 'การ', 'ค้น', 'พบกรม', 'หลวง', 'สรรพสิทธิ', 'ประสงค์', 'ได้', 'ขนาน', 'นาม', 'ปราสาท', 'พระวิหาร', ' ', '\"', ' ', 'ปรา', 'สาทพรหมวิหาร', ' ', '\"', ' ', 'และ', 'ระบุ', 'ด้วย', 'ว่า', 'ยัง', 'พบรอยจา', 'รึก', 'การ', 'ค้น', 'พบ', 'ของกรม', 'หลวง', 'สรรพสิทธิ', 'ประสงค์', 'ที่', 'ชะ', 'ง่อน', 'ผา', 'เป้ย', 'ตา', 'ดี', 'ความ', 'ว่า', ' ', '\"', ' ', '118', ' ', '-', ' ', 'สรรพสิทธิ', ' ', '\"', ' ', 'ด้วย', ' ', 'ม.', 'เที่ยง', 'คืน', 'ออก', 'แถลงการณ์', ' ', 'เมื่อ', 'เวลา', ' ', '12.00', ' ', 'น.', ' ', 'วัน', 'ที่', ' ', '21', ' ', 'ก.ค.', ' ', 'ที่', 'ม', 'หาวิทยาลัย', 'เที่ยง', 'คืน', ' ', 'รศ.', ' ', 'สม', 'เกียรติ', ' ', 'ตั้งนโม', ' ', 'อธิการบ', 'ดี', 'ม', 'หาวิทยา', 'ลัย', 'เที่ยง', 'คืน', ' ', 'รศ.', ' ', 'สม', 'ชาย', ' ', 'ปรีชาศิลป', 'กุล', ' ', 'คณบ', 'ดี', 'คณะ', 'นิติศาสตร์', 'ม', 'หาวิทยา', 'ลัย', 'เชียง', 'ใหม่', ' ', 'รศ.', ' ', 'ดร.', ' ', 'อรรถ', 'จักร', ' ', 'สัตยานุรักษ์', ' ', 'นัก', 'วิชาการ', 'คณะ', 'มนุษยศาสตร์', ' ', 'มหาวิทยาลัย', 'เชียง', 'ใหม่', 'และ', 'นักวิชาการ', 'อีก', ' ', '8', ' ', 'คน', ' ', 'ออก', 'แถลงการณ์', 'มหาวิทยาลัย', 'เที่ยง', 'คืน', 'เรื่อง', ' ', 'เขา', 'พระวิหาร', 'กับ', 'ความ', 'รุน', 'แรง', 'ใน', 'สัง', 'คม', 'ไทย', 'และ', 'ความขัด', 'แย้ง', 'ระหว่าง', 'ไทย', 'กับ', 'กัม', 'พู', 'ชา', ' ', 'รศ.', ' ', 'สมชาย', ' ', 'กล่าว', 'ว่า', ' ', 'กรณี', 'เขา', 'พระวิหาร', 'ได้', 'นำมา', 'ซึ่ง', 'ความ', 'ขัด', 'แย้ง', 'ที่', 'เกิด', 'ขึ้น', 'อย่าง', 'กว้าง', 'ขวาง', 'ทั้ง', 'ภาย', 'ใน', 'สังคม', 'ไทย', 'และ', 'ความ', 'สัม', 'พันธ์', 'ระหว่าง', 'ประเทศ', 'ไทย', 'ประเทศ', 'เพื่อน', 'บ้าน', ' ', 'และ', 'ขณะ', 'นี้', 'ดู', 'เหมือ', 'น', 'ว่า', 'ความ', 'ขัด', 'แย้ง', 'อาจ', 'แปร', 'ไป', 'สู่', 'ความรุน', 'แรง', ' ', 'ซึ่ง', 'ข้อ', 'ถก', 'เถียง', 'เรื่อง', 'เขา', 'พระวิหาร', 'มี', 'อีก', 'หลาย', 'ประเด็น', 'ที่', 'จำเป็น', 'ต้อง', 'ได้', 'รับ', 'การ', 'แก้ไข', ' ', 'โดย', 'ต้อง', 'คำนึง', 'ถึง', 'สาเหตุ', 'ของ', 'การ', 'ปะทุ', 'ขึ้น', 'ของ', 'ความ', 'ขัดแย้ง', ' ', 'เพราะ', 'เป็น', 'ปัญหา', 'ที่', 'มี', 'ความ', 'สลับ', 'ซับ', 'ซ้อน', 'และ', 'เป็น', 'ปัญหา', 'ที่', 'สะสม', 'สืบ', 'เนื่อง', 'มายาว', 'นาน', ' ', 'ทั้ง', 'นี้', ' ', 'ความ', 'ขัด', 'แย้ง', 'ที่', 'เกิด', 'ขึ้น', 'เป็นผล', 'จาก', 'ปัญหา', 'การ', 'เมือง', 'ภาย', 'ใน', 'ของ', 'สังคม', 'ไทย', 'ที่', 'มี', 'การ', 'ใช้', 'ประเด็น', 'ชาตินิยม', 'มาก', 'ปลุก', 'เร้า', ' ', 'เพื่อ', 'ให้', 'เกิด', 'ความเกลียด', 'ชัง', 'ต่อรัฐบาล', 'และ', 'คน', 'ไทย', 'ด้วย', 'กัน', ' ', 'ไม่', 'ว่า', 'จะ', 'เป็น', 'ตั้งใจ', 'หรือ', 'ไม่', 'ตั้ง', 'ใจ', 'ก็', 'ตาม', ' ', 'แต่', 'ได้', 'ขยาย', 'ออก', 'เป็น', 'ความ', 'ขัดแย้ง', 'กับ', 'ประเทศ', 'เพื่อน', 'บ้าน', 'เป็น', 'ที่', 'เรียบร้อย', 'แล้ว']\n"
          ]
        }
      ]
    }
  ]
}