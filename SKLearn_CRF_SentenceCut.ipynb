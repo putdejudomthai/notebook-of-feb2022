{
  "cells": [
    {
      "cell_type": "code",
      "source": [
        "!pip install sklearn-crfsuite pythainlp"
      ],
      "metadata": {
        "colab": {
          "base_uri": "https://localhost:8080/"
        },
        "id": "1GUBoM7B3KVL",
        "outputId": "828af138-1bb8-4e80-b791-b7b273056ca6"
      },
      "id": "1GUBoM7B3KVL",
      "execution_count": 1,
      "outputs": [
        {
          "output_type": "stream",
          "name": "stdout",
          "text": [
            "Collecting sklearn-crfsuite\n",
            "  Downloading sklearn_crfsuite-0.3.6-py2.py3-none-any.whl (12 kB)\n",
            "Collecting pythainlp\n",
            "  Downloading pythainlp-3.0.5-py3-none-any.whl (11.5 MB)\n",
            "\u001b[K     |████████████████████████████████| 11.5 MB 4.3 MB/s \n",
            "\u001b[?25hCollecting python-crfsuite>=0.8.3\n",
            "  Downloading python_crfsuite-0.9.7-cp37-cp37m-manylinux1_x86_64.whl (743 kB)\n",
            "\u001b[K     |████████████████████████████████| 743 kB 46.7 MB/s \n",
            "\u001b[?25hRequirement already satisfied: six in /usr/local/lib/python3.7/dist-packages (from sklearn-crfsuite) (1.15.0)\n",
            "Requirement already satisfied: tqdm>=2.0 in /usr/local/lib/python3.7/dist-packages (from sklearn-crfsuite) (4.62.3)\n",
            "Requirement already satisfied: tabulate in /usr/local/lib/python3.7/dist-packages (from sklearn-crfsuite) (0.8.9)\n",
            "Requirement already satisfied: requests>=2.22.0 in /usr/local/lib/python3.7/dist-packages (from pythainlp) (2.23.0)\n",
            "Collecting tinydb>=3.0\n",
            "  Downloading tinydb-4.6.1-py3-none-any.whl (24 kB)\n",
            "Requirement already satisfied: certifi>=2017.4.17 in /usr/local/lib/python3.7/dist-packages (from requests>=2.22.0->pythainlp) (2021.10.8)\n",
            "Requirement already satisfied: chardet<4,>=3.0.2 in /usr/local/lib/python3.7/dist-packages (from requests>=2.22.0->pythainlp) (3.0.4)\n",
            "Requirement already satisfied: idna<3,>=2.5 in /usr/local/lib/python3.7/dist-packages (from requests>=2.22.0->pythainlp) (2.10)\n",
            "Requirement already satisfied: urllib3!=1.25.0,!=1.25.1,<1.26,>=1.21.1 in /usr/local/lib/python3.7/dist-packages (from requests>=2.22.0->pythainlp) (1.24.3)\n",
            "Requirement already satisfied: typing-extensions<5.0.0,>=3.10.0 in /usr/local/lib/python3.7/dist-packages (from tinydb>=3.0->pythainlp) (3.10.0.2)\n",
            "Installing collected packages: tinydb, python-crfsuite, sklearn-crfsuite, pythainlp\n",
            "Successfully installed pythainlp-3.0.5 python-crfsuite-0.9.7 sklearn-crfsuite-0.3.6 tinydb-4.6.1\n"
          ]
        }
      ]
    },
    {
      "cell_type": "code",
      "execution_count": 2,
      "id": "07e419da",
      "metadata": {
        "id": "07e419da"
      },
      "outputs": [],
      "source": [
        "import json\n",
        "import pandas as pd\n",
        "import numpy as np\n",
        "import re\n",
        "# import pycrfsuite\n",
        "import warnings\n",
        "from sklearn.model_selection import train_test_split\n",
        "from sklearn.metrics import classification_report\n",
        "from pythainlp.tokenize import word_tokenize\n",
        "from pythainlp.tag import pos_tag\n",
        "from ast import literal_eval\n",
        "from tqdm import tqdm\n",
        "\n",
        "from itertools import chain\n",
        "\n",
        "import sklearn\n",
        "import scipy.stats\n",
        "from sklearn.metrics import make_scorer\n",
        "from sklearn.model_selection import cross_val_score\n",
        "from sklearn.model_selection import RandomizedSearchCV\n",
        "\n",
        "import sklearn_crfsuite\n",
        "from sklearn_crfsuite import scorers\n",
        "from sklearn_crfsuite import metrics\n",
        "\n",
        "pd.set_option('display.max_rows', 10)\n",
        "warnings.filterwarnings('ignore')\n"
      ]
    },
    {
      "cell_type": "code",
      "source": [
        "!tar -xvf /content/drive/MyDrive/SuperAI_NLP/AIFORTHAI-LST20Corpus.tar.gz"
      ],
      "metadata": {
        "id": "9pUiX_Pt3Hmi",
        "outputId": "75729068-f729-4b82-c115-dc4893b18739",
        "colab": {
          "base_uri": "https://localhost:8080/"
        }
      },
      "id": "9pUiX_Pt3Hmi",
      "execution_count": 3,
      "outputs": [
        {
          "output_type": "stream",
          "name": "stdout",
          "text": [
            "tar: /content/drive/MyDrive/SuperAI_NLP/AIFORTHAI-LST20Corpus.tar.gz: Cannot open: No such file or directory\n",
            "tar: Error is not recoverable: exiting now\n"
          ]
        }
      ]
    },
    {
      "cell_type": "markdown",
      "id": "a49e5519",
      "metadata": {
        "id": "a49e5519"
      },
      "source": [
        "## Load and Prepare Dataset\n",
        "\n",
        "Using the LST20 dataset, we combine train and test into one training data and leave validation data for validation."
      ]
    },
    {
      "cell_type": "code",
      "source": [
        "!pip install datasets"
      ],
      "metadata": {
        "colab": {
          "base_uri": "https://localhost:8080/"
        },
        "id": "-d0S0LV-323y",
        "outputId": "204d7624-b001-4ae9-dca1-ae853fc0ae41"
      },
      "id": "-d0S0LV-323y",
      "execution_count": 4,
      "outputs": [
        {
          "output_type": "stream",
          "name": "stdout",
          "text": [
            "Collecting datasets\n",
            "  Downloading datasets-1.18.3-py3-none-any.whl (311 kB)\n",
            "\u001b[K     |████████████████████████████████| 311 kB 4.1 MB/s \n",
            "\u001b[?25hCollecting aiohttp\n",
            "  Downloading aiohttp-3.8.1-cp37-cp37m-manylinux_2_5_x86_64.manylinux1_x86_64.manylinux_2_12_x86_64.manylinux2010_x86_64.whl (1.1 MB)\n",
            "\u001b[K     |████████████████████████████████| 1.1 MB 66.9 MB/s \n",
            "\u001b[?25hRequirement already satisfied: pandas in /usr/local/lib/python3.7/dist-packages (from datasets) (1.3.5)\n",
            "Requirement already satisfied: packaging in /usr/local/lib/python3.7/dist-packages (from datasets) (21.3)\n",
            "Collecting xxhash\n",
            "  Downloading xxhash-2.0.2-cp37-cp37m-manylinux2010_x86_64.whl (243 kB)\n",
            "\u001b[K     |████████████████████████████████| 243 kB 84.0 MB/s \n",
            "\u001b[?25hCollecting fsspec[http]>=2021.05.0\n",
            "  Downloading fsspec-2022.1.0-py3-none-any.whl (133 kB)\n",
            "\u001b[K     |████████████████████████████████| 133 kB 79.8 MB/s \n",
            "\u001b[?25hRequirement already satisfied: importlib-metadata in /usr/local/lib/python3.7/dist-packages (from datasets) (4.10.1)\n",
            "Requirement already satisfied: numpy>=1.17 in /usr/local/lib/python3.7/dist-packages (from datasets) (1.19.5)\n",
            "Requirement already satisfied: tqdm>=4.62.1 in /usr/local/lib/python3.7/dist-packages (from datasets) (4.62.3)\n",
            "Collecting huggingface-hub<1.0.0,>=0.1.0\n",
            "  Downloading huggingface_hub-0.4.0-py3-none-any.whl (67 kB)\n",
            "\u001b[K     |████████████████████████████████| 67 kB 5.9 MB/s \n",
            "\u001b[?25hRequirement already satisfied: dill in /usr/local/lib/python3.7/dist-packages (from datasets) (0.3.4)\n",
            "Requirement already satisfied: requests>=2.19.0 in /usr/local/lib/python3.7/dist-packages (from datasets) (2.23.0)\n",
            "Requirement already satisfied: pyarrow!=4.0.0,>=3.0.0 in /usr/local/lib/python3.7/dist-packages (from datasets) (6.0.1)\n",
            "Requirement already satisfied: multiprocess in /usr/local/lib/python3.7/dist-packages (from datasets) (0.70.12.2)\n",
            "Requirement already satisfied: pyyaml in /usr/local/lib/python3.7/dist-packages (from huggingface-hub<1.0.0,>=0.1.0->datasets) (3.13)\n",
            "Requirement already satisfied: filelock in /usr/local/lib/python3.7/dist-packages (from huggingface-hub<1.0.0,>=0.1.0->datasets) (3.4.2)\n",
            "Requirement already satisfied: typing-extensions>=3.7.4.3 in /usr/local/lib/python3.7/dist-packages (from huggingface-hub<1.0.0,>=0.1.0->datasets) (3.10.0.2)\n",
            "Requirement already satisfied: pyparsing!=3.0.5,>=2.0.2 in /usr/local/lib/python3.7/dist-packages (from packaging->datasets) (3.0.7)\n",
            "Requirement already satisfied: chardet<4,>=3.0.2 in /usr/local/lib/python3.7/dist-packages (from requests>=2.19.0->datasets) (3.0.4)\n",
            "Requirement already satisfied: idna<3,>=2.5 in /usr/local/lib/python3.7/dist-packages (from requests>=2.19.0->datasets) (2.10)\n",
            "Requirement already satisfied: certifi>=2017.4.17 in /usr/local/lib/python3.7/dist-packages (from requests>=2.19.0->datasets) (2021.10.8)\n",
            "Requirement already satisfied: urllib3!=1.25.0,!=1.25.1,<1.26,>=1.21.1 in /usr/local/lib/python3.7/dist-packages (from requests>=2.19.0->datasets) (1.24.3)\n",
            "Collecting multidict<7.0,>=4.5\n",
            "  Downloading multidict-6.0.2-cp37-cp37m-manylinux_2_17_x86_64.manylinux2014_x86_64.whl (94 kB)\n",
            "\u001b[K     |████████████████████████████████| 94 kB 4.2 MB/s \n",
            "\u001b[?25hCollecting yarl<2.0,>=1.0\n",
            "  Downloading yarl-1.7.2-cp37-cp37m-manylinux_2_5_x86_64.manylinux1_x86_64.manylinux_2_12_x86_64.manylinux2010_x86_64.whl (271 kB)\n",
            "\u001b[K     |████████████████████████████████| 271 kB 72.4 MB/s \n",
            "\u001b[?25hCollecting asynctest==0.13.0\n",
            "  Downloading asynctest-0.13.0-py3-none-any.whl (26 kB)\n",
            "Collecting async-timeout<5.0,>=4.0.0a3\n",
            "  Downloading async_timeout-4.0.2-py3-none-any.whl (5.8 kB)\n",
            "Requirement already satisfied: attrs>=17.3.0 in /usr/local/lib/python3.7/dist-packages (from aiohttp->datasets) (21.4.0)\n",
            "Requirement already satisfied: charset-normalizer<3.0,>=2.0 in /usr/local/lib/python3.7/dist-packages (from aiohttp->datasets) (2.0.11)\n",
            "Collecting aiosignal>=1.1.2\n",
            "  Downloading aiosignal-1.2.0-py3-none-any.whl (8.2 kB)\n",
            "Collecting frozenlist>=1.1.1\n",
            "  Downloading frozenlist-1.3.0-cp37-cp37m-manylinux_2_5_x86_64.manylinux1_x86_64.manylinux_2_17_x86_64.manylinux2014_x86_64.whl (144 kB)\n",
            "\u001b[K     |████████████████████████████████| 144 kB 62.3 MB/s \n",
            "\u001b[?25hRequirement already satisfied: zipp>=0.5 in /usr/local/lib/python3.7/dist-packages (from importlib-metadata->datasets) (3.7.0)\n",
            "Requirement already satisfied: pytz>=2017.3 in /usr/local/lib/python3.7/dist-packages (from pandas->datasets) (2018.9)\n",
            "Requirement already satisfied: python-dateutil>=2.7.3 in /usr/local/lib/python3.7/dist-packages (from pandas->datasets) (2.8.2)\n",
            "Requirement already satisfied: six>=1.5 in /usr/local/lib/python3.7/dist-packages (from python-dateutil>=2.7.3->pandas->datasets) (1.15.0)\n",
            "Installing collected packages: multidict, frozenlist, yarl, asynctest, async-timeout, aiosignal, fsspec, aiohttp, xxhash, huggingface-hub, datasets\n",
            "Successfully installed aiohttp-3.8.1 aiosignal-1.2.0 async-timeout-4.0.2 asynctest-0.13.0 datasets-1.18.3 frozenlist-1.3.0 fsspec-2022.1.0 huggingface-hub-0.4.0 multidict-6.0.2 xxhash-2.0.2 yarl-1.7.2\n"
          ]
        }
      ]
    },
    {
      "cell_type": "code",
      "source": [
        "from google.colab import drive\n",
        "drive.mount('/content/drive')"
      ],
      "metadata": {
        "colab": {
          "base_uri": "https://localhost:8080/"
        },
        "id": "UmMLjTdx4a5k",
        "outputId": "0d17dbaa-e086-4ab8-df36-00bf2fb0f543"
      },
      "id": "UmMLjTdx4a5k",
      "execution_count": null,
      "outputs": [
        {
          "output_type": "stream",
          "name": "stdout",
          "text": [
            "Mounted at /content/drive\n"
          ]
        }
      ]
    },
    {
      "cell_type": "code",
      "execution_count": null,
      "id": "431b7898",
      "metadata": {
        "colab": {
          "base_uri": "https://localhost:8080/",
          "height": 85,
          "referenced_widgets": [
            "6c4efd3c67084eeea8cc8db4fd9a3f36",
            "df1a4b649228459ba194e8ce93903a16",
            "f959b8ccc2ae483f95dbb7041b41c3fd",
            "52f9850e2322419d9520ebab083732ac",
            "d8a926feda864043945b6ca69ed64527",
            "04a6a60f97b2404c9f08a62ad0aaf8de",
            "f6ef7d5ba1574ade86cc63232ea9995e",
            "cc3336e9030e41a18c45fb06e4316bf1",
            "d4c3e0db57854f0dbe8dedda14c58b6f",
            "ffd9d54a03f6442aaebcff0e408ae4b1",
            "6db22dae14e74cc2bbcdf81e9dedc6e2"
          ]
        },
        "id": "431b7898",
        "outputId": "835611a4-39e1-4c1e-e13a-955d5f114464"
      },
      "outputs": [
        {
          "output_type": "stream",
          "name": "stderr",
          "text": [
            "Using custom data configuration default-97621787f5b60e1b\n",
            "Reusing dataset lst20 (/root/.cache/huggingface/datasets/lst20/default-97621787f5b60e1b/0.0.0/e1b2a921fb011578ab43ddbbf789f3c500d62cb2df8ae4ed4b60bae8e4c0d3ad)\n"
          ]
        },
        {
          "output_type": "display_data",
          "data": {
            "application/vnd.jupyter.widget-view+json": {
              "model_id": "6c4efd3c67084eeea8cc8db4fd9a3f36",
              "version_minor": 0,
              "version_major": 2
            },
            "text/plain": [
              "  0%|          | 0/3 [00:00<?, ?it/s]"
            ]
          },
          "metadata": {}
        }
      ],
      "source": [
        "from datasets import load_dataset\n",
        "\n",
        "dataset = load_dataset(\"lst20\", data_dir=\"/content/LST20_Corpus\")"
      ]
    },
    {
      "cell_type": "code",
      "execution_count": null,
      "id": "c7b7c715",
      "metadata": {
        "colab": {
          "base_uri": "https://localhost:8080/"
        },
        "id": "c7b7c715",
        "outputId": "b2cb5fce-c012-4c79-dd2a-5a4aee02eb05"
      },
      "outputs": [
        {
          "output_type": "execute_result",
          "data": {
            "text/plain": [
              "DatasetDict({\n",
              "    train: Dataset({\n",
              "        features: ['id', 'fname', 'tokens', 'pos_tags', 'ner_tags', 'clause_tags'],\n",
              "        num_rows: 63310\n",
              "    })\n",
              "    validation: Dataset({\n",
              "        features: ['id', 'fname', 'tokens', 'pos_tags', 'ner_tags', 'clause_tags'],\n",
              "        num_rows: 5620\n",
              "    })\n",
              "    test: Dataset({\n",
              "        features: ['id', 'fname', 'tokens', 'pos_tags', 'ner_tags', 'clause_tags'],\n",
              "        num_rows: 5250\n",
              "    })\n",
              "})"
            ]
          },
          "metadata": {},
          "execution_count": 3
        }
      ],
      "source": [
        "dataset"
      ]
    },
    {
      "cell_type": "code",
      "execution_count": null,
      "id": "57cbd660",
      "metadata": {
        "id": "57cbd660"
      },
      "outputs": [],
      "source": [
        "# The following script is used to tokenize the text in LST20 according to PythaiNLP\n",
        "\n",
        "def extraction(datasets):\n",
        "    fastarray_token = np.array(datasets['tokens'])\n",
        "    fastarray_topic = np.array(datasets['fname'])\n",
        "    all_tuples = []\n",
        "    tuples = []\n",
        "    for j in tqdm(range(len(fastarray_token)), total=len(fastarray_token)):\n",
        "        token = word_tokenize(\"\".join((fastarray_token[j])))\n",
        "        tag = len(token)*['I']\n",
        "        token.append(' ')\n",
        "        tag.append('E')\n",
        "        for i in range(len(token)):\n",
        "            if token[i] == '_':\n",
        "                token[i] = ' '\n",
        "            tuples.append((token[i],tag[i]))\n",
        "        if j == len(fastarray_token)-1:\n",
        "            all_tuples.append(tuples)\n",
        "            tuples = []\n",
        "            return(all_tuples)\n",
        "        if fastarray_topic[j] != fastarray_topic[j+1]:\n",
        "            all_tuples.append(tuples)\n",
        "            tuples = []\n",
        "    return(all_tuples)"
      ]
    },
    {
      "cell_type": "code",
      "execution_count": null,
      "id": "446bfe30",
      "metadata": {
        "colab": {
          "base_uri": "https://localhost:8080/"
        },
        "id": "446bfe30",
        "outputId": "4a3665d1-22ce-454a-c228-30106792bfd0"
      },
      "outputs": [
        {
          "output_type": "stream",
          "name": "stderr",
          "text": [
            "100%|█████████▉| 63309/63310 [00:41<00:00, 1537.73it/s]\n",
            "100%|█████████▉| 5249/5250 [00:02<00:00, 1770.10it/s]\n",
            "100%|█████████▉| 5619/5620 [00:03<00:00, 1599.69it/s]\n"
          ]
        }
      ],
      "source": [
        "train_data = extraction(dataset['train'])\n",
        "\n",
        "test_data = extraction(dataset['test'])\n",
        "\n",
        "validation_data = extraction(dataset['validation'])"
      ]
    },
    {
      "cell_type": "code",
      "execution_count": null,
      "id": "30b38fa0",
      "metadata": {
        "colab": {
          "base_uri": "https://localhost:8080/"
        },
        "id": "30b38fa0",
        "outputId": "cb4f5a76-7ba5-4490-d0c6-ccc918f9fbb2"
      },
      "outputs": [
        {
          "output_type": "execute_result",
          "data": {
            "text/plain": [
              "3794"
            ]
          },
          "metadata": {},
          "execution_count": 6
        }
      ],
      "source": [
        "len(train_data)"
      ]
    },
    {
      "cell_type": "code",
      "execution_count": null,
      "id": "527e5353",
      "metadata": {
        "colab": {
          "base_uri": "https://localhost:8080/"
        },
        "id": "527e5353",
        "outputId": "6fe792c8-3ee2-44e0-df25-34132651f0a9"
      },
      "outputs": [
        {
          "output_type": "execute_result",
          "data": {
            "text/plain": [
              "483"
            ]
          },
          "metadata": {},
          "execution_count": 7
        }
      ],
      "source": [
        "len(test_data)"
      ]
    },
    {
      "cell_type": "code",
      "execution_count": null,
      "id": "82f6e814",
      "metadata": {
        "id": "82f6e814"
      },
      "outputs": [],
      "source": [
        "train_data = train_data + test_data"
      ]
    },
    {
      "cell_type": "markdown",
      "id": "c1f8c4ba",
      "metadata": {
        "id": "c1f8c4ba"
      },
      "source": [
        "### Investigate Size of an Article and Sentence\n",
        "\n",
        "LST20 is a news article, one of the thing that could be a problem is a really long editorial. This could make it slightly difficult for CRF to understand and dealt with it. This is a quick check to see the distribution of length of an article is LST20. We also want to quickly check sentence length according to LST20. This is to make sure that distribution of validation and training are not drastically different."
      ]
    },
    {
      "cell_type": "code",
      "execution_count": null,
      "id": "9b66ab9b",
      "metadata": {
        "id": "9b66ab9b"
      },
      "outputs": [],
      "source": [
        "# training set\n",
        "\n",
        "size_of_news = []\n",
        "size_of_sentence = []\n",
        "ender_word = []\n",
        "start_word = []\n",
        "\n",
        "for i in range(len(train_data)):\n",
        "    size_of_news.append(len(train_data[i]))\n",
        "    count = 0\n",
        "    for j in range(len(train_data[i])):\n",
        "        if j == 0:\n",
        "            start_word.append(train_data[i][j][0])\n",
        "        count += 1\n",
        "        if train_data[i][j][1] == 'E':\n",
        "            ender_word.append(train_data[i][j-1][0])\n",
        "            size_of_sentence.append(count)\n",
        "            count = 0"
      ]
    },
    {
      "cell_type": "code",
      "execution_count": null,
      "id": "7197adbf",
      "metadata": {
        "id": "7197adbf"
      },
      "outputs": [],
      "source": [
        "# validation set\n",
        "\n",
        "size_of_news_validation = []\n",
        "size_of_sentence_validation = []\n",
        "ender_word_validation = []\n",
        "start_word_validation = []\n",
        "\n",
        "for i in range(len(validation_data)):\n",
        "    size_of_news_validation.append(len(validation_data[i]))\n",
        "    count = 0\n",
        "    for j in range(len(validation_data[i])):\n",
        "        if j == 0:\n",
        "            start_word_validation.append(validation_data[i][j][0])\n",
        "        count += 1\n",
        "        if validation_data[i][j][1] == 'E':\n",
        "            ender_word_validation.append(validation_data[i][j-1][0])\n",
        "            size_of_sentence_validation.append(count)\n",
        "            count = 0"
      ]
    },
    {
      "cell_type": "code",
      "execution_count": null,
      "id": "affeb530",
      "metadata": {
        "colab": {
          "base_uri": "https://localhost:8080/"
        },
        "id": "affeb530",
        "outputId": "1eae77f6-69b3-4c62-ba76-a80989df1e29"
      },
      "outputs": [
        {
          "output_type": "stream",
          "name": "stdout",
          "text": [
            "count     4277.000000\n",
            "mean       637.405658\n",
            "std       1024.786979\n",
            "min         29.000000\n",
            "25%        282.000000\n",
            "50%        441.000000\n",
            "75%        711.000000\n",
            "max      51766.000000\n",
            "dtype: float64\n"
          ]
        }
      ],
      "source": [
        "print(pd.Series(size_of_news).describe())"
      ]
    },
    {
      "cell_type": "code",
      "execution_count": null,
      "id": "9d37c36f",
      "metadata": {
        "colab": {
          "base_uri": "https://localhost:8080/"
        },
        "id": "9d37c36f",
        "outputId": "ad5213d8-1d38-4945-8c78-6bd9e8d072dd"
      },
      "outputs": [
        {
          "output_type": "stream",
          "name": "stdout",
          "text": [
            "count      474.000000\n",
            "mean       478.170886\n",
            "std       1469.430004\n",
            "min         54.000000\n",
            "25%        224.000000\n",
            "50%        302.000000\n",
            "75%        467.000000\n",
            "max      29893.000000\n",
            "dtype: float64\n"
          ]
        }
      ],
      "source": [
        "print(pd.Series(size_of_news_validation).describe())"
      ]
    },
    {
      "cell_type": "code",
      "execution_count": null,
      "id": "98dea54a",
      "metadata": {
        "scrolled": true,
        "colab": {
          "base_uri": "https://localhost:8080/",
          "height": 542
        },
        "id": "98dea54a",
        "outputId": "6c894e5c-b77d-4c4f-b318-5ce09f0abc95"
      },
      "outputs": [
        {
          "output_type": "display_data",
          "data": {
            "text/html": [
              "<html>\n",
              "<head><meta charset=\"utf-8\" /></head>\n",
              "<body>\n",
              "    <div>            <script src=\"https://cdnjs.cloudflare.com/ajax/libs/mathjax/2.7.5/MathJax.js?config=TeX-AMS-MML_SVG\"></script><script type=\"text/javascript\">if (window.MathJax) {MathJax.Hub.Config({SVG: {font: \"STIX-Web\"}});}</script>                <script type=\"text/javascript\">window.PlotlyConfig = {MathJaxConfig: 'local'};</script>\n",
              "        <script src=\"https://cdn.plot.ly/plotly-2.8.3.min.js\"></script>                <div id=\"924e5229-7978-44dd-b822-258aeeaa8411\" class=\"plotly-graph-div\" style=\"height:525px; width:100%;\"></div>            <script type=\"text/javascript\">                                    window.PLOTLYENV=window.PLOTLYENV || {};                                    if (document.getElementById(\"924e5229-7978-44dd-b822-258aeeaa8411\")) {                    Plotly.newPlot(                        \"924e5229-7978-44dd-b822-258aeeaa8411\",                        [{\"x\":[361,317,509,1081,426,638,827,568,1424,543,478,356,552,328,1901,815,3691,281,3661,1330,1142,1360,1726,501,872,1238,1159,376,91,293,893,302,265,1504,339,359,632,1930,767,744,450,217,194,418,315,201,3379,2094,477,880,1772,1047,954,786,250,1265,272,389,614,325,636,763,293,253,3711,287,365,437,315,2358,573,1617,879,369,516,535,518,323,1088,1152,559,1150,1267,863,2980,3073,455,1468,468,365,2626,2872,543,1197,1194,497,722,519,807,725,479,1428,1210,533,378,771,1190,733,1033,473,743,1206,748,1298,3121,2157,809,534,1220,889,1912,1408,604,522,1502,432,346,496,693,416,469,567,586,432,382,601,272,477,667,1468,852,296,611,273,571,559,149,272,634,3085,1262,752,612,674,239,169,634,1346,2780,800,704,515,777,656,478,2169,440,737,765,909,419,521,829,715,529,1284,826,233,290,1118,905,514,1134,841,325,801,470,791,364,406,496,3225,1389,495,1114,401,535,490,3349,1148,1014,432,531,279,822,572,1082,647,857,335,393,300,1688,514,1758,1275,2334,1573,1109,814,3695,490,1221,666,693,829,2362,479,791,1626,580,231,2575,707,1007,4587,937,932,808,864,496,523,674,694,784,502,377,799,764,402,1230,579,748,777,1008,1503,544,1094,808,690,352,237,230,262,166,228,2486,1131,1770,3477,1990,755,316,2244,539,378,1811,731,588,1897,3618,931,1699,408,604,869,4207,596,339,803,981,359,866,237,471,1422,691,256,243,1154,1196,1353,599,372,528,485,447,666,981,1789,562,545,415,2117,542,2148,510,292,452,266,1076,1370,1072,1391,305,786,727,599,419,390,505,476,721,586,1203,1291,2007,1002,775,929,440,321,188,1051,878,126,717,817,607,633,761,556,1115,653,275,1252,993,597,412,775,602,798,632,640,1425,728,598,2196,2356,871,923,293,1178,1127,558,509,494,341,569,281,2032,1533,396,705,491,4094,435,549,1262,914,1414,1485,4277,1672,590,613,719,525,358,1319,454,591,475,466,1058,2458,381,846,820,1639,439,744,532,608,561,640,552,718,249,835,682,425,144,207,413,373,145,3255,3697,734,995,1199,486,600,997,2246,2401,2599,744,541,465,327,297,575,1751,1155,389,307,2991,509,612,677,2426,1553,862,1330,248,1453,315,744,2127,4478,2293,303,875,229,565,498,379,548,691,682,1555,546,230,557,385,259,975,613,627,301,1324,1392,3515,651,504,1111,2121,3388,804,2073,3702,1522,528,650,633,714,224,233,279,182,157,797,358,655,1191,320,436,387,395,355,244,720,244,923,330,364,282,423,468,502,346,459,334,266,249,329,252,388,374,316,526,418,319,274,1438,791,676,886,827,655,765,2437,453,2550,307,942,827,449,338,999,657,403,627,1043,1451,419,1377,1352,671,724,1027,479,2268,888,647,277,448,357,716,428,1991,2785,1151,1000,549,1192,921,429,753,3435,610,752,610,5603,1897,3634,2377,1651,1087,2448,1181,1109,994,2649,523,316,312,532,343,520,749,1387,1320,566,471,456,360,629,354,304,726,807,325,653,2364,5450,879,445,302,512,519,461,663,932,409,362,391,420,614,331,144,143,3043,585,717,3043,700,674,1720,1403,597,350,1062,689,623,1034,865,3171,3958,713,2975,610,424,1458,3137,545,437,1086,694,832,1618,1608,809,1286,728,294,1390,479,214,326,311,503,742,5290,640,1617,333,1317,1029,537,674,1094,2125,2378,1568,2574,1840,404,881,759,427,1264,535,535,245,1355,385,869,209,590,443,895,646,219,418,578,543,625,540,836,1151,509,199,321,2040,559,406,423,685,881,1352,686,1123,875,376,306,599,307,1013,337,216,290,466,1180,728,276,564,1142,2121,1358,600,399,608,1963,6606,2265,499,3496,2669,1546,370,7429,307,302,3929,2308,2251,566,414,997,1021,2435,328,1165,520,804,497,881,636,375,1122,191,467,480,895,3227,2958,269,3120,735,960,1178,749,355,420,570,867,956,924,441,463,1407,1134,602,782,745,2001,1522,1024,1033,430,2709,704,1006,1552,249,684,1026,653,1163,2552,1565,919,3335,612,999,372,659,610,1520,535,277,676,213,892,452,515,599,931,338,324,1875,1013,697,1021,636,1494,246,589,333,287,730,1593,435,635,489,308,999,481,521,1003,778,335,365,665,810,609,626,635,1076,717,450,3366,585,305,537,634,387,585,163,612,1761,333,3219,537,554,2568,612,504,971,1037,979,616,1955,704,481,254,332,254,299,461,312,260,339,276,283,325,463,562,592,182,369,5316,275,899,617,1791,2924,535,439,276,519,944,476,1866,1242,2708,497,371,403,348,312,518,634,438,226,378,370,232,496,525,301,651,1141,1026,692,811,980,818,576,903,931,2727,396,1406,996,3636,916,819,1064,815,439,544,193,388,429,1899,396,806,463,849,1067,487,167,1285,313,556,1061,298,1530,1319,623,593,622,1693,584,5570,1258,290,415,425,648,807,641,185,632,530,575,630,777,680,464,964,965,692,1490,400,3433,1862,1042,457,2363,842,392,331,414,248,352,1288,395,681,194,904,938,575,211,361,493,1057,335,332,635,291,648,391,1913,659,452,368,280,804,730,642,486,722,436,273,221,660,495,514,2638,1035,2465,913,2385,660,686,899,422,790,472,823,619,467,1053,1303,754,540,584,338,774,915,534,603,616,544,774,1040,781,1458,558,237,618,1202,333,307,332,428,504,707,1591,604,468,453,351,253,635,539,1070,480,1638,932,186,1790,340,746,318,351,2062,1590,482,511,1108,458,542,231,833,416,517,1100,1216,1047,593,1105,452,358,4265,533,2877,2653,3517,375,453,738,869,1083,1307,781,180,1045,1076,753,1550,359,305,1101,560,406,380,439,290,912,1160,1725,3774,714,314,506,447,662,795,2467,777,265,989,1264,1145,3027,450,2304,671,1915,821,564,1104,1308,564,3817,3144,625,652,246,549,283,347,475,281,1072,1195,1276,1877,2811,2763,2171,1477,329,1004,301,3923,413,559,347,1993,2817,838,998,467,1558,989,801,425,846,817,1694,428,775,917,783,166,847,1253,330,314,548,250,1069,312,1683,383,809,295,364,207,221,566,859,1111,505,349,780,1106,469,327,319,576,543,143,644,632,357,347,153,749,989,832,614,708,778,743,1013,1606,585,848,330,758,311,1522,2104,3392,2651,549,1433,488,584,2620,459,496,549,740,605,1054,793,813,1486,676,547,352,584,863,775,527,576,658,224,320,300,288,262,745,528,222,1091,785,4800,1170,226,335,605,198,241,345,186,202,437,350,675,477,316,460,307,373,431,1003,1071,744,1070,788,437,882,1201,667,647,1619,861,829,1464,1708,629,1339,625,1765,813,2971,748,745,530,5196,969,526,1252,1926,506,1248,1187,1718,610,2397,895,1827,301,818,304,916,993,175,597,735,687,880,3069,1332,1079,3379,4861,652,786,514,566,747,303,883,789,744,701,653,567,657,607,959,704,1115,364,551,180,528,720,768,660,4398,1376,573,996,1318,1872,1074,505,695,843,590,564,1044,3868,649,628,813,374,272,968,1298,376,623,532,417,643,1189,695,329,289,568,398,419,264,863,299,1247,405,1851,2122,655,447,917,400,2741,1127,993,265,2250,298,1058,628,790,251,1249,685,573,4291,1386,917,2530,1206,1620,1312,2296,1467,8378,4078,13422,51766,703,184,562,77,463,441,722,344,201,415,374,327,1457,236,300,471,429,274,296,503,619,610,286,178,147,141,227,219,140,121,104,114,537,650,1025,386,405,139,309,146,646,94,71,664,250,77,286,149,249,210,333,135,140,235,542,1079,253,178,279,397,453,306,192,186,396,237,357,198,161,285,338,245,181,306,671,155,182,146,416,236,167,268,310,223,830,286,388,226,396,1057,890,1409,950,359,148,183,336,530,963,925,745,237,207,410,1318,823,155,292,149,280,207,837,1245,1367,173,244,74,338,521,363,382,705,170,449,538,295,416,1601,714,721,874,713,131,331,437,978,394,238,61,98,200,793,1416,364,398,288,71,95,193,247,136,631,340,202,624,177,343,371,160,460,102,144,601,133,627,517,359,518,236,411,430,297,191,269,275,335,336,366,525,526,227,314,411,455,212,313,519,135,284,269,257,173,173,193,268,119,325,427,183,155,276,350,238,576,445,164,354,689,263,286,342,123,225,85,402,422,242,185,230,209,384,278,193,465,592,531,384,191,291,294,423,54,560,272,393,554,361,110,203,365,220,371,200,93,86,165,413,155,253,233,280,160,469,351,642,169,175,180,271,520,311,75,56,763,507,256,208,118,84,316,175,516,352,335,510,827,837,725,1153,938,454,462,2129,1163,628,766,604,719,539,533,391,443,612,654,296,531,724,675,448,503,424,535,421,652,476,247,287,344,148,710,656,616,463,435,363,329,740,366,121,1213,1206,449,867,607,302,298,639,169,179,215,2365,201,845,330,568,555,326,340,354,629,368,393,527,317,301,385,400,528,485,442,161,419,389,335,348,502,429,493,563,508,294,733,404,1322,362,511,98,574,295,242,897,149,247,76,356,240,534,508,372,290,289,344,644,346,566,432,1140,398,460,730,479,365,489,523,325,611,328,709,167,347,108,147,116,95,122,192,457,248,412,124,652,328,445,352,687,814,506,485,585,416,334,301,216,201,268,248,575,501,384,405,153,163,259,179,290,308,197,377,482,581,340,588,622,519,475,543,442,1040,325,760,676,643,454,329,618,581,386,427,394,423,329,619,634,420,248,224,490,421,122,2157,263,426,281,1894,204,328,1572,344,279,67,381,1020,74,344,554,434,601,567,587,450,764,418,218,266,591,562,438,204,430,970,301,275,177,285,621,96,73,352,282,565,411,193,89,152,109,153,176,522,426,392,378,313,59,569,62,553,545,517,307,702,1183,358,284,415,386,414,1735,212,280,657,746,551,349,433,212,648,849,776,734,616,491,1102,653,299,1174,477,896,773,293,468,574,1254,78,348,379,256,354,353,217,289,416,961,304,282,288,563,344,819,592,150,124,195,174,165,188,182,1710,355,579,696,195,239,868,181,949,372,1821,408,438,1300,1437,751,843,653,584,145,284,349,485,897,361,371,266,476,664,216,583,352,763,573,351,228,814,252,102,172,168,356,272,401,285,246,404,592,646,510,752,594,405,478,447,296,312,370,289,259,273,299,226,249,60,90,262,740,695,232,771,578,368,263,436,315,303,365,212,591,412,513,223,491,165,544,864,1321,1090,194,208,634,225,269,534,715,418,715,470,645,952,646,884,772,434,569,386,473,902,724,680,709,653,467,135,272,150,317,325,257,526,177,160,434,289,249,323,277,413,294,390,475,931,652,606,341,432,310,461,166,197,37,545,279,272,276,444,29,618,752,422,411,767,1084,568,1145,294,258,368,300,422,240,427,455,382,433,348,680,609,593,352,270,165,271,268,240,136,1562,86,767,235,1096,1119,504,431,498,183,232,183,230,186,342,756,370,224,217,150,287,344,311,562,730,742,431,468,994,255,419,610,230,630,604,706,106,292,582,813,309,504,406,554,507,80,446,317,283,248,260,411,168,483,810,325,564,376,544,687,415,453,385,353,343,460,409,328,357,427,566,606,326,92,539,450,806,274,122,263,289,444,334,424,406,315,246,521,308,326,2726,745,407,534,368,132,371,144,320,96,640,545,364,326,226,224,1291,110,119,796,1056,832,1130,383,426,568,432,551,641,561,437,341,304,240,170,544,431,186,650,419,469,310,349,444,225,217,112,289,477,283,206,202,283,157,238,73,438,77,352,463,384,744,414,756,734,577,538,441,592,748,472,284,303,508,153,599,499,610,422,442,404,647,272,365,485,494,367,664,329,239,309,472,374,366,267,507,592,489,1160,552,568,188,252,209,169,227,125,77,176,186,137,152,107,162,150,129,115,135,164,374,425,639,2191,1117,510,728,853,893,189,178,241,291,507,415,425,461,651,368,355,765,383,478,473,448,454,640,463,489,503,329,216,376,772,545,396,324,264,227,351,337,433,733,514,433,824,531,369,451,401,361,323,448,484,549,497,509,473,367,373,565,523,413,567,296,429,474,396,103,93,238,331,358,514,330,1138,772,1823,955,2194,719,1673,1432,473,608,689,208,686,1100,330,534,452,337,89,691,526,532,408,195,341,644,519,483,1092,401,293,442,722,383,334,203,227,378,504,1707,211,450,761,500,377,450,2064,656,238,396,436,985,993,739,206,199,319,712,760,670,599,348,394,425,385,695,419,555,486,855,482,510,316,450,391,284,200,250,209,145,222,110,238,572,393,277,498,608,298,282,778,467,917,700,508,829,1176,369,439,62,612,368,118,110,899,337,676,660,455,855,363,725,587,993,255,227,173,138,149,165,165,381,517,2058,2389,970,2311,1464,956,228,241,595,1054,554,492,474,389,734,349,321,336,468,6438,1141,867,3217,469,254,556,376,422,290,424,526,408,145,104,145,134,755,605,423,748,555,263,216,277,355,201,454,372,388,337,354,227,406,372,332,428,641,503,539,849,429,404,410,579,647,810,160,265,231,164,595,202,358,206,299,172,458,433,585,326,671,725,728,463,247,153,311,209,241,227,158,379,456,358,678,250,833,696,858,277,446,121,749,273,360,538,300,550,375,207,260,575,565,323,507,299,355,274,370,422,591,1022,291,454,276,301,251,137,119,1523,781,186,281,812,831,1633,312,938,1166,285,107,401,291,801,541,90,390,762,504,598,551,622,461,482,572,120,153,208,550,240,191,1023,454,279,297,264,850,357,156,277,229,220,163,343,592,404,887,418,275,361,527,476,490,730,354,795,230,841,658,382,370,1222,793,322,333,371,458,368,256,233,799,237,260,505,763,893,366,1445,461,416,213,270,354,360,157,113,249,406,311,201,285,415,668,726,176,312,359,594,181,203,346,667,325,511,597,740,423,464,324,560,431,282,322,177,155,127,322,432,282,704,376,480,346,440,599,893,489,1261,511,1010,609,513,242,547,482,677,111,471,192,327,436,287,799,284,281,204,477,573,380,573,201,233,531,1415,2379,1068,351,1304,993,1294,339,596,437,293,304,646,389,171,960,875,475,485,499,569,1045,408,653,196,187,427,710,580,205,427,208,305,207,412,319,283,284,284,214,230,374,1789,469,1201,1271,421,205,228,520,218,1349,177,224,286,102,237,138,2310,1290,1337,419,665,249,796,349,246,240,877,277,363,271,594,501,369,290,265,238,352,304,313,309,362,599,405,678,428,287,596,461,760,704,659,522,876,933,149,280,166,490,215,125,265,212,775,1780,628,617,154,141,233,1367,42,378,904,151,295,89,828,371,500,461,263,382,328,738,192,436,439,395,634,247,508,340,839,473,384,258,379,151,574,508,578,387,843,362,295,378,342,530,630,695,440,406,985,176,187,196,277,227,162,213,164,196,236,237,408,452,630,411,509,342,1040,297,181,536,135,2091,1194,1168,535,581,791,428,518,516,332,164,540,650,397,257,362,538,649,823,384,609,315,462,682,411,438,483,328,421,220,163,211,1237,62,200,138,306,321,210,1917,152,451,460,745,287,178,425,244,372,430,623,580,473,203,195,333,389,492,323,466,569,310,668,406,339,1259,544,449,342,244,670,289,681,90,269,304,520,424,314,616,907,281,1226,1936,473,288,486,409,375,285,398,568,180,360,711,616,264,239,211,377,569,415,357,564,514,199,280,449,285,1287,1930,2435,828,2412,240,958,781,737,415,1009,908,99,204,157,724,1159,952,1168,828,311,161,519,211,142,588,217,264,224,303,314,526,549,305,430,1029,1324,470,591,489,361,599,566,710,518,626,203,270,171,940,1794,617,502,726,607,975,598,804,436,1291,2601,446,451,597,495,682,493,1255,359,904,120,316,587,215,442,226,404,535,317,296,261,248,388,300,797,393,700,491,489,363,268,307,199,197,214,176,221,181,315,561,697,393,400,439,304,271,277,596,266,208,229,218,240,254,493,563,256,458,1701,396,339,403,297,229,404,665,281,895,478,264,297,633,709,898,221,292,182,250,199,229,507,307,254,1841,316,334,593,1561,1410,567,758,696,580,509,475,494,584,434,537,373,513,605,730,369,466,364,278,694,206,199,270,656,1470,750,348,332,552,516,642,487,519,296,523,375,220,407,1200,578,270,451,3403,424,860,198,188,1368,857,2327,1420,822,570,375,320,552,450,590,206,291,553,1085,749,40,724,264,1321,194,112,245,251,94,447,188,292,726,311,327,211,214,423,382,1146,440,168,343,656,431,285,345,215,190,1305,392,1031,268,201,323,105,654,160,687,539,613,439,402,388,496,114,1846,1993,316,1874,394,97,191,125,135,238,1443,695,3391,308,376,157,644,291,434,434,284,328,203,2703,1475,431,331,846,337,423,457,863,1847,875,945,568,279,446,306,139,218,208,404,192,1032,426,160,427,377,134,723,214,322,108,170,304,231,277,242,1245,888,1494,532,91,197,366,200,363,164,296,171,368,263,219,283,291,302,196,205,261,342,113,175,272,300,219,274,205,312,175,222,282,266,407,178,222,232,438,267,357,263,340,400,285,472,444,581,260,314,244,251,141,327,179,306,185,239,266,240,284,261,369,330,168,174,336,449,662,1615,103,292,139,307,321,607,366,724,580,206,361,261,141,222,183,168,194,156,224,346,291,260,209,270,246,419,232,209,272,304,1143,1408,961,762,1335,215,111,216,202,250,134,159,244,302,298,171,194,252,343,117,333,153,177,326,199,127,183,185,372,209,248,339,217,188,200,408,366,1131,1633,749,1506,1568,250,305,235,238,322,245,169,286,164,247,120,228,132,200,210,85,242,336,164,213,256,865,638,201,118,238,128,171,339,173,188,322,241,300,172,278,188,1499,1510,877,793,1441,227,325,143,219,320,272,125,133,142,160,315,111,280,186,301,265,241,294,201,468,624,233,193,340,303,307,228,225,252,197,914,154,309,332,196,687,211,227,220,276,401,424,364,198,136,207,715,303,498,275,1014,322,315,1226,126,293,231,174,191,418,288,248,203,237,205,299,344,312,593,650,314,229,760,276,333,145,238,242,98,198,334,335,115,264,188,249,301,214,338,953,1032,1764,1969,323,127,137,334,451,245,460,249,276,356,177,118,474,396,534,111,245,496,590,253,463,611,730,158,63,998,657,382,133,133,110,153,277,422,337,541,518,174,701,388,158,243,856,231,223,233,413,196,674,188,493,381,63,224,474,394,139,208,291,717,567,693,330,265,706,506,699,459,214,163,237,193,209,470,363,148,327,549,279,856,485,338,264,466,343,568,352,529,422,307,343,480,728,429,590,305,292,379,604,289,390,214,162,275,231,143,688,137,770,401,265,579,540,219,158,201,209,231,185,421,350,428,1006,213,223,161,264,667,724,413,159,517,210,611,327,790,890,980,650,389,215,299,315,323,528,756,730,895,489,401,490,678,445,496,492,993,426,225,216,154,608,877,481,310,239,591,684,276,295,196,199,237,723,531,249,284,424,417,533,755,656,519,871,267,557,160,300,671,258,198,152,195,208,201,493,537,217,797,461,1046,330,299,141,683,406,436,406,306,807,398,531,565,241,228,213,204,304,163,1042,609,393,948,501,534,468,292,685,398,237,235,436,919,268,304,375,262,466,318,250,269,236,1062,661,364,200,381,357,407,218,419,529,530,672,538,218,347,207,306,504,463,433,536,520,628,236,311,494,1331,725,832,750,223,587,115,309,316,214,248,447,368,698,401,800,405,758,475,1340,376,290,406,299,327,395,220,228,120,1138,254,260,285,213,153,310,364,198,123,206,604,229,171,152,240,236,263,642,393,225,235,320,182,570,808,165,455,355,638,156,261,191,184,243,228,282,806,140,623,387,226,184,2022,464,384,571,261,702,575,348,468,138,313,184,370,276,224,186,300,224,453,614,570,298,348,254,253,199,323,234,246,167,236,185,224,253,309,222,487,218,311,759,410,620,1234,274,176,223,165,156,246,125,282,227,296,199,209,265,260,278,270,419,337,440,627,368,614,519,496,186,230,162,228,426,318,175,173,307,223,280,236,288,335,283,263,824,227,282,344,456,139,199,242,184,132,2159,218,156,197,231,234,309,361,249,227,261,271,661,147,298,220,118,275,241,250,284,259,207,291,595,247,253,227,283,312,239,211,1056,1004,1727,769,1781,152,210,1096,174,174,176,124,327,155,482,501,353,532,510,762],\"type\":\"histogram\",\"opacity\":0.75},{\"x\":[1149,6824,8550,29893,284,94,113,117,127,507,68,231,313,415,353,374,441,54,531,322,682,559,433,624,371,273,263,220,285,514,250,106,640,310,321,137,218,464,248,159,625,131,252,375,624,537,83,588,231,448,364,421,504,1326,376,237,970,2016,222,276,315,474,537,421,1583,2990,170,273,308,388,239,1082,389,399,197,172,227,627,516,1061,459,553,410,432,370,457,726,200,234,323,179,280,362,3594,205,195,127,646,254,356,220,398,770,352,273,368,531,432,297,291,217,619,398,579,625,361,256,222,438,161,593,458,64,339,126,227,253,737,191,227,266,214,237,286,262,243,240,239,144,242,546,495,503,480,535,416,514,220,887,266,153,243,176,264,166,263,119,95,86,143,244,189,254,67,199,237,143,56,165,205,393,319,337,619,249,385,303,447,249,78,1264,254,244,264,501,135,114,290,394,294,118,510,484,588,229,552,218,86,325,425,272,457,216,337,289,243,275,341,446,165,189,213,240,834,842,269,353,453,388,721,323,536,231,293,566,498,432,528,380,212,226,153,195,365,1156,185,280,227,159,158,185,283,346,639,648,580,486,751,450,553,474,357,485,443,707,661,395,337,221,258,341,234,771,416,301,454,470,514,587,747,367,391,481,468,608,191,278,386,412,641,996,785,798,69,249,565,422,352,225,302,587,253,356,990,713,369,287,1016,230,241,627,433,280,471,224,545,372,181,285,364,489,382,367,658,264,371,683,523,292,397,344,499,285,236,412,604,468,293,104,119,111,478,214,311,226,209,307,303,177,228,200,240,282,109,221,304,251,213,259,141,184,304,295,244,243,240,213,328,1147,715,1160,1959,384,430,220,172,183,496,397,192,247,457,263,502,713,909,373,194,264,317,224,238,255,1533,328,197,178,186,244,268,242,190,208,336,281,257,233,207,599,194,370,513,714,134,196,300,341,191,263,259,399,201,352,209,142,161,230,345,142,229,148,99,219,277,224,197,162,148,563,509,547,389,584,242,374,281,333,162,255,436,329,223,365,355,207,200,237,235,226,291,302,1053,1476,287,138,374,365,678,164,286,238,206,224,266,297,317,320,154,392,92,222,180,736,545],\"type\":\"histogram\",\"opacity\":0.75}],                        {\"template\":{\"data\":{\"bar\":[{\"error_x\":{\"color\":\"#2a3f5f\"},\"error_y\":{\"color\":\"#2a3f5f\"},\"marker\":{\"line\":{\"color\":\"#E5ECF6\",\"width\":0.5},\"pattern\":{\"fillmode\":\"overlay\",\"size\":10,\"solidity\":0.2}},\"type\":\"bar\"}],\"barpolar\":[{\"marker\":{\"line\":{\"color\":\"#E5ECF6\",\"width\":0.5},\"pattern\":{\"fillmode\":\"overlay\",\"size\":10,\"solidity\":0.2}},\"type\":\"barpolar\"}],\"carpet\":[{\"aaxis\":{\"endlinecolor\":\"#2a3f5f\",\"gridcolor\":\"white\",\"linecolor\":\"white\",\"minorgridcolor\":\"white\",\"startlinecolor\":\"#2a3f5f\"},\"baxis\":{\"endlinecolor\":\"#2a3f5f\",\"gridcolor\":\"white\",\"linecolor\":\"white\",\"minorgridcolor\":\"white\",\"startlinecolor\":\"#2a3f5f\"},\"type\":\"carpet\"}],\"choropleth\":[{\"colorbar\":{\"outlinewidth\":0,\"ticks\":\"\"},\"type\":\"choropleth\"}],\"contour\":[{\"colorbar\":{\"outlinewidth\":0,\"ticks\":\"\"},\"colorscale\":[[0.0,\"#0d0887\"],[0.1111111111111111,\"#46039f\"],[0.2222222222222222,\"#7201a8\"],[0.3333333333333333,\"#9c179e\"],[0.4444444444444444,\"#bd3786\"],[0.5555555555555556,\"#d8576b\"],[0.6666666666666666,\"#ed7953\"],[0.7777777777777778,\"#fb9f3a\"],[0.8888888888888888,\"#fdca26\"],[1.0,\"#f0f921\"]],\"type\":\"contour\"}],\"contourcarpet\":[{\"colorbar\":{\"outlinewidth\":0,\"ticks\":\"\"},\"type\":\"contourcarpet\"}],\"heatmap\":[{\"colorbar\":{\"outlinewidth\":0,\"ticks\":\"\"},\"colorscale\":[[0.0,\"#0d0887\"],[0.1111111111111111,\"#46039f\"],[0.2222222222222222,\"#7201a8\"],[0.3333333333333333,\"#9c179e\"],[0.4444444444444444,\"#bd3786\"],[0.5555555555555556,\"#d8576b\"],[0.6666666666666666,\"#ed7953\"],[0.7777777777777778,\"#fb9f3a\"],[0.8888888888888888,\"#fdca26\"],[1.0,\"#f0f921\"]],\"type\":\"heatmap\"}],\"heatmapgl\":[{\"colorbar\":{\"outlinewidth\":0,\"ticks\":\"\"},\"colorscale\":[[0.0,\"#0d0887\"],[0.1111111111111111,\"#46039f\"],[0.2222222222222222,\"#7201a8\"],[0.3333333333333333,\"#9c179e\"],[0.4444444444444444,\"#bd3786\"],[0.5555555555555556,\"#d8576b\"],[0.6666666666666666,\"#ed7953\"],[0.7777777777777778,\"#fb9f3a\"],[0.8888888888888888,\"#fdca26\"],[1.0,\"#f0f921\"]],\"type\":\"heatmapgl\"}],\"histogram\":[{\"marker\":{\"pattern\":{\"fillmode\":\"overlay\",\"size\":10,\"solidity\":0.2}},\"type\":\"histogram\"}],\"histogram2d\":[{\"colorbar\":{\"outlinewidth\":0,\"ticks\":\"\"},\"colorscale\":[[0.0,\"#0d0887\"],[0.1111111111111111,\"#46039f\"],[0.2222222222222222,\"#7201a8\"],[0.3333333333333333,\"#9c179e\"],[0.4444444444444444,\"#bd3786\"],[0.5555555555555556,\"#d8576b\"],[0.6666666666666666,\"#ed7953\"],[0.7777777777777778,\"#fb9f3a\"],[0.8888888888888888,\"#fdca26\"],[1.0,\"#f0f921\"]],\"type\":\"histogram2d\"}],\"histogram2dcontour\":[{\"colorbar\":{\"outlinewidth\":0,\"ticks\":\"\"},\"colorscale\":[[0.0,\"#0d0887\"],[0.1111111111111111,\"#46039f\"],[0.2222222222222222,\"#7201a8\"],[0.3333333333333333,\"#9c179e\"],[0.4444444444444444,\"#bd3786\"],[0.5555555555555556,\"#d8576b\"],[0.6666666666666666,\"#ed7953\"],[0.7777777777777778,\"#fb9f3a\"],[0.8888888888888888,\"#fdca26\"],[1.0,\"#f0f921\"]],\"type\":\"histogram2dcontour\"}],\"mesh3d\":[{\"colorbar\":{\"outlinewidth\":0,\"ticks\":\"\"},\"type\":\"mesh3d\"}],\"parcoords\":[{\"line\":{\"colorbar\":{\"outlinewidth\":0,\"ticks\":\"\"}},\"type\":\"parcoords\"}],\"pie\":[{\"automargin\":true,\"type\":\"pie\"}],\"scatter\":[{\"marker\":{\"colorbar\":{\"outlinewidth\":0,\"ticks\":\"\"}},\"type\":\"scatter\"}],\"scatter3d\":[{\"line\":{\"colorbar\":{\"outlinewidth\":0,\"ticks\":\"\"}},\"marker\":{\"colorbar\":{\"outlinewidth\":0,\"ticks\":\"\"}},\"type\":\"scatter3d\"}],\"scattercarpet\":[{\"marker\":{\"colorbar\":{\"outlinewidth\":0,\"ticks\":\"\"}},\"type\":\"scattercarpet\"}],\"scattergeo\":[{\"marker\":{\"colorbar\":{\"outlinewidth\":0,\"ticks\":\"\"}},\"type\":\"scattergeo\"}],\"scattergl\":[{\"marker\":{\"colorbar\":{\"outlinewidth\":0,\"ticks\":\"\"}},\"type\":\"scattergl\"}],\"scattermapbox\":[{\"marker\":{\"colorbar\":{\"outlinewidth\":0,\"ticks\":\"\"}},\"type\":\"scattermapbox\"}],\"scatterpolar\":[{\"marker\":{\"colorbar\":{\"outlinewidth\":0,\"ticks\":\"\"}},\"type\":\"scatterpolar\"}],\"scatterpolargl\":[{\"marker\":{\"colorbar\":{\"outlinewidth\":0,\"ticks\":\"\"}},\"type\":\"scatterpolargl\"}],\"scatterternary\":[{\"marker\":{\"colorbar\":{\"outlinewidth\":0,\"ticks\":\"\"}},\"type\":\"scatterternary\"}],\"surface\":[{\"colorbar\":{\"outlinewidth\":0,\"ticks\":\"\"},\"colorscale\":[[0.0,\"#0d0887\"],[0.1111111111111111,\"#46039f\"],[0.2222222222222222,\"#7201a8\"],[0.3333333333333333,\"#9c179e\"],[0.4444444444444444,\"#bd3786\"],[0.5555555555555556,\"#d8576b\"],[0.6666666666666666,\"#ed7953\"],[0.7777777777777778,\"#fb9f3a\"],[0.8888888888888888,\"#fdca26\"],[1.0,\"#f0f921\"]],\"type\":\"surface\"}],\"table\":[{\"cells\":{\"fill\":{\"color\":\"#EBF0F8\"},\"line\":{\"color\":\"white\"}},\"header\":{\"fill\":{\"color\":\"#C8D4E3\"},\"line\":{\"color\":\"white\"}},\"type\":\"table\"}]},\"layout\":{\"annotationdefaults\":{\"arrowcolor\":\"#2a3f5f\",\"arrowhead\":0,\"arrowwidth\":1},\"autotypenumbers\":\"strict\",\"coloraxis\":{\"colorbar\":{\"outlinewidth\":0,\"ticks\":\"\"}},\"colorscale\":{\"diverging\":[[0,\"#8e0152\"],[0.1,\"#c51b7d\"],[0.2,\"#de77ae\"],[0.3,\"#f1b6da\"],[0.4,\"#fde0ef\"],[0.5,\"#f7f7f7\"],[0.6,\"#e6f5d0\"],[0.7,\"#b8e186\"],[0.8,\"#7fbc41\"],[0.9,\"#4d9221\"],[1,\"#276419\"]],\"sequential\":[[0.0,\"#0d0887\"],[0.1111111111111111,\"#46039f\"],[0.2222222222222222,\"#7201a8\"],[0.3333333333333333,\"#9c179e\"],[0.4444444444444444,\"#bd3786\"],[0.5555555555555556,\"#d8576b\"],[0.6666666666666666,\"#ed7953\"],[0.7777777777777778,\"#fb9f3a\"],[0.8888888888888888,\"#fdca26\"],[1.0,\"#f0f921\"]],\"sequentialminus\":[[0.0,\"#0d0887\"],[0.1111111111111111,\"#46039f\"],[0.2222222222222222,\"#7201a8\"],[0.3333333333333333,\"#9c179e\"],[0.4444444444444444,\"#bd3786\"],[0.5555555555555556,\"#d8576b\"],[0.6666666666666666,\"#ed7953\"],[0.7777777777777778,\"#fb9f3a\"],[0.8888888888888888,\"#fdca26\"],[1.0,\"#f0f921\"]]},\"colorway\":[\"#636efa\",\"#EF553B\",\"#00cc96\",\"#ab63fa\",\"#FFA15A\",\"#19d3f3\",\"#FF6692\",\"#B6E880\",\"#FF97FF\",\"#FECB52\"],\"font\":{\"color\":\"#2a3f5f\"},\"geo\":{\"bgcolor\":\"white\",\"lakecolor\":\"white\",\"landcolor\":\"#E5ECF6\",\"showlakes\":true,\"showland\":true,\"subunitcolor\":\"white\"},\"hoverlabel\":{\"align\":\"left\"},\"hovermode\":\"closest\",\"mapbox\":{\"style\":\"light\"},\"paper_bgcolor\":\"white\",\"plot_bgcolor\":\"#E5ECF6\",\"polar\":{\"angularaxis\":{\"gridcolor\":\"white\",\"linecolor\":\"white\",\"ticks\":\"\"},\"bgcolor\":\"#E5ECF6\",\"radialaxis\":{\"gridcolor\":\"white\",\"linecolor\":\"white\",\"ticks\":\"\"}},\"scene\":{\"xaxis\":{\"backgroundcolor\":\"#E5ECF6\",\"gridcolor\":\"white\",\"gridwidth\":2,\"linecolor\":\"white\",\"showbackground\":true,\"ticks\":\"\",\"zerolinecolor\":\"white\"},\"yaxis\":{\"backgroundcolor\":\"#E5ECF6\",\"gridcolor\":\"white\",\"gridwidth\":2,\"linecolor\":\"white\",\"showbackground\":true,\"ticks\":\"\",\"zerolinecolor\":\"white\"},\"zaxis\":{\"backgroundcolor\":\"#E5ECF6\",\"gridcolor\":\"white\",\"gridwidth\":2,\"linecolor\":\"white\",\"showbackground\":true,\"ticks\":\"\",\"zerolinecolor\":\"white\"}},\"shapedefaults\":{\"line\":{\"color\":\"#2a3f5f\"}},\"ternary\":{\"aaxis\":{\"gridcolor\":\"white\",\"linecolor\":\"white\",\"ticks\":\"\"},\"baxis\":{\"gridcolor\":\"white\",\"linecolor\":\"white\",\"ticks\":\"\"},\"bgcolor\":\"#E5ECF6\",\"caxis\":{\"gridcolor\":\"white\",\"linecolor\":\"white\",\"ticks\":\"\"}},\"title\":{\"x\":0.05},\"xaxis\":{\"automargin\":true,\"gridcolor\":\"white\",\"linecolor\":\"white\",\"ticks\":\"\",\"title\":{\"standoff\":15},\"zerolinecolor\":\"white\",\"zerolinewidth\":2},\"yaxis\":{\"automargin\":true,\"gridcolor\":\"white\",\"linecolor\":\"white\",\"ticks\":\"\",\"title\":{\"standoff\":15},\"zerolinecolor\":\"white\",\"zerolinewidth\":2}}},\"barmode\":\"overlay\"},                        {\"responsive\": true}                    ).then(function(){\n",
              "                            \n",
              "var gd = document.getElementById('924e5229-7978-44dd-b822-258aeeaa8411');\n",
              "var x = new MutationObserver(function (mutations, observer) {{\n",
              "        var display = window.getComputedStyle(gd).display;\n",
              "        if (!display || display === 'none') {{\n",
              "            console.log([gd, 'removed!']);\n",
              "            Plotly.purge(gd);\n",
              "            observer.disconnect();\n",
              "        }}\n",
              "}});\n",
              "\n",
              "// Listen for the removal of the full notebook cells\n",
              "var notebookContainer = gd.closest('#notebook-container');\n",
              "if (notebookContainer) {{\n",
              "    x.observe(notebookContainer, {childList: true});\n",
              "}}\n",
              "\n",
              "// Listen for the clearing of the current output cell\n",
              "var outputEl = gd.closest('.output');\n",
              "if (outputEl) {{\n",
              "    x.observe(outputEl, {childList: true});\n",
              "}}\n",
              "\n",
              "                        })                };                            </script>        </div>\n",
              "</body>\n",
              "</html>"
            ]
          },
          "metadata": {}
        }
      ],
      "source": [
        "import plotly.graph_objects as go\n",
        "\n",
        "fig = go.Figure()\n",
        "fig.add_trace(go.Histogram(x=size_of_news))\n",
        "fig.add_trace(go.Histogram(x=size_of_news_validation))\n",
        "\n",
        "# Overlay both histograms\n",
        "fig.update_layout(barmode='overlay')\n",
        "# Reduce opacity to see both histograms\n",
        "fig.update_traces(opacity=0.75)\n",
        "fig.show()"
      ]
    },
    {
      "cell_type": "code",
      "execution_count": null,
      "id": "80c59634",
      "metadata": {
        "colab": {
          "base_uri": "https://localhost:8080/"
        },
        "id": "80c59634",
        "outputId": "ee77102a-d83e-445f-9b61-f76f26b05f51"
      },
      "outputs": [
        {
          "output_type": "stream",
          "name": "stdout",
          "text": [
            "count    68560.000000\n",
            "mean        39.763477\n",
            "std         27.940715\n",
            "min          2.000000\n",
            "25%         19.000000\n",
            "50%         34.000000\n",
            "75%         54.000000\n",
            "max        909.000000\n",
            "dtype: float64\n"
          ]
        }
      ],
      "source": [
        "print(pd.Series(size_of_sentence).describe())"
      ]
    },
    {
      "cell_type": "code",
      "execution_count": null,
      "id": "580628c6",
      "metadata": {
        "colab": {
          "base_uri": "https://localhost:8080/"
        },
        "id": "580628c6",
        "outputId": "f06d6a91-c072-443d-9c54-41f04d6ea93b"
      },
      "outputs": [
        {
          "output_type": "stream",
          "name": "stdout",
          "text": [
            "count    5620.000000\n",
            "mean       40.329715\n",
            "std        25.986875\n",
            "min         2.000000\n",
            "25%        20.000000\n",
            "50%        37.000000\n",
            "75%        55.000000\n",
            "max       410.000000\n",
            "dtype: float64\n"
          ]
        }
      ],
      "source": [
        "print(pd.Series(size_of_sentence_validation).describe())"
      ]
    },
    {
      "cell_type": "code",
      "execution_count": null,
      "id": "bc320958",
      "metadata": {
        "scrolled": false,
        "colab": {
          "base_uri": "https://localhost:8080/",
          "height": 542
        },
        "id": "bc320958",
        "outputId": "3de0af9e-4c39-4fe2-a623-cc0c02e8b1fd"
      },
      "outputs": [
        {
          "output_type": "display_data",
          "data": {
            "text/html": [
              "<html>\n",
              "<head><meta charset=\"utf-8\" /></head>\n",
              "<body>\n",
              "    <div>            <script src=\"https://cdnjs.cloudflare.com/ajax/libs/mathjax/2.7.5/MathJax.js?config=TeX-AMS-MML_SVG\"></script><script type=\"text/javascript\">if (window.MathJax) {MathJax.Hub.Config({SVG: {font: \"STIX-Web\"}});}</script>                <script type=\"text/javascript\">window.PlotlyConfig = {MathJaxConfig: 'local'};</script>\n",
              "        <script src=\"https://cdn.plot.ly/plotly-2.8.3.min.js\"></script>                <div id=\"d7bfea5b-647f-4fd5-8fff-9bb1663948c4\" class=\"plotly-graph-div\" style=\"height:525px; width:100%;\"></div>            <script type=\"text/javascript\">                                    window.PLOTLYENV=window.PLOTLYENV || {};                                    if (document.getElementById(\"d7bfea5b-647f-4fd5-8fff-9bb1663948c4\")) {                    Plotly.newPlot(                        \"d7bfea5b-647f-4fd5-8fff-9bb1663948c4\",                        [{\"x\":[13,12,23,19,9,30,31,41,41,42,67,33,13,12,14,28,58,43,66,25,29,29,22,12,32,41,13,43,25,105,26,20,8,9,7,5,10,31,63,37,18,12,35,10,8,12,35,11,65,13,11,36,61,64,22,32,52,76,41,26,46,19,41,39,47,32,53,14,55,50,45,13,12,18,54,26,27,14,51,13,27,24,20,35,24,27,26,15,13,10,22,8,30,21,36,42,27,27,35,55,33,30,34,16,20,40,18,17,16,19,16,22,15,16,17,12,32,16,48,32,19,40,17,18,41,28,24,33,22,34,11,27,12,21,18,18,22,29,13,38,26,24,10,25,26,19,20,24,11,11,12,16,52,41,29,20,40,14,27,39,23,38,33,13,45,45,33,25,12,23,12,33,37,32,29,39,48,42,17,39,24,50,51,36,20,40,34,58,61,46,56,36,37,62,8,73,18,33,15,46,8,21,14,103,29,45,14,35,13,12,16,16,29,34,32,37,28,51,42,23,25,15,40,44,38,32,16,16,12,15,24,40,26,33,42,56,33,65,35,48,33,14,12,16,57,18,27,26,25,38,14,9,6,5,8,13,12,13,23,20,17,12,22,35,38,10,37,25,17,37,22,42,23,23,41,64,38,15,34,16,12,24,46,28,19,45,21,35,36,13,33,14,12,42,10,6,17,31,34,46,37,57,25,15,19,35,35,10,24,32,18,18,27,69,28,70,11,77,28,36,27,12,31,59,40,26,16,56,13,44,24,57,5,65,53,19,16,36,20,40,32,14,13,14,44,15,39,40,47,69,32,12,40,13,56,16,50,58,30,30,43,28,36,48,15,35,43,13,22,38,27,42,33,24,44,19,12,29,17,14,18,23,15,11,12,13,36,12,47,31,14,33,26,43,25,33,35,23,38,22,42,13,25,12,61,16,13,35,7,20,19,27,22,9,8,20,15,22,9,8,6,6,17,18,8,19,18,42,17,24,13,26,56,22,8,25,20,16,12,33,15,16,9,15,9,33,40,14,17,10,29,36,51,21,16,35,45,12,58,23,45,65,10,25,11,25,10,6,27,17,34,25,11,10,6,13,18,49,5,22,11,40,20,22,4,22,5,11,10,20,32,31,17,49,24,11,57,25,25,32,21,43,47,53,9,46,53,57,45,26,26,46,33,27,35,71,29,6,58,46,32,41,32,12,13,45,15,22,7,41,7,25,45,34,8,19,18,22,12,14,13,14,28,40,29,24,24,36,34,59,45,7,14,45,27,48,28,62,28,39,57,28,9,23,66,24,12,16,39,52,23,9,68,38,67,62,22,30,9,51,19,27,10,79,11,41,14,35,18,11,41,77,12,40,19,64,41,8,13,22,11,39,18,41,76,11,36,38,7,60,20,16,10,62,31,12,43,7,42,39,44,50,8,38,41,26,34,12,46,37,11,53,23,48,10,72,11,21,57,15,51,25,31,7,26,39,35,44,40,46,24,14,28,21,12,26,10,12,8,7,9,5,26,34,58,9,33,28,35,12,16,45,32,22,10,43,77,28,37,29,9,52,28,8,50,52,15,9,47,45,78,5,56,51,51,48,9,20,18,17,17,19,17,16,20,18,18,19,19,22,17,16,17,21,15,15,17,17,17,14,15,18,15,18,16,19,15,16,15,16,18,19,17,18,19,17,17,21,19,21,19,20,27,17,14,15,16,15,19,15,13,14,16,18,23,31,14,22,50,18,18,30,15,21,20,99,57,19,41,32,33,37,13,16,44,22,29,34,51,23,32,22,42,12,44,28,15,17,21,76,18,49,25,25,13,14,20,18,17,36,18,46,23,27,30,20,27,16,49,19,27,40,13,42,55,36,34,54,29,56,11,48,66,12,17,19,39,24,35,43,28,28,36,34,50,28,67,21,31,44,36,21,22,49,26,59,26,36,57,61,56,28,36,15,10,36,22,30,25,38,35,39,27,49,39,60,57,34,8,41,15,70,50,17,47,25,51,28,58,25,21,31,16,25,29,27,18,38,15,19,19,17,29,13,13,34,24,31,18,6,32,30,39,62,49,19,30,25,29,52,17,44,47,18,33,28,27,19,48,31,29,40,68,25,31,46,22,19,36,12,5,40,24,36,22,17,28,53,11,24,56,20,18,33,50,45,23,8,8,8,8,10,14,22,10,41,35,48,31,18,48,22,50,13,41,37,9,30,49,48,21,6,64,60,13,43,64,9,29,32,43,34,49,51,31,27,16,23,15,17,8,19,12,30,22,9,21,40,35,17,21,9,28,34,38,41,11,12,20,41,36,40,21,23,20,24,36,14,78,95,16,49,71,46,32,68,75,18,47,10,11,22,37,15,15,46,39,39,9,45,14,9,18,17,72,22,51,14,35,12,15,16,19,24,52,22,35,21,19,77,19,64,36,16,16,11,31,13,25,23,31,40,34,30,13,25,13,5,7,10,8,25,9,5,75,11,34,34,7,34,15,27,21,20,16,18,41,32,15,48,26,10,37,32,8,35,28,12,25,17,32,17,50,27,25,22,25,38,16,8,7,8,8,4,31,17,16,20,12,15,15,18,30,17,23,18,24,39,21,52,9,19,32,15,12,23,40,32,17,36,29,14,25,19,25,47,11,53,15,19,7,6,8,49,13,46,31,11,27,9,8,11,23,63,25,16,54,48,52,59,49,58,46,49,39,12,18,14,55,34,35,17,26,16,44,44,25,16,27,17,39,23,17,15,27,11,11,13,14,14,28,21,12,8,12,16,12,19,11,11,19,28,14,19,37,40,19,31,17,7,49,14,45,13,26,22,29,41,40,22,39,33,15,34,20,19,26,24,25,28,51,32,15,26,33,59,34,43,46,83,52,78,24,12,26,10,13,10,10,3,12,39,44,64,10,50,12,32,31,40,11,15,26,23,9,19,20,53,15,37,10,47,41,10,20,15,9,13,15,6,28,31,61,52,22,26,55,33,54,12,22,45,29,9,13,40,22,25,12,20,75,21,22,18,26,10,21,23,11,13,37,35,26,32,41,30,18,38,23,11,13,14,22,15,27,24,29,26,15,27,4,10,30,52,46,10,10,13,58,26,43,24,27,19,23,20,18,34,30,29,10,6,57,24,44,20,7,11,15,24,28,54,21,8,53,40,19,10,57,42,9,41,28,25,44,17,8,9,8,46,14,28,6,25,52,33,16,33,13,41,7,31,22,40,12,16,51,9,47,47,29,62,38,6,70,31,58,45,29,46,11,54,44,9,52,14,21,24,24,11,14,14,6,17,13,8,10,11,9,11,17,16,7,64,49,29,5,7,7,6,6,7,7,9,5,5,51,48,67,51,60,28,40,18,41,39,62,11,7,52,35,12,24,32,12,25,46,31,19,30,14,43,43,13,12,11,12,35,41,25,22,47,13,27,27,35,16,52,35,75,51,22,43,46,74,36,59,29,21,57,42,49,60,56,22,30,43,14,13,36,18,49,49,15,22,24,36,33,51,33,34,32,33,26,32,16,47,13,38,11,46,35,14,34,58,10,47,27,27,12,51,44,21,64,68,14,14,11,16,10,30,33,48,14,60,14,26,36,10,33,25,50,20,47,36,38,57,40,55,54,43,46,12,53,78,27,9,25,15,24,38,12,29,18,27,51,52,43,24,34,23,11,10,9,8,12,15,45,28,57,54,19,16,21,7,36,57,17,34,28,44,76,27,34,45,63,27,63,60,48,72,23,37,37,38,15,48,35,30,10,59,31,45,44,93,110,13,34,18,68,6,10,9,29,23,45,33,43,49,60,34,53,10,43,36,19,57,40,49,16,9,20,6,8,7,12,13,30,53,29,17,19,52,32,22,39,19,19,17,17,16,21,17,15,12,19,16,24,14,26,12,24,28,23,39,25,44,26,15,63,19,27,59,29,35,76,51,28,50,46,45,28,38,20,14,25,55,31,23,27,38,37,22,72,8,11,13,13,13,11,46,54,26,22,31,7,16,4,16,6,15,14,4,32,38,22,10,26,47,24,60,40,27,18,33,43,50,36,42,43,33,64,32,47,54,20,11,13,33,39,53,35,23,21,9,35,12,13,14,12,64,35,32,73,32,19,17,66,16,16,16,9,13,24,27,12,50,28,39,48,19,23,16,27,41,26,29,27,7,39,53,9,9,23,72,26,23,27,27,32,20,66,11,36,42,34,54,42,52,13,32,28,24,29,12,52,24,17,37,34,15,13,16,19,14,25,22,9,37,16,26,9,21,18,41,30,24,6,11,17,9,19,12,5,7,12,13,26,20,27,20,13,45,11,20,16,13,42,5,33,29,23,17,12,12,47,45,66,14,44,37,16,11,28,22,15,9,23,25,20,23,27,30,20,15,16,22,37,12,8,41,51,42,37,21,49,39,8,12,10,11,11,25,28,11,30,26,17,17,10,10,24,9,12,6,39,26,45,24,17,15,14,14,48,33,7,12,22,25,16,19,7,25,20,25,35,21,6,40,39,32,12,18,42,7,42,26,7,23,73,7,23,3,9,5,11,19,16,12,25,14,18,9,47,26,19,43,30,32,12,66,73,30,38,23,48,14,19,10,32,38,32,16,45,12,52,6,41,20,42,45,22,7,30,35,51,31,27,29,6,50,28,46,36,7,60,25,25,32,19,21,12,5,19,55,23,43,37,32,18,40,23,7,29,39,41,60,16,8,29,62,43,18,23,10,8,37,9,40,10,45,37,28,17,19,27,67,40,18,25,32,13,10,28,37,31,23,36,19,11,9,11,17,21,11,15,14,11,8,15,14,23,19,11,30,16,14,40,28,37,27,40,55,15,43,10,25,7,14,21,45,27,43,5,8,12,13,24,12,22,25,35,26,48,32,7,35,17,37,57,29,10,33,27,22,25,9,65,38,39,24,48,28,20,30,26,25,40,39,25,23,20,29,36,34,48,29,48,23,35,21,15,43,8,50,31,24,31,26,17,35,15,39,26,24,23,19,38,23,7,34,67,37,22,27,30,34,10,21,27,16,59,19,11,12,14,10,15,45,31,18,35,21,46,20,40,7,24,15,22,19,8,17,18,17,14,14,17,20,7,33,16,32,14,16,10,45,20,19,25,42,27,37,7,33,12,28,21,24,36,22,16,37,8,21,11,37,16,28,15,18,5,15,37,34,24,32,40,23,49,52,6,24,18,41,28,32,13,47,7,34,16,30,13,24,61,18,15,23,17,29,26,11,35,21,27,13,41,10,45,72,13,47,15,13,17,15,42,27,56,52,40,50,20,20,28,54,21,25,33,16,12,32,65,10,35,36,22,9,21,18,11,21,9,22,10,24,12,5,57,12,33,17,16,16,16,17,30,19,20,19,21,28,22,23,32,22,22,23,23,23,12,19,17,61,14,31,18,9,63,10,16,29,26,16,39,22,12,6,11,13,14,18,16,21,11,11,18,32,14,40,24,14,8,12,12,12,7,37,31,9,21,38,24,33,22,11,39,60,12,41,61,32,40,45,38,54,18,20,15,29,27,28,19,26,55,47,31,44,31,13,33,7,9,29,24,21,27,13,13,17,5,6,6,16,19,29,21,29,25,29,17,44,15,31,18,7,10,10,26,10,25,15,37,42,13,10,12,20,17,16,19,42,23,38,39,24,27,12,35,57,19,38,24,18,20,14,9,19,22,9,25,25,32,11,17,19,17,24,14,25,14,24,29,10,20,21,11,26,35,12,9,25,19,17,20,6,35,6,8,14,19,12,30,37,13,13,16,12,14,10,14,9,20,14,26,19,10,25,33,11,13,55,10,9,29,40,32,15,14,25,17,6,47,48,35,45,36,30,25,27,22,21,23,32,14,13,16,10,36,18,11,54,29,11,33,21,11,63,31,25,17,49,21,9,19,18,20,11,9,37,39,37,13,11,17,16,14,29,13,14,15,38,15,19,27,60,20,47,32,8,20,12,29,22,16,6,32,41,38,31,24,18,29,26,19,23,17,37,41,28,12,38,12,12,20,20,13,11,43,16,17,23,25,25,33,30,12,52,37,25,9,11,4,7,7,9,8,8,28,35,15,17,10,14,19,39,22,12,27,30,15,38,19,16,26,32,30,12,18,33,48,24,14,37,44,12,25,8,16,5,8,15,27,25,12,8,9,59,32,30,12,37,13,11,21,23,20,8,8,24,28,12,15,32,40,18,25,8,7,22,16,19,16,21,23,19,20,4,41,34,29,32,21,14,5,39,17,9,30,26,24,30,6,16,55,13,33,15,5,28,13,37,17,10,19,24,11,30,23,13,7,29,15,8,17,29,30,43,17,25,30,23,8,14,12,9,13,13,12,13,20,13,38,7,20,9,10,15,61,9,24,20,48,38,34,20,25,59,42,22,36,9,46,9,41,24,21,37,14,7,19,49,16,25,8,57,33,27,40,29,11,8,18,18,13,25,53,10,9,20,41,19,8,7,28,14,21,34,43,45,16,26,23,12,9,18,23,10,8,14,10,4,3,2,15,6,10,10,3,5,31,29,6,7,7,13,21,5,4,5,9,34,22,46,17,13,26,10,30,14,21,18,14,9,18,26,15,32,8,24,19,15,12,9,12,18,23,15,9,28,13,14,33,31,23,16,13,12,23,27,9,16,11,26,18,18,19,15,8,22,17,36,13,19,17,16,28,27,18,49,36,6,32,7,11,22,26,11,36,11,17,11,7,20,26,28,12,12,30,16,16,14,13,31,21,9,57,21,22,24,10,19,10,4,12,10,14,13,25,38,40,28,7,39,11,21,24,7,30,11,20,18,11,12,19,19,23,11,12,6,7,7,15,14,5,22,20,11,9,20,28,20,10,19,16,24,18,13,17,19,11,19,20,14,18,30,14,41,20,23,19,21,38,32,24,46,65,45,12,17,24,14,31,23,29,24,32,21,20,24,39,15,17,44,22,15,31,32,18,16,16,29,21,34,13,15,33,17,11,25,40,29,19,28,10,20,17,7,26,22,20,19,13,13,39,14,10,13,21,15,42,19,21,14,25,14,29,27,22,7,11,15,16,26,41,37,53,15,10,13,8,8,20,26,42,29,25,21,14,24,13,18,19,25,14,21,16,17,12,20,10,17,31,24,21,17,17,23,33,25,27,6,50,19,24,21,27,19,17,14,29,29,14,41,5,35,17,20,20,38,51,13,7,56,22,7,15,17,12,5,26,23,9,33,29,13,22,24,29,32,9,27,30,42,24,35,10,16,21,38,50,34,41,6,20,34,21,44,52,25,35,44,18,56,56,47,57,22,42,12,24,11,49,40,24,21,8,56,27,42,41,51,37,27,9,29,21,25,6,25,33,27,23,52,11,10,14,8,26,24,7,12,23,19,37,28,50,48,43,5,29,6,9,8,8,8,15,9,12,10,14,6,37,14,53,23,40,33,26,16,43,41,20,61,35,40,44,32,34,10,18,43,11,40,35,54,34,6,15,10,4,11,18,9,7,33,8,32,29,14,16,42,25,37,42,28,8,27,6,26,28,24,25,26,13,19,29,32,17,34,28,29,24,9,39,18,25,23,15,36,55,55,34,37,26,11,42,32,48,15,44,50,53,17,51,25,24,32,20,14,26,21,49,54,48,7,58,53,31,28,9,26,22,18,16,13,9,41,14,7,10,47,26,17,34,21,20,15,19,26,38,14,34,21,15,26,19,19,42,32,29,17,23,19,46,34,5,29,26,12,25,22,44,19,15,24,12,24,52,29,20,41,16,36,12,34,13,10,16,47,41,30,27,29,35,35,16,29,37,28,17,33,20,32,16,60,26,31,11,40,38,14,43,13,17,21,54,10,16,23,35,12,19,30,14,27,31,27,21,18,21,29,15,19,17,22,17,23,14,11,26,10,12,9,19,16,22,18,25,12,7,7,6,10,8,27,21,14,29,30,14,22,14,20,23,21,9,18,41,42,28,13,36,21,8,22,13,55,14,18,13,16,20,52,10,16,32,18,24,31,21,51,43,32,20,25,12,15,14,7,15,14,14,12,22,30,24,31,39,23,45,28,11,38,19,46,30,12,32,35,17,22,32,20,38,42,28,31,22,29,21,17,23,37,39,27,25,23,19,48,21,16,43,20,36,48,46,68,31,42,28,39,29,14,31,20,44,29,11,26,38,26,41,42,12,25,32,31,57,15,19,13,19,17,28,20,33,9,23,29,30,24,13,33,60,37,31,14,15,28,36,27,27,28,22,12,21,8,15,22,17,17,31,16,24,19,33,6,45,56,13,19,29,30,5,44,33,19,28,23,26,29,21,33,20,21,20,23,10,18,20,14,17,75,22,40,28,13,17,15,22,29,43,31,36,31,13,22,29,20,47,24,19,43,36,18,39,71,29,27,26,23,33,14,36,24,25,10,65,22,14,11,49,125,84,57,76,51,30,50,6,32,103,141,11,31,17,10,15,12,6,77,93,55,41,164,73,94,68,33,67,12,54,51,81,124,69,53,60,55,93,119,148,33,92,75,71,10,25,19,15,96,38,10,7,7,10,8,7,6,6,6,9,7,6,14,9,103,11,304,8,28,88,94,85,96,10,79,19,45,104,94,94,13,40,95,41,10,91,122,26,57,63,59,45,10,39,101,88,60,41,63,100,86,44,70,41,7,62,56,75,36,40,31,29,2,42,38,22,19,23,22,24,35,42,20,36,40,2,38,37,37,29,30,34,31,31,41,2,42,30,41,26,26,28,13,26,9,19,66,61,24,31,35,43,17,31,62,51,17,24,157,62,9,83,30,36,53,27,51,131,32,145,26,22,184,88,64,56,65,118,32,46,15,22,25,22,72,31,94,6,36,10,13,21,13,38,8,123,60,59,5,78,74,7,93,79,10,118,61,66,9,106,65,72,6,86,71,79,8,78,81,62,9,44,60,53,5,62,16,83,76,31,6,133,6,46,51,6,86,37,124,8,154,43,18,35,14,11,10,62,44,13,23,11,18,10,50,104,16,144,16,50,27,13,49,6,56,21,13,7,57,6,81,43,83,84,6,49,107,8,82,24,23,13,15,15,30,10,118,18,49,102,9,90,26,57,69,42,10,81,36,80,54,154,38,127,51,103,75,15,44,113,66,201,60,35,10,138,77,89,96,69,56,104,99,52,57,89,134,64,86,22,114,78,45,51,67,117,71,44,73,86,121,16,68,6,73,78,55,7,71,57,60,26,7,91,107,7,98,55,72,8,74,27,7,48,45,13,18,123,67,41,4,82,56,9,59,53,76,77,71,15,67,281,44,18,40,25,48,104,44,172,72,65,23,9,2,15,22,9,167,82,84,12,81,85,71,111,103,11,67,63,8,45,65,80,68,55,64,68,69,11,81,8,81,77,122,7,121,89,7,91,58,6,70,69,57,8,66,67,52,99,94,7,83,71,18,44,9,16,18,16,25,121,105,31,29,8,88,109,60,81,12,10,93,50,6,48,40,23,18,104,92,9,13,95,12,70,13,64,15,35,14,49,13,59,14,17,14,83,12,37,15,40,16,67,65,36,146,86,12,65,160,69,90,73,14,72,68,57,66,55,115,41,27,52,8,59,74,87,72,28,134,42,35,47,11,91,56,71,36,48,49,70,15,66,60,133,108,13,63,77,52,20,120,91,126,39,17,51,8,13,24,12,19,14,11,9,94,12,91,35,96,91,82,70,13,23,73,44,144,118,74,62,58,58,12,47,92,51,84,22,62,25,145,17,56,20,73,13,124,15,48,18,52,141,22,87,16,27,10,14,13,67,19,76,16,68,69,122,124,89,72,93,77,83,39,12,117,75,92,11,118,46,76,22,71,102,165,16,75,62,20,81,19,13,117,82,145,127,87,13,98,75,81,76,60,43,113,12,71,66,15,72,49,74,62,13,94,94,81,88,118,104,42,18,45,30,118,119,7,78,97,40,25,54,108,120,43,59,13,139,82,65,18,7,53,87,7,87,76,90,109,44,9,57,92,67,35,78,59,68,6,77,59,100,118,106,9,87,59,45,59,57,10,92,73,79,75,58,88,70,61,103,58,47,66,45,52,54,152,79,14,61,47,75,79,87,52,44,28,77,19,100,69,12,76,82,45,61,61,39,48,51,82,55,17,39,105,28,47,77,28,64,72,84,22,88,3,13,22,105,27,72,11,16,104,38,15,65,95,58,68,41,62,116,79,35,11,20,14,10,56,121,80,69,83,60,73,34,63,22,62,61,40,44,50,102,16,36,16,45,13,26,76,43,10,69,25,62,11,141,142,10,103,9,114,6,80,89,11,81,106,141,10,121,11,110,13,122,96,10,66,54,48,11,109,8,73,10,68,59,7,101,5,86,4,77,26,6,112,28,119,22,19,17,243,69,31,19,14,28,48,27,20,7,6,8,10,10,6,6,8,19,5,25,9,20,32,72,17,51,92,149,69,47,77,48,69,22,63,12,34,103,67,73,55,99,72,9,44,74,96,117,112,90,79,90,66,9,40,22,94,62,61,69,53,94,72,80,12,23,7,5,12,54,9,36,29,7,48,53,73,72,38,13,48,21,105,108,86,74,57,7,50,61,56,74,51,75,7,58,43,60,7,78,47,85,46,8,6,70,139,79,80,103,74,84,90,119,11,40,65,40,95,119,70,18,14,20,14,73,23,47,23,10,50,232,145,68,12,29,72,71,87,65,59,86,80,123,81,14,49,67,88,116,63,8,89,86,44,7,118,68,92,13,32,120,108,53,93,21,38,69,72,45,32,59,55,31,85,14,25,67,102,102,50,72,85,126,200,12,37,20,126,103,89,62,174,92,14,26,9,58,143,67,63,33,63,53,10,36,104,59,100,76,127,83,71,42,63,84,108,117,79,70,55,18,63,135,66,59,93,78,40,52,50,90,82,9,22,89,52,61,11,24,62,64,38,74,17,18,20,9,12,19,88,55,8,145,75,8,48,56,101,7,72,10,100,99,9,64,32,63,14,51,74,75,88,73,13,66,69,89,8,91,80,58,56,14,35,68,82,74,86,58,97,12,43,103,103,130,130,114,68,54,77,89,96,115,14,54,81,90,31,56,81,86,37,95,93,45,44,34,13,25,14,75,48,61,89,18,21,6,85,65,95,62,33,100,251,15,50,15,47,90,82,82,89,65,14,27,17,11,43,33,73,15,22,10,6,11,31,26,8,8,8,18,56,64,17,54,19,31,54,115,15,29,88,98,59,75,13,41,45,51,47,16,17,21,17,106,32,8,42,191,122,72,61,6,8,5,8,10,10,8,7,4,40,16,53,17,5,8,16,6,10,15,7,12,20,14,11,34,8,27,12,12,11,11,7,11,8,20,19,32,15,23,15,12,23,20,6,11,30,14,4,53,17,10,19,16,18,5,13,29,7,96,50,147,431,419,23,7,114,315,6,131,101,42,8,129,80,20,218,18,79,182,71,97,85,34,86,6,10,43,59,66,125,83,59,83,153,50,8,69,86,166,130,36,18,31,41,89,60,102,29,40,86,183,43,68,65,99,64,96,13,36,85,97,90,80,22,35,35,101,100,122,81,39,8,19,13,133,123,106,88,12,20,20,16,25,28,93,56,99,26,180,16,19,80,84,88,40,102,73,115,33,145,96,15,146,74,164,113,63,190,120,97,168,81,96,74,100,198,99,85,9,82,95,142,43,50,86,155,88,69,131,62,136,18,23,24,13,71,222,64,47,188,79,109,90,66,14,20,22,76,63,84,63,90,12,20,20,11,94,91,148,101,34,12,22,115,74,44,12,13,18,21,42,173,36,77,13,36,30,65,15,27,14,89,77,76,13,13,22,71,36,41,52,40,12,26,35,28,13,13,26,31,11,46,19,24,13,10,15,10,158,20,80,21,154,27,13,10,161,131,133,76,50,13,20,28,39,92,64,52,100,83,56,75,25,22,27,28,23,26,27,15,32,23,7,31,30,13,31,28,23,30,30,28,26,22,13,24,29,2,33,35,19,23,23,5,22,16,24,24,25,18,14,25,10,20,30,26,14,22,33,25,24,33,23,22,14,15,21,27,34,28,32,236,16,24,27,26,23,25,24,26,33,30,24,22,20,21,29,10,32,20,25,25,20,20,22,28,25,15,7,27,28,24,18,24,15,29,21,24,51,27,12,25,21,30,21,23,29,3,27,17,24,19,26,31,32,29,16,26,33,31,2,30,30,9,28,27,27,34,26,23,10,29,25,6,25,23,26,15,31,33,27,24,8,25,27,27,9,14,21,20,23,8,8,18,8,14,8,22,8,31,167,60,42,16,26,14,24,34,26,25,34,27,25,27,23,30,26,35,25,29,47,24,53,25,4,32,22,23,27,17,9,19,25,29,32,15,24,30,27,29,34,12,28,32,28,23,11,29,22,25,27,30,19,38,11,26,26,10,26,27,27,29,15,26,31,38,32,25,33,29,30,36,6,11,26,27,33,7,32,27,21,21,31,32,38,4,29,29,10,25,33,30,28,27,33,26,33,23,26,29,26,18,23,32,34,30,17,25,27,14,34,21,23,22,32,29,23,30,25,9,28,37,25,21,14,12,11,20,2,22,24,28,27,31,17,31,18,24,28,20,24,30,35,39,27,36,32,27,31,34,24,35,21,12,17,21,29,34,4,54,28,6,21,7,29,2,26,13,9,20,29,28,24,11,28,24,29,3,25,27,24,27,30,62,28,25,27,25,17,26,25,28,15,24,28,24,23,27,32,19,25,21,28,32,21,22,6,18,30,21,26,23,2,26,22,26,23,41,30,18,28,4,20,60,187,107,6,46,82,50,73,40,57,58,31,22,88,62,26,14,25,14,8,19,11,34,30,31,13,12,10,11,11,13,9,9,9,81,31,28,26,27,22,28,32,16,20,25,12,11,95,58,126,114,90,112,148,101,50,46,70,15,11,10,28,8,14,62,45,3,69,33,89,123,181,70,68,17,16,29,23,15,66,91,7,135,56,93,86,117,6,10,80,78,77,78,9,127,69,96,97,101,78,11,114,99,59,56,152,125,97,96,9,104,29,83,92,67,9,18,141,50,8,100,45,90,7,77,60,79,8,94,59,18,12,8,49,81,85,34,8,11,66,71,47,10,10,12,17,11,53,78,68,103,48,48,105,129,52,87,54,97,72,95,72,17,15,6,11,20,98,73,79,87,35,52,19,99,55,14,23,25,79,89,65,54,115,129,100,17,20,24,105,74,39,79,98,97,72,73,75,56,17,41,26,22,14,114,131,67,47,84,98,140,96,59,10,64,81,49,58,59,63,102,85,52,65,51,98,59,105,102,101,65,90,47,16,15,13,31,11,10,10,10,4,11,10,4,10,8,11,10,8,10,12,4,11,11,11,11,10,11,11,12,10,4,12,10,4,14,12,107,19,18,12,16,105,69,114,11,76,88,14,76,72,69,32,12,13,18,89,116,100,63,127,137,67,108,73,33,95,17,142,110,82,21,99,104,15,19,20,97,41,71,13,58,22,99,65,60,17,19,20,50,63,62,12,26,8,20,14,63,69,52,49,94,97,113,67,96,8,60,128,89,9,116,79,61,114,122,78,79,75,8,65,80,13,68,53,68,63,82,113,68,18,78,15,25,18,92,62,55,54,38,80,45,54,54,38,77,17,46,180,124,257,38,30,9,12,36,37,14,15,8,18,19,37,7,22,29,20,32,19,9,11,12,24,11,43,115,88,43,90,8,83,112,9,83,38,10,60,49,5,82,88,41,123,42,151,58,8,109,93,21,66,11,76,12,109,110,149,80,75,43,43,15,56,19,129,36,90,75,101,5,16,130,23,157,143,8,13,101,150,9,106,58,89,10,69,90,17,34,105,24,70,8,119,13,16,15,18,75,75,67,105,90,135,109,76,62,81,9,9,12,6,18,8,86,54,61,64,150,17,114,56,107,70,61,30,11,13,11,21,74,87,62,20,116,115,81,75,122,15,26,23,94,65,140,71,71,37,92,39,109,82,8,19,22,89,129,28,60,61,80,16,13,12,16,6,74,88,64,139,64,31,14,18,27,103,27,109,45,119,84,72,56,23,25,14,36,35,33,15,49,37,36,16,17,45,22,42,28,29,192,16,28,11,78,75,82,95,105,109,44,96,45,13,16,12,170,83,68,91,49,12,19,9,18,78,100,60,81,13,20,14,62,78,97,97,34,100,46,104,52,82,11,23,33,12,111,307,44,43,11,16,11,35,107,16,18,101,90,80,97,17,17,26,95,81,142,129,52,58,51,129,15,97,134,30,16,141,14,19,7,11,110,62,19,31,46,76,73,63,48,16,21,11,16,98,82,79,80,49,54,126,82,34,12,19,6,24,9,78,31,90,74,36,81,90,61,90,76,11,20,31,53,43,40,62,24,113,39,23,31,21,37,11,25,13,13,5,5,11,16,7,76,73,91,59,55,18,18,17,10,26,168,6,93,81,68,58,83,70,70,61,14,100,52,22,57,95,141,110,11,54,14,37,7,13,97,116,89,66,105,14,15,13,14,362,28,17,11,26,26,21,37,15,34,15,14,16,7,13,37,37,14,8,37,30,14,40,20,24,19,27,7,22,60,18,19,14,73,92,16,22,22,23,14,49,12,41,20,55,99,59,108,52,11,24,15,118,87,102,92,173,68,12,12,10,12,88,70,148,19,31,117,70,19,31,93,35,52,15,17,12,74,21,123,12,11,17,85,41,15,20,59,44,90,14,36,25,106,11,76,55,86,59,10,86,107,142,90,6,124,80,108,80,99,55,87,147,64,64,6,108,78,86,8,63,33,9,63,13,49,12,95,46,14,15,16,20,11,102,75,62,93,67,139,74,95,86,80,56,126,11,22,12,112,66,36,35,47,63,301,73,68,15,31,16,22,26,33,51,174,48,32,174,47,30,16,209,17,23,11,14,38,75,10,70,96,24,67,8,30,43,41,15,100,10,67,54,62,8,77,94,91,7,63,78,62,6,70,32,50,41,96,6,77,34,86,69,56,6,65,36,53,8,78,96,76,10,20,64,77,7,18,73,105,8,84,105,18,66,8,99,64,5,72,62,74,42,16,30,22,8,72,11,156,130,75,62,80,10,61,31,22,70,8,81,31,108,111,72,172,86,82,18,91,8,84,96,86,10,38,21,5,84,105,127,102,41,75,55,92,18,32,58,86,66,56,8,15,22,10,12,10,54,58,44,7,106,82,70,9,93,69,76,94,6,90,158,52,73,151,7,61,52,44,73,86,68,10,102,54,56,11,64,69,74,44,8,39,52,104,73,121,90,52,14,21,13,5,25,86,64,72,78,16,28,14,16,83,61,85,59,84,28,120,46,8,80,96,105,8,102,109,105,28,8,91,61,87,44,14,67,82,76,16,31,15,8,74,64,60,46,80,104,72,88,32,41,11,22,24,61,12,133,94,67,64,100,12,34,19,18,21,86,95,86,86,45,52,14,43,67,54,15,63,9,90,25,30,11,70,30,114,9,67,10,40,10,103,44,22,60,16,60,8,107,12,92,48,8,13,24,19,12,11,98,65,12,79,77,93,111,9,87,37,9,93,49,80,6,109,5,84,36,49,55,77,49,10,111,60,8,81,8,69,48,8,55,62,44,8,87,67,87,79,8,105,94,11,62,44,40,7,106,78,56,9,48,13,26,39,113,81,93,138,99,12,17,13,11,134,85,66,82,68,69,93,69,65,68,79,10,18,11,9,91,20,10,115,97,108,165,49,8,85,33,60,75,49,52,48,113,70,84,65,12,91,73,78,19,13,17,15,85,52,27,26,72,82,12,23,32,18,100,58,70,92,55,57,87,18,23,14,12,100,65,82,38,103,96,83,38,113,84,19,26,39,5,80,40,82,65,63,93,42,48,48,46,12,84,104,30,61,117,100,83,10,100,66,101,14,84,98,91,98,7,43,81,57,94,109,91,46,83,40,55,10,60,95,50,49,73,59,8,108,92,78,101,42,21,65,74,39,14,101,139,78,71,39,86,21,33,10,19,87,26,40,67,113,125,17,38,13,21,11,96,52,42,69,35,14,14,19,65,115,24,65,13,50,10,70,31,115,39,39,10,37,30,43,16,27,22,70,40,91,39,70,107,54,79,37,113,108,77,31,10,21,20,139,49,61,59,18,23,13,89,46,71,108,54,79,36,113,108,77,31,12,18,68,61,15,13,23,27,14,21,10,7,134,58,72,68,33,54,15,25,19,121,147,100,31,90,134,103,75,74,114,60,37,96,83,98,14,18,19,69,63,13,19,30,75,16,62,30,27,29,26,20,43,15,46,12,45,7,18,67,38,39,17,70,14,16,12,108,13,80,16,30,26,83,31,147,135,82,47,66,69,105,100,107,86,24,21,39,19,17,51,72,78,92,56,41,51,147,105,69,53,26,41,67,151,20,34,16,37,47,107,112,114,95,144,65,96,72,70,140,89,20,18,18,18,21,18,29,15,77,80,65,66,139,64,46,20,14,18,66,78,99,77,10,28,13,56,99,108,83,67,40,24,10,30,10,102,136,87,35,75,10,22,10,83,75,37,71,75,64,23,34,7,16,16,22,105,52,71,102,98,71,49,8,38,19,11,73,44,171,51,73,86,71,52,75,29,105,75,18,46,6,17,82,112,150,84,73,102,130,83,45,89,60,72,86,19,101,64,78,94,75,93,10,13,25,24,66,76,79,46,141,92,17,33,35,72,83,65,75,56,73,36,12,37,48,108,70,53,87,12,27,15,16,9,23,83,63,113,49,15,65,55,109,78,190,169,8,96,77,76,92,63,73,101,65,31,22,32,11,12,69,37,19,66,76,16,18,17,6,15,81,50,33,9,18,68,95,61,55,11,19,26,16,70,129,36,88,119,97,87,74,124,75,141,67,56,78,29,88,115,89,33,94,105,117,49,116,16,29,99,57,97,61,72,79,18,22,12,12,12,74,29,44,69,18,14,18,79,34,51,44,142,52,13,10,16,10,52,20,94,51,8,13,18,19,17,72,72,86,85,102,43,82,81,134,69,101,74,14,18,16,14,11,111,108,50,110,67,48,71,105,87,92,123,66,87,130,42,12,16,16,20,58,6,84,68,77,53,59,6,117,80,50,85,70,57,74,64,15,10,7,80,10,67,77,8,16,7,124,100,10,100,92,9,44,89,50,8,81,82,79,5,84,44,93,12,45,16,59,40,133,16,32,25,90,56,32,22,18,36,41,85,24,34,22,11,22,43,13,65,58,41,17,10,18,11,10,14,79,50,72,90,75,10,72,23,9,57,110,15,21,11,25,49,54,19,21,52,82,90,14,39,25,30,15,37,8,21,23,82,58,32,52,48,56,39,18,17,17,26,12,60,11,12,13,12,9,11,12,12,11,11,10,9,107,73,44,8,42,87,87,48,88,28,16,28,16,72,37,21,47,73,74,92,13,18,19,23,12,96,82,93,55,58,64,78,73,37,7,36,30,79,39,31,78,69,43,74,100,14,30,30,13,131,19,83,66,22,84,12,70,27,45,28,46,19,98,201,165,10,20,42,76,79,63,89,91,76,84,8,128,95,39,93,56,113,76,53,17,21,39,79,52,43,8,70,19,93,33,90,118,9,50,91,88,87,59,57,91,59,12,123,112,103,98,68,63,79,76,13,31,24,93,51,69,111,6,104,84,59,90,79,9,101,78,16,45,19,114,105,102,79,85,134,76,10,55,42,44,93,122,75,87,91,39,116,56,99,11,79,49,68,86,83,64,12,43,45,73,103,45,10,10,12,11,42,23,21,29,30,18,19,12,83,81,84,20,90,6,109,166,9,79,45,57,93,80,19,23,8,4,73,77,72,72,69,65,42,56,69,73,80,76,10,20,30,48,9,9,17,24,28,26,97,125,116,106,79,99,18,25,71,107,106,99,80,81,100,130,25,45,13,17,116,98,63,230,14,31,15,87,48,67,17,47,56,68,50,51,82,15,21,19,16,131,108,106,40,16,92,42,56,99,19,29,8,82,106,105,93,44,70,18,15,20,57,33,53,73,131,123,105,83,11,93,94,75,82,49,10,23,16,79,75,54,94,101,109,92,12,23,13,50,97,80,16,19,28,11,90,37,93,92,106,54,93,100,92,47,73,84,78,78,61,13,17,12,14,104,100,79,123,91,41,106,78,84,85,46,16,20,56,138,41,50,76,126,74,18,18,7,80,93,106,39,51,13,18,13,117,74,56,8,59,61,104,7,95,34,8,42,66,13,14,22,15,89,53,40,55,87,47,98,69,14,22,11,26,93,75,86,21,91,11,81,95,81,91,13,29,101,40,92,75,65,26,54,70,67,14,22,23,46,27,41,216,78,31,41,54,47,14,29,6,13,83,68,60,72,73,60,96,67,140,117,112,140,79,80,62,54,15,22,13,29,70,115,51,114,48,70,72,62,47,10,23,25,17,53,67,84,62,36,90,78,53,12,13,27,15,11,121,9,53,74,30,68,43,7,54,134,24,43,20,17,4,91,126,24,40,59,10,117,70,9,77,41,87,8,83,39,55,43,8,49,92,7,92,50,8,40,26,66,13,12,18,16,20,10,14,80,120,11,92,120,92,69,84,8,102,78,111,76,94,85,6,105,88,11,94,88,45,6,75,52,102,10,89,43,5,79,62,71,14,12,45,24,14,104,91,94,58,66,105,119,63,22,40,13,10,17,36,9,16,82,100,103,100,75,151,211,11,12,27,17,15,102,55,54,10,12,13,18,33,106,56,37,94,77,131,47,93,85,85,101,59,121,9,12,16,8,13,12,93,32,69,76,84,117,113,63,63,40,67,72,39,30,99,11,12,18,92,57,53,59,18,75,19,99,28,17,11,12,24,18,44,54,36,86,32,94,98,10,12,14,15,69,50,101,105,66,52,15,12,10,17,120,13,78,24,13,39,13,12,27,16,74,26,39,24,33,22,32,27,43,24,69,88,13,10,16,99,90,53,15,12,22,16,21,88,12,97,100,50,34,100,63,65,42,173,70,48,57,66,63,82,57,40,83,83,96,45,37,81,86,81,47,17,12,17,8,13,8,18,80,35,78,88,7,89,117,9,68,98,127,64,73,103,9,95,90,35,8,59,68,40,11,12,13,66,84,85,44,81,13,12,19,74,33,70,83,70,60,72,76,71,52,13,12,19,13,30,79,35,49,103,69,69,14,12,33,12,13,57,54,78,67,46,115,92,12,86,55,107,48,8,52,57,99,56,7,113,10,78,44,42,54,13,46,121,9,55,41,19,46,5,20,66,24,72,59,10,103,74,46,79,10,102,38,71,7,80,87,11,84,71,64,57,91,8,80,91,38,85,108,8,44,119,107,111,93,16,16,29,52,54,93,58,18,77,22,12,23,27,23,10,53,48,95,75,67,116,16,28,18,37,108,79,72,143,137,19,115,66,92,90,34,31,50,114,13,31,35,40,118,61,104,87,85,57,64,83,88,61,14,30,15,6,24,51,64,62,67,118,68,67,116,205,59,72,57,52,69,114,84,12,27,23,20,106,8,109,89,105,6,93,102,7,84,86,87,9,70,51,99,110,10,74,63,35,12,23,10,13,13,16,61,108,67,125,108,106,183,81,105,110,9,171,10,76,74,97,89,60,8,79,98,10,129,9,81,63,7,109,125,7,133,83,71,71,55,8,54,80,9,132,71,12,75,124,41,79,90,8,21,64,23,53,23,13,51,38,29,28,30,10,79,98,69,13,34,12,17,23,100,73,88,52,89,109,48,76,11,50,152,123,52,8,87,98,14,107,117,70,10,39,10,25,26,11,84,67,85,87,85,72,38,11,16,16,148,66,47,62,37,10,42,49,109,20,21,15,16,98,85,94,105,103,59,103,12,21,15,15,140,61,81,49,49,52,30,11,28,18,85,62,78,76,14,23,17,19,89,32,88,6,107,7,65,81,84,8,84,5,120,39,9,121,7,134,69,6,85,8,15,17,17,82,55,96,42,75,47,14,24,14,159,91,37,50,24,8,34,7,12,33,20,11,53,7,25,12,69,70,64,72,72,36,48,8,12,16,252,115,63,17,28,15,18,18,32,79,105,110,7,60,94,11,128,147,107,82,9,24,33,11,8,101,7,144,38,17,6,85,120,6,73,107,72,7,95,54,7,183,90,7,40,90,69,7,84,89,57,6,67,48,7,61,52,6,95,85,6,70,36,85,6,88,17,22,9,9,53,28,90,53,100,17,30,7,18,85,116,136,53,42,61,112,91,78,14,38,32,102,43,44,16,89,18,144,58,20,69,22,68,43,16,18,8,17,5,40,8,60,47,49,116,10,98,75,7,77,90,101,9,188,105,77,68,6,79,30,36,9,98,92,17,21,32,38,6,86,52,58,51,8,70,15,44,15,34,105,59,62,84,82,61,90,93,8,8,11,30,15,29,38,46,52,74,86,135,17,42,9,42,73,98,72,61,21,25,14,3,45,86,14,22,39,122,19,133,88,21,17,15,71,16,28,19,110,63,32,95,22,81,18,72,84,15,16,97,97,48,51,25,48,14,23,73,45,16,24,8,168,125,85,106,82,104,9,18,57,35,38,92,12,18,29,113,114,69,64,59,97,46,64,65,85,13,27,26,15,64,102,126,87,92,67,63,15,15,10,141,99,81,64,13,22,64,45,12,23,59,78,35,9,10,25,37,86,110,60,29,47,15,24,93,88,84,69,8,15,25,56,41,12,31,45,20,104,7,87,112,7,91,100,74,9,50,5,82,44,6,36,54,8,8,42,91,4,89,60,49,56,5,86,63,4,51,47,77,6,41,50,41,10,103,45,25,5,81,45,5,108,68,6,67,79,6,102,90,5,97,59,36,4,84,35,77,44,5,50,60,13,74,20,73,31,8,61,27,111,7,94,100,84,57,5,82,43,6,36,53,8,8,75,42,71,5,84,32,4,87,59,49,56,5,84,76,61,4,51,65,102,6,90,56,41,10,101,74,91,5,82,45,5,109,60,6,69,79,6,103,87,5,70,31,58,34,4,82,35,77,49,5,50,59,21,29,19,24,92,42,151,64,83,55,82,72,13,18,12,18,162,30,27,40,95,34,30,17,216,96,14,8,43,24,15,12,32,39,9,22,25,31,29,94,85,50,73,55,82,37,53,88,122,58,71,33,91,91,17,23,83,58,67,45,98,95,13,30,26,81,107,46,54,72,103,68,14,25,22,14,81,30,110,81,85,124,126,88,119,78,12,35,35,73,124,91,66,100,56,71,64,87,106,8,83,101,86,67,97,59,10,67,44,21,69,9,125,58,107,8,70,32,105,50,30,20,11,17,12,28,16,68,97,9,142,94,55,47,11,84,50,129,10,62,31,8,70,89,9,73,47,12,57,22,13,13,53,8,93,77,9,74,41,18,16,17,13,16,51,24,30,10,74,105,11,40,14,25,49,10,77,60,22,21,9,9,7,11,64,87,45,51,6,85,35,61,19,26,12,33,89,188,9,55,50,16,58,97,64,19,13,64,18,35,10,17,39,20,15,17,15,14,66,13,44,16,51,27,98,6,52,25,39,31,18,14,35,24,7,52,87,12,54,105,78,17,103,7,27,25,63,45,89,36,93,61,90,110,33,65,10,28,18,97,41,9,78,121,48,51,40,12,18,14,11,91,47,60,27,118,67,9,21,9,91,64,40,38,55,9,14,24,53,74,123,18,40,13,22,19,63,70,43,88,77,76,46,12,13,7,14,18,10,93,65,27,70,52,69,83,63,67,39,62,60,72,46,102,95,53,110,38,57,116,117,75,46,19,21,13,16,13,125,64,75,65,81,87,136,95,126,118,47,54,13,33,12,10,74,54,41,48,37,33,34,10,31,56,40,66,65,39,9,9,10,5,7,19,7,10,7,89,134,90,24,5,28,52,7,53,79,54,5,64,56,53,9,80,64,12,10,23,53,64,7,72,55,45,20,14,18,34,10,63,31,6,73,61,28,55,42,6,87,110,8,90,6,99,59,7,64,10,9,8,74,82,54,97,72,70,61,93,16,30,12,9,95,95,56,97,99,17,33,20,63,103,23,108,88,42,85,30,14,24,33,25,87,54,21,14,8,23,14,13,11,38,9,73,16,17,45,28,27,31,52,12,36,18,23,56,125,142,94,91,62,86,56,41,107,107,109,58,93,41,7,113,72,67,85,9,90,89,52,52,9,94,7,58,53,69,35,108,14,21,8,9,11,20,87,69,53,112,117,59,113,74,153,113,100,136,124,84,76,15,24,18,10,67,52,78,96,75,57,44,58,78,48,86,56,16,25,15,22,83,49,174,123,121,6,103,80,82,67,7,101,15,29,21,47,35,64,45,13,22,70,67,17,59,15,29,22,56,89,60,84,104,100,105,33,95,82,63,87,76,35,70,75,40,77,56,12,21,20,77,65,44,36,40,16,35,69,81,67,73,79,53,84,47,96,44,15,38,20,21,16,97,109,4,67,70,93,5,96,123,72,7,74,75,19,28,62,100,39,9,42,37,65,32,15,8,72,52,8,60,44,5,65,59,42,50,54,42,3,96,17,9,19,7,5,15,15,71,96,30,13,49,5,63,74,82,54,8,120,91,32,88,78,153,6,118,131,9,86,71,5,99,91,39,137,58,8,66,81,90,9,105,28,95,72,7,129,125,22,6,89,61,8,74,49,96,5,62,54,75,5,68,65,61,95,8,127,46,4,124,137,63,7,90,135,13,24,15,10,23,14,120,99,80,4,92,112,101,11,75,30,34,10,81,53,73,74,34,12,101,16,131,139,69,99,9,101,141,12,85,77,59,60,11,13,30,118,80,51,10,22,24,12,23,104,55,84,86,91,119,94,66,85,10,27,7,80,27,34,5,39,14,18,21,11,102,92,84,89,71,63,16,35,12,98,59,66,113,70,29,12,25,16,70,29,52,63,73,39,15,31,22,96,60,84,39,63,26,75,37,13,22,22,83,44,12,59,15,57,78,100,72,81,33,14,36,69,166,123,85,73,93,23,13,79,2,55,94,15,4,48,67,16,66,8,5,66,5,72,49,6,21,49,61,2,8,83,17,81,27,5,76,15,55,6,88,27,81,33,4,49,39,58,15,22,78,71,50,85,88,73,64,18,22,104,34,52,17,37,28,78,39,38,20,40,45,18,18,52,39,11,28,49,18,43,90,81,15,42,16,22,58,13,22,57,58,19,44,35,11,20,35,45,46,13,42,31,14,23,85,88,47,48,33,48,58,53,19,36,42,28,40,65,16,17,11,20,103,38,13,35,29,47,27,8,7,53,28,31,40,6,20,39,4,24,13,12,20,44,30,11,90,69,62,79,89,63,58,20,16,24,45,57,42,64,21,12,23,39,42,48,73,43,49,18,50,51,62,16,53,61,35,133,133,76,186,11,78,44,16,12,5,20,63,41,26,9,90,53,100,51,31,16,95,43,15,20,48,72,26,71,21,25,14,33,55,103,39,23,43,36,77,20,42,9,40,115,86,19,52,35,30,44,31,49,29,25,28,36,46,32,52,39,29,64,54,57,64,28,13,11,63,93,39,70,41,27,42,14,13,29,26,37,28,43,15,42,40,83,38,42,16,121,96,28,75,13,101,112,44,38,10,68,52,32,33,43,30,8,44,61,34,73,23,105,8,62,37,24,55,65,11,6,9,19,8,59,57,48,91,69,62,62,96,54,11,28,21,26,70,44,19,31,24,26,47,48,74,35,12,24,8,9,17,7,22,71,41,32,35,55,11,15,36,9,99,6,28,26,33,44,53,13,11,45,15,54,30,25,48,49,25,21,82,12,32,34,8,74,53,38,72,47,61,41,42,50,46,45,83,42,42,48,32,18,87,24,45,55,56,58,57,88,29,36,38,77,80,39,60,59,38,56,36,77,20,86,11,16,27,30,83,61,37,45,54,17,78,10,65,92,22,8,50,39,43,10,88,32,52,36,8,74,72,91,76,38,9,50,54,95,83,10,101,26,39,9,50,47,39,41,28,30,21,7,50,25,44,103,16,9,175,43,66,98,9,72,71,14,80,88,35,74,8,34,90,52,28,9,10,20,10,23,138,26,30,41,77,42,28,26,14,15,19,30,50,15,32,19,40,55,8,27,13,32,29,41,87,8,42,48,100,58,101,64,36,93,15,41,37,42,79,58,70,15,102,45,41,51,52,11,105,62,40,9,58,53,58,83,88,29,29,48,8,17,16,14,21,95,48,7,128,61,58,78,9,61,150,42,65,8,102,55,69,70,98,8,85,76,69,94,67,6,71,70,98,34,48,67,67,8,81,48,107,50,53,8,52,69,34,24,10,62,35,33,38,7,52,47,46,6,83,34,49,103,137,45,35,10,48,12,22,44,70,7,26,25,14,18,28,17,23,74,75,9,16,16,11,15,44,20,21,10,27,39,15,16,46,10,36,14,37,26,16,22,25,70,31,53,19,19,62,55,53,16,53,31,24,58,36,83,61,10,14,30,10,15,14,15,5,91,33,19,21,10,46,25,64,39,26,41,8,32,15,25,32,108,55,82,34,33,45,14,45,37,38,47,16,32,20,104,28,16,52,31,53,31,21,81,31,57,60,9,37,21,117,47,27,56,26,32,14,11,25,15,21,14,18,23,58,53,50,7,33,13,52,25,50,23,16,24,5,16,12,62,32,32,33,62,11,62,51,155,11,58,31,32,34,16,7,130,20,12,51,15,26,40,25,42,27,48,48,10,42,55,49,43,22,64,21,40,99,18,12,79,97,30,53,37,50,9,48,44,49,54,38,48,16,56,11,49,15,52,11,38,37,54,26,11,26,29,29,21,67,16,38,28,21,19,35,28,54,26,8,46,40,31,23,23,46,30,24,32,11,16,9,93,43,48,11,59,19,33,14,50,34,14,24,77,32,46,23,91,13,17,17,21,27,27,27,6,13,8,9,14,22,23,18,7,13,44,22,22,13,19,4,5,38,10,15,12,8,26,14,10,13,35,13,8,16,24,13,11,19,51,17,31,17,24,11,25,11,37,12,25,19,14,9,17,9,16,8,29,36,9,21,43,12,32,5,22,8,31,25,27,12,12,15,12,12,18,26,12,40,47,31,13,56,58,41,46,30,13,94,11,52,35,35,12,21,36,23,59,32,18,6,29,27,20,20,10,32,18,9,22,41,45,10,62,29,38,22,29,23,31,10,17,5,7,5,25,16,69,45,30,27,41,69,45,29,19,41,33,73,27,25,26,22,24,13,29,36,15,37,19,44,11,15,63,56,31,67,68,19,10,19,46,47,48,19,29,12,28,27,17,19,43,16,20,55,19,20,18,27,41,66,21,21,68,19,32,20,15,35,21,31,37,18,20,19,46,13,12,7,91,13,18,19,14,52,58,30,36,14,54,37,11,16,7,7,73,8,44,10,67,27,14,47,22,42,24,46,37,15,25,40,34,29,36,19,38,64,46,11,26,16,9,90,44,32,38,22,13,46,24,63,25,12,13,16,35,20,63,20,18,16,15,26,23,28,11,18,8,25,11,56,32,40,48,46,8,14,13,45,31,25,36,20,57,10,30,38,9,18,17,9,58,20,5,6,7,5,5,7,5,5,20,15,5,7,5,7,5,6,5,17,97,27,49,39,23,10,45,30,19,35,59,34,33,62,61,9,17,40,22,20,19,95,23,129,8,22,14,96,82,45,49,15,15,11,15,76,53,20,44,20,21,25,39,29,24,13,58,48,16,15,24,62,25,27,38,40,33,26,56,18,38,12,30,62,69,40,35,36,35,18,14,10,20,90,37,26,43,16,11,7,24,6,69,32,73,18,39,30,27,13,25,42,13,35,9,27,38,7,29,7,18,12,14,19,13,5,23,17,26,39,33,14,18,22,13,14,45,18,12,6,24,4,15,39,27,16,31,17,16,41,60,26,5,12,14,5,17,17,4,7,30,13,36,15,13,19,26,53,29,78,40,41,42,38,15,27,25,11,14,43,35,56,57,12,23,45,34,8,7,48,17,25,141,57,65,70,61,47,74,22,34,21,27,27,27,58,7,18,79,58,9,38,21,24,18,29,11,6,27,33,25,13,10,26,18,26,31,24,12,11,27,27,30,28,9,31,19,35,12,16,7,29,89,34,37,12,16,23,17,32,20,61,57,28,26,14,45,17,17,9,35,62,18,10,30,10,13,20,10,51,28,8,47,7,20,20,11,79,13,118,86,36,20,14,10,34,13,22,36,8,102,33,62,43,20,74,34,22,21,32,49,46,92,28,28,19,36,24,15,70,76,23,32,13,72,32,49,26,19,9,23,32,37,27,19,17,27,46,11,12,15,25,30,15,30,26,20,13,20,22,54,14,19,47,41,36,56,46,35,62,25,36,44,38,38,36,10,22,14,22,17,29,26,37,58,14,42,12,14,34,20,13,33,9,23,18,15,86,19,26,25,10,35,37,11,19,41,37,12,30,89,40,31,30,20,27,21,17,14,12,17,21,31,16,25,21,57,12,15,12,77,52,30,68,20,41,16,47,18,28,44,32,32,10,19,23,44,20,32,25,11,51,17,40,14,70,17,25,19,54,16,36,58,10,60,18,47,25,24,13,24,53,27,34,35,16,22,91,11,11,57,43,12,15,18,35,139,26,11,23,18,47,11,10,25,8,19,12,10,19,13,9,17,30,30,7,16,11,27,12,12,22,15,9,18,11,13,14,72,22,28,15,19,28,18,33,34,13,14,16,16,87,19,18,31,22,41,17,32,28,14,17,24,36,24,13,22,26,18,43,21,21,15,29,10,39,30,23,33,16,83,31,14,19,12,9,7,116,23,33,34,12,45,26,15,7,45,49,23,41,37,22,44,15,20,44,15,33,13,23,15,16,18,16,23,7,107,40,42,67,58,40,31,16,19,9,15,11,18,87,59,45,17,42,18,15,13,80,52,11,21,20,47,89,28,28,71,29,56,28,71,64,174,84,13,18,8,77,13,33,15,31,19,19,52,15,20,20,19,33,24,47,22,16,26,10,30,38,8,15,16,19,21,27,44,35,23,18,23,33,33,14,34,39,40,13,21,21,7,17,76,61,57,15,25,22,31,32,25,25,52,69,58,8,8,8,27,23,95,78,42,25,38,30,36,31,23,24,23,50,19,6,46,48,43,33,35,25,22,6,10,12,12,31,13,16,13,15,12,11,11,12,12,11,6,10,29,22,23,51,11,11,22,45,26,15,15,11,71,58,25,10,19,20,10,42,19,50,20,41,37,27,8,7,43,33,11,8,31,31,31,12,23,76,65,24,19,28,47,32,23,41,33,35,44,15,35,15,12,33,56,11,30,44,14,29,18,34,14,40,19,19,51,14,11,7,62,66,30,29,20,33,15,69,38,60,33,23,47,32,21,19,17,35,38,32,14,35,23,18,39,29,29,30,16,14,38,16,29,16,90,19,101,14,35,8,19,13,83,27,24,34,23,27,25,12,47,78,50,32,17,38,16,33,40,52,39,21,7,79,9,43,49,7,105,56,33,39,25,26,44,23,17,21,16,14,8,9,146,37,34,53,31,45,20,22,16,24,9,18,17,25,40,49,15,38,13,20,111,10,34,30,51,40,14,41,45,10,15,19,48,38,38,34,48,12,13,29,11,14,12,43,97,84,58,36,42,22,53,20,69,34,16,32,67,50,24,10,11,24,23,19,22,13,36,19,24,13,19,17,13,52,53,15,52,40,37,30,50,59,29,12,21,15,9,24,40,42,36,66,18,39,30,17,14,42,17,25,38,10,21,39,24,24,31,20,20,12,12,48,28,33,24,11,12,17,30,21,26,14,17,96,34,34,27,24,20,40,14,24,32,18,38,18,28,29,9,8,19,29,34,14,12,29,21,29,34,71,10,6,12,26,105,78,36,15,11,18,13,22,16,18,8,29,40,21,13,15,19,37,19,46,59,21,34,21,67,25,27,33,10,31,44,20,23,41,103,21,55,46,29,29,14,27,64,39,45,16,30,40,40,24,26,39,41,34,17,67,29,55,15,20,54,16,25,10,52,32,38,15,15,21,64,41,50,24,11,42,32,29,26,32,41,20,14,48,74,33,31,37,27,16,29,10,38,14,32,24,56,26,19,35,34,38,29,30,48,31,25,17,37,20,29,54,51,25,42,11,20,14,87,29,54,35,25,33,27,11,40,42,18,20,17,7,18,98,21,57,29,25,53,21,24,45,17,20,34,17,62,27,20,28,75,21,47,33,6,74,38,10,52,43,17,19,45,23,20,5,56,16,40,10,49,9,38,25,68,17,19,28,30,33,5,72,49,46,13,10,8,6,13,10,14,9,13,13,10,17,12,13,14,16,20,9,5,31,6,52,13,9,51,16,7,19,19,47,20,20,16,35,21,16,29,30,24,32,45,21,24,76,45,76,29,7,45,25,26,9,18,19,22,59,58,8,67,29,28,33,62,44,29,43,25,26,33,22,34,31,26,12,122,9,33,37,25,29,40,26,28,10,54,13,7,37,18,21,22,12,13,44,27,11,21,46,18,15,15,58,44,17,15,18,11,14,12,8,8,6,15,10,14,14,11,13,11,14,15,33,22,66,38,134,56,60,47,11,17,22,28,55,24,27,23,22,16,45,31,57,23,32,28,45,20,51,35,21,47,12,13,14,15,18,18,59,26,35,25,32,23,23,11,12,19,20,11,35,66,38,39,55,30,40,9,28,10,20,13,41,22,48,48,37,35,17,26,13,4,85,10,27,23,19,25,12,29,19,22,29,16,10,20,24,38,17,23,20,21,8,6,11,14,16,10,73,38,5,86,9,47,13,18,9,52,13,30,17,19,47,23,20,5,51,16,40,9,47,9,38,25,51,17,17,19,28,30,33,5,73,49,46,13,39,10,15,12,47,40,54,14,70,27,36,20,46,32,24,19,28,53,24,41,36,40,102,22,41,16,10,21,11,80,16,6,50,31,45,23,46,59,31,12,52,11,14,83,35,60,52,20,24,24,33,24,28,12,29,22,23,42,16,27,42,9,20,16,23,12,12,29,34,23,44,62,19,31,37,27,20,16,27,28,44,15,36,6,36,6,289,6,68,28,34,6,22,18,27,19,23,17,22,13,11,11,25,6,104,32,25,24,12,43,31,37,151,15,24,15,30,24,20,18,12,9,49,15,44,55,6,45,20,21,33,12,9,8,12,7,11,62,38,32,63,35,35,44,8,38,38,56,28,24,14,6,48,50,13,47,13,59,30,40,65,57,28,49,79,10,59,18,43,24,17,12,25,13,25,49,27,25,26,66,16,40,22,16,20,33,8,37,15,23,35,47,13,14,12,38,13,14,28,51,64,44,20,26,38,35,11,16,12,45,12,28,31,19,18,14,20,13,14,26,12,25,11,28,15,12,17,23,15,35,27,18,37,42,27,29,40,51,15,42,29,45,12,26,28,25,13,12,62,36,166,283,187,136,136,20,21,23,20,25,20,21,22,23,123,23,21,23,21,24,18,22,25,26,19,24,26,21,24,23,25,36,30,180,180,153,38,38,36,39,41,31,35,15,264,301,269,269,191,245,335,44,204,90,171,269,208,13,10,12,43,58,41,11,12,19,23,25,71,71,10,70,28,14,19,33,6,62,21,44,58,30,15,8,72,14,42,35,9,50,20,14,42,35,54,24,45,6,30,28,63,36,16,18,5,43,27,52,14,24,8,6,49,24,24,70,17,17,8,157,21,28,9,12,8,11,14,14,12,37,18,17,30,15,8,14,14,39,30,114,127,135,7,103,27,47,8,39,20,24,14,23,63,20,81,35,12,14,24,6,50,74,42,9,73,29,24,94,175,62,53,51,26,10,9,35,16,35,11,27,28,37,11,65,17,17,58,9,53,17,15,22,28,12,19,33,20,31,16,13,13,107,23,28,9,19,23,18,13,17,21,6,13,23,18,12,10,53,19,16,27,13,17,21,61,28,34,14,19,24,26,41,36,83,26,20,12,13,12,53,31,56,112,122,136,13,167,63,44,36,12,41,50,67,34,22,11,66,48,7,94,61,67,46,61,39,145,126,83,43,34,166,111,85,13,12,21,24,20,26,11,21,10,8,104,53,22,16,34,43,21,94,32,29,43,31,25,37,39,30,17,53,20,31,61,15,12,19,83,12,29,27,17,44,50,35,13,32,11,41,46,22,35,50,22,35,9,12,22,27,63,100,47,26,93,51,26,29,44,43,24,18,17,20,41,22,18,20,50,19,12,53,26,27,28,29,71,16,12,32,17,20,26,8,71,54,75,37,30,35,11,31,55,10,14,85,20,27,16,35,9,12,18,48,10,11,60,11,9,10,10,16,35,37,27,37,23,26,44,25,17,52,32,27,35,14,137,33,24,23,22,64,43,51,44,9,33,26,10,57,62,45,35,62,37,15,11,25,50,11,40,28,19,23,17,22,12,37,21,29,92,83,35,67,24,44,63,34,6,21,28,41,30,11,29,34,32,30,21,67,33,56,56,25,10,36,52,8,29,15,21,82,31,37,37,15,15,10,23,22,15,24,9,23,15,27,33,31,23,35,32,94,17,32,13,15,23,26,20,16,22,40,48,16,37,33,24,21,15,39,6,8,13,13,9,90,40,42,23,19,40,27,35,20,40,37,19,14,17,16,23,25,20,25,68,22,27,37,14,17,19,13,23,20,14,19,11,15,17,30,20,19,17,86,8,93,72,21,28,18,26,41,32,10,24,31,43,33,34,65,38,42,38,25,21,12,45,34,23,29,9,59,16,36,15,39,24,19,23,14,30,18,16,37,8,34,16,27,3,22,24,27,17,27,24,123,46,6,6,56,12,26,15,21,9,43,17,52,20,24,13,33,23,60,13,26,37,16,28,25,27,18,36,19,18,42,29,18,33,12,27,64,14,15,36,105,37,35,17,32,42,36,51,13,35,63,78,30,29,46,22,19,31,71,16,32,52,46,45,16,48,51,29,29,22,22,12,62,38,49,29,49,28,31,17,11,38,48,21,11,39,25,54,40,56,10,31,92,37,25,44,21,22,45,62,40,36,28,27,11,77,19,10,37,18,16,9,62,29,6,63,19,8,73,20,11,32,48,6,38,20,25,11,58,23,12,30,25,20,14,59,28,26,24,16,81,36,33,16,18,11,19,14,49,15,20,103,37,109,23,45,47,11,33,26,29,10,16,30,11,12,25,36,17,14,28,25,9,51,15,24,17,18,15,41,15,15,12,59,18,48,17,93,39,14,28,66,76,26,33,57,95,74,18,38,16,24,33,37,10,68,31,20,10,43,31,22,30,24,24,12,31,23,38,10,22,20,30,23,31,43,18,36,16,44,10,39,14,26,23,23,34,14,32,14,32,51,37,38,34,34,20,35,8,35,29,11,16,31,14,25,15,13,19,37,52,47,38,13,72,35,54,22,18,36,70,28,50,26,17,11,27,14,45,18,13,33,5,18,39,21,28,14,37,23,14,23,11,29,19,8,29,53,31,21,7,39,27,16,46,25,10,40,55,23,41,18,20,28,25,23,33,38,14,46,29,27,50,82,56,14,41,22,78,26,27,24,33,10,19,11,15,16,13,32,15,11,18,20,24,9,23,16,17,21,20,17,13,44,48,29,16,51,112,58,21,33,22,51,19,33,40,45,18,9,126,29,28,37,23,36,12,35,44,34,24,36,37,28,30,17,28,12,54,74,19,86,35,18,24,38,23,16,34,25,13,27,32,35,18,28,25,17,13,29,17,28,66,51,28,28,40,42,22,26,19,33,33,29,14,30,44,21,28,12,55,19,24,17,44,22,33,39,7,43,38,28,9,38,26,17,13,17,40,24,43,16,12,21,44,28,17,27,39,11,14,18,36,39,27,24,16,19,9,44,28,23,8,22,9,25,40,7,79,7,58,34,33,16,32,47,7,30,27,21,34,49,18,14,47,22,26,49,45,92,81,41,10,78,80,66,51,85,17,9,42,62,17,41,43,9,115,74,40,47,81,6,51,56,31,49,17,9,83,56,99,112,9,75,37,22,35,43,8,69,33,32,25,40,36,64,63,10,94,96,52,15,5,119,83,27,12,59,48,65,82,27,86,9,78,51,64,70,10,86,77,69,60,35,11,39,27,53,94,32,38,11,29,8,61,37,61,53,31,11,64,51,45,54,5,239,7,78,71,9,94,52,52,13,22,19,17,45,36,37,55,14,13,16,19,9,53,24,48,38,14,30,9,59,20,51,26,19,34,80,27,32,12,12,11,48,19,27,18,8,34,26,36,14,18,19,14,19,11,11,39,15,18,16,14,27,53,26,37,14,33,15,27,30,26,19,15,11,8,17,80,15,26,52,6,42,27,23,21,23,19,15,50,16,27,15,25,18,79,41,8,24,21,20,37,18,48,25,29,8,12,24,15,18,11,23,17,42,82,24,43,20,60,30,24,33,42,30,14,18,21,22,83,32,24,18,30,95,35,12,12,19,32,26,40,23,32,21,53,15,15,10,9,13,44,21,32,43,60,13,36,37,88,12,30,49,8,14,83,14,24,12,40,34,24,22,15,36,19,12,46,17,14,28,157,24,38,46,51,39,12,15,28,136,22,26,14,31,33,10,26,21,10,7,7,8,9,59,28,16,34,18,15,35,45,44,13,43,13,21,48,23,9,8,55,35,68,15,67,58,11,28,49,48,61,41,36,52,65,7,23,39,16,27,32,24,14,13,14,14,16,25,39,33,30,11,41,32,31,26,14,33,18,23,67,36,13,17,57,14,18,24,10,12,15,10,17,14,18,14,13,25,66,14,24,23,70,36,40,35,17,33,32,29,62,40,42,8,84,45,39,27,17,63,15,50,35,43,21,23,61,18,27,24,29,6,42,12,28,38,20,19,47,39,14,9,51,33,32,18,41,27,8,72,75,30,67,60,73,40,25,38,14,39,56,29,6,15,11,13,16,43,36,7,77,17,40,6,30,14,40,54,25,39,95,17,13,35,15,13,15,44,44,28,44,37,27,36,20,16,43,29,18,30,18,19,23,18,12,14,19,52,11,35,43,27,13,21,32,29,9,28,10,23,37,35,27,11,65,20,48,31,26,21,18,13,28,32,41,42,21,28,26,46,26,64,57,8,93,45,43,9,61,36,100,45,75,77,12,47,55,43,17,28,8,96,34,65,32,21,9,39,23,41,19,60,34,103,13,34,47,41,63,19,49,8,63,47,41,31,50,29,45,34,43,84,25,7,96,36,44,20,7,48,73,43,24,77,17,20,14,13,62,16,32,27,18,15,22,54,33,42,40,32,41,13,32,18,29,15,38,8,13,36,15,16,15,11,83,36,13,24,9,24,21,29,17,21,14,32,9,26,75,60,30,48,23,23,14,18,14,5,23,36,29,23,28,66,78,10,32,19,21,21,21,34,56,32,26,15,24,23,17,24,37,11,31,20,26,33,18,24,12,29,20,44,29,42,32,20,18,25,32,38,23,31,26,19,48,25,28,16,19,56,30,23,10,24,12,23,41,16,13,12,22,13,20,25,52,38,25,23,39,85,11,42,38,20,23,45,11,54,27,7,38,28,42,30,46,15,28,43,32,29,13,45,21,14,7,30,23,61,51,74,29,20,19,10,10,13,22,20,55,35,53,31,37,11,11,20,20,28,11,18,17,9,27,28,10,29,18,74,13,7,21,83,26,44,31,40,29,25,31,14,7,26,9,12,46,70,30,37,47,19,38,69,45,39,37,22,37,26,45,13,52,31,43,11,33,16,37,54,20,25,18,34,15,16,24,71,24,14,22,15,69,18,53,23,51,26,43,32,18,35,39,28,39,14,14,32,9,21,48,51,69,32,21,38,29,52,18,8,13,58,13,34,31,32,11,19,15,27,32,44,17,12,26,10,19,48,40,50,12,21,16,27,11,24,17,16,43,25,43,31,24,22,47,37,15,21,21,28,33,21,10,29,22,12,36,18,32,16,9,79,24,38,70,37,43,22,52,27,29,24,16,27,19,28,17,39,37,38,21,30,23,30,20,21,13,25,13,9,17,79,90,48,30,45,53,8,24,75,64,79,9,75,42,10,79,35,10,46,37,64,9,62,20,28,7,67,52,8,84,78,34,10,51,38,46,13,103,6,32,26,27,29,10,63,23,10,82,21,51,105,18,17,6,67,29,39,50,22,7,35,30,20,36,53,50,12,78,57,47,42,43,95,23,16,35,13,13,7,12,9,9,58,40,50,28,59,45,7,18,23,8,12,22,33,35,14,16,22,24,9,12,17,22,14,17,43,21,5,47,11,25,11,33,24,38,21,28,7,55,50,17,24,23,19,28,13,28,44,5,67,19,38,11,28,6,54,49,35,15,11,51,24,23,30,30,18,12,37,16,17,31,30,6,54,20,33,28,18,26,13,11,29,32,30,27,71,38,42,19,19,40,6,38,19,32,23,32,11,89,58,29,16,26,22,6,53,19,52,24,28,48,7,101,36,24,27,29,24,22,23,27,38,28,31,25,13,37,23,27,22,27,35,36,20,6,92,9,39,9,7,19,106,89,31,32,35,31,18,22,11,30,34,19,44,23,19,37,23,26,7,7,26,17,8,14,14,19,14,53,72,114,14,44,8,33,19,53,30,43,42,36,39,46,33,24,12,35,21,7,33,28,32,16,4,22,39,22,28,12,26,10,15,14,23,19,12,32,27,16,48,8,66,38,20,21,28,10,8,31,19,25,32,13,11,21,12,52,26,41,10,39,46,23,13,10,27,50,37,27,17,49,14,38,16,42,16,45,14,20,19,24,9,37,29,28,49,30,32,16,52,29,15,16,27,24,33,19,24,17,29,13,51,8,131,23,25,33,21,50,35,26,26,23,34,34,20,41,16,12,27,7,24,61,26,27,16,15,65,28,24,51,33,8,16,33,10,11,12,6,26,144,111,18,15,22,22,18,14,14,38,29,21,25,12,7,30,53,27,52,12,17,16,15,18,8,34,19,8,25,13,14,22,39,26,21,49,10,13,37,16,32,37,11,42,28,20,30,28,12,22,47,8,13,32,19,6,85,76,29,20,18,36,14,236,33,100,30,16,15,24,56,13,42,42,14,16,80,13,36,42,57,14,31,16,18,46,75,9,62,32,6,9,40,16,20,23,25,19,34,17,17,28,16,10,12,51,16,26,93,24,14,24,27,21,9,56,19,42,23,17,15,6,14,86,19,35,29,34,10,61,24,15,22,35,33,22,22,21,20,10,13,11,51,16,14,30,31,91,16,34,9,142,25,14,27,16,20,18,33,17,16,28,42,22,26,18,22,18,35,15,68,30,7,18,40,39,31,56,29,51,13,30,25,15,50,27,35,20,81,41,33,27,64,26,44,32,19,29,19,16,51,31,56,40,42,39,17,21,45,12,13,27,13,33,11,38,8,23,42,24,42,10,20,51,52,72,164,45,23,53,16,14,8,31,19,44,32,18,34,39,31,20,14,44,21,20,44,23,17,41,30,28,15,39,25,21,38,35,14,14,31,28,16,38,63,26,42,46,60,50,43,48,46,41,53,56,43,31,151,40,63,31,47,47,65,33,56,64,62,48,85,58,66,15,25,9,15,22,12,74,39,10,11,25,18,27,12,24,23,22,21,10,4,11,19,17,32,15,98,57,11,14,60,19,17,32,25,54,39,18,18,23,10,30,34,39,8,20,14,21,10,20,12,27,14,15,45,8,13,37,23,17,12,10,37,18,32,41,21,23,21,31,22,78,34,30,26,30,24,13,9,23,27,36,28,23,22,11,12,23,29,9,30,12,23,27,21,23,7,17,11,16,10,36,15,10,22,8,7,14,14,9,53,22,25,32,13,11,33,64,14,30,12,26,24,10,38,19,33,20,14,12,22,53,26,43,10,38,29,18,14,9,13,11,27,29,20,36,12,27,40,27,16,47,14,27,11,19,21,27,11,14,34,13,72,30,27,16,32,42,37,22,37,16,9,25,11,14,27,13,40,15,39,16,30,7,21,9,23,6,31,19,28,75,39,40,41,14,10,28,18,41,78,45,38,33,29,22,22,83,172,40,22,33,31,26,33,30,20,44,22,15,11,25,32,32,23,84,25,42,29,26,51,8,68,37,13,12,16,44,60,37,25,30,43,13,22,24,13,28,55,14,23,7,18,41,53,47,37,18,17,22,9,24,55,14,22,37,28,49,20,16,13,15,26,77,46,38,21,27,11,50,15,33,73,100,53,45,51,45,17,24,18,18,11,15,29,17,125,63,32,34,27,31,36,35,20,18,7,62,34,34,16,27,12,20,32,16,13,24,15,19,18,10,103,61,51,24,43,22,31,36,19,22,16,67,26,27,17,19,23,17,18,11,53,22,31,32,11,31,22,37,28,10,19,21,24,17,18,31,10,57,14,43,55,35,11,28,34,24,12,28,30,26,10,31,22,36,21,38,23,10,85,21,17,7,11,10,34,30,17,30,11,79,23,30,23,45,19,9,59,28,21,21,24,41,17,20,28,32,19,6,61,11,50,27,11,48,20,9,10,88,64,12,75,61,37,19,21,57,74,30,28,16,50,30,9,15,37,20,16,13,42,26,9,74,19,14,22,32,35,28,24,12,40,20,15,11,36,49,15,30,36,16,41,34,11,16,24,16,17,13,9,34,43,21,21,23,27,46,33,16,9,42,46,33,34,32,25,8,37,28,11,26,42,33,24,35,28,25,24,30,21,10,35,9,13,31,12,9,13,26,33,39,29,12,31,14,18,18,17,61,28,26,24,33,26,23,47,43,14,18,23,16,5,10,12,25,41,47,8,35,22,12,17,35,31,38,22,13,9,9,30,16,17,23,8,60,18,21,20,25,13,15,15,32,16,13,16,12,7,37,12,43,10,23,30,20,9,10,21,33,35,14,15,11,36,26,35,61,28,31,53,25,27,8,53,31,24,17,14,13,12,18,97,17,29,32,58,31,26,15,27,8,15,17,154,31,12,26,42,30,18,55,15,27,22,58,20,46,20,28,18,34,19,50,29,36,33,36,26,13,25,31,37,15,21,23,23,43,43,24,12,40,12,34,20,15,11,55,19,55,41,20,35,35,56,26,54,11,19,26,28,31,14,25,18,10,17,20,25,29,8,23,15,10,22,25,21,8,16,28,40,23,29,15,27,18,53,27,31,72,29,11,51,35,16,14,16,14,31,21,30,26,14,37,19,14,10,72,26,15,33,16,43,57,14,35,52,28,40,17,49,57,26,12,30,19,6,17,14,11,74,118,22,25,23,15,16,14,25,21,49,60,34,42,23,11,29,20,90,18,24,29,26,21,31,14,33,13,11,23,31,16,18,17,16,20,12,21,57,46,21,12,52,41,61,18,31,11,42,21,19,35,22,30,36,24,32,22,41,21,20,10,40,21,26,29,24,51,22,26,33,19,14,59,70,22,47,27,13,49,30,16,16,52,24,20,74,27,94,23,17,21,29,12,46,32,27,22,31,38,37,15,28,15,9,22,29,43,40,11,38,16,24,22,32,14,30,30,76,56,35,39,41,10,70,50,35,19,22,10,59,31,28,42,15,23,14,47,8,65,31,12,29,23,36,26,40,15,9,59,26,18,15,23,38,21,73,23,24,22,7,61,19,16,21,35,21,30,15,22,25,29,20,21,21,23,22,43,20,34,20,32,45,19,29,16,13,76,19,84,71,24,40,110,25,27,44,10,13,21,17,9,24,13,24,70,30,45,14,27,47,17,28,33,30,15,29,19,19,42,30,10,33,16,32,29,28,26,71,12,17,58,13,14,13,8,10,21,118,18,41,22,16,22,23,34,29,51,24,37,20,29,20,67,23,21,71,42,33,40,55,20,22,49,8,32,29,34,32,9,67,8,46,26,15,27,40,17,32,56,11,37,7,24,15,19,26,35,41,14,29,31,51,21,22,24,38,26,22,34,34,24,41,21,35,29,34,33,22,20,12,27,33,40,32,28,33,58,15,23,6,24,18,38,92,17,29,47,45,37,63,42,11,15,17,33,46,16,20,27,51,20,28,16,54,29,47,55,29,27,24,32,50,51,16,14,23,17,29,58,22,19,7,74,14,38,17,24,21,20,15,16,19,7,60,42,9,43,22,14,14,26,24,44,38,18,16,39,22,29,13,31,32,44,16,12,7,12,34,36,24,19,26,16,25,12,14,33,30,31,14,15,21,20,20,16,12,19,15,18,13,20,19,20,9,5,21,6,25,16,13,21,12,20,16,12,11,14,39,13,19,20,12,36,24,45,38,25,16,40,23,21,21,27,21,18,30,37,21,21,13,28,11,14,21,19,29,20,27,29,39,33,18,45,61,37,107,104,55,11,12,73,12,24,22,24,19,40,15,25,60,41,26,23,37,27,25,34,26,28,18,19,32,80,18,17,10,18,18,13,26,18,12,5,21,8,20,41,16,34,39,21,11,36,11,11,10,30,32,15,13,15,13,36,29,26,33,12,62,27,28,35,37,29,14,18,44,18,22,24,13,18,17,66,49,32,27,30,10,64,34,19,23,39,46,16,32,15,24,53,23,45,55,30,10,40,11,132,46,14,174,25,25,53,49,71,23,14,29,14,44,21,57,43,53,27,49,34,14,20,51,43,35,41,67,26,13,22,11,57,28,20,22,17,42,54,29,25,28,17,12,12,17,11,22,37,31,20,14,14,41,48,16,30,35,59,14,34,19,28,41,23,28,27,49,24,18,21,35,9,27,23,18,12,8,11,15,47,16,11,42,34,25,15,13,12,86,26,15,21,18,13,11,44,34,9,20,17,26,55,47,16,63,29,11,24,117,14,41,31,22,26,13,27,26,21,20,15,16,19,15,10,17,23,62,29,21,44,23,15,34,38,36,103,23,22,25,27,22,21,19,9,34,29,32,26,25,36,28,11,17,19,10,17,16,15,43,28,34,24,41,32,25,46,16,21,27,18,20,35,13,32,23,32,11,26,22,19,12,17,47,29,26,13,18,35,22,13,12,10,28,44,22,48,44,29,27,12,24,59,19,27,12,23,5,13,11,71,19,29,15,9,23,28,32,21,13,22,22,26,8,12,39,20,39,30,7,29,13,21,6,19,27,42,25,22,31,19,22,21,30,35,28,11,17,29,27,37,19,21,21,13,20,18,21,80,26,16,34,21,22,21,28,26,21,32,16,26,33,15,38,18,30,11,39,17,16,17,128,35,31,37,27,22,18,11,14,11,14,21,24,28,15,21,22,11,14,14,20,7,49,80,98,73,62,44,48,10,171,55,34,20,17,20,16,15,18,18,25,41,57,15,55,20,22,26,39,50,30,6,43,11,26,21,14,17,15,8,21,29,29,10,60,18,19,44,15,16,26,29,17,22,31,7,73,20,35,22,14,11,6,13,10,56,15,6,16,5,17,21,18,13,14,20,36,6,33,39,29,32,36,43,13,22,58,44,26,36,13,33,94,66,75,40,12,13,22,15,33,5,49,57,37,37,6,112,7,88,65,53,6,43,8,84,8,122,84,8,90,41,76,112,36,9,56,41,10,45,71,93,71,72,74,8,88,73,13,41,57,196,91,95,66,14,22,16,96,17,106,14,79,42,9,22,72,11,44,19,98,14,48,10,76,14,19,21,31,76,95,111,93,75,57,93,18,29,18,10,13,9,79,44,10,36,64,40,36,33,11,68,74,8,87,10,100,6,78,18,18,13,23,91,54,39,58,79,56,83,56,55,15,26,9,155,83,81,103,84,82,71,11,36,16,9,99,14,20,8,53,5,93,73,71,8,7,71,92,12,21,10,13,69,83,72,66,9,75,70,6,123,16,80,7,80,18,29,18,44,6,159,37,15,23,16,46,64,50,95,66,6,86,75,96,41,61,9,61,65,15,23,16,46,65,50,95,66,12,19,10,88,44,68,65,15,23,95,53,117,55,118,123,15,17,10,12,133,32,88,15,36,24,145,67,123,48,120,60,63,11,85,59,5,58,94,8,15,22,98,80,40,74,14,37,131,34,16,26,16,89,19,51,9,17,47,10,13,89,99,109,64,38,44,15,33,19,98,117,96,87,81,89,82,239,77,147,12,25,24,163,18,76,28,106,104,87,10,75,16,21,143,96,15,25,19,76,78,70,35,55,128,63,18,31,7,29,17,94,84,109,62,115,165,51,109,80,62,31,78,19,23,17,24,167,76,54,7,147,49,44,5,188,61,8,104,73,48,9,168,71,8,110,81,76,10,124,9,53,96,84,6,102,14,21,22,26,93,111,89,99,45,76,46,90,65,109,127,24,86,56,95,64,12,49,126,47,68,77,102,57,62,6,39,115,92,7,66,74,15,44,54,116,96,182,101,16,24,9,12,15,8,18,112,67,124,77,76,123,7,105,96,91,72,8,150,159,71,111,57,10,120,48,37,65,75,21,77,70,84,8,73,53,9,105,8,20,67,55,19,57,108,7,80,80,25,20,66,82,77,10,74,88,91,14,43,9,113,33,104,76,36,88,11,32,47,13,121,102,93,71,8,113,51,97,9,75,77,77,12,99,57,6,49,78,54,101,90,10,39,101,53,31,96,71,33,69,61,40,4,67,54,111,7,69,123,12,136,109,7,51,76,7,72,99,8,149,72,9,114,9,87,56,109,8,99,95,50,7,96,93,68,6,130,4,136,11,17,9,12,27,13,6,13,122,158,92,106,11,176,136,11,206,142,8,125,80,155,7,93,94,8,118,8,127,9,93,72,11,15,48,12,31,75,119,67,59,31,31,15,12,22,7,17,18,125,79,7,114,121,113,92,6,84,106,141,190,155,174,4,46,58,76,4,109,90,41,70,10,100,102,106,72,83,101,10,148,111,127,7,111,171,95,46,14,12,17,6,18,8,66,142,81,86,16,111,56,6,102,71,145,7,140,18,110,7,78,18,89,12,121,132,148,152,139,99,9,83,68,6,122,84,70,6,10,6,14,8,6,31,16,39,6,50,77,48,32,27,8,49,98,59,51,35,55,128,40,31,72,70,70,100,95,92,56,61,8,12,18,18,46,72,81,82,33,20,12,28,39,22,65,57,81,14,58,64,44,13,112,61,76,11,89,73,119,50,111,98,13,91,88,73,77,40,9,90,49,159,50,118,73,11,118,123,88,58,13,112,56,9,70,82,50,49,86,50,25,77,75,69,156,8,16,121,86,28,40,10,124,82,28,30,5,81,33,49,11,34,50,28,33,9,42,45,87,9,66,31,41,84,10,131,45,17,27,12,13,42,73,59,13,16,127,40,8,98,16,20,16,33,20,50,52,11,27,16,36,7,41,14,15,10,25,28,19,76,8,127,133,9,101,45,71,131,92,66,10,70,49,11,137,108,29,34,17,14,68,89,24,95,11,14,69,45,38,42,13,13,33,24,16,19,21,25,88,148,101,10,56,96,85,9,76,80,8,81,98,101,11,115,83,5,83,111,103,18,61,134,58,59,95,108,60,93,110,90,56,121,69,78,147,82,87,121,49,184,99,122,103,96,17,25,38,206,92,11,193,56,145,138,10,115,81,10,55,94,64,116,9,173,9,134,74,75,8,98,68,97,97,8,25,15,23,23,137,13,73,98,9,98,13,85,47,91,9,97,106,98,183,11,86,55,52,118,145,64,37,10,114,13,67,70,14,144,13,25,14,110,83,60,88,72,8,93,7,26,17,95,100,90,79,14,26,16,13,17,124,67,51,17,124,69,58,29,21,14,24,36,26,6,25,15,39,166,17,30,16,165,93,63,93,118,34,60,145,95,92,23,27,25,11,12,7,73,66,34,97,62,8,126,8,72,39,53,60,31,8,121,94,92,4,107,100,85,107,7,124,91,76,7,7,81,155,106,5,137,87,19,32,104,85,88,22,22,8,15,12,218,71,64,28,154,274,57,19,13,60,9,73,46,18,30,10,98,61,85,99,57,62,17,31,14,13,111,96,53,117,87,122,60,83,12,23,33,84,93,38,104,110,14,17,12,96,17,30,23,10,15,23,34,199,142,125,124,17,26,242,163,82,106,13,35,34,109,104,80,13,22,25,20,113,112,103,48,72,90,63,82,80,36,81,52,110,17,40,33,52,49,12,28,81,99,54,49,113,31,14,45,88,45,53,58,50,37,90,10,20,20,13,62,81,146,236,128,50,62,67,18,16,11,9,17,44,74,111,11,163,124,53,64,92,8,163,159,92,85,8,76,107,5,94,146,10,81,107,72,101,109,82,107,45,9,180,117,121,10,128,10,104,84,17,9,6,17,16,20,45,205,96,7,122,51,46,99,10,150,61,33,129,5,39,85,48,135,11,93,84,85,91,112,111,8,94,139,68,6,176,130,8,88,9,82,112,13,28,11,64,120,33,15,19,14,16,10,11,116,111,73,76,119,63,7,98,47,124,7,67,63,112,82,142,104,109,8,61,138,73,102,107,100,8,105,81,9,101,114,101,81,9,114,97,106,13,60,79,29,60,6,83,44,37,28,52,58,9,46,58,30,43,14,49,112,80,168,108,126,98,149,56,13,78,77,73,170,115,57,93,96,158,125,23,18,16,17,16,17,16,13,35,19,50,46,75,53,9,107,62,36,31,10,42,45,49,67,17,30,15,113,76,104,15,62,59,63,94,78,49,18,43,14,68,86,62,44,86,149,14,44,21,77,65,10,77,60,66,94,78,11,78,21,65,86,18,31,28,29,135,81,93,114,73,72,73,123,86,17,38,14,114,108,101,126,133,107,85,81,13,42,78,69,74,70,95,15,18,17,18,76,48,103,84,84,12,59,85,75,44,70,90,63,181,90,63,95,103,78,58,55,88,98,17,25,26,16,103,77,73,11,71,101,105,34,64,15,32,18,74,30,45,15,89,13,80,11,33,23,142,82,86,94,76,55,14,25,12,16,42,50,71,68,79,86,64,78,90,87,17,51,20,91,106,47,132,99,79,103,15,31,17,104,60,78,74,51,58,98,9,6,57,39,21,46,21,29,139,85,143,556,58,100,106,19,19,20,27,22,167,16,101,43,22,67,34,23,10,24,22,24,22,19,18,108,79,49,20,79,24,42,27,40,21,23,59,28,58,26,21,19,20,20,40,13,40,20,57,43,48,26,64,55,65,27,72,7,79,92,8,122,74,8,54,50,15,49,13,136,21,75,65,114,159,90,72,10,124,90,11,17,231,44,29,55,43,11,38,22,14,48,74,31,17,18,43,18,67,7,122,26,11,33,17,30,34,31,11,90,57,25,36,13,90,112,87,318,70,11,249,9,185,14,245,119,112,8,99,37,16,33,72,21,22,22,20,18,19,17,19,23,19,21,20,17,21,20,19,19,16,17,21,19,21,68,84,17,28,34,72,76,97,124,79,113,46,99,97,78,46,17,33,19,48,29,77,57,30,28,104,6,15,14,12,15,14,12,13,14,11,14,12,12,16,13,13,13,14,14,12,6,14,13,14,11,12,13,13,13,17,14,13,12,13,12,14,14,12,13,13,12,13,14,12,15,13,12,13,12,14,13,12,13,15,11,12,15,11,13,12,14,14,13,13,12,15,14,13,14,12,17,45,63,20,59,10,33,86,81,39,12,36,73,60,13,67,169,45,134,75,17,26,17,19,41,51,91,84,64,9,64,62,9,119,86,78,8,94,11,76,16,18,22,130,141,200,126,14,14,21,89,73,97,106,70,57,51,108,135,113,59,91,65,16,25,15,15,10,90,8,77,109,50,9,68,60,5,58,75,100,8,103,66,102,68,108,68,10,135,124,6,96,73,6,58,9,66,59,7,81,93,77,88,10,10,58,10,17,13,11,19,11,13,19,15,13,15,17,19,31,40,124,114,49,91,66,107,95,137,153,12,92,120,122,193,13,33,20,21,166,94,129,60,97,40,73,113,60,13,25,12,9,16,36,98,30,25,42,124,124,122,31,38,9,81,101,124,69,10,101,66,9,57,67,57,7,79,11,62,7,84,80,132,60,7,82,56,42,49,8,42,103,56,8,103,8,58,62,11,104,106,94,69,103,10,17,15,11,15,15,13,19,15,16,16,11,10,22,139,111,34,76,75,66,52,16,22,31,41,77,108,85,142,98,127,121,131,10,17,54,61,53,114,63,19,36,39,84,98,105,53,9,63,86,67,11,32,25,73,63,7,75,8,100,73,77,66,14,28,7,93,8,94,78,40,63,8,188,9,32,90,105,148,8,119,5,92,110,6,86,89,10,68,90,89,140,138,17,41,106,77,36,13,16,42,65,39,88,85,56,80,40,87,65,13,23,130,47,15,28,85,63,77,83,81,31,84,111,23,75,17,70,15,34,13,26,14,76,97,57,63,106,20,29,67,81,98,170,50,15,48,76,103,159,198,19,43,82,151,46,94,99,84,133,86,94,13,34,80,47,112,52,12,22,72,49,69,100,15,30,13,16,68,97,109,67,160,81,167,127,92,169,47,25,163,75,45,186,25,53,27,18,15,30,15,91,103,202,163,112,67,108,39,68,13,68,64,75,56,131,75,34,78,103,11,34,29,108,88,65,100,78,105,77,101,90,27,108,13,22,9,64,78,23,20,51,100,98,47,111,9,25,17,7,98,98,18,189,9,180,127,14,90,17,65,17,65,19,96,113,126,95,19,29,103,67,28,15,20,58,73,98,90,84,109,24,18,21,21,76,82,45,50,38,12,14,93,65,103,10,30,17,109,105,108,62,50,74,56,47,62,10,29,21,102,104,100,137,78,90,124,120,80,93,112,90,107,84,112,14,19,13,115,84,49,73,68,18,77,54,76,71,73,42,50,116,58,15,23,19,110,57,65,83,40,77,15,23,85,63,65,57,12,21,17,15,60,78,91,7,65,48,28,5,89,60,45,36,47,33,8,60,7,70,14,31,14,38,13,30,17,10,73,99,79,96,64,13,22,10,72,68,79,72,88,97,17,25,31,15,113,9,52,21,81,14,70,91,16,37,59,42,34,9,105,21,53,21,43,14,10,16,18,12,10,46,109,65,63,89,99,12,82,18,73,66,14,55,68,48,50,33,67,15,38,23,134,72,83,16,52,48,66,40,55,72,72,45,83,32,84,11,25,10,14,81,67,109,131,122,72,60,54,54,12,34,16,49,75,60,71,60,78,50,30,74,15,36,7,103,103,14,60,52,22,26,32,36,33,21,22,44,22,21,20,11,141,128,12,82,124,74,15,26,44,111,116,169,72,57,85,72,124,123,62,15,67,62,68,47,31,52,43,91,102,56,44,39,10,40,47,65,49,33,65,88,53,11,64,47,53,48,59,68,61,48,72,75,50,76,21,68,14,29,60,19,26,50,52,45,65,20,84,40,14,53,61,55,26,103,24,86,14,52,37,47,16,24,22,32,20,63,22,86,25,76,65,22,55,41,51,82,15,47,79,13,74,19,19,20,82,15,18,14,37,58,13,34,36,26,30,54,20,44,14,29,91,55,18,19,25,19,71,51,38,93,62,20,41,75,71,98,10,37,35,4,22,22,27,5,57,63,75,33,12,135,17,23,23,59,16,14,13,17,24,13,8,5,11,23,34,88,33,71,49,53,11,10,11,8,26,49,56,56,28,70,71,31,14,50,136,94,59,58,106,33,35,10,16,72,17,48,18,38,77,57,77,66,63,68,72,76,13,62,72,40,15,50,80,69,44,59,53,35,53,66,44,24,45,16,47,115,40,78,74,76,113,67,60,14,73,71,93,13,26,116,73,59,46,17,64,78,46,45,49,91,8,38,114,11,59,63,83,59,79,45,55,43,10,57,84,64,42,60,53,11,65,47,79,58,14,55,8,61,64,40,33,49,38,14,63,8,63,122,32,64,9,68,59,55,11,70,54,68,100,7,56,54,8,74,70,51,10,60,132,60,65,79,31,100,18,32,81,72,30,45,22,44,73,27,12,37,15,46,10,12,56,43,61,78,5,54,64,67,35,101,78,30,58,66,72,44,8,95,69,76,88,90,89,67,9,69,64,51,77,12,111,57,99,120,9,85,19,71,69,90,40,10,35,68,33,48,63,81,49,64,63,35,63,14,52,72,62,56,71,59,32,61,25,10,42,81,58,45,58,57,118,70,53,57,57,11,42,60,67,85,17,31,21,10,26,58,12,33,19,14,47,33,16,18,21,30,23,29,31,25,18,44,120,20,52,20,38,30,31,43,28,20,37,22,9,47,98,83,186,15,6,104,41,49,58,13,9,26,152,83,14,87,120,105,119,106,65,16,20,18,13,19,8,38,31,36,63,42,21,40,40,24,38,45,12,18,20,14,10,42,39,31,25,28,75,38,36,22,59,12,26,11,47,34,45,66,54,28,10,43,66,79,31,31,29,64,12,91,46,51,32,35,31,18,69,67,75,100,64,57,74,45,58,77,25,56,33,42,22,57,71,29,52,46,48,14,35,48,53,39,40,25,16,47,93,59,49,68,7,38,33,54,74,48,15,49,75,26,71,63,38,20,39,54,35,70,29,49,33,25,69,12,48,44,47,85,26,50,11,25,65,88,25,46,10,38,81,72,48,52,38,11,23,33,47,62,61,39,10,28,71,69,84,21,18,31,62,23,32,20,19,36,21,17,27,19,9,42,62,53,41,54,64,84,54,15,59,69,32,59,52,50,39,31,35,28,33,26,34,11,50,54,64,11,77,7,50,21,9,66,9,52,39,7,33,32,28,53,50,51,17,41,94,35,71,71,12,28,14,59,77,43,17,30,16,63,45,25,78,15,67,53,18,99,7,122,57,14,88,11,101,16,65,30,143,9,76,40,78,68,100,13,73,48,15,10,58,27,105,7,80,81,69,74,36,10,63,87,6,69,45,46,9,84,39,12,31,18,60,25,19,23,92,56,62,38,63,11,89,65,81,27,103,133,8,47,75,66,64,41,67,93,76,65,42,90,10,39,61,41,9,61,98,43,25,13,75,43,82,76,14,52,69,48,46,46,14,45,92,54,54,79,75,57,68,61,55,76,68,30,26,45,12,81,80,51,58,78,92,65,38,62,12,80,84,42,96,70,56,7,65,37,101,36,93,51,42,9,115,89,51,68,56,59,10,82,89,60,37,73,77,44,17,70,67,58,9,21,23,42,66,12,45,66,52,10,66,44,58,89,11,37,67,37,52,85,61,9,77,47,59,56,89,13,74,54,108,13,64,69,52,80,67,12,120,65,82,107,43,50,106,66,7,57,45,42,26,13,53,71,65,43,28,66,41,22,22,34,21,24,15,17,8,39,84,18,82,76,83,49,14,46,54,53,79,30,12,27,55,51,104,37,50,44,62,37,40,12,48,15,14,84,62,67,32,32,58,100,77,44,80,58,46,54,61,16,35,105,82,11,128,99,12,59,40,43,12,29,27,68,5,76,37,53,34,50,41,6,38,46,21,40,45,38,5,49,40,40,41,17,76,6,92,43,64,6,41,67,74,41,9,64,81,49,46,38,57,18,56,21,63,44,73,39,68,36,40,66,41,46,67,50,44,40,46,50,74,95,51,40,47,27,18,39,17,13,13,70,63,74,99,39,12,47,42,38,92,73,8,72,37,98,15,144,50,12,57,54,49,31,13,70,46,60,58,14,49,59,63,9,80,36,40,11,109,55,82,39,61,76,44,35,12,84,29,50,30,18,19,10,16,35,93,63,33,94,58,50,26,4,18,62,57,5,59,30,35,9,51,17,24,16,53,85,103,17,54,38,37,16,60,59,17,47,45,19,55,30,6,43,52,35,37,38,24,57,20,12,73,125,36,60,40,81,53,38,22,54,58,71,74,72,59,71,67,54,32,11,31,26,37,23,45,42,32,31,40,20,28,29,43,12,67,59,59,29,13,28,61,36,45,59,26,57,53,11,26,44,96,43,58,42,50,10,20,65,63,33,41,9,28,68,82,38,39,58,70,21,46,37,13,30,110,27,4,4,5,25,36,85,113,73,9,23,82,48,33,48,32,26,19,54,52,69,85,36,45,30,28,103,61,44,25,16,61,81,49,96,31,51,77,60,82,65,102,79,89,64,44,53,41,12,29,81,82,42,76,65,81,34,45,116,83,52,72,64,38,54,20,38,103,66,40,75,28,103,88,62,44,25,10,19,62,45,102,37,123,61,94,36,86,67,69,15,24,66,42,54,44,46,21,10,24,12,22,14,8,15,14,14,15,14,17,24,10,7,9,13,16,13,8,42,36,34,40,9,9,48,53,14,23,19,11,9,42,14,19,32,62,63,78,56,66,69,119,43,82,90,25,15,37,47,21,10,24,16,12,26,54,24,33,153,62,42,16,72,92,31,62,36,31,57,108,33,33,77,20,43,84,108,11,36,12,25,67,89,61,48,36,33,65,46,15,52,17,25,68,45,120,22,38,14,28,5,9,6,7,64,57,56,17,117,21,34,142,40,16,35,167,123,136,123,6,30,39,47,28,109,91,15,8,8,44,27,14,13,15,10,6,43,14,19,4,8,5,5,33,10,22,9,41,29,26,47,131,163,391,20,49,67,67,45,28,67,53,15,23,25,13,25,35,64,30,39,47,52,31,36,45,34,43,42,47,57,35,13,16,52,36,46,34,30,43,64,33,26,51,52,36,54,53,8,21,14,30,17,30,56,41,36,81,54,74,59,139,104,61,124,76,16,32,10,27,13,59,34,23,28,68,29,49,30,17,27,10,20,25,33,11,7,18,25,21,52,47,38,40,32,18,29,19,11,55,42,45,9,39,30,28,22,24,50,50,10,61,33,40,63,59,45,57,26,50,35,9,79,67,61,43,10,40,32,56,39,48,57,56,59,34,9,59,71,44,33,10,69,40,28,34,56,32,19,18,12,7,31,60,72,44,42,33,13,90,40,31,30,10,62,35,21,12,37,20,32,41,69,170,50,67,41,59,78,47,86,107,14,41,54,63,35,59,34,45,43,59,43,36,41,28,84,49,52,39,15,18,30,16,87,94,74,75,87,22,78,78,83,49,33,89,41,61,34,16,49,64,76,59,65,60,58,40,80,31,38,115,64,14,15,7,6,16,38,55,38,25,21,78,32,39,13,28,14,11,43,62,63,51,59,49,44,80,60,22,24,19,23,20,76,31,11,15,20,118,33,79,65,47,12,26,85,41,64,67,92,42,12,23,26,22,81,96,74,6,82,58,56,60,87,105,53,86,94,53,99,30,70,65,75,49,105,59,35,44,76,118,14,36,61,38,50,15,63,13,13,21,31,24,17,15,14,7,12,18,34,51,21,11,37,28,33,44,47,52,40,65,55,11,24,64,43,35,45,16,19,20,82,31,62,52,88,55,38,9,37,16,13,104,66,54,31,66,46,42,52,11,70,38,39,69,86,20,39,19,24,43,32,41,9,17,16,15,12,10,71,34,27,44,31,79,49,53,19,19,42,52,32,33,23,23,41,41,25,17,15,13,33,12,67,44,32,82,40,42,60,44,18,13,32,32,32,58,10,24,30,62,79,63,78,53,36,66,59,91,70,7,38,37,46,55,41,32,10,45,79,36,42,51,45,9,30,16,55,48,15,20,20,40,17,32,11,21,35,10,114,74,27,61,49,42,39,21,63,12,33,14,35,21,39,8,8,9,11,7,8,9,7,15,6,11,11,12,7,7,9,16,15,46,31,42,10,7,11,8,21,178,70,56,45,44,38,63,38,23,11,20,97,59,27,39,45,11,20,21,11,65,45,18,85,16,60,118,22,21,85,65,19,20,18,30,11,68,95,33,41,85,40,53,76,85,66,70,57,15,12,9,27,68,16,39,58,40,26,42,57,44,19,56,34,21,21,57,52,68,49,34,64,31,43,52,59,55,28,37,34,21,17,14,14,20,36,18,54,16,14,27,30,19,14,29,20,9,29,21,12,14,23,33,13,39,18,10,40,22,29,18,37,23,30,28,52,44,65,47,34,13,35,51,29,49,38,17,39,70,53,14,70,79,144,71,65,14,29,52,48,79,57,45,37,70,55,51,74,40,45,46,73,42,95,90,71,61,56,57,48,61,39,30,71,68,54,35,18,52,53,74,18,164,57,37,68,43,20,70,99,45,78,65,43,38,8,59,25,64,9,61,46,10,44,83,35,29,30,10,59,56,34,47,43,81,13,40,59,58,96,97,55,93,12,87,11,46,35,8,81,72,65,12,58,33,43,55,12,74,56,41,79,9,85,75,34,13,58,49,73,71,37,17,72,31,52,26,100,90,71,10,87,55,40,7,92,38,6,56,10,93,13,43,76,84,94,39,40,9,25,60,33,107,40,67,29,37,75,48,30,60,57,14,94,21,43,59,52,46,36,11,34,8,14,94,84,69,50,58,51,59,11,54,46,39,23,8,6,6,8,6,6,9,6,7,7,7,7,8,7,8,8,7,6,6,6,7,7,7,8,6,7,7,6,6,8,6,7,6,6,7,6,8,6,6,5,6,7,6,7,8,8,7,7,6,7,6,7,8,7,6,7,6,6,6,7,7,6,6,5,6,8,5,8,6,7,5,5,5,6,7,6,7,7,7,7,7,8,6,7,31,68,13,66,64,18,23,12,18,64,40,64,50,37,50,18,14,15,13,14,6,7,12,25,58,58,46,39,86,60,34,9,36,56,24,51,22,36,32,51,17,39,34,72,39,46,55,29,16,16,19,16,46,57,64,39,29,56,51,55,11,82,47,7,55,41,62,38,8,32,20,14,18,50,22,16,36,38,67,46,28,41,57,23,45,37,43,12,40,66,67,14,42,92,19,48,27,67,54,65,47,43,41,32,41,12,26,21,118,71,154,128,9,23,46,46,71,118,48,39,102,73,11,37,85,31,61,64,35,81,61,28,63,18,55,7,42,71,47,38,70,62,22,26,57,21,42,13,21,10,51,40,61,50,26,11,19,76,41,40,14,16,32,47,49,20,16,18,34,17,41,63,45,59,22,9,25,32,43,34,9,55,44,73,86,17,37,14,12,18,43,38,21,20,27,18,8,16,30,48,18,23,23,52,29,60,41,70,42,35,32,12,16,21,58,17,13,40,49,16,10,102,72,67,66,50,26,56,57,59,69,78,64,107,29,37,15,39,54,53,69,87,46,88,49,65,61,45,21,12,7,8,37,55,42,11,40,61,52,59,47,50,40,39,26,25,18,70,39,52,49,34,49,36,32,55,48,39,79,51,54,39,41,54,40,16,20,66,44,64,51,79,60,10,32,28,11,32,75,59,30,68,45,95,83,6,116,51,45,15,7,68,48,62,47,48,80,7,87,93,67,81,27,18,45,32,20,17,20,23,15,9,58,61,81,69,77,9,95,8,71,72,8,136,7,78,12,16,39,7,44,42,42,24,29,69,11,68,32,49,32,9,72,37,38,13,100,67,29,14,33,27,17,23,40,44,31,17,28,52,56,21,27,14,13,26,32,19,17,17,19,19,21,22,17,20,21,20,11,18,17,20,18,18,16,16,18,16,18,18,21,15,20,17,19,16,27,20,19,19,20,22,20,23,21,18,19,21,19,18,17,21,18,19,20,19,19,12,47,27,38,40,45,27,81,34,32,21,14,48,21,96,45,67,61,76,75,49,33,90,69,46,52,64,20,59,57,9,38,136,53,94,69,58,11,27,24,17,16,15,33,31,38,22,43,20,5,21,23,25,39,8,56,39,27,8,50,31,27,8,39,31,31,22,40,28,9,46,45,48,26,10,55,15,13,18,20,29,8,55,51,53,9,36,31,52,9,29,38,37,49,25,10,45,46,68,25,8,19,35,43,29,7,22,17,60,7,52,49,8,56,46,40,14,43,35,100,63,46,66,49,62,66,63,95,76,64,16,28,16,132,28,19,31,47,59,16,10,19,64,28,43,66,35,22,44,11,17,19,129,68,32,15,79,44,14,25,80,52,23,54,6,19,37,40,35,56,28,49,56,26,9,11,7,13,17,47,45,66,53,11,54,60,43,47,64,30,9,59,41,54,62,44,49,6,77,45,67,49,56,38,55,11,19,33,40,44,56,45,49,58,8,32,8,30,51,14,8,31,28,27,31,34,56,48,29,53,24,19,35,57,37,36,25,10,19,51,58,56,9,28,70,25,40,43,34,29,58,71,38,58,72,75,87,70,97,14,34,51,44,73,24,98,149,59,57,52,27,52,43,30,3,18,110,16,33,12,15,99,16,12,36,32,52,65,41,63,42,41,10,24,47,59,49,22,8,27,58,47,58,35,62,44,22,11,13,7,81,55,32,62,44,65,25,98,22,39,72,70,16,42,57,83,83,52,79,90,73,68,10,97,53,51,11,73,4,8,5,6,13,9,10,13,15,10,9,8,7,10,14,9,101,13,26,82,30,42,60,79,9,23,22,74,54,78,78,42,68,45,74,68,11,34,90,62,58,36,11,31,65,32,37,68,7,61,53,87,38,49,80,29,11,18,92,43,20,80,49,51,27,11,29,24,27,121,73,57,93,88,45,105,13,83,39,27,69,22,21,13,66,55,16,59,39,28,16,62,46,11,63,24,52,112,41,47,128,47,41,12,82,67,94,76,78,82,102,66,11,32,76,58,87,12,54,17,28,17,60,14,28,48,50,36,61,58,73,13,28,78,49,62,50,7,25,66,57,66,35,65,39,7,45,70,36,64,44,9,72,42,55,13,11,29,30,68,35,58,60,35,24,27,10,47,11,91,52,40,89,18,32,51,79,87,61,48,73,85,41,67,20,47,57,56,41,39,36,80,47,63,18,50,51,57,58,74,35,85,18,42,28,95,20,43,48,8,14,27,51,33,45,44,48,32,30,43,39,22,15,21,57,46,38,41,55,13,18,64,47,34,45,13,62,59,63,40,61,54,71,94,30,57,56,11,34,62,57,65,43,90,98,35,12,34,113,33,41,85,70,41,41,44,15,95,59,110,8,54,74,10,93,39,10,63,12,66,27,100,15,52,19,42,9,107,54,69,20,27,27,64,43,39,128,7,17,88,15,99,6,20,95,12,63,17,30,9,61,15,65,23,43,6,115,59,33,10,66,114,10,48,226,71,38,68,49,96,53,106,80,61,78,51,14,11,20,10,14,16,50,46,57,44,42,73,28,84,72,52,59,114,29,73,12,105,78,6,57,51,77,62,63,62,48,83,59,9,74,31,58,47,9,87,34,9,110,36,71,7,63,59,61,29,11,33,22,62,81,114,93,55,99,64,116,71,55,37,10,31,34,27,7,36,31,24,34,66,31,12,36,39,29,46,19,69,39,42,30,34,70,8,63,32,31,36,64,56,49,65,56,81,44,25,39,48,44,34,45,16,17,35,36,38,45,29,24,22,8,44,64,32,24,25,8,42,60,26,30,52,49,11,32,11,32,14,9,73,72,50,55,110,44,88,29,47,26,14,22,21,23,92,77,54,28,24,43,121,77,45,45,17,52,87,27,82,20,11,30,107,28,23,24,69,50,52,56,51,45,38,30,16,21,63,73,50,67,17,115,11,39,15,224,88,17,7,8,8,9,13,9,10,9,13,15,10,9,8,7,12,12,109,128,16,33,45,32,63,52,42,9,36,38,61,45,15,38,56,66,27,52,83,57,11,72,72,67,14,22,20,36,32,63,20,14,21,13,78,39,80,34,81,109,78,28,44,16,48,43,47,71,79,62,74,27,13,33,17,17,70,29,12,24,10,6,22,52,4,17,56,338,131,202,9,48,73,165,68,57,37,82,80,162,43,47,46,51,73,57,50,28,127,21,54,90,52,38,42,55,53,36,28,57,31,93,43,61,15,25,10,15,85,47,102,101,69,71,18,41,7,67,39,84,54,33,13,62,37,58,38,33,16,25,46,37,61,28,59,66,19,29,22,13,66,76,45,23,62,39,40,56,64,13,76,91,40,15,23,9,70,39,106,86,109,51,36,78,28,37,54,82,51,41,13,32,23,59,65,10,53,38,8,48,79,50,56,15,49,95,92,73,58,41,87,93,13,29,88,57,88,103,97,47,56,38,12,16,21,26,40,24,22,25,33,23,49,13,27,34,25,53,32,45,24,17,51,49,54,99,90,114,92,48,59,57,44,13,11,26,18,20,52,43,81,134,54,59,78,75,61,8,70,53,40,64,21,59,6,15,13,63,48,27,34,36,52,43,21,14,40,55,49,12,51,47,35,26,11,43,40,18,24,8,10,12,8,56,77,62,55,36,66,14,69,119,48,50,19,71,19,100,12,72,53,13,87,123,60,41,56,11,28,81,56,73,68,38,37,34,27,37,38,30,13,24,54,24,45,41,36,14,40,24,59,51,59,55,50,99,80,87,13,13,30,70,47,31,90,9,159,54,48,43,72,34,50,40,16,35,32,48,30,25,35,26,94,58,8,25,11,72,67,30,54,28,38,12,53,60,51,46,55,30,12,24,20,68,55,83,52,18,17,31,47,66,94,68,40,65,14,60,99,63,81,35,52,35,37,28,11,52,54,75,33,107,62,105,62,35,14,49,48,8,28,108,50,51,24,108,56,36,84,13,74,66,61,46,35,44,89,66,130,85,54,62,83,47,47,36,14,44,8,55,65,83,8,73,52,33,40,59,70,13,17,29,58,35,20,49,49,112,86,12,26,10,11,51,27,61,70,76,109,9,48,70,29,44,43,59,49,10,31,20,44,30,38,40,40,14,46,129,34,42,66,66,53,28,77,36,44,13,31,67,63,78,76,122,44,45,12,11,36,66,63,58,71,81,66,12,43,26,52,62,11,71,38,39,83,27,55,49,38,15,31,21,19,66,58,46,63,50,51,60,13,58,76,40,66,49,51,16,35,11,25,19,76,15,64,44,13,15,15,58,22,11,22,30,19,12,14,38,10,53,67,37,113,30,44,15,67,14,40,10,37,41,19,64,13,37,11,25,75,46,76,93,93,86,79,54,41,87,64,71,31,9,16,39,28,48,46,14,15,12,28,18,56,57,42,47,69,64,103,30,54,23,63,60,57,77,51,69,78,55,32,51,88,63,109,23,61,91,69,61,13,29,83,96,43,57,19,17,50,25,119,58,29,83,86,34,57,33,45,44,29,37,8,24,12,82,31,38,38,20,17,48,10,29,56,45,33,61,45,28,44,14,19,38,10,69,64,61,58,62,34,37,34,29,88,63,48,59,34,50,57,39,72,10,44,35,70,19,32,30,57,27,10,82,33,99,56,23,21,29,13,45,27,20,77,66,10,64,24,13,25,39,16,88,45,76,36,18,51,34,42,49,52,30,47,45,43,51,5,13,7,9,7,12,12,13,16,12,28,27,4,13,32,20,19,20,24,14,24,15,25,25,14,11,12,14,15,15,25,30,22,19,15,17,16,22,19,12,15,21,12,11,11,10,36,13,52,85,40,64,31,62,80,55,9,34,15,44,40,14,44,46,16,47,45,29,31,24,47,26,16,48,79,54,49,52,12,79,30,36,53,17,52,40,18,66,25,11,60,49,16,66,7,12,51,42,41,27,10,32,27,106,71,53,59,64,36,10,34,62,30,46,72,49,38,30,53,54,40,24,10,33,43,53,30,36,26,23,22,45,35,62,15,67,15,47,49,54,4,40,51,16,86,17,71,27,11,30,24,22,12,46,79,55,66,33,31,57,37,16,10,29,85,28,31,37,98,52,27,34,36,34,12,15,24,54,38,76,35,14,16,13,114,49,28,29,55,25,71,87,49,67,89,36,37,67,17,27,31,36,18,63,35,14,60,15,29,13,23,66,42,62,51,36,33,59,45,65,15,104,20,25,16,36,44,22,62,32,17,47,107,26,64,46,62,93,106,37,81,96,59,87,83,36,17,22,53,122,56,50,48,37,52,79,57,13,32,128,20,85,81,34,58,48,101,64,67,79,75,48,82,90,13,15,82,55,99,8,68,20,16,76,7,42,60,32,42,41,53,48,33,17,39,39,14,31,51,111,73,45,66,9,70,52,5,72,66,75,9,43,110,83,77,33,68,22,31,30,20,10,120,59,15,65,57,8,55,70,33,79,43,8,85,54,45,15,124,100,45,52,10,92,40,9,77,59,41,106,8,72,62,43,12,40,66,24,81,41,10,60,97,10,46,20,20,8,79,89,12,46,21,66,13,54,38,55,8,64,27,15,21,13,56,87,38,80,9,9,16,21,25,6,26,23,12,21,23,9,26,33,17,28,32,16,16,33,48,53,54,36,28,24,17,27,69,18,6,55,31,39,56,58,7,15,53,18,29,31,6,54,8,12,12,19,13,33,12,21,10,22,42,31,32,34,8,49,30,35,30,36,48,44,11,61,113,50,47,54,58,33,9,57,59,45,47,44,28,32,40,24,14,16,5,44,26,52,11,57,45,27,41,54,36,43,39,13,33,18,13,11,98,50,41,27,33,18,13,11,98,50,41,27,33,18,13,11,98,50,41,27,909,286,9,236,11,316,10,33,10,58,29,46,74,49,34,74,47,11,33,55,80,59,12,10,41,52,68,48,41,29,23,28,29,17,18,41,9,16,8,95,13,28,23,14,10,68,41,43,67,23,16,87,50,57,15,69,41,25,67,61,78,10,61,56,61,14,66,24,53,20,10,51,54,53,19,56,27,16,82,26,19,30,16,44,11,49,56,37,36,22,56,40,12,61,59,27,19,27,16,78,58,42,31,34,49,21,12,35,88,18,36,37,32,47,18,38,22,30,13,27,18,52,53,71,28,161,85,53,53,91,73,9,22,64,81,56,92,64,42,53,38,72,77,45,96,58,9,49,59,47,120,87,50,73,157,62,73,82,44,57,52,62,16,22,70,13,31,55,48,52,39,40,12,27,15,34,37,8,57,20,30,49,44,55,14,51,44,38,48,51,45,50,53,27,60,52,11,76,84,14,61,65,35,17,111,46,91,52,47,38,33,9,17,77,48,29,14,25,12,26,9,40,14,55,39,23,32,34,33,42,62,36,35,51,71,36,10,7,7,9,51,23,56,42,26,38,37,50,12,28,104,27,11,11,8,10,36,60,45,20,59,20,19,23,24,87,32,9,125,95,91,120,12,69,41,23,104,108,78,87,58,65,72,36,13,29,30,43,30,73,22,46,65,29,46,70,9,57,47,62,49,39,27,28,21,46,28,74,35,45,28,78,34,77,73,37,64,58,38,11,37,21,79,36,29,56,53,37,12,33,65,34,78,48,35,11,73,50,123,116,53,55,48,56,39,54,26,65,79,78,53,38,84,11,20,98,68,59,59,88,33,35,89,13,18,16,56,37,59,47,100,60,16,31,62,34,47,59,29,53,49,13,43,56,47,51,42,76,24,87,15,23,24,84,49,95,10,43,48,36,47,48,56,84,70,57,74,86,86,62,61,44,14,29,7,17,28,49,65,41,48,53,31,59,46,41,87,68,50,65,85,55,51,90,81,18,97,79,70,89,61,40,89,96,98,83,74,41,49,45,84,44,78,73,77,48,66,40,102,48,36,17,42,31,11,72,32,60,46,41,41,53,11,66,10,38,90,69,42,12,48,50,57,18,38,33,11,79,9,110,52,19,59,15,87,87,12,81,9,69,57,76,14,63,64,82,7,66,99,12,52,50,81,62,10,46,106,9,44,65,10,58,70,14,90,38,8,72,88,36,11,67,75,10,108,10,99,14,42,62,19,37,104,23,26,28,36,65,66,60,23,13,11,15,11,13,17,12,13,18,39,35,20,10,13,19,15,72,77,62,27,29,12,18,13,35,27,25,49,13,24,47,33,26,19,41,23,15,42,14,18,12,13,29,14,102,78,80,36,95,12,15,46,57,101,48,42,61,74,67,43,57,39,11,66,84,77,33,38,17,41,49,31,13,49,16,39,141,90,21,36,53,38,46,52,38,49,33,45,20,47,23,27,23,37,27,29,14,14,25,22,16,41,22,48,12,49,40,51,31,58,13,17,7,56,41,17,43,50,30,90,41,45,66,19,76,57,32,46,34,36,10,48,33,47,39,15,29,34,25,15,8,62,26,23,27,56,40,27,11,12,15,16,51,89,88,95,88,177,135,13,64,95,64,29,16,31,30,78,56,41,18,34,18,25,15,6,29,42,49,31,29,200,112,129,14,82,86,89,63,82,26,69,23,83,71,15,90,116,100,111,60,84,15,74,93,152,96,85,114,84,71,44,43,109,36,86,43,11,56,59,79,85,56,33,65,9,63,21,35,68,58,8,90,24,46,42,51,56,38,28,48,44,73,9,72,90,75,9,68,41,29,68,37,39,41,10,87,17,22,26,54,30,35,34,56,33,13,58,56,46,10,69,74,47,49,48,46,12,60,24,51,79,57,11,57,97,86,79,66,54,14,34,60,46,52,39,33,36,12,11,101,131,67,63,12,95,47,11,68,61,52,46,15,123,57,101,87,62,43,7,107,8,49,8,111,10,109,83,9,77,59,88,19,25,15,12,56,66,32,71,33,151,69,32,51,39,15,18,11,16,20,67,112,60,50,75,12,76,54,106,69,66,44,8,108,91,62,9,117,98,67,56,82,116,58,60,46,50,16,13,25,16,11,89,45,65,52,42,32,74,87,50,73,69,78,10,42,18,78,109,66,32,58,69,57,25,21,67,32,74,107,96,90,119,102,76,44,65,46,38,50,57,20,9,31,18,17,56,53,30,59,67,8,106,62,72,107,8,76,102,79,47,8,46,103,89,55,17,46,101,40,41,48,36,76,44,40,41,34,16,39,23,15,12,65,48,68,79,9,80,46,40,82,56,84,60,10,59,76,56,84,7,51,51,10,38,65,53,67,6,96,18,40,6,64,57,52,84,14,41,20,60,25,15,11,84,29,61,12,134,90,40,33,8,90,49,9,111,77,37,7,91,42,70,10,69,53,61,80,7,37,38,44,25,32,30,8,82,40,24,23,22,15,20,33,11,47,53,12,106,51,47,75,60,31,45,40,12,57,37,70,104,67,44,9,124,53,91,100,102,53,55,10,98,61,50,10,89,48,55,18,35,83,11,83,60,55,12,64,93,85,39,12,60,56,76,34,96,127,10,42,56,18,16,35,58,52,45,17,62,29,60,60,39,26,14,23,85,93,44,17,44,43,18,23,47,58,10,39,54,40,10,45,55,51,85,16,56,95,57,91,84,59,53,38,13,17,98,61,49,45,16,30,82,93,38,38,50,6,55,84,63,51,67,44,25,80,11,13,15,18,59,56,60,49,11,44,69,120,70,37,103,17,66,43,27,76,28,119,55,66,69,52,15,43,60,22,61,61,52,19,39,54,29,55,68,50,49,54,59,66,39,29,12,124,38,13,84,8,9,5,7,44,36,48,9,62,39,39,67,44,47,10,60,37,40,12,71,86,75,12,95,39,8,98,7,58,81,23,7,187,11,34,39,25,25,17,37,23,45,73,18,20,35,48,76,8,62,53,15,23,39,48,41,32,82,24,28,6,46,14,13,15,10,17,25,17,39,31,29,27,17,25,22,18,16,18,26,44,18,25,21,25,41,27,21,28,21,8,28,28,13,20,44,24,6,56,39,27,46,6,34,51,90,91,136,8,52,73,54,44,75,60,6,43,36,53,33,42,29,55,13,14,28,19,18,23,7,75,74,8,30,56,35,24,14,7,39,8,23,35,40,16,43,32,75,19,63,28,33,7,74,41,72,46,48,8,72,75,59,11,17,9,14,15,21,9,40,46,6,55,12,31,32,5,62,60,17,18,20,7,53,26,55,69,68,64,57,10,46,39,36,46,6,14,14,14,18,52,38,55,60,62,36,45,40,71,58,31,22,40,18,60,27,6,55,38,23,8,39,53,54,44,76,30,49,9,54,21,48,10,8,43,47,52,17,35,11,44,32,14,16,17,13,15,21,25,13,33,14,18,30,20,53,23,68,12,45,18,28,54,39,10,46,50,36,29,24,23,31,41,48,9,43,35,40,31,6,35,15,56,49,48,8,53,49,52,6,53,30,76,44,41,31,41,52,20,9,57,27,44,61,69,54,12,60,78,70,20,28,32,49,45,88,64,51,61,70,51,38,77,32,54,62,42,60,38,64,58,47,49,51,26,10,25,53,26,39,65,31,80,17,45,23,81,68,47,126,76,104,116,69,56,14,74,88,15,19,85,43,76,63,7,7,7,6,12,10,5,10,16,9,7,22,69,10,46,9,8,11,10,30,9,14,8,7,10,20,45,36,93,32,45,36,39,31,9,76,30,27,15,15,16,14,14,8,8,14,14,15,14,15,14,14,19,17,15,17,15,15,15,10,15,88,12,87,81,66,81,7,71,20,18,27,74,31,40,111,77,8,101,24,34,36,57,85,79,53,46,9,75,73,62,53,59,47,9,48,30,49,52,33,27,87,52,7,77,51,62,34,27,123,11,82,64,23,44,45,44,47,35,68,70,37,11,22,16,113,59,67,42,82,39,90,18,9,44,73,85,53,58,25,14,32,7,11,10,18,53,48,13,36,46,31,10,40,29,37,70,93,20,13,14,16,4,19,15,18,5,13,12,9,6,13,17,17,4,15,12,12,4,12,13,14,4,11,11,12,12,18,22,30,46,74,5,11,14,11,4,11,14,15,5,14,13,13,6,11,13,10,4,14,10,11,4,15,11,16,4,11,10,8,49,40,59,52,44,67,50,46,18,22,42,46,35,13,28,29,17,59,69,32,52,5,90,32,74,4,102,13,66,53,6,68,77,51,5,60,126,5,60,52,6,113,11,67,83,57,6,21,84,41,92,11,163,48,55,8,50,62,10,113,62,6,77,103,5,65,53,45,52,12,52,25,54,80,83,79,90,110,59,85,54,55,10,33,29,19,31,36,23,62,5,27,18,25,26,51,35,48,38,32,45,24,43,30,57,35,40,33,35,64,44,12,22,15,18,42,14,23,18,43,18,32,31,22,31,18,24,34,20,30,10,19,20,81,71,48,58,93,100,6,48,41,29,13,18,44,24,28,18,17,22,84,12,35,23,21,7,63,65,10,110,54,11,63,43,83,39,27,17,80,107,71,45,58,38,82,105,81,61,48,42,96,58,13,43,49,33,85,73,50,41,58,62,42,72,42,110,28,11,38,47,61,92,49,69,58,13,15,44,63,56,59,102,65,55,50,82,79,32,59,72,13,23,28,17,9,56,88,86,54,73,53,117,67,62,71,20,46,18,24,72,58,96,6,115,71,43,81,66,48,21,12,78,116,105,37,29,64,35,77,96,7,54,65,40,40,54,15,35,61,56,89,53,55,64,14,29,19,56,35,9,13,11,11,13,11,13,13,11,12,11,11,17,15,13,12,10,11,16,18,13,14,14,15,13,12,12,12,13,17,11,14,11,24,10,11,16,9,16,15,11,65,23,17,40,97,69,67,57,50,69,17,29,18,18,16,18,19,25,91,39,21,10,21,20,23,22,30,14,14,28,24,30,64,52,17,82,81,37,84,71,73,35,91,14,16,71,39,26,19,26,10,31,111,75,80,83,72,110,35,55,52,65,23,12,48,72,62,76,52,51,74,83,104,88,77,28,87,56,40,68,36,62,36,41,14,40,70,83,61,46,16,13,15,143,67,42,34,14,41,109,64,59,50,90,19,70,32,16,21,124,54,35,11,26,69,54,84,82,57,66,30,34,18,35,16,21,52,44,55,27,11,45,15,86,38,48,29,16,14,34,52,22,46,35,42,67,13,21,20,14,86,100,74,82,54,106,106,31,34,36,46,88,65,44,43,37,41,66,96,60,37,90,66,80,47,15,32,112,81,49,48,46,12,47,77,26,76,48,40,48,56,33,22,30,42,34,25,31,27,32,35,35,33,15,52,95,133,12,61,76,85,41,89,11,31,49,36,58,22,13,19,81,59,49,14,27,72,18,52,30,12,21,21,27,23,11,22,19,30,12,21,13,16,9,35,12,30,19,19,50,70,44,67,29,99,62,28,44,99,60,44,79,65,16,39,21,16,73,59,41,81,58,39,56,107,110,71,58,91,105,70,11,54,69,100,75,68,34,53,41,16,24,80,48,30,27,21,11,37,25,13,17,17,34,61,131,61,24,12,14,13,13,32,46,41,76,50,50,61,44,18,52,49,95,46,61,22,57,41,25,99,60,58,88,101,96,55,83,8,25,7,19,81,84,70,117,58,6,59,65,73,53,71,13,43,32,31,100,31,33,36,16,47,87,46,49,66,63,45,32,57,68,9,51,84,30,53,31,35,15,76,52,61,46,17,72,54,11,30,83,36,127,75,69,47,71,51,44,14,23,18,77,74,90,46,36,50,71,45,51,37,13,37,57,49,77,65,59,18,28,58,36,69,47,51,40,9,40,45,59,16,50,59,45,52,55,37,63,70,42,80,45,49,57,29,13,36,30,40,54,34,89,47,90,52,52,62,43,90,58,49,59,38,53,14,27,54,101,49,58,63,74,66,94,65,69,98,18,10,12,8,9,25,21,29,71,61,32,40,34,20,36,42,67,56,23,17,49,113,71,126,40,37,43,40,44,49,79,15,24,89,74,46,55,65,69,57,63,46,82,9,18,66,14,42,168,41,60,44,84,45,79,83,52,31,12,93,78,56,23,36,37,58,76,65,43,110,56,61,62,55,92,12,54,119,52,21,12,26,50,91,61,30,25,44,18,38,43,42,49,36,45,80,94,49,62,41,19,23,49,55,65,39,31,34,42,36,19,17,40,136,111,113,50,54,64,21,22,93,107,62,19,100,48,34,65,83,61,73,60,17,21,105,60,77,50,13,47,71,60,34,86,54,104,43,74,68,16,14,14,13,47,14,20,100,69,108,9,29,29,56,56,11,126,88,8,93,108,4,113,79,39,8,84,24,91,69,6,71,17,81,8,81,61,20,53,11,44,26,38,82,66,98,78,74,37,88,83,67,81,83,96,64,56,67,45,81,86,49,60,39,124,66,72,89,47,60,47,12,31,12,17,58,10,8,19,8,8,10,9,25,67,17,54,25,23,14,18,57,73,50,23,54,119,22,37,11,43,26,33,13,105,36,14,44,45,17,16,15,9,9,54,89,10,101,7,130,83,11,45,157,9,110,51,122,109,10,42,75,50,105,77,45,7,66,116,78,111,13,81,39,73,9,19,21,29,12,48,72,43,60,40,13,7,35,23,37,10,61,17,55,25,5,40,30,49,45,5,52,65,20,10,15,24,63,40,38,11,45,34,66,34,51,33,49,9,51,46,54,53,59,62,9,84,48,43,6,100,65,61,12,83,56,8,48,43,62,68,61,16,58,78,64,44,84,37,79,89,14,20,18,11,74,53,24,71,92,38,72,85,134,47,59,99,12,56,47,48,10,74,45,6,82,28,86,28,13,39,109,65,98,75,65,24,17,55,106,101,70,60,46,45,39,45,11,67,86,17,36,81,41,71,35,44,5,84,35,54,20,39,33,9,59,102,113,75,85,57,9,68,57,41,72,48,42,71,62,13,57,78,106,109,113,8,101,63,76,72,95,15,22,17,22,42,42,47,58,24,44,6,59,37,24,12,24,16,30,17,12,16,18,6,13,25,32,12,10,22,7,11,24,11,11,7,18,8,13,16,31,14,30,21,9,6,34,108,81,62,29,77,75,77,14,63,73,28,73,71,60,29,96,72,99,28,34,17,31,103,109,85,48,48,66,90,8,7,16,18,32,15,21,22,24,66,31,40,16,16,18,18,19,13,46,24,27,18,18,16,30,36,13,14,21,18,23,11,54,59,49,38,18,31,51,47,17,42,28,92,90,39,115,51,54,97,50,45,73,15,46,29,141,93,66,54,102,23,81,96,67,13,18,4,22,74,25,18,43,31,16,23,35,26,19,9,19,17,13,28,21,47,17,11,47,7,22,23,21,20,23,20,7,6,29,93,58,40,94,92,18,101,65,66,38,47,13,20,92,66,87,94,29,55,69,91,60,11,21,46,82,22,34,23,28,69,32,57,16,49,57,14,39,21,81,47,25,33,40,37,15,16,33,58,73,15,16,14,15,14,14,15,17,12,15,50,10,53,85,59,13,39,37,74,73,92,58,81,37,58,48,72,44,44,60,33,13,19,12,11,84,24,84,49,82,23,60,51,63,74,64,62,15,20,30,151,77,45,52,88,49,11,45,81,46,20,50,13,92,22,14,12,42,42,18,29,39,16,17,24,176,7,75,62,33,86,54,108,7,31,44,70,28,44,13,41,62,26,68,32,40,6,32,16,38,88,49,77,32,18,26,89,79,9,67,14,19,90,63,45,31,15,43,121,109,61,44,77,66,55,59,48,47,14,18,26,71,62,69,62,35,35,87,49,12,47,68,95,9,26,21,13,53,40,28,37,61,11,20,11,9,27,42,31,41,40,35,76,46,56,70,104,54,60,70,11,30,19,61,34,46,67,76,74,50,77,75,94,71,14,13,14,26,44,115,7,102,64,61,55,11,60,59,60,72,67,7,107,62,57,40,10,69,41,7,89,83,11,79,91,107,6,77,52,11,89,99,106,63,80,9,115,85,10,72,134,104,9,53,30,60,57,68,149,8,123,113,8,89,9,92,99,69,53,9,90,87,45,12,77,53,90,66,107,41,75,75,68,14,13,51,30,32,227,46,77,59,25,49,25,15,49,26,27,21,22,21,341,7,28,71,49,71,10,21,24,61,62,26,6,55,31,23,16,13,30,33,54,49,74,69,55,71,50,7,37,63,9,57,67,20,24,21,11,50,44,30,46,33,27,6,25,51,88,7,41,43,40,44,10,60,48,22,46,10,18,59,47,68,9,10,36,21,52,45,42,79,24,71,48,10,18,38,18,63,57,30,46,70,8,32,69,71,69,99,44,56,42,62,31,52,40,11,36,28,87,67,57,77,71,43,16,58,115,78,49,19,73,33,53,67,42,40,79,54,9,65,43,42,15,90,43,5,39,73,48,34,36,61,39,38,17,155,13,10,8,24,19,12,16,15,27,14,39,14,48,17,31,26,14,116,51,69,89,138,107,65,96,107,77,18,25,25,67,29,33,14,25,22,45,40,52,55,57,35,62,12,25,24,18,20,17,33,28,14,13,15,36,55,76,48,33,15,19,22,17,13,69,108,67,81,17,19,14,14,20,56,55,17,17,18,15,15,56,10,37,16,87,37,101,67,98,76,102,107,67,154,31,80,19,24,24,93,94,75,62,60,69,37,60,70,81,20,11,23,21,65,88,34,92,30,73,12,31,18,22,131,46,71,58,93,28,77,66,41,30,95,63,15,45,44,73,63,54,96,115,53,31,31,26,30,36,26,73,36,24,39,107,87,97,13,55,104,52,43,59,49,90,106,51,45,11,60,12,92,86,45,51,66,67,69,37,51,16,18,15,31,18,50,86,85,68,95,126,99,83,53,16,105,68,54,89,76,62,67,66,58,50,65,12,26,9,31,70,50,56,47,50,53,38,33,55,59,19,44,29,41,97,42,13,16,28,24,75,36,39,38,50,56,33,51,15,45,40,8,56,40,37,11,55,63,10,48,74,73,37,45,15,45,39,25,38,83,55,19,21,54,59,16,68,25,30,37,41,33,50,43,28,57,40,24,31,29,5,38,41,8,21,22,23,14,18,13,18,31,29,48,30,21,35,51,6,34,19,21,28,10,21,26,8,27,9,33,16,38,17,23,46,47,12,54,55,56,54,42,12,27,21,37,11,61,33,36,59,36,44,73,66,6,26,33,34,36,24,8,29,12,32,23,96,23,75,62,46,64,63,46,53,34,10,30,18,110,127,242,33,29,8,8,45,25,22,4,5,4,14,10,26,22,8,19,13,34,306,167,7,22,16,106,83,28,69,40,30,10,33,93,45,43,17,21,27,53,36,8,60,61,55,47,64,10,57,84,33,69,125,6,59,37,43,66,91,44,11,83,63,63,48,49,91,10,91,38,45,15,36,8,16,76,50,45,33,24,36,84,37,82,49,75,42,25,50,30,9,27,15,16,8,67,66,31,23,23,15,11,84,35,59,45,18,22,8,13,9,17,46,9,58,8,74,16,41,22,29,19,43,20,7,12,40,13,41,14,30,20,32,6,73,56,63,11,100,38,12,94,27,9,72,11,30,35,39,36,39,41,8,58,12,30,97,8,59,82,28,57,56,6,89,78,70,7,59,63,42,55,14,44,18,35,11,48,32,47,18,55,26,46,32,49,64,19,70,29,31,24,36,7,58,49,70,17,25,47,48,43,74,35,70,5,4,8,4,23,8,5,15,27,39,43,21,5,23,14,16,43,9,32,7,23,5,11,13,21,14,44,16,42,26,18,20,128,17,18,19,20,66,63,38,47,13,37,55,65,9,49,69,94,73,108,34,18,19,60,120,9,12,81,63,16,65,9,106,44,58,91,7,77,97,95,70,7,84,58,64,32,12,55,58,40,12,51,24,16,37,14,23,18,15,28,41,10,48,18,23,62,34,54,18,54,50,12,44,51,90,9,71,12,38,22,13,9,16,40,8,101,53,48,7,52,64,47,13,79,34,36,77,75,39,42,9,59,83,15,51,72,29,22,9,73,34,88,126,6,106,81,60,19,32,29,86,51,41,18,17,27,19,15,74,64,72,44,31,52,81,16,28,60,35,58,14,28,15,75,28,51,85,47,95,41,47,19,42,23,86,34,88,61,56,78,62,64,88,51,49,32,92,30,61,80,54,60,42,13,28,34,57,6,8,10,12,19,29,81,46,78,8,80,62,87,135,34,104,91,69,107,61,61,75,69,49,127,55,57,75,99,17,29,12,23,66,51,45,12,123,74,54,13,10,13,23,23,65,54,54,70,39,73,77,44,13,50,85,31,23,19,75,73,59,34,57,20,34,117,13,10,35,44,113,52,48,14,65,18,57,20,12,30,74,29,48,23,23,13,74,94,66,75,59,78,14,13,25,14,19,58,26,29,19,27,39,52,28,9,44,52,12,42,43,16,35,36,59,57,17,24,53,18,27,57,19,49,40,38,51,28,39,45,23,58,41,60,65,47,37,61,53,12,44,46,48,44,48,37,125,69,73,64,15,39,75,10,55,101,42,47,6,87,85,28,17,8,48,52,113,6,94,64,66,7,80,62,5,57,74,5,66,48,113,6,70,97,10,72,42,65,91,9,61,54,7,56,118,64,17,27,23,64,57,59,47,49,85,47,100,73,84,70,39,54,19,46,16,96,86,85,71,44,64,53,87,106,149,69,54,94,119,107,44,100,117,98,103,12,21,103,105,60,11,41,10,16,20,88,89,56,86,53,98,105,75,70,12,11,12,50,34,43,7,135,11,24,19,21,29,23,20,12,16,24,31,11,25,41,6,16,16,23,23,48,34,53,35,31,64,17,22,58,33,29,15,7,9,9,14,47,18,26,14,24,97,43,45,86,85,99,6,55,34,38,59,60,23,6,43,34,8,56,34,10,27,81,57,10,44,107,45,3,5,5,3,3,7,3,4,3,3,47,43,43,29,76,73,41,10,16,36,43,77,35,30,17,57,25,25,15,53,98,29,50,42,77,11,32,119,93,67,68,12,69,83,53,80,19,51,90,7,20,20,18,31,20,33,34,34,33,33,34,8,74,86,61,61,41,37,35,18,27,24,20,22,34,26,31,16,30,9,59,26,33,41,22,17,8,7,29,27,26,48,25,47,5,9,35,46,36,32,22,33,15,11,8,24,9,11,35,21,16,4,17,14,9,178,10,72,9,194,7,168,10,79,9,8,16,23,19,8,22,16,23,10,9,2,84,70,7,131,9,114,7,88,82,9,16,25,30,21,20,31,24,8,71,11,8,9,110,108,15,33,82,16,39,35,96,40,77,37,54,51,19,36,19,69,39,38,28,42,51,30,18,27,33,95,76,70,67,17,22,7,25,36,28,43,20,28,12,23,62,31,21,24,39,34,46,40,35,34,24,40,24,30,33,44,23,54,71,20,42,25,12,10,20,29,11,8,7,43,78,85,54,47,63,47,56,73,35,117,76,108,62,49,64,35,80,49,67,46,71,54,44,8,51,41,19,56,83,40,39,45,40,35,17,101,16,33,28,45,55,51,17,30,21,16,20,40,59,52,45,50,63,86,80,82,45,50,67,67,50,58,14,25,14,12,44,31,26,39,30,19,34,38,44,17,34,29,55,46,15,35,24,27,28,16,32,31,45,85,42,43,34,10,9,9,11,9,9,13,8,12,11,12,12,9,12,50,22,40,19,14,54,51,67,37,94,57,38,33,31,37,79,49,54,35,11,71,37,40,28,35,42,71,61,85,76,68,14,7,4,6,4,4,8,6,74,40,64,35,35,32,48,59,41,6,69,58,72,74,64,58,23,35,62,25,55,49,57,14,57,31,23,56,37,71,60,55,42,23,30,67,38,49,30,60,34,64,21,34,18,60,27,32,11,31,26,45,48,19,21,26,40,54,42,30,37,46,26,39,41,36,34,15,36,17,15,69,40,54,25,73,41,55,60,67,54,81,46,38,14,34,12,8,53,9,56,19,47,21,30,25,35,61,90,13,15,35,15,68,26,13,45,24,46,50,22,7,25,93,69,14,38,19,83,54,69,29,111,76,74,85,30,65,7,24,58,41,46,60,67,18,34,22,30,96,8,126,31,23,13,8,16,44,37,69,25,84,17,61,15,33,41,32,16,25,48,45,25,35,41,47,38,61,60,33,53,38,91,59,74,13,34,23,16,64,48,65,52,103,103,86,40,97,14,32,61,56,95,79,49,78,48,80,79,30,16,40,69,56,23,53,23,41,68,22,67,72,58,45,14,13,28,49,32,42,16,72,48,74,31,46,55,47,10,28,18,99,33,43,61,39,65,36,41,54,31,23,45,31,14,30,21,57,78,50,35,80,45,60,53,44,40,11,13,50,77,61,41,120,48,70,47,78,84,22,68,84,85,20,30,14,50,10,20,10,55,20,61,21,57,43,36,107,150,14,36,37,37,11,70,21,18,54,17,41,38,29,38,68,86,19,30,24,27,66,61,21,17,36,15,63,36,85,25,30,62,84,42,63,58,17,37,63,56,45,63,69,82,67,27,25,18,46,87,29,26,41,55,41,102,25,18,11,7,46,69,30,57,18,23,9,26,60,28,35,38,46,73,41,41,75,41,49,69,48,12,24,43,69,57,52,70,42,97,56,46,85,38,36,41,18,38,12,10,37,37,49,34,34,15,26,17,40,52,71,40,17,28,10,19,29,27,13,10,9,8,11,30,43,33,47,65,42,75,71,81,85,76,82,64,59,47,84,35,42,49,8,24,9,12,21,69,41,73,30,103,97,74,13,13,12,26,34,30,69,40,31,30,71,66,35,44,95,79,41,29,41,54,87,19,14,26,16,121,58,50,73,74,79,68,54,77,51,58,11,139,69,47,58,37,73,58,77,47,64,63,36,33,49,37,16,37,13,11,66,23,45,15,9,17,41,94,87,107,67,54,66,67,74,75,52,10,96,57,9,50,42,33,43,15,43,58,18,14,9,35,27,25,32,22,20,43,29,35,30,22,10,8,10,34,34,16,30,21,12,14,78,36,25,80,71,51,32,24,24,34,66,40,67,39,28,32,83,34,59,23,38,36,17,80,105,74,37,14,25,19,115,64,31,42,13,92,114,53,50,46,23,25,34,47,39,38,24,12,12,18,9,22,17,53,89,41,68,51,84,40,85,57,49,70,79,66,75,86,52,100,77,58,67,84,82,81,38,45,45,60,14,19,22,13,14,68,15,76,24,41,36,43,7,15,21,16,8,13,13,26,30,15,20,26,13,29,21,7,37,4,7,13,7,10,8,5,23,143,94,58,15,31,9,52,31,86,55,51,57,33,48,37,12,35,21,61,24,59,22,57,53,33,72,48,52,36,67,43,16,28,16,36,80,93,51,39,60,46,60,96,70,74,78,18,29,24,69,58,54,61,81,83,30,32,51,17,44,12,109,38,96,32,56,61,31,29,39,12,35,32,42,95,30,42,52,49,41,57,82,61,38,76,78,83,57,51,31,18,52,22,17,50,11,49,51,141,12,50,27,34,83,53,7,9,25,21,21,29,87,18,21,102,31,38,7,23,31,67,21,11,26,49,9,15,13,25,22,33,27,6,75,33,51,31,53,20,20,6,44,5,20,13,8,41,26,12,23,19,13,29,9,8,10,72,34,34,29,13,81,7,191,600,194,154,229,197,9,18,29,68,98,53,42,22,29,42,74,84,50,31,18,26,9,17,15,93,77,102,82,35,23,43,88,18,49,7,9,61,43,56,14,59,22,86,19,48,32,78,45,36,53,41,22,15,11,39,96,122,55,51,18,43,72,60,54,25,17,39,24,110,70,82,51,86,46,102,69,49,109,58,56,16,18,18,86,71,62,104,77,87,51,51,71,50,38,45,81,46,64,91,81,48,42,21,27,89,31,75,43,90,14,48,108,74,36,59,51,44,59,94,36,18,44,70,62,63,54,54,66,20,45,36,14,16,56,42,70,51,34,59,29,35,11,17,66,73,12,11,56,41,85,66,51,65,19,42,39,11,24,6,20,35,53,12,30,31,28,46,43,34,26,40,121,95,167,99,137,78,53,17,29,53,69,102,80,42,49,42,54,64,41,53,12,35,43,66,55,32,13,73,19,21,119,26,36,39,29,14,39,82,63,15,79,28,47,23,69,20,29,10,50,14,24,61,35,72,70,62,60,14,49,77,23,57,99,12,88,15,21,71,19,18,64,56,11,12,34,13,88,25,13,13,16,12,16,8,15,20,30,52,19,8,11,11,11,27,19,25,47,41,34,73,40,57,47,15,14,23,71,70,84,37,18,31,8,33,17,34,16,8,49,11,22,23,23,6,29,14,30,11,10,28,17,45,18,21,34,14,12,9,10,24,24,16,9,38,17,34,11,16,36,12,51,10,15,33,6,56,58,26,26,16,27,20,20,20,25,23,23,58,90,36,18,63,25,69,14,24,8,15,9,10,44,32,48,49,68,70,85,141,58,52,94,80,102,61,49,80,125,98,104,37,125,41,60,68,18,20,11,22,79,73,67,38,32,14,59,94,57,49,21,89,72,31,92,101,106,61,36,13,114,54,66,53,71,48,111,13,133,50,28,43,40,12,31,10,18,28,18,66,55,54,19,87,76,55,59,43,67,20,85,50,28,80,59,70,55,12,27,49,13,62,70,71,13,38,11,103,25,44,28,49,20,12,82,58,12,67,17,34,10,33,174,67,67,25,24,12,50,33,56,89,66,44,103,49,43,133,53,49,54,55,49,50,85,70,75,10,108,128,23,58,18,20,12,72,41,28,104,37,97,67,10,84,40,57,12,89,43,47,88,87,55,56,32,13,28,22,109,74,73,44,61,46,13,86,44,92,49,55,50,18,13,58,35,66,22,56,11,52,14,36,73,74,95,90,71,60,42,19,74,82,50,70,54,26,10,21,80,100,54,15,31,15,12,16,44,23,48,22,65,77,56,39,50,54,50,31,29,24,51,124,77,46,62,47,99,64,52,65,106,56,46,87,50,32,40,10,52,29,10,48,86,51,37,40,46,36,12,37,64,26,35,91,33,10,51,35,21,34,17,37,34,11,64,57,16,8,84,50,40,9,73,42,74,21,46,16,13,23,42,27,31,25,47,16,29,19,74,48,29,40,78,68,12,32,52,47,44,40,15,23,23,18,50,45,67,40,8,92,66,7,95,54,68,13,47,59,14,24,75,53,85,10,15,16,14,35,36,27,30,57,30,67,12,42,38,30,58,40,49,18,14,45,48,34,36,14,43,41,21,18,17,17,10,51,71,59,61,25,14,61,164,128,71,86,102,59,13,16,21,82,55,56,78,62,14,40,41,35,60,16,42,22,12,10,45,34,40,75,40,73,28,79,34,132,43,43,81,11,101,70,9,58,104,71,37,26,11,72,87,10,75,89,11,88,86,37,63,61,9,63,46,9,78,17,8,19,17,12,12,8,72,7,107,67,7,48,85,53,10,90,11,76,65,74,36,12,59,44,29,10,113,89,10,57,60,79,56,46,17,7,56,10,49,57,100,8,52,68,42,29,15,30,21,151,154,116,68,84,68,84,23,96,62,38,40,76,36,22,94,64,44,18,18,25,18,38,27,63,20,45,38,76,72,106,42,34,66,35,43,26,66,41,17,13,21,17,18,47,49,64,73,79,7,107,40,88,36,71,67,57,43,45,11,65,49,92,85,64,6,98,99,95,67,93,10,87,32,59,37,82,8,107,38,69,85,9,61,63,13,35,51,69,55,52,78,79,71,65,60,35,86,32,93,94,74,71,61,32,14,17,15,21,46,88,69,51,33,59,39,22,99,56,59,25,42,40,81,61,71,56,61,35,53,63,91,50,85,58,60,11,23,32,20,81,91,76,69,76,56,82,19,49,136,80,67,56,80,75,67,66,10,6,12,10,10,21,8,19,15,24,11,18,5,24,17,14,24,13,4,12,29,7,19,22,13,15,40,27,20,26,18,5,10,11,11,17,10,10,12,10,16,10,13,6,9,13,6,11,13,6,10,12,6,5,25,11,16,8,14,18,21,30,16,34,13,35,24,22,64,98,62,15,52,66,56,28,11,12,8,17,14,15,14,14,16,11,15,17,16,14,15,11,14,12,14,11,16,12,21,14,12,12,11,14,12,17,18,12,12,11,14,15,12,15,15,12,64,37,19,12,8,9,7,11,8,13,11,23,14,39,12,83,94,85,90,72,55,94,52,101,81,60,91,97,62,41,30,96,65,106,5,13,48,57,5,14,15,51,74,5,14,55,85,61,56,5,14,60,75,82,5,14,52,80,103,5,14,69,47,83,75,36,36,5,14,43,48,90,5,13,53,42,5,14,28,11,82,133,59,84,94,83,85,85,72,64,5,14,32,75,79,109,114,79,5,14,82,53,48,55,148,88,48,61,91,82,80,2,16,30,33,29,26,61,35,35,24,103,48,100,63,78,90,5,14,69,71,36,73,5,14,115,60,78,34,104,81,61,87,15,153,120,81,134,5,13,49,68,5,14,103,130,45,84,80,34,43,22,55,72,69,56,36,38,64,13,11,13,11,12,12,13,13,33,59,67,51,42,72,59,88,67,51,70,34,46,55,23,5,14,106,81,2,16,5,14,83,31,32,5,14,93,51,41,5,14,92,135,65,125,92,41,149,68,81,71,5,14,74,39,33,63,5,13,48,5,14,61,46,48,38,5,14,65,67,5,14,63,45,87,78,78,5,14,61,14,78,43,49,5,14,75,65,78,205,97,5,14,64,94,49,49,90,142,75,35,5,14,101,47,40,99,2,16,5,14,58,87,17,49,93,89,43,50,42,70,52,106,90,31,65,5,14,34,37,31,75,49,49,37,54,83,86,5,14,118,56,52,70,89,44,111,41,61,63,54,47,32,32,5,14,57,66,68,5,13,52,36,70,66,59,5,14,79,18,78,5,14,83,64,54,5,14,85,34,93,59,77,58,56,76,65,70,82,40,5,72,54,5,14,72,5,13,44,74,38,5,14,61,107,59,77,5,14,63,39,87,105,76,85,5,14,47,70,99,40,56,34,55,69,51,29,52,44,83,60,98,52,33,33,37,37,5,14,75,53,5,14,49,48,5,13,74,48,29,72,5,14,87,97,100,66,60,39,74,48,21,14,5,14,54,57,12,38,83,33,54,79,50,109,140,98,39,84,29,5,14,74,53,27,88,15,173,72,50,73,5,14,104,197,44,57,33,38,55,104,60,5,14,60,22,59,37,56,84,5,14,56,54,66,88,63,62,18,93,17,115,121,5,13,93,81,63,127,81,5,14,43,31,29,30,23,66,65,67,84,55,53,55,101,81,58,5,14,54,106,106,58,26,53,5,14,236,140,5,14,51,43,35,36,75,2,12,17,9,10,10,11,22,3,32,2,40,11,32,15,51,12,2,43,10,54,45,46,43,19,18,56,17,6,18,45,12,34,65,18,59,11,35,54,18,11,24,30,12,34,36,22,31,29,17,75,16,8,3,8,2,25,33,22,47,45,44,40,26,37,35,7,22,35,10,43,17,10,33,11,23,9,21,53,31,73,35,49,25,23,61,36,3,11,14,19,9,52,38,13,38,43,16,3,10,11,26,5,18,11,23,52,72,37,49,26,57,5,17,25,12,31,20,38,2,23,16,25,35,6,55,41,55,21,5,22,15,44,4,42,6,31,54,22,13,3,15,27,40,11,16,32,13,20,6,3,12,13,8,19,5,23,18,35,11,25,57,15,25,2,8,6,38,18,15,49,30,21,37,7,25,15,27,48,35,22,2,31,14,60,50,33,8,39,22,10,26,24,9,19,32,8,17,17,17,3,13,45,12,22,35,7,25,14,25,49,14,9,37,17,3,25,11,8,11,9,10,16,8,22,25,7,9,37,32,89,51,28,6,49,42,15,31,31,24,67,86,31,70,52,77,31,63,55,98,19,19,80,32,66,31,94,68,48,12,5,5,26,20,27,17,22,11,18,7,10,30,24,5,28,11,10,7,10,7,5,3,7,29,3,9,37,2,5,11,6,13,29,33,21,14,3,21,10,18,5,3,6,12,4,16,13,14,30,5,13,10,10,17,74,67,35,36,49,28,20,20,88,32,38,36,29,18,25,44,59,29,72,70,38,39,27,80,43,93,67,31,20,86,29,30,30,28,22,43,67,34,8,2,10,14,21,16,16,26,25,17,27,26,17,27,4,20,21,18,18,17,11,4,20,5,28,26,35,17,4,14,3,16,21,45,35,24,58,25,21,42,30,29,19,21,19,17,11,13,10,10,13,13,15,16,14,13,13,16,9,16,13,16,30,20,85,51,49,47,39,38,18,14,8,8,37,19,2,15,3,18,33,57,43,41,61,57,17,70,58,13,48,17,86,51,61,34,40,25,5,27,22,10,23,43,20,14,34,46,11,22,6,19,2,31,57,28,31,43,25,50,20,30,56,61,42,46,60,28,48,69,86,29,29,9,37,22,43,41,10,41,9,81,36,107,60,16,149,85,26,67,32,38,37,45,22,19,10,4,12,34,11,35,25,11,15,10,25,30,3,23,29,15,29,51,36,46,34,6,63,20,2,38,16,4,29,4,24,20,28,2,3,37,22,64,89,40,9,41,79,52,110,41,41,64,71,29,12,14,35,44,56,47,19,10,46,85,61,36,32,46,58,114,66,46,16,10,2,15,14,9,2,18,57,24,2,19,27,9,23,13,24,2,6,14,45,2,13,12,2,21,6,22,20,18,18,28,19,2,12,15,21,22,15,28,2,15,28,4,18,36,47,47,25,46,26,18,15,36,26,24,40,35,47,29,21,20,12,18,7,19,22,20,26,21,18,41,25,28,25,33,33,12,31,23,28,159,54,13,18,50,45,43,20,8,49,31,14,13,8,14,26,47,16,57,19,29,19,3,22,33,41,60,51,12,12,40,65,43,35,25,41,33,36,26,96,89,59,32,95,48,33,85,59,47,62,28,28,99,125,37,29,67,35,25,69,55,48,67,61,55,92,48,22,2,21,35,15,70,40,65,58,2,71,70,163,56,43,40,46,50,67,115,19,82,10,29,21,22,63,78,42,68,50,35,41,54,44,35,61,27,55,26,73,40,69,47,36,31,56,15,15,26,62,67,18,34,8,9,42,52,53,100,22,27,44,61,53,55,68,43,60,65,56,86,53,29,4,40,63,47,97,41,45,42,21,29,30,31,32,19,6,3,30,33,18,2,19,23,24,13,3,2,12,18,42,17,28,75,23,2,44,16,4,21,29,34,41,41,68,71,2,20,20,10,87,61,52,51,44,35,47,69,35,60,14,45,30,2,36,2,23,22,27,19,17,18,29,6,7,32,34,73,7,37,32,51,2,19,14,26,2,53,84,37,71,48,42,43,30,22,3,12,6,27,34,43,44,30,48,75,48,43,41,50,55,51,38,69,46,41,69,18,48,46,16,2,16,15,16,2,42,31,45,76,60,78,74,46,74,87,70,108,125,24,65,70,49,30,43,31,44,23,61,146,41,99,83,27,65,51,50,54,65,65,54,54,51,64,30,13,38,57,69,64,59,21,51,29,35,21,24,31,25,61,50,19,108,44,68,51,138,32,22,36,22,17,42,112,37,39,39,73,50,8,2,20,32,35,2,8,51,39,82,41,57,47,14,39,39,46,36,9,2,10,15,22,13,18,35,22,27,62,64,61,61,28,25,52,38,32,30,34,29,48,50,51,72,52,23,24,68,25,19,21,82,35,108,87,60,68,102,78,44,76,80,73,49,49,64,61,58,61,53,76,63,39,25,45,41,79,69,60,103,40,82,65,51,42,84,63,57,77,41,36,42,52,53,69,40,31,56,39,42,25,60,65,75,51,32,41,37,52,60,34,2,40,54,92,59,54,50,38,126,95,46,78,79,110,73,7,11,7,11,3,67,68,67,60,43,37,25,53,4,40,6,36,84,52,77,60,79,67,74,74,31,87,93,60,33,30,85,96,45,37,68,87,70,36,46,63,61,62,66,80,85,19,44,10,33,38,9,34,28,10,33,38,9,62,51,62,101,72,60,22,16,17,57,49,3,22,41,41,2,25,38,28,14,47,2,14,6,13,20,66,48,38,46,42,41,34,22,35,25,38,49,42,72,54,72,59,69,48,68,46,68,52,91,62,46,32,42,56,53,23,3,22,53,58,82,39,35,38,39,67,10,46,58,14,49,76,62,63,53,23,38,49,32,25,26,30,32,40,37,32,11,24,15,12,30,32,20,38,17,32,2,92,45,91,9,59,22,19,29,69,10,89,39,56,47,110,37,8,23,84,6,18,9,57,50,73,61,71,56,52,108,89,43,47,63,46,56,54,72,33,74,20,2,13,2,24,17,4,12,52,27,64,2,5,38,42,2,22,2,15,43,2,57,51,2,22,2,17,2,19,22,2,28,2,69,50,12,25,45,6,16,28,23,14,32,29,4,32,40,37,34,74,69,47,32,31,31,42,44,31,56,60,50,59,23,26,63,27,34,32,59,29,2,23,27,27,21,2,19,2,9,2,47,27,15,41,69,47,48,39,26,34,39,37,32,43,32,18,20,4,15,2,18,15,47,44,24,22,72,21,34,13,30,36,37,46,13,26,20,43,24,25,31,56,23,14,5,3,25,32,14,17,6,13,35,36,43,41,19,39,17,28,30,13,37,33,75,43,42,26,20,11,5,35,38,21,50,17,56,28,78,9,26,29,30,33,33,48,18,28,15,52,43,8,34,83,11,16,15,11,6,9,41,17,32,24,20,23,15,30,14,27,15,12,20,42,25,69,16,18,12,8,13,19,14,6,10,11,8,8,50,11,10,9,20,13,10,10,28,26,9,27,20,9,27,23,15,28,11,10,18,16,27,6,6,5,18,19,19,6,18,4,8,6,6,8,13,9,7,12,21,12,18,8,9,10,8,13,10,9,20,7,16,10,5,13,8,13,9,11,12,5,6,16,14,6,6,15,6,13,6,7,26,5,6,6,8,10,38,16,26,54,31,14,54,5,29,33,21,7,39,4,15,8,87,9,22,6,32,8,38,11,47,8,25,9,11,6,10,21,45,20,14,39,36,17,32,26,25,33,9,14,14,14,15,15,8,15,17,9,8,18,21,12,12,4,10,25,10,11,11,15,52,32,19,43,13,43,14,42,71,6,7,8,9,5,8,7,8,5,12,25,30,14,7,8,13,5,6,10,10,12,17,7,14,7,16,11,9,8,17,7,10,15,11,10,20,22,7,10,24,16,16,17,28,9,7,14,9,11,20,18,11,30,15,23,5,10,15,6,15,11,11,10,8,12,4,7,15,10,8,15,16,18,25,30,31,56,11,21,56,51,42,18,31,36,33,9,17,27,17,29,27,45,16,16,18,17,36,10,39,17,4,17,20,16,13,16,22,21,17,20,22,18,17,9,9,5,12,36,15,22,16,18,27,11,14,10,13,9,15,8,8,11,10,28,22,11,14,12,26,14,21,24,17,26,10,11,48,44,20,8,17,45,10,15,28,27,17,10,8,25,9,7,5,14,13,16,12,27,23,10,8,8,10,23,7,6,17,7,19,19,7,11,27,19,8,19,16,23,6,13,19,14,15,23,17,27,7,19,32,24,11,17,24,18,20,8,10,23,17,28,21,16,23,15,10,6,18,12,14,17,20,19,10,15,19,29,23,20,15,27,14,8,16,45,16,17,19,24,9,24,9,31,27,10,10,17,11,13,22,8,38,11,12,10,28,10,11,4,14,5,17,12,22,9,16,16,12,15,16,7,7,12,21,13,10,10,24,20,9,7,10,9,12,12,15,15,8,7,26,9,9,20,16,20,85,40,31,28,10,24,22,9,33,24,21,43,53,39,27,36,20,28,88,37,11,11,18,55,38,15,10,20,48,43,33,27,28,17,12,35,14,55,20,17,30,30,53,20,13,42,11,41,46,25,9,14,30,10,23,31,30,11,12,37,32,13,36,15,27,28,73,37,27,20,10,21,38,49,35,15,38,13,6,30,27,10,25,13,29,8,9,17,32,40,15,17,37,5,19,8,10,8,18,52,20,7,17,13,46,13,19,32,45,29,12,15,22,21,29,22,19,20,19,48,20,24,41,28,16,29,19,42,15,29,6,48,7,10,7,9,15,19,10,30,36,10,20,7,26,17,44,27,19,27,9,49,36,12,10,7,9,38,44,33,49,12,11,62,29,34,21,11,23,33,17,9,27,12,14,28,11,24,20,18,30,49,30,12,33,47,14,21,8,4,12,10,10,12,8,22,9,9,34,29,10,6,8,15,7,13,7,30,11,62,15,28,14,13,23,41,21,43,35,12,21,11,32,22,66,15,32,22,35,31,52,54,13,16,48,62,12,25,19,17,41,38,42,35,25,55,8,34,19,46,39,9,21,14,35,14,6,39,9,49,6,47,7,64,20,60,20,15,60,6,61,12,72,7,23,26,38,4,35,32,13,23,42,23,30,43,10,37,7,64,7,59,6,61,8,75,10,68,6,33,6,19,14,7,61,19,11,106,22,24,10,40,27,8,49,19,35,32,30,27,52,34,10,36,51,52,13,40,22,56,29,55,34,10,36,12,87,9,56,12,4,68,22,56,22,22,16,13,47,51,9,10,44,18,22,32,10,4,34,41,23,28,9,36,56,37,12,36,6,43,14,39,34,33,75,29,64,40,53,53,16,5,24,11,18,8,26,12,41,16,34,32,11,57,4,11,5,23,5,41,9,53,7,34,11,21,10,55,9,51,10,22,10,22,6,8,12,63,8,10,9,15,6,8,11,20,11,36,8,27,9,22,8,21,7,8,8,14,6,8,8,32,13,6,6,29,11,23,26,10,50,47,35,51,14,53,32,15,39,25,18,69,53,35,50,25,29,14,13,32,24,26,29,23,56,33,35,30,26,56,12,37,15,29,38,64,47,46,39,48,29,49,11,16,31,71,44,34,61,38,10,56,24,102,11,25,34,30,49,25,12,9,23,15,32,28,37,33,28,33,34,38,40,46,10,24,63,21,35,23,36,25,14,16,70,18,23,33,46,52,66,19,10,22,59,17,52,38,8,16,40,58,39,13,23,61,44,56,32,25,31,12,34,33,48,50,51,51,19,40,11,36,55,41,68,34,8,23,62,88,15,46,61,31,42,44,67,10,26,53,32,27,87,43,43,44,56,71,34,37,58,50,13,29,17,36,30,30,10,24,70,78,13,57,33,43,18,40,28,24,4,73,42,14,15,10,34,11,29,8,9,10,47,15,34,39,41,48,15,44,12,40,35,53,27,13,61,26,9,72,8,61,18,15,59,63,7,38,38,8,42,40,13,28,39,23,39,33,48,18,33,16,7,16,63,35,46,70,52,39,34,45,19,89,24,71,16,77,60,10,26,61,40,65,54,30,16,25,19,53,113,107,55,4,89,17,19,42,36,19,15,41,56,18,20,44,54,8,20,39,23,16,12,30,11,19,25,63,11,8,9,25,4,41,6,59,7,67,7,57,9,20,7,64,11,22,4,31,84,31,5,18,5,16,10,25,13,36,5,29,8,18,6,14,7,42,7,41,6,9,8,27,21,54,69,64,13,35,78,64,108,46,81,44,42,62,109,26,50,38,49,77,68,84,34,24,44,50,87,63,112,49,29,60,44,86,58,50,75,62,90,13,32,32,19,55,32,86,52,36,43,61,39,33,28,67,78,22,29,24,34,34,32,36,33,7,20,34,25,39,48,110,37,39,7,30,46,65,12,22,51,61,37,14,34,13,12,101,16,11,11,17,7,12,6,20,62,23,28,9,15,8,40,10,7,11,4,6,6,4,4,7,5,9,20,7,4,7,12,13,9,3,9,8,8,4,11,15,9,7,9,6,4,10,7,5,3,8,11,8,10,6,15,8,10,7,17,14,30,22,33,30,39,42,61,56,74,67,47,59,27,56,71,46,57,82,40,54,22,54,61,68,49,26,45,30,18,31,26,47,48,36,42,63,23,18,25,15,30,59,23,58,8,14,31,26,57,23,62,51,38,52,57,71,100,71,27,30,35,10,33,33,47,53,22,39,12,30,41,38,37,29,20,7,5,66,44,30,24,49,48,70,34,33,19,78,55,67,121,91,80,65,87,40,52,42,100,51,42,56,19,91,41,51,70,9,71,27,8,24,5,30,7,30,11,50,5,13,7,38,7,31,8,36,24,31,12,10,7,49,11,34,7,43,10,54,9,31,7,32,15,9,11,4,40,31,41,39,12,28,59,28,39,20,54,52,8,75,35,31,13,69,18,13,37,18,13,22,77,11,47,26,34,45,44,11,29,85,20,15,14,13,65,8,34,5,104,12,26,6,14,7,7,7,13,7,28,4,29,12,36,19,25,14,10,12,12,10,9,12,59,6,38,16,53,24,38,34,23,55,61,76,85,67,68,86,43,80,31,88,52,57,66,17,125,23,48,37,91,52,57,7,53,87,43,13,61,108,14,27,44,22,14,49,72,48,5,36,11,61,66,46,52,11,54,55,11,26,56,80,9,24,72,41,98,5,69,13,60,39,65,62,51,48,10,49,37,80,33,60,48,45,56,25,41,37,11,59,73,65,81,74,10,95,18,34,26,63,57,21,58,6,60,50,43,56,34,49,36,43,42,31,20,30,41,34,29,51,18,32,13,101,56,15,63,86,86,24,42,57,53,23,11,23,57,25,52,8,23,5,47,7,19,8,74,8,27,7,23,5,34,14,61,19,49,42,36,16,9,55,8,61,26,82,71,71,12,59,56,39,19,75,31,17,20,90,76,64,75,58,47,87,48,49,84,32,64,65,63,86,59,98,65,46,57,62,64,21,38,17,14,49,25,60,49,59,50,96,66,28,52,31,59,19,22,9,20,24,40,37,80,44,31,22,44,47,14,69,23,50,48,24,10,44,21,35,26,10,23,17,40,53,106,61,35,63,62,37,37,88,22,56,45,37,10,26,12,9,6,10,37,10,5,57,5,8,4,82,7,66,5,25,6,49,13,45,8,36,7,53,7,37,15,53,3,53,46,29,12,22,38,52,22,54,52,44,18,17,9,39,57,27,41,54,44,55,49,31,31,20,24,19,18,71,37,33,35,36,69,28,51,58,65,70,22,73,50,25,14,17,51,25,15,37,15,12,62,63,64,36,29,13,24,44,47,9,91,18,35,45,40,3,58,19,46,33,9,17,23,74,16,61,22,34,14,30,7,8,7,50,32,37,21,53,69,22,47,57,13,40,61,39,55,26,49,23,16,39,27,20,42,41,99,9,70,65,76,48,49,63,21,62,41,72,60,19,19,44,59,73,56,60,11,32,34,24,42,10,33,49,21,26,41,40,44,48,52,10,56,48,15,65,16,27,32,40,39,50,7,11,42,66,41,61,60,4,33,34,3,65,27,9,53,30,37,49,15,11,52,42,20,32,30,15,19,26,13,46,42,35,24,47,66,48,12,6,53,62,70,23,61,21,12,24,17,57,28,5,13,86,44,47,18,32,42,26,12,15,10,39,17,33,12,91,22,77,4,47,10,5,11,19,5,57,17,25,13,18,5,31,7,9,9,7,10,10,5,27,4,26,21,15,12,9,13,10,32,11,21,10,21,38,37,9,62,10,34,65,67,27,17,16,16,54,37,6,25,35,38,18,74,54,26,47,20,28,9,25,32,20,36,38,9,16,49,31,42,28,32,31,29,28,48,44,47,26,8,17,51,26,13,37,29,13,18,9,25,22,28,28,53,5,28,9,12,9,25,24,22,26,35,12,41,6,21,8,58,5,12,11,32,7,15,8,19,9,11,12,30,38,22,31,19,33,36,31,21,31,34,35,42,80,50,30,71,42,72,7,42,98,13,56,56,68,59,47,71,7,26,43,32,47,45,58,48,34,19,9,40,34,42,43,58,47,46,40,36,44,43,36,8,41,33,29,29,44,52,8,18,12,7,9,62,30,21,34,20,21,51,23,28,36,31,9,32,25,28,41,23,47,26,75,57,20,47,12,21,37,48,43,18,40,46,32,6,16,17,31,39,38,32,12,11,19,65,29,46,57,42,13,51,18,43,43,33,40,34,13,21,35,59,49,43,57,15,43,8,14,41,18,17,41,43,65,32,26,31,10,38,46,45,59,44,76,26,22,23,47,29,43,40,77,22,42,60,26,46,30,40,14,30,47,53,34,52,44,29,25,35,55,36,72,15,47,41,37,14,46,27,12,9,21,21,27,39,38,47,43,57,5,26,39,44,30,21,55,43,36,27,35,50,11,43,61,59,57,65,50,58,22,29,13,48,51,58,42,19,31,44,60,58,40,61,7,52,61,50,46,20,29,20,76,16,49,93,10,7,63,24,16,15,26,43,43,53,54,35,30,11,12,34,20,46,66,80,7,31,80,50,32,22,35,9,10,18,46,39,26,25,9,29,54,31,50,18,31,65,79,17,47,32,30,78,31,33,8,34,42,35,11,42,53,21,32,33,42,46,19,26,12,23,34,55,75,34,17,58,73,46,13,19,34,68,27,22,9,62,56,28,13,34,15,23,36,19,14,30,40,52,9,46,26,35,20,53,43,14,47,34,23,11,51,35,73,46,22,12,14,7,15,38,34,35,44,71,32,55,35,22,65,23,33,41,6,33,48,54,40,28,48,41,31,35,23,33,25,6,24,26,45,32,31,9,35,7,44,32,7,20,22,43,34,27,36,20,18,5,38,26,75,36,64,44,59,47,28,22,16,26,34,38,22,37,44,28,9,16,31,19,39,42,25,37,45,8,17,12,10,32,19,9,33,17,24,71,34,8,17,19,24,29,35,67,35,38,33,37,10,36,16,21,21,19,14,41,48,15,31,31,45,19,28,11,27,5,26,29,34,17,45,35,50,63,36,29,33,9,23,64,34,11,26,33,45,39,25,47,36,30,5,21,36,35,19,59,35,32,9,20,35,22,63,21,15,5,8,22,39,42,50,64,10,40,49,54,19,17,20,10,45,40,28,70,49,62,24,24,32,13,24,36,35,48,22,57,43,8,26,76,22,35,26,14,18,12,9,12,130,30,23,28,18,19,46,50,23,33,13,20,29,105,10,59,74,84,58,76,20,44,21,22,24,92,36,13,28,52,36,45,45,78,39,11,36,35,15,28,36,56,59,51,57,10,38,43,37,28,35,16,34,24,31,70,41,42,33,8,50,19,29,52,39,97,8,21,18,25,48,18,21,49,26,46,49,62,32,3,33,18,6,9,43,52,17,82,47,39,34,32,39,32,36,43,26,23,15,49,67,33,70,38,9,40,19,32,35,5,69,11,23,16,26,7,20,7,37,10,27,23,28,24,34,40,57,10,21,5,29,14,20,19,83,11,23,18,33,12,29,21,24,29,26,29,52,61,45,53,42,4,4,47,23,32,6,44,20,36,97,15,32,28,47,61,30,33,57,38,24,10,23,37,25,48,20,11,7,39,12,42,43,29,18,26,28,77,43,53,7,31,28,23,45,28,12,26,3,50,40,3,59,24,10,37,57,41,20,9,42,9,37,29,31,26,45,45,69,36,10,25,7,35,52,27,34,7,48,45,35,52,66,9,44,10,43,22,20,28,20,16,21,10,13,20,39,41,32,20,15,19,26,18,27,18,32,45,43,12,10,9,18,45,17,71,48,46,22,24,40,45,38,22,24,9,34,53,51,45,26,39,41,18,35,13,24,9,15,35,29,35,24,32,43,39,47,42,51,42,25,51,29,43,14,11,35,17,44,26,17,19,8,39,19,44,39,26,10,30,13,63,64,8,55,32,42,16,49,31,38,16,65,81,32,38,63,27,41,63,61,33,12,26,58,42,19,39,80,35,4,71,3,21,32,18,44,64,46,64,24,30,28,29,43,47,46,61,44,38,27,8,23,27,23,29,11,43,60,37,11,23,42,24,33,26,18,34,23,49,44,29,7,35,45,51,47,28,43,7,22,26,42,49,25,37,21,34,63,15,46,23,9,32,75,34,72,34,17,43,16,39,43,32,13,32,13,40,24,82,77,29,28,44,31,34,57,39,18,17,35,48,30,100,59,22,41,7,57,74,72,58,67,11,62,39,76,43,34,65,64,40,76,12,70,38,55,37,76,36,104,57,14,105,67,45,49,62,11,52,26,52,50,34,20,38,42,46,56,32,83,44,61,86,51,53,18,62,30,68,44,36,35,58,46,74,50,22,32,51,47,52,22,29,41,36,56,10,32,63,86,8,31,82,10,56,102,10,45,43,85,52,81,8,39,10,61,55,16,102,42,43,53,85,76,45,55,52,29,48,76,52,50,84,30,12,62,28,67,65,63,49,29,38,41,12,66,89,51,59,42,67,37,39,18,58,48,44,51,41,62,48,50,55,33,53,33,53,42,28,57,49,41,5,107,91,11,65,102,55,48,43,33,63,53,52,75,63,39,5,96,117,19,11,14,9,11,14,13,14,13,11,13,17,65,25,23,59,42,46,38,37,32,44,27,45,44,39,55,50,39,69,5,118,102,19,11,14,9,11,14,13,14,13,11,13,14,38,13,54,57,51,41,37,44,45,60,15,29,31,32,67,13,24,24,62,30,80,31,49,38,68,72,65,65,30,57,32,26,8,64,31,60,44,26,58,6,84,34,189,10,27,32,44,62,55,55,21,68,60,34,63,39,36,38,75,16,32,37,7,17,37,31,58,25,40,95,57,48,39,13,18,18,23,38,32,42,40,25,27,13,12,44,24,25,63,36,9,31,11,34,50,37,28,51,74,32,48,26,9,55,59,43,82,34,46,60,30,25,19,19,24,26,53,32,53,34,39,39,36,53,22,46,54,33,30,8,31,31,53,30,27,75,42,63,44,53,67,38,39,22,31,14,16,14,47,29,31,47,47,38,13,13,74,19,62,32,26,55,22,22,47,64,41,54,11,29,15,9,10,69,31,52,11,12,56,20,40,42,36,55,57,66,23,47,33,13,30,34,24,28,18,18,61,37,8,29,21,8,66,11,50,46,37,45,55,10,26,10,35,68,50,48,40,73,44,80,8,24,21,51,40,54,6,55,29,37,51,6,14,38,43,26,7,41,16,43,10,39,33,29,67,75,29,35,13,35,42,29,61,52,28,33,44,31,33,36,33,30,35,9,30,16,29,27,17,78,51,14,29,25,12,37,47,18,24,8,10,10,25,9,25,30,9,23,55,56,96,49,41,31,18,37,78,12,24,18,38,58,85,58,52,30,17,43,41,13,25,15,25,40,54,14,34,27,14,28,28,21,47,42,64,43,16,43,58,49,61,68,49,10,20,11,62,45,14,74,23,28,25,81,59,28,43,27,18,32,28,27,36,15,20,29,40,18,17,28,9,26,14,12,17,67,46,35,7,10,41,84,46,57,52,18,30,59,26,26,26,30,14,77,70,35,74,39,74,87,64,17,50,67,44,63,48,115,59,17,47,37,75,71,52,39,97,12,8,51,29,24,34,10,11,14,14,10,47,99,14,102,77,38,52,46,8,29,73,30,39,54,27,41,78,35,110,71,42,103,10,50,14,64,31,17,26,69,47,25,13,20,53,48,31,34,31,38,27,25,11,42,49,36,38,70,61,22,44,42,63,28,39,29,58,12,7,18,22,25,22,25,23,25,19,26,20,8,22,25,27,28,22,19,42,55,20,25,55,22,85,42,72,56,66,32,15,158,58,54,12,9,22,5,21,22,21,18,12,24,21,21,19,19,8,25,22,27,21,13,96,37,84,21,16,39,25,35,9,16,8,12,9,13,8,8,12,11,94,161,13,63,83,70,10,40,25,36,39,24,20,17,43,11,95,14,69,62,86,143,104,43,50,36,18,21,24,15,112,39,34,15,24,14,70,37,44,36,61,36,15,38,11,12,41,96,31,39,91,56,23,57,56,73,13,38,20,32,66,13,59,67,40,11,36,29,70,17,30,22,18,40,58,30,47,36,43,68,48,38,37,54,84,108,39,63,89,6,104,107,24,8,38,27,22,67,56,59,6,86,101,8,38,25,32,39,23,52,43,54,38,54,6,104,97,8,74,59,10,63,78,50,10,37,39,35,53,64,80,14,69,93,84,15,80,80,92,12,33,22,15,40,38,75,46,49,10,55,31,27,21,27,36,37,61,83,26,65,29,60,11,59,31,40,48,48,28,29,44,22,21,40,46,28,21,39,12,34,52,48,61,12,67,40,11,38,28,59,47,30,38,43,10,36,17,44,48,31,52,46,20,51,45,12,39,35,26,31,26,54,52,29,30,12,11,10,19,36,42,25,46,19,37,38,14,34,6,12,45,47,53,14,46,53,44,13,84,28,75,50,68,58,17,15,37,25,78,36,20,19,41,35,29,23,25,21,22,47,54,12,60,37,37,60,43,22,46,13,33,50,32,54,42,77,9,31,141,22,20,7,20,20,91,24,10,37,21,33,35,52,24,29,41,30,35,36,17,7,12,12,46,16,11,17,32,27,46,34,41,67,36,68,25,31,11,21,42,28,40,29,52,15,8,10,46,43,26,39,58,17,9,28,11,66,36,65,33,20,56,59,23,36,10,25,37,21,33,35,18,35,21,51,38,31,41,50,52,40,20,22,19,28,55,57,16,31,36,61,56,30,16,28,45,24,24,31,61,37,36,33,14,25,68,52,35,16,45,22,71,18,50,12,40,14,57,6,59,35,49,43,119,6,40,60,53,42,51,57,36,84,13,32,14,11,12,9,54,88,91,45,32,47,45,17,62,20,19,51,50,37,57,38,57,14,60,31,50,8,43,28,15,15,68,16,61,33,53,35,36,15,38,44,14,37,96,42,53,52,10,21,78,36,67,62,41,50,28,18,38,35,59,43,53,41,34,19,11,13,61,44,41,50,43,34,51,34,22,11,19,10,6,16,30,54,20,36,63,84,43,50,21,42,24,32,38,50,52,50,22,40,61,42,52,28,56,36,41,22,42,53,23,16,12,5,20,8,22,48,28,23,49,66,50,18,32,18,9,23,30,48,19,47,30,46,57,23,43,21,71,44,3,66,29,8,13,5,20,8,9,62,61,50,50,24,18,52,28,65,28,31,27,15,8,70,36,43,62,14,41,21,9,37,28,30,41,56,41,12,25,49,36,41,39,46,49,42,42,45,33,48,52,38,39,50,41,52,43,23,22,16,14,12,26,47,20,13,31,8,56,51,28,21,24,23,36,9,31,10,8,7,11,19,33,32,89,61,58,24,19,21,14,15,70,57,15,16,16,20,17,8,53,55,10,23,63,13,72,32,12,73,8,63,49,6,27,40,32,38,54,66,60,35,32,77,41,16,34,32,53,64,50,85,38,11,43,48,21,27,45,43,31,21,7,75,30,36,29,36,33,43,13,39,32,81,30,69,48,32,19,22,54,52,22,26,20,33,94,89,60,70,54,29,16,27,17,66,47,48,22,34,34,35,13,34,49,65,48,16,34,38,26,43,45,34,21,34,66,13,18,16,38,33,55,71,30,33,17,14,57,24,13,18,31,30,18,54,43,32,71,63,65,8,49,43,48,57,60,66,59,9,23,18,53,13,31,29,74,32,43,19,19,24,5,7,7,85,57,45,22,31,34,43,22,45,48,53,49,28,59,16,24,26,27,37,26,23,30,26,10,21,25,121,66,26,42,45,51,36,50,59,36,36,27,19,33,8,8,61,41,26,54,10,37,34,34,44,26,17,12,15,17,27,10,7,9,74,12,24,63,45,37,24,16,17,24,5,15,12,86,68,65,54,37,81,25,10,24,7,6,6,12,37,32,63,53,62,68,34,40,32,37,9,10,27,57,42,30,27,51,25,47,29,13,24,25,43,86,52,39,51,41,33,50,32,16,39,25,13,14,41,19,11,51,46,40,53,22,31,10,24,42,35,48,44,76,42,42,22,85,35,20,99,67,18,30,32,62,13,18,12,9,58,29,16,25,23,26,22,22,43,24,27,12,11,14,55,39,21,77,49,13,40,24,39,15,51,29,12,39,18,17,36,7,83,21,10,24,11,13,11,12,19,60,25,28,45,24,73,39,25,56,37,26,8,45,27,44,41,34,49,27,36,25,15,10,62,43,30,51,27,23,34,20,9,10,71,27,16,21,35,9,7,61,50,49,38,42,18,35,30,37,35,22,16,24,27,61,14,21,20,78,40,41,32,13,16,46,42,12,24,12,59,23,51,48,35,56,38,27,21,21,18,11,15,38,27,48,27,40,52,31,18,45,12,31,42,29,37,53,51,38,41,30,10,16,58,19,27,65,25,42,25,36,15,14,40,8,13,73,23,90,28,50,60,17,28,47,40,50,30,39,17,32,61,39,9,36,18,37,36,23,21,33,36,18,15,7,15,60,86,49,7,11,19,14,10,35,38,40,42,26,62,37,19,15,39,24,32,22,9,28,18,46,42,42,16,27,19,25,35,41,50,18,21,17,51,55,25,15,21,23,71,49,8,9,28,18,27,14,12,17,21,48,14,21,21,28,71,16,15,28,37,21,34,34,29,13,27,14,29,11,49,27,29,31,14,6,35,16,12,8,24,71,55,46,8,37,15,29,42,24,46,17,35,13,6,19,10,14,23,53,61,17,10,35,10,16,14,6,10,12,14,7,6,11,27,46,24,8,23,19,55,22,39,38,56,22,29,34,57,26,45,24,30,26,22,3,11,42,66,22,12,9,58,46,47,8,60,39,37,41,12,35,45,34,47,78,55,50,28,21,16,20,23,20,39,24,27,32,41,30,10,46,40,16,12,31,30,36,44,13,30,31,43,24,22,20,23,31,32,44,41,43,25,8,58,6,6,10,11,17,17,14,32,22,21,87,26,23,42,16,32,21,17,17,53,39,45,43,38,23,20,13,17,52,50,13,16,18,31,18,70,65,39,54,14,50,30,37,11,18,29,23,12,13,47,30,23,49,36,55,82,54,8,26,80,7,55,26,55,23,36,32,20,15,23,15,55,34,39,32,12,18,42,22,13,18,69,29,54,39,24,13,28,33,39,23,24,9,25,93,40,25,25,56,22,29,47,57,16,17,11,33,72,14,17,32,41,32,76,53,14,49,47,42,56,13,21,14,10,15,118,74,12,24,12,51,36,39,22,30,28,12,25,10,16,28,38,14,14,61,44,53,32,25,20,52,13,18,14,11,10,17,9,40,50,55,41,42,65,22,59,34,36,38,15,48,38,65,93,27,39,24,56,37,20,18,24,22,19,17,14,34,44,77,51,12,56,24,24,42,16,36,116,34,43,20,21,25,18,14,27,12,57,24,79,12,46,14,14,15,29,24,10,20,22,47,18,31,23,14,20,31,72,31,22,45,17,11,21,21,34,30,29,15,17,18,42,33,40,32,44,29,23,47,22,11,24,23,21,53,17,28,21,44,15,30,34,33,17,35,50,34,58,26,40,62,8,29,23,10,48,38,44,44,36,34,39,74,57,28,56,18,38,19,19,34,73,27,39,32,36,31,62,45,25,14,17,10,29,12,60,33,59,21,14,53,24,14,14,46,42,24,51,57,20,38,27,50,38,27,19,60,43,31,31,11,22,19,43,27,24,5,11,7,7,8,35,29,36,50,62,46,41,45,53,8,38,66,40,40,54,44,37,26,33,9,31,10,69,13,62,66,36,81,29,21,17,22,22,45,48,63,43,48,39,47,22,33,45,37,40,59,12,21,9,9,47,45,44,18,30,42,55,46,46,25,67,10,18,12,19,25,24,49,5,38,11,25,8,101,8,78,7,36,9,25,19,92,13,27,24,12,25,9,52,24,9,30,25,8,26,7,19,37,19,81,11,40,10,49,23,20,34,11,23,39,35,57,5,34,6,35,8,41,6,16,11,43,6,44,15,30,38,56,59,50,11,27,15,7,13,20,36,38,14,12,12,19,15,31,44,74,46,39,42,34,32,56,51,26,11,18,98,34,13,40,48,22,15,23,47,19,33,2,46,33,41,21,22,28,24,59,35,29,30,18,28,15,37,47,69,6,41,12,14,15,122,43,72,32,27,28,66,10,22,32,44,61,52,43,30,61,22,9,25,48,85,47,25,20,37,6,93,77,73,7,47,15,28,31,9,67,18,36,37,6,13,57,45,31,38,15,29,29,10,19,40,32,47,37,51,52,41,22,33,42,12,16,29,35,52,54,31,28,24,14,17,13,23,51,22,24,29,28,49,50,27,36,11,66,25,19,37,27,13,50,12,9,17,22,16,36,43,39,57,12,45,57,41,11,52,44,34,12,48,100,51,39,27,9,52,46,21,54,13,44,19,57,35,34,16,39,13,25,38,41,36,39,12,13,14,15,61,36,42,22,41,22,20,13,18,11,20,29,20,16,23,58,34,43,8,5,56,37,43,68,23,49,58,57,7,52,69,7,9,18,21,32,22,36,8,31,22,28,26,5,36,45,54,32,46,3,7,25,16,33,32,44,73,20,66,12,58,38,65,58,49,64,13,66,53,43,19,35,50,12,55,9,76,51,47,36,60,77,25,9,27,54,33,30,37,27,34,22,25,22,25,15,54,33,88,47,8,8,10,45,47,68,43,46,30,32,30,41,19,11,12,62,21,21,50,27,45,84,42,54,14,17,36,47,61,19,31,8,31,37,54,50,26,28,24,39,32,17,27,8,29,30,48,21,27,28,59,25,40,47,28,8,33,10,38,57,70,53,46,85,70,75,56,19,67,44,49,60,54,62,41,44,25,46,27,14,15,21,28,23,77,57,48,66,39,45,98,48,37,12,45,109,64,44,65,54,41,16,21,38,67,62,37,49,44,28,47,28,31,130,35,41,45,21,25,15,16,42,34,72,32,68,41,57,56,11,59,34,32,22,27,13,20,13,115,41,28,34,35,9,33,38,53,51,21,21,16,16,40,42,45,27,21,54,65,39,13,18,19,93,22,24,41,62,132,26,29,83,13,37,35,31,49,50,44,46,30,21,36,46,17,22,48,27,24,36,30,8,8,27,69,44,30,55,24,40,20,51,26,28,11,25,46,23,34,54,38,9,53,16,46,101,6,86,53,5,70,33,90,39,21,33,36,42,15,14,35,56,85,50,46,11,17,20,16,97,73,41,11,19,20,50,28,49,12,39,54,51,39,27,36,27,13,42,38,46,7,15,5,24,5,13,10,4,47,8,38,8,51,7,41,11,70,7,34,8,43,7,19,6,48,42,6,67,7,26,63,27,38,66,47,15,24,15,24,11,15,44,22,35,36,53,35,31,9,34,18,28,24,61,54,32,35,33,36,53,38,32,39,39,5,17,43,11,25,44,15,23,16,46,36,21,42,24,43,10,61,59,33,30,10,40,28,11,6,42,38,52,14,12,50,29,18,8,42,41,62,7,66,36,18,49,18,27,75,50,50,46,43,45,54,94,20,12,16,52,34,83,66,69,53,41,7,69,73,51,51,44,64,33,10,89,31,61,31,53,103,11,20,19,58,17,57,48,25,39,19,3,56,11,75,42,37,38,59,26,44,49,15,50,58,21,44,12,50,15,55,41,30,35,46,66,62,61,56,29,57,8,26,50,61,65,34,45,85,64,107,24,45,81,19,37,56,60,21,38,50,30,24,32,8,34,27,40,16,31,29,40,33,21,28,17,39,17,57,41,40,54,44,29,39,38,16,40,23,24,45,29,23,42,45,14,28,26,47,64,42,29,40,56,50,24,82,42,53,18,55,19,24,50,39,38,19,87,28,64,32,37,76,20,41,66,43,36,61,44,47,11,40,90,24,30,40,49,12,40,64,60,42,30,55,26,35,16,22,13,7,16,20,52,22,28,5,26,17,33,23,42,50,27,18,11,46,19,19,46,22,17,21,45,43,33,38,54,16,61,26,13,23,20,30,53,51,57,29,17,11,22,97,57,32,14,6,36,50,52,62,20,68,48,43,28,91,34,31,52,49,59,57,58,42,33,59,32,50,46,14,71,42,51,34,16,21,17,39,45,49,37,30,26,17,50,51,42,42,67,28,18,72,45,45,36,69,15,11,10,13,11,15,24,42,42,36,57,42,44,49,24,59,48,30,73,18,63,59,36,19,59,24,62,50,76,51,70,55,85,17,37,57,51,36,25,45,48,33,12,59,82,68,35,45,22,36,37,37,12,56,77,32,35,10,33,30,76,25,40,45,47,32,69,50,17,23,75,34,42,18,50,46,75,27,17,47,36,32,23,27,35,13,40,31,54,73,62,44,20,59,20,17,30,31,77,100,50,39,38,45,40,52,21,66,39,46,28,28,29,18,45,41,35,39,54,32,32,50,31,13,28,12,62,51,38,14,9,16,11,26,77,12,51,34,33,34,33,36,27,30,74,57,29,51,68,47,16,23,14,17,42,36,67,53,24,66,23,27,30,19,34,5,34,16,29,46,93,23,10,54,69,85,15,29,36,59,35,39,6,49,37,37,56,13,63,47,58,59,16,23,13,51,58,28,30,42,45,8,13,18,26,43,60,21,55,57,46,8,22,55,45,49,17,58,22,23,18,55,35,39,72,53,99,89,140,68,72,97,112,50,57,55,63,15,53,41,64,45,51,11,20,8,29,48,49,43,16,35,86,25,75,34,69,60,56,57,48,79,69,55,54,78,20,82,113,154,104,39,4,19,65,37,27,10,5,8,7,15,64,13,64,29,65,54,55,13,11,40,66,59,55,46,38,85,68,7,62,42,107,51,98,36,32,65,56,18,18,47,26,36,43,61,51,58,102,60,43,41,49,46,120,76,68,31,51,64,63,43,57,26,12,40,11,38,52,24,36,47,27,58,34,21,16,50,44,50,25,49,83,47,15,15,34,46,35,45,18,31,10,22,13,32,59,47,46,57,30,70,27,42,97,64,54,69,9,32,57,66,53,8,37,55,43,36,40,30,40,20,71,54,51,38,37,30,35,23,25,32,16,33,57,35,16,47,38,47,31,22,12,22,49,7,44,13,68,51,53,8,25,9,43,9,30,9,20,15,51,10,71,13,69,72,72,29,49,10,27,23,60,55,56,51,16,43,37,58,54,30,50,13,21,58,41,25,26,22,53,35,45,59,36,46,32,51,16,97,37,40,46,37,23,48,17,38,32,77,37,36,28,33,39,32,31,33,41,39,57,35,44,39,44,57,30,8,49,62,32,28,57,39,25,48,61,37,42,48,56,20,43,30,31,26,8,36,39,18,23,23,40,42,42,24,24,30,60,48,36,14,17,38,11,33,24,12,16,20,31,24,40,25,48,29,55,37,27,34,12,18,34,22,37,22,27,81,38,57,70,122,107,33,23,76,107,96,82,77,87,126,32,55,56,34,44,43,17,13,14,14,18,16,15,48,53,35,23,25,38,43,32,43,11,33,70,45,36,29,21,46,56,73,59,52,48,11,31,80,39,61,39,42,52,31,17,21,60,28,32,31,70,51,9,19,28,33,18,36,22,30,12,31,61,35,36,30,24,10,10,12,19,84,41,78,30,30,47,25,68,39,40,70,23,37,54,58,50,53,9,40,66,44,22,15,31,39,32,33,25,32,55,30,67,25,30,24,43,31,50,96,60,55,43,32,33,31,37,16,22,41,21,31,33,26,40,21,35,46,12,28,19,20,11,17,58,75,93,81,47,43,41,10,67,114,49,48,34,13,75,53,14,43,77,13,85,57,48,48,14,80,78,13,46,34,23,25,38,43,31,43,12,20,22,54,22,16,48,29,41,32,49,23,10,30,17,29,60,28,32,13,62,48,12,70,34,14,19,18,34,24,13,36,24,65,19,38,30,33,14,61,15,20,9,48,33,31,34,57,20,21,16,48,9,13,18,17,16,30,10,62,48,38,42,55,56,23,42,21,39,24,73,29,56,18,19,67,11,25,21,21,28,22,23,56,64,71,27,34,7,7,9,56,42,31,35,39,67,29,82,21,48,23,82,8,51,64,19,28,7,50,35,23,72,59,43,32,62,19,73,21,71,34,11,32,50,57,13,47,26,32,57,43,33,35,79,41,28,27,19,37,28,53,29,31,45,11,20,15,50,27,10,7,13,58,20,30,25,26,39,64,26,48,84,37,31,31,32,42,47,9,18,22,38,42,19,25,25,40,20,33,59,65,31,26,25,49,38,16,20,38,41,9,21,22,14,16,18,46,32,34,58,44,16,32,71,13,10,34,36,40,35,40,22,16,7,32,30,57,44,46,20,39,19,13,13,14,13,6,12,14,30,31,29,7,33,32,11,26,43,60,56,58,42,70,74,35,19,8,13,19,22,43,41,29,24,14,19,7,7,7,6,8,29,7,7,7,6,8,17,30,40,49,16,48,66,56,39,9,32,53,47,82,49,39,24,12,24,11,18,54,52,52,49,30,17,43,81,39,68,84,41,61,14,28,7,28,36,50,52,25,63,10,65,37,45,59,21,53,53,60,15,21,17,25,30,40,13,14,41,15,69,76,34,42,58,34,30,26,75,47,27,50,16,71,79,49,33,29,27,48,10,59,34,70,54,26,56,66,54,58,78,23,55,40,25,55,11,31,20,51,52,33,40,55,20,14,26,46,32,4,4,14,21,57,42,11,31,61,50,38,51,42,67,14,45,48,22,23,11,10,20,26,9,17,53,46,27,49,29,32,76,18,34,45,64,43,53,33,21,24,28,46,17,18,10,31,23,79,41,52,57,8,38,42,14,11,35,61,43,22,11,35,52,51,19,23,37,60,51,25,23,25,54,21,14,13,10,13,20,17,32,36,34,23,11,18,68,21,30,60,16,17,13,15,19,15,25,22,15,26,25,28,40,14,12,62,38,33,40,46,54,16,53,32,30,52,63,10,53,72,41,21,41,55,30,30,18,33,13,17,45,88,43,51,40,44,47,21,51,21,67,44,6,28,53,30,29,43,46,27,60,15,18,23,14,39,66,55,48,46,14,12,8,22,54,59,21,24,17,29,86,15,55,39,55,12,19,35,45,30,39,55,46,69,50,65,85,35,49,15,7,8,18,6,8,14,8,7,13,14,17,12,15,14,26,28,50,19,40,61,28,51,30,32,26,38,33,25,21,28,11,14,22,47,31,17,90,34,42,63,34,9,31,50,46,47,40,56,49,49,16,26,24,35,8,13,16,16,41,36,74,61,24,66,51,41,22,31,33,28,25,38,58,36,25,14,31,31,32,55,43,56,50,20,22,11,11,60,46,40,68,24,68,20,20,24,32,38,34,31,35,55,12,70,55,6,87,29,16,56,51,40,51,23,12,24,15,58,12,91,39,30,19,35,15,44,39,54,47,27,12,30,27,57,33,36,26,28,3,57,4,34,52,17,32,14,7,20,50,48,18,21,11,10,14,15,35,29,12,24,59,57,39,31,28,42,40,65,61,50,21,26,38,33,35,9,52,17,46,19,70,37,37,47,58,34,26,48,36,27,26,27,45,34,10,29,10,19,60,34,14,56,14,18,16,10,15,65,47,43,15,15,7,8,8,4,14,8,31,16,10,14,19,5,16,10,9,8,8,8,25,33,26,10,5,11,22,25,7,7,5,12,7,5,7,5,5,6,28,33,26,16,29,17,29,35,46,48,64,53,25,22,39,46,43,66,7,15,28,49,59,23,63,32,52,40,11,15,57,42,39,38,41,20,6,14,50,12,60,39,48,44,75,57,31,9,41,15,40,24,37,52,40,57,10,22,21,59,55,63,31,42,11,27,59,57,25,62,22,25,39,38,10,34,36,33,38,61,10,38,48,56,5,7,8,7,6,6,7,7,7,12,12,18,14,13,41,35,60,14,17,3,8,23,7,6,6,23,22,23,22,12,25,59,61,62,16,21,26,42,47,41,12,24,45,51,20,12,72,27,42,61,32,41,57,17,12,74,46,57,34,22,24,14,12,56,49,38,50,64,60,41,61,8,57,32,23,34,11,8,51,44,35,12,45,33,28,61,66,34,43,50,34,10,70,43,26,25,35,28,81,65,43,37,35,43,46,51,37,29,25,16,36,56,27,10,38,27,31,30,40,20,49,44,43,26,38,27,58,17,68,72,21,61,24,25,47,63,58,77,62,60,26,25,48,59,27,12,35,37,70,66,23,67,62,52,23,34,64,35,47,24,43,69,36,90,49,70,52,30,18,32,81,63,19,55,25,44,26,22,17,12,24,125,96,77,33,109,75,32,51,9,25,45,89,40,17,11,23,22,66,34,61,18,34,8,71,59,31,50,86,69,49,52,59,17,29,25,16,13,49,24,23,49,57,44,20,53,66,56,46,67,61,14,37,65,33,16,20,24,20,48,56,37,48,14,43,29,54,58,46,38,101,37,40,12,14,72,32,16,13,19,23,32,22,15,23,32,86,49,23,53,39,36,34,43,37,25,55,30,45,45,43,27,44,32,34,27,25,31,30,59,37,25,14,17,14,44,73,24,22,26,22,11,34,21,13,13,12,11,15,66,47,42,24,77,48,64,24,25,21,44,58,57,11,29,87,53,69,34,43,65,63,82,110,15,56,19,48,28,32,51,27,56,43,98,46,44,50,29,61,50,81,50,12,59,88,36,47,23,45,49,58,51,17,18,17,29,26,51,45,55,46,20,46,89,32,32,44,66,31,28,46,17,34,21,50,29,38,45,65,81,90,26,9,14,5,45,16,48,95,49,33,24,56,65,15,35,22,30,57,65,51,57,17,26,22,35,18,23,14,19,10,12,22,56,27,28,39,20,26,17,15,19,9,42,24,61,37,19,54,25,46,46,45,20,28,26,27,31,38,12,71,44,72,24,26,29,33,42,18,18,17,21,31,59,29,9,13,49,58,17,32,9,42,29,21,14,14,12,11,16,65,30,42,33,19,36,42,46,66,73,60,13,87,23,49,17,74,59,39,25,13,35,42,38,59,50,18,32,15,21,12,87,30,41,45,11,47,26,34,19,21,17,43,21,28,85,42,44,12,23,30,8,13,44,51,24,39,20,59,48,41,55,7,42,41,15,30,13,51,21,37,53,48,26,23,9,55,11,9,13,30,23,14,43,22,38,17,20,37,30,10,14,25,21,14,12,14,87,68,39,60,45,12,19,44,31,32,44,35,20,10,22,14,22,39,45,32,62,34,67,24,23,22,36,38,29,14,25,12,42,62,30,14,17,11,38,55,56,10,39,64,67,29,35,22,18,19,71,60,13,31,43,29,30,59,45,39,11,26,62,58,43,49,13,34,43,47,31,26,53,76,13,21,41,43,35,6,6,6,6,49,51,8,10,81,40,13,49,36,30,25,75,46,14,37,83,24,25,26,15,44,26,15,25,29,17,19,41,54,58,44,39,49,13,43,70,57,32,49,67,37,54,19,34,15,32,39,39,64,54,46,43,65,58,100,10,59,61,9,69,64,44,6,54,9,29,40,73,70,59,61,27,40,27,70,53,38,56,14,42,19,77,43,71,61,43,41,81,75,39,21,44,86,49,75,66,19,23,67,45,28,37,58,56,53,46,16,24,53,90,46,14,29,38,13,35,59,45,56,38,79,34,39,63,14,34,71,31,16,14,34,41,51,57,11,15,11,12,18,30,33,40,70,36,79,38,40,23,9,12,10,8,10,6,10,8,9,12,32,13,13,57,24,65,54,53,12,39,24,31,31,67,40,28,12,33,35,64,44,45,43,8,47,81,46,42,34,39,33,27,20,50,17,3,26,16,39,66,61,27,46,32,55,18,47,48,75,46,12,9,21,7,55,51,44,20,27,68,68,39,35,16,29,25,21,51,112,57,27,19,23,8,10,9,41,63,45,17,70,31,34,52,17,66,112,36,39,85,18,38,28,72,57,51,43,32,14,18,23,27,13,22,13,34,17,44,22,21,24,25,17,15,16,27,15,28,49,27,44,24,22,36,16,14,15,40,22,28,52,78,84,44,60,53,76,55,45,22,17,26,33,65,64,22,16,47,15,55,32,84,39,33,48,46,74,60,19,14,16,20,16,14,45,49,7,13,17,16,7,9,39,14,11,41,53,26,32,33,36,33,55,44,29,48,48,31,34,40,39,5,36,33,23,33,41,45,21,63,57,27,55,71,16,34,58,55,33,12,50,17,19,19,17,23,21,47,35,30,29,28,42,41,16,29,68,51,35,38,38,25,20,51,32,65,46,48,34,57,39,30,15,22,82,58,63,19,82,68,56,22,29,47,24,40,32,8,10,29,54,66,43,78,46,41,38,23,27,8,33,66,37,127,31,27,33,20,12,73,40,54,38,46,31,57,56,26,12,32,39,34,31,41,62,42,55,11,34,12,84,31,58,34,20,44,66,44,59,52,30,34,16,19,32,11,42,72,38,7,90,43,5,61,33,9,39,42,32,26,59,12,55,62,34,71,50,30,39,38,73,63,24,42,28,59,53,8,8,6,8,6,12,6,9,10,8,6,6,6,6,37,51,19,4,32,56,35,34,63,46,11,46,54,27,27,14,48,98,33,27,51,17,57,113,81,12,47,40,42,46,17,13,23,7,34,52,43,23,45,50,88,8,58,31,26,51,71,44,29,42,109,119,8,46,32,71,50,7,48,46,45,52,6,85,71,72,33,44,52,10,55,21,9,48,55,34,28,43,36,55,9,71,30,62,46,65,68,38,70,17,35,27,23,30,103,12,58,33,20,56,38,25,52,42,58,45,43,47,62,61,53,36,48,64,27,41,37,41,55,42,17,51,129,45,89,60,68,47,51,64,92,77,21,59,50,81,65,53,9,72,59,74,54,47,52,48,35,54,12,48,51,35,44,43,36,22,52,32,56,13,44,85,36,35,45,40,86,37,26,31,20,20,69,35,36,23,17,21,7,36,16,29,18,33,33,11,11,11,65,41,66,10,26,30,34,49,23,58,9,34,42,48,23,30,20,36,28,76,28,53,25,25,51,18,46,29,37,31,42,29,31,23,23,35,56,36,48,28,27,25,20,52,55,51,14,11,50,87,71,10,35,34,34,38,8,61,25,17,38,39,36,5,62,34,26,40,9,15,26,10,59,35,46,9,32,67,5,36,38,34,32,34,14,32,35,40,2,2,2,2,2,2,2,2,4,2,2,2,2,2,3,15,3,3,3,3,3,5,6,5,3,4,4,3,4,3,3,5,3,3,3,3,3,3,3,3,5,4,3,3,4,4,3,3,37,25,13,38,81,31,32,12,35,20,49,10,76,76,15,9,21,52,54,24,56,25,40,43,22,39,11,38,48,52,78,59,71,38,30,64,74,35,51,63,18,12,27,32,55,50,35,46,12,18,39,46,66,40,24,24,10,25,23,42,45,41,30,15,23,18,43,28,14,26,34,24,25,23,18,24,39,47,30,20,38,35,51,45,62,49,44,63,61,21,35,36,58,50,66,54,34,29,38,23,13,32,25,22,31,31,17,15,19,50,24,43,37,51,35,44,61,17,47,79,49,39,24,18,45,73,59,41,41,50,34,25,33,13,35,60,35,36,27,54,51,31,31,37,29,14,11,56,17,37,36,13,31,57,27,38,40,24,12,23,10,10,87,25,41,41,14,12,13,12,10,26,16,45,12,35,19,29,40,29,29,23,17,14,48,58,44,47,41,43,35,53,79,40,29,45,28,36,26,35,27,13,14,64,39,44,14,58,25,13,12,47,71,89,35,28,16,18,64,24,23,73,39,45,60,52,10,64,57,93,54,63,37,27,45,60,29,43,26,19,22,38,49,49,10,28,26,9,12,7,9,10,55,53,39,22,13,27,43,58,63,43,40,43,13,53,74,19,49,34,37,30,13,60,63,30,19,62,49,18,18,22,27,32,21,45,25,14,15,25,55,27,31,63,49,44,43,40,22,48,47,62,28,50,29,21,56,51,42,57,41,14,19,29,34,41,61,41,23,49,50,20,30,38,28,17,13,9,19,52,15,24,61,126,54,44,50,26,46,24,37,64,25,18,17,34,25,18,20,35,14,16,8,13,66,39,26,21,34,14,15,17,11,21,23,55,35,34,38,31,17,26,35,12,27,44,48,51,20,34,51,27,51,49,38,44,45,52,8,70,42,48,11,28,54,15,17,51,23,31,25,42,32,40,81,33,10,33,57,26,55,61,34,49,63,19,46,66,40,35,40,79,38,59,12,26,54,27,38,46,49,15,25,33,11,47,54,15,17,51,23,31,25,42,32,40,81,33,33,29,15,33,59,29,84,40,41,75,15,44,52,68,34,45,50,52,35,48,33,44,24,9,57,25,32,34,51,7,74,45,54,9,68,47,10,68,38,59,16,37,21,18,35,34,15,5,5,5,5,5,5,5,5,4,4,6,45,33,32,36,8,17,14,21,40,36,31,44,30,17,54,33,25,69,53,16,37,70,81,60,54,23,44,17,34,93,45,67,29,46,22,15,40,53,32,46,20,36,33,34,34,17,55,19,49,24,46,71,24,25,42,42,46,8,11,15,6,14,43,25,29,31,39,28,46,29,29,19,37,17,54,58,39,55,30,37,38,12,31,72,45,22,37,37,27,74,10,34,73,20,66,34,37,51,54,18,30,14,44,41,32,22,29,23,5,51,35,44,28,20,48,31,6,31,22,9,31,9,31,39,24,52,20,58,16,29,40,43,21,60,36,26,30,44,28,19,40,47,25,33,34,47,34,47,15,49,28,11,45,83,34,39,6,12,19,20,64,13,16,23,28,49,25,52,13,32,59,13,10,19,10,38,25,18,24,46,33,20,11,45,6,28,12,36,43,36,37,42,4,86,62,8,54,27,16,82,52,9,83,56,22,39,13,32,69,63,40,57,4,30,33,36,19,12,72,56,60,45,18,12,30,22,23,45,29,35,47,28,18,11,21,58,42,45,78,58,19,27,41,44,13,23,51,45,49,33,40,30,26,24,10,33,73,42,28,29,61,38,57,19,34,10,20,63,35,50,35,27,14,53,47,52,14,17,48,14,50,37,41,45,49,19,34,35,49,33,45,31,6,29,18,8,78,47,20,44,21,42,35,13,41,30,14,25,14,36,10,34,11,67,48,56,30,52,20,26,28,41,50,29,18,21,67,26,21,49,32,21,50,85,44,33,10,9,20,9,65,32,49,45,39,57,22,46,26,38,81,79,32,58,55,50,11,47,33,56,73,36,41,52,55,36,8,47,51,39,64,55,36,48,32,7,55,44,56,42,57,48,60,11,51,56,87,38,29,55,36,17,22,61,60,73,75,41,56,42,78,60,71,59,47,26,54,91,63,43,56,33,41,19,67,50,34,39,70,102,75,40,38,20,46,39,42,29,30,75,24,63,7,42,34,49,15,42,50,42,56,29,69,37,31,9,40,52,21,22,9,48,82,14,31,39,31,38,28,12,39,19,26,11,28,62,51,64,43,42,22,38,78,38,41,43,35,44,18,27,18,98,34,45,23,67,39,22,29,28,26,45,26,10,17,36,48,26,42,43,31,27,41,43,12,38,16,96,103,31,30,16,69,19,41,40,41,10,42,17,23,63,30,39,8,28,22,26,34,50,35,23,35,36,58,58,57,35,25,43,35,38,65,48,36,53,42,67,49,56,57,65,41,24,42,9,45,29,27,19,51,22,27,6,63,40,28,32,65,32,39,45,22,32,28,32,47,32,78,52,70,53,8,44,17,44,32,44,33,38,38,67,36,47,49,37,38,33,35,73,51,45,37,52,42,56,60,16,70,90,31,68,58,59,68,47,25,59,53,35,42,35,38,38,8,94,33,44,23,67,40,22,28,27,26,46,25,51,40,17,24,15,33,39,34,23,11,18,20,19,20,17,19,53,58,47,51,22,16,24,52,56,44,35,41,23,24,52,32,12,17,59,44,71,49,39,47,40,48,15,30,42,29,23,42,23,40,47,40,38,30,42,39,53,35,18,28,30,47,52,53,41,39,38,33,53,16,34,36,48,56,53,38,41,23,56,38,38,49,25,9,16,58,51,41,38,23,60,40,27,52,27,40,52,61,31,15,10,12,55,54,35,15,24,41,28,33,36,30,49,49,31,37,22,16,55,45,32,62,53,44,40,41,49,18,53,40,28,52,45,52,32,21,15,37,25,37,36,41,25,54,34,11,78,51,43,33,24,17,53,25,22,24,29,7,12,43,57,44,25,30,35,40,51,63,33,16,26,37,25,10,39,77,32,68,28,53,67,57,15,18,43,84,26,13,38,66,23,77,65,42,51,35,34,33,39,53,17,64,13,30,49,66,56,42,33,42,56,32,12,19,68,43,35,50,43,50,27,38,39,45,14,26,24,41,15,21,14,18,21,29,22,35,30,16,8,15,14,60,57,50,69,37,23,22,60,84,30,14,15,14,4,16,11,16,30,19,16,17,15,30,31,14,36,49,30,29,47,20,13,37,46,9,7,7,5,8,12,27,26,20,16,53,43,20,40,36,21,41,63,44,24,12,33,42,44,79,23,50,6,41,49,28,6,13,10,3,8,30,12,31,67,19,49,70,35,12,30,80,84,12,22,79,89,13,63,46,67,49,45,9,64,84,10,29,44,78,29,48,3,32,38,6,43,44,22,54,34,16,49,21,48,33,36,32,3,39,35,9,26,46,28,49,42,55,63,17,17,4,22,32,52,33,58,59,38,42,27,26,37,33,17,30,28,46,30,34,33,32,24,57,27,26,6,18,17,23,37,50,47,57,41,22,45,21,8,54,79,27,36,54,36,29,37,12,15,26,66,52,61,83,68,31,13,22,17,24,22,57,48,93,84,51,46,74,56,54,65,30,14,31,14,28,19,30,35,30,27,56,55,11,14,13,10,16,53,42,44,43,37,44,68,17,53,27,11,9,12,11,6,10,10,6,20,39,59,62,50,37,31,83,24,9,17,22,66,27,10,10,11,8,8,8,9,11,29,62,52,27,47,39,38,28,12,26,69,40,29,53,58,40,64,50,13,13,24,12,54,33,40,37,57,31,22,14,13,10,11,7,9,9,13,27,44,32,39,28,15,37,45,44,38,38,30,29,6,34,33,37,48,56,40,73,36,47,62,12,17,36,100,42,60,24,12,9,17,11,13,8,7,22,82,15,29,72,44,50,53,21,28,53,58,53,26,27,10,48,9,89,38,27,18,10,10,11,8,8,8,9,11,21,31,23,28,35,43,43,28,10,32,45,39,27,11,27,21,16,66,43,39,43,23,60,45,42,42,121,14,46,37,34,37,46,53,32,53,26,7,6,19,26,30,33,15,31,27,47,29,49,34,63,65,41,51,67,43,48,15,36,49,42,9,9,9,10,9,27,38,34,48,50,8,7,7,7,8,12,20,19,18,49,36,40,29,49,51,25,53,41,13,33,60,44,36,33,46,65,46,28,17,39,15,34,17,13,29,37,79,33,55,39,22,28,49,26,20,69,26,19,61,51,64,31,46,20,40,53,39,37,28,29,36,41,42,13,31,23,18,71,42,21,63,29,59,42,29,44,19,35,56,13,27,27,39,37,28,46,50,66,51,11,21,24,67,45,41,70,32,19,37,12,29,91,98,45,47,74,54,46,30,62,32,44,26,49,29,89,25,47,26,38,16,28,54,58,56,27,13,20,40,18,31,58,21,58,50,26,27,18,25,79,35,12,14,9,12,13,17,70,42,19,20,18,16,15,40,74,67,53,35,30,24,36,23,29,75,19,24,25,33,45,44,49,16,25,38,19,79,66,24,19,43,65,66,31,55,58,32,37,34,67,14,33,47,45,128,31,83,72,96,43,16,37,31,23,42,7,61,34,53,24,18,24,46,41,32,10,31,34,51,30,86,67,6,63,51,24,50,38,50,35,78,78,56,43,37,60,39,83,60,15,37,37,49,49,51,41,62,45,71,26,69,13,25,16,10,15,25,24,19,64,9,38,56,9,35,27,7,51,21,38,9,57,6,51,38,30,36,27,12,35,99,40,66,10,60,45,38,56,12,44,36,22,30,9,16,12,28,21,9,23,22,8,30,29,45,13,34,27,36,15,4,23,50,8,27,39,42,28,32,20,52,22,43,49,15,29,53,40,22,32,27,27,28,16,10,30,15,29,23,17,39,43,41,22,18,40,34,30,28,13,25,12,34,24,21,18,23,28,46,20,24,25,30,36,14,59,57,34,9,19,16,41,32,47,31,29,47,33,27,43,9,28,36,25,47,24,21,21,34,40,38,55,47,10,28,31,27,33,27,27,71,19,58,30,58,39,49,21,29,32,26,24,13,36,53,52,31,37,20,72,34,19,47,48,27,77,28,65,70,35,54,25,37,35,28,78,20,46,20,31,31,52,37,47,14,53,39,39,17,44,33,13,38,31,59,49,33,28,34,52,24,9,58,61,40,118,13,42,75,39,47,21,55,18,42,50,14,44,16,27,14,19,16,21,11,33,12,28,18,19,15,26,10,66,33,33,59,76,15,60,14,16,17,55,36,57,75,57,40,73,46,54,12,26,27,72,65,59,39,37,59,76,15,60,29,27,48,47,30,12,29,43,44,20,47,20,54,17,42,37,13,14,44,16,27,14,19,16,21,11,33,13,25,14,23,18,20,13,15,12,29,18,19,15,26,18,60,19,63,39,39,39,24,28,52,31,38,43,16,12,10,8,11,11,12,13,12,13,13,11,11,12,12,17,11,11,10,11,14,12,14,11,11,14,21,18,48,7,70,53,15,28,16,11,85,39,43,16,57,62,48,29,29,8,60,17,31,20,25,26,48,56,16,64,47,69,53,60,45,28,41,45,39,11,48,51,49,16,17,13,22,13,11,16,18,13,9,18,14,52,24,14,44,50,42,63,27,41,24,40,27,53,14,45,93,52,47,29,33,23,84,26,15,12,41,42,37,43,57,59,23,37,33,35,15,32,46,63,23,53,13,56,82,30,42,40,37,30,38,18,34,31,68,63,13,54,50,24,15,51,52,50,30,37,43,47,27,41,14,36,29,29,21,53,63,65,62,8,53,62,48,32,41,52,39,18,30,10,35,18,56,62,35,27,22,40,46,37,26,64,9,20,21,39,46,39,42,30,40,40,44,61,42,7,29,10,47,38,34,31,32,72,40,37,20,51,15,18,21,63,12,21,18,69,31,60,60,37,29,25,24,7,15,6,55,42,46,49,80,35,61,38,16,52,38,51,12,32,8,48,37,60,48,47,41,69,37,24,12,54,80,26,36,37,52,25,38,48,40,41,18,46,45,75,52,30,50,24,8,7,9,32,39,14,7,6,9,32,12,17,21,25,42,37,42,38,37,35,23,10,24,67,73,42,9,21,9,52,40,25,29,26,53,31,32,49,9,28,58,44,43,40,45,49,59,44,62,33,31,41,45,63,78,9,38,24,51,41,79,25,39,48,63,15,35,28,50,10,30,21,34,30,31,45,55,48,42,10,19,21,24,40,38,32,31,15,65,50,29,8,28,48,22,20,49,23,44,22,19,24,16,47,23,16,33,49,17,75,17,39,47,57,43,22,15,11,8,11,73,29,27,68,34,44,51,13,60,62,57,62,23,56,26,49,25,9,43,33,52,38,53,28,67,70,59,36,61,21,68,64,31,9,36,37,61,25,50,67,60,79,63,27,10,38,101,71,50,35,30,33,65,14,52,33,42,8,23,45,51,46,66,27,43,7,70,63,44,41,8,33,46,62,19,35,55,54,28,49,57,64,57,56,57,20,28,45,34,40,17,69,38,28,18,32,7,42,48,53,50,56,67,50,78,11,20,30,40,76,54,64,64,42,10,32,40,63,59,50,53,54,25,41,37,34,9,7,8,45,37,24,28,28,14,17,15,39,29,10,33,70,79,34,56,52,11,31,11,61,44,60,51,66,5,39,60,45,10,28,37,49,29,45,75,67,112,51,46,13,39,32,11,15,18,53,106,79,35,96,13,40,26,48,35,60,41,29,32,63,50,72,4,10,55,25,47,6,54,37,66,18,6,45,35,37,28,13,21,12,11,36,35,37,25,42,16,14,26,79,12,27,15,63,32,51,51,44,44,34,9,41,84,29,35,50,39,40,29,56,59,33,61,8,49,67,44,32,36,41,36,50,41,66,53,6,20,21,17,45,38,28,26,44,45,59,64,6,38,47,36,75,53,22,42,35,20,32,39,44,78,4,8,59,54,33,9,71,58,13,38,49,33,54,44,46,59,56,37,7,21,47,39,24,44,58,36,32,39,35,28,17,28,19,9,23,53,66,19,57,68,57,44,19,30,27,27,14,45,34,10,16,41,21,65,29,22,34,7,14,15,18,21,25,27,57,28,57,16,27,19,13,17,60,57,51,14,13,19,28,48,38,12,27,20,25,32,27,19,20,18,22,41,30,25,42,29,44,45,36,15,23,13,58,40,28,81,27,45,7,26,26,43,43,15,27,8,60,26,14,29,32,15,12,13,24,22,40,9,32,70,84,20,55,56,9,43,32,67,36,6,80,57,13,36,15,56,34,43,49,66,45,53,53,67,39,48,37,7,14,7,8,6,8,8,8,8,7,8,7,8,7,7,16,56,67,35,36,54,53,57,22,53,51,54,12,53,28,40,44,61,9,63,57,60,6,44,53,24,37,75,77,4,12,121,54,72,62,8,49,36,46,21,41,14,39,24,46,51,30,44,34,34,54,47,86,71,52,40,46,31,42,72,45,53,12,14,28,16,14,14,7,13,84,37,53,81,29,64,80,17,28,30,17,52,7,53,58,63,9,34,53,93,86,11,62,33,13,75,63,26,9,8,9,7,8,25,12,13,12,11,12,11,58,37,51,66,10,28,9,9,9,7,7,7,7,8,42,20,24,57,21,15,14,19,10,26,67,8,46,8,66,19,56,195,39,49,48,39,65,81,6,49,59,54,37,40,51,47,49,37,69,44,69,60,64,49,68,54,33,20,10,15,48,36,18,65,46,11,26,26,63,44,20,19,17,62,38,14,20,72,44,12,19,11,22,23,50,66,19,50,43,69,38,22,23,33,57,51,22,68,86,89,61,49,88,87,51,66,33,35,30,59,9,12,86,81,71,46,36,41,42,49,13,44,63,50,37,68,76,43,46,48,33,27,36,24,15,35,23,42,82,58,41,50,71,46,52,51,21,58,44,12,26,48,44,40,38,14,40,61,50,27,45,45,32,72,66,43,57,46,46,42,15,57,68,84,84,59,39,51,23,47,57,80,44,98,58,61,33,37,62,43,34,94,68,46,51,37,16,76,50,44,29,93,37,37,60,40,26,26,21,54,62,17,24,17,16,12,18,85,53,73,11,34,47,69,45,74,31,26,13,45,31,9,60,53,36,99,84,56,50,37,35,46,57,40,29,21,56,60,64,77,67,62,44,53,22,42,54,85,34,63,76,75,42,28,33,8,32,64,46,44,46,30,37,54,47,24,44,84,43,11,37,61,37,53,57,38,47,10,31,46,69,61,53,30,53,59,39,64,68,61,20,56,54,43,53,50,56,37,32,63,24,31,13,43,40,36,49,39,41,57,41,43,33,48,20,47,62,36,4,30,50,43,32,6,58,48,24,51,58,22,40,7,71,55,54,64,53,67,44,46,15,146,45,46,60,27,43,19,10,25,78,44,31,39,20,22,24,12,24,89,6,56,7,29,8,34,5,14,5,21,9,8,37,16,31,9,22,14,46,20,29,34,8,75,25,60,12,30,87,35,84,5,61,7,32,8,50,9,18,41,36,49,54,39,43,45,49,9,42,58,54,50,50,47,24,11,39,51,32,10,37,23,13,52,39,37,60,26,13,54,60,57,36,29,20,44,19,17,29,8,32,64,45,32,34,35,46,55,60,26,32,35,27,41,48,27,21,40,41,37,21,12,58,58,71,37,54,40,42,65,41,8,71,62,21,42,50,40,88,12,55,57,41,46,9,75,69,47,37,50,46,9,59,41,8,54,40,14,33,35,32,42,37,64,52,52,33,56,6,50,27,44,24,39,53,55,30,41,46,43,60,57,41,55,41,49,9,40,45,41,49,42,38,35,20,30,33,7,40,15,25,31,10,25,17,38,22,30,41,39,40,34,24,22,35,17,49,47,91,39,12,33,29,16,9,15,12,15,66,22,25,21,17,12,15,71,50,37,56,36,44,6,60,36,38,15,34,5,54,59,50,78,8,2,49,25,32,87,60,8,2,86,58,62,64,76,55,5,3,52,22,48,40,53,8,53,63,60,42,67,33,16,54,63,38,65,29,34,17,49,41,36,37,17,34,36,55,35,14,16,56,61,42,49,14,70,36,46,84,47,70,29,15,19,51,25,56,31,48,22,72,18,20,59,17,42,39,104,64,62,65,56,27,41,48,48,36,35,32,22,28,40,22,29,50,46,32,13,48,70,80,92,33,57,57,31,23,22,18,40,20,79,59,47,9,61,31,52,19,32,11,123,64,52,63,36,65,47,26,36,38,24,25,70,28,10,21,13,23,74,61,35,14,20,52,54,27,32,14,84,39,25,13,7,35,25,27,16,18,16,25,36,25,20,73,50,19,22,66,72,53,51,49,51,35,23,42,18,29,13,59,63,55,60,80,38,55,22,56,41,39,32,46,26,28,8,31,37,55,51,25,29,39,24,51,61,36,60,63,31,33,36,12,36,60,29,49,43,51,34,85,62,43,49,46,17,32,60,30,58,39,77,14,21,22,28,64,24,37,39,34,8,30,49,38,21,12,56,65,32,19,32,64,54,36,55,10,29,39,27,71,46,7,61,4,50,41,11,26,76,13,37,6,68,10,39,11,67,42,9,22,15,12,7,68,7,79,8,62,13,24,46,33,16,9,63,7,33,6,23,11,17,12,45,9,16,10,26,13,30,71,65,10,53,8,103,6,96,16,49,7,28,15,27,34,37,7,34,5,57,6,12,7,18,7,14,7,35,5,42,11,7,8,10,5,24,5,37,10,15,28,28,35,47,92,50,57,32,54,52,53,50,6,44,38,38,26,56,54,7,37,22,31,16,63,55,23,9,18,31,19,45,47,59,8,36,26,34,58,66,43,52,39,68,53,27,16,45,32,56,51,53,36,27,10,30,23,41,26,48,77,28,38,35,48,11,35,12,16,12,54,37,50,29,18,32,24,32,39,36,11,29,42,13,68,55,16,23,27,9,55,43,43,50,12,12,27,20,43,30,30,29,19,28,8,29,62,21,46,7,36,11,26,28,22,19,39,12,35,71,104,7,30,35,38,11,23,45,38,47,26,27,21,14,28,23,30,20,21,39,68,28,26,37,44,40,20,38,38,58,9,49,18,40,34,56,42,53,39,22,31,15,23,38,27,45,27,34,68,9,20,58,52,32,63,48,45,43,18,31,27,52,9,16,55,55,35,63,34,41,40,43,39,29,29,16,25,38,26,15,8,12,41,20,55,34,75,53,13,39,24,26,57,45,43,35,7,33,41,73,69,53,55,28,48,43,45,23,28,46,59,47,43,37,5,20,41,48,54,73,53,41,32,43,57,8,82,49,35,52,65,32,24,24,48,31,25,23,54,47,40,73,56,74,75,13,68,60,67,35,43,30,44,42,26,10,19,64,52,46,50,31,17,32,45,20,60,50,44,67,76,76,21,14,27,29,37,4,27,24,44,8,44,51,39,20,66,19,19,27,37,34,27,14,77,21,73,47,13,72,85,36,91,83,61,66,73,43,61,58,43,46,46,24,37,62,37,53,47,23,16,18,42,48,56,80,42,38,45,13,18,69,126,74,52,38,49,3,59,14,155,30,117,40,55,67,49,44,41,14,90,63,79,72,50,6,93,19,8,102,10,22,87,44,17,11,12,24,61,152,46,164,131,118,20,29,130,67,32,17,42,16,36,46,19,62,39,58,64,64,51,31,42,54,94,17,37,54,32,57,46,40,41,54,60,32,47,94,49,18,39,46,50,91,86,81,44,9,28,78,107,138,108,38,81,118,150,14,20,60,17,6,53,9,18,4,34,7,23,10,15,6,13,6,48,14,30,54,51,247,10,212,8,59,14,26,9,22,62,38,17,144,11,24,8,50,11,125,15,51,12,53,107,77,126,119,152,76,15,103,23,60,70,11,16,71,29,50,78,8,13,54,32,68,52,17,58,53,45,15,64,18,41,13,30,35,17,27,27,12,32,24,17,39,41,20,56,28,24,37,11,42,18,34,37,51,32,32,54,70,7,56,47,21,33,40,33,53,27,52,51,35,38,24,16,84,8,50,40,24,45,22,25,22,21,36,20,23,24,23,27,41,10,57,35,31,23,40,25,7,23,28,23,32,24,26,23,24,30,29,32,19,17,57,35,41,34,23,39,22,42,30,27,21,20,27,10,39,22,21,22,21,26,24,23,25,19,23,32,23,20,16,29,25,26,27,24,34,14,30,10,24,61,30,30,60,23,49,35,47,35,67,51,62,62,37,40,38,8,47,51,48,46,61,8,48,16,16,15,16,18,19,11,76,33,70,60,47,59,8,67,51,63,66,8,62,18,63,40,28,12,24,40,28,17,90,7,25,36,43,15,18,49,32,49,28,54,66,45,31,41,10,51,43,49,63,84,55,30,43,72,57,12,58,48,56,56,44,11,11,12,11,13,11,12,11,11,10,14,12,11,14,59,32,12,16,16,12,11,12,18,16,12,12,15,10,74,57,18,37,24,26,16,10,21,11,76,44,18,19,37,19,48,49,10,43,31,42,20,17,63,36,19,48,11,49,28,37,57,109,54,9,66,42,39,13,105,57,11,8,28,49,84,24,37,60,49,21,41,55,61,75,79,37,102,59,61,72,65,115,71,45,21,45,54,33,13,11,36,56,42,55,20,46,33,16,93,38,31,57,32,11,46,56,23,34,62,34,52,72,10,56,17,36,32,30,19,15,13,6,56,19,15,40,24,46,35,11,37,33,29,73,42,44,35,49,40,30,90,60,22,9,43,51,33,74,55,90,51,68,63,47,47,72,56,76,35,64,63,57,13,20,26,37,58,20,30,51,52,50,30,34,49,24,60,11,56,88,74,59,34,36,52,82,14,31,33,76,47,52,69,71,60,21,12,48,35,90,40,81,48,35,12,35,41,19,90,106,65,51,11,58,70,44,8,43,33,48,12,60,80,61,45,16,35,40,12,35,16,70,40,47,34,48,19,8,26,33,57,25,36,67,39,45,12,59,54,41,10,87,43,41,54,48,19,12,56,34,34,15,84,58,52,108,86,63,33,42,73,92,52,60,87,78,86,84,102,66,3,104,87,42,8,6,8,8,10,9,10,10,6,7,8,9,7,9,4,9,5,10,10,8,7,7,8,10,9,9,8,8,8,6,7,22,16,64,55,66,35,41,64,22,39,60,61,44,51,59,82,44,58,43,78,50,39,58,68,37,35,3,80,49,35,5,8,10,8,8,10,9,9,11,9,8,9,7,8,8,6,6,9,7,8,9,7,9,11,7,10,8,10,10,6,19,10,54,73,70,52,92,36,61,36,90,50,41,42,45,79,48,3,67,55,7,5,9,9,8,8,9,8,9,8,8,9,9,8,11,7,3,11,10,9,9,8,9,9,9,8,8,4,10,9,8,23,16,58,23,47,26,78,60,37,65,66,83,52,48,36,99,42,73,58,29,72,3,53,70,5,6,9,8,8,10,8,9,7,9,9,8,12,9,12,11,8,9,9,9,9,9,10,8,8,9,9,6,8,10,9,23,15,82,70,69,53,32,66,80,51,69,52,23,32,56,42,61,26,82,68,41,33,38,19,42,63,60,71,60,48,68,20,29,35,33,75,55,39,31,17,18,47,37,25,38,34,25,39,30,67,58,73,59,63,57,50,53,41,6,3,9,8,7,10,8,11,8,8,10,9,8,4,9,8,4,8,8,11,9,8,7,9,9,9,7,9,8,7,8,19,8,77,47,59,62,13,31,29,69,59,78,6,3,10,8,8,9,9,8,8,10,9,8,8,9,7,11,6,12,6,6,9,8,10,10,8,9,9,9,8,8,19,8,53,25,18,68,66,49,21,60,57,51,51,6,3,9,6,8,10,9,8,8,8,11,8,8,9,10,6,3,8,8,7,10,8,9,8,7,10,7,12,8,8,13,8,88,80,109,39,54,6,3,7,8,5,5,9,9,7,5,9,10,8,10,7,3,8,9,8,8,9,9,10,8,9,8,8,8,14,54,10,51,71,19,56,58,56,73,75,13,43,77,75,46,6,34,27,61,67,67,62,43,61,71,57,14,38,67,49,54,75,36,43,11,55,41,63,47,34,34,34,55,19,29,16,37,39,31,73,28,66,10,44,12,23,27,44,7,32,37,15,12,78,48,35,7,36,43,35,60,102,11,72,37,85,38,8,33,48,60,45,74,39,49,52,15,37,30,46,17,12,52,16,24,26,74,45,39,38,28,29,18,51,25,57,61,40,66,49,32,68,86,54,87,61,22,36,46,65,43,32,17,41,21,17,19,68,42,31,37,32,36,11,9,55,33,51,47,54,56,35,72,12,26,101,44,61,46,71,54,56,97,61,41,41,37,14,39,76,46,48,33,50,81,37,47,84,10,21,53,18,32,42,46,41,12,76,71,21,21,15,15,62,37,52,44,48,19,20,101,30,39,35,64,44,22,8,60,61,54,18,19,55,27,31,46,57,53,46,92,28,19,46,52,40,27,59,80,49,11,21,55,73,49,64,53,62,8,44,48,30,32,44,35,50,46,23,62,68,20,63,37,47,34,14,51,45,57,36,24,11,36,44,49,51,69,31,54,41,20,8,35,49,43,81,61,67,28,16,26,52,26,23,59,80,50,16,26,17,46,27,36,30,23,37,28,17,26,42,27,30,12,30,62,92,12,111,8,47,13,95,5,48,6,27,7,66,15,29,58,19,51,8,48,6,24,10,74,5,15,5,15,7,15,8,61,6,24,16,27,62,8,44,7,7,7,49,43,8,52,15,21,7,42,10,59,5,24,11,15,12,25,61,31,48,6,38,9,82,9,18,9,61,16,38,11,29,8,45,12,48,7,24,10,42,11,27,13,56,12,31,17,28,54,46,55,62,77,46,44,9,21,21,24,21,20,29,8,98,33,120,9,43,15,36,45,9,17,8,41,8,31,56,92,17,24,39,54,13,8,12,11,20,14,63,44,18,13,67,20,53,48,41,17,41,32,62,54,14,126,8,28,31,101,61,24,48,24,59,66,48,86,135,77,80,31,67,65,20,52,12,64,42,42,15,66,39,72,73,14,66,68,30,9,44,9,43,46,21,12,33,13,55,37,40,9,11,8,12,11,33,51,13,10,10,11,14,22,20,19,10,17,19,23,58,69,15,51,37,12,60,27,12,34,46,49,53,45,34,41,44,25,37,53,40,51,24,39,47,35,59,41,54,14,17,56,51,34,6,27,47,36,70,52,62,57,46,55,9,37,71,45,53,101,72,45,9,56,64,32,33,53,62,50,53,55,38,80,13,28,24,27,24,35,19,15,24,23,46,48,10,25,20,60,34,60,29,55,19,60,76,68,56,23,52,24,11,55,87,53,78,21,33,70,46,44,45,73,63,46,12,28,63,69,16,19,6,15,9,8,14,20,8,20,6,22,9,17,5,6,12,51,8,5,10,62,15,7,6,28,6,10,4,23,5,22,7,26,5,6,10,9,5,14,5,33,48,93,12,53,41,26,69,10,33,10,30,18,74,54,67,34,8,40,23,82,13,18,31,18,53,29,36,38,41,34,10,39,67,93,11,27,41,34,59,43,26,8,31,31,43,48,40,26,6,26,51,51,24,15,53,32,35,43,61,58,28,21,33,8,23,20,56,53,54,37,25,33,66,42,39,7,29,32,53,50,24,59,54,50,22,38,18,50,29,50,25,44,73,46,53,49,40,28,54,31,28,16,48,40,22,39,32,53,9,31,20,21,40,31,30,31,49,30,59,69,32,50,42,59,64,50,54,36,26,9,42,32,37,67,37,50,55,55,56,36,35,46,35,18,39,47,25,52,64,69,30,48,49,25,61,45,26,43,49,32,46,50,30,22,42,24,26,11,54,37,36,43,50,46,14,41,33,45,51,35,27,31,28,35,28,25,32,21,3,99,19,15,52,51,27,34,84,70,61,50,80,71,51,60,43,17,41,29,32,40,57,57,23,64,64,29,79,30,41,30,10,29,22,44,43,35,59,34,36,57,25,33,38,73,21,88,66,48,77,15,50,70,18,29,22,19,29,52,71,28,53,20,74,18,24,30,60,48,30,36,62,67,12,20,72,52,51,14,25,48,59,36,36,42,16,30,53,25,47,54,73,31,50,25,41,39,91,13,26,44,35,22,41,38,53,39,18,42,52,45,20,77,11,51,36,31,67,29,51,47,11,36,56,52,34,54,62,68,51,29,54,11,25,69,56,56,30,52,16,26,51,69,55,27,37,48,26,8,21,72,58,50,65,15,30,44,25,33,5,30,9,15,8,47,7,21,5,38,14,24,18,42,56,71,72,45,39,44,35,18,29,66,72,8,82,7,38,6,17,5,6,6,46,10,80,35,34,26,13,24,35,48,22,30,43,13,17,16,66,8,68,11,68,59,112,13,8,12,26,47,38,7,43,9,77,63,10,16,9,24,36,46,10,43,12,61,5,45,9,37,65,39,82,54,27,46,33,62,15,38,48,57,36,44,38,13,15,25,45,87,62,54,13,28,69,48,44,49,12,42,26,57,9,31,10,21,48,16,34,44,50,30,37,53,42,81,39,36,26,38,64,10,69,58,9,57,56,70,26,47,46,40,7,29,62,57,27,41,11,59,48,55,49,9,63,47,23,32,43,38,41,22,26,55,35,13,14,42,43,39,28,46,34,62,26,9,95,32,50,18,29,17,81,58,38,40,11,47,48,30,56,24,25,46,28,37,29,66,70,8,60,24,54,67,42,40,9,51,29,44,28,41,43,48,56,46,28,44,47,28,51,66,90,62,20,16,47,46,62,61,48,53,41,47,29,7,73,29,58,31,50,39,33,57,12,86,30,54,46,63,13,72,60,64,22,8,85,26,33,25,30,57,20,8,21,15,36,30,25,63,40,74,12,38,62,46,42,14,65,84,22,48,48,61,25,51,22,45,32,35,30,62,50,44,13,40,250,122,83,64,13,19,50,24,28,10,18,42,27,116,23,61,22,29,50,62,18,70,40,46,43,30,38,17,42,48,13,37,40,2,2,2,2,2,2,2,2,2,2,2,2,2,2,2,3,15,3,3,3,3,3,5,6,5,3,4,4,3,4,3,3,5,3,3,3,3,3,3,3,3,5,4,3,3,4,4,3,3,29,64,57,20,34,45,26,42,52,25,25,22,20,73,47,49,85,23,18,41,56,56,73,22,15,24,38,36,33,34,25,33,7,64,31,40,68,56,46,54,75,63,37,8,55,27,8,37,71,37,36,44,27,28,41,61,11,59,56,47,40,34,30,22,60,30,35,28,50,62,81,63,31,14,9,12,20,29,75,38,61,41,65,37,31,39,56,16,45,84,66,62,43,59,71,73,79,17,27,20,61,23,27,30,41,40,60,48,59,47,51,15,28,44,60,46,40,44,96,73,35,29,47,27,38,11,45,71,45,40,51,101,55,42,17,23,29,11,51,50,6,3,3,3,3,10,7,3,7,17,50,40,88,61,9,108,51,27,35,41,32,50,56,45,54,35,29,19,61,21,19,10,26,55,37,25,9,29,64,13,53,40,16,41,47,38,50,57,56,60,49,60,76,23,29,47,57,43,41,19,20,61,33,58,7,34,42,52,58,46,91,73,39,26,51,68,70,55,7,82,49,25,29,51,30,38,8,21,42,33,49,41,40,19,27,43,51,35,45,24,39,61,27,42,32,54,24,38,57,28,58,56,36,15,29,58,30,52,52,28,11,30,54,60,76,38,6,28,47,36,4,41,54,11,17,5,45,10,83,6,21,5,38,4,44,9,67,13,33,48,51,44,11,94,63,9,42,105,15,69,35,80,44,34,13,32,58,39,87,15,34,74,48,49,7,33,45,58,20,9,47,48,53,38,59,46,43,9,39,56,55,28,33,20,32,39,57,37,45,15,55,28,20,24,10,75,84,84,69,82,14,63,39,70,86,49,52,31,54,53,59,76,42,59,27,19,24,25,45,10,42,50,77,64,43,51,48,33,7,66,68,38,25,29,20,22,13,48,25,102,36,36,40,61,12,55,60,54,21,19,75,60,75,57,39,10,62,32,59,41,75,33,55,80,29,14,68,38,49,37,56,51,40,48,40,24,25,12,70,40,37,52,56,51,60,106,50,23,20,18,20,19,23,19,27,27,17,41,47,75,45,49,36,44,10,30,20,20,51,48,61,65,67,51,48,12,57,40,74,54,48,39,20,28,58,33,39,22,30,14,21,59,49,7,57,75,23,5,57,47,80,8,53,48,42,38,21,5,47,58,27,10,109,66,38,41,49,50,67,41,50,43,38,56,12,79,27,53,19,58,65,69,12,41,62,38,50,59,78,30,17,46,55,58,46,50,79,57,36,56,68,73,49,51,60,56,32,22,84,36,59,60,39,33,9,30,24,7,18,42,35,11,32,22,64,58,52,54,18,88,10,36,41,50,26,66,16,40,46,59,87,35,20,19,14,45,62,59,36,40,42,35,17,42,59,38,73,49,54,39,19,41,50,69,26,19,17,19,19,33,32,41,73,26,33,62,38,38,14,20,10,13,27,28,24,35,9,37,50,52,47,61,14,36,54,35,94,23,41,39,55,49,52,27,70,33,52,67,68,29,40,47,59,48,8,87,26,35,53,28,6,33,61,63,35,62,14,43,56,24,20,52,44,45,37,35,47,28,33,27,14,60,72,36,23,63,38,50,54,42,35,66,64,54,56,36,15,43,42,51,41,38,53,61,58,24,48,12,121,64,80,70,28,44,7,32,25,29,58,28,30,39,30,18,70,11,57,43,71,41,47,17,68,32,31,35,17,38,54,30,49,30,27,48,20,92,52,56,11,65,47,24,30,14,48,44,71,58,67,16,31,67,52,55,60,72,39,40,29,11,24,62,51,33,28,42,28,42,13,18,38,26,5,45,37,63,25,27,11,10,30,34,23,54,63,34,22,10,60,57,63,20,55,9,11,9,7,11,12,10,20,17,42,34,43,41,44,21,20,45,20,16,17,6,42,48,44,17,9,56,34,14,15,64,40,30,34,23,43,23,35,46,51,31,59,28,34,11,22,33,13,11,9,14,37,64,47,30,44,36,39,11,21,35,44,37,36,17,18,36,37,46,46,26,53,23,13,62,38,43,53,46,58,24,53,25,12,54,55,93,41,107,77,12,35,30,36,7,34,33,42,10,57,43,56,29,52,69,106,44,42,86,70,62,5,34,49,32,56,10,29,60,34,67,22,21,21,48,16,54,27,49,47,63,62,41,15,58,39,47,62,28,19,82,19,68,37,49,31,40,10,40,17,55,59,8,66,68,61,13,62,24,37,34,42,50,15,15,33,21,12,38,50,60,43,68,59,40,38,44,47,38,42,26,62,22,38,50,31,47,30,71,36,12,32,59,127,8,67,15,46,8,21,8,46,7,55,13,26,46,27,80,10,45,5,25,11,42,9,36,5,35,10,61,10,77,5,19,11,17,51,33,64,61,49,49,57,52,43,34,50,52,67,50,9,46,44,7,98,8,50,22,25,8,85,21,10,33,46,43,59,27,36,58,26,40,24,40,22,7,36,62,34,53,39,42,51,9,24,22,29,31,65,21,42,42,73,56,56,27,22,41,11,41,54,43,25,50,24,72,61,50,16,39,26,40,54,54,53,6,37,51,35,39,35,36,22,33,28,15,32,37,57,36,8,43,36,29,39,12,29,38,48,15,60,54,41,39,48,30,35,10,115,44,25,11,21,46,17,23,59,61,13,39,36,45,58,65,26,12,35,14,62,29,62,41,49,37,22,58,62,33,48,40,65,35,11,30,43,42,59,17,58,31,45,40,13,41,55,50,64,51,12,92,56,46,14,50,36,48,57,44,48,5,7,37,9,66,42,52,51,31,52,48,41,48,9,48,75,61,40,44,62,78,15,47,52,30,38,7,55,27,15,19,28,13,9,41,14,29,38,51,9,45,66,76,14,78,47,6,81,43,16,18,23,25,9,33,49,15,35,12,27,59,25,33,72,64,19,37,12,50,41,23,44,34,47,55,48,12,13,21,15,15,16,17,17,16,16,15,16,22,8,98,11,55,62,49,55,56,64,30,14,64,23,36,40,31,10,38,38,51,93,59,29,28,27,71,34,33,11,27,17,94,61,23,48,76,41,64,26,38,76,61,64,59,55,42,56,71,11,20,76,45,86,76,51,55,24,53,53,35,24,12,41,92,65,95,24,40,69,31,44,14,68,59,63,38,11,58,47,62,61,48,33,37,31,32,70,57,17,44,60,27,76,60,49,29,42,30,48,10,62,24,81,68,63,41,63,54,66,37,28,31,49,13,69,29,17,86,44,41,22,33,48,57,40,51,32,14,28,70,80,12,20,34,48,81,44,48,29,11,11,28,51,26,49,39,43,41,52,61,35,14,37,53,51,102,30,14,58,78,70,35,35,47,54,86,38,36,37,40,85,33,53,13,48,104,33,45,41,14,17,52,44,31,64,59,16,23,41,32,48,44,10,22,24,81,54,11,78,56,39,42,60,13,33,40,36,3,12,8,15,11,7,9,45,31,12,10,8,22,33,8,11,10,7,31,8,73,9,68,9,28,17,94,58,38,80,56,11,42,21,39,43,52,44,64,47,34,20,42,34,28,24,11,17,10,55,54,82,13,37,23,57,25,78,7,37,67,69,44,52,31,49,66,24,38,47,10,25,28,46,39,56,58,24,18,31,52,16,9,48,41,45,39,51,53,21,36,6,44,29,53,58,11,97,54,43,55,7,60,50,44,58,13,71,45,44,59,59,43,103,8,88,39,37,10,68,25,63,34,29,111,50,46,46,8,78,28,66,31,13,136,63,43,9,50,26,42,46,11,110,33,9,110,75,13,35,46,11,46,62,31,57,17,75,32,37,118,54,11,103,13,109,48,50,9,57,43,36,9,55,61,12,46,25,48,8,39,44,72,30,76,46,36,15,49,110,29,61,83,67,30,10,50,61,40,36,78,9,128,87,9,83,23,67,41,7,70,22,39,15,37,57,42,52,39,21,93,11,105,75,49,17,71,23,50,36,78,16,22,30,26,15,13,15,63,60,62,16,21,44,8,58,20,28,26,19,7,62,37,14,14,9,50,46,52,63,51,51,121,7,81,66,39,57,27,13,63,55,12,15,19,40,25,39,58,14,40,95,35,67,117,12,75,52,60,29,12,45,63,13,32,82,76,73,41,15,43,39,37,45,52,62,21,31,51,41,60,9,6,5,12,68,19,98,51,91,32,40,133,80,102,13,61,81,55,71,58,50,14,61,48,48,10,55,49,87,39,62,44,77,54,10,65,47,47,103,70,47,59,35,8,61,49,65,128,45,32,31,74,63,68,45,53,22,35,96,8,60,31,48,34,34,66,68,30,49,47,12,22,34,47,35,13,14,59,49,16,24,72,50,38,14,15,33,24,160,39,35,38,39,57,45,8,53,78,66,102,69,42,73,45,33,11,49,80,34,86,57,52,21,68,79,76,74,53,50,102,70,31,28,24,14,36,86,31,67,52,52,34,36,15,91,42,89,118,58,77,47,58,58,11,41,36,62,46,12,30,54,50,41,18,30,56,60,47,35,12,24,18,16,39,72,13,36,39,48,33,54,11,56,20,35,20,10,86,58,43,5,39,67,37,13,22,36,77,38,22,96,111,48,35,25,57,16,21,59,39,27,43,21,35,65,48,39,45,54,68,52,13,14,28,39,57,57,15,14,74,41,35,63,63,15,46,50,41,55,10,30,67,62,78,27,22,50,66,19,44,73,46,69,45,23,16,36,57,66,53,55,13,27,74,35,55,36,44,28,44,66,34,73,39,11,38,83,82,9,24,9,54,62,39,33,12,62,43,12,67,66,9,51,52,10,57,43,68,73,63,44,34,63,53,13,23,53,44,60,111,15,36,51,60,39,12,78,31,34,29,36,44,12,47,57,47,35,63,13,69,36,39,35,59,10,49,55,58,57,46,32,43,66,30,23,10,44,48,83,75,89,35,18,46,36,28,61,89,54,70,78,43,52,103,86,29,24,12,36,72,42,56,57,56,76,57,40,46,59,61,22,56,10,63,50,16,65,66,21,18,43,17,30,73,27,24,12,24,56,44,31,21,18,43,17,30,38,37,26,24,11,32,42,61,59,10,24,35,56,75,28,11,39,72,62,30,32,31,106,60,38,39,10,67,71,34,18,18,12,46,17,32,104,58,49,18,27,39,162,59,37,66,65,17,35,57,98,76,85,64,64,31,16,15,20,42,48,26,41,22,40,40,43,36,31,12,24,30,50,30,55,34,52,11,17,39,46,9,27,46,26,46,35,48,15,30,20,35,14,24,16,27,66,37,46,8,49,54,36,5,53,47,56,40,74,8,29,59,4,51,13,20,10,57,28,50,10,20,22,40,9,41,50,61,43,6,67,29,36,9,87,48,77,9,60,43,50,31,8,46,67,6,67,71,60,8,69,47,56,14,11,17,46,7,5,5,5,5,6,41,9,50,48,44,71,9,61,53,13,87,32,12,89,24,9,25,29,49,32,9,54,43,7,48,66,48,7,50,64,16,18,43,51,46,32,8,34,37,58,6,46,21,7,37,50,78,33,8,66,59,14,39,9,78,27,36,7,55,36,8,75,41,21,6,30,26,32,43,25,45,39,40,30,49,24,31,29,38,49,20,16,55,23,52,74,32,44,66,37,19,12,16,30,25,28,60,30,46,13,48,51,45,50,42,15,67,49,76,30,71,42,63,13,68,30,41,46,18,40,47,39,41,21,49,50,93,58,41,37,10,68,58,38,13,59,12,55,132,41,10,54,53,39,56,33,39,39,50,62,53,22,17,63,45,46,53,51,37,16,20,19,22,76,51,42,36,50,12,64,47,48,82,41,69,11,69,79,51,22,17,22,15,26,42,38,30,26,63,67,23,35,40,40,28,39,48,34,16,34,64,59,85,12,42,39,79,31,11,29,11,31,56,33,60,77,63,38,18,48,65,45,42,51,21,11,29,65,40,17,12,34,26,31,18,44,56,36,55,29,17,32,74,46,38,54,24,67,16,25,49,31,108,37,38,18,48,48,39,31,32,36,61,12,36,61,41,44,56,20,18,21,11,69,49,73,123,37,13,39,105,30,63,48,33,61,43,56,29,36,43,9,9,8,60,46,52,65,41,59,56,16,60,59,61,21,28,44,29,18,13,56,43,12,28,39,28,31,53,9,30,15,35,72,80,41,99,42,44,8,39,59,69,76,36,8,24,24,62,32,45,40,25,55,39,37,18,61,28,51,23,24,13,24,69,42,100,62,37,61,53,13,44,18,55,38,75,91,36,37,61,79,65,60,39,25,24,12,32,57,31,11,91,6,22,8,46,9,38,10,20,16,40,9,38,7,39,9,127,8,18,11,26,67,64,8,63,5,54,6,81,6,64,12,52,9,56,14,61,10,33,25,29,17,73,12,87,7,7,5,16,8,75,9,40,13,27,8,21,9,26,58,76,42,5,28,9,84,65,6,21,4,65,6,86,14,144,11,117,13,45,51,49,17,68,38,66,41,44,76,44,16,63,43,49,61,79,70,13,54,9,18,55,11,61,66,51,91,11,44,51,60,9,48,52,94,55,31,66,43,48,44,12,54,62,35,52,8,34,39,44,14,41,58,61,52,39,10,34,64,55,49,11,20,44,29,49,10,17,56,47,78,63,68,20,22,45,94,35,38,29,11,54,67,54,25,43,49,57,15,43,100,88,64,51,56,32,29,80,86,52,82,7,53,106,85,87,90,69,78,67,16,45,66,37,66,39,69,55,28,32,18,55,45,11,46,13,41,51,41,63,36,7,24,42,27,61,18,27,24,45,33,37,27,8,59,50,12,25,8,56,77,14,79,10,13,32,30,41,14,12,49,27,10,19,59,51,25,59,35,54,92,61,17,19,50,66,29,55,43,31,36,74,42,87,57,17,60,55,28,48,7,35,18,48,33,71,57,55,41,21,34,15,78,38,67,56,43,36,53,19,34,102,50,54,32,60,44,10,53,60,9,24,33,31,33,21,7,60,55,24,27,25,33,64,2,87,12,31,24,10,25,17,43,60,56,15,21,7,30,29,31,29,10,41,16,26,32,33,36,13,48,35,6,55,37,13,61,48,32,31,44,73,69,16,25,42,73,41,65,44,45,50,26,36,37,20,26,35,85,22,43,64,13,49,36,68,17,43,72,32,43,56,25,44,71,39,43,35,49,37,14,25,21,69,70,24,36,55,30,23,14,36,45,52,12,52,27,9,94,32,12,72,62,12,56,73,12,36,30,11,46,65,70,12,20,43,75,47,27,47,48,23,20,35,39,13,57,48,79,74,32,40,75,21,17,42,79,65,56,31,49,23,33,13,69,76,56,25,22,33,68,40,46,23,36,18,28,21,29,12,19,19,73,49,28,45,33,9,37,88,42,64,48,13,41,54,28,19,11,18,14,22,13,47,62,63,74,60,21,15,42,14,26,89,42,29,37,69,39,49,7,11,20,49,12,66,66,15,74,25,43,18,42,70,75,80,39,34,10,30,12,33,30,18,53,47,26,47,90,54,49,5,81,28,59,22,63,17,66,45,55,46,43,17,31,30,29,20,57,29,19,7,19,15,69,44,14,42,48,74,40,36,39,26,56,17,34,20,9,44,40,34,84,22,82,43,58,56,36,12,33,60,28,49,77,78,20,42,53,68,26,32,10,18,64,71,24,82,85,33,8,12,25,67,50,21,26,24,48,31,27,36,49,60,27,38,61,37,43,36,49,68,21,49,75,126,27,31,33,13,29,47,54,51,31,53,17,15,30,71,4,41,4,34,10,84,6,14,5,38,5,17,12,25,38,35,56,12,20,11,16,11,21,8,19,8,16,34,10,52,59,50,46,45,83,6,48,16,9,33,6,67,12,43,49,24,14,22,79,58,27,29,56,27,20,70,24,7,69,10,43,65,56,51,10,38,22,39,47,62,30,43,35,87,57,6,48,52,71,49,38,84,92,9,31,18,22,85,33,29,15,38,7,32,35,19,33,11,74,53,8,46,8,45,7,34,12,48,8,25,10,20,8,48,8,63,9,28,10,30,6,20,10,37,10,14,8,22,15,25,6,59,6,11,7,6,13,11,8,21,7,20,8,22,12,47,21,30,26,40,12,52,58,65,10,34,43,18,50,41,15,35,53,56,59,29,30,10,42,21,43,46,28,37,10,18,15,30,59,30,15,35,39,52,35,37,9,25,54,57,19,9,46,36,65,40,12,39,11,32,32,44,10,23,33,11,32,83,49,62,12,26,30,14,32,45,37,41,14,57,18,33,30,19,12,31,27,39,36,53,43,37,18,46,28,18,38,26,11,38,79,53,28,67,38,51,33,83,41,30,48,14,16,8,37,53,24,51,37,50,17,48,37,32,17,8,30,15,58,28,79,52,35,67,33,69,35,12,58,33,38,6,54,26,31,41,43,11,22,80,38,41,48,48,99,101,46,55,49,32,76,65,42,34,57,54,42,11,38,21,46,11,87,20,34,29,5,61,40,40,35,16,63,63,42,70,67,63,62,29,21,40,7,46,25,57,32,26,25,27,25,47,64,50,65,69,56,14,32,60,44,49,42,48,70,55,45,25,34,9,24,19,63,19,71,37,54,26,29,66,14,56,43,40,38,61,45,11,32,42,53,39,23,46,42,31,54,24,11,21,20,16,20,34,27,33,63,6,88,35,59,103,46,11,24,35,33,44,66,34,36,7,31,17,22,32,60,42,30,64,15,30,12,28,94,22,30,34,63,53,65,80,44,34,37,89,53,47,30,18,47,62,46,39,61,35,9,62,61,77,84,29,33,27,62,33,13,45,15,51,48,69,39,40,70,34,16,65,39,95,19,60,101,57,47,82,34,36,47,49,53,70,47,47,42,7,52,66,87,76,40,57,43,13,44,22,47,34,53,29,50,27,32,64,30,55,18,13,58,43,60,27,62,56,30,30,68,42,27,9,37,86,76,124,12,43,40,21,48,18,37,33,37,42,30,70,41,39,7,8,8,8,8,8,8,8,8,8,8,47,49,10,23,40,61,47,66,23,68,31,85,24,28,32,54,39,29,19,28,46,52,41,45,19,63,30,54,38,36,79,33,34,16,21,28,51,30,53,42,62,49,17,30,7,27,25,51,21,65,38,34,72,33,35,52,28,50,12,27,129,81,52,58,32,33,16,48,31,29,34,34,33,12,26,31,73,96,56,81,36,51,62,85,54,35,39,33,24,29,13,31,56,48,68,53,44,71,18,31,23,74,52,43,23,17,130,47,44,58,49,14,52,71,55,23,48,28,24,16,37,84,36,74,28,53,30,53,51,8,37,77,61,45,61,40,46,69,47,44,59,56,32,12,32,68,58,40,61,35,52,53,11,21,41,42,25,34,43,65,71,30,55,16,27,72,13,30,6,15,6,13,8,28,4,11,7,24,7,32,8,17,13,34,6,31,13,42,16,39,48,46,60,58,61,13,48,37,61,23,23,27,38,41,30,54,26,14,63,66,58,19,9,46,56,52,13,32,30,75,61,9,16,41,76,26,72,73,72,33,36,34,97,9,63,10,72,54,62,8,47,53,46,52,84,42,34,16,3,59,10,85,39,66,7,84,47,10,38,33,42,34,41,32,31,45,11,33,28,52,40,28,62,41,26,10,68,39,39,54,21,61,42,56,68,90,72,66,68,11,58,52,67,109,51,62,55,33,54,37,14,58,52,33,104,65,83,39,27,14,87,64,57,41,46,11,36,60,21,24,11,49,46,65,29,43,67,36,44,61,9,30,51,64,68,50,46,38,44,20,40,11,47,31,60,34,43,58,10,24,39,39,65,10,84,88,40,62,11,38,33,12,45,40,46,38,24,9,33,72,64,17,79,65,123,51,32,23,35,34,53,45,50,34,28,17,20,34,38,42,61,19,65,76,15,25,79,37,54,78,35,33,74,9,30,74,69,42,25,52,42,36,61,40,46,40,57,10,44,41,88,43,71,27,100,35,51,10,16,44,10,46,38,74,98,32,37,76,62,7,52,89,55,8,43,50,24,43,27,10,68,43,43,72,37,25,35,10,46,31,90,51,43,70,48,12,65,66,9,77,43,41,27,62,36,54,13,76,72,51,37,50,24,12,23,35,14,66,42,28,28,44,52,41,57,24,10,32,28,24,44,23,73,60,41,55,34,27,66,52,13,48,86,53,31,32,47,9,46,18,74,50,26,44,52,41,36,56,72,63,35,24,22,10,71,84,9,109,31,92,14,25,11,30,55,50,60,45,49,19,39,105,69,45,43,8,65,57,77,79,62,7,53,40,13,77,83,92,6,60,46,81,33,9,33,54,29,65,48,53,64,50,26,46,32,35,10,28,55,16,62,19,64,22,52,6,50,12,53,14,36,54,44,42,34,77,41,16,61,69,37,43,18,9,76,59,6,30,4,33,5,25,6,18,5,88,9,30,9,37,8,62,9,53,15,74,14,26,70,59,50,70,12,41,75,65,38,72,61,92,53,70,36,66,3,56,31,7,47,56,43,29,41,15,11,20,9,34,24,41,59,38,42,24,33,8,25,61,25,52,51,48,43,38,38,24,39,37,31,11,20,42,30,54,33,64,79,46,28,17,12,20,67,81,33,67,34,12,43,80,50,11,18,44,17,80,30,35,25,54,56,61,12,37,80,71,39,89,38,46,10,84,62,57,14,64,79,50,39,36,12,29,51,71,46,39,33,10,49,59,37,51,94,62,41,25,41,34,79,32,39,50,70,44,57,53,40,25,49,68,36,20,38,23,27,73,40,98,62,62,75,82,110,41,54,57,63,21,60,45,38,43,36,65,110,135,26,87,17,50,64,52,84,35,67,25,32,19,78,84,65,53,37,71,31,10,25,24,63,72,101,28,26,22,63,76,66,73,52,75,33,10,30,49,52,25,47,46,23,21,43,34,29,15,87,39,81,56,51,46,9,38,38,23,105,72,20,51,29,66,42,16,63,28,28,55,13,50,52,31,41,52,116,53,94,66,22,53,22,31,32,20,16,51,51,81,50,42,36,33,9,45,61,44,73,50,56,35,30,29,33,49,15,21,45,24,28,21,43,10,19,11,20,44,48,32,19,58,35,32,74,39,26,24,39,48,38,26,41,55,33,27,47,35,9,31,42,44,74,39,9,14,78,54,56,10,30,50,25,30,6,40,5,82,7,27,7,23,10,25,11,24,44,22,31,9,70,6,17,9,38,8,29,6,82,8,43,5,33,12,45,5,12,11,28,53,17,45,34,74,22,12,48,8,19,44,16,27,38,14,46,11,37,15,86,10,57,12,24,66,14,83,9,67,6,35,12,71,11,87,8,59,11,25,38,47,48,15,80,65,68,47,40,30,8,16,40,54,40,41,11,25,61,49,22,54,30,28,10,30,60,39,31,64,27,35,32,31,49,41,14,51,22,9,6,6,8,15,8,10,33,34,23,25,6,6,9,10,52,67,28,88,47,60,72,58,58,86,74,67,76,56,48,18,50,49,110,44,44,25,24,40,53,56,6,73,31,31,12,44,35,11,64,41,17,39,50,26,10,75,38,7,51,49,57,8,46,38,39,6,84,8,51,49,5,104,65,7,83,47,44,42,48,20,11,36,47,54,26,22,14,42,67,73,81,6,31,9,10,10,8,10,10,11,11,10,9,8,10,9,9,9,9,7,9,8,11,9,10,9,10,9,5,45,9,10,8,10,11,10,11,10,10,9,11,9,11,10,9,12,9,9,11,11,9,10,10,10,10,12,9,48,7,41,49,47,5,41,29,32,51,7,44,23,34,9,54,33,35,30,7,78,64,51,40,9,83,47,23,30,11,51,27,45,11,97,9,90,10,50,36,79,10,23,93,33,42,41,52,30,70,92,28,33,24,16,20,32,17,21,36,33,46,36,18,34,66,30,9,34,45,33,12,61,9,87,47,10,38,62,15,59,8,13,75,8,52,37,33,7,59,43,11,72,114,15,39,8,48,23,26,63,13,61,17,26,9,51,55,10,54,26,42,10,32,52,38,43,7,26,123,10,43,25,54,11,78,73,27,80,28,34,53,18,11,60,31,39,61,50,22,62,70,46,12,40,63,58,51,75,70,63,41,33,12,83,32,5,18,70,72,35,38,7,76,36,4,45,41,80,88,39,17,60,55,56,54,6,67,15,30,8,11,14,38,5,3,90,16,37,12,60,5,33,45,13,53,55,63,48,67,15,49,14,38,23,49,51,66,57,60,53,92,45,69,63,41,36,55,61,37,54,50,47,12,25,25,40,72,48,42,38,36,35,40,59,27,109,39,64,86,66,45,11,49,39,12,50,29,35,46,32,6,34,36,34,30,17,16,45,56,8,23,24,17,80,80,57,37,81,58,27,75,40,19,30,21,15,72,23,9,6,54,52,70,55,50,79,57,27,73,71,35,63,64,32,4,72,106,13,44,55,51,72,53,65,67,57,44,28,90,93,42,36,53,26,63,4,13,57,26,33,39,11,107,56,35,39,10,54,61,29,34,10,100,78,9,90,52,10,83,4,27,4,17,16,13,17,12,18,13,42,25,47,83,52,73,32,52,65,56,48,30,83,65,3,59,10,42,43,62,22,27,18,30,15,16,26,8,65,35,26,27,17,62,113,20,20,11,42,25,43,19,49,25,28,45,8,88,64,51,4,24,26,13,27,31,17,9,31,25,117,20,41,62,19,37,44,32,25,32,23,71,8,55,36,53,50,15,14,52,39,66,35,8,24,26,10,21,68,31,47,19,17,11,11,91,37,58,18,12,11,19,22,24,11,104,52,79,45,23,17,95,51,68,76,47,44,10,21,31,25,41,8,47,56,36,64,21,49,39,21,36,42,37,37,20,36,15,40,38,48,75,47,42,16,29,62,87,46,42,76,40,32,17,30,24,79,52,45,58,30,81,52,86,54,12,37,42,42,76,34,10,10,10,19,46,83,16,35,40,55,45,40,26,31,44,58,45,12,15,24,13,62,54,39,24,74,38,43,26,71,23,32,28,36,39,21,49,39,18,70,39,10,23,111,25,69,41,53,74,64,13,41,28,31,33,46,6,68,21,18,89,42,56,47,52,7,33,46,103,6,34,4,79,17,19,141,9,49,31,61,32,23,37,27,23,35,34,12,49,51,89,67,25,89,34,41,80,34,28,12,21,23,49,96,8,50,14,63,41,97,27,9,33,23,9,41,57,55,45,23,38,41,44,65,11,53,73,43,14,24,20,54,17,48,59,59,7,13,6,31,13,19,15,23,8,9,52,7,32,21,7,72,14,32,26,18,77,6,63,5,56,4,20,9,18,5,88,4,18,5,47,8,69,6,28,10,47,17,53,52,24,14,46,50,101,24,35,11,48,55,21,36,12,43,42,76,51,54,31,33,51,7,74,41,35,28,60,8,53,42,10,94,27,33,35,16,37,35,45,47,60,35,71,37,20,68,69,109,12,60,57,57,52,8,43,51,75,7,32,11,11,19,68,9,85,71,73,19,51,22,52,11,38,48,61,42,8,85,78,48,43,39,33,26,44,68,27,40,34,44,13,132,43,49,34,42,73,35,26,55,17,64,53,37,57,18,67,23,37,70,31,38,20,42,64,61,27,8,49,61,53,21,52,61,46,44,25,8,9,25,19,56,43,27,14,35,34,54,56,38,35,90,51,35,70,71,40,93,63,53,29,53,61,24,37,31,41,5,5,6,2,2,10,33,29,8,46,60,38,98,32,65,26,9,49,22,82,34,23,13,19,10,29,47,29,47,29,54,14,44,44,45,45,29,48,17,8,14,15,79,39,33,58,34,21,45,65,47,12,29,105,8,44,34,37,49,5,69,57,6,27,39,8,63,8,34,40,6,72,76,21,19,30,4,77,7,70,8,69,80,7,71,16,36,69,61,24,8,39,34,6,58,20,49,36,23,6,27,15,8,26,38,24,5,46,32,69,7,42,27,35,44,8,45,41,45,26,9,69,39,35,39,38,6,35,61,7,41,61,5,57,19,37,57,5,86,44,36,6,61,43,7,75,25,76,45,7,110,8,82,62,7,74,32,12,42,26,49,37,43,79,46,68,44,10,70,40,101,13,50,25,83,59,11,32,112,55,80,144,39,51,73,11,45,57,68,60,68,11,29,28,26,27,32,33,9,38,51,49,66,48,24,46,50,30,28,32,57,94,60,13,46,37,55,60,46,37,9,15,11,23,19,13,19,15,12,10,14,20,19,17,51,55,52,85,75,46,71,57,19,11,16,66,58,54,99,10,53,21,33,21,63,18,32,19,33,49,30,14,27,13,116,46,36,49,42,57,19,104,112,37,110,71,87,35,53,31,23,36,39,41,41,36,29,15,43,62,13,20,35,15,23,9,13,27,47,36,57,21,13,35,27,18,125,34,37,31,38,36,47,41,31,25,49,10,60,38,46,61,15,37,60,28,42,43,12,48,23,29,33,25,47,10,35,91,63,27,14,36,58,64,73,71,47,41,13,36,103,100,79,45,80,79,20,38,37,56,70,41,55,19,37,50,36,39,38,41,36,23,37,79,63,32,27,12,77,42,48,53,16,14,25,60,31,40,40,12,44,46,39,12,25,11,57,42,30,40,45,34,41,13,30,87,53,48,33,27,29,54,34,7,45,16,13,17,37,52,26,93,58,25,9,66,50,51,67,67,66,17,11,52,28,59,25,59,56,85,70,71,42,26,45,39,32,10,30,60,18,37,10,11,8,22,10,25,8,55,33,42,7,72,6,27,13,23,33,67,34,9,54,8,72,9,91,6,16,13,26,8,7,6,36,34,22,25,60,62,42,36,40,16,55,34,25,66,72,16,31,26,26,51,32,54,71,13,21,33,62,31,39,12,29,39,25,62,30,9,33,65,51,56,10,32,59,40,35,13,28,53,47,36,44,12,39,42,50,38,16,47,42,62,59,40,25,24,11,33,54,90,54,42,26,70,59,34,23,34,31,14,47,113,37,50,46,39,62,51,48,25,21,27,22,24,18,17,24,12,10,47,33,42,7,62,46,6,69,26,45,15,46,93,74,47,55,33,37,12,40,24,71,45,58,68,49,25,21,26,30,42,47,31,25,53,14,40,22,12,36,15,23,36,57,62,30,19,77,42,86,53,12,47,30,58,49,28,9,70,71,65,45,9,61,42,13,40,59,111,43,13,37,33,27,10,19,47,22,10,57,28,30,43,61,13,35,12,17,9,18,70,9,35,11,30,44,49,57,49,14,50,31,64,34,23,38,11,47,42,34,76,54,65,45,69,50,13,38,76,69,88,37,80,111,51,14,52,34,54,9,49,44,11,26,60,36,35,44,57,22,34,31,48,54,11,50,128,112,179,147,62,111,160,200,124,79,214,124,17,21,55,74,71,76,30,52,15,16,50,44,41,44,32,46,51,18,18,33,48,34,58,26,53,27,52,20,16,13,77,46,61,28,50,22,21,36,61,56,34,21,25,72,33,37,34,25,20,27,62,69,9,54,15,85,120,10,80,8,75,8,71,12,40,10,68,15,42,27,11,18,29,36,23,19,61,8,62,27,12,40,27,32,62,54,59,43,75,56,53,63,70,51,74,27,14,44,46,49,41,66,44,20,52,76,26,11,34,27,15,48,34,53,42,13,35,21,54,19,61,32,62,9,44,62,56,68,33,24,40,56,45,55,20,41,34,46,14,35,67,35,77,57,8,62,29,41,57,8,58,43,36,37,45,16,32,47,8,43,49,26,39,52,8,46,70,37,26,6,39,41,42,31,9,37,28,31,37,43,55,12,21,72,35,32,17,32,14,13,71,34,54,53,38,15,9,38,76,25,18,16,11,49,42,78,70,9,32,61,25,12,11,25,24,14,32,53,76,54,9,38,39,47,80,51,52,34,41,60,56,11,38,83,46,47,42,40,13,52,26,42,34,21,18,21,27,22,119,24,87,13,54,55,55,66,36,27,78,69,89,7,104,47,29,75,61,59,11,69,47,55,45,35,49,50,29,77,7,61,44,40,46,14,23,33,30,50,29,40,40,21,36,9,34,77,22,20,47,41,45,39,9,44,31,34,34,37,27,55,36,32,29,53,52,31,44,21,24,9,33,22,10,54,61,45,51,74,9,69,56,50,12,59,37,32,9,62,56,23,55,31,10,80,45,64,9,54,37,10,55,65,35,27,12,55,84,23,41,49,55,18,8,7,14,10,25,23,28,11,42,46,43,51,23,43,43,29,23,46,8,53,63,41,40,54,7,36,34,54,20,53,7,55,35,37,35,25,52,21,71,34,60,26,30,25,23,74,44,20,60,79,4,8,92,89,7,75,75,6,52,37,32,14,101,5,37,28,35,33,28,10,27,27,31,73,88,43,45,48,37,48,40,61,33,47,38,9,59,73,29,88,53,67,67,70,65,10,38,81,69,51,39,39,35,33,38,28,48,19,69,104,37,52,46,49,39,30,30,20,53,48,73,31,34,60,56,57,38,24,20,29,20,59,51,37,74,35,55,39,20,51,94,8,32,39,37,52,38,31,51,42,59,45,14,45,54,104,55,47,61,61,37,59,7,36,81,71,38,21,38,53,28,19,32,67,40,54,49,36,50,51,44,71,17,60,79,7,123,104,8,64,52,8,83,11,34,30,74,59,56,44,27,43,59,73,30,17,15,48,71,39,7,47,28,51,55,17,58,38,29,39,11,54,67,47,51,67,54,55,60,16,26,95,31,19,39,86,26,26,10,44,86,83,55,9,36,51,43,61,36,79,64,49,13,72,38,50,46,17,30,21,49,76,18,20,22,22,61,35,43,38,17,59,38,9,13,9,8,8,9,16,12,36,36,26,60,61,42,55,40,31,53,60,32,74,50,72,9,40,26,13,34,36,28,37,8,34,31,45,7,35,31,8,49,20,31,26,8,53,8,81,8,37,44,58,9,32,48,8,16,59,10,25,23,30,6,42,53,15,7,43,26,7,28,44,9,21,31,33,18,38,64,51,32,53,52,36,41,70,31,26,41,24,29,34,53,57,15,63,96,21,61,25,46,21,13,96,91,78,20,34,9,25,64,42,28,52,69,82,58,58,26,39,12,8,71,107,142,83,93,6,15,62,61,30,59,21,40,36,40,53,20,17,25,18,14,45,57,23,17,38,52,22,35,58,101,88,76,14,33,104,39,74,29,32,39,53,53,49,18,24,47,33,66,35,73,21,56,36,54,106,49,83,60,58,15,82,25,47,64,65,77,16,54,63,36,51,7,42,62,61,46,46,33,49,34,27,19,39,55,51,103,38,61,48,50,17,31,7,79,62,56,53,10,85,59,40,5,91,47,44,50,14,31,45,63,52,21,27,20,70,35,34,17,22,18,20,40,49,20,32,52,64,58,44,9,24,10,49,31,60,71,56,28,36,41,36,19,75,12,41,53,70,77,55,11,60,39,64,62,56,70,62,45,12,81,56,56,85,74,51,12,77,87,42,38,54,66,66,8,74,60,41,38,41,41,7,67,35,46,44,78,47,42,52,75,49,12,55,51,65,72,35,13,86,53,86,40,50,28,40,93,51,15,26,89,73,61,94,66,8,95,43,43,42,26,8,98,28,30,53,6,76,92,43,32,12,56,69,12,22,92,72,13,65,22,43,16,29,12,87,98,77,43,71,34,68,42,53,13,77,78,31,7,107,59,66,11,140,11,39,70,74,14,69,58,46,68,99,67,54,104,45,63,58,48,25,39,15,98,88,49,5,82,81,71,93,43,80,10,98,56,19,59,9,70,106,80,5,61,76,41,41,84,53,43,67,7,67,44,64,67,73,2,2,9,86,74,93,56,14,40,41,65,66,17,63,81,15,36,15,24,10,61,33,62,74,6,19,99,17,116,8,36,57,36,38,30,60,13,77,55,36,13,31,33,32,46,46,111,50,72,24,17,20,28,43,20,26,94,72,44,13,60,30,63,59,52,67,37,55,47,28,59,19,35,20,41,43,58,45,64,50,18,44,52,47,60,56,43,19,45,44,69,105,21,61,52,79,29,28,11,25,37,32,49,57,33,61,37,23,13,11,10,12,12,27,19,25,81,36,31,77,78,31,69,51,42,50,22,23,50,63,48,8,35,78,67,55,48,20,47,115,77,54,62,50,60,68,13,28,30,45,36,50,70,35,37,22,41,35,22,46,36,49,42,35,55,30,61,40,47,49,43,22,37,29,12,28,103,92,37,30,31,5,27,21,53,38,53,37,63,52,45,22,5,35,16,110,78,55,66,40,49,30,54,39,62,63,33,29,17,40,64,34,46,40,23,18,35,21,33,61,56,74,40,45,40,30,53,87,53,39,46,75,66,61,70,49,58,45,50,63,53,14,83,55,42,10,53,49,23,32,33,56,32,39,30,11,78,54,52,22,34,15,69,10,20,44,33,41,52,82,62,39,12,62,13,30,67,78,19,30,58,47,40,58,40,13,36,49,70,109,67,81,71,51,70,51,58,8,29,68,55,23,59,19,50,7,34,54,80,47,56,49,8,37,55,40,30,41,11,72,22,62,47,15,47,43,85,11,23,35,29,19,49,41,26,11,64,12,11,11,10,83,45,43,24,11,14,43,8,50,45,14,32,37,53,60,85,51,26,94,59,19,85,36,47,31,48,49,48,55,33,40,41,13,51,35,17,19,19,39,18,21,58,45,43,12,20,30,12,67,43,46,16,86,29,53,34,35,47,43,8,37,67,51,16,28,12,33,34,36,67,36,19,26,22,20,13,17,15,99,20,36,44,27,30,25,35,60,36,36,47,35,13,47,29,21,37,40,39,59,12,36,68,31,56,36,43,63,10,20,46,27,29,49,34,11,25,51,29,46,28,13,40,70,51,26,38,12,20,11,30,20,45,14,42,12,15,20,30,12,29,29,62,20,11,60,80,43,51,51,44,44,67,75,64,28,26,16,34,44,58,49,32,46,20,12,12,11,13,18,12,15,6,41,40,28,72,51,72,93,64,50,36,35,32,62,43,72,36,38,65,33,32,30,19,18,18,33,44,15,59,24,38,22,71,24,35,25,24,15,52,23,51,23,20,55,27,57,12,38,23,32,13,25,10,14,80,34,50,43,19,45,19,8,23,33,60,42,37,40,17,42,15,48,39,26,32,14,32,47,13,23,34,32,55,33,62,43,58,57,46,49,62,27,18,41,73,30,29,26,25,31,54,50,25,55,38,44,21,12,30,9,54,22,38,30,34,42,88,56,29,42,25,41,40,8,33,54,46,59,34,55,63,46,41,15,37,31,44,46,53,38,55,51,32,10,33,42,11,66,61,36,50,44,35,12,25,49,31,7,6,7,8,11,7,10,7,6,8,10,9,8,37,38,54,13,18,76,18,21,17,57,40,10,22,24,21,28,92,25,26,31,27,16,57,15,56,47,32,48,5,43,36,19,65,8,48,15,71,42,26,9,65,53,72,60,10,69,23,63,43,31,26,27,7,30,54,20,25,8,58,30,28,40,40,15,40,83,59,45,52,50,39,9,53,38,60,75,44,51,14,60,45,38,41,30,30,29,47,14,54,50,55,66,9,61,62,23,61,32,39,14,70,84,15,66,72,66,33,12,62,49,7,7,8,9,9,10,7,7,6,10,8,6,8,40,24,27,8,31,15,49,48,29,13,33,59,33,45,45,65,54,44,46,36,81,45,54,65,68,39,28,49,18,46,72,24,54,33,45,14,45,17,44,27,29,26,34,58,56,40,32,32,46,16,46,89,68,37,35,30,27,14,15,17,11,48,38,8,57,33,37,21,35,7,55,26,37,9,46,80,18,42,56,37,61,24,14,69,19,17,40,42,52,26,25,45,44,30,36,43,37,50,58,73,63,28,26,44,46,11,82,26,59,29,17,43,19,17,30,14,41,23,49,56,6,37,51,38,47,94,51,21,36,23,53,52,38,39,67,42,25,31,18,10,12,15,54,85,56,47,64,48,57,12,43,53,32,26,51,41,37,33,11,62,28,36,51,25,51,34,13,40,49,33,37,40,43,53,63,17,28,63,69,29,24,9,19,63,66,59,26,41,36,27,45,28,90,67,39,22,20,38,19,17,58,52,68,11,47,38,52,56,43,17,41,55,26,8,26,6,53,20,26,41,15,20,26,23,62,21,13,29,71,27,58,38,32,40,27,40,47,26,50,67,59,32,28,23,35,46,4,49,16,53,74,10,7,8,11,10,8,9,7,6,10,6,12,8,8,9,7,10,11,20,31,34,49,6,6,9,7,8,7,12,9,8,12,12,9,7,8,8,7,8,67,24,32,74,41,29,41,17,33,14,49,67,75,57,87,34,38,13,12,33,26,22,11,61,43,55,14,23,74,33,27,10,39,57,37,47,32,38,24,12,31,76,25,34,49,30,34,37,17,45,42,47,24,28,15,51,28,11,84,72,8,68,37,44,9,79,56,8,90,81,9,75,9,66,30,10,64,39,6,50,26,8,58,26,22,7,55,48,9,71,56,57,32,11,53,62,5,49,24,51,8,45,21,43,9,65,11,51,8,27,39,18,63,8,48,51,17,42,6,46,38,8,50,60,33,59,11,46,39,22,59,50,27,8,61,36,50,7,59,31,26,5,56,8,36,58,26,9,75,9,68,38,40,9,61,37,7,33,48,8,67,7,89,9,67,33,40,13,96,96,58,83,32,40,13,13,27,57,45,13,47,35,48,46,8,49,34,84,53,71,44,38,36,27,14,11,21,28,9,60,71,42,42,39,25,40,14,35,67,49,39,39,57,37,23,38,99,46,37,58,44,48,30,10,32,71,40,50,36,47,39,47,47,38,16,59,38,16,38,42,53,43,53,51,37,58,10,52,35,39,65,69,89,14,41,57,84,71,62,38,10,12,53,44,52,18,31,44,66,46,20,68,8,47,64,75,9,55,51,52,39,49,70,61,70,42,48,10,61,36,32,54,46,37,7,46,46,45,58,67,42,52,36,66,90,67,36,37,61,10,65,44,16,42,15,6,44,43,45,24,44,48,10,70,43,55,33,37,56,6,22,37,31,38,26,35,36,38,45,13,34,54,21,43,51,40,55,41,79,26,18,34,59,9,21,57,50,60,45,37,8,34,62,14,16,17,15,19,17,19,18,21,28,24,25,11,12,12,14,14,14,15,17,10,45,23,20,131,36,8,33,11,30,48,32,18,11,72,31,50,19,35,21,56,61,70,12,67,59,72,38,65,43,48,12,53,38,23,15,16,35,22,26,73,52,37,40,28,15,43,22,57,18,51,40,44,19,19,51,22,49,21,11,14,27,52,61,55,32,31,24,57,72,61,29,60,19,59,45,15,46,23,38,38,8,77,25,44,23,17,43,36,41,39,16,11,30,17,13,27,36,18,62,52,44,27,54,22,22,20,41,44,29,11,59,59,45,13,12,12,11,12,12,15,20,52,36,70,63,18,45,44,16,71,27,8,93,61,52,9,57,19,36,52,37,46,39,27,20,55,7,26,15,44,58,31,22,14,31,55,28,38,60,30,30,18,23,26,10,47,43,44,38,12,18,14,70,52,59,52,21,18,57,67,31,48,20,29,18,23,20,51,29,9,11,8,11,11,19,54,37,41,35,37,33,11,22,26,27,50,44,12,55,41,69,40,93,18,17,19,34,62,32,27,50,19,20,18,24,17,74,43,56,20,15,76,21,19,20,11,55,8,82,25,50,37,9,63,49,25,14,18,8,18,17,9,11,53,33,32,29,7,33,39,29,40,26,44,59,72,9,68,46,39,42,9,35,34,45,43,64,55,50,47,9,73,36,51,7,46,30,24,22,51,13,47,24,63,24,60,37,90,27,73,36,38,11,58,22,7,67,46,77,15,69,43,80,39,37,57,26,9,74,57,60,10,31,88,86,18,29,53,22,26,13,86,65,11,33,64,36,49,35,32,36,11,27,73,43,17,9,37,45,37,15,87,41,38,59,20,68,34,50,49,42,19,40,56,33,46,25,27,45,73,41,50,47,18,31,61,31,40,28,33,49,26,24,70,42,39,48,53,20,30,60,26,22,13,25,20,26,38,67,54,21,22,21,34,33,61,32,37,11,26,49,76,75,72,33,8,44,27,34,9,25,55,27,43,16,13,30,30,27,46,61,65,27,36,42,54,81,21,6,14,19,11,48,25,43,38,32,22,19,34,45,41,47,47,41,17,79,32,37,40,15,33,44,10,39,33,50,9,50,29,15,71,39,31,19,21,19,58,26,36,62,22,29,23,50,22,47,20,32,37,18,36,102,49,61,10,26,75,37,45,28,58,35,41,52,10,6,72,28,62,13,65,32,27,24,26,35,14,40,46,68,41,23,13,80,50,30,18,60,56,15,60,36,20,10,14,71,50,71,51,14,48,47,25,39,29,61,45,49,12,46,40,30,44,29,36,26,12,77,23,31,70,60,67,40,40,27,65,43,25,33,62,65,15,74,36,32,79,49,15,32,50,53,23,24,47,50,40,24,35,34,45,14,72,46,131,70,40,71,23,75,23,28,90,46,66,26,17,38,17,65,26,12,29,7,70,37,57,39,50,25,27,19,77,35,53,31,25,22,18,30,67,62,67,21,46,50,65,26,17,13,13,16,38,36,33,18,22,35,44,17,52,19,37,29,21,37,14,18,43,55,63,15,86,45,59,24,43,34,11,37,61,45,31,27,33,69,58,52,30,62,16,41,43,32,42,35,50,81,42,32,18,35,19,10,14,9,13,44,44,9,11,29,29,19,38,56,58,35,20,35,21,44,62,59,40,39,58,25,9,6,6,15,81,17,24,73,120,22,25,58,25,15,23,23,25,59,33,34,15,43,19,44,52,44,71,35,13,11,26,30,25,83,43,36,33,81,8,6,28,39,10,44,74,14,20,30,7,5,2,22,53,62,34,27,77,64,52,65,7,23,32,31,96,15,45,46,47,100,22,70,51,52,49,17,57,24,57,74,11,39,76,62,9,34,88,34,8,39,22,48,8,21,10,41,11,35,39,44,21,9,34,37,23,10,66,47,26,47,31,45,20,14,53,32,40,11,71,68,49,37,51,20,12,47,57,42,29,52,54,8,7,4,9,9,16,21,62,36,54,81,57,41,66,43,41,44,36,11,28,65,21,29,43,25,53,17,37,37,9,60,45,36,49,30,48,27,46,62,25,67,40,46,30,22,57,25,14,69,35,52,51,47,19,18,49,50,24,59,11,12,9,11,11,6,7,11,15,12,21,47,38,27,24,19,18,16,37,52,21,12,18,7,9,52,31,40,66,23,35,46,46,18,66,27,17,97,27,16,41,25,41,36,63,19,30,29,45,42,18,23,29,51,27,38,26,23,74,23,33,15,17,30,42,46,21,16,30,39,31,55,25,28,12,14,18,7,60,9,11,10,11,11,12,13,17,12,49,48,32,17,33,67,39,41,34,60,11,55,35,35,40,41,43,20,34,71,40,44,26,43,87,38,35,41,18,32,64,14,81,37,33,29,28,36,39,41,71,31,26,61,24,17,21,76,50,68,19,31,59,15,25,13,21,26,19,51,66,49,20,31,36,13,26,30,56,34,33,31,21,60,13,29,20,14,50,77,101,9,16,36,21,74,12,26,22,47,53,57,47,33,4,8,20,41,12,73,31,57,15,50,48,27,19,33,22,16,61,103,52,44,66,31,43,37,7,62,11,69,20,70,10,44,39,28,11,77,79,56,47,80,32,12,82,45,11,41,21,37,40,55,56,64,52,51,22,56,39,76,24,66,36,49,57,80,28,12,47,46,6,11,8,11,7,10,9,11,10,11,11,6,10,12,7,12,12,12,10,19,12,54,48,28,48,29,51,20,47,52,45,18,14,26,21,16,22,18,65,37,55,79,60,12,64,41,89,37,9,42,46,37,33,12,10,15,12,28,46,52,10,74,37,44,8,25,49,36,29,25,14,29,90,82,10,61,40,12,91,15,25,45,28,11,97,7,11,76,13,77,46,34,51,29,10,82,42,7,40,27,21,21,16,27,11,51,37,29,31,13,22,11,6,13,20,9,72,66,55,100,11,79,66,14,20,16,6,5,12,52,17,12,64,44,51,11,20,32,53,38,40,19,34,87,38,74,18,28,29,29,25,32,42,28,29,26,10,47,24,24,45,24,16,35,57,60,54,45,30,36,21,32,100,16,32,60,22,47,15,30,46,15,48,13,25,49,43,42,16,25,53,30,19,56,15,21,48,24,19,13,29,65,37,39,37,37,54,57,22,35,65,29,76,67,25,53,25,31,91,20,42,29,43,37,41,58,40,13,37,72,43,54,49,71,16,36,56,44,65,20,96,72,19,21,61,23,76,17,39,40,7,6,37,29,19,73,37,4,5,5,7,6,26,51,8,23,13,47,69,15,21,14,14,9,61,38,34,8,32,43,69,93,63,52,35,6,36,6,10,11,3,4,12,12,13,41,6,52,35,59,46,23,20,7,100,68,43,70,53,16,66,20,14,44,87,46,77,31,58,27,48,54,15,70,66,11,9,12,64,65,45,14,33,61,29,20,72,30,11,39,54,21,52,29,64,12,23,17,12,52,43,12,32,26,17,96,22,66,52,8,19,36,56,8,49,58,29,62,11,36,20,18,16,9,43,27,10,60,74,52,61,57,45,29,52,29,35,11,36,32,18,37,35,34,37,19,9,53,48,12,46,26,22,18,24,30,10,78,49,71,8,88,46,13,13,10,65,61,36,60,66,90,37,40,62,32,70,45,35,30,67,81,32,101,44,86,15,37,68,32,31,24,16,43,34,34,37,47,7,44,62,56,40,41,9,113,62,37,19,15,19,31,9,70,37,23,34,62,8,71,33,32,21,32,41,12,67,75,40,44,34,50,9,65,36,26,23,11,33,15,10,17,12,34,27,22,31,29,14,13,55,60,48,16,46,48,10,98,5,11,9,31,13,97,40,36,61,11,52,27,30,10,74,29,32,83,10,93,29,10,43,21,49,77,10,27,98,32,43,13,16,56,10,37,19,8,7,10,11,18,62,45,15,10,50,42,48,35,36,69,21,25,9,32,81,42,14,31,8,7,9,10,18,57,45,14,11,35,51,46,12,27,27,19,28,34,27,60,41,21,65,39,52,45,33,42,54,60,51,80,37,59,49,16,16,43,54,26,16,21,64,32,4,15,6,6,9,49,38,31,22,25,23,13,34,31,22,38,17,20,66,11,24,24,39,15,11,45,47,19,50,36,35,55,30,13,24,22,44,38,16,20,48,53,34,19,34,63,46,26,21,18,43,27,42,21,24,42,25,28,33,22,30,54,40,22,20,14,40,37,42,45,14,17,4,17,6,17,36,33,19,26,91,58,47,19,36,72,21,24,32,35,21,17,23,17,77,37,41,20,35,43,49,37,43,51,14,22,58,61,33,8,40,21,20,7,15,13,41,65,100,9,59,30,100,14,79,53,43,12,64,39,45,32,134,43,7,19,33,7,62,47,38,41,10,50,52,47,16,54,14,16,12,10,39,96,111,35,64,33,63,13,62,66,59,11,55,38,14,53,36,10,24,28,51,39,11,63,74,109,10,69,52,15,63,80,45,27,17,68,21,103,56,10,38,42,47,73,59,16,27,47,23,17,46,30,86,60,24,34,57,14,21,45,84,54,24,26,25,20,17,63,15,31,17,67,15,19,89,53,43,56,29,58,15,42,58,60,78,58,33,9,56,31,10,64,25,7,38,15,29,53,46,62,10,41,59,53,43,9,49,41,76,52,12,90,39,8,71,25,37,43,12,94,37,7,56,34,65,36,21,11,83,60,17,34,36,38,41,15,59,37,14,62,45,40,11,52,19,43,16,59,20,38,17,66,37,22,16,101,43,14,69,42,47,23,38,14,68,8,58,31,14,15,32,33,46,53,38,63,7,29,66,46,38,9,31,55,28,45,27,40,43,23,13,104,68,33,47,10,52,59,33,50,37,10,27,39,68,78,13,25,34,12,67,54,49,19,11,46,48,54,39,29,75,20,43,30,73,11,45,6,8,42,50,72,71,43,61,57,42,58,29,29,15,16,39,41,46,18,58,18,34,51,27,29,34,16,45,41,13,69,31,30,58,37,27,26,53,16,10,12,44,19,56,40,26,35,43,45,63,33,62,12,18,20,13,22,44,29,31,39,16,35,60,36,19,39,20,14,71,22,38,23,34,23,27,22,26,49,54,21,25,14,45,18,16,86,32,36,29,38,57,29,38,37,108,61,38,35,60,42,23,53,19,14,67,73,16,48,42,68,35,69,31,17,65,47,54,40,56,53,10,23,25,55,36,47,8,50,38,33,34,40,51,33,62,49,56,41,55,39,21,35,42,9,28,34,52,39,49,12,20,86,44,33,32,11,27,74,22,39,47,13,31,71,32,35,35,59,8,28,95,52,34,30,27,37,60,30,14,27,79,65,76,47,54,27,35,11,28,92,56,31,56,28,62,12,54,42,36,54,11,65,60,10,76,39,49,33,12,84,58,32,34,43,51,32,43,38,50,43,89,49,57,15,51,40,34,30,38,72,23,11,75,49,28,35,60,92,50,41,43,14,14,51,30,18,23,34,30,23,52,12,129,99,159,12,74,29,43,97,86,163,111,9,41,28,66,71,60,47,10,29,57,45,35,68,50,21,12,61,30,31,94,47,36,88,86,33,92,26,74,47,37,40,69,42,83,98,46,54,12,33,63,18,10,49,51,54,40,52,37,10,43,9,27,21,41,41,23,16,14,43,34,25,40,18,11,68,29,8,39,20,16,14,40,20,33,24,50,54,33,71,41,38,13,41,91,51,92,9,11,79,72,77,13,58,42,38,52,8,54,33,17,19,19,24,33,30,12,59,62,42,30,18,78,44,26,57,33,34,9,9,46,74,44,50,55,24,42,18,55,62,24,42,53,58,13,35,25,81,56,14,11,11,9,11,34,60,41,40,33,32,36,51,5,57,84,74,56,38,32,49,59,30,36,30,26,37,37,17,35,35,65,26,36,39,61,23,24,47,27,37,50,21,22,43,43,57,32,42,36,43,52,35,13,50,46,33,71,58,66,18,17,20,75,49,29,31,55,22,23,50,47,24,33,50,37,47,12,18,50,36,29,24,40,67,29,23,55,21,32,45,41,24,25,13,16,25,23,23,33,19,17,19,19,39,48,32,24,24,24,47,26,23,16,20,23,43,35,31,22,23,46,55,11,16,19,18,42,33,40,32,27,27,61,19,31,54,24,26,17,54,20,19,21,21,49,31,43,23,24,32,76,65,52,38,46,42,81,47,47,17,28,37,12,17,19,38,31,15,14,56,56,22,31,81,22,32,24,18,54,31,15,22,20,40,33,44,45,9,88,28,6,35,40,40,11,77,39,41,14,23,12,76,30,62,17,38,44,65,61,56,37,41,40,34,49,13,68,5,5,6,6,18,66,10,54,38,36,40,9,37,65,33,41,12,32,10,30,38,29,46,51,36,54,64,38,57,55,46,36,70,8,50,4,6,37,76,75,28,7,50,38,23,47,54,9,53,10,13,8,18,76,47,7,37,49,22,77,37,9,85,9,33,35,22,83,65,47,38,36,36,21,76,21,31,33,17,7,8,64,28,67,61,50,10,102,64,24,54,88,11,81,45,55,45,10,48,30,70,40,19,43,46,8,40,12,9,24,7,18,14,34,30,11,13,33,24,28,19,39,26,48,49,33,10,30,55,32,19,37,20,37,24,14,27,56,43,14,57,24,28,39,32,28,55,87,41,69,60,42,69,17,35,36,39,39,45,34,16,37,85,31,54,53,36,61,17,40,30,7,95,39,23,50,35,16,105,49,37,19,13,24,13,9,28,65,43,57,70,35,49,9,28,47,34,59,7,30,36,45,8,37,63,22,38,55,41,41,45,29,44,19,32,11,64,27,19,6,30,15,24,8,40,12,29,17,8,37,29,20,15,21,46,58,63,26,35,54,18,68,16,61,53,7,49,35,20,10,20,45,36,46,60,28,8,16,35,35,34,25,65,22,43,25,30,34,40,22,29,33,29,58,30,100,42,41,43,30,53,53,57,54,11,61,57,40,55,29,15,40,36,37,28,71,27,27,36,73,24,18,31,9,36,42,51,37,88,48,56,37,77,46,41,43,10,45,29,54,48,30,41,87,61,33,75,47,51,41,30,24,24,9,26,43,24,29,27,11,52,12,36,27,19,70,48,51,20,53,41,50,36,55,117,96,69,21,32,50,43,52,11,62,51,65,75,70,44,70,13,25,66,37,40,28,13,52,58,34,58,47,45,75,10,63,31,29,12,42,56,23,19,33,58,13,101,39,6,22,58,49,78,64,24,49,86,44,50,65,47,57,12,21,81,35,58,36,51,43,15,26,62,62,71,80,45,28,74,30,29,19,10,20,55,23,78,55,81,38,59,52,47,8,30,63,33,40,21,46,57,40,63,50,56,29,37,29,26,33,59,63,63,29,15,42,46,30,35,28,66,33,43,50,14,66,53,25,25,86,26,28,25,29,24,16,38,70,14,9,18,10,9,38,82,57,48,69,3,49,38,54,29,54,77,74,12,26,53,96,44,14,38,68,55,48,11,40,67,55,60,12,36,32,15,51,58,52,47,44,66,11,32,26,46,30,51,7,54,34,75,19,80,45,44,57,90,39,46,53,31,12,74,30,33,39,15,23,48,27,22,27,42,19,37,32,45,56,33,33,34,9,75,41,22,42,35,20,33,77,27,3,18,42,8,24,65,38,57,32,10,21,75,89,45,55,46,51,31,23,12,16,7,57,39,7,39,22,21,8,61,36,10,29,25,33,13,57,39,30,14,117,50,11,16,13,87,72,53,28,8,8,22,17,47,27,41,46,28,46,45,26,27,44,20,35,43,28,28,32,40,43,54,8,57,20,70,28,40,37,38,22,62,80,44,61,18,51,20,63,85,35,13,51,31,59,11,20,45,17,28,61,16,46,23,20,43,64,44,34,66,37,22,27,27,60,43,78,30,10,25,39,14,20,9,108,5,58,6,35,20,72,10,122,11,63,4,18,4,53,10,18,25,54,44,17,18,17,15,50,24,40,23,32,20,17,18,30,34,10,26,49,54,55,35,46,7,52,49,28,45,47,43,20,41,37,44,11,20,28,25,66,48,27,39,63,60,32,51,9,21,36,29,55,64,11,19,52,81,11,42,84,27,44,29,11,34,67,81,5,101,34,19,16,34,10,31,59,87,73,65,37,54,54,5,52,49,65,30,57,31,40,34,20,75,22,31,14,20,53,75,51,38,19,57,11,20,60,56,56,50,50,49,24,62,66,32,13,9,16,30,38,31,54,47,25,29,12,70,40,31,37,13,75,52,32,17,15,75,74,12,90,4,3,6,7,39,8,78,66,10,77,42,36,41,37,47,43,152,20,69,37,65,43,27,39,38,17,50,47,60,29,33,28,12,39,46,47,61,41,34,52,44,57,33,16,59,51,39,52,58,28,40,13,44,45,33,7,36,9,52,8,59,19,74,68,18,83,6,29,48,24,31,53,48,42,26,45,6,54,63,69,40,32,38,88,36,34,25,44,10,26,58,59,81,39,88,32,29,15,30,72,47,34,62,47,9,53,49,31,5,63,24,23,4,26,28,28,9,20,55,55,69,3,25,37,37,72,21,23,54,13,66,74,53,24,53,65,53,74,68,45,16,11,19,27,45,22,22,48,54,40,14,30,25,17,36,42,17,43,41,22,28,33,61,27,33,19,34,55,92,51,59,50,26,14,43,18,24,32,52,45,55,22,19,61,35,47,34,29,25,42,7,41,58,31,43,31,42,46,51,29,15,45,28,45,44,35,66,42,73,45,29,16,13,11,30,16,51,9,64,60,50,6,43,10,47,17,124,66,91,52,40,12,62,70,17,34,19,4,73,85,12,50,48,51,8,53,10,43,12,23,24,60,34,50,28,7,24,58,54,16,49,37,25,18,15,19,41,56,75,77,47,16,66,38,42,51,11,37,62,27,11,50,25,66,39,53,100,36,37,95,26,60,11,51,41,34,35,11,37,59,43,80,40,32,35,31,33,16,63,78,38,41,29,21,51,72,44,82,37,17,16,14,24,27,65,49,36,24,15,65,55,51,34,39,43,37,23,12,13,18,16,14,71,17,17,12,66,20,11,5,16,20,31,25,13,6,43,25,40,44,7,8,88,27,45,26,11,69,46,35,15,33,15,54,39,24,34,32,28,5,13,30,42,26,35,39,11,39,51,33,11,32,36,26,41,57,43,19,22,10,62,44,44,35,69,30,56,15,29,60,61,81,88,56,38,9,33,66,32,68,70,61,53,35,44,61,74,61,33,32,47,58,47,35,55,32,13,37,53,46,64,12,19,49,43,36,64,8,26,60,28,17,22,6,35,44,32,73,47,27,12,22,36,18,68,45,66,60,12,41,56,16,23,64,26,35,35,32,23,34,44,51,33,34,81,32,26,24,53,52,30,35,33,57,43,39,15,21,18,34,32,60,33,43,72,13,72,11,62,41,45,6,34,38,36,41,53,66,32,50,32,24,34,26,45,13,42,30,51,33,41,12,28,67,71,45,37,55,71,27,13,22,39,103,21,14,72,24,45,39,59,32,42,10,14,35,28,17,77,78,66,45,42,57,43,26,50,57,26,61,58,14,18,23,16,58,40,49,65,39,37,38,33,43,32,49,27,54,29,52,29,19,44,33,22,11,16,11,24,50,28,73,36,30,60,66,18,89,40,47,53,51,24,46,73,60,34,47,20,9,33,8,18,15,8,75,26,82,29,25,28,46,28,30,45,20,34,58,16,17,7,62,30,36,28,29,26,45,44,42,40,11,77,70,57,12,59,35,51,36,18,31,36,21,11,34,33,50,56,44,37,29,21,10,18,67,25,41,36,41,34,26,25,19,34,15,83,65,57,28,51,26,43,52,30,25,17,25,51,55,31,33,37,68,35,25,20,74,30,46,19,20,30,98,42,12,49,80,44,80,40,50,48,23,48,27,39,24,53,33,29,51,15,28,20,31,84,59,81,40,44,23,45,20,39,22,32,37,50,21,28,25,23,76,22,30,15,42,32,88,70,44,60,38,60,40,13,36,60,27,44,34,23,63,54,47,13,39,97,85,71,71,53,61,17,21,29,24,71,23,65,26,56,49,70,51,47,48,47,34,14,34,34,56,58,72,19,76,41,15,26,23,21,28,47,32,43,51,47,42,46,50,43,23,14,26,59,20,40,15,50,54,59,31,29,48,47,12,33,32,39,42,49,75,56,38,48,7,62,5,53,40,41,46,44,70,8,33,8,91,61,12,24,30,33,17,7,62,50,49,42,46,54,11,34,27,7,26,60,60,9,28,26,23,41,13,31,45,7,64,83,16,26,22,16,52,40,25,31,36,48,53,41,59,42,29,42,30,8,48,79,81,39,61,51,42,46,28,60,29,25,59,44,53,58,66,7,24,34,21,75,43,27,66,30,43,32,31,23,25,12,22,55,47,37,43,34,18,42,7,20,37,32,34,48,24,37,5,5,114,35,31,61,11,32,15,12,13,12,15,13,8,10,18,12,8,7,10,10,9,10,10,11,10,15,14,13,12,10,20,8,34,44,13,39,24,31,22,14,17,11,13,10,27,18,7,34,15,7,8,11,43,25,18,39,65,22,8,21,17,19,11,69,57,94,45,6,71,28,52,27,38,19,19,35,9,51,32,48,25,31,7,61,50,47,34,11,81,45,47,53,16,67,65,33,118,52,55,52,44,47,61,40,33,40,16,31,37,33,50,53,36,39,35,31,47,41,51,31,15,40,53,39,49,53,22,74,29,53,47,36,23,7,54,57,33,70,63,37,48,31,24,13,35,36,46,62,23,29,53,48,47,25,11,23,15,22,33,64,48,56,42,22,33,28,12,51,11,43,19,8,14,12,20,11,25,45,31,44,35,30,27,54,18,48,34,20,160,119,28,35,31,17,76,40,62,58,40,69,79,69,52,13,28,81,74,10,56,41,13,80,13,75,35,11,28,34,47,21,26,20,42,6,47,78,54,72,63,7,42,7,65,50,51,13,87,11,24,63,17,50,102,13,25,49,35,30,43,5,18,6,24,7,24,10,41,15,58,9,74,8,63,7,36,26,46,45,17,51,36,58,52,42,44,12,69,31,38,10,39,12,31,13,13,8,43,33,8,44,13,18,20,50,10,49,8,31,15,53,12,15,21,22,58,38,59,33,6,33,14,21,50,44,30,10,43,46,53,10,51,59,35,10,30,12,50,146,11,36,27,29,27,71,13,47,36,53,76,45,24,21,24,29,28,46,51,15,26,27,92,79,54,31,23,46,35,38,6,26,20,19,10,70,21,29,37,50,13,29,19,59,82,54,69,62,48,59,50,49,26,44,49,53,32,9,39,61,28,30,44,39,40,19,25,35,52,12,28,15,38,30,8,100,37,71,39,31,13,19,37,26,25,19,46,50,27,17,31,31,38,8,73,41,75,43,58,17,74,34,50,56,38,51,10,15,45,34,36,46,26,64,33,19,71,51,7,61,35,45,43,30,78,32,20,46,39,54,30,42,60,40,21,12,13,18,69,35,44,72,45,47,51,11,38,63,27,40,31,36,52,49,24,26,39,16,57,62,14,40,54,77,35,51,17,25,60,61,34,24,22,23,40,12,20,16,36,88,11,12,10,38,17,64,39,14,52,77,66,52,43,42,14,37,47,14,20,20,22,28,13,49,54,11,91,7,69,17,23,21,33,33,64,65,45,52,59,56,16,47,11,40,31,50,30,28,30,51,46,7,40,53,36,53,59,15,49,42,51,40,44,13,42,60,40,73,14,15,15,16,47,49,19,38,11,25,47,48,73,13,63,54,28,37,41,37,31,7,47,70,39,15,42,59,34,52,12,37,37,37,36,19,68,50,47,30,29,23,33,71,36,31,41,72,22,57,52,10,41,84,25,50,75,102,34,52,19,27,44,25,21,12,40,55,37,27,21,33,62,56,20,30,17,55,71,27,37,37,36,37,15,35,16,19,11,14,24,15,12,11,16,26,40,50,61,31,21,62,51,28,53,20,10,21,40,46,44,73,67,68,36,48,48,13,37,41,96,54,33,65,43,58,48,46,13,79,20,34,77,22,41,41,30,17,20,20,21,33,11,46,52,45,35,54,49,10,99,68,52,46,89,54,31,27,35,28,22,28,17,32,19,28,23,91,63,74,44,26,77,14,53,66,64,40,7,61,66,62,39,8,50,28,67,41,21,63,37,45,32,44,11,36,41,55,26,33,23,11,67,47,11,47,62,32,51,9,18,27,17,10,16,13,35,13,11,30,27,7,38,44,51,15,66,38,67,61,21,10,55,46,49,23,70,51,17,69,38,42,27,29,29,46,29,49,10,59,30,64,46,27,26,23,20,44,55,68,16,70,56,77,37,22,46,43,86,41,34,24,22,25,82,41,56,46,12,74,47,48,42,46,11,69,42,33,52,29,11,32,34,73,67,34,44,50,27,40,52,49,44,49,72,52,37,74,68,27,22,17,15,44,28,8,29,52,56,49,53,54,57,46,33,38,60,48,45,33,15,27,51,43,29,24,32,53,57,33,6,44,33,29,48,40,8,53,55,26,21,47,32,47,41,51,19,67,37,49,21,55,24,59,26,26,64,17,35,30,52,23,29,23,47,33,28,14,69,79,56,7,33,48,31,29,50,92,49,45,35,8,26,68,49,29,60,67,41,67,28,30,34,22,12,35,49,28,33,76,13,3,8,6,16,21,26,23,56,57,39,29,13,28,46,68,28,39,55,22,54,67,34,54,36,39,20,44,25,10,36,71,82,39,41,63,53,57,86,13,60,76,41,28,23,44,71,70,47,58,34,20,25,35,42,42,26,17,2,10,24,88,22,39,18,7,5,13,47,31,10,43,60,71,50,47,52,30,41,40,35,25,12,38,43,32,71,59,47,11,38,42,20,50,9,42,29,50,42,25,63,59,22,17,45,30,15,35,34,29,56,27,22,33,48,35,52,34,67,27,22,16,29,27,38,19,48,37,55,42,22,74,61,52,9,61,32,41,9,55,34,33,36,7,79,34,20,39,7,41,35,4,4,5,4,4,5,4,6,6,14,19,34,35,7,4,2,3,21,23,15,10,9,14,40,33,25,22,51,41,50,34,55,13,30,54,23,55,73,44,22,33,29,34,28,19,37,21,37,5,42,66,93,65,36,42,66,54,68,39,48,43,43,58,17,26,42,23,48,43,24,52,45,45,46,94,28,43,29,26,51,64,30,85,46,34,41,38,47,48,43,41,31,25,46,49,20,78,58,60,38,25,38,53,44,47,54,44,30,42,32,49,18,31,45,81,71,46,26,58,48,43,62,23,64,40,35,40,19,17,52,44,100,10,10,92,72,31,35,35,51,20,33,5,21,29,76,19,58,13,90,12,10,83,55,84,59,18,10,83,102,49,72,14,41,56,26,26,23,28,10,52,41,55,35,55,23,37,22,73,28,30,76,31,29,27,35,36,15,87,46,23,39,38,56,64,8,32,26,15,65,42,63,40,77,31,66,60,43,27,44,59,8,22,49,54,49,23,39,25,31,44,57,8,28,31,46,50,41,38,71,77,59,52,55,51,48,9,35,21,41,39,11,38,55,73,29,38,49,33,46,33,16,43,50,25,43,26,50,26,71,17,65,65,38,72,63,88,11,32,65,64,42,53,37,34,80,57,12,22,17,30,39,17,10,31,60,68,20,29,40,37,34,15,44,55,17,49,6,38,25,37,33,67,20,25,7,68,32,30,5,63,22,36,35,20,49,29,47,18,47,81,27,32,63,34,38,36,21,75,35,56,69,34,15,32,83,85,45,43,28,25,50,20,30,63,44,46,30,33,33,14,61,29,57,23,41,62,26,14,7,48,58,45,33,60,65,79,11,48,53,57,23,28,14,79,54,60,21,6,73,24,17,11,22,51,9,79,66,12,21,14,14,19,19,67,30,37,68,73,77,38,22,43,60,65,56,47,32,30,33,23,9,74,73,21,20,15,6,36,11,57,23,34,36,48,51,9,64,78,23,72,39,14,79,51,20,49,14,21,74,44,18,38,40,25,46,64,31,16,32,12,55,18,15,30,27,36,61,35,18,57,26,36,77,37,22,13,34,50,26,15,94,54,22,21,7,37,30,32,37,38,38,37,78,49,29,34,59,46,53,9,28,73,25,38,15,41,8,59,46,58,10,47,41,54,12,31,47,50,35,31,34,9,50,12,22,43,34,22,44,12,58,26,28,37,60,42,13,61,39,50,50,76,26,54,55,56,36,35,37,37,17,6,84,56,29,50,47,56,40,25,9,97,52,48,19,7,26,40,45,28,29,31,29,22,40,28,65,15,35,23,28,20,20,24,23,27,68,31,18,15,33,63,47,9,10,11,10,11,15,12,10,13,11,13,21,27,8,12,10,14,16,11,13,12,12,10,17,16,49,54,18,30,30,72,45,44,31,41,49,23,30,39,45,32,41,37,49,33,43,26,50,16,53,52,44,10,7,50,35,28,31,21,39,32,75,51,34,42,13,59,27,11,38,33,23,44,7,45,13,42,10,47,33,44,29,45,46,54,35,50,32,23,13,34,45,31,38,29,14,68,53,21,27,70,48,26,45,22,23,19,18,41,28,51,34,16,50,15,10,10,11,26,14,32,18,25,27,24,41,15,31,31,31,16,26,42,36,60,20,28,31,59,28,25,13,45,29,26,26,15,34,44,40,34,38,74,43,24,32,39,64,39,69,44,42,42,40,49,8,72,25,35,5,12,22,25,40,72,42,43,23,34,84,40,18,43,67,53,9,39,40,42,54,54,81,28,40,9,31,42,35,43,66,9,77,52,16,17,13,7,17,80,51,54,62,26,27,46,46,64,40,54,17,48,18,66,68,62,46,48,35,30,33,43,23,31,45,35,45,43,43,36,65,27,46,56,90,31,41,52,56,77,41,16,9,26,12,39,61,61,19,78,37,34,10,46,34,2,31,10,77,39,35,57,66,26,44,30,9,11,42,55,41,30,17,38,23,58,41,38,53,57,37,21,11,80,61,16,46,47,10,56,46,62,11,42,31,45,29,11,48,41,10,58,26,66,28,58,24,8,52,56,36,50,39,9,37,64,47,32,60,57,28,9,55,33,65,45,49,36,56,7,95,28,49,27,27,56,26,31,32,65,25,10,42,28,30,17,11,11,62,37,40,14,31,31,26,27,34,15,59,43,24,43,11,9,34,75,57,30,51,44,59,9,25,50,39,26,27,23,43,34,8,25,42,26,50,32,41,6,21,42,35,30,38,14,14,27,40,19,39,48,46,67,12,34,38,50,18,22,22,28,11,32,67,47,43,42,35,51,15,34,45,31,15,33,75,19,41,32,27,15,48,29,75,64,141,12,43,50,24,44,38,46,49,25,69,63,46,36,8,17,16,27,43,18,48,17,22,19,32,43,13,12,49,54,62,52,38,36,45,20,30,44,29,19,32,46,11,23,16,32,30,30,27,13,24,57,24,15,71,47,29,37,28,24,36,5,5,5,5,5,5,6,44,38,43,33,41,17,26,27,35,22,36,15,38,18,12,54,69,41,25,45,26,28,50,24,14,11,10,4,34,34,35,35,27,27,19,12,13,16,23,30,49,38,29,14,48,59,16,28,32,27,15,32,51,29,23,37,36,30,17,41,65,38,27,42,58,21,21,25,36,49,34,27,30,18,36,28,22,19,18,18,19,50,31,37,65,30,28,14,33,21,10,25,26,3,6,3,8,54,42,41,12,29,57,33,38,26,21,19,33,43,9,23,13,42,38,6,8,5,9,35,2,2,2,3,24,18,39,74,52,53,17,59,46,29,42,24,32,23,30,15,47,50,67,39,28,29,35,46,54,18,28,43,59,30,78,32,61,51,55,61,52,52,10,36,28,47,21,65,35,38,26,30,46,18,16,48,54,51,11,53,12,51,17,25,26,27,8,50,41,58,53,8,38,16,27,58,14,33,39,12,74,23,40,48,52,25,9,63,25,37,30,12,11,129,53,30,14,87,32,32,7,85,64,10,57,42,36,47,16,38,11,39,43,32,14,37,77,36,51,36,31,10,37,57,28,19,25,29,8,14,11,40,64,43,41,36,26,35,11,32,60,7,4,8,4,16,29,28,9,22,76,60,42,12,25,26,50,44,33,58,17,10,28,32,39,12,25,33,46,35,14,22,73,54,45,45,8,17,9,26,54,43,47,17,12,14,16,11,21,10,33,43,38,22,27,58,31,28,19,25,52,33,8,20,81,36,42,35,14,42,59,14,88,42,55,35,33,33,27,20,27,66,13,46,32,23,31,30,56,56,37,30,37,48,38,78,72,15,36,45,36,41,49,35,16,33,43,19,12,69,65,57,47,71,43,24,31,33,17,29,57,27,32,13,46,32,46,36,57,60,27,44,31,65,62,10,58,65,45,32,27,48,64,49,26,35,37,21,23,30,26,20,29,37,19,10,20,73,7,4,8,3,23,7,56,9,66,24,16,18,18,11,12,36,63,20,33,29,35,22,29,42,14,17,23,52,15,37,46,57,38,34,16,31,27,29,23,7,7,5,7,7,5,5,8,27,52,34,28,15,25,28,30,18,36,12,11,14,16,53,48,42,22,24,30,22,30,44,24,21,42,13,35,20,26,43,9,10,9,10,10,10,12,15,18,16,15,16,45,62,22,45,31,29,7,23,14,21,81,46,27,47,16,17,30,32,28,16,46,24,44,35,22,45,95,46,26,19,36,46,18,34,110,53,52,16,24,30,52,24,10,7,21,24,35,36,18,40,66,29,39,54,53,52,15,26,50,27,88,52,86,33,25,9,13,13,36,13,60,54,27,37,36,13,84,45,47,51,42,12,70,40,55,8,55,11,37,42,14,16,7,72,25,28,47,31,28,82,22,17,56,13,12,11,56,48,24,16,77,17,24,46,19,9,49,34,13,10,12,10,51,28,26,11,52,36,24,61,8,62,8,13,13,13,15,11,46,24,20,36,19,56,32,17,54,38,8,58,20,42,26,36,20,11,21,45,44,40,55,31,22,33,49,11,16,37,57,33,25,24,18,30,21,17,51,59,39,18,87,38,21,37,43,56,44,24,53,35,38,22,36,24,35,47,55,61,33,11,36,38,21,28,44,40,11,45,42,30,28,12,62,34,29,27,33,10,41,58,21,47,36,18,12,101,18,37,8,20,38,10,58,50,65,20,62,44,12,83,38,33,66,37,34,58,8,72,18,37,26,23,28,19,18,10,35,53,28,30,51,20,10,36,69,65,39,42,9,23,88,88,63,15,27,47,6,24,32,23,28,9,68,19,63,45,24,64,44,18,49,29,27,19,20,43,14,15,20,16,21,45,42,22,15,6,9,9,39,24,23,20,23,13,48,55,28,34,42,16,74,28,20,32,58,27,26,23,33,29,27,21,35,33,26,30,23,40,33,20,29,67,23,49,20,42,12,13,72,32,20,27,23,28,57,17,32,54,43,39,19,27,28,14,22,66,65,40,11,31,59,49,28,19,41,28,25,25,39,35,17,55,23,69,48,43,44,44,33,23,39,23,35,30,48,75,33,46,15,17,36,47,17,18,34,22,34,28,16,22,51,45,32,35,26,15,36,32,31,41,42,33,30,23,19,23,22,51,37,76,42,42,12,23,57,26,21,24,54,22,16,27,32,31,60,45,14,27,28,33,49,38,18,33,36,51,45,40,54,59,11,60,10,58,45,56,45,29,62,53,63,39,22,58,20,46,21,52,34,41,34,40,59,11,21,11,47,21,39,58,42,38,59,31,10,79,64,46,5,43,14,12,17,14,81,40,30,65,28,29,21,68,13,62,14,28,16,61,15,27,24,13,52,7,60,35,21,33,40,10,69,21,42,30,27,14,123,67,50,33,22,7,49,53,7,68,47,17,66,70,21,22,23,24,25,9,9,12,16,9,6,60,47,65,19,52,25,44,28,36,19,27,18,20,25,11,30,22,44,24,23,17,13,41,42,27,15,24,12,11,37,17,24,39,13,32,17,45,19,27,12,11,29,21,5,17,15,14,16,17,19,12,20,17,15,30,28,11,43,34,42,35,49,15,8,83,51,32,6,5,6,7,8,8,7,7,8,9,54,21,12,51,33,35,32,33,49,18,13,56,42,41,13,49,45,32,24,27,20,12,27,78,13,28,53,33,48,39,60,28,39,12,28,38,12,24,33,25,26,16,16,19,11,11,12,4,15,11,61,34,13,31,83,32,48,23,13,107,54,12,18,83,42,19,7,70,19,28,35,17,10,14,52,29,19,12,16,26,70,28,36,43,49,47,9,78,68,11,80,21,22,16,19,7,84,33,12,49,12,35,25,36,20,12,44,9,21,11,33,71,17,52,10,10,15,25,17,28,23,31,72,12,58,7,44,67,99,12,54,15,106,38,52,27,22,57,9,56,30,46,31,24,19,12,72,33,70,54,32,75,18,9,57,51,27,17,82,15,19,17,59,46,57,28,32,37,30,49,10,60,47,41,12,66,38],\"type\":\"histogram\",\"opacity\":0.75},{\"x\":[15,35,13,16,44,58,79,65,41,89,77,56,6,83,82,77,63,104,87,59,16,5,14,53,43,35,35,75,5,14,53,124,107,18,72,101,88,13,5,13,54,67,46,44,56,41,43,34,48,38,410,99,15,52,36,5,14,51,44,38,99,82,86,41,33,15,67,23,5,14,62,42,39,34,62,61,15,35,50,59,56,69,50,53,5,14,29,53,37,62,91,113,88,81,24,5,14,81,38,38,48,70,60,5,14,79,181,118,15,36,76,60,5,14,82,91,48,62,41,63,5,14,51,15,61,46,86,5,14,113,53,140,39,43,55,65,38,47,5,14,117,125,110,86,87,105,66,2,16,5,14,99,23,6,58,39,64,159,20,63,5,13,87,58,52,5,14,94,61,89,5,14,105,54,60,11,71,177,72,5,14,61,120,82,60,68,75,5,14,45,50,5,14,34,52,56,5,14,48,38,5,14,73,126,82,79,5,13,48,74,5,14,68,25,50,99,82,80,91,62,60,53,128,161,55,5,13,80,45,29,67,5,14,55,47,100,78,90,18,49,38,31,54,24,37,63,28,56,102,61,153,59,63,5,14,87,79,85,99,57,57,32,63,22,111,58,132,44,133,47,76,5,14,35,75,22,72,129,122,86,106,5,14,27,97,190,60,148,169,76,93,49,59,25,24,66,85,2,16,5,13,2,55,138,58,2,68,66,53,68,96,70,80,5,13,73,77,110,53,79,65,130,89,5,12,52,66,59,62,130,5,13,56,54,32,63,94,54,143,54,5,13,55,170,93,110,84,137,55,4,58,44,5,13,60,29,42,58,76,5,13,126,49,52,33,19,31,52,26,63,157,29,5,13,71,33,61,5,12,51,81,48,46,5,13,87,71,98,44,73,58,68,101,5,13,119,55,49,5,13,93,56,32,62,67,104,46,5,13,50,57,46,5,13,41,26,5,12,43,50,43,5,13,66,41,20,84,44,31,132,30,50,5,13,77,64,83,59,65,60,36,145,38,33,5,13,91,118,129,2,117,128,49,90,99,66,56,105,74,5,14,50,49,87,52,18,67,69,35,50,70,62,5,13,136,100,5,13,76,86,84,74,5,14,71,95,106,71,44,83,42,100,65,44,48,5,13,55,53,64,42,104,27,97,88,111,91,5,13,56,31,54,65,16,13,19,17,18,18,31,22,59,69,36,67,158,150,57,63,5,13,115,133,74,5,13,100,45,5,13,67,31,65,53,62,75,66,57,129,69,33,92,86,55,73,5,13,49,63,72,68,3,148,69,43,86,33,90,89,41,114,5,2,12,58,70,88,48,29,57,28,57,42,53,34,76,57,114,77,99,142,136,30,89,13,15,5,13,51,49,74,67,47,65,38,37,146,105,94,78,62,115,94,28,102,13,15,5,13,8,106,115,76,59,124,98,99,13,9,2,12,115,68,61,29,157,13,17,5,13,72,56,51,52,102,47,13,15,5,13,42,63,67,205,69,164,101,88,58,98,50,70,9,15,5,13,54,58,71,110,50,126,51,62,78,121,60,50,80,65,36,48,45,97,54,49,30,50,51,13,15,5,13,57,31,56,73,74,41,149,89,224,5,13,72,60,67,71,161,134,48,17,5,13,65,46,15,5,13,96,41,66,51,63,65,62,62,62,40,66,70,48,13,15,5,13,52,87,121,285,73,13,15,5,13,75,56,92,61,63,88,70,103,13,15,5,13,112,50,22,92,91,10,21,18,60,33,116,79,12,215,39,56,52,94,2,63,108,56,2,11,89,67,6,111,2,12,89,2,14,115,2,14,75,2,66,110,2,6,86,2,76,2,14,97,2,54,2,14,58,51,2,14,70,2,14,59,2,65,2,53,2,61,2,14,66,2,14,75,2,83,2,67,2,49,8,2,58,2,60,2,62,2,56,2,64,8,2,14,82,58,53,84,50,10,8,8,9,55,40,7,47,43,35,48,11,54,11,18,19,31,24,39,10,60,19,28,17,48,19,24,19,12,96,58,59,49,86,47,45,55,3,65,18,26,94,28,30,35,8,13,64,68,33,24,16,37,23,27,13,37,32,52,41,43,3,5,5,3,4,8,8,14,7,11,27,43,23,36,18,25,69,45,7,43,64,56,26,18,31,34,67,39,24,93,31,37,12,26,41,18,37,39,44,37,38,35,56,35,23,21,33,7,26,95,47,50,45,31,32,41,42,57,58,11,50,60,21,40,33,35,72,8,26,38,84,50,11,19,48,70,40,17,55,24,35,47,24,34,18,34,14,48,24,27,37,63,36,51,33,53,34,59,46,34,13,37,28,50,46,36,29,38,43,38,45,30,8,36,26,86,45,29,22,56,37,27,41,63,40,37,23,48,11,33,56,36,34,50,39,70,42,12,72,41,20,20,62,46,5,54,28,44,61,35,36,9,24,31,54,14,39,23,26,14,21,87,51,39,30,43,11,37,38,81,64,34,39,46,39,52,37,36,8,12,53,51,47,27,28,24,3,62,41,10,49,10,75,86,47,34,65,38,45,37,68,28,48,12,60,55,54,45,39,45,13,42,70,39,24,34,26,38,35,8,51,27,51,7,39,49,29,39,55,11,60,24,54,44,20,17,22,13,19,32,38,19,60,31,7,22,28,64,43,31,33,20,4,72,66,17,10,57,47,30,70,27,38,40,33,44,27,31,49,60,62,6,56,15,19,35,13,38,24,26,50,44,29,28,13,40,34,33,59,72,56,40,28,13,46,75,27,60,26,50,32,48,30,35,34,33,61,54,7,37,31,36,44,30,58,45,50,65,44,62,28,14,69,9,45,69,49,74,67,32,31,63,50,34,65,3,13,55,28,11,5,35,21,26,34,9,36,18,31,59,47,22,43,34,25,23,36,27,38,10,33,60,32,54,41,52,21,61,10,24,61,66,48,27,41,32,9,32,9,43,19,16,40,89,59,57,48,60,57,46,32,16,30,44,8,21,53,54,6,33,37,35,9,69,9,62,35,38,59,10,79,30,25,22,42,8,64,26,40,42,36,36,8,67,76,9,20,33,35,18,33,55,64,38,39,51,78,20,27,50,42,41,57,10,32,51,68,40,48,56,38,12,37,67,30,39,41,10,36,57,35,12,31,31,37,11,31,20,37,53,19,22,51,71,51,39,57,80,11,38,54,26,13,74,9,58,52,49,41,61,9,90,9,64,87,9,89,76,9,60,60,29,7,38,78,7,72,51,16,8,51,73,9,57,22,39,21,10,75,53,33,26,25,13,60,49,37,50,50,17,18,37,41,72,88,59,9,24,74,74,34,23,20,46,40,43,37,50,8,21,42,30,67,40,58,33,25,41,19,36,19,51,23,24,9,36,22,35,50,67,31,29,34,28,28,52,17,39,30,35,48,20,49,30,13,20,24,21,45,64,130,42,49,40,43,36,64,85,22,16,69,27,44,16,41,43,80,27,8,75,19,14,80,20,38,19,45,38,40,13,69,48,48,84,34,19,12,59,74,50,8,63,36,24,5,35,18,30,60,28,38,52,65,7,89,55,9,33,44,40,90,7,97,31,8,68,7,88,51,6,39,50,6,19,48,34,63,27,7,53,31,64,6,99,22,53,9,37,37,17,7,61,49,15,11,67,34,9,94,24,30,24,12,41,33,29,16,39,28,32,52,42,30,51,38,18,31,58,51,49,28,60,13,15,59,120,92,41,61,13,58,92,26,33,17,17,32,56,67,49,91,46,93,71,60,8,19,20,15,15,16,22,14,16,16,14,10,4,10,7,10,12,4,15,9,9,11,12,12,8,4,11,13,12,7,13,11,4,10,9,5,17,4,12,11,9,7,10,11,12,18,78,62,50,42,56,56,27,9,70,77,35,84,31,25,25,31,12,9,72,53,44,19,9,59,28,33,30,13,11,73,77,14,21,31,12,40,80,40,21,48,43,46,54,35,39,60,50,29,15,15,10,29,68,52,38,42,8,19,16,24,14,23,51,27,25,70,16,34,25,64,42,70,37,72,35,29,80,44,26,29,58,81,73,48,59,42,41,56,19,36,72,67,69,33,66,43,30,24,15,32,39,100,39,59,62,22,58,55,72,7,52,69,58,30,34,43,39,34,44,9,32,59,32,12,95,67,39,87,9,35,64,52,39,46,34,40,51,13,26,56,24,55,47,7,12,21,101,23,72,7,42,44,24,11,16,7,31,11,52,9,63,6,25,6,33,9,73,7,33,10,89,12,37,14,55,14,43,53,45,45,9,68,49,36,19,12,41,15,22,36,55,71,44,39,41,11,46,45,51,26,6,40,50,73,49,62,8,45,45,76,51,59,36,42,20,39,35,36,14,43,47,27,26,25,40,6,58,34,26,32,39,5,46,40,14,31,10,22,7,46,26,55,39,27,12,54,15,22,49,18,22,18,10,25,40,32,9,44,51,57,60,5,37,33,35,31,8,58,34,57,25,24,34,10,8,58,44,7,54,42,9,59,8,46,34,14,23,7,43,52,8,48,22,23,55,9,45,45,20,14,27,17,14,15,20,10,43,20,10,31,39,35,10,33,33,69,6,25,53,7,61,25,8,34,19,42,9,20,74,51,38,8,47,6,16,88,49,46,19,67,42,28,39,6,84,37,18,131,66,74,102,59,57,47,60,32,15,81,98,60,10,23,51,54,43,85,39,51,14,34,64,43,65,14,27,80,89,17,88,11,72,11,32,77,49,92,10,74,10,111,17,43,7,36,6,107,7,81,6,10,60,106,56,73,41,10,17,106,76,28,36,20,70,66,75,66,71,14,52,63,35,5,18,7,12,15,21,13,14,8,28,11,14,6,18,10,33,6,24,10,50,11,33,17,24,8,83,52,75,46,42,55,30,32,58,78,31,98,35,69,59,72,56,14,25,58,61,59,10,27,69,48,33,25,42,68,65,52,84,33,63,12,35,65,99,70,32,42,43,11,87,83,54,60,65,66,93,60,22,50,82,65,46,35,56,90,58,57,64,14,53,48,71,29,29,42,40,35,9,18,79,38,71,41,11,62,56,51,42,17,88,72,8,41,71,66,75,16,71,44,30,10,64,15,75,105,71,93,66,51,43,7,48,38,31,37,19,41,27,32,23,54,52,49,3,61,15,35,48,36,51,51,103,9,71,46,15,71,68,73,10,71,67,63,42,9,16,61,46,111,67,80,36,51,37,61,25,21,64,52,9,42,61,53,26,9,54,6,35,27,40,56,10,92,55,58,51,16,72,17,49,60,7,59,28,69,74,12,37,34,23,39,53,37,51,28,47,72,68,47,18,72,46,46,61,15,72,46,46,61,10,81,52,48,48,15,29,62,38,19,35,84,51,53,11,50,53,56,6,72,70,9,55,42,51,18,21,32,16,43,71,42,11,51,9,33,17,29,23,14,65,33,38,8,25,23,56,45,32,76,30,44,18,72,74,14,28,17,65,27,9,33,8,65,54,94,11,55,22,21,19,54,20,91,7,83,62,45,65,46,15,40,50,87,29,28,68,45,26,28,14,47,53,39,128,13,50,42,76,52,13,35,46,49,42,35,16,62,16,27,58,39,9,41,36,47,34,14,20,18,75,48,34,56,10,42,13,90,11,23,11,37,8,47,81,55,75,10,57,38,48,5,34,60,44,48,52,11,48,67,50,9,83,66,41,14,6,6,12,6,6,6,9,9,92,25,40,13,49,9,17,18,48,49,10,11,11,11,17,14,49,56,8,59,28,7,79,9,57,77,14,69,39,22,60,18,22,16,72,39,25,37,12,75,48,52,25,42,13,54,14,43,54,58,30,11,73,60,65,28,13,58,38,34,2,54,7,83,51,24,10,61,43,39,28,24,8,75,20,88,88,35,49,30,10,63,38,48,35,58,28,39,13,56,34,20,80,46,45,43,11,109,60,53,71,38,72,39,69,72,25,25,26,47,77,41,33,16,77,54,63,64,65,46,16,86,32,38,32,53,46,10,84,55,70,65,40,30,39,15,39,14,96,65,40,10,24,16,62,24,76,51,44,32,82,64,103,21,50,66,61,45,53,75,43,56,33,101,31,26,13,52,62,11,68,22,17,62,30,44,19,53,87,49,36,14,68,63,49,70,17,56,55,50,59,32,23,46,30,35,24,24,24,26,8,56,28,23,20,6,45,63,10,33,50,49,36,56,56,9,23,25,29,22,14,8,33,16,18,31,19,52,17,10,41,27,14,31,55,41,53,59,41,9,50,59,16,62,59,48,51,63,78,76,57,11,47,56,46,23,28,52,58,63,45,55,18,52,51,56,52,78,68,26,45,33,29,34,22,24,13,42,45,51,39,39,9,29,64,41,71,33,51,56,46,45,31,34,42,12,23,61,55,42,25,9,21,56,15,24,58,18,49,63,42,36,20,21,21,34,49,38,47,51,24,45,56,39,16,37,70,21,32,24,50,22,21,36,52,30,23,25,59,39,60,51,61,17,62,62,24,51,15,30,37,17,17,17,18,33,17,17,17,18,25,59,13,69,53,55,29,45,25,12,44,76,35,44,32,14,63,64,40,64,30,13,72,35,31,51,33,22,40,24,20,13,41,80,80,29,56,91,20,36,9,27,23,40,37,29,10,48,25,62,44,7,18,25,60,45,11,47,11,46,67,45,28,14,29,20,46,35,66,78,65,35,31,10,75,60,40,43,15,8,87,58,34,20,8,12,38,25,16,58,55,57,21,17,34,31,24,22,37,47,23,41,29,123,132,14,82,37,33,18,46,39,13,21,35,58,28,29,20,16,26,40,21,22,24,12,28,27,25,34,21,23,28,26,26,48,27,42,29,15,10,7,9,9,7,17,20,32,45,48,39,56,21,60,23,27,28,25,13,21,18,62,29,27,21,37,44,27,42,41,64,52,31,51,62,26,19,34,27,22,57,75,21,58,10,10,13,11,11,82,59,64,76,42,72,15,33,48,15,21,30,44,47,42,32,18,25,77,27,65,31,50,12,23,52,29,18,9,40,8,58,8,17,14,32,12,21,6,37,4,50,8,92,5,11,13,23,76,76,11,90,8,45,17,107,11,21,11,24,30,49,10,3,28,8,27,11,22,12,15,9,60,13,23,10,30,5,32,11,29,43,40,54,28,61,79,18,35,48,48,34,9,45,49,18,34,9,35,13,72,45,51,11,29,70,70,32,14,35,42,38,20,47,30,9,53,35,56,11,34,37,50,63,15,46,48,62,78,51,23,20,22,17,39,51,45,52,32,101,26,62,47,7,41,45,36,36,47,7,60,76,62,41,54,7,64,46,55,11,69,42,14,49,14,74,83,9,12,56,18,14,8,74,53,36,18,38,14,28,56,25,36,13,48,53,44,8,46,51,28,17,15,20,11,60,63,77,38,34,15,34,78,43,34,19,55,33,35,14,40,74,33,34,31,32,16,7,5,9,7,7,20,34,48,41,53,40,39,27,28,11,22,22,41,33,59,31,73,50,58,46,41,52,53,22,34,15,33,114,58,36,88,39,63,72,42,20,22,80,36,32,58,87,45,101,25,10,51,60,63,95,44,47,78,21,33,36,47,33,80,53,19,48,123,31,18,14,19,48,50,45,35,23,28,23,42,14,16,32,62,66,34,47,61,7,8,13,15,31,31,14,30,12,18,39,59,49,53,24,66,31,19,34,26,20,54,64,39,80,41,29,30,19,41,43,40,62,24,21,48,30,55,63,39,8,24,35,38,30,55,24,34,37,31,6,7,6,4,4,7,11,9,23,50,17,43,46,66,54,67,54,42,47,32,32,64,30,46,42,25,14,32,70,42,30,19,35,46,14,21,64,33,31,49,62,54,45,16,34,45,53,34,51,65,63,34,22,49,60,49,26,42,38,51,21,23,44,22,42,54,15,21,39,73,27,42,56,38,13,23,45,35,36,47,36,44,24,14,18,15,67,44,35,41,21,23,21,86,48,14,26,26,27,27,31,38,56,54,81,56,44,49,43,12,34,55,46,49,74,25,14,12,12,32,12,39,15,58,28,24,23,33,64,56,15,44,19,41,33,67,24,50,35,50,37,18,21,8,21,67,40,57,28,59,67,26,26,46,25,19,33,30,73,49,41,44,51,31,63,19,61,20,32,39,21,50,39,49,72,44,29,57,56,43,36,12,23,55,64,56,47,55,58,59,62,69,38,49,41,40,19,11,46,67,4,56,46,7,84,46,14,23,59,52,23,79,44,51,21,25,15,18,33,18,11,63,31,34,44,50,32,46,29,15,10,7,9,9,7,10,30,58,20,51,14,97,7,69,7,14,8,10,18,55,11,59,59,81,35,51,31,55,51,63,41,38,33,18,22,61,90,16,13,28,38,34,31,57,38,23,13,66,57,47,46,50,61,46,11,28,18,33,42,47,28,31,52,34,41,21,26,10,48,50,77,39,51,81,39,54,30,56,18,43,30,15,19,45,110,65,68,13,19,19,7,19,18,61,34,39,33,65,44,40,57,17,91,76,37,17,54,51,76,67,46,29,26,52,68,86,59,46,43,43,22,14,49,120,38,67,49,60,63,77,42,18,30,72,36,36,27,3,30,36,24,80,46,32,14,53,21,27,27,59,19,43,47,48,25,42,45,55,40,29,38,14,50,65,86,40,68,47,52,21,63,34,26,33,42,44,45,44,10,41,35,40,40,40,19,19,41,51,34,49,50,27,31,18,38,34,81,35,33,54,19,13,24,17,12,17,19,20,23,71,59,12,51,66,46,36,13,12,17,10,75,48,56,46,33,47,41,13,58,64,39,45,116,71,65,47,44,73,48,62,38,58,29,46,40,34,17,45,69,45,49,42,50,45,83,68,11,21,73,42,53,20,28,69,23,13,16,11,17,59,40,18,55,25,27,53,21,32,46,34,6,4,5,5,7,6,16,10,36,20,28,63,47,55,49,71,24,18,65,71,55,49,52,50,61,48,50,38,56,12,52,29,39,32,31,35,15,40,20,20,24,36,52,17,17,9,47,37,36,42,52,60,68,33,35,51,65,50,42,11,37,59,25,48,52,73,35,45,48,5,14,73,44,55,7,49,33,17,42,65,33,5,4,5,4,7,60,26,19,63,60,44,17,9,28,63,46,37,41,11,21,29,33,16,25,50,48,60,19,7,17,15,35,19,75,65,10,30,14,20,50,57,66,39,17,43,12,14,7,52,64,26,32,10,80,49,44,41,61,10,49,33,57,63,82,37,33,11,36,38,30,21,20,20,61,21,26,51,40,22,8,32,52,11,38,74,72,19,56,112,19,90,64,50,60,56,28,13,55,86,49,19,26,50,61,41,74,38,38,29,25,25,29,13,45,35,47,49,53,22,6,29,54,55,39,37,45,48,43,15,8,38,33,54,56,64,51,41,47,41,119,44,33,54,10,25,59,59,54,31,45,34,44,50,31,48,33,18,24,27,55,51,17,61,20,19,14,22,18,69,36,65,77,42,28,26,16,33,68,31,55,13,31,49,48,23,35,100,81,37,23,27,38,34,38,31,32,11,20,11,76,67,34,27,39,33,22,16,52,45,38,30,13,40,54,18,10,60,18,18,43,9,77,20,32,18,19,31,50,18,40,80,12,78,22,17,22,39,19,55,29,55,11,32,58,59,40,60,58,39,44,37,30,13,57,42,39,32,64,46,9,58,37,15,59,15,17,13,7,77,27,14,26,20,41,63,53,69,81,29,40,42,9,24,85,24,36,36,7,16,35,33,51,13,10,11,9,10,16,23,36,41,11,34,73,56,20,32,7,76,41,47,38,11,28,41,39,26,40,34,17,46,25,6,27,39,42,43,32,31,43,20,20,22,23,58,33,20,21,21,60,11,9,11,10,12,24,18,25,12,15,18,34,48,38,62,19,31,71,36,24,59,13,29,60,50,72,28,30,17,31,35,26,14,34,80,46,10,19,18,11,45,94,32,37,24,46,15,13,38,30,34,25,45,40,26,14,26,60,47,24,20,22,16,28,64,32,67,52,11,17,59,29,25,16,30,70,36,13,19,11,34,39,22,38,40,62,13,27,18,17,39,6,7,10,9,36,70,13,8,13,13,15,13,13,13,15,28,56,36,34,53,22,20,28,57,11,39,14,18,56,17,32,39,27,19,33,41,32,22,102,36,24,29,17,50,33,28,48,29,60,49,14,16,26,34,26,12,85,33,50,10,34,37,65,42,59,9,72,18,7,66,14,89,44,51,10,93,27,30,46,42,15,49,61,41,58,51,59,49,11,60,24,7,50,24,9,48,31,68,7,32,36,18,85,22,47,33,20,42,40,58,12,11,34,18,56,13,11,10,10,56,51,44,32,9,62,40,58,46,51,10,46,40,9,35,30,16,20,79,29,69,37,60,44,33,55,17,28,25,8,53,47,13,30,100,26,26,35,21,16,31,10,29,40,12,9,53,33,44,10,34,62,26,39,61,39,12,10,58,40,59,74,17,59,54,53,30,13,61,28,12,81,79,40,41,11,18,11,65,52,53,38,15,36,59,60,41,9,45,65,71,30,7,86,28,51,10,66,30,47,30,15,50,36,33,40,50,48,48,55,49,39,33,10,75,33,47,37,18,54,25,28,43,27,14,33,38,26,18,32,31,11,51,103,40,42,16,48,54,22,29,27,42,30,26,25,47,45,46,15,78,58,43,69,13,72,71,56,42,105,50,57,36,15,30,46,71,25,80,48,46,71,20,85,33,46,40,57,9,43,91,38,35,74,52,51,30,39,61,38,69,46,31,86,80,36,13,44,53,54,31,40,48,44,46,13,13,96,37,35,21,24,54,53,34,40,38,18,35,96,51,53,27,37,12,44,73,27,29,17,22,22,27,33,28,36,36,31,25,6,34,12,10,12,16,21,8,50,22,34,30,7,20,65,61,50,42,69,36,24,23,18,41,21,53,54,40,35,69,50,62,65,34,50,37,41,76,38,28,71,30,58,47,34,26,27,31,9,38,40,42,31,32,51,32,53,11,29,38,21,41,57,14,64,27,32,41,6,70,55,55,9,65,60,31,15,41,23,13,90,26,22,19,64,34,13,51,53,60,65,10,42,41,49,48,10,34,50,39,21,26,28,11,32,92,32,32,64,42,31,8,22,51,46,17,69,31,37,14,33,62,38,49,48,13,12,25,53,29,16,35,51,12,11,43,47,34,32,40,12,46,99,17,31,57,74,30,38,34,68,17,33,43,12,18,59,48,33,24,14,17,58,28,41,32,11,11,11,44,35,68,13,68,50,32,16,17,39,32,78,20,30,43,41,34,7,7,62,38,30,23,69,59,16,20,26,62,34,17,26,57,47,42,41,31,13,42,15,25,39,21,23,37,24,38,17,36,13,35,29,34,34,28,20,61,19,27,17,47,16,25,37,11,18,9,12,30,16,9,45,49,19,34,40,48,32,18,20,30,78,8,28,21,43,18,17,10,25,44,64,47,38,31,10,47,39,55,12,58,31,53,53,41,11,28,46,44,32,24,16,15,44,49,24,8,63,56,26,45,22,15,14,41,51,53,35,23,22,64,33,20,33,67,41,25,26,39,26,32,18,41,23,19,31,20,7,8,5,9,39,20,34,16,50,25,62,23,22,45,29,23,7,22,40,60,48,52,17,21,46,40,24,11,68,20,13,34,78,59,35,8,34,33,26,40,34,36,23,43,11,32,66,38,30,18,29,10,32,42,20,49,23,21,8,33,47,31,43,12,19,35,38,44,11,24,30,49,45,24,36,59,48,39,38,15,41,59,45,19,44,18,53,57,59,49,31,45,39,52,43,13,17,36,57,39,35,44,63,12,39,16,32,14,60,12,58,14,67,48,52,35,27,34,17,19,29,18,29,18,62,41,59,35,39,45,38,37,32,33,39,57,49,5,28,52,37,39,31,50,25,25,39,54,54,38,53,53,33,16,24,39,54,30,56,39,23,28,46,63,30,21,20,69,56,21,66,27,31,17,15,36,54,42,50,18,40,17,56,43,62,34,25,58,81,60,28,33,76,28,62,37,28,37,16,41,100,22,44,21,38,50,35,22,29,40,31,36,31,32,10,31,45,48,59,28,49,57,28,25,27,49,23,33,50,6,29,48,19,35,23,40,37,36,29,46,48,41,3,50,29,42,50,49,12,21,30,59,31,45,40,24,41,68,22,25,37,47,27,27,60,43,60,30,40,42,14,42,16,11,87,50,56,42,5,52,39,42,44,18,31,8,34,25,6,59,61,79,67,20,10,36,52,47,24,40,27,30,102,49,56,21,53,39,49,41,40,40,10,65,16,41,57,33,19,13,55,48,22,48,23,59,40,32,11,76,42,83,26,46,12,63,40,15,46,28,83,9,34,58,37,9,101,41,42,63,57,32,29,8,13,58,54,93,74,65,12,7,80,34,27,10,11,32,45,52,40,59,37,61,30,9,28,23,54,27,12,81,38,33,11,12,76,37,35,26,28,61,13,58,57,24,37,49,13,46,63,25,59,17,30,68,24,37,48,27,31,68,54,34,52,25,44,69,59,30,47,23,14,24,63,17,10,9,11,7,30,32,19,7,6,6,4,6,6,46,20,26,27,73,55,47,35,37,21,47,41,15,30,13,9,61,20,47,54,34,47,51,56,12,34,46,12,34,30,42,37,32,35,11,26,46,16,36,45,12,48,34,41,27,41,51,44,29,40,52,48,50,42,27,53,47,50,11,47,47,56,68,63,43,38,12,47,40,41,32],\"type\":\"histogram\",\"opacity\":0.75}],                        {\"template\":{\"data\":{\"bar\":[{\"error_x\":{\"color\":\"#2a3f5f\"},\"error_y\":{\"color\":\"#2a3f5f\"},\"marker\":{\"line\":{\"color\":\"#E5ECF6\",\"width\":0.5},\"pattern\":{\"fillmode\":\"overlay\",\"size\":10,\"solidity\":0.2}},\"type\":\"bar\"}],\"barpolar\":[{\"marker\":{\"line\":{\"color\":\"#E5ECF6\",\"width\":0.5},\"pattern\":{\"fillmode\":\"overlay\",\"size\":10,\"solidity\":0.2}},\"type\":\"barpolar\"}],\"carpet\":[{\"aaxis\":{\"endlinecolor\":\"#2a3f5f\",\"gridcolor\":\"white\",\"linecolor\":\"white\",\"minorgridcolor\":\"white\",\"startlinecolor\":\"#2a3f5f\"},\"baxis\":{\"endlinecolor\":\"#2a3f5f\",\"gridcolor\":\"white\",\"linecolor\":\"white\",\"minorgridcolor\":\"white\",\"startlinecolor\":\"#2a3f5f\"},\"type\":\"carpet\"}],\"choropleth\":[{\"colorbar\":{\"outlinewidth\":0,\"ticks\":\"\"},\"type\":\"choropleth\"}],\"contour\":[{\"colorbar\":{\"outlinewidth\":0,\"ticks\":\"\"},\"colorscale\":[[0.0,\"#0d0887\"],[0.1111111111111111,\"#46039f\"],[0.2222222222222222,\"#7201a8\"],[0.3333333333333333,\"#9c179e\"],[0.4444444444444444,\"#bd3786\"],[0.5555555555555556,\"#d8576b\"],[0.6666666666666666,\"#ed7953\"],[0.7777777777777778,\"#fb9f3a\"],[0.8888888888888888,\"#fdca26\"],[1.0,\"#f0f921\"]],\"type\":\"contour\"}],\"contourcarpet\":[{\"colorbar\":{\"outlinewidth\":0,\"ticks\":\"\"},\"type\":\"contourcarpet\"}],\"heatmap\":[{\"colorbar\":{\"outlinewidth\":0,\"ticks\":\"\"},\"colorscale\":[[0.0,\"#0d0887\"],[0.1111111111111111,\"#46039f\"],[0.2222222222222222,\"#7201a8\"],[0.3333333333333333,\"#9c179e\"],[0.4444444444444444,\"#bd3786\"],[0.5555555555555556,\"#d8576b\"],[0.6666666666666666,\"#ed7953\"],[0.7777777777777778,\"#fb9f3a\"],[0.8888888888888888,\"#fdca26\"],[1.0,\"#f0f921\"]],\"type\":\"heatmap\"}],\"heatmapgl\":[{\"colorbar\":{\"outlinewidth\":0,\"ticks\":\"\"},\"colorscale\":[[0.0,\"#0d0887\"],[0.1111111111111111,\"#46039f\"],[0.2222222222222222,\"#7201a8\"],[0.3333333333333333,\"#9c179e\"],[0.4444444444444444,\"#bd3786\"],[0.5555555555555556,\"#d8576b\"],[0.6666666666666666,\"#ed7953\"],[0.7777777777777778,\"#fb9f3a\"],[0.8888888888888888,\"#fdca26\"],[1.0,\"#f0f921\"]],\"type\":\"heatmapgl\"}],\"histogram\":[{\"marker\":{\"pattern\":{\"fillmode\":\"overlay\",\"size\":10,\"solidity\":0.2}},\"type\":\"histogram\"}],\"histogram2d\":[{\"colorbar\":{\"outlinewidth\":0,\"ticks\":\"\"},\"colorscale\":[[0.0,\"#0d0887\"],[0.1111111111111111,\"#46039f\"],[0.2222222222222222,\"#7201a8\"],[0.3333333333333333,\"#9c179e\"],[0.4444444444444444,\"#bd3786\"],[0.5555555555555556,\"#d8576b\"],[0.6666666666666666,\"#ed7953\"],[0.7777777777777778,\"#fb9f3a\"],[0.8888888888888888,\"#fdca26\"],[1.0,\"#f0f921\"]],\"type\":\"histogram2d\"}],\"histogram2dcontour\":[{\"colorbar\":{\"outlinewidth\":0,\"ticks\":\"\"},\"colorscale\":[[0.0,\"#0d0887\"],[0.1111111111111111,\"#46039f\"],[0.2222222222222222,\"#7201a8\"],[0.3333333333333333,\"#9c179e\"],[0.4444444444444444,\"#bd3786\"],[0.5555555555555556,\"#d8576b\"],[0.6666666666666666,\"#ed7953\"],[0.7777777777777778,\"#fb9f3a\"],[0.8888888888888888,\"#fdca26\"],[1.0,\"#f0f921\"]],\"type\":\"histogram2dcontour\"}],\"mesh3d\":[{\"colorbar\":{\"outlinewidth\":0,\"ticks\":\"\"},\"type\":\"mesh3d\"}],\"parcoords\":[{\"line\":{\"colorbar\":{\"outlinewidth\":0,\"ticks\":\"\"}},\"type\":\"parcoords\"}],\"pie\":[{\"automargin\":true,\"type\":\"pie\"}],\"scatter\":[{\"marker\":{\"colorbar\":{\"outlinewidth\":0,\"ticks\":\"\"}},\"type\":\"scatter\"}],\"scatter3d\":[{\"line\":{\"colorbar\":{\"outlinewidth\":0,\"ticks\":\"\"}},\"marker\":{\"colorbar\":{\"outlinewidth\":0,\"ticks\":\"\"}},\"type\":\"scatter3d\"}],\"scattercarpet\":[{\"marker\":{\"colorbar\":{\"outlinewidth\":0,\"ticks\":\"\"}},\"type\":\"scattercarpet\"}],\"scattergeo\":[{\"marker\":{\"colorbar\":{\"outlinewidth\":0,\"ticks\":\"\"}},\"type\":\"scattergeo\"}],\"scattergl\":[{\"marker\":{\"colorbar\":{\"outlinewidth\":0,\"ticks\":\"\"}},\"type\":\"scattergl\"}],\"scattermapbox\":[{\"marker\":{\"colorbar\":{\"outlinewidth\":0,\"ticks\":\"\"}},\"type\":\"scattermapbox\"}],\"scatterpolar\":[{\"marker\":{\"colorbar\":{\"outlinewidth\":0,\"ticks\":\"\"}},\"type\":\"scatterpolar\"}],\"scatterpolargl\":[{\"marker\":{\"colorbar\":{\"outlinewidth\":0,\"ticks\":\"\"}},\"type\":\"scatterpolargl\"}],\"scatterternary\":[{\"marker\":{\"colorbar\":{\"outlinewidth\":0,\"ticks\":\"\"}},\"type\":\"scatterternary\"}],\"surface\":[{\"colorbar\":{\"outlinewidth\":0,\"ticks\":\"\"},\"colorscale\":[[0.0,\"#0d0887\"],[0.1111111111111111,\"#46039f\"],[0.2222222222222222,\"#7201a8\"],[0.3333333333333333,\"#9c179e\"],[0.4444444444444444,\"#bd3786\"],[0.5555555555555556,\"#d8576b\"],[0.6666666666666666,\"#ed7953\"],[0.7777777777777778,\"#fb9f3a\"],[0.8888888888888888,\"#fdca26\"],[1.0,\"#f0f921\"]],\"type\":\"surface\"}],\"table\":[{\"cells\":{\"fill\":{\"color\":\"#EBF0F8\"},\"line\":{\"color\":\"white\"}},\"header\":{\"fill\":{\"color\":\"#C8D4E3\"},\"line\":{\"color\":\"white\"}},\"type\":\"table\"}]},\"layout\":{\"annotationdefaults\":{\"arrowcolor\":\"#2a3f5f\",\"arrowhead\":0,\"arrowwidth\":1},\"autotypenumbers\":\"strict\",\"coloraxis\":{\"colorbar\":{\"outlinewidth\":0,\"ticks\":\"\"}},\"colorscale\":{\"diverging\":[[0,\"#8e0152\"],[0.1,\"#c51b7d\"],[0.2,\"#de77ae\"],[0.3,\"#f1b6da\"],[0.4,\"#fde0ef\"],[0.5,\"#f7f7f7\"],[0.6,\"#e6f5d0\"],[0.7,\"#b8e186\"],[0.8,\"#7fbc41\"],[0.9,\"#4d9221\"],[1,\"#276419\"]],\"sequential\":[[0.0,\"#0d0887\"],[0.1111111111111111,\"#46039f\"],[0.2222222222222222,\"#7201a8\"],[0.3333333333333333,\"#9c179e\"],[0.4444444444444444,\"#bd3786\"],[0.5555555555555556,\"#d8576b\"],[0.6666666666666666,\"#ed7953\"],[0.7777777777777778,\"#fb9f3a\"],[0.8888888888888888,\"#fdca26\"],[1.0,\"#f0f921\"]],\"sequentialminus\":[[0.0,\"#0d0887\"],[0.1111111111111111,\"#46039f\"],[0.2222222222222222,\"#7201a8\"],[0.3333333333333333,\"#9c179e\"],[0.4444444444444444,\"#bd3786\"],[0.5555555555555556,\"#d8576b\"],[0.6666666666666666,\"#ed7953\"],[0.7777777777777778,\"#fb9f3a\"],[0.8888888888888888,\"#fdca26\"],[1.0,\"#f0f921\"]]},\"colorway\":[\"#636efa\",\"#EF553B\",\"#00cc96\",\"#ab63fa\",\"#FFA15A\",\"#19d3f3\",\"#FF6692\",\"#B6E880\",\"#FF97FF\",\"#FECB52\"],\"font\":{\"color\":\"#2a3f5f\"},\"geo\":{\"bgcolor\":\"white\",\"lakecolor\":\"white\",\"landcolor\":\"#E5ECF6\",\"showlakes\":true,\"showland\":true,\"subunitcolor\":\"white\"},\"hoverlabel\":{\"align\":\"left\"},\"hovermode\":\"closest\",\"mapbox\":{\"style\":\"light\"},\"paper_bgcolor\":\"white\",\"plot_bgcolor\":\"#E5ECF6\",\"polar\":{\"angularaxis\":{\"gridcolor\":\"white\",\"linecolor\":\"white\",\"ticks\":\"\"},\"bgcolor\":\"#E5ECF6\",\"radialaxis\":{\"gridcolor\":\"white\",\"linecolor\":\"white\",\"ticks\":\"\"}},\"scene\":{\"xaxis\":{\"backgroundcolor\":\"#E5ECF6\",\"gridcolor\":\"white\",\"gridwidth\":2,\"linecolor\":\"white\",\"showbackground\":true,\"ticks\":\"\",\"zerolinecolor\":\"white\"},\"yaxis\":{\"backgroundcolor\":\"#E5ECF6\",\"gridcolor\":\"white\",\"gridwidth\":2,\"linecolor\":\"white\",\"showbackground\":true,\"ticks\":\"\",\"zerolinecolor\":\"white\"},\"zaxis\":{\"backgroundcolor\":\"#E5ECF6\",\"gridcolor\":\"white\",\"gridwidth\":2,\"linecolor\":\"white\",\"showbackground\":true,\"ticks\":\"\",\"zerolinecolor\":\"white\"}},\"shapedefaults\":{\"line\":{\"color\":\"#2a3f5f\"}},\"ternary\":{\"aaxis\":{\"gridcolor\":\"white\",\"linecolor\":\"white\",\"ticks\":\"\"},\"baxis\":{\"gridcolor\":\"white\",\"linecolor\":\"white\",\"ticks\":\"\"},\"bgcolor\":\"#E5ECF6\",\"caxis\":{\"gridcolor\":\"white\",\"linecolor\":\"white\",\"ticks\":\"\"}},\"title\":{\"x\":0.05},\"xaxis\":{\"automargin\":true,\"gridcolor\":\"white\",\"linecolor\":\"white\",\"ticks\":\"\",\"title\":{\"standoff\":15},\"zerolinecolor\":\"white\",\"zerolinewidth\":2},\"yaxis\":{\"automargin\":true,\"gridcolor\":\"white\",\"linecolor\":\"white\",\"ticks\":\"\",\"title\":{\"standoff\":15},\"zerolinecolor\":\"white\",\"zerolinewidth\":2}}},\"barmode\":\"overlay\"},                        {\"responsive\": true}                    ).then(function(){\n",
              "                            \n",
              "var gd = document.getElementById('d7bfea5b-647f-4fd5-8fff-9bb1663948c4');\n",
              "var x = new MutationObserver(function (mutations, observer) {{\n",
              "        var display = window.getComputedStyle(gd).display;\n",
              "        if (!display || display === 'none') {{\n",
              "            console.log([gd, 'removed!']);\n",
              "            Plotly.purge(gd);\n",
              "            observer.disconnect();\n",
              "        }}\n",
              "}});\n",
              "\n",
              "// Listen for the removal of the full notebook cells\n",
              "var notebookContainer = gd.closest('#notebook-container');\n",
              "if (notebookContainer) {{\n",
              "    x.observe(notebookContainer, {childList: true});\n",
              "}}\n",
              "\n",
              "// Listen for the clearing of the current output cell\n",
              "var outputEl = gd.closest('.output');\n",
              "if (outputEl) {{\n",
              "    x.observe(outputEl, {childList: true});\n",
              "}}\n",
              "\n",
              "                        })                };                            </script>        </div>\n",
              "</body>\n",
              "</html>"
            ]
          },
          "metadata": {}
        }
      ],
      "source": [
        "fig = go.Figure()\n",
        "fig.add_trace(go.Histogram(x=size_of_sentence))\n",
        "fig.add_trace(go.Histogram(x=size_of_sentence_validation))\n",
        "\n",
        "# Overlay both histograms\n",
        "fig.update_layout(barmode='overlay')\n",
        "# Reduce opacity to see both histograms\n",
        "fig.update_traces(opacity=0.75)\n",
        "fig.show()"
      ]
    },
    {
      "cell_type": "markdown",
      "id": "e9e4b615",
      "metadata": {
        "id": "e9e4b615"
      },
      "source": [
        "### Standard Feature Extractor from PyThaiNLP"
      ]
    },
    {
      "cell_type": "markdown",
      "id": "6b90648f",
      "metadata": {
        "id": "6b90648f"
      },
      "source": [
        "คำสรรพนาม\n",
        "\n",
        "Pronoun 1st person\n",
        "\tฉัน ผม ดิฉัน เรา หนู กู ทางนี้ ด้านนี้ ตัวผม ข้าพเจ้า กระผม อาตมา ข้าพระพุทธเจ้า \n",
        "Pronoun 2nd Person\n",
        "\tเขา เธอ พวกเขา พวกเธอ ท่าน คุณ ใต้เท้า พระคุณเจ้า ฝ่าพระบาท แก ใต้ฝ่าละอองธุลีพระบาท\n",
        "Pronoun 3rd Person\n",
        "\tเขา เธอ พวกเขา พวกเธอ มัน พระองค์ ท่าน คน พวกคน บุคคล\n",
        "Distance Pronoun\n",
        "\tนี่ นั่น โน่น นี้ นั้น โน้น\n",
        "Question Pronoun\n",
        "\tใคร อะไร ที่ไหน ผู้ใด ทำไม ทางไหน อย่างไร \n",
        "\n"
      ]
    },
    {
      "cell_type": "code",
      "execution_count": null,
      "id": "bf2d8dd3",
      "metadata": {
        "id": "bf2d8dd3"
      },
      "outputs": [],
      "source": [
        "enders = [\"ครับ\",\"ค่ะ\",\"คะ\",\"นะคะ\",\"นะ\",\"จ้ะ\",\"จ้า\",\"จ๋า\",\"ฮะ\", #ending honorifics\n",
        "          #enders\n",
        "          \"ๆ\",\"ได้\",\"แล้ว\",\"ด้วย\",\"เลย\",\"มาก\",\"น้อย\",\"กัน\",\"เช่นกัน\",\"เท่านั้น\",\n",
        "          \"อยู่\",\"ลง\",\"ขึ้น\",\"มา\",\"ไป\",\"ไว้\",\"เอง\",\"อีก\",\"ใหม่\",\"จริงๆ\",\n",
        "          \"บ้าง\",\"หมด\",\"ทีเดียว\",\"เดียว\",\"บาท\",\"กล่าว\",\n",
        "          #demonstratives\n",
        "          \"นั้น\",\"นี้\",\"เหล่านี้\",\"เหล่านั้น\",\n",
        "          #questions\n",
        "          \"อย่างไร\",\"ยังไง\",\"หรือไม่\",\"มั้ย\",\"ไหน\",\"อะไร\",\"ทำไม\",\"เมื่อไหร่\"]\n",
        "starters = [\"ผม\",\"ฉัน\",\"ดิฉัน\",\"ชั้น\",\"คุณ\",\"มัน\",\"เขา\",\"เค้า\",\n",
        "            \"เธอ\",\"เรา\",\"พวกเรา\",\"พวกเขา\", #pronouns\n",
        "            #connectors\n",
        "            \"และ\",\"หรือ\",\"แต่\",\"เมื่อ\",\"ถ้า\",\"ใน\",\n",
        "            \"ด้วย\",\"เพราะ\",\"เนื่องจาก\",\"ซึ่ง\",\"ไม่\",\n",
        "            \"ตอนนี้\",\"ทีนี้\",\"ดังนั้น\",\"เพราะฉะนั้น\",\"ฉะนั้น\",\n",
        "            \"ตั้งแต่\",\"ในที่สุด\",\"จากนั้น\",\"แล้ว\",\"เตรียม\",'รวมถึง',\n",
        "            #demonstratives\n",
        "            \"นั้น\",\"นี้\",\"เหล่านี้\",\"เหล่านั้น\",'ทั้งนี้']\n",
        "\n",
        "#Connector Nouns Questions\n",
        "\n",
        "connector = ['และ' ,'จึง', 'แต่', 'หรือ', 'เพราะ', 'ซึ่ง', 'ที่' ,'เป็น', 'อัน', 'เมื่อ', 'จน', 'เนื่องจาก','ระหว่าง']\n",
        "\n",
        "\n",
        "# nouns = [\"ผม\",\"ฉัน\",\"ดิฉัน\",\"ชั้น\",\"หนู\",\"คุณ\",\"มัน\",\"เขา\",\"เค้า\",\"ข้าพเจ้า\"\n",
        "#             \"เธอ\",\"เรา\",\"ท่าน\",\"พวกเธอ\",\"พวกเรา\",\"พวกเขา\", #pronouns\n",
        "#             \"นาย\",\"นาง\",\"นางสาว\",\"ตน\",\"ตัวผม\",\"ตัวเอง\",\"คุณ\",\"ท่าน\",'นั่น','โน่น','นี้']\n",
        "\n",
        "# questions = ['ใคร', 'อะไร', 'ที่ไหน', 'ผู้ใด', 'ทำไม', 'ทางไหน','อย่างไร']\n",
        "\n",
        "\n",
        "# verbs = ['คือ','เป็น','อยู่','ทำ','มี','เผย','กล่าว','เป็น','เดินทาง','กำหนด','ไป','ชี้','เล่าว่า','เริ่ม','เปิด','ปิด','ขอให้','จึง','ถาม','ตอบ']"
      ]
    },
    {
      "cell_type": "code",
      "execution_count": null,
      "id": "451b89b5",
      "metadata": {
        "id": "451b89b5"
      },
      "outputs": [],
      "source": [
        "### Add connector and noun\n",
        "\n",
        "def extract_features(doc, window=3, max_n_gram=3):\n",
        "    doc_features = []\n",
        "    #paddings for word and POS\n",
        "    doc = ['xxpad' for i in range(window)] + doc + ['xxpad' for i in range(window)]\n",
        "    doc_ender = []\n",
        "    doc_starter = []\n",
        "    #add enders\n",
        "    for i in range(len(doc)):\n",
        "        if doc[i] in enders:\n",
        "            doc_ender.append('ender')\n",
        "        else:\n",
        "            doc_ender.append('normal')\n",
        "    #add starters\n",
        "    for i in range(len(doc)):\n",
        "        if doc[i] in starters:\n",
        "            doc_starter.append('starter')\n",
        "        else:\n",
        "            doc_starter.append('normal')\n",
        "    \n",
        "    \n",
        "    ####New#####\n",
        "    \n",
        "    doc_connector = []\n",
        "    doc_tag = []\n",
        "    #add connecter\n",
        "    for i in range(len(doc)):\n",
        "        if doc[i] in connector:\n",
        "            doc_connector.append('connector')\n",
        "        else:\n",
        "            doc_connector.append('normal')    \n",
        "    #add  pos_tag\n",
        "    tag = pos_tag(doc)\n",
        "    for i in range(len(doc)):\n",
        "        doc_tag.append(tag[i][1])\n",
        "            \n",
        "            \n",
        "    #for each word\n",
        "    for i in range(window, len(doc)-window):\n",
        "        #bias term\n",
        "        word_features = ['bias'] \n",
        "        #ngram features\n",
        "        for n_gram in range(1, min(max_n_gram+1,2+window*2)):\n",
        "            for j in range(i-window,i+window+2-n_gram):\n",
        "                feature_position = f'{n_gram}_{j-i}_{j-i+n_gram}'\n",
        "                word_ = f'{\"|\".join(doc[j:(j+n_gram)])}'\n",
        "                word_features += [f'word_{feature_position}={word_}']\n",
        "                ender_ =  f'{\"|\".join(doc_ender[j:(j+n_gram)])}'\n",
        "                word_features += [f'ender_{feature_position}={ender_}']\n",
        "                starter_ =  f'{\"|\".join(doc_starter[j:(j+n_gram)])}'\n",
        "                word_features += [f'starter_{feature_position}={starter_}']\n",
        "                connector_ =  f'{\"|\".join(doc_connector[j:(j+n_gram)])}'\n",
        "                word_features += [f'connector_{feature_position}={connector_}']\n",
        "                tag_ =  f'{\"|\".join(doc_tag[j:(j+n_gram)])}'\n",
        "                word_features += [f'tags_{feature_position}={tag_}']\n",
        "        \n",
        "        #append to feature per word\n",
        "        doc_features.append(word_features)\n",
        "    return doc_features"
      ]
    },
    {
      "cell_type": "code",
      "execution_count": null,
      "id": "04003617",
      "metadata": {
        "colab": {
          "base_uri": "https://localhost:8080/"
        },
        "id": "04003617",
        "outputId": "22817465-6cda-49c9-ae1d-189662808cd7"
      },
      "outputs": [
        {
          "output_type": "execute_result",
          "data": {
            "text/plain": [
              "4277"
            ]
          },
          "metadata": {},
          "execution_count": 25
        }
      ],
      "source": [
        "len(train_data)"
      ]
    },
    {
      "cell_type": "code",
      "source": [
        "train_data[1]"
      ],
      "metadata": {
        "colab": {
          "base_uri": "https://localhost:8080/"
        },
        "id": "V3bf8Q7Grfdl",
        "outputId": "da173bd3-b080-497c-ef4c-0adf4d731524"
      },
      "id": "V3bf8Q7Grfdl",
      "execution_count": null,
      "outputs": [
        {
          "output_type": "execute_result",
          "data": {
            "text/plain": [
              "[('บุก', 'I'),\n",
              " ('ยึด', 'I'),\n",
              " ('ไม้', 'I'),\n",
              " ('เถื่อน', 'I'),\n",
              " ('อดีต', 'I'),\n",
              " ('ส.ส.', 'I'),\n",
              " ('บุรีรัมย์', 'I'),\n",
              " ('เตรียม', 'I'),\n",
              " ('สร้าง', 'I'),\n",
              " ('คฤหาสน์', 'I'),\n",
              " ('ทรง', 'I'),\n",
              " ('ไทย', 'I'),\n",
              " (' ', 'E'),\n",
              " ('1', 'I'),\n",
              " (' ', 'I'),\n",
              " ('กันยายน', 'I'),\n",
              " (' ', 'I'),\n",
              " ('2550', 'I'),\n",
              " (' ', 'I'),\n",
              " ('12', 'I'),\n",
              " (':', 'I'),\n",
              " ('00', 'I'),\n",
              " (' ', 'I'),\n",
              " ('น.', 'I'),\n",
              " (' ', 'E'),\n",
              " ('ตำรวจภูธร', 'I'),\n",
              " ('จ.', 'I'),\n",
              " ('บุรีรัมย์', 'I'),\n",
              " ('บุก', 'I'),\n",
              " ('ตรวจ', 'I'),\n",
              " ('ยึด', 'I'),\n",
              " ('ไม้แปรรูป', 'I'),\n",
              " ('หวงห้าม', 'I'),\n",
              " ('กว่า', 'I'),\n",
              " (' ', 'I'),\n",
              " ('80', 'I'),\n",
              " (' ', 'I'),\n",
              " ('แผ่น', 'I'),\n",
              " (' ', 'E'),\n",
              " ('เตรียม', 'I'),\n",
              " ('นำ', 'I'),\n",
              " ('ไป', 'I'),\n",
              " ('ก่อสร้าง', 'I'),\n",
              " ('คฤหาสน์', 'I'),\n",
              " ('ทรง', 'I'),\n",
              " ('ไทย', 'I'),\n",
              " ('ของ', 'I'),\n",
              " ('อดีต', 'I'),\n",
              " ('ส.ส.', 'I'),\n",
              " ('ดัง', 'I'),\n",
              " ('พร้อม', 'I'),\n",
              " ('นำ', 'I'),\n",
              " ('ตัว', 'I'),\n",
              " ('ภายในบ้าน', 'I'),\n",
              " ('ไป', 'I'),\n",
              " ('สอบสวน', 'I'),\n",
              " ('เพื่อให้', 'I'),\n",
              " ('เจ้าของ', 'I'),\n",
              " ('นำ', 'I'),\n",
              " ('เอกสาร', 'I'),\n",
              " ('หลักฐาน', 'I'),\n",
              " ('ที่มา', 'I'),\n",
              " ('ของ', 'I'),\n",
              " ('ไม้', 'I'),\n",
              " ('มา', 'I'),\n",
              " ('แสดง', 'I'),\n",
              " (' ', 'E'),\n",
              " ('สาย', 'I'),\n",
              " ('วันนี้', 'I'),\n",
              " ('(', 'I'),\n",
              " ('1', 'I'),\n",
              " (' ', 'I'),\n",
              " ('ก.ย.', 'I'),\n",
              " (')_', 'I'),\n",
              " ('พ.ต.อ.', 'I'),\n",
              " ('สังวร', 'I'),\n",
              " ('ณ์_', 'I'),\n",
              " ('ภู่', 'I'),\n",
              " ('ไพ', 'I'),\n",
              " ('จิต', 'I'),\n",
              " ('กุล', 'I'),\n",
              " (' ', 'I'),\n",
              " ('รอง', 'I'),\n",
              " ('ผบ', 'I'),\n",
              " ('ก.', 'I'),\n",
              " ('ภ.', 'I'),\n",
              " ('จว.', 'I'),\n",
              " ('บุรีรัมย์', 'I'),\n",
              " ('พร้อม', 'I'),\n",
              " ('พ.ต.ท.', 'I'),\n",
              " ('สุ', 'I'),\n",
              " ('ธีร', 'I'),\n",
              " ('์_', 'I'),\n",
              " ('ตรุ', 'I'),\n",
              " ('โน', 'I'),\n",
              " ('ภาส', 'I'),\n",
              " (' ', 'I'),\n",
              " ('รอง', 'I'),\n",
              " (' ', 'I'),\n",
              " ('ผกก.', 'I'),\n",
              " ('สภ.', 'I'),\n",
              " ('อ.', 'I'),\n",
              " ('เมือง', 'I'),\n",
              " ('สว', 'I'),\n",
              " ('.', 'I'),\n",
              " ('สส.', 'I'),\n",
              " ('และ', 'I'),\n",
              " ('ร.ต.ท.', 'I'),\n",
              " ('ภา', 'I'),\n",
              " ('นุ', 'I'),\n",
              " ('วัฒน', 'I'),\n",
              " ('์_', 'I'),\n",
              " ('มาก', 'I'),\n",
              " ('มูล', 'I'),\n",
              " (' ', 'I'),\n",
              " ('ร้อยเวร', 'I'),\n",
              " ('ฯ', 'I'),\n",
              " ('สภ.', 'I'),\n",
              " ('อ.', 'I'),\n",
              " ('เมือง', 'I'),\n",
              " ('ทำการ', 'I'),\n",
              " ('ตรวจสอบ', 'I'),\n",
              " ('ไม้แปรรูป', 'I'),\n",
              " ('หวงห้าม', 'I'),\n",
              " (' ', 'E'),\n",
              " ('เตรียม', 'I'),\n",
              " ('นำ', 'I'),\n",
              " ('ไป', 'I'),\n",
              " ('ก่อสร้าง', 'I'),\n",
              " ('คฤหาสน์', 'I'),\n",
              " ('ทรง', 'I'),\n",
              " ('ไทย', 'I'),\n",
              " ('หรู', 'I'),\n",
              " ('ภายใน', 'I'),\n",
              " ('ฟาร์ม', 'I'),\n",
              " ('เลี้ยง', 'I'),\n",
              " ('วัว', 'I'),\n",
              " ('เอ็ม', 'I'),\n",
              " (' ', 'I'),\n",
              " ('จี', 'I'),\n",
              " (' ', 'I'),\n",
              " ('ประสิทธิ์', 'I'),\n",
              " ('ฟาร์ม', 'I'),\n",
              " (' ', 'I'),\n",
              " ('บ.', 'I'),\n",
              " ('หนอง', 'I'),\n",
              " ('ไผ่', 'I'),\n",
              " ('น้อย', 'I'),\n",
              " (' ', 'I'),\n",
              " ('ต.', 'I'),\n",
              " ('ชุมเห็ด', 'I'),\n",
              " (' ', 'I'),\n",
              " ('อ.', 'I'),\n",
              " ('เมือง', 'I'),\n",
              " ('ได้รับ', 'I'),\n",
              " ('แจ้ง', 'I'),\n",
              " ('จาก', 'I'),\n",
              " ('ชาวบ้าน', 'I'),\n",
              " ('ว่า', 'I'),\n",
              " ('มี', 'I'),\n",
              " ('การ', 'I'),\n",
              " ('ลักลอบ', 'I'),\n",
              " ('แปรรูป', 'I'),\n",
              " ('ไม้หวงห้าม', 'I'),\n",
              " ('ใน', 'I'),\n",
              " ('บริเวณ', 'I'),\n",
              " ('ดังกล่าว', 'I'),\n",
              " (' ', 'E'),\n",
              " ('จาก', 'I'),\n",
              " ('การ', 'I'),\n",
              " ('ตรวจสอบ', 'I'),\n",
              " ('ใน', 'I'),\n",
              " ('โกดัง', 'I'),\n",
              " ('ที่อยู่', 'I'),\n",
              " ('ด้านหลัง', 'I'),\n",
              " ('ฟาร์ม', 'I'),\n",
              " ('พบ', 'I'),\n",
              " ('ไม้', 'I'),\n",
              " ('ประดู่', 'I'),\n",
              " ('ซึ่ง', 'I'),\n",
              " ('เป็น', 'I'),\n",
              " ('ไม้หวงห้าม', 'I'),\n",
              " ('ที่', 'I'),\n",
              " ('แปรรูป', 'I'),\n",
              " ('แล้ว', 'I'),\n",
              " ('จำนวน', 'I'),\n",
              " (' ', 'I'),\n",
              " ('81', 'I'),\n",
              " (' ', 'I'),\n",
              " ('แผ่น', 'I'),\n",
              " (' ', 'I'),\n",
              " ('เจ้าหน้าที่', 'I'),\n",
              " ('จึง', 'I'),\n",
              " ('ได้', 'I'),\n",
              " ('ทำการ', 'I'),\n",
              " ('ตรวจ', 'I'),\n",
              " ('ยึด', 'I'),\n",
              " ('ไว้', 'I'),\n",
              " ('ตรวจสอบ', 'I'),\n",
              " ('พร้อมทั้ง', 'I'),\n",
              " ('ได้', 'I'),\n",
              " ('นำ', 'I'),\n",
              " ('ตัว', 'I'),\n",
              " ('สุ', 'I'),\n",
              " ('พจน์', 'I'),\n",
              " (' ', 'I'),\n",
              " ('โพธิ์', 'I'),\n",
              " ('เงิน', 'I'),\n",
              " ('และ', 'I'),\n",
              " ('นาย', 'I'),\n",
              " ('ศิ', 'I'),\n",
              " ('ริน', 'I'),\n",
              " ('ดง', 'I'),\n",
              " (' ', 'I'),\n",
              " ('แก่น', 'I'),\n",
              " ('ใส', 'I'),\n",
              " ('ภายใน', 'I'),\n",
              " ('ฟาร์ม', 'I'),\n",
              " ('ไป', 'I'),\n",
              " ('สอบสวน', 'I'),\n",
              " ('ที่', 'I'),\n",
              " ('สภ.', 'I'),\n",
              " ('อ.', 'I'),\n",
              " ('เมือง', 'I'),\n",
              " (' ', 'I'),\n",
              " ('2', 'I'),\n",
              " (' ', 'I'),\n",
              " ('ให้การ', 'I'),\n",
              " ('ว่า', 'I'),\n",
              " ('ไม่', 'I'),\n",
              " ('ทราบ', 'I'),\n",
              " ('ของ', 'I'),\n",
              " ('ไม้', 'I'),\n",
              " (' ', 'E'),\n",
              " ('ส่วน', 'I'),\n",
              " ('บ้าน', 'I'),\n",
              " ('ทรง', 'I'),\n",
              " ('ไทย', 'I'),\n",
              " ('ที่', 'I'),\n",
              " ('ปลูกสร้าง', 'I'),\n",
              " ('ใน', 'I'),\n",
              " ('บริเวณ', 'I'),\n",
              " ('ฟาร์ม', 'I'),\n",
              " ('เป็น', 'I'),\n",
              " ('บ้าน', 'I'),\n",
              " ('นาย', 'I'),\n",
              " ('ประสิทธิ์', 'I'),\n",
              " (' ', 'I'),\n",
              " ('ตั้ง', 'I'),\n",
              " ('ศรี', 'I'),\n",
              " ('เกียรติ', 'I'),\n",
              " ('กุล', 'I'),\n",
              " (' ', 'I'),\n",
              " ('อดีต', 'I'),\n",
              " ('ส.ส.', 'I'),\n",
              " ('ดัง', 'I'),\n",
              " ('เมือง', 'I'),\n",
              " ('บุรีรัมย์', 'I'),\n",
              " (' ', 'E'),\n",
              " ('อย่างไรก็ตาม', 'I'),\n",
              " ('เจ้าหน้าที่ตำรวจ', 'I'),\n",
              " ('จะ', 'I'),\n",
              " ('ได้', 'I'),\n",
              " ('สอบพยาน', 'I'),\n",
              " ('แวดล้อม', 'I'),\n",
              " ('กำนัน', 'I'),\n",
              " ('ผู้ใหญ่บ้าน', 'I'),\n",
              " ('เพื่อ', 'I'),\n",
              " ('สอบสวน', 'I'),\n",
              " ('หา', 'I'),\n",
              " ('ตัว', 'I'),\n",
              " ('เจ้าของบ้าน', 'I'),\n",
              " ('ที่', 'I'),\n",
              " ('แท้จริง', 'I'),\n",
              " ('พร้อม', 'I'),\n",
              " ('ให้', 'I'),\n",
              " ('นำ', 'I'),\n",
              " ('เอกสาร', 'I'),\n",
              " ('หลักฐาน', 'I'),\n",
              " ('การครอบครอง', 'I'),\n",
              " ('และ', 'I'),\n",
              " ('ของ', 'I'),\n",
              " ('ไม้', 'I'),\n",
              " ('มา', 'I'),\n",
              " ('แสดง', 'I'),\n",
              " ('ต่อ', 'I'),\n",
              " ('เจ้าหน้าที่', 'I'),\n",
              " (' ', 'E'),\n",
              " ('หาก', 'I'),\n",
              " ('ไม่', 'I'),\n",
              " ('มี', 'I'),\n",
              " ('หลักฐาน', 'I'),\n",
              " ('มา', 'I'),\n",
              " ('แสดง', 'I'),\n",
              " ('เจ้าหน้าที่', 'I'),\n",
              " ('ก็', 'I'),\n",
              " ('จะ', 'I'),\n",
              " ('ดำเนินคดี', 'I'),\n",
              " ('ใน', 'I'),\n",
              " ('ข้อ', 'I'),\n",
              " ('หาว่า', 'I'),\n",
              " ('มี', 'I'),\n",
              " ('ไม้หวงห้าม', 'I'),\n",
              " ('ไว้', 'I'),\n",
              " ('ใน', 'I'),\n",
              " ('ครอบครอง', 'I'),\n",
              " ('เกิน', 'I'),\n",
              " ('กว่า', 'I'),\n",
              " (' ', 'I'),\n",
              " ('0.20', 'I'),\n",
              " (' ', 'I'),\n",
              " ('ลูกบาศก์เมตร', 'I'),\n",
              " ('โดย', 'I'),\n",
              " ('ไม่', 'I'),\n",
              " ('ได้รับอนุญาต', 'I'),\n",
              " ('ตามกฎหมาย', 'I'),\n",
              " (' ', 'E')]"
            ]
          },
          "metadata": {},
          "execution_count": 26
        }
      ]
    },
    {
      "cell_type": "code",
      "execution_count": null,
      "id": "d576f122",
      "metadata": {
        "colab": {
          "base_uri": "https://localhost:8080/"
        },
        "id": "d576f122",
        "outputId": "2b820b23-fe97-4bc9-87d6-3d904228a6e5"
      },
      "outputs": [
        {
          "output_type": "stream",
          "name": "stderr",
          "text": [
            "100%|██████████| 4277/4277 [00:00<00:00, 6808.18it/s]"
          ]
        },
        {
          "output_type": "stream",
          "name": "stdout",
          "text": [
            "CPU times: user 610 ms, sys: 17.9 ms, total: 628 ms\n",
            "Wall time: 637 ms\n"
          ]
        },
        {
          "output_type": "stream",
          "name": "stderr",
          "text": [
            "\n"
          ]
        }
      ],
      "source": [
        "%%time\n",
        "# ted\n",
        "# target\n",
        "LST20_y = []\n",
        "for t in tqdm(train_data, total=len(train_data)):\n",
        "    temp = []\n",
        "    for (w, l) in t:\n",
        "        temp.append(l)\n",
        "    LST20_y.append(temp)"
      ]
    },
    {
      "cell_type": "code",
      "source": [
        "LST20_y"
      ],
      "metadata": {
        "id": "BJLobb8wsam-"
      },
      "id": "BJLobb8wsam-",
      "execution_count": null,
      "outputs": []
    },
    {
      "cell_type": "code",
      "execution_count": null,
      "id": "693c8be1",
      "metadata": {
        "colab": {
          "base_uri": "https://localhost:8080/"
        },
        "id": "693c8be1",
        "outputId": "40b170ae-ed2a-4228-826d-47432e3928ca"
      },
      "outputs": [
        {
          "output_type": "stream",
          "name": "stderr",
          "text": [
            "100%|██████████| 4277/4277 [00:00<00:00, 5606.47it/s]\n",
            " 28%|██▊       | 1209/4277 [02:42<27:17,  1.87it/s]"
          ]
        }
      ],
      "source": [
        "%%time\n",
        "# features\n",
        "LST20_x_pre = []\n",
        "for t in tqdm(train_data, total=len(train_data)):\n",
        "    temp = []\n",
        "    for (w, l) in t:\n",
        "        temp.append(w)\n",
        "    LST20_x_pre.append(temp)\n",
        "LST20_x = []\n",
        "for x_ in tqdm(LST20_x_pre, total=len(LST20_x_pre)):\n",
        "    LST20_x.append(extract_features(x_, window=3, max_n_gram = 3))"
      ]
    },
    {
      "cell_type": "code",
      "execution_count": null,
      "id": "22adcbac",
      "metadata": {
        "id": "22adcbac",
        "outputId": "cfe6425d-ab98-4dd0-c38d-97e3190e7f67"
      },
      "outputs": [
        {
          "name": "stderr",
          "output_type": "stream",
          "text": [
            "100%|██████████████████████████████████████████████████████████████████████████████| 474/474 [00:00<00:00, 2553.57it/s]"
          ]
        },
        {
          "name": "stdout",
          "output_type": "stream",
          "text": [
            "Wall time: 207 ms\n"
          ]
        },
        {
          "name": "stderr",
          "output_type": "stream",
          "text": [
            "\n"
          ]
        }
      ],
      "source": [
        "%%time\n",
        "# features\n",
        "LST20_y_eval = []\n",
        "for t in tqdm(validation_data, total=len(validation_data)):\n",
        "    temp = []\n",
        "    for (w, l) in t:\n",
        "        temp.append(l)\n",
        "    LST20_y_eval.append(temp)"
      ]
    },
    {
      "cell_type": "code",
      "execution_count": null,
      "id": "f28c20d6",
      "metadata": {
        "id": "f28c20d6",
        "outputId": "599e1f84-b640-445f-da99-fc1a9af51da5"
      },
      "outputs": [
        {
          "name": "stderr",
          "output_type": "stream",
          "text": [
            "100%|██████████████████████████████████████████████████████████████████████████████| 474/474 [00:00<00:00, 7426.96it/s]\n",
            "100%|████████████████████████████████████████████████████████████████████████████████| 474/474 [00:23<00:00, 20.09it/s]"
          ]
        },
        {
          "name": "stdout",
          "output_type": "stream",
          "text": [
            "Wall time: 23.7 s\n"
          ]
        },
        {
          "name": "stderr",
          "output_type": "stream",
          "text": [
            "\n"
          ]
        }
      ],
      "source": [
        "%%time\n",
        "LST20_x_eval_pre = []\n",
        "for t in tqdm(validation_data, total=len(validation_data)):\n",
        "    temp = []\n",
        "    for (w, l) in t:\n",
        "        temp.append(w)\n",
        "    LST20_x_eval_pre.append(temp)\n",
        "LST20_x_eval = []\n",
        "for x_ in tqdm(LST20_x_eval_pre, total=len(LST20_x_eval_pre)):\n",
        "    LST20_x_eval.append(extract_features(x_, window=3, max_n_gram = 3))"
      ]
    },
    {
      "cell_type": "markdown",
      "id": "147d435b",
      "metadata": {
        "id": "147d435b"
      },
      "source": [
        "### SKlearn_CRF"
      ]
    },
    {
      "cell_type": "code",
      "execution_count": null,
      "id": "3a0aa695",
      "metadata": {
        "id": "3a0aa695",
        "outputId": "ca98bd28-6931-48f3-a2b8-e07d73b8e2b1"
      },
      "outputs": [
        {
          "name": "stderr",
          "output_type": "stream",
          "text": [
            "100%|██████████████████████████████████████████████████████████████████████████| 4277/4277 [00:00<00:00, 194372.62it/s]\n"
          ]
        }
      ],
      "source": [
        "X_train = []\n",
        "y_train = []\n",
        "\n",
        "for xseq, yseq in tqdm(zip(LST20_x, LST20_y), total=len(LST20_x)):\n",
        "    X_train.append(xseq)\n",
        "    y_train.append(yseq)"
      ]
    },
    {
      "cell_type": "code",
      "execution_count": null,
      "id": "3c8b626e",
      "metadata": {
        "id": "3c8b626e",
        "outputId": "e485c162-0148-44fb-f0e6-5a36c90af2e1"
      },
      "outputs": [
        {
          "name": "stderr",
          "output_type": "stream",
          "text": [
            "100%|████████████████████████████████████████████████████████████████████████████████████████| 474/474 [00:00<?, ?it/s]\n"
          ]
        }
      ],
      "source": [
        "X_valid = []\n",
        "y_valid = []\n",
        "\n",
        "for xseq, yseq in tqdm(zip(LST20_x_eval, LST20_y_eval), total=len(LST20_x_eval)):\n",
        "    X_valid.append(xseq)\n",
        "    y_valid.append(yseq)"
      ]
    },
    {
      "cell_type": "code",
      "execution_count": null,
      "id": "a9131488",
      "metadata": {
        "id": "a9131488"
      },
      "outputs": [],
      "source": [
        "crf = sklearn_crfsuite.CRF(\n",
        "    algorithm='lbfgs', \n",
        "    c1=1, \n",
        "    c2=0, \n",
        "    max_iterations=1000, \n",
        "    all_possible_transitions=True,verbose=True\n",
        ")"
      ]
    },
    {
      "cell_type": "code",
      "execution_count": null,
      "id": "6b23cfab",
      "metadata": {
        "scrolled": true,
        "id": "6b23cfab",
        "outputId": "172e0b1a-6dc5-47b9-f706-eeaa557ee558"
      },
      "outputs": [
        {
          "name": "stderr",
          "output_type": "stream",
          "text": [
            "loading training data to CRFsuite: 100%|███████████████████████████████████████████| 4277/4277 [08:04<00:00,  8.83it/s]\n"
          ]
        },
        {
          "name": "stdout",
          "output_type": "stream",
          "text": [
            "\n",
            "Feature generation\n",
            "type: CRF1d\n",
            "feature.minfreq: 0.000000\n",
            "feature.possible_states: 0\n",
            "feature.possible_transitions: 1\n",
            "0....1....2....3....4....5....6....7....8....9....10\n",
            "Number of features: 11713087\n",
            "Seconds required: 106.636\n",
            "\n",
            "L-BFGS optimization\n",
            "c1: 1.000000\n",
            "c2: 0.000000\n",
            "num_memories: 6\n",
            "max_iterations: 1000\n",
            "epsilon: 0.000010\n",
            "stop: 10\n",
            "delta: 0.000010\n",
            "linesearch: MoreThuente\n",
            "linesearch.max_iterations: 20\n",
            "\n",
            "Iter 1   time=35.92 loss=679920.38 active=1780886 feature_norm=1.00\n",
            "Iter 2   time=15.14 loss=643328.48 active=1284043 feature_norm=0.95\n",
            "Iter 3   time=104.59 loss=365136.90 active=267856 feature_norm=0.54\n",
            "Iter 4   time=61.79 loss=308537.27 active=296470 feature_norm=0.40\n",
            "Iter 5   time=15.58 loss=290855.90 active=291926 feature_norm=0.47\n",
            "Iter 6   time=15.60 loss=261310.85 active=286076 feature_norm=1.01\n",
            "Iter 7   time=15.73 loss=228658.37 active=348766 feature_norm=1.06\n",
            "Iter 8   time=16.84 loss=219407.99 active=349026 feature_norm=1.44\n",
            "Iter 9   time=17.93 loss=209919.92 active=344939 feature_norm=1.46\n",
            "Iter 10  time=16.49 loss=203070.36 active=337671 feature_norm=1.66\n",
            "Iter 11  time=16.65 loss=178496.02 active=249256 feature_norm=2.18\n",
            "Iter 12  time=16.67 loss=176968.85 active=252298 feature_norm=2.50\n",
            "Iter 13  time=15.93 loss=171051.38 active=267292 feature_norm=2.47\n",
            "Iter 14  time=16.05 loss=169323.04 active=265242 feature_norm=2.55\n",
            "Iter 15  time=16.02 loss=166054.37 active=261855 feature_norm=2.74\n",
            "Iter 16  time=16.62 loss=164444.26 active=261763 feature_norm=2.87\n",
            "Iter 17  time=16.60 loss=158603.32 active=260759 feature_norm=3.28\n",
            "Iter 18  time=16.82 loss=155219.59 active=261722 feature_norm=3.40\n",
            "Iter 19  time=17.25 loss=151935.59 active=259785 feature_norm=3.72\n",
            "Iter 20  time=15.25 loss=149719.69 active=259728 feature_norm=3.81\n",
            "Iter 21  time=15.37 loss=147536.23 active=258346 feature_norm=4.02\n",
            "Iter 22  time=15.24 loss=145698.30 active=258267 feature_norm=4.13\n",
            "Iter 23  time=15.35 loss=143372.75 active=256261 feature_norm=4.41\n",
            "Iter 24  time=15.19 loss=140375.38 active=254690 feature_norm=4.65\n",
            "Iter 25  time=15.18 loss=137597.68 active=251809 feature_norm=5.08\n",
            "Iter 26  time=15.40 loss=134416.41 active=250601 feature_norm=5.39\n",
            "Iter 27  time=15.18 loss=132464.31 active=248156 feature_norm=5.83\n",
            "Iter 28  time=15.13 loss=130250.31 active=247244 feature_norm=6.12\n",
            "Iter 29  time=15.17 loss=128732.27 active=245258 feature_norm=6.55\n",
            "Iter 30  time=15.30 loss=126889.07 active=243710 feature_norm=6.89\n",
            "Iter 31  time=15.05 loss=125223.98 active=240306 feature_norm=7.55\n",
            "Iter 32  time=15.57 loss=123242.93 active=237617 feature_norm=8.16\n",
            "Iter 33  time=15.54 loss=121357.89 active=233791 feature_norm=9.00\n",
            "Iter 34  time=15.49 loss=119801.36 active=231844 feature_norm=9.77\n",
            "Iter 35  time=15.63 loss=117963.32 active=229437 feature_norm=10.61\n",
            "Iter 36  time=15.30 loss=116431.48 active=227051 feature_norm=11.47\n",
            "Iter 37  time=15.62 loss=114321.86 active=223595 feature_norm=12.64\n",
            "Iter 38  time=15.25 loss=112537.20 active=221147 feature_norm=13.97\n",
            "Iter 39  time=15.18 loss=110312.20 active=216550 feature_norm=15.70\n",
            "Iter 40  time=15.40 loss=108079.73 active=212372 feature_norm=17.44\n",
            "Iter 41  time=15.31 loss=105377.81 active=206564 feature_norm=19.17\n",
            "Iter 42  time=15.18 loss=103065.65 active=201302 feature_norm=21.12\n",
            "Iter 43  time=15.25 loss=101275.01 active=194960 feature_norm=22.55\n",
            "Iter 44  time=15.11 loss=99487.07 active=184197 feature_norm=24.71\n",
            "Iter 45  time=15.62 loss=98104.90 active=172077 feature_norm=27.61\n",
            "Iter 46  time=15.22 loss=96929.78 active=164122 feature_norm=29.75\n",
            "Iter 47  time=15.14 loss=95713.14 active=154533 feature_norm=33.04\n",
            "Iter 48  time=15.40 loss=94478.12 active=149284 feature_norm=36.21\n",
            "Iter 49  time=15.55 loss=93421.83 active=143929 feature_norm=39.44\n",
            "Iter 50  time=15.06 loss=92439.78 active=142129 feature_norm=42.36\n",
            "Iter 51  time=15.27 loss=91426.67 active=137885 feature_norm=46.67\n",
            "Iter 52  time=15.52 loss=90717.21 active=137389 feature_norm=49.50\n",
            "Iter 53  time=15.35 loss=90019.39 active=134013 feature_norm=53.49\n",
            "Iter 54  time=15.34 loss=89357.86 active=130862 feature_norm=57.33\n",
            "Iter 55  time=15.32 loss=88780.34 active=127421 feature_norm=61.37\n",
            "Iter 56  time=15.22 loss=88283.95 active=122909 feature_norm=64.61\n",
            "Iter 57  time=15.22 loss=87803.77 active=120847 feature_norm=68.46\n",
            "Iter 58  time=15.18 loss=87413.88 active=119470 feature_norm=71.16\n",
            "Iter 59  time=15.10 loss=87006.41 active=114578 feature_norm=74.84\n",
            "Iter 60  time=15.45 loss=86710.65 active=110013 feature_norm=77.08\n",
            "Iter 61  time=15.26 loss=86431.91 active=109069 feature_norm=79.74\n",
            "Iter 62  time=15.21 loss=86180.55 active=107911 feature_norm=81.75\n",
            "Iter 63  time=14.74 loss=85955.42 active=105577 feature_norm=83.99\n",
            "Iter 64  time=15.03 loss=85775.22 active=103424 feature_norm=85.68\n",
            "Iter 65  time=15.18 loss=85588.23 active=101465 feature_norm=87.67\n",
            "Iter 66  time=15.10 loss=85441.34 active=100582 feature_norm=88.88\n",
            "Iter 67  time=15.17 loss=85283.82 active=98899 feature_norm=90.57\n",
            "Iter 68  time=15.15 loss=85162.05 active=97230 feature_norm=91.25\n",
            "Iter 69  time=15.29 loss=85026.39 active=94903 feature_norm=92.31\n",
            "Iter 70  time=15.55 loss=84932.85 active=94473 feature_norm=92.62\n",
            "Iter 71  time=15.60 loss=84825.71 active=93177 feature_norm=93.26\n",
            "Iter 72  time=15.22 loss=84746.26 active=92610 feature_norm=93.57\n",
            "Iter 73  time=15.61 loss=84653.99 active=91670 feature_norm=94.28\n",
            "Iter 74  time=15.35 loss=84591.66 active=90903 feature_norm=94.63\n",
            "Iter 75  time=15.40 loss=84516.29 active=89503 feature_norm=95.21\n",
            "Iter 76  time=15.12 loss=84456.35 active=89006 feature_norm=95.65\n",
            "Iter 77  time=15.63 loss=84398.81 active=88457 feature_norm=96.20\n",
            "Iter 78  time=15.51 loss=84349.45 active=87628 feature_norm=96.66\n",
            "Iter 79  time=15.29 loss=84303.58 active=86611 feature_norm=97.26\n",
            "Iter 80  time=15.73 loss=84272.38 active=86321 feature_norm=97.62\n",
            "Iter 81  time=15.91 loss=84237.25 active=85414 feature_norm=98.19\n",
            "Iter 82  time=15.78 loss=84209.94 active=84957 feature_norm=98.52\n",
            "Iter 83  time=15.94 loss=84180.81 active=84123 feature_norm=98.91\n",
            "Iter 84  time=15.52 loss=84155.92 active=83709 feature_norm=99.14\n",
            "Iter 85  time=16.84 loss=84128.67 active=83305 feature_norm=99.50\n",
            "Iter 86  time=15.90 loss=84108.18 active=82900 feature_norm=99.72\n",
            "Iter 87  time=16.05 loss=84083.98 active=82392 feature_norm=100.04\n",
            "Iter 88  time=15.25 loss=84063.08 active=81939 feature_norm=100.29\n",
            "Iter 89  time=16.35 loss=84044.38 active=81510 feature_norm=100.55\n",
            "Iter 90  time=16.06 loss=84027.61 active=81177 feature_norm=100.71\n",
            "Iter 91  time=15.62 loss=84010.44 active=80760 feature_norm=100.91\n",
            "Iter 92  time=16.93 loss=83995.89 active=80504 feature_norm=101.06\n",
            "Iter 93  time=16.67 loss=83979.27 active=79948 feature_norm=101.23\n",
            "Iter 94  time=17.38 loss=83966.81 active=79622 feature_norm=101.35\n",
            "Iter 95  time=16.41 loss=83954.88 active=79436 feature_norm=101.49\n",
            "Iter 96  time=16.75 loss=83943.50 active=79202 feature_norm=101.59\n",
            "Iter 97  time=16.80 loss=83931.64 active=78934 feature_norm=101.73\n",
            "Iter 98  time=16.46 loss=83922.12 active=78660 feature_norm=101.83\n",
            "Iter 99  time=16.67 loss=83913.13 active=78373 feature_norm=101.96\n",
            "Iter 100 time=15.93 loss=83904.92 active=78128 feature_norm=102.05\n",
            "Iter 101 time=16.32 loss=83896.72 active=77938 feature_norm=102.17\n",
            "Iter 102 time=15.81 loss=83888.92 active=77748 feature_norm=102.26\n",
            "Iter 103 time=17.07 loss=83881.92 active=77527 feature_norm=102.37\n",
            "Iter 104 time=17.05 loss=83875.53 active=77302 feature_norm=102.45\n",
            "Iter 105 time=16.43 loss=83869.28 active=77170 feature_norm=102.55\n",
            "Iter 106 time=17.69 loss=83863.40 active=77037 feature_norm=102.62\n",
            "Iter 107 time=17.30 loss=83858.14 active=76810 feature_norm=102.72\n",
            "Iter 108 time=16.75 loss=83853.22 active=76711 feature_norm=102.76\n",
            "Iter 109 time=16.59 loss=83847.83 active=76586 feature_norm=102.84\n",
            "Iter 110 time=16.69 loss=83842.66 active=76365 feature_norm=102.89\n",
            "Iter 111 time=15.71 loss=83838.80 active=76239 feature_norm=102.96\n",
            "Iter 112 time=15.40 loss=83834.96 active=76197 feature_norm=103.00\n",
            "Iter 113 time=15.41 loss=83830.86 active=76072 feature_norm=103.06\n",
            "Iter 114 time=15.34 loss=83826.84 active=75925 feature_norm=103.11\n",
            "Iter 115 time=15.37 loss=83823.43 active=75851 feature_norm=103.16\n",
            "Iter 116 time=15.31 loss=83820.02 active=75763 feature_norm=103.19\n",
            "Iter 117 time=15.27 loss=83816.87 active=75606 feature_norm=103.24\n",
            "Iter 118 time=15.21 loss=83813.43 active=75464 feature_norm=103.27\n",
            "Iter 119 time=15.26 loss=83810.26 active=75377 feature_norm=103.31\n",
            "Iter 120 time=15.37 loss=83807.22 active=75230 feature_norm=103.34\n"
          ]
        },
        {
          "name": "stdout",
          "output_type": "stream",
          "text": [
            "Iter 121 time=15.15 loss=83804.13 active=75133 feature_norm=103.38\n",
            "Iter 122 time=15.32 loss=83801.21 active=74976 feature_norm=103.41\n",
            "Iter 123 time=15.43 loss=83798.29 active=74858 feature_norm=103.46\n",
            "Iter 124 time=16.67 loss=83795.59 active=74687 feature_norm=103.50\n",
            "Iter 125 time=16.82 loss=83793.14 active=74607 feature_norm=103.54\n",
            "Iter 126 time=18.76 loss=83790.86 active=74510 feature_norm=103.55\n",
            "Iter 127 time=17.35 loss=83788.57 active=74457 feature_norm=103.57\n",
            "Iter 128 time=15.58 loss=83786.24 active=74370 feature_norm=103.59\n",
            "Iter 129 time=13.96 loss=83784.10 active=74325 feature_norm=103.62\n",
            "Iter 130 time=13.92 loss=83782.08 active=74285 feature_norm=103.62\n",
            "Iter 131 time=13.88 loss=83780.04 active=74228 feature_norm=103.65\n",
            "Iter 132 time=15.21 loss=83777.84 active=74158 feature_norm=103.67\n",
            "Iter 133 time=13.90 loss=83775.90 active=74066 feature_norm=103.70\n",
            "Iter 134 time=13.77 loss=83774.21 active=74033 feature_norm=103.72\n",
            "Iter 135 time=13.91 loss=83772.66 active=73992 feature_norm=103.75\n",
            "Iter 136 time=13.78 loss=83770.93 active=73908 feature_norm=103.77\n",
            "Iter 137 time=13.95 loss=83768.92 active=73838 feature_norm=103.81\n",
            "Iter 138 time=13.77 loss=83767.13 active=73723 feature_norm=103.83\n",
            "Iter 139 time=13.93 loss=83765.54 active=73723 feature_norm=103.87\n",
            "Iter 140 time=14.97 loss=83764.13 active=73664 feature_norm=103.88\n",
            "Iter 141 time=15.31 loss=83762.55 active=73617 feature_norm=103.90\n",
            "Iter 142 time=15.94 loss=83761.13 active=73562 feature_norm=103.92\n",
            "Iter 143 time=16.38 loss=83759.90 active=73615 feature_norm=103.96\n",
            "Iter 144 time=14.10 loss=83758.74 active=73533 feature_norm=103.96\n",
            "Iter 145 time=13.80 loss=83757.57 active=73439 feature_norm=103.98\n",
            "Iter 146 time=13.92 loss=83756.17 active=73337 feature_norm=104.00\n",
            "Iter 147 time=14.36 loss=83755.06 active=73304 feature_norm=104.04\n",
            "Iter 148 time=14.64 loss=83754.03 active=73262 feature_norm=104.04\n",
            "Iter 149 time=15.32 loss=83753.11 active=73252 feature_norm=104.06\n",
            "Iter 150 time=14.74 loss=83751.94 active=73143 feature_norm=104.08\n",
            "Iter 151 time=14.88 loss=83750.87 active=73099 feature_norm=104.11\n",
            "Iter 152 time=14.52 loss=83749.95 active=73027 feature_norm=104.12\n",
            "Iter 153 time=14.50 loss=83749.04 active=73004 feature_norm=104.15\n",
            "Iter 154 time=14.23 loss=83748.00 active=72943 feature_norm=104.15\n",
            "Iter 155 time=14.68 loss=83747.06 active=72872 feature_norm=104.19\n",
            "Iter 156 time=14.10 loss=83746.33 active=72827 feature_norm=104.19\n",
            "Iter 157 time=14.12 loss=83745.54 active=72828 feature_norm=104.22\n",
            "Iter 158 time=14.00 loss=83744.80 active=72797 feature_norm=104.22\n",
            "Iter 159 time=13.99 loss=83743.88 active=72734 feature_norm=104.24\n",
            "Iter 160 time=14.08 loss=83743.18 active=72690 feature_norm=104.24\n",
            "Iter 161 time=14.00 loss=83742.41 active=72705 feature_norm=104.27\n",
            "Iter 162 time=14.03 loss=83741.73 active=72642 feature_norm=104.27\n",
            "Iter 163 time=13.77 loss=83741.05 active=72656 feature_norm=104.29\n",
            "Iter 164 time=13.72 loss=83740.34 active=72630 feature_norm=104.30\n",
            "Iter 165 time=13.99 loss=83739.66 active=72612 feature_norm=104.34\n",
            "Iter 166 time=14.30 loss=83738.96 active=72579 feature_norm=104.33\n",
            "Iter 167 time=15.81 loss=83738.32 active=72572 feature_norm=104.38\n",
            "Iter 168 time=15.79 loss=83737.57 active=72542 feature_norm=104.38\n",
            "Iter 169 time=14.32 loss=83736.98 active=72509 feature_norm=104.42\n",
            "Iter 170 time=14.18 loss=83736.29 active=72507 feature_norm=104.43\n",
            "Iter 171 time=14.05 loss=83735.77 active=72478 feature_norm=104.47\n",
            "Iter 172 time=14.43 loss=83735.04 active=72426 feature_norm=104.48\n",
            "Iter 173 time=14.87 loss=83734.48 active=72457 feature_norm=104.52\n",
            "Iter 174 time=14.07 loss=83733.75 active=72472 feature_norm=104.52\n",
            "Iter 175 time=14.91 loss=83733.21 active=72444 feature_norm=104.55\n",
            "Iter 176 time=15.70 loss=83732.63 active=72400 feature_norm=104.55\n",
            "Iter 177 time=15.83 loss=83732.14 active=72404 feature_norm=104.59\n",
            "Iter 178 time=14.49 loss=83731.45 active=72404 feature_norm=104.59\n",
            "Iter 179 time=14.60 loss=83731.00 active=72422 feature_norm=104.62\n",
            "Iter 180 time=14.55 loss=83730.46 active=72404 feature_norm=104.63\n",
            "Iter 181 time=14.98 loss=83729.94 active=72380 feature_norm=104.64\n",
            "Iter 182 time=14.94 loss=83729.56 active=72337 feature_norm=104.65\n",
            "Iter 183 time=14.86 loss=83729.08 active=72338 feature_norm=104.67\n",
            "Iter 184 time=15.84 loss=83728.59 active=72332 feature_norm=104.68\n",
            "Iter 185 time=14.74 loss=83727.95 active=72352 feature_norm=104.69\n",
            "Iter 186 time=14.95 loss=83727.53 active=72337 feature_norm=104.70\n",
            "Iter 187 time=14.35 loss=83727.13 active=72351 feature_norm=104.71\n",
            "Iter 188 time=14.02 loss=83726.88 active=72310 feature_norm=104.72\n",
            "Iter 189 time=14.04 loss=83726.29 active=72289 feature_norm=104.74\n",
            "Iter 190 time=14.09 loss=83725.93 active=72268 feature_norm=104.74\n",
            "Iter 191 time=14.11 loss=83725.52 active=72248 feature_norm=104.76\n",
            "Iter 192 time=14.17 loss=83725.13 active=72248 feature_norm=104.76\n",
            "Iter 193 time=14.48 loss=83724.79 active=72233 feature_norm=104.78\n",
            "Iter 194 time=14.06 loss=83724.46 active=72204 feature_norm=104.79\n",
            "Iter 195 time=14.32 loss=83724.02 active=72216 feature_norm=104.80\n",
            "Iter 196 time=15.21 loss=83723.69 active=72217 feature_norm=104.81\n",
            "Iter 197 time=14.57 loss=83723.21 active=72213 feature_norm=104.83\n",
            "Iter 198 time=15.02 loss=83722.89 active=72177 feature_norm=104.83\n",
            "Iter 199 time=15.14 loss=83722.47 active=72179 feature_norm=104.85\n",
            "Iter 200 time=15.31 loss=83722.21 active=72175 feature_norm=104.86\n",
            "Iter 201 time=14.12 loss=83721.76 active=72197 feature_norm=104.88\n",
            "Iter 202 time=13.88 loss=83721.46 active=72220 feature_norm=104.89\n",
            "Iter 203 time=13.82 loss=83721.02 active=72224 feature_norm=104.90\n",
            "Iter 204 time=13.74 loss=83720.62 active=72230 feature_norm=104.92\n",
            "Iter 205 time=13.62 loss=83720.27 active=72243 feature_norm=104.93\n",
            "Iter 206 time=13.90 loss=83719.98 active=72220 feature_norm=104.95\n",
            "Iter 207 time=13.78 loss=83719.51 active=72242 feature_norm=104.96\n",
            "Iter 208 time=13.76 loss=83719.22 active=72214 feature_norm=104.98\n",
            "Iter 209 time=13.85 loss=83718.89 active=72218 feature_norm=104.99\n",
            "Iter 210 time=13.90 loss=83718.66 active=72240 feature_norm=105.01\n",
            "Iter 211 time=14.01 loss=83718.30 active=72233 feature_norm=105.02\n",
            "Iter 212 time=13.69 loss=83718.10 active=72211 feature_norm=105.04\n",
            "Iter 213 time=13.69 loss=83717.79 active=72223 feature_norm=105.05\n",
            "Iter 214 time=13.80 loss=83717.63 active=72207 feature_norm=105.07\n",
            "Iter 215 time=13.77 loss=83717.26 active=72197 feature_norm=105.09\n",
            "Iter 216 time=13.71 loss=83717.05 active=72220 feature_norm=105.09\n",
            "Iter 217 time=13.66 loss=83716.76 active=72213 feature_norm=105.10\n",
            "Iter 218 time=13.92 loss=83716.58 active=72174 feature_norm=105.10\n",
            "Iter 219 time=13.89 loss=83716.26 active=72162 feature_norm=105.12\n",
            "Iter 220 time=13.68 loss=83716.00 active=72138 feature_norm=105.12\n",
            "Iter 221 time=13.72 loss=83715.72 active=72135 feature_norm=105.13\n",
            "Iter 222 time=14.01 loss=83715.48 active=72126 feature_norm=105.13\n",
            "Iter 223 time=13.90 loss=83715.19 active=72110 feature_norm=105.15\n",
            "Iter 224 time=13.84 loss=83714.94 active=72096 feature_norm=105.15\n",
            "Iter 225 time=13.71 loss=83714.62 active=72094 feature_norm=105.16\n",
            "Iter 226 time=13.62 loss=83714.35 active=72088 feature_norm=105.17\n",
            "Iter 227 time=13.89 loss=83714.03 active=72095 feature_norm=105.18\n",
            "Iter 228 time=13.88 loss=83713.75 active=72075 feature_norm=105.18\n",
            "Iter 229 time=13.78 loss=83713.43 active=72070 feature_norm=105.20\n",
            "Iter 230 time=13.68 loss=83713.17 active=72056 feature_norm=105.20\n",
            "Iter 231 time=13.58 loss=83712.82 active=72062 feature_norm=105.21\n",
            "Iter 232 time=15.71 loss=83712.52 active=72064 feature_norm=105.22\n",
            "Iter 233 time=14.86 loss=83712.14 active=72079 feature_norm=105.23\n",
            "Iter 234 time=15.68 loss=83711.83 active=72075 feature_norm=105.24\n",
            "Iter 235 time=14.26 loss=83711.42 active=72069 feature_norm=105.25\n",
            "Iter 236 time=14.60 loss=83711.11 active=72056 feature_norm=105.25\n",
            "Iter 237 time=14.73 loss=83710.72 active=72046 feature_norm=105.27\n",
            "Iter 238 time=14.09 loss=83710.38 active=72032 feature_norm=105.27\n",
            "Iter 239 time=14.30 loss=83709.98 active=72004 feature_norm=105.29\n",
            "Iter 240 time=15.29 loss=83709.66 active=71999 feature_norm=105.29\n",
            "Iter 241 time=14.09 loss=83709.31 active=72013 feature_norm=105.31\n",
            "Iter 242 time=13.69 loss=83708.98 active=71995 feature_norm=105.32\n",
            "Iter 243 time=13.89 loss=83708.60 active=72003 feature_norm=105.33\n",
            "Iter 244 time=13.97 loss=83708.31 active=71974 feature_norm=105.34\n",
            "Iter 245 time=13.74 loss=83708.04 active=71941 feature_norm=105.36\n"
          ]
        },
        {
          "name": "stdout",
          "output_type": "stream",
          "text": [
            "Iter 246 time=13.83 loss=83707.68 active=71925 feature_norm=105.36\n",
            "Iter 247 time=14.37 loss=83707.35 active=71940 feature_norm=105.37\n",
            "Iter 248 time=15.73 loss=83707.06 active=71945 feature_norm=105.38\n",
            "Iter 249 time=15.09 loss=83706.74 active=71951 feature_norm=105.39\n",
            "Iter 250 time=13.67 loss=83706.48 active=71938 feature_norm=105.39\n",
            "Iter 251 time=13.75 loss=83706.17 active=71940 feature_norm=105.41\n",
            "Iter 252 time=13.79 loss=83705.90 active=71898 feature_norm=105.41\n",
            "Iter 253 time=13.78 loss=83705.57 active=71922 feature_norm=105.43\n",
            "Iter 254 time=14.22 loss=83705.30 active=71912 feature_norm=105.43\n",
            "Iter 255 time=14.73 loss=83705.01 active=71903 feature_norm=105.44\n",
            "Iter 256 time=15.86 loss=83704.78 active=71892 feature_norm=105.44\n",
            "Iter 257 time=14.42 loss=83704.48 active=71890 feature_norm=105.45\n",
            "Iter 258 time=14.14 loss=83704.24 active=71877 feature_norm=105.45\n",
            "Iter 259 time=13.98 loss=83703.97 active=71885 feature_norm=105.47\n",
            "Iter 260 time=13.99 loss=83703.74 active=71868 feature_norm=105.47\n",
            "Iter 261 time=14.41 loss=83703.48 active=71887 feature_norm=105.48\n",
            "Iter 262 time=14.05 loss=83703.24 active=71873 feature_norm=105.48\n",
            "Iter 263 time=13.98 loss=83703.02 active=71876 feature_norm=105.49\n",
            "Iter 264 time=13.89 loss=83702.78 active=71875 feature_norm=105.49\n",
            "Iter 265 time=14.05 loss=83702.56 active=71893 feature_norm=105.50\n",
            "Iter 266 time=14.12 loss=83702.32 active=71866 feature_norm=105.50\n",
            "Iter 267 time=14.03 loss=83702.10 active=71882 feature_norm=105.51\n",
            "Iter 268 time=13.99 loss=83701.87 active=71863 feature_norm=105.51\n",
            "Iter 269 time=13.98 loss=83701.65 active=71866 feature_norm=105.52\n",
            "Iter 270 time=14.31 loss=83701.44 active=71862 feature_norm=105.52\n",
            "Iter 271 time=14.11 loss=83701.24 active=71873 feature_norm=105.53\n",
            "Iter 272 time=14.16 loss=83701.05 active=71866 feature_norm=105.53\n",
            "Iter 273 time=14.30 loss=83700.88 active=71845 feature_norm=105.54\n",
            "Iter 274 time=13.99 loss=83700.70 active=71842 feature_norm=105.55\n",
            "Iter 275 time=14.12 loss=83700.51 active=71826 feature_norm=105.56\n",
            "Iter 276 time=13.96 loss=83700.33 active=71816 feature_norm=105.56\n",
            "Iter 277 time=14.14 loss=83700.15 active=71817 feature_norm=105.57\n",
            "Iter 278 time=14.21 loss=83699.95 active=71805 feature_norm=105.57\n",
            "Iter 279 time=14.26 loss=83699.74 active=71792 feature_norm=105.58\n",
            "Iter 280 time=14.03 loss=83699.51 active=71794 feature_norm=105.58\n",
            "Iter 281 time=13.96 loss=83699.34 active=71783 feature_norm=105.59\n",
            "Iter 282 time=13.90 loss=83699.11 active=71769 feature_norm=105.59\n",
            "Iter 283 time=14.14 loss=83698.93 active=71766 feature_norm=105.59\n",
            "Iter 284 time=13.90 loss=83698.74 active=71770 feature_norm=105.60\n",
            "Iter 285 time=14.01 loss=83698.51 active=71770 feature_norm=105.60\n",
            "Iter 286 time=13.97 loss=83698.27 active=71731 feature_norm=105.60\n",
            "Iter 287 time=13.87 loss=83698.03 active=71716 feature_norm=105.61\n",
            "Iter 288 time=14.14 loss=83697.81 active=71720 feature_norm=105.61\n",
            "Iter 289 time=14.02 loss=83697.59 active=71714 feature_norm=105.61\n",
            "Iter 290 time=13.91 loss=83697.35 active=71705 feature_norm=105.61\n",
            "Iter 291 time=14.04 loss=83697.18 active=71682 feature_norm=105.62\n",
            "Iter 292 time=14.12 loss=83696.92 active=71658 feature_norm=105.62\n",
            "Iter 293 time=13.99 loss=83696.76 active=71635 feature_norm=105.62\n",
            "Iter 294 time=13.92 loss=83696.58 active=71618 feature_norm=105.62\n",
            "Iter 295 time=13.88 loss=83696.36 active=71604 feature_norm=105.62\n",
            "Iter 296 time=14.41 loss=83696.14 active=71567 feature_norm=105.62\n",
            "Iter 297 time=13.89 loss=83695.93 active=71555 feature_norm=105.62\n",
            "Iter 298 time=13.90 loss=83695.75 active=71551 feature_norm=105.62\n",
            "Iter 299 time=14.11 loss=83695.57 active=71554 feature_norm=105.63\n",
            "Iter 300 time=13.93 loss=83695.35 active=71531 feature_norm=105.63\n",
            "Iter 301 time=13.96 loss=83695.14 active=71491 feature_norm=105.63\n",
            "Iter 302 time=13.96 loss=83694.95 active=71460 feature_norm=105.63\n",
            "Iter 303 time=14.10 loss=83694.77 active=71437 feature_norm=105.63\n",
            "Iter 304 time=14.04 loss=83694.56 active=71424 feature_norm=105.63\n",
            "Iter 305 time=14.12 loss=83694.34 active=71376 feature_norm=105.63\n",
            "Iter 306 time=13.99 loss=83694.17 active=71349 feature_norm=105.63\n",
            "Iter 307 time=14.41 loss=83693.99 active=71314 feature_norm=105.63\n",
            "Iter 308 time=14.13 loss=83693.82 active=71268 feature_norm=105.62\n",
            "Iter 309 time=15.61 loss=83693.66 active=71272 feature_norm=105.63\n",
            "Iter 310 time=16.25 loss=83693.50 active=71195 feature_norm=105.63\n",
            "Iter 311 time=16.43 loss=83693.34 active=71185 feature_norm=105.63\n",
            "Iter 312 time=14.96 loss=83693.19 active=71164 feature_norm=105.63\n",
            "Iter 313 time=15.11 loss=83693.04 active=71143 feature_norm=105.63\n",
            "Iter 314 time=13.98 loss=83692.86 active=71097 feature_norm=105.63\n",
            "Iter 315 time=13.89 loss=83692.66 active=71046 feature_norm=105.63\n",
            "Iter 316 time=13.93 loss=83692.49 active=71007 feature_norm=105.62\n",
            "Iter 317 time=14.60 loss=83692.34 active=70986 feature_norm=105.63\n",
            "Iter 318 time=13.34 loss=83692.21 active=70962 feature_norm=105.62\n",
            "Iter 319 time=13.18 loss=83692.06 active=70957 feature_norm=105.63\n",
            "Iter 320 time=13.19 loss=83691.91 active=70942 feature_norm=105.63\n",
            "Iter 321 time=13.92 loss=83691.77 active=70945 feature_norm=105.63\n",
            "Iter 322 time=13.91 loss=83691.63 active=70946 feature_norm=105.63\n",
            "Iter 323 time=13.69 loss=83691.50 active=70935 feature_norm=105.63\n",
            "Iter 324 time=13.81 loss=83691.37 active=70891 feature_norm=105.63\n",
            "Iter 325 time=13.83 loss=83691.26 active=70912 feature_norm=105.63\n",
            "Iter 326 time=14.03 loss=83691.14 active=70882 feature_norm=105.63\n",
            "Iter 327 time=13.76 loss=83691.04 active=70854 feature_norm=105.64\n",
            "Iter 328 time=13.74 loss=83690.89 active=70853 feature_norm=105.64\n",
            "Iter 329 time=13.83 loss=83690.78 active=70839 feature_norm=105.64\n",
            "Iter 330 time=14.01 loss=83690.66 active=70836 feature_norm=105.64\n",
            "Iter 331 time=13.94 loss=83690.56 active=70843 feature_norm=105.64\n",
            "Iter 332 time=13.87 loss=83690.43 active=70807 feature_norm=105.64\n",
            "Iter 333 time=14.41 loss=83690.31 active=70799 feature_norm=105.64\n",
            "Iter 334 time=14.96 loss=83690.20 active=70768 feature_norm=105.65\n",
            "Iter 335 time=14.03 loss=83690.08 active=70772 feature_norm=105.65\n",
            "Iter 336 time=14.47 loss=83689.98 active=70773 feature_norm=105.65\n",
            "Iter 337 time=14.89 loss=83689.87 active=70792 feature_norm=105.66\n",
            "Iter 338 time=14.57 loss=83689.76 active=70771 feature_norm=105.66\n",
            "Iter 339 time=15.02 loss=83689.63 active=70743 feature_norm=105.67\n",
            "Iter 340 time=14.41 loss=83689.52 active=70737 feature_norm=105.66\n",
            "Iter 341 time=14.57 loss=83689.40 active=70739 feature_norm=105.67\n",
            "Iter 342 time=15.57 loss=83689.31 active=70730 feature_norm=105.67\n",
            "Iter 343 time=14.73 loss=83689.18 active=70730 feature_norm=105.68\n",
            "Iter 344 time=14.04 loss=83689.09 active=70717 feature_norm=105.68\n",
            "Iter 345 time=14.99 loss=83688.98 active=70714 feature_norm=105.69\n",
            "Iter 346 time=14.75 loss=83688.89 active=70691 feature_norm=105.69\n",
            "Iter 347 time=14.46 loss=83688.75 active=70697 feature_norm=105.70\n",
            "Iter 348 time=14.25 loss=83688.66 active=70696 feature_norm=105.70\n",
            "Iter 349 time=14.49 loss=83688.53 active=70705 feature_norm=105.71\n",
            "Iter 350 time=15.68 loss=83688.46 active=70691 feature_norm=105.71\n",
            "Iter 351 time=15.55 loss=83688.34 active=70680 feature_norm=105.72\n",
            "Iter 352 time=14.70 loss=83688.28 active=70641 feature_norm=105.72\n",
            "Iter 353 time=13.97 loss=83688.15 active=70648 feature_norm=105.74\n",
            "Iter 354 time=14.51 loss=83688.07 active=70652 feature_norm=105.74\n",
            "Iter 355 time=14.25 loss=83687.95 active=70683 feature_norm=105.75\n",
            "Iter 356 time=14.31 loss=83687.89 active=70680 feature_norm=105.75\n",
            "Iter 357 time=15.43 loss=83687.79 active=70683 feature_norm=105.76\n",
            "Iter 358 time=15.74 loss=83687.77 active=70665 feature_norm=105.77\n",
            "Iter 359 time=14.28 loss=83687.60 active=70661 feature_norm=105.78\n",
            "Iter 360 time=14.55 loss=83687.55 active=70658 feature_norm=105.78\n",
            "Iter 361 time=14.92 loss=83687.44 active=70657 feature_norm=105.79\n",
            "Iter 362 time=14.47 loss=83687.35 active=70654 feature_norm=105.79\n",
            "Iter 363 time=13.83 loss=83687.26 active=70647 feature_norm=105.81\n",
            "Iter 364 time=13.62 loss=83687.22 active=70638 feature_norm=105.81\n",
            "Iter 365 time=13.27 loss=83687.14 active=70694 feature_norm=105.83\n",
            "L-BFGS terminated with the stopping criteria\n",
            "Total seconds required for training: 5564.462\n",
            "\n",
            "Storing the model\n",
            "Number of active features: 70694 (11713087)\n",
            "Number of active attributes: 39243 (11494141)\n",
            "Number of active labels: 2 (2)\n",
            "Writing labels\n",
            "Writing attributes\n",
            "Writing feature references for transitions\n",
            "Writing feature references for attributes\n",
            "Seconds required: 3.140\n",
            "\n"
          ]
        },
        {
          "name": "stdout",
          "output_type": "stream",
          "text": [
            "Wall time: 1h 43min 24s\n"
          ]
        },
        {
          "data": {
            "text/plain": [
              "CRF(algorithm='lbfgs', all_possible_transitions=True, c1=1, c2=0,\n",
              "    keep_tempfiles=None, max_iterations=1000, verbose=True)"
            ]
          },
          "execution_count": 28,
          "metadata": {},
          "output_type": "execute_result"
        }
      ],
      "source": [
        "%%time\n",
        "crf.fit(X_train, y_train)"
      ]
    },
    {
      "cell_type": "code",
      "execution_count": null,
      "id": "b50a3845",
      "metadata": {
        "id": "b50a3845",
        "outputId": "6fdfd8d1-855d-4638-b8d1-b9a857391617"
      },
      "outputs": [
        {
          "data": {
            "text/plain": [
              "['./model/crfsklearn_lst20_addedPOSWin3Ng3.pkl']"
            ]
          },
          "execution_count": 29,
          "metadata": {},
          "output_type": "execute_result"
        }
      ],
      "source": [
        "import joblib\n",
        "\n",
        "joblib_file = './model/crfsklearn_lst20_addedPOSWin3Ng3.pkl'\n",
        "joblib.dump(crf,joblib_file)"
      ]
    },
    {
      "cell_type": "code",
      "execution_count": null,
      "id": "00ec4892",
      "metadata": {
        "id": "00ec4892"
      },
      "outputs": [],
      "source": [
        "import joblib\n",
        "joblib_file = './model/crfsklearn_lst20_addedPOSWin3Ng3.pkl'\n",
        "crf = joblib.load(joblib_file)"
      ]
    },
    {
      "cell_type": "code",
      "execution_count": null,
      "id": "78f9530d",
      "metadata": {
        "id": "78f9530d"
      },
      "outputs": [],
      "source": [
        "labels = list(crf.classes_)\n",
        "labels\n",
        "sorted_labels = sorted(\n",
        "    labels, \n",
        "    key=lambda name: (name[1:], name[0])\n",
        ")"
      ]
    },
    {
      "cell_type": "code",
      "execution_count": null,
      "id": "0ddf0b77",
      "metadata": {
        "id": "0ddf0b77"
      },
      "outputs": [],
      "source": [
        "y_pred = crf.predict(X_valid)"
      ]
    },
    {
      "cell_type": "code",
      "execution_count": null,
      "id": "0276bdfc",
      "metadata": {
        "scrolled": false,
        "id": "0276bdfc",
        "outputId": "98b91243-6484-4255-858d-0a27536fa4c7"
      },
      "outputs": [
        {
          "name": "stdout",
          "output_type": "stream",
          "text": [
            "              precision    recall  f1-score   support\n",
            "\n",
            "           E      0.809     0.608     0.694      5620\n",
            "           I      0.990     0.996     0.993    220960\n",
            "\n",
            "    accuracy                          0.987    226580\n",
            "   macro avg      0.900     0.802     0.844    226580\n",
            "weighted avg      0.986     0.987     0.986    226580\n",
            "\n"
          ]
        },
        {
          "data": {
            "text/plain": [
              "0.9858024019139024"
            ]
          },
          "execution_count": 33,
          "metadata": {},
          "output_type": "execute_result"
        }
      ],
      "source": [
        "# group B and I results\n",
        "sorted_labels = sorted(\n",
        "    labels, \n",
        "    key=lambda name: (name[1:], name[0])\n",
        ")\n",
        "print(metrics.flat_classification_report(\n",
        "    y_valid, y_pred, labels=sorted_labels, digits=3\n",
        "))\n",
        "metrics.flat_f1_score(y_valid, y_pred, \n",
        "                      average='weighted', labels=sorted_labels)"
      ]
    },
    {
      "cell_type": "code",
      "execution_count": null,
      "id": "764eba4a",
      "metadata": {
        "id": "764eba4a",
        "outputId": "2aef027f-bb85-40c7-a452-ecab1df520f6"
      },
      "outputs": [
        {
          "name": "stdout",
          "output_type": "stream",
          "text": [
            "Error space correct: 0.016057653810222873 from shape: (187325, 5)\n",
            "Accuracy space correct: 0.98\n"
          ]
        }
      ],
      "source": [
        "results = []\n",
        "for i in range(len(y_valid)):\n",
        "    s=0\n",
        "    for j in range(len(y_valid[i])):\n",
        "        results.append({'sentence_idx':f'{str(i).zfill(3)}_{str(s).zfill(3)}',\n",
        "                        'word':X_valid[i][j][11].split('=')[1],\n",
        "                        'y':y_valid[i][j],\n",
        "                        'pred':y_pred[i][j]})\n",
        "        if y_valid[i][j]=='E': s+=1\n",
        "result_df = pd.DataFrame(results)[['sentence_idx','word','y','pred']]\n",
        "result_df['wrong_flag'] = result_df.apply(lambda row: 0 if row.y==row.pred else 1,1)\n",
        "\n",
        "#space correct\n",
        "space_df = result_df.copy()\n",
        "space_df = space_df[space_df.word!=' ']\n",
        "print(f\"Error space correct: {space_df.wrong_flag.mean()} from shape: {space_df.shape}\")\n",
        "print(f\"Accuracy space correct: {1 - space_df.wrong_flag.mean():.2f}\")"
      ]
    },
    {
      "cell_type": "markdown",
      "id": "da494918",
      "metadata": {
        "id": "da494918"
      },
      "source": [
        "### Validation with Other Dataset (TED, Orchid, Fake Review)"
      ]
    },
    {
      "cell_type": "code",
      "execution_count": null,
      "id": "42b381ec",
      "metadata": {
        "id": "42b381ec"
      },
      "outputs": [],
      "source": [
        "orchid = pd.read_csv('Orchid/orchid97.crp.utf',sep='\\t',header=None)\n",
        "orchid.columns = ['text']\n",
        "#remove weird words\n",
        "orchid['first_char'] = orchid.text.map(lambda x: x[0])\n",
        "orchid = orchid[(orchid.first_char!='%')&(orchid.first_char!='#')][['text']]\n",
        "#get word,pos\n",
        "orchid['word'] = orchid.text.map(lambda x: x.split('/')[0])\n",
        "orchid['word'] = orchid.word.map(lambda x: ' ' if (x=='<space>')|(x=='') else x)\n",
        "orchid['pos'] = orchid.text.map(lambda x: x.split('/')[1] if len(x.split('/'))==2 else None)\n",
        "#labels\n",
        "orchid['lab'] = orchid.apply(lambda row: 'E' if row['text']=='//' else 'I',1)\n",
        "orchid = orchid[(orchid.lab=='E')|(~orchid.pos.isna())].reset_index(drop=True)"
      ]
    },
    {
      "cell_type": "code",
      "execution_count": null,
      "id": "4a04b5a9",
      "metadata": {
        "id": "4a04b5a9",
        "outputId": "7a2db188-f2ca-4257-a7cb-9a25de306866"
      },
      "outputs": [
        {
          "name": "stdout",
          "output_type": "stream",
          "text": [
            "Wall time: 1.56 s\n"
          ]
        }
      ],
      "source": [
        "%%time\n",
        "ted_all_sentences = np.load('LST20/ted-all-sentences.npy') \n",
        "fake_review_all_sentences = np.load('LST20/fake-review-all-sentences.npy') # Sample from 3 datasets\n",
        "# Sample from 3 datasets\n",
        "np.random.seed(42)\n",
        "ratio = .25 # sample ratio\n",
        "ted_sample = np.random.choice(ted_all_sentences, int(len(ted_all_sentences) * ratio))\n",
        "orchid_sample = orchid.iloc[:int(len(orchid) * ratio)]\n",
        "# fake_review_sample = np.random.choice(fake_review_all_sentences, int(len(fake_review_all_sentences) * ratio))\n",
        "fake_review_train, fake_review_test = fake_review_all_sentences[:-39632], fake_review_all_sentences[-39632:]\n",
        "fake_review_sample = np.random.choice(fake_review_train, int(len(fake_review_all_sentences) * ratio))\n",
        "fake_review_test_sample = np.random.choice(fake_review_test, int(len(fake_review_test) * ratio))"
      ]
    },
    {
      "cell_type": "code",
      "execution_count": null,
      "id": "c59b9b6b",
      "metadata": {
        "id": "c59b9b6b",
        "outputId": "835bd7e7-dd85-40a8-85f2-1e92744bed98"
      },
      "outputs": [
        {
          "name": "stdout",
          "output_type": "stream",
          "text": [
            "Length of TED talk (talk): 385\n",
            "Length of orchid (word): 91453\n",
            "Length of fake review train (review): 49540\n",
            "Length of fake review test (review): 9908\n"
          ]
        }
      ],
      "source": [
        "print(f\"Length of TED talk (talk): {len(ted_sample)}\")\n",
        "print(f\"Length of orchid (word): {len(orchid_sample)}\")\n",
        "print(f\"Length of fake review train (review): {len(fake_review_sample)}\")\n",
        "print(f\"Length of fake review test (review): {len(fake_review_test_sample)}\")"
      ]
    },
    {
      "cell_type": "code",
      "execution_count": null,
      "id": "8efebbc5",
      "metadata": {
        "id": "8efebbc5",
        "outputId": "dee751bd-93d5-47af-d0a2-c9e5d1bc098d"
      },
      "outputs": [
        {
          "name": "stderr",
          "output_type": "stream",
          "text": [
            "100%|████████████████████████████████████████████████████████████████████████████████| 385/385 [00:07<00:00, 48.77it/s]\n",
            "100%|██████████████████████████████████████████████████████████████████████████| 49540/49540 [00:34<00:00, 1423.39it/s]\n",
            "100%|████████████████████████████████████████████████████████████████████████████| 9908/9908 [00:05<00:00, 1680.50it/s]"
          ]
        },
        {
          "name": "stdout",
          "output_type": "stream",
          "text": [
            "Wall time: 54.5 s\n"
          ]
        },
        {
          "name": "stderr",
          "output_type": "stream",
          "text": [
            "\n"
          ]
        }
      ],
      "source": [
        "\n",
        "%%time\n",
        "def assign_word_lab(all_sentences):\n",
        "    all_tuples = []\n",
        "    for i in tqdm(range(len(all_sentences)), total=len(all_sentences)):\n",
        "        tuples = []\n",
        "        for s in all_sentences[i].split('|'):\n",
        "            s_lst = word_tokenize(s)\n",
        "            for j in range(len(s_lst)):\n",
        "                lab = 'E' if j==len(s_lst)-1 else 'I'\n",
        "                tuples.append((s_lst[j],lab))\n",
        "        all_tuples.append(tuples)\n",
        "    return all_tuples\n",
        "\n",
        "ted_all_tuples = assign_word_lab(ted_sample)\n",
        "orchid_all_tuples = [(row['word'],row['lab']) for i,row in orchid_sample.iterrows()]\n",
        "# fake_review_all_tuples = assign_word_lab(fake_review_sample)\n",
        "fake_review_all_tuples = assign_word_lab(fake_review_sample)\n",
        "fake_review_test_tuples = assign_word_lab(fake_review_test_sample)"
      ]
    },
    {
      "cell_type": "code",
      "execution_count": null,
      "id": "5c4b71a5",
      "metadata": {
        "id": "5c4b71a5",
        "outputId": "380bef9b-cfa2-47d9-927c-35952c7ef492"
      },
      "outputs": [
        {
          "name": "stderr",
          "output_type": "stream",
          "text": [
            "100%|██████████████████████████████████████████████████████████████████████████████| 385/385 [00:00<00:00, 3170.20it/s]\n",
            "100%|██████████████████████████████████████████████████████████████████████████████| 385/385 [00:00<00:00, 3376.68it/s]\n",
            "100%|████████████████████████████████████████████████████████████████████████████████| 385/385 [08:58<00:00,  1.40s/it]"
          ]
        },
        {
          "name": "stdout",
          "output_type": "stream",
          "text": [
            "Wall time: 8min 58s\n"
          ]
        },
        {
          "name": "stderr",
          "output_type": "stream",
          "text": [
            "\n"
          ]
        }
      ],
      "source": [
        "%%time\n",
        "# ted\n",
        "# target\n",
        "ted_y = []\n",
        "for t in tqdm(ted_all_tuples, total=len(ted_all_tuples)):\n",
        "    temp = []\n",
        "    for (w, l) in t:\n",
        "        temp.append(l)\n",
        "    ted_y.append(temp)\n",
        "\n",
        "# features\n",
        "ted_x_pre = []\n",
        "for t in tqdm(ted_all_tuples, total=len(ted_all_tuples)):\n",
        "    temp = []\n",
        "    for (w, l) in t:\n",
        "        temp.append(w)\n",
        "    ted_x_pre.append(temp)\n",
        "ted_x = []\n",
        "for x_ in tqdm(ted_x_pre, total=len(ted_x_pre)):\n",
        "    ted_x.append(extract_features(x_, window=3, max_n_gram = 3))"
      ]
    },
    {
      "cell_type": "code",
      "execution_count": null,
      "id": "11618283",
      "metadata": {
        "id": "11618283",
        "outputId": "3eca7577-139c-4655-d01e-0ce7363e06b8"
      },
      "outputs": [
        {
          "name": "stderr",
          "output_type": "stream",
          "text": [
            "100%|████████████████████████████████████████████████████████████████████████| 91453/91453 [00:00<00:00, 201239.75it/s]\n",
            "100%|███████████████████████████████████████████████████████████████████████| 91453/91453 [00:00<00:00, 1312736.77it/s]\n"
          ]
        },
        {
          "name": "stdout",
          "output_type": "stream",
          "text": [
            "Wall time: 9.56 s\n"
          ]
        }
      ],
      "source": [
        "%%time\n",
        "# orchid\n",
        "# target\n",
        "orchid_y = []\n",
        "for (w, l) in tqdm(orchid_all_tuples, total=len(orchid_all_tuples)):\n",
        "    orchid_y.append(l)\n",
        "# features\n",
        "orchid_x_pre = []\n",
        "for (w, l) in tqdm(orchid_all_tuples, total=len(orchid_all_tuples)):\n",
        "    orchid_x_pre.append(w)\n",
        "orchid_x = extract_features(orchid_x_pre, window=3, max_n_gram = 3) "
      ]
    },
    {
      "cell_type": "code",
      "execution_count": null,
      "id": "3f1416db",
      "metadata": {
        "id": "3f1416db",
        "outputId": "6501abb3-8880-4384-881e-b4007d284712"
      },
      "outputs": [
        {
          "name": "stderr",
          "output_type": "stream",
          "text": [
            "100%|███████████████████████████████████████████████████████████████████████████| 9908/9908 [00:00<00:00, 22926.94it/s]\n",
            "100%|███████████████████████████████████████████████████████████████████████████| 9908/9908 [00:00<00:00, 60038.26it/s]\n",
            "100%|██████████████████████████████████████████████████████████████████████████████| 9908/9908 [10:40<00:00, 15.46it/s]\n"
          ]
        }
      ],
      "source": [
        "fake_review_test_y = []\n",
        "for t in tqdm(fake_review_test_tuples, total=len(fake_review_test_tuples)):\n",
        "    temp = []\n",
        "    for (w, l) in t:\n",
        "        temp.append(l)\n",
        "    fake_review_test_y.append(temp)\n",
        "\n",
        "# features\n",
        "fake_review_test_x_pre = []\n",
        "for t in tqdm(fake_review_test_tuples, total=len(fake_review_test_tuples)):\n",
        "    temp = []\n",
        "    for (w, l) in t:\n",
        "        temp.append(w)\n",
        "    fake_review_test_x_pre.append(temp)\n",
        "fake_review_test_x = []\n",
        "for x_ in tqdm(fake_review_test_x_pre, total=len(fake_review_test_x_pre)):\n",
        "    fake_review_test_x.append(extract_features(x_, window=3, max_n_gram = 3))"
      ]
    },
    {
      "cell_type": "code",
      "execution_count": null,
      "id": "b154b7ea",
      "metadata": {
        "id": "b154b7ea"
      },
      "outputs": [],
      "source": [
        "ted_x_train, ted_x_test, ted_y_train, ted_y_test = train_test_split(ted_x, ted_y, test_size=0.2, random_state=1412)\n",
        "idx = int(len(orchid_x)*0.8)\n",
        "orchid_x_train, orchid_x_test = orchid_x[:idx], orchid_x[idx:]\n",
        "orchid_y_train, orchid_y_test = orchid_y[:idx], orchid_y[idx:]\n",
        "fake_review_x_test = fake_review_test_x\n",
        "fake_review_y_test = fake_review_test_y"
      ]
    },
    {
      "cell_type": "markdown",
      "id": "027a2d2f",
      "metadata": {
        "id": "027a2d2f"
      },
      "source": [
        "### Validation with TED"
      ]
    },
    {
      "cell_type": "code",
      "execution_count": null,
      "id": "55da628e",
      "metadata": {
        "id": "55da628e",
        "outputId": "fb8806dc-5de9-46bc-e592-f612eacdca02"
      },
      "outputs": [
        {
          "name": "stderr",
          "output_type": "stream",
          "text": [
            "100%|███████████████████████████████████████████████████████████████████████████████| 77/77 [00:00<00:00, 76968.88it/s]\n"
          ]
        }
      ],
      "source": [
        "# ted\n",
        "# Predict (using test set)\n",
        "\n",
        "# Evaluate at word-level\n",
        "labels = {'E': 0, \"I\": 1} # classification_report() needs values in 0s and 1s\n",
        "\n",
        "ted_x_test_extract = []\n",
        "ted_y_test_extract = []\n",
        "for xseq, yseq in tqdm(zip(ted_x_test, ted_y_test), total=len(ted_y_test)):\n",
        "    ted_x_test_extract.append(xseq)\n",
        "    ted_y_test_extract.append(yseq)\n",
        "\n",
        "y_pred = crf.predict(ted_x_test_extract)"
      ]
    },
    {
      "cell_type": "code",
      "execution_count": null,
      "id": "565bb0d5",
      "metadata": {
        "id": "565bb0d5",
        "outputId": "6a258986-6bbd-4c94-976e-7c2b2c808be0"
      },
      "outputs": [
        {
          "name": "stdout",
          "output_type": "stream",
          "text": [
            "              precision    recall  f1-score   support\n",
            "\n",
            "           E      0.410     0.146     0.215      6990\n",
            "           I      0.963     0.991     0.976    155114\n",
            "\n",
            "    accuracy                          0.954    162104\n",
            "   macro avg      0.686     0.568     0.596    162104\n",
            "weighted avg      0.939     0.954     0.944    162104\n",
            "\n"
          ]
        },
        {
          "data": {
            "text/plain": [
              "0.9435285985162364"
            ]
          },
          "execution_count": 78,
          "metadata": {},
          "output_type": "execute_result"
        }
      ],
      "source": [
        "# group B and I results\n",
        "sorted_labels = sorted(\n",
        "    labels, \n",
        "    key=lambda name: (name[1:], name[0])\n",
        ")\n",
        "print(metrics.flat_classification_report(\n",
        "    ted_y_test_extract, y_pred, labels=sorted_labels, digits=3\n",
        "))\n",
        "\n",
        "metrics.flat_f1_score(ted_y_test_extract, y_pred, \n",
        "                      average='weighted', labels=sorted_labels)"
      ]
    },
    {
      "cell_type": "markdown",
      "id": "2f0bda5e",
      "metadata": {
        "id": "2f0bda5e"
      },
      "source": [
        "### Orchid"
      ]
    },
    {
      "cell_type": "code",
      "execution_count": null,
      "id": "3b602742",
      "metadata": {
        "id": "3b602742"
      },
      "outputs": [],
      "source": [
        "# orchid\n",
        "# Predict (using test set)\n",
        "orchid_x_test_new = []\n",
        "orchid_x_test_new.append(orchid_x_test)\n",
        "orchid_y_test_new = []\n",
        "orchid_y_test_new.append(orchid_y_test)\n",
        "y_pred = crf.predict(orchid_x_test_new)"
      ]
    },
    {
      "cell_type": "code",
      "execution_count": null,
      "id": "9b9278be",
      "metadata": {
        "id": "9b9278be",
        "outputId": "3e1a2d3a-949e-471d-e3e2-80455c23a2c8"
      },
      "outputs": [
        {
          "name": "stdout",
          "output_type": "stream",
          "text": [
            "              precision    recall  f1-score   support\n",
            "\n",
            "           E      0.384     0.157     0.223      1179\n",
            "           I      0.944     0.983     0.963     17112\n",
            "\n",
            "    accuracy                          0.929     18291\n",
            "   macro avg      0.664     0.570     0.593     18291\n",
            "weighted avg      0.908     0.929     0.915     18291\n",
            "\n"
          ]
        },
        {
          "data": {
            "text/plain": [
              "0.915314345695198"
            ]
          },
          "execution_count": 80,
          "metadata": {},
          "output_type": "execute_result"
        }
      ],
      "source": [
        "# group B and I results\n",
        "\n",
        "print(metrics.flat_classification_report(\n",
        "    orchid_y_test_new, y_pred, labels=sorted_labels, digits=3\n",
        "))\n",
        "\n",
        "metrics.flat_f1_score(orchid_y_test_new, y_pred, average='weighted', labels=sorted_labels)"
      ]
    },
    {
      "cell_type": "markdown",
      "id": "58554fb8",
      "metadata": {
        "id": "58554fb8"
      },
      "source": [
        "### Fake Review"
      ]
    },
    {
      "cell_type": "code",
      "execution_count": null,
      "id": "6aacd230",
      "metadata": {
        "id": "6aacd230",
        "outputId": "d20bc1c9-fabe-4113-ec26-be18940a2554"
      },
      "outputs": [
        {
          "name": "stderr",
          "output_type": "stream",
          "text": [
            "100%|█████████████████████████████████████████████████████████████████████████| 9908/9908 [00:00<00:00, 1099599.50it/s]\n"
          ]
        }
      ],
      "source": [
        "# fake review\n",
        "# Predict (using test set)\n",
        "\n",
        "fake_review_x_test_extract = []\n",
        "fake_review_y_test_extract = []\n",
        "for xseq, yseq in tqdm(zip(fake_review_x_test, fake_review_y_test), total=len(fake_review_y_test)):\n",
        "    fake_review_x_test_extract.append(xseq)\n",
        "    fake_review_y_test_extract.append(yseq)\n",
        "\n",
        "y_pred = crf.predict(fake_review_x_test_extract)\n"
      ]
    },
    {
      "cell_type": "code",
      "execution_count": null,
      "id": "eecfe99b",
      "metadata": {
        "id": "eecfe99b",
        "outputId": "5b7e75ff-8a2c-48ab-ecf3-4ac080a2d71c"
      },
      "outputs": [
        {
          "name": "stdout",
          "output_type": "stream",
          "text": [
            "              precision    recall  f1-score   support\n",
            "\n",
            "           E      0.754     0.348     0.476     43254\n",
            "           I      0.952     0.991     0.971    568879\n",
            "\n",
            "    accuracy                          0.946    612133\n",
            "   macro avg      0.853     0.670     0.724    612133\n",
            "weighted avg      0.938     0.946     0.936    612133\n",
            "\n"
          ]
        },
        {
          "data": {
            "text/plain": [
              "0.9364743542471556"
            ]
          },
          "execution_count": 82,
          "metadata": {},
          "output_type": "execute_result"
        }
      ],
      "source": [
        "# group B and I results\n",
        "sorted_labels = sorted(\n",
        "    labels, \n",
        "    key=lambda name: (name[1:], name[0])\n",
        ")\n",
        "print(metrics.flat_classification_report(\n",
        "    fake_review_y_test_extract, y_pred, labels=sorted_labels, digits=3\n",
        "))\n",
        "\n",
        "metrics.flat_f1_score(fake_review_y_test_extract, y_pred, \n",
        "                      average='weighted', labels=sorted_labels)"
      ]
    }
  ],
  "metadata": {
    "kernelspec": {
      "display_name": "Python 3",
      "language": "python",
      "name": "python3"
    },
    "language_info": {
      "codemirror_mode": {
        "name": "ipython",
        "version": 3
      },
      "file_extension": ".py",
      "mimetype": "text/x-python",
      "name": "python",
      "nbconvert_exporter": "python",
      "pygments_lexer": "ipython3",
      "version": "3.8.8"
    },
    "colab": {
      "name": "SKLearn_CRF_SentenceCut.ipynb",
      "provenance": [],
      "machine_shape": "hm"
    },
    "widgets": {
      "application/vnd.jupyter.widget-state+json": {
        "6c4efd3c67084eeea8cc8db4fd9a3f36": {
          "model_module": "@jupyter-widgets/controls",
          "model_name": "HBoxModel",
          "model_module_version": "1.5.0",
          "state": {
            "_view_name": "HBoxView",
            "_dom_classes": [],
            "_model_name": "HBoxModel",
            "_view_module": "@jupyter-widgets/controls",
            "_model_module_version": "1.5.0",
            "_view_count": null,
            "_view_module_version": "1.5.0",
            "box_style": "",
            "layout": "IPY_MODEL_df1a4b649228459ba194e8ce93903a16",
            "_model_module": "@jupyter-widgets/controls",
            "children": [
              "IPY_MODEL_f959b8ccc2ae483f95dbb7041b41c3fd",
              "IPY_MODEL_52f9850e2322419d9520ebab083732ac",
              "IPY_MODEL_d8a926feda864043945b6ca69ed64527"
            ]
          }
        },
        "df1a4b649228459ba194e8ce93903a16": {
          "model_module": "@jupyter-widgets/base",
          "model_name": "LayoutModel",
          "model_module_version": "1.2.0",
          "state": {
            "_view_name": "LayoutView",
            "grid_template_rows": null,
            "right": null,
            "justify_content": null,
            "_view_module": "@jupyter-widgets/base",
            "overflow": null,
            "_model_module_version": "1.2.0",
            "_view_count": null,
            "flex_flow": null,
            "width": null,
            "min_width": null,
            "border": null,
            "align_items": null,
            "bottom": null,
            "_model_module": "@jupyter-widgets/base",
            "top": null,
            "grid_column": null,
            "overflow_y": null,
            "overflow_x": null,
            "grid_auto_flow": null,
            "grid_area": null,
            "grid_template_columns": null,
            "flex": null,
            "_model_name": "LayoutModel",
            "justify_items": null,
            "grid_row": null,
            "max_height": null,
            "align_content": null,
            "visibility": null,
            "align_self": null,
            "height": null,
            "min_height": null,
            "padding": null,
            "grid_auto_rows": null,
            "grid_gap": null,
            "max_width": null,
            "order": null,
            "_view_module_version": "1.2.0",
            "grid_template_areas": null,
            "object_position": null,
            "object_fit": null,
            "grid_auto_columns": null,
            "margin": null,
            "display": null,
            "left": null
          }
        },
        "f959b8ccc2ae483f95dbb7041b41c3fd": {
          "model_module": "@jupyter-widgets/controls",
          "model_name": "HTMLModel",
          "model_module_version": "1.5.0",
          "state": {
            "_view_name": "HTMLView",
            "style": "IPY_MODEL_04a6a60f97b2404c9f08a62ad0aaf8de",
            "_dom_classes": [],
            "description": "",
            "_model_name": "HTMLModel",
            "placeholder": "​",
            "_view_module": "@jupyter-widgets/controls",
            "_model_module_version": "1.5.0",
            "value": "100%",
            "_view_count": null,
            "_view_module_version": "1.5.0",
            "description_tooltip": null,
            "_model_module": "@jupyter-widgets/controls",
            "layout": "IPY_MODEL_f6ef7d5ba1574ade86cc63232ea9995e"
          }
        },
        "52f9850e2322419d9520ebab083732ac": {
          "model_module": "@jupyter-widgets/controls",
          "model_name": "FloatProgressModel",
          "model_module_version": "1.5.0",
          "state": {
            "_view_name": "ProgressView",
            "style": "IPY_MODEL_cc3336e9030e41a18c45fb06e4316bf1",
            "_dom_classes": [],
            "description": "",
            "_model_name": "FloatProgressModel",
            "bar_style": "success",
            "max": 3,
            "_view_module": "@jupyter-widgets/controls",
            "_model_module_version": "1.5.0",
            "value": 3,
            "_view_count": null,
            "_view_module_version": "1.5.0",
            "orientation": "horizontal",
            "min": 0,
            "description_tooltip": null,
            "_model_module": "@jupyter-widgets/controls",
            "layout": "IPY_MODEL_d4c3e0db57854f0dbe8dedda14c58b6f"
          }
        },
        "d8a926feda864043945b6ca69ed64527": {
          "model_module": "@jupyter-widgets/controls",
          "model_name": "HTMLModel",
          "model_module_version": "1.5.0",
          "state": {
            "_view_name": "HTMLView",
            "style": "IPY_MODEL_ffd9d54a03f6442aaebcff0e408ae4b1",
            "_dom_classes": [],
            "description": "",
            "_model_name": "HTMLModel",
            "placeholder": "​",
            "_view_module": "@jupyter-widgets/controls",
            "_model_module_version": "1.5.0",
            "value": " 3/3 [00:00&lt;00:00, 37.98it/s]",
            "_view_count": null,
            "_view_module_version": "1.5.0",
            "description_tooltip": null,
            "_model_module": "@jupyter-widgets/controls",
            "layout": "IPY_MODEL_6db22dae14e74cc2bbcdf81e9dedc6e2"
          }
        },
        "04a6a60f97b2404c9f08a62ad0aaf8de": {
          "model_module": "@jupyter-widgets/controls",
          "model_name": "DescriptionStyleModel",
          "model_module_version": "1.5.0",
          "state": {
            "_view_name": "StyleView",
            "_model_name": "DescriptionStyleModel",
            "description_width": "",
            "_view_module": "@jupyter-widgets/base",
            "_model_module_version": "1.5.0",
            "_view_count": null,
            "_view_module_version": "1.2.0",
            "_model_module": "@jupyter-widgets/controls"
          }
        },
        "f6ef7d5ba1574ade86cc63232ea9995e": {
          "model_module": "@jupyter-widgets/base",
          "model_name": "LayoutModel",
          "model_module_version": "1.2.0",
          "state": {
            "_view_name": "LayoutView",
            "grid_template_rows": null,
            "right": null,
            "justify_content": null,
            "_view_module": "@jupyter-widgets/base",
            "overflow": null,
            "_model_module_version": "1.2.0",
            "_view_count": null,
            "flex_flow": null,
            "width": null,
            "min_width": null,
            "border": null,
            "align_items": null,
            "bottom": null,
            "_model_module": "@jupyter-widgets/base",
            "top": null,
            "grid_column": null,
            "overflow_y": null,
            "overflow_x": null,
            "grid_auto_flow": null,
            "grid_area": null,
            "grid_template_columns": null,
            "flex": null,
            "_model_name": "LayoutModel",
            "justify_items": null,
            "grid_row": null,
            "max_height": null,
            "align_content": null,
            "visibility": null,
            "align_self": null,
            "height": null,
            "min_height": null,
            "padding": null,
            "grid_auto_rows": null,
            "grid_gap": null,
            "max_width": null,
            "order": null,
            "_view_module_version": "1.2.0",
            "grid_template_areas": null,
            "object_position": null,
            "object_fit": null,
            "grid_auto_columns": null,
            "margin": null,
            "display": null,
            "left": null
          }
        },
        "cc3336e9030e41a18c45fb06e4316bf1": {
          "model_module": "@jupyter-widgets/controls",
          "model_name": "ProgressStyleModel",
          "model_module_version": "1.5.0",
          "state": {
            "_view_name": "StyleView",
            "_model_name": "ProgressStyleModel",
            "description_width": "",
            "_view_module": "@jupyter-widgets/base",
            "_model_module_version": "1.5.0",
            "_view_count": null,
            "_view_module_version": "1.2.0",
            "bar_color": null,
            "_model_module": "@jupyter-widgets/controls"
          }
        },
        "d4c3e0db57854f0dbe8dedda14c58b6f": {
          "model_module": "@jupyter-widgets/base",
          "model_name": "LayoutModel",
          "model_module_version": "1.2.0",
          "state": {
            "_view_name": "LayoutView",
            "grid_template_rows": null,
            "right": null,
            "justify_content": null,
            "_view_module": "@jupyter-widgets/base",
            "overflow": null,
            "_model_module_version": "1.2.0",
            "_view_count": null,
            "flex_flow": null,
            "width": null,
            "min_width": null,
            "border": null,
            "align_items": null,
            "bottom": null,
            "_model_module": "@jupyter-widgets/base",
            "top": null,
            "grid_column": null,
            "overflow_y": null,
            "overflow_x": null,
            "grid_auto_flow": null,
            "grid_area": null,
            "grid_template_columns": null,
            "flex": null,
            "_model_name": "LayoutModel",
            "justify_items": null,
            "grid_row": null,
            "max_height": null,
            "align_content": null,
            "visibility": null,
            "align_self": null,
            "height": null,
            "min_height": null,
            "padding": null,
            "grid_auto_rows": null,
            "grid_gap": null,
            "max_width": null,
            "order": null,
            "_view_module_version": "1.2.0",
            "grid_template_areas": null,
            "object_position": null,
            "object_fit": null,
            "grid_auto_columns": null,
            "margin": null,
            "display": null,
            "left": null
          }
        },
        "ffd9d54a03f6442aaebcff0e408ae4b1": {
          "model_module": "@jupyter-widgets/controls",
          "model_name": "DescriptionStyleModel",
          "model_module_version": "1.5.0",
          "state": {
            "_view_name": "StyleView",
            "_model_name": "DescriptionStyleModel",
            "description_width": "",
            "_view_module": "@jupyter-widgets/base",
            "_model_module_version": "1.5.0",
            "_view_count": null,
            "_view_module_version": "1.2.0",
            "_model_module": "@jupyter-widgets/controls"
          }
        },
        "6db22dae14e74cc2bbcdf81e9dedc6e2": {
          "model_module": "@jupyter-widgets/base",
          "model_name": "LayoutModel",
          "model_module_version": "1.2.0",
          "state": {
            "_view_name": "LayoutView",
            "grid_template_rows": null,
            "right": null,
            "justify_content": null,
            "_view_module": "@jupyter-widgets/base",
            "overflow": null,
            "_model_module_version": "1.2.0",
            "_view_count": null,
            "flex_flow": null,
            "width": null,
            "min_width": null,
            "border": null,
            "align_items": null,
            "bottom": null,
            "_model_module": "@jupyter-widgets/base",
            "top": null,
            "grid_column": null,
            "overflow_y": null,
            "overflow_x": null,
            "grid_auto_flow": null,
            "grid_area": null,
            "grid_template_columns": null,
            "flex": null,
            "_model_name": "LayoutModel",
            "justify_items": null,
            "grid_row": null,
            "max_height": null,
            "align_content": null,
            "visibility": null,
            "align_self": null,
            "height": null,
            "min_height": null,
            "padding": null,
            "grid_auto_rows": null,
            "grid_gap": null,
            "max_width": null,
            "order": null,
            "_view_module_version": "1.2.0",
            "grid_template_areas": null,
            "object_position": null,
            "object_fit": null,
            "grid_auto_columns": null,
            "margin": null,
            "display": null,
            "left": null
          }
        }
      }
    },
    "accelerator": "GPU"
  },
  "nbformat": 4,
  "nbformat_minor": 5
}