{
  "nbformat": 4,
  "nbformat_minor": 0,
  "metadata": {
    "colab": {
      "name": "kumSupab.ipynb",
      "provenance": [],
      "collapsed_sections": []
    },
    "kernelspec": {
      "name": "python3",
      "display_name": "Python 3"
    },
    "language_info": {
      "name": "python"
    }
  },
  "cells": [
    {
      "cell_type": "code",
      "execution_count": null,
      "metadata": {
        "id": "3YRadQQAmZdc"
      },
      "outputs": [],
      "source": [
        "all_dict = {'ขณะนี้':'เดี๋ยวนี้',\n",
        "            'เช่นเดียวกัน':'เหมือนกัน',\n",
        "            'เช่นใด':'ประการใด',\n",
        "            'ได้หรือไม่':'ได้ไหม',\n",
        "            'แจ้ง':'บอก',\n",
        "            'ดำเนินการ':'ทำ',\n",
        "            'ตรวจสอบ':'ตรวจดู',\n",
        "            'ประสงค์':'ใคร่',\n",
        "            'อนุเคราะห์':'ช่วย',\n",
        "            'มิได้':'ไม่ได้',\n",
        "            'ไม่สมควร':'ไม่ดี',\n",
        "            'เหตุใด':'ทำไม',\n",
        "            'อันใด':'อะไร',\n",
        "            'ขอรับการสนับสนุน':'ขอยืม',\n",
        "            'ขาดความรู้ความเข้าใจ':'โง่',\n",
        "            'ยังบกพร่อง':'เลว',\n",
        "\n",
        "            'ผู้ใด':'ใคร',\n",
        "            'ที่ใด':'ที่ไหน',\n",
        "            'ได้หรือไม่':'ได้ไหม',   \n",
        "            'อันใด':'อะไร',\n",
        "\n",
        "            'ติดอันดับ':'ฮิต',\n",
        "            'ผู้นำเที่ยว':'ไกด์',\n",
        "            'กังวล':'เครียด',\n",
        "            'เท็จ':'โกหก',\n",
        "            'จัดเตรียม':'เตี๊ยม',\n",
        "            'ภรรยา':'เมีย',   \n",
        "            'รับประทาน':'กิน',\n",
        "            'ต้องการ':'อยาก',\n",
        "            'ดำเนินการ':'ทำ',\n",
        "\n",
        "            'แจ้ง':'บอก',\n",
        "            'ดำเนินการ':'ทำ',\n",
        "            'หาก':'ถ้า',\n",
        "            'รับการสนับสนุน':'ยืม',\n",
        "            'ฉัน':'ดู',\n",
        "            'กระบือ':'ควาย',\n",
        "            'สุนัข':'หมา'\n",
        "            \n",
        "\n",
        "            \n",
        "\n",
        "\n",
        "            }\n",
        "\n",
        "\n",
        "convert2Formal = dict([(value, key) for key, value in all_dict.items()])\n"
      ]
    },
    {
      "cell_type": "code",
      "source": [
        "convert2Formal"
      ],
      "metadata": {
        "id": "VySnuom4ijhN"
      },
      "execution_count": null,
      "outputs": []
    },
    {
      "cell_type": "code",
      "source": [
        "Formal_del = ['เหี้ย', 'สัด', 'สัส','แรด', 'กระทิง', 'ฟาย', 'หมาบ้า', 'มัจจุราช', 'เควี่ย', 'เชี่ย', 'เงี่ยน', 'ส้นตีน', 'ชาติชั่ว', 'สถุล', 'ระยำ', 'สันดาน', 'ไอ้สัตว์นรก', 'พ่อมึงตาย', 'แม่มึงตาย', 'ชิงหมาเกิด', 'จัญไร', 'ใจหมา', 'ช้างเย็ด', 'อัปปรี', 'ชาติหมา', 'อีวาฬ', 'หน้าส้นตีน', 'ไอเหี้ย', 'ไอสัด', 'ไอ้หมา', 'ไอ้ควาย', 'นรกแดกกบาล', 'เศษนรก', 'กวนส้นตีน', 'ล่อกัน', 'เอากัน', 'แทงกัน', 'ยิงกัน', 'ปี้กัน', 'ตีกัน', 'หน้าตัวเมืย', 'หน้าหี', 'หน้าควย', 'ไอ้ขึ้หมา', 'แมงดา', 'กระดอ', 'อีหน้าหี', 'กระสัน', 'ไอเหี้ยหน้าหี', 'อีเหี้ย', 'อีสัด', 'อีหมา', 'อีควาย', 'อีปลาวาฬ', 'อีหน้าหมา', 'สาด', 'อีฟันหมาบ้า', 'อีหน้าควาย', 'กินขี้ปี้เยี่ยว', 'อีปลาเงือก', 'ไอ้ส้นตีน', 'เสือกพะยูน', 'พ่อมึง', 'แม่มึง', 'พ่อง', 'แม่ง', 'พ่อมึงตาย', 'แม่มึงตาย', 'ควย', 'หี', 'เจี๊ยว', 'แดก', 'ขี้', 'เยี่ยว', 'ขึ้แตก', 'จรวย', 'ไอเข้', 'ไอ้สัส', 'ขายตัว', 'ลูกอีกะหรี่', 'ลูกอีดอกทอง', 'ลูกอีสาด', 'ยัดแม่', 'ฟักยู', 'อีอับปรี', 'อีกระหรี่', 'อีกะหรี', 'อีชาติชั้ว', 'อีช้างเย๊ด', 'อีห่า', 'อยากเอาหญิง', 'ระยำ', 'ทมิฬ', 'ลูกโสเภณี', 'หน้าโง่'\n",
        ",'จัง']"
      ],
      "metadata": {
        "id": "w5F-y4_oEVOt"
      },
      "execution_count": null,
      "outputs": []
    },
    {
      "cell_type": "code",
      "source": [
        "import numpy as np\n",
        "import pandas as pd\n",
        "import json\n",
        "from pprint import pprint\n",
        "import requests\n",
        "from doctest import OutputChecker\n",
        "from gensim.models import Word2Vec\n",
        "\n",
        "class Suggestions:\n",
        "    def __init__(self,mode):\n",
        "        self.model_path = '/content/word2vec_TNC.model'\n",
        "        self.model = Word2Vec.load(self.model_path)\n",
        "        self.mode = mode\n",
        "        self.max_sug = 3\n",
        "        self.vec_base = 0.5\n",
        "        if self.mode == 0:\n",
        "          self.pos_use = ['VV','AV','AJ']\n",
        "          print('{Suggestion Log} Default Word2vec')\n",
        "        elif self.mode == 1: #ภาษาราชาการ\n",
        "          self.pos_use = ['AJ','AV','AX' ,'CC','CL','FX','IJ', 'NG','NN', 'NU','PA','PR','PS','PU','VV','XX']\n",
        "          print('{Suggestion Log} แปลงเป็นภาษาราชการ')\n",
        "\n",
        "    def word_seg(self,text):\n",
        "        url = 'http://nlp1.exp.superai.me:10100/seg'\n",
        "        data = {\"payload\": text}\n",
        "        r = requests.post(url=url,json = data)\n",
        "        return r.json()['segged']\n",
        "        \n",
        "    def pos_tag(self,word_list):\n",
        "        url = 'http://nlp1.exp.superai.me:10200/pos'\n",
        "        data = {\"payload\": word_list}\n",
        "        r = requests.post(url=url,json = data)\n",
        "        return r.json()['pos']\n",
        "\n",
        "    def segment_index(self,text, seg):\n",
        "        segmented_list = []\n",
        "        cind = 0\n",
        "        id = 0\n",
        "        for segmented in seg:\n",
        "            cind += text.find(segmented)\n",
        "            idx_start = cind\n",
        "            cind += len(segmented)\n",
        "            idx_end = cind\n",
        "            segmented_list.append((id,idx_start, idx_end, segmented))\n",
        "            id += 1\n",
        "            text = text[len(segmented):]\n",
        "        return segmented_list\n",
        "\n",
        "    def select_word(self,pos_list,index_list):\n",
        "        sug_list = []\n",
        "        for index in range(len(pos_list)):\n",
        "            pos = pos_list[index]\n",
        "            if pos in self.pos_use:\n",
        "                sug_list.append(index_list[index])\n",
        "        return sug_list\n",
        "\n",
        "    def word2vec(self,sug_list):\n",
        "        sug_output = []\n",
        "        for index in range(len(sug_list)):\n",
        "            # print(index)\n",
        "            try:\n",
        "                word = sug_list[index][3]\n",
        "                # print(word)\n",
        "                output = self.model.most_similar(word)\n",
        "                sug_select = []\n",
        "                # print(output)\n",
        "                for sug,vec in output:\n",
        "                    if vec > self.vec_base :\n",
        "                        sug_select.append(sug)\n",
        "                    if len(sug_select) == self.max_sug:\n",
        "                        break\n",
        "                # print(sug_select)\n",
        "                if len(sug_select) != 0:\n",
        "                    sug_dict = {\n",
        "                        'id':sug_list[index][0],\n",
        "                        'word':word,\n",
        "                        'start_idx':sug_list[index][1],\n",
        "                        'end_idx': sug_list[index][2],\n",
        "                        'suggest': sug_select,\n",
        "                        }\n",
        "\n",
        "                    sug_output.append(sug_dict)\n",
        "\n",
        "            except:\n",
        "                pass\n",
        "        return sug_output\n",
        "    def word2Formal(self,sug_list):\n",
        "        sug_output = []\n",
        "        for index in range(len(sug_list)):\n",
        "            # print(index)\n",
        "            word = sug_list[index][3]\n",
        "            #print(word)\n",
        "            if word in convert2Formal: #เช็คว่ามีใน list คำภาษาพูดไหม\n",
        "                \n",
        "                #print(word)\n",
        "                output = convert2Formal[word]\n",
        "                sug_select = []\n",
        "                # print(output)\n",
        "                # print(sug_select)\n",
        "                sug_dict = {\n",
        "                    'id':sug_list[index][0],\n",
        "                    'word':word,\n",
        "                    'start_idx':sug_list[index][1],\n",
        "                    'end_idx': sug_list[index][2],\n",
        "                    'suggest': output,\n",
        "              }\n",
        "                sug_output.append(sug_dict)\n",
        "            elif word in Formal_del: ## ลบคำหยาบ\n",
        "              sug_dict = {\n",
        "                    'id':sug_list[index][0],\n",
        "                    'word':word,\n",
        "                    'start_idx':sug_list[index][1],\n",
        "                    'end_idx': sug_list[index][2],\n",
        "                    'suggest': ' ',\n",
        "              }\n",
        "              sug_output.append(sug_dict)\n",
        "\n",
        "            \n",
        "        return sug_output\n",
        "\n",
        "    def word_suggest(self,input_json):\n",
        "        #json to text\n",
        "        # text = input_json.json()\n",
        "        text = input_json\n",
        "\n",
        "        #text to list of word by Word Segmentation\n",
        "        word_list = self.word_seg(text)\n",
        "        #print(word_list)\n",
        "      \n",
        "        #label index position from word of sentent\n",
        "        index_list = self.segment_index(text,word_list)\n",
        "        #print(index_list)\n",
        "\n",
        "        #word to part of speech\n",
        "        pos_list = self.pos_tag(word_list)\n",
        "        print(pos_list)\n",
        "        \n",
        "        #select word from rule\n",
        "        sug_list = self.select_word(pos_list,index_list)\n",
        "        #print(sug_list)\n",
        "\n",
        "        #word to vec and \n",
        "        if self.mode == 0:\n",
        "          final_list = self.word2vec(sug_list)\n",
        "        elif self.mode == 1:\n",
        "          final_list = self.word2Formal(sug_list)\n",
        "        return final_list\n",
        "        "
      ],
      "metadata": {
        "id": "u5Hkx0yeXJMz"
      },
      "execution_count": null,
      "outputs": []
    },
    {
      "cell_type": "code",
      "source": [
        "sug = Suggestions(1)\n",
        "sug.word_suggest('สวัสดีครับ ผมชื่อ')"
      ],
      "metadata": {
        "colab": {
          "base_uri": "https://localhost:8080/"
        },
        "id": "ZRQEQH0IVIs6",
        "outputId": "8f80188e-64ee-49df-ec0b-19203227dd23"
      },
      "execution_count": null,
      "outputs": [
        {
          "output_type": "stream",
          "name": "stdout",
          "text": [
            "{Suggestion Log} แปลงเป็นภาษาราชการ\n",
            "['NN', 'PA', 'NN', 'PR', 'NN']\n"
          ]
        },
        {
          "output_type": "execute_result",
          "data": {
            "text/plain": [
              "[]"
            ]
          },
          "metadata": {},
          "execution_count": 187
        }
      ]
    },
    {
      "cell_type": "code",
      "source": [
        ""
      ],
      "metadata": {
        "id": "nBdYQmf9i-XT"
      },
      "execution_count": null,
      "outputs": []
    }
  ]
}