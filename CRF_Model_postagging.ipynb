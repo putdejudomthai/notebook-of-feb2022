{
  "nbformat": 4,
  "nbformat_minor": 0,
  "metadata": {
    "colab": {
      "name": "CRF_Model.ipynb",
      "provenance": []
    },
    "kernelspec": {
      "name": "python3",
      "display_name": "Python 3"
    },
    "language_info": {
      "name": "python"
    }
  },
  "cells": [
    {
      "cell_type": "code",
      "source": [
        "pip install tensorflow-addons"
      ],
      "metadata": {
        "colab": {
          "base_uri": "https://localhost:8080/"
        },
        "id": "VZizj7TRNksg",
        "outputId": "ca68dffe-b949-472c-e517-4040cbc8c02b"
      },
      "execution_count": 3,
      "outputs": [
        {
          "output_type": "stream",
          "name": "stdout",
          "text": [
            "Collecting tensorflow-addons\n",
            "  Downloading tensorflow_addons-0.16.1-cp37-cp37m-manylinux_2_12_x86_64.manylinux2010_x86_64.whl (1.1 MB)\n",
            "\u001b[K     |████████████████████████████████| 1.1 MB 3.2 MB/s \n",
            "\u001b[?25hRequirement already satisfied: typeguard>=2.7 in /usr/local/lib/python3.7/dist-packages (from tensorflow-addons) (2.7.1)\n",
            "Installing collected packages: tensorflow-addons\n",
            "Successfully installed tensorflow-addons-0.16.1\n"
          ]
        }
      ]
    },
    {
      "cell_type": "code",
      "execution_count": 5,
      "metadata": {
        "id": "io_XNxgWJQej"
      },
      "outputs": [],
      "source": [
        "import tensorflow as tf \n",
        "import tensorflow.keras as keras \n",
        "from tensorflow.keras.layers import TimeDistributed , Dense , Dropout , LSTM , Embedding \n",
        "from tensorflow.keras import Model , Input \n",
        "from tensorflow_addons.layers import CRF\n"
      ]
    },
    {
      "cell_type": "code",
      "source": [
        "INPUT_SIZE = 128\n",
        "VOCAB_SIZE = 48888\n",
        "CLASS_NUM = 2"
      ],
      "metadata": {
        "id": "676ZmVHXOZRP"
      },
      "execution_count": 9,
      "outputs": []
    },
    {
      "cell_type": "code",
      "source": [
        "inputs = Input((INPUT_SIZE,))\n",
        "x = Embedding(VOCAB_SIZE+1,64)(inputs)\n",
        "x = LSTM(64 , return_sequences=True)(x)\n",
        "outputs = CRF(2)(x)\n",
        "model = Model(inputs,outputs,name=\"Dummy CRF Model\")\n",
        "model.compile(loss='categorical_crossentropy', optimizer='adam' ,metrics= 'accuracy')\n",
        "model.summary()"
      ],
      "metadata": {
        "colab": {
          "base_uri": "https://localhost:8080/"
        },
        "id": "jU_mAUK5NgB8",
        "outputId": "d26a0656-3374-4f9f-ffc5-0eadbb32e1eb"
      },
      "execution_count": 13,
      "outputs": [
        {
          "output_type": "stream",
          "name": "stdout",
          "text": [
            "Model: \"Dummy CRF Model\"\n",
            "_________________________________________________________________\n",
            " Layer (type)                Output Shape              Param #   \n",
            "=================================================================\n",
            " input_4 (InputLayer)        [(None, 128)]             0         \n",
            "                                                                 \n",
            " embedding_2 (Embedding)     (None, 128, 64)           3128896   \n",
            "                                                                 \n",
            " lstm_2 (LSTM)               (None, 128, 64)           33024     \n",
            "                                                                 \n",
            " crf (CRF)                   [(None, 128),             138       \n",
            "                              (None, 128, 2),                    \n",
            "                              (None,),                           \n",
            "                              (2, 2)]                            \n",
            "                                                                 \n",
            "=================================================================\n",
            "Total params: 3,162,058\n",
            "Trainable params: 3,162,058\n",
            "Non-trainable params: 0\n",
            "_________________________________________________________________\n"
          ]
        }
      ]
    },
    {
      "cell_type": "code",
      "source": [
        ""
      ],
      "metadata": {
        "id": "bvKBmwPKOca8"
      },
      "execution_count": null,
      "outputs": []
    }
  ]
}