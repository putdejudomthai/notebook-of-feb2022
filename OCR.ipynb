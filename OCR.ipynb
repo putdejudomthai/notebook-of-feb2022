{
  "nbformat": 4,
  "nbformat_minor": 0,
  "metadata": {
    "accelerator": "GPU",
    "colab": {
      "name": "OCR.ipynb",
      "provenance": [],
      "collapsed_sections": [
        "eCtIiI06lb2N"
      ]
    },
    "kernelspec": {
      "display_name": "Python 3",
      "name": "python3"
    },
    "language_info": {
      "name": "python"
    }
  },
  "cells": [
    {
      "cell_type": "code",
      "metadata": {
        "colab": {
          "base_uri": "https://localhost:8080/"
        },
        "id": "IpdabGDS1llO",
        "outputId": "a960db5c-0c63-4797-80a6-449c4f8e47ac"
      },
      "source": [
        "from google.colab import drive\n",
        "drive.mount('/content/drive')"
      ],
      "execution_count": null,
      "outputs": [
        {
          "output_type": "stream",
          "text": [
            "Mounted at /content/drive\n"
          ],
          "name": "stdout"
        }
      ]
    },
    {
      "cell_type": "code",
      "metadata": {
        "colab": {
          "base_uri": "https://localhost:8080/"
        },
        "id": "vc9hvgLmckpF",
        "outputId": "3c22a777-22b2-4b1e-fd69-496ae80c5b29"
      },
      "source": [
        "!pip install scikit-plot\n",
        "from tensorflow import keras\n",
        "import tensorflow as tf\n",
        "import cv2\n",
        "import numpy as np\n",
        "import matplotlib.pyplot as plt\n",
        "from IPython.display import clear_output \n",
        "import os"
      ],
      "execution_count": null,
      "outputs": [
        {
          "output_type": "stream",
          "text": [
            "Collecting scikit-plot\n",
            "  Downloading scikit_plot-0.3.7-py3-none-any.whl (33 kB)\n",
            "Requirement already satisfied: scikit-learn>=0.18 in /usr/local/lib/python3.7/dist-packages (from scikit-plot) (0.22.2.post1)\n",
            "Requirement already satisfied: joblib>=0.10 in /usr/local/lib/python3.7/dist-packages (from scikit-plot) (1.0.1)\n",
            "Requirement already satisfied: scipy>=0.9 in /usr/local/lib/python3.7/dist-packages (from scikit-plot) (1.4.1)\n",
            "Requirement already satisfied: matplotlib>=1.4.0 in /usr/local/lib/python3.7/dist-packages (from scikit-plot) (3.2.2)\n",
            "Requirement already satisfied: numpy>=1.11 in /usr/local/lib/python3.7/dist-packages (from matplotlib>=1.4.0->scikit-plot) (1.19.5)\n",
            "Requirement already satisfied: cycler>=0.10 in /usr/local/lib/python3.7/dist-packages (from matplotlib>=1.4.0->scikit-plot) (0.10.0)\n",
            "Requirement already satisfied: kiwisolver>=1.0.1 in /usr/local/lib/python3.7/dist-packages (from matplotlib>=1.4.0->scikit-plot) (1.3.1)\n",
            "Requirement already satisfied: pyparsing!=2.0.4,!=2.1.2,!=2.1.6,>=2.0.1 in /usr/local/lib/python3.7/dist-packages (from matplotlib>=1.4.0->scikit-plot) (2.4.7)\n",
            "Requirement already satisfied: python-dateutil>=2.1 in /usr/local/lib/python3.7/dist-packages (from matplotlib>=1.4.0->scikit-plot) (2.8.1)\n",
            "Requirement already satisfied: six in /usr/local/lib/python3.7/dist-packages (from cycler>=0.10->matplotlib>=1.4.0->scikit-plot) (1.15.0)\n",
            "Installing collected packages: scikit-plot\n",
            "Successfully installed scikit-plot-0.3.7\n"
          ],
          "name": "stdout"
        }
      ]
    },
    {
      "cell_type": "markdown",
      "metadata": {
        "id": "eCtIiI06lb2N"
      },
      "source": [
        "## **1. Experimental Codes**"
      ]
    },
    {
      "cell_type": "code",
      "metadata": {
        "id": "suE6-8Xf1fO9",
        "colab": {
          "base_uri": "https://localhost:8080/",
          "height": 235
        },
        "outputId": "20004269-db73-48be-b825-0c68d9ad23ae"
      },
      "source": [
        "xtrain = []\n",
        "ytrain = []\n",
        "\n",
        "data_path = '/content/drive/MyDrive/data_mel_all'\n",
        "\n",
        "count = 1\n",
        "for sub in os.scandir(data_path):\n",
        "  for class_dir  in os.scandir(sub):\n",
        "    for a in os.scandir(class_dir):\n",
        "      if os.path.isfile(a):\n",
        "        xtrain.append(cv2.imread(a.path, 0))\n",
        "        ytrain.append(class_dir.name)\n",
        "        print('load : ','[',count,']')\n",
        "        count += 1"
      ],
      "execution_count": null,
      "outputs": [
        {
          "output_type": "error",
          "ename": "NameError",
          "evalue": "ignored",
          "traceback": [
            "\u001b[0;31m---------------------------------------------------------------------------\u001b[0m",
            "\u001b[0;31mNameError\u001b[0m                                 Traceback (most recent call last)",
            "\u001b[0;32m<ipython-input-1-032dfd447bb5>\u001b[0m in \u001b[0;36m<module>\u001b[0;34m()\u001b[0m\n\u001b[1;32m      5\u001b[0m \u001b[0;34m\u001b[0m\u001b[0m\n\u001b[1;32m      6\u001b[0m \u001b[0mcount\u001b[0m \u001b[0;34m=\u001b[0m \u001b[0;36m1\u001b[0m\u001b[0;34m\u001b[0m\u001b[0;34m\u001b[0m\u001b[0m\n\u001b[0;32m----> 7\u001b[0;31m \u001b[0;32mfor\u001b[0m \u001b[0msub\u001b[0m \u001b[0;32min\u001b[0m \u001b[0mos\u001b[0m\u001b[0;34m.\u001b[0m\u001b[0mscandir\u001b[0m\u001b[0;34m(\u001b[0m\u001b[0mdata_path\u001b[0m\u001b[0;34m)\u001b[0m\u001b[0;34m:\u001b[0m\u001b[0;34m\u001b[0m\u001b[0;34m\u001b[0m\u001b[0m\n\u001b[0m\u001b[1;32m      8\u001b[0m   \u001b[0;32mfor\u001b[0m \u001b[0mclass_dir\u001b[0m  \u001b[0;32min\u001b[0m \u001b[0mos\u001b[0m\u001b[0;34m.\u001b[0m\u001b[0mscandir\u001b[0m\u001b[0;34m(\u001b[0m\u001b[0msub\u001b[0m\u001b[0;34m)\u001b[0m\u001b[0;34m:\u001b[0m\u001b[0;34m\u001b[0m\u001b[0;34m\u001b[0m\u001b[0m\n\u001b[1;32m      9\u001b[0m     \u001b[0;32mfor\u001b[0m \u001b[0ma\u001b[0m \u001b[0;32min\u001b[0m \u001b[0mos\u001b[0m\u001b[0;34m.\u001b[0m\u001b[0mscandir\u001b[0m\u001b[0;34m(\u001b[0m\u001b[0mclass_dir\u001b[0m\u001b[0;34m)\u001b[0m\u001b[0;34m:\u001b[0m\u001b[0;34m\u001b[0m\u001b[0;34m\u001b[0m\u001b[0m\n",
            "\u001b[0;31mNameError\u001b[0m: name 'os' is not defined"
          ]
        }
      ]
    },
    {
      "cell_type": "code",
      "metadata": {
        "id": "5oxTGKKhyCN2",
        "colab": {
          "base_uri": "https://localhost:8080/",
          "height": 235
        },
        "outputId": "eacb3cb6-30b1-4598-b0db-647b9080f852"
      },
      "source": [
        "xtest = []\n",
        "ytest = []\n",
        "\n",
        "data_path = '/content/drive/MyDrive/eval_mel'\n",
        "\n",
        "count = 1\n",
        "for class_dir  in os.scandir(data_path):\n",
        "  for a in os.scandir(class_dir):\n",
        "    if os.path.isfile(a):\n",
        "      xtest.append(cv2.imread(a.path, 0))\n",
        "      ytest.append(class_dir.name)\n",
        "      print('load : ','[',count,']')\n",
        "      count += 1"
      ],
      "execution_count": null,
      "outputs": [
        {
          "output_type": "error",
          "ename": "NameError",
          "evalue": "ignored",
          "traceback": [
            "\u001b[0;31m---------------------------------------------------------------------------\u001b[0m",
            "\u001b[0;31mNameError\u001b[0m                                 Traceback (most recent call last)",
            "\u001b[0;32m<ipython-input-2-7f13d0831709>\u001b[0m in \u001b[0;36m<module>\u001b[0;34m()\u001b[0m\n\u001b[1;32m      5\u001b[0m \u001b[0;34m\u001b[0m\u001b[0m\n\u001b[1;32m      6\u001b[0m \u001b[0mcount\u001b[0m \u001b[0;34m=\u001b[0m \u001b[0;36m1\u001b[0m\u001b[0;34m\u001b[0m\u001b[0;34m\u001b[0m\u001b[0m\n\u001b[0;32m----> 7\u001b[0;31m \u001b[0;32mfor\u001b[0m \u001b[0mclass_dir\u001b[0m  \u001b[0;32min\u001b[0m \u001b[0mos\u001b[0m\u001b[0;34m.\u001b[0m\u001b[0mscandir\u001b[0m\u001b[0;34m(\u001b[0m\u001b[0mdata_path\u001b[0m\u001b[0;34m)\u001b[0m\u001b[0;34m:\u001b[0m\u001b[0;34m\u001b[0m\u001b[0;34m\u001b[0m\u001b[0m\n\u001b[0m\u001b[1;32m      8\u001b[0m   \u001b[0;32mfor\u001b[0m \u001b[0ma\u001b[0m \u001b[0;32min\u001b[0m \u001b[0mos\u001b[0m\u001b[0;34m.\u001b[0m\u001b[0mscandir\u001b[0m\u001b[0;34m(\u001b[0m\u001b[0mclass_dir\u001b[0m\u001b[0;34m)\u001b[0m\u001b[0;34m:\u001b[0m\u001b[0;34m\u001b[0m\u001b[0;34m\u001b[0m\u001b[0m\n\u001b[1;32m      9\u001b[0m     \u001b[0;32mif\u001b[0m \u001b[0mos\u001b[0m\u001b[0;34m.\u001b[0m\u001b[0mpath\u001b[0m\u001b[0;34m.\u001b[0m\u001b[0misfile\u001b[0m\u001b[0;34m(\u001b[0m\u001b[0ma\u001b[0m\u001b[0;34m)\u001b[0m\u001b[0;34m:\u001b[0m\u001b[0;34m\u001b[0m\u001b[0;34m\u001b[0m\u001b[0m\n",
            "\u001b[0;31mNameError\u001b[0m: name 'os' is not defined"
          ]
        }
      ]
    },
    {
      "cell_type": "code",
      "metadata": {
        "id": "-dFszsohC7HI"
      },
      "source": [
        "xtrain = np.array(xtrain)\n",
        "ytrain = np.array(ytrain)"
      ],
      "execution_count": null,
      "outputs": []
    },
    {
      "cell_type": "code",
      "metadata": {
        "id": "-6S4NxnfyPbG"
      },
      "source": [
        "xtest = np.array(xtest)\n",
        "ytest = np.array(ytest)"
      ],
      "execution_count": null,
      "outputs": []
    },
    {
      "cell_type": "code",
      "metadata": {
        "id": "KdtXMaRtI3Yo"
      },
      "source": [
        "xtrain = xtrain/255"
      ],
      "execution_count": null,
      "outputs": []
    },
    {
      "cell_type": "code",
      "metadata": {
        "id": "0TEvzfy5zfQ9"
      },
      "source": [
        "xtest = xtest/255"
      ],
      "execution_count": null,
      "outputs": []
    },
    {
      "cell_type": "code",
      "metadata": {
        "id": "-WTGnWneC_Bv"
      },
      "source": [
        "plt.imshow(xtest[0,:,:])"
      ],
      "execution_count": null,
      "outputs": []
    },
    {
      "cell_type": "code",
      "metadata": {
        "id": "QHSHD_sPJKLp"
      },
      "source": [
        "np.save('xtest.npy',xtest)\n",
        "np.save('ytest.npy',ytest)"
      ],
      "execution_count": null,
      "outputs": []
    },
    {
      "cell_type": "code",
      "metadata": {
        "id": "ZUOCl-mMIHBs"
      },
      "source": [
        "xtrain = np.load('/content/drive/MyDrive/train_set/xtrain.npy')\n",
        "ytrain = np.load('/content/drive/MyDrive/train_set/ytrain.npy')\n",
        "xtest = np.load('/content/drive/MyDrive/train_set/xtest.npy')\n",
        "ytest = np.load('/content/drive/MyDrive/train_set/ytest.npy')"
      ],
      "execution_count": null,
      "outputs": []
    },
    {
      "cell_type": "code",
      "metadata": {
        "id": "zttuoW83QroD"
      },
      "source": [
        "classes = {'1_Gunshot_m032s66_':1,'Gunshot':1, '2_Explosion_m014zdl_m0_1c_':2,'Explosion':2, '3_Car_Alarm_m02mfyn_':3,'Car Alarm':3, 'Interior_alarm':4,'Interior_Alarm':4, 'Siren':5, 'Screaming':6, 'Crying':7, 'Barking':8, 'Noise':9}"
      ],
      "execution_count": null,
      "outputs": []
    },
    {
      "cell_type": "code",
      "metadata": {
        "id": "rLzqCKM0PZXT"
      },
      "source": [
        "def one_hot(ytrain):\n",
        "  max_class = np.max(ytrain)\n",
        "  onehot = np.zeros((ytrain.shape[0], max_class))\n",
        "  for yt, oh in zip(ytrain, list(range(onehot.shape[0]))):\n",
        "    onehot[oh, yt-1] = 1\n",
        "  return onehot"
      ],
      "execution_count": null,
      "outputs": []
    },
    {
      "cell_type": "code",
      "metadata": {
        "id": "w3om1uqdSUz9"
      },
      "source": [
        "xtrain = np.expand_dims(xtrain, -1)\n",
        "xtrain = np.concatenate((xtrain,xtrain,xtrain), 3)\n",
        "ytrain_num = np.array([classes[i] for i in ytrain])\n",
        "ytrain_onehot = one_hot(ytrain_num)"
      ],
      "execution_count": null,
      "outputs": []
    },
    {
      "cell_type": "code",
      "metadata": {
        "id": "pNTZ5P-z0szm"
      },
      "source": [
        "xtest = np.expand_dims(xtest, -1)\n",
        "xtest = np.concatenate((xtest,xtest,xtest), 3)\n",
        "ytest_num = np.array([classes[i] for i in ytest])\n",
        "ytest_onehot = one_hot(ytest_num)"
      ],
      "execution_count": null,
      "outputs": []
    },
    {
      "cell_type": "code",
      "metadata": {
        "id": "WoAjyjA7l61s"
      },
      "source": [
        "model = tf.keras.applications.DenseNet201(include_top=True, weights=None , input_shape=xtest[0].shape, classes=9)\n",
        "model.compile(optimizer = tf.keras.optimizers.Adam(learning_rate = 0.0001), loss = tf.keras.losses.categorical_crossentropy,metrics=['accuracy'])"
      ],
      "execution_count": null,
      "outputs": []
    },
    {
      "cell_type": "code",
      "metadata": {
        "id": "tLpMXPfv0T5v"
      },
      "source": [
        "model = tf.keras.models.load_model('/content/drive/MyDrive/binary_model/Crying/DenseNet201_4_epoches_val_loss: 0.1674 - val_accuracy: 0.9404')"
      ],
      "execution_count": null,
      "outputs": []
    },
    {
      "cell_type": "code",
      "metadata": {
        "id": "rVV3gW5GtM7j"
      },
      "source": [
        "model.fit(xtrain, ytrain_onehot, epochs=1, batch_size=1,validation_data=(xtest,  ytest_onehot),verbose=1)"
      ],
      "execution_count": null,
      "outputs": []
    },
    {
      "cell_type": "code",
      "metadata": {
        "id": "vvUmEZeKhlUn"
      },
      "source": [
        "model.save('Xception_20_epoches_val_acc_0.4038.h5')"
      ],
      "execution_count": null,
      "outputs": []
    },
    {
      "cell_type": "code",
      "metadata": {
        "id": "Px4qJM_8uGZT"
      },
      "source": [
        "img = []\n",
        "for i in os.scandir('/content/drive/MyDrive/Noise_mel'):\n",
        "  if os.path.isfile(i):\n",
        "    img.append(cv2.imread(i.path, 0)/255.)\n",
        "img = np.expand_dims(img, -1)\n",
        "img = np.concatenate((img,img,img),axis=-1)\n",
        "img = np.array(img)"
      ],
      "execution_count": null,
      "outputs": []
    },
    {
      "cell_type": "code",
      "metadata": {
        "id": "qSdD0zLSPykq"
      },
      "source": [
        "noise_pred = model.predict(img)"
      ],
      "execution_count": null,
      "outputs": []
    },
    {
      "cell_type": "code",
      "metadata": {
        "id": "Dplu19dHQ6nZ"
      },
      "source": [
        "ypred = model.predict(xtest)"
      ],
      "execution_count": null,
      "outputs": []
    },
    {
      "cell_type": "code",
      "metadata": {
        "id": "NePiJgi3QVyR"
      },
      "source": [
        "n_p = noise_pred.argmax(axis=1)\n",
        "cname = [class_list[i] for i in n_p]"
      ],
      "execution_count": null,
      "outputs": []
    },
    {
      "cell_type": "code",
      "metadata": {
        "id": "hBezyIQ3RCpd"
      },
      "source": [
        "n_y = ypred.argmax(axis=1)\n",
        "cname_y = [class_list[i] for i in n_y]"
      ],
      "execution_count": null,
      "outputs": []
    },
    {
      "cell_type": "code",
      "metadata": {
        "id": "767b_V4QQsNN"
      },
      "source": [
        "high_prob_y = [a[i] for a,i in zip(ypred, n_y)]\n",
        "high_prob_noise = [a[i] for a,i in zip(noise_pred, n_p)]"
      ],
      "execution_count": null,
      "outputs": []
    },
    {
      "cell_type": "code",
      "metadata": {
        "id": "Wes_cBItRosN"
      },
      "source": [
        "min(high_prob_y)\n",
        "min(high_prob_noise)\n",
        "high_prob_y\n",
        "# for i,j in zip(cname, high_prob_noise):\n",
        "#   print(i,j)\n",
        "print(np.mean(high_prob_noise),np.mean(high_prob_y))"
      ],
      "execution_count": null,
      "outputs": []
    },
    {
      "cell_type": "code",
      "metadata": {
        "id": "qDXPlFMy-j5_"
      },
      "source": [
        "count = 0\n",
        "pred = model.predict(xtest)\n",
        "for i,j in zip(pred,ytest_onehot):\n",
        "  if i.argmax() == j.argmax():\n",
        "    count += 1\n",
        "print(count/len(pred))"
      ],
      "execution_count": null,
      "outputs": []
    },
    {
      "cell_type": "code",
      "metadata": {
        "id": "qes3j60wKM7r"
      },
      "source": [
        "count = 0\n",
        "pred = model.predict(xtrain)\n",
        "for i,j in zip(pred,ytrain_onehot):\n",
        "  if i.argmax() == j.argmax():\n",
        "    count += 1\n",
        "print(count/len(pred))"
      ],
      "execution_count": null,
      "outputs": []
    },
    {
      "cell_type": "code",
      "metadata": {
        "id": "DkmQ9Kmco7dP"
      },
      "source": [
        "model = tf.keras.models.load_model('/content/drive/MyDrive/binary_model/Barking/DenseNet201_15_epoches_val_loss: 0.0990 - val_accuracy: 0.9756')"
      ],
      "execution_count": null,
      "outputs": []
    },
    {
      "cell_type": "code",
      "metadata": {
        "id": "aes8LI2WzyvG"
      },
      "source": [
        "model.save('/content/drive/MyDrive/model_4/DenseNet201_Unbalanced14K_Noises_CONV2temp_12_epoches_batch32_val_loss: 1.1273 - val_accuracy: 0.7846.h5')"
      ],
      "execution_count": null,
      "outputs": []
    },
    {
      "cell_type": "code",
      "metadata": {
        "id": "jOf_aK7uXyq_"
      },
      "source": [
        "import cv2\n",
        "img = cv2.imread('/content/meltest.png',0)\n",
        "img = img/255"
      ],
      "execution_count": null,
      "outputs": []
    },
    {
      "cell_type": "code",
      "metadata": {
        "id": "pi1WOp-8YJA3"
      },
      "source": [
        "shape = (431, 128)\n",
        "img = cv2.resize(img, shape, cv2.INTER_AREA)"
      ],
      "execution_count": null,
      "outputs": []
    },
    {
      "cell_type": "code",
      "metadata": {
        "id": "x7IuK3WcYT-i"
      },
      "source": [
        "a = model.predict(np.array([np.dstack((img,img,img))]))\n",
        "class_list[a[0].argmax()]"
      ],
      "execution_count": null,
      "outputs": []
    },
    {
      "cell_type": "code",
      "metadata": {
        "id": "yTotqvQUYptg"
      },
      "source": [
        "plt.imshow(img, cmap = 'gray')"
      ],
      "execution_count": null,
      "outputs": []
    },
    {
      "cell_type": "markdown",
      "metadata": {
        "id": "oHZxOLr0ZO7F"
      },
      "source": [
        "## **2. Training Binary Model**"
      ]
    },
    {
      "cell_type": "markdown",
      "metadata": {
        "id": "2XzI3X-il2_p"
      },
      "source": [
        "### **2.1 Create a CNN binary classifier model**"
      ]
    },
    {
      "cell_type": "code",
      "metadata": {
        "id": "B95HVEWkBnLN"
      },
      "source": [
        "model = tf.keras.applications.DenseNet201(include_top=True, weights=None , input_shape=(128,128,3), classes=10)\n",
        "model.compile(optimizer = tf.keras.optimizers.Adam(learning_rate = 0.0001), loss = tf.keras.losses.categorical_crossentropy,metrics=['accuracy'])"
      ],
      "execution_count": null,
      "outputs": []
    },
    {
      "cell_type": "markdown",
      "metadata": {
        "id": "TBn_P62WmBVj"
      },
      "source": [
        "### **2.2 Create DataGenerator objects for training and testing**"
      ]
    },
    {
      "cell_type": "code",
      "metadata": {
        "id": "9_yYBdPT0R09"
      },
      "source": [
        "# model = tf.keras.models.load_model('/content/drive/MyDrive/model_4/DenseNet201_Unbalanced14K_NEW_CONV2_16_epoches_loss: 0.9654 - accuracy: 0.7509.h5')"
      ],
      "execution_count": null,
      "outputs": []
    },
    {
      "cell_type": "code",
      "metadata": {
        "colab": {
          "base_uri": "https://localhost:8080/"
        },
        "id": "LcgbNGBXrbpf",
        "outputId": "47c89f48-717b-47a7-c5ca-aec53e1ab7b8"
      },
      "source": [
        "from keras.utils.np_utils import to_categorical   \n",
        "\n",
        "# Define the class name (must be corresponded to folder name of each class)\n",
        "class_list = os.listdir(XXX) #class name from train folder\n",
        "# class_list = ['Gunshot', 'Explosion','Car Alarm','Interior_Alarm','Siren', 'Screaming', 'Crying','Barking','Noise']\n",
        "\n",
        "# Normalize image function\n",
        "load_func = lambda x:x/255\n",
        "\n",
        "datagen = tf.keras.preprocessing.image.ImageDataGenerator(preprocessing_function=load_func)\n",
        "\n",
        "# Train and test folder (including sub folders for each class above)\n",
        "train_path = XXX\n",
        "test_path = XXX\n",
        "\n",
        "# Image size\n",
        "target_size = (300, 300)\n",
        "\n",
        "# load and iterate training dataset\n",
        "train_it = datagen.flow_from_directory(train_path, class_mode='categorical', batch_size=16,target_size=target_size,classes=class_list,shuffle=True)\n",
        "#FALSE SHUFFLEEE____________________++++++++++++++++++\n",
        "test_it  = datagen.flow_from_directory(test_path, class_mode='categorical', batch_size=1,target_size=target_size,classes=class_list,shuffle=False)"
      ],
      "execution_count": null,
      "outputs": [
        {
          "output_type": "stream",
          "text": [
            "Found 22729 images belonging to 9 classes.\n",
            "Found 1393 images belonging to 9 classes.\n"
          ],
          "name": "stdout"
        }
      ]
    },
    {
      "cell_type": "markdown",
      "metadata": {
        "id": "3rEIl9lKnJfR"
      },
      "source": [
        "### **2.3 Change the labels of data**\n",
        "- Specify the class index that we interest from class_list (0-7)\n",
        "- The specified class will be re-labeled to 1\n",
        "- The rest of the classes will be re-labeled to 0"
      ]
    },
    {
      "cell_type": "markdown",
      "metadata": {
        "id": "-wdvPHk-n6ch"
      },
      "source": [
        "**This cell will be used instead of the cell above IF THE CLASS INDEX IS ZERO! (0)**"
      ]
    },
    {
      "cell_type": "markdown",
      "metadata": {
        "id": "5bYioEpOorbv"
      },
      "source": [
        "### **2.4 Fit the model**"
      ]
    },
    {
      "cell_type": "code",
      "metadata": {
        "colab": {
          "base_uri": "https://localhost:8080/"
        },
        "id": "9fU5NHvZ8Etk",
        "outputId": "f6d096b0-0826-41cf-e855-56e1df004f95"
      },
      "source": [
        "model.fit(train_it,epochs=30, validation_data=test_it,verbose=1,workers=8)"
      ],
      "execution_count": null,
      "outputs": [
        {
          "output_type": "stream",
          "text": [
            "Epoch 1/6\n",
            "1421/1421 [==============================] - 508s 357ms/step - loss: 0.2285 - accuracy: 0.8909 - val_loss: 0.5615 - val_accuracy: 0.7688\n",
            "Epoch 2/6\n",
            "1421/1421 [==============================] - 509s 358ms/step - loss: 0.2144 - accuracy: 0.8974 - val_loss: 1.0424 - val_accuracy: 0.6368\n",
            "Epoch 3/6\n",
            "1421/1421 [==============================] - 507s 357ms/step - loss: 0.2125 - accuracy: 0.8996 - val_loss: 0.5151 - val_accuracy: 0.8141\n",
            "Epoch 4/6\n",
            "1421/1421 [==============================] - 507s 356ms/step - loss: 0.1972 - accuracy: 0.9022 - val_loss: 1.0451 - val_accuracy: 0.6475\n",
            "Epoch 5/6\n",
            "1421/1421 [==============================] - 507s 357ms/step - loss: 0.1905 - accuracy: 0.9069 - val_loss: 0.2095 - val_accuracy: 0.9196\n",
            "Epoch 6/6\n",
            "1421/1421 [==============================] - 508s 357ms/step - loss: 0.1934 - accuracy: 0.9056 - val_loss: 0.3448 - val_accuracy: 0.8629\n"
          ],
          "name": "stdout"
        },
        {
          "output_type": "execute_result",
          "data": {
            "text/plain": [
              "<tensorflow.python.keras.callbacks.History at 0x7f994ec04cd0>"
            ]
          },
          "metadata": {
            "tags": []
          },
          "execution_count": 46
        }
      ]
    },
    {
      "cell_type": "markdown",
      "metadata": {
        "id": "2tpn74Ylo4hI"
      },
      "source": [
        "**Set a new learning rate..**"
      ]
    },
    {
      "cell_type": "code",
      "metadata": {
        "id": "9HdTLEXBw9dI"
      },
      "source": [
        "from keras import backend as K\n",
        "K.set_value(model.optimizer.learning_rate, 0.00003)"
      ],
      "execution_count": null,
      "outputs": []
    },
    {
      "cell_type": "code",
      "metadata": {
        "id": "nAzNkotp39mU"
      },
      "source": [
        "model.save('/content/drive/MyDrive/binary_model/Gunshot/DenseNet201_16_epoches_val_loss: 0.3448 - val_accuracy: 0.8629.h5')"
      ],
      "execution_count": null,
      "outputs": []
    },
    {
      "cell_type": "markdown",
      "metadata": {
        "id": "2MmgGvSPo_q5"
      },
      "source": [
        "### **2.5 Evaluate the model and show reports**"
      ]
    },
    {
      "cell_type": "code",
      "metadata": {
        "colab": {
          "base_uri": "https://localhost:8080/"
        },
        "id": "24jFGwIEql9a",
        "outputId": "6d2a91c9-2d7f-4e9f-8b52-c6783ca0d11a"
      },
      "source": [
        "from tqdm import tqdm\n",
        "file_names = []\n",
        "test_it.reset()\n",
        "X_test, y_test = next(test_it,6)\n",
        "file_names.append(test_it.filenames[0])\n",
        "for i in tqdm(range(int(len(test_it)/1)-1)):\n",
        "  img, label = next(test_it,6)\n",
        "  file_names.append(test_it.filenames[i+1])\n",
        "  X_test = np.append(X_test, img, axis=0 )\n",
        "  y_test = np.append(y_test, label, axis=0)\n",
        "print(X_test.shape, y_test.shape)"
      ],
      "execution_count": null,
      "outputs": [
        {
          "output_type": "stream",
          "text": [
            "100%|██████████| 1392/1392 [10:11<00:00,  2.28it/s]"
          ],
          "name": "stderr"
        },
        {
          "output_type": "stream",
          "text": [
            "(1393, 128, 431, 3) (1393, 9)\n"
          ],
          "name": "stdout"
        },
        {
          "output_type": "stream",
          "text": [
            "\n"
          ],
          "name": "stderr"
        }
      ]
    },
    {
      "cell_type": "code",
      "metadata": {
        "id": "yiLCFhDkrqjA",
        "colab": {
          "base_uri": "https://localhost:8080/",
          "height": 1000
        },
        "outputId": "e2494e65-10b2-4cfa-f80d-557554bd9fb3"
      },
      "source": [
        "from sklearn.metrics import classification_report\n",
        "import numpy as np\n",
        "import pandas as pd\n",
        "import scikitplot as skplt\n",
        "import matplotlib.pyplot as plt\n",
        "from sklearn.metrics import confusion_matrix\n",
        "import matplotlib.pyplot as plt\n",
        "from sklearn.model_selection import train_test_split\n",
        "from sklearn.metrics import plot_confusion_matrix\n",
        "from sklearn.metrics import confusion_matrix\n",
        "from sklearn.neural_network import MLPClassifier\n",
        "\n",
        "\n",
        "Y_test = np.argmax(y_test, axis=1) # Convert one-hot to index\n",
        "y_pred = model.predict(X_test)\n",
        "Y_pred = np.argmax(y_pred, axis=1)\n",
        "\n",
        "skplt.metrics.plot_roc_curve(y_true =  Y_test,y_probas= y_pred,)\n",
        "\n",
        "a = confusion_matrix(Y_test, Y_pred)\n",
        "\n",
        "class newmodel(MLPClassifier):\n",
        "    def __init__(self, model):\n",
        "        self.model = model\n",
        "    def predict(self, X):\n",
        "        y = self.model.predict(X)\n",
        "        return np.argmax(y,axis=1)\n",
        "\n",
        "disp = plot_confusion_matrix(newmodel(model), X_test, Y_test,\n",
        "                                 display_labels=list(test_it.class_indices.keys()),\n",
        "                                 cmap=plt.cm.Blues,xticks_rotation='vertical')\n",
        "# disp = plot_confusion_matrix(newmodel(model), X_test, Y_test,\n",
        "#                                  display_labels=['0','1'],\n",
        "#                                  cmap=plt.cm.Blues,xticks_rotation='vertical')\n",
        "df = pd.DataFrame.from_dict(classification_report(Y_test, Y_pred,target_names=list(test_it.class_indices.keys()),output_dict=True))\n",
        "# df = pd.DataFrame.from_dict(classification_report(Y_test, Y_pred,output_dict=True))\n",
        "\n",
        "df.transpose()\n",
        "# print(test_it.class_indices)"
      ],
      "execution_count": null,
      "outputs": [
        {
          "output_type": "stream",
          "text": [
            "/usr/local/lib/python3.7/dist-packages/sklearn/utils/deprecation.py:87: FutureWarning: Function plot_roc_curve is deprecated; This will be removed in v0.5.0. Please use scikitplot.metrics.plot_roc instead.\n",
            "  warnings.warn(msg, category=FutureWarning)\n"
          ],
          "name": "stderr"
        },
        {
          "output_type": "execute_result",
          "data": {
            "text/html": [
              "<div>\n",
              "<style scoped>\n",
              "    .dataframe tbody tr th:only-of-type {\n",
              "        vertical-align: middle;\n",
              "    }\n",
              "\n",
              "    .dataframe tbody tr th {\n",
              "        vertical-align: top;\n",
              "    }\n",
              "\n",
              "    .dataframe thead th {\n",
              "        text-align: right;\n",
              "    }\n",
              "</style>\n",
              "<table border=\"1\" class=\"dataframe\">\n",
              "  <thead>\n",
              "    <tr style=\"text-align: right;\">\n",
              "      <th></th>\n",
              "      <th>precision</th>\n",
              "      <th>recall</th>\n",
              "      <th>f1-score</th>\n",
              "      <th>support</th>\n",
              "    </tr>\n",
              "  </thead>\n",
              "  <tbody>\n",
              "    <tr>\n",
              "      <th>Gunshot</th>\n",
              "      <td>0.791667</td>\n",
              "      <td>0.539007</td>\n",
              "      <td>0.641350</td>\n",
              "      <td>141.000000</td>\n",
              "    </tr>\n",
              "    <tr>\n",
              "      <th>Explosion</th>\n",
              "      <td>0.481481</td>\n",
              "      <td>0.565217</td>\n",
              "      <td>0.520000</td>\n",
              "      <td>92.000000</td>\n",
              "    </tr>\n",
              "    <tr>\n",
              "      <th>Car Alarm</th>\n",
              "      <td>0.425926</td>\n",
              "      <td>0.469388</td>\n",
              "      <td>0.446602</td>\n",
              "      <td>49.000000</td>\n",
              "    </tr>\n",
              "    <tr>\n",
              "      <th>Interior_Alarm</th>\n",
              "      <td>0.800000</td>\n",
              "      <td>0.677966</td>\n",
              "      <td>0.733945</td>\n",
              "      <td>118.000000</td>\n",
              "    </tr>\n",
              "    <tr>\n",
              "      <th>Siren</th>\n",
              "      <td>0.859060</td>\n",
              "      <td>0.699454</td>\n",
              "      <td>0.771084</td>\n",
              "      <td>183.000000</td>\n",
              "    </tr>\n",
              "    <tr>\n",
              "      <th>Screaming</th>\n",
              "      <td>0.340000</td>\n",
              "      <td>0.404762</td>\n",
              "      <td>0.369565</td>\n",
              "      <td>42.000000</td>\n",
              "    </tr>\n",
              "    <tr>\n",
              "      <th>Crying</th>\n",
              "      <td>0.590361</td>\n",
              "      <td>0.720588</td>\n",
              "      <td>0.649007</td>\n",
              "      <td>68.000000</td>\n",
              "    </tr>\n",
              "    <tr>\n",
              "      <th>Barking</th>\n",
              "      <td>0.842105</td>\n",
              "      <td>0.640000</td>\n",
              "      <td>0.727273</td>\n",
              "      <td>50.000000</td>\n",
              "    </tr>\n",
              "    <tr>\n",
              "      <th>Noise</th>\n",
              "      <td>0.823776</td>\n",
              "      <td>0.906154</td>\n",
              "      <td>0.863004</td>\n",
              "      <td>650.000000</td>\n",
              "    </tr>\n",
              "    <tr>\n",
              "      <th>accuracy</th>\n",
              "      <td>0.750897</td>\n",
              "      <td>0.750897</td>\n",
              "      <td>0.750897</td>\n",
              "      <td>0.750897</td>\n",
              "    </tr>\n",
              "    <tr>\n",
              "      <th>macro avg</th>\n",
              "      <td>0.661597</td>\n",
              "      <td>0.624726</td>\n",
              "      <td>0.635759</td>\n",
              "      <td>1393.000000</td>\n",
              "    </tr>\n",
              "    <tr>\n",
              "      <th>weighted avg</th>\n",
              "      <td>0.761223</td>\n",
              "      <td>0.750897</td>\n",
              "      <td>0.750063</td>\n",
              "      <td>1393.000000</td>\n",
              "    </tr>\n",
              "  </tbody>\n",
              "</table>\n",
              "</div>"
            ],
            "text/plain": [
              "                precision    recall  f1-score      support\n",
              "Gunshot          0.791667  0.539007  0.641350   141.000000\n",
              "Explosion        0.481481  0.565217  0.520000    92.000000\n",
              "Car Alarm        0.425926  0.469388  0.446602    49.000000\n",
              "Interior_Alarm   0.800000  0.677966  0.733945   118.000000\n",
              "Siren            0.859060  0.699454  0.771084   183.000000\n",
              "Screaming        0.340000  0.404762  0.369565    42.000000\n",
              "Crying           0.590361  0.720588  0.649007    68.000000\n",
              "Barking          0.842105  0.640000  0.727273    50.000000\n",
              "Noise            0.823776  0.906154  0.863004   650.000000\n",
              "accuracy         0.750897  0.750897  0.750897     0.750897\n",
              "macro avg        0.661597  0.624726  0.635759  1393.000000\n",
              "weighted avg     0.761223  0.750897  0.750063  1393.000000"
            ]
          },
          "metadata": {
            "tags": []
          },
          "execution_count": 11
        },
        {
          "output_type": "display_data",
          "data": {
            "image/png": "[encoded data removed]",
            "text/plain": [
              "<Figure size 432x288 with 1 Axes>"
            ]
          },
          "metadata": {
            "tags": [],
            "needs_background": "light"
          }
        },
        {
          "output_type": "display_data",
          "data": {
            "image/png": "[encoded data removed]",
            "text/plain": [
              "<Figure size 432x288 with 2 Axes>"
            ]
          },
          "metadata": {
            "tags": [],
            "needs_background": "light"
          }
        }
      ]
    },
    {
      "cell_type": "markdown",
      "metadata": {
        "id": "9UDg_trnpQO4"
      },
      "source": [
        "### IRRELEVANT CODE"
      ]
    },
    {
      "cell_type": "code",
      "metadata": {
        "id": "UbAudJvur3l8"
      },
      "source": [
        "pred_noise = model.predict(X_test)"
      ],
      "execution_count": null,
      "outputs": []
    },
    {
      "cell_type": "code",
      "metadata": {
        "id": "loBdJxLysaYe"
      },
      "source": [
        "pred_noise = pred_noise.argmax(axis=1)"
      ],
      "execution_count": null,
      "outputs": []
    },
    {
      "cell_type": "code",
      "metadata": {
        "id": "kKKuh6c2dsV_"
      },
      "source": [
        "file_names = np.array(file_names)"
      ],
      "execution_count": null,
      "outputs": []
    },
    {
      "cell_type": "code",
      "metadata": {
        "id": "UC8Ite9DskyJ"
      },
      "source": [
        "plabel = np.array([class_list[i] for i in pred_noise])\n",
        "scream = plabel == 'Screaming'\n",
        "cry = plabel == 'Crying'\n",
        "scream_cry = scream | cry\n",
        "# X_t = X_test[Y_test == 8]\n",
        "file_names[scream_cry]"
      ],
      "execution_count": null,
      "outputs": []
    },
    {
      "cell_type": "code",
      "metadata": {
        "colab": {
          "base_uri": "https://localhost:8080/",
          "height": 338
        },
        "id": "dy4BZ2OXgfF5",
        "outputId": "6f523d24-787d-42c5-9a3e-2b6e1d4db595"
      },
      "source": [
        "from IPython.display import Audio\n",
        "import librosa as lr\n",
        "Audio(filename='/content/drive/MyDrive/Clapping/-DoI-3Hjx-Q.wav')"
      ],
      "execution_count": null,
      "outputs": [
        {
          "output_type": "error",
          "ename": "FileNotFoundError",
          "evalue": "ignored",
          "traceback": [
            "\u001b[0;31m---------------------------------------------------------------------------\u001b[0m",
            "\u001b[0;31mFileNotFoundError\u001b[0m                         Traceback (most recent call last)",
            "\u001b[0;32m<ipython-input-54-f98c1ad5bcca>\u001b[0m in \u001b[0;36m<module>\u001b[0;34m()\u001b[0m\n\u001b[1;32m      1\u001b[0m \u001b[0;32mfrom\u001b[0m \u001b[0mIPython\u001b[0m\u001b[0;34m.\u001b[0m\u001b[0mdisplay\u001b[0m \u001b[0;32mimport\u001b[0m \u001b[0mAudio\u001b[0m\u001b[0;34m\u001b[0m\u001b[0;34m\u001b[0m\u001b[0m\n\u001b[1;32m      2\u001b[0m \u001b[0;32mimport\u001b[0m \u001b[0mlibrosa\u001b[0m \u001b[0;32mas\u001b[0m \u001b[0mlr\u001b[0m\u001b[0;34m\u001b[0m\u001b[0;34m\u001b[0m\u001b[0m\n\u001b[0;32m----> 3\u001b[0;31m \u001b[0mAudio\u001b[0m\u001b[0;34m(\u001b[0m\u001b[0mfilename\u001b[0m\u001b[0;34m=\u001b[0m\u001b[0;34m'/content/drive/MyDrive/Clapping/-DoI-3Hjx-Q.wav'\u001b[0m\u001b[0;34m)\u001b[0m\u001b[0;34m\u001b[0m\u001b[0;34m\u001b[0m\u001b[0m\n\u001b[0m",
            "\u001b[0;32m/usr/local/lib/python3.7/dist-packages/IPython/lib/display.py\u001b[0m in \u001b[0;36m__init__\u001b[0;34m(self, data, filename, url, embed, rate, autoplay)\u001b[0m\n\u001b[1;32m     94\u001b[0m             \u001b[0mself\u001b[0m\u001b[0;34m.\u001b[0m\u001b[0membed\u001b[0m \u001b[0;34m=\u001b[0m \u001b[0;32mTrue\u001b[0m\u001b[0;34m\u001b[0m\u001b[0;34m\u001b[0m\u001b[0m\n\u001b[1;32m     95\u001b[0m         \u001b[0mself\u001b[0m\u001b[0;34m.\u001b[0m\u001b[0mautoplay\u001b[0m \u001b[0;34m=\u001b[0m \u001b[0mautoplay\u001b[0m\u001b[0;34m\u001b[0m\u001b[0;34m\u001b[0m\u001b[0m\n\u001b[0;32m---> 96\u001b[0;31m         \u001b[0msuper\u001b[0m\u001b[0;34m(\u001b[0m\u001b[0mAudio\u001b[0m\u001b[0;34m,\u001b[0m \u001b[0mself\u001b[0m\u001b[0;34m)\u001b[0m\u001b[0;34m.\u001b[0m\u001b[0m__init__\u001b[0m\u001b[0;34m(\u001b[0m\u001b[0mdata\u001b[0m\u001b[0;34m=\u001b[0m\u001b[0mdata\u001b[0m\u001b[0;34m,\u001b[0m \u001b[0murl\u001b[0m\u001b[0;34m=\u001b[0m\u001b[0murl\u001b[0m\u001b[0;34m,\u001b[0m \u001b[0mfilename\u001b[0m\u001b[0;34m=\u001b[0m\u001b[0mfilename\u001b[0m\u001b[0;34m)\u001b[0m\u001b[0;34m\u001b[0m\u001b[0;34m\u001b[0m\u001b[0m\n\u001b[0m\u001b[1;32m     97\u001b[0m \u001b[0;34m\u001b[0m\u001b[0m\n\u001b[1;32m     98\u001b[0m         \u001b[0;32mif\u001b[0m \u001b[0mself\u001b[0m\u001b[0;34m.\u001b[0m\u001b[0mdata\u001b[0m \u001b[0;32mis\u001b[0m \u001b[0;32mnot\u001b[0m \u001b[0;32mNone\u001b[0m \u001b[0;32mand\u001b[0m \u001b[0;32mnot\u001b[0m \u001b[0misinstance\u001b[0m\u001b[0;34m(\u001b[0m\u001b[0mself\u001b[0m\u001b[0;34m.\u001b[0m\u001b[0mdata\u001b[0m\u001b[0;34m,\u001b[0m \u001b[0mbytes\u001b[0m\u001b[0;34m)\u001b[0m\u001b[0;34m:\u001b[0m\u001b[0;34m\u001b[0m\u001b[0;34m\u001b[0m\u001b[0m\n",
            "\u001b[0;32m/usr/local/lib/python3.7/dist-packages/IPython/core/display.py\u001b[0m in \u001b[0;36m__init__\u001b[0;34m(self, data, url, filename)\u001b[0m\n\u001b[1;32m    611\u001b[0m         \u001b[0mself\u001b[0m\u001b[0;34m.\u001b[0m\u001b[0mfilename\u001b[0m \u001b[0;34m=\u001b[0m \u001b[0;32mNone\u001b[0m \u001b[0;32mif\u001b[0m \u001b[0mfilename\u001b[0m \u001b[0;32mis\u001b[0m \u001b[0;32mNone\u001b[0m \u001b[0;32melse\u001b[0m \u001b[0municode_type\u001b[0m\u001b[0;34m(\u001b[0m\u001b[0mfilename\u001b[0m\u001b[0;34m)\u001b[0m\u001b[0;34m\u001b[0m\u001b[0;34m\u001b[0m\u001b[0m\n\u001b[1;32m    612\u001b[0m \u001b[0;34m\u001b[0m\u001b[0m\n\u001b[0;32m--> 613\u001b[0;31m         \u001b[0mself\u001b[0m\u001b[0;34m.\u001b[0m\u001b[0mreload\u001b[0m\u001b[0;34m(\u001b[0m\u001b[0;34m)\u001b[0m\u001b[0;34m\u001b[0m\u001b[0;34m\u001b[0m\u001b[0m\n\u001b[0m\u001b[1;32m    614\u001b[0m         \u001b[0mself\u001b[0m\u001b[0;34m.\u001b[0m\u001b[0m_check_data\u001b[0m\u001b[0;34m(\u001b[0m\u001b[0;34m)\u001b[0m\u001b[0;34m\u001b[0m\u001b[0;34m\u001b[0m\u001b[0m\n\u001b[1;32m    615\u001b[0m \u001b[0;34m\u001b[0m\u001b[0m\n",
            "\u001b[0;32m/usr/local/lib/python3.7/dist-packages/IPython/lib/display.py\u001b[0m in \u001b[0;36mreload\u001b[0;34m(self)\u001b[0m\n\u001b[1;32m    103\u001b[0m         \u001b[0;32mimport\u001b[0m \u001b[0mmimetypes\u001b[0m\u001b[0;34m\u001b[0m\u001b[0;34m\u001b[0m\u001b[0m\n\u001b[1;32m    104\u001b[0m         \u001b[0;32mif\u001b[0m \u001b[0mself\u001b[0m\u001b[0;34m.\u001b[0m\u001b[0membed\u001b[0m\u001b[0;34m:\u001b[0m\u001b[0;34m\u001b[0m\u001b[0;34m\u001b[0m\u001b[0m\n\u001b[0;32m--> 105\u001b[0;31m             \u001b[0msuper\u001b[0m\u001b[0;34m(\u001b[0m\u001b[0mAudio\u001b[0m\u001b[0;34m,\u001b[0m \u001b[0mself\u001b[0m\u001b[0;34m)\u001b[0m\u001b[0;34m.\u001b[0m\u001b[0mreload\u001b[0m\u001b[0;34m(\u001b[0m\u001b[0;34m)\u001b[0m\u001b[0;34m\u001b[0m\u001b[0;34m\u001b[0m\u001b[0m\n\u001b[0m\u001b[1;32m    106\u001b[0m \u001b[0;34m\u001b[0m\u001b[0m\n\u001b[1;32m    107\u001b[0m         \u001b[0;32mif\u001b[0m \u001b[0mself\u001b[0m\u001b[0;34m.\u001b[0m\u001b[0mfilename\u001b[0m \u001b[0;32mis\u001b[0m \u001b[0;32mnot\u001b[0m \u001b[0;32mNone\u001b[0m\u001b[0;34m:\u001b[0m\u001b[0;34m\u001b[0m\u001b[0;34m\u001b[0m\u001b[0m\n",
            "\u001b[0;32m/usr/local/lib/python3.7/dist-packages/IPython/core/display.py\u001b[0m in \u001b[0;36mreload\u001b[0;34m(self)\u001b[0m\n\u001b[1;32m    629\u001b[0m         \u001b[0;34m\"\"\"Reload the raw data from file or URL.\"\"\"\u001b[0m\u001b[0;34m\u001b[0m\u001b[0;34m\u001b[0m\u001b[0m\n\u001b[1;32m    630\u001b[0m         \u001b[0;32mif\u001b[0m \u001b[0mself\u001b[0m\u001b[0;34m.\u001b[0m\u001b[0mfilename\u001b[0m \u001b[0;32mis\u001b[0m \u001b[0;32mnot\u001b[0m \u001b[0;32mNone\u001b[0m\u001b[0;34m:\u001b[0m\u001b[0;34m\u001b[0m\u001b[0;34m\u001b[0m\u001b[0m\n\u001b[0;32m--> 631\u001b[0;31m             \u001b[0;32mwith\u001b[0m \u001b[0mopen\u001b[0m\u001b[0;34m(\u001b[0m\u001b[0mself\u001b[0m\u001b[0;34m.\u001b[0m\u001b[0mfilename\u001b[0m\u001b[0;34m,\u001b[0m \u001b[0mself\u001b[0m\u001b[0;34m.\u001b[0m\u001b[0m_read_flags\u001b[0m\u001b[0;34m)\u001b[0m \u001b[0;32mas\u001b[0m \u001b[0mf\u001b[0m\u001b[0;34m:\u001b[0m\u001b[0;34m\u001b[0m\u001b[0;34m\u001b[0m\u001b[0m\n\u001b[0m\u001b[1;32m    632\u001b[0m                 \u001b[0mself\u001b[0m\u001b[0;34m.\u001b[0m\u001b[0mdata\u001b[0m \u001b[0;34m=\u001b[0m \u001b[0mf\u001b[0m\u001b[0;34m.\u001b[0m\u001b[0mread\u001b[0m\u001b[0;34m(\u001b[0m\u001b[0;34m)\u001b[0m\u001b[0;34m\u001b[0m\u001b[0;34m\u001b[0m\u001b[0m\n\u001b[1;32m    633\u001b[0m         \u001b[0;32melif\u001b[0m \u001b[0mself\u001b[0m\u001b[0;34m.\u001b[0m\u001b[0murl\u001b[0m \u001b[0;32mis\u001b[0m \u001b[0;32mnot\u001b[0m \u001b[0;32mNone\u001b[0m\u001b[0;34m:\u001b[0m\u001b[0;34m\u001b[0m\u001b[0;34m\u001b[0m\u001b[0m\n",
            "\u001b[0;31mFileNotFoundError\u001b[0m: [Errno 2] No such file or directory: '/content/drive/MyDrive/Clapping/-DoI-3Hjx-Q.wav'"
          ]
        }
      ]
    },
    {
      "cell_type": "code",
      "metadata": {
        "colab": {
          "base_uri": "https://localhost:8080/"
        },
        "id": "a5LGLolZFAAB",
        "outputId": "969471ef-61f2-4252-b2e4-0315e6c23616"
      },
      "source": [
        "model.evaluate(train_it)"
      ],
      "execution_count": null,
      "outputs": [
        {
          "output_type": "stream",
          "text": [
            "6111/6111 [==============================] - 82s 13ms/step - loss: 2.5070 - accuracy: 0.6010\n"
          ],
          "name": "stdout"
        },
        {
          "output_type": "execute_result",
          "data": {
            "text/plain": [
              "[2.5069825649261475, 0.6010472774505615]"
            ]
          },
          "metadata": {
            "tags": []
          },
          "execution_count": 24
        }
      ]
    },
    {
      "cell_type": "code",
      "metadata": {
        "colab": {
          "base_uri": "https://localhost:8080/"
        },
        "id": "rV9GimUlFBM_",
        "outputId": "a7502bb6-fcfc-46fb-f3cb-9e1df3fd6a16"
      },
      "source": [
        "model.evaluate(test_it)"
      ],
      "execution_count": null,
      "outputs": [
        {
          "output_type": "stream",
          "text": [
            "1393/1393 [==============================] - 50s 36ms/step - loss: 0.9654 - accuracy: 0.7509\n"
          ],
          "name": "stdout"
        },
        {
          "output_type": "execute_result",
          "data": {
            "text/plain": [
              "[0.9654493927955627, 0.7508973479270935]"
            ]
          },
          "metadata": {
            "tags": []
          },
          "execution_count": 15
        }
      ]
    },
    {
      "cell_type": "code",
      "metadata": {
        "id": "Wlie8XGHprmX"
      },
      "source": [
        "model.save('DenseNet201_Unbalanced14K_NEW_CONV2_16_epoches_loss: 0.9654 - accuracy: 0.7509.h5')"
      ],
      "execution_count": null,
      "outputs": []
    },
    {
      "cell_type": "code",
      "metadata": {
        "colab": {
          "base_uri": "https://localhost:8080/"
        },
        "id": "-H011GzEuAS4",
        "outputId": "5afa2c0c-619c-4233-9113-103c09f831b8"
      },
      "source": [
        "test_it.class_indices"
      ],
      "execution_count": null,
      "outputs": [
        {
          "output_type": "execute_result",
          "data": {
            "text/plain": [
              "{'Barking': 7,\n",
              " 'Car Alarm': 2,\n",
              " 'Crying': 6,\n",
              " 'Explosion': 1,\n",
              " 'Gunshot': 0,\n",
              " 'Interior_Alarm': 3,\n",
              " 'Screaming': 5,\n",
              " 'Siren': 4}"
            ]
          },
          "metadata": {
            "tags": []
          },
          "execution_count": 24
        }
      ]
    },
    {
      "cell_type": "code",
      "metadata": {
        "colab": {
          "base_uri": "https://localhost:8080/"
        },
        "id": "sIhTVtwiuDIm",
        "outputId": "1fe92134-4d3b-4524-ce69-27c32aa17e87"
      },
      "source": [
        "try:\n",
        " device_name = os.environ['COLAB_TPU_ADDR']\n",
        " TPU_ADDRESS = 'grpc://' + device_name\n",
        " print('Found TPU at: {}'.format(TPU_ADDRESS))\n",
        "except KeyError:\n",
        " print('TPU not found')"
      ],
      "execution_count": null,
      "outputs": [
        {
          "output_type": "stream",
          "text": [
            "Found TPU at: grpc://10.8.140.130:8470\n"
          ],
          "name": "stdout"
        }
      ]
    },
    {
      "cell_type": "code",
      "metadata": {
        "id": "1JkBIP7cU5an"
      },
      "source": [
        "resolver = tf.distribute.cluster_resolver.TPUClusterResolver(tpu='grpc://' + os.environ['COLAB_TPU_ADDR'])\n",
        "tf.config.experimental_connect_to_host(resolver.master())\n",
        "tf.tpu.experimental.initialize_tpu_system(resolver)\n",
        "strategy = tf.distribute.experimental.TPUStrategy(resolver)\n",
        "\n",
        "with strategy.scope():\n",
        "  model = tf.keras.models.load_model('/content/drive/MyDrive/model/RestNet50_UnbalancedV1_31_epoches_val_acc_0.5236.h5')\n",
        "  model.fit(train_it,epochs=5, validation_data=test_it,verbose=1)\n",
        "\n"
      ],
      "execution_count": null,
      "outputs": []
    },
    {
      "cell_type": "code",
      "metadata": {
        "colab": {
          "base_uri": "https://localhost:8080/"
        },
        "id": "nY68Ag5z_DWn",
        "outputId": "05659f6b-140d-4a2e-8cd0-491d221a672a"
      },
      "source": [
        "!nvidia-smi"
      ],
      "execution_count": null,
      "outputs": [
        {
          "output_type": "stream",
          "text": [
            "Tue Jun 22 04:30:57 2021       \n",
            "+-----------------------------------------------------------------------------+\n",
            "| NVIDIA-SMI 465.27       Driver Version: 460.32.03    CUDA Version: 11.2     |\n",
            "|-------------------------------+----------------------+----------------------+\n",
            "| GPU  Name        Persistence-M| Bus-Id        Disp.A | Volatile Uncorr. ECC |\n",
            "| Fan  Temp  Perf  Pwr:Usage/Cap|         Memory-Usage | GPU-Util  Compute M. |\n",
            "|                               |                      |               MIG M. |\n",
            "|===============================+======================+======================|\n",
            "|   0  Tesla K80           Off  | 00000000:00:04.0 Off |                    0 |\n",
            "| N/A   73C    P0    78W / 149W |   5370MiB / 11441MiB |      0%      Default |\n",
            "|                               |                      |                  N/A |\n",
            "+-------------------------------+----------------------+----------------------+\n",
            "                                                                               \n",
            "+-----------------------------------------------------------------------------+\n",
            "| Processes:                                                                  |\n",
            "|  GPU   GI   CI        PID   Type   Process name                  GPU Memory |\n",
            "|        ID   ID                                                   Usage      |\n",
            "|=============================================================================|\n",
            "+-----------------------------------------------------------------------------+\n"
          ],
          "name": "stdout"
        }
      ]
    },
    {
      "cell_type": "markdown",
      "metadata": {
        "id": "FlD72ePBp1Ya"
      },
      "source": [
        "## **TF Graph**"
      ]
    },
    {
      "cell_type": "code",
      "metadata": {
        "id": "9WBYM08yqSbd"
      },
      "source": [
        "a = []\n",
        "b = []\n",
        "from tensorflow.python.platform import gfile\n",
        "with tf.compat.v1.Session() as sess:\n",
        "    with gfile.FastGFile('/content/drive/MyDrive/model_3/DenseNet201/frozen_graph.pb', 'rb') as f:\n",
        "        graph_def = tf.compat.v1.GraphDef()\n",
        "        graph_def.ParseFromString(f.read())\n",
        "        sess.graph.as_default()\n",
        "        g_in = tf.import_graph_def(graph_def)\n",
        "    for op in tf.compat.v1.get_default_graph().get_operations():\n",
        "        a.append(str(op.name))\n",
        "    for n in tf.compat.v1.get_default_graph().as_graph_def().node:\n",
        "        b.append(n.name)"
      ],
      "execution_count": null,
      "outputs": []
    },
    {
      "cell_type": "code",
      "metadata": {
        "colab": {
          "base_uri": "https://localhost:8080/"
        },
        "id": "IWglfXGGI2SE",
        "outputId": "c46f70bb-4cbc-4ab3-8a17-e14dc8db46c8"
      },
      "source": [
        "list(filter(lambda x : 'input' in x ,b))"
      ],
      "execution_count": null,
      "outputs": [
        {
          "output_type": "execute_result",
          "data": {
            "text/plain": [
              "['import/serving_default_input_2', 'import_1/serving_default_input_2']"
            ]
          },
          "metadata": {
            "tags": []
          },
          "execution_count": 78
        }
      ]
    },
    {
      "cell_type": "code",
      "metadata": {
        "colab": {
          "base_uri": "https://localhost:8080/"
        },
        "id": "lGDNx6-lIASl",
        "outputId": "ba4482e7-1a6a-491a-a47e-4c393dbb7710"
      },
      "source": [
        "from tensorflow.python.platform import gfile\n",
        "with tf.compat.v1.Session() as sess:\n",
        "    with gfile.FastGFile('/content/drive/MyDrive/model_3/DenseNet201/frozen_graph.pb', 'rb') as f:\n",
        "        graph_def = tf.compat.v1.GraphDef()\n",
        "        graph_def.ParseFromString(f.read())\n",
        "        sess.graph.as_default()\n",
        "        g_in = tf.import_graph_def(graph_def)\n",
        "    tensor_output = sess.graph.get_tensor_by_name('import_4/densenet201/predictions/Softmax:0')\n",
        "    tensor_input = sess.graph.get_tensor_by_name('import_4/x:0')\n",
        "    predictions = sess.run(tensor_output, {tensor_input:xtest[500:505].astype(np.float32) })\n",
        "    print(predictions)"
      ],
      "execution_count": null,
      "outputs": [
        {
          "output_type": "stream",
          "text": [
            "[[7.10793837e-12 1.27291092e-12 1.63391587e-06 9.99994755e-01\n",
            "  3.58220791e-06 1.38339375e-11 1.19577945e-13 3.47587070e-10]\n",
            " [5.08302124e-04 1.79361406e-04 1.54462672e-04 9.67289031e-01\n",
            "  3.12087666e-02 6.28443231e-05 1.11566233e-05 5.86043694e-04]\n",
            " [5.99822309e-03 6.76208362e-03 4.34710272e-03 1.98711511e-02\n",
            "  2.96433400e-02 6.78911339e-04 8.83744564e-04 9.31815445e-01]\n",
            " [1.59248927e-07 2.11278734e-06 8.93315446e-05 9.98267174e-01\n",
            "  1.63161999e-03 8.07902961e-06 3.47678053e-07 1.12387158e-06]\n",
            " [7.45489786e-04 8.33424492e-05 6.32749288e-05 9.96088862e-01\n",
            "  2.89452402e-03 6.88014406e-05 1.68661711e-06 5.40249675e-05]]\n"
          ],
          "name": "stdout"
        }
      ]
    },
    {
      "cell_type": "code",
      "metadata": {
        "id": "Ie8NJsufN4LW"
      },
      "source": [
        "predictions = predictions.argmax(axis = 1)\n",
        "predictions"
      ],
      "execution_count": null,
      "outputs": []
    },
    {
      "cell_type": "code",
      "metadata": {
        "id": "trqMYN_FrpUW"
      },
      "source": [
        "model = keras.models.load_model('/content/drive/MyDrive/model_2/DenseNet201_Unbalanced14K_xx_epoches_val_loss: 1.0203 - val_accuracy: 0.7254.h5')"
      ],
      "execution_count": null,
      "outputs": []
    },
    {
      "cell_type": "code",
      "metadata": {
        "colab": {
          "base_uri": "https://localhost:8080/"
        },
        "id": "O9wsg7k9sCQs",
        "outputId": "e2e1471f-4eac-4edf-beae-e8473108c59c"
      },
      "source": [
        "model.save('/content/drive/MyDrive/model_3/DenseNet201/')"
      ],
      "execution_count": null,
      "outputs": [
        {
          "output_type": "stream",
          "text": [
            "INFO:tensorflow:Assets written to: /content/drive/MyDrive/model_3/DenseNet201/assets\n"
          ],
          "name": "stdout"
        }
      ]
    },
    {
      "cell_type": "code",
      "metadata": {
        "id": "UjaPT_9H1pId"
      },
      "source": [
        "layer_names=[layer.name for layer in model.layers]"
      ],
      "execution_count": null,
      "outputs": []
    },
    {
      "cell_type": "code",
      "metadata": {
        "id": "nb28e_iy32wW"
      },
      "source": [
        "import tensorflow as tf\n",
        "import sys\n",
        "from tensorflow.python.platform import gfile\n",
        "from tensorflow.core.protobuf import saved_model_pb2\n",
        "from tensorflow.python.util import compat\n",
        "\n",
        "with tf.compat.v1.Session() as sess:\n",
        "    model_filename ='/content/drive/MyDrive/model_3/DenseNet201/saved_model.pb'\n",
        "    with gfile.FastGFile(model_filename, 'rb') as f:\n",
        "        data = compat.as_bytes(f.read())\n",
        "        sm = saved_model_pb2.SavedModel()\n",
        "        sm.ParseFromString(data)\n",
        "        g_in = tf.import_graph_def(sm.meta_graphs[0].graph_def)"
      ],
      "execution_count": null,
      "outputs": []
    },
    {
      "cell_type": "code",
      "metadata": {
        "colab": {
          "base_uri": "https://localhost:8080/",
          "height": 230
        },
        "id": "ZKdgO1oe33tl",
        "outputId": "6023148e-2934-4f97-9798-78a16a0271a5"
      },
      "source": [
        "import tensorflow as tf\n",
        "from tensorflow import keras\n",
        "from tensorflow.python.framework.convert_to_constants import convert_variables_to_constants_v2\n",
        "import numpy as np\n",
        "#path of the directory where you want to save your model\n",
        "frozen_out_path = ''\n",
        "# name of the .pb file\n",
        "frozen_graph_filename = 'frozen_graph'\n",
        "model = model\n",
        "# Convert Keras model to ConcreteFunction\n",
        "full_model = tf.function(lambda x: model(x))\n",
        "full_model = full_model.get_concrete_function(\n",
        "    tf.TensorSpec(model.inputs[0].shape, model.inputs[0].dtype))\n",
        "# Get frozen ConcreteFunction\n",
        "frozen_func = convert_variables_to_constants_v2(full_model)\n",
        "frozen_func.graph.as_graph_def()\n",
        "layers = [op.name for op in frozen_func.graph.get_operations()]\n",
        "print(\"-\" * 60)\n",
        "print(\"Frozen model layers: \")\n",
        "for layer in layers:\n",
        "    print(layer)\n",
        "print(\"-\" * 60)\n",
        "print(\"Frozen model inputs: \")\n",
        "print(frozen_func.inputs)\n",
        "print(\"Frozen model outputs: \")\n",
        "print(frozen_func.outputs)\n",
        "# Save frozen graph to disk\n",
        "tf.io.write_graph(graph_or_graph_def=frozen_func.graph,\n",
        "                  logdir=frozen_out_path,\n",
        "                  name=f\"{frozen_graph_filename}.pb\",\n",
        "                  as_text=False)\n",
        "# Save its text representation\n",
        "tf.io.write_graph(graph_or_graph_def=frozen_func.graph,\n",
        "                  logdir=frozen_out_path,\n",
        "                  name=f\"{frozen_graph_filename}.pbtxt\",\n",
        "                  as_text=True)"
      ],
      "execution_count": null,
      "outputs": [
        {
          "output_type": "error",
          "ename": "NameError",
          "evalue": "ignored",
          "traceback": [
            "\u001b[0;31m---------------------------------------------------------------------------\u001b[0m",
            "\u001b[0;31mNameError\u001b[0m                                 Traceback (most recent call last)",
            "\u001b[0;32m<ipython-input-11-3ec183e2da96>\u001b[0m in \u001b[0;36m<module>\u001b[0;34m()\u001b[0m\n\u001b[1;32m      7\u001b[0m \u001b[0;31m# name of the .pb file\u001b[0m\u001b[0;34m\u001b[0m\u001b[0;34m\u001b[0m\u001b[0;34m\u001b[0m\u001b[0m\n\u001b[1;32m      8\u001b[0m \u001b[0mfrozen_graph_filename\u001b[0m \u001b[0;34m=\u001b[0m \u001b[0;34m'frozen_graph'\u001b[0m\u001b[0;34m\u001b[0m\u001b[0;34m\u001b[0m\u001b[0m\n\u001b[0;32m----> 9\u001b[0;31m \u001b[0mmodel\u001b[0m \u001b[0;34m=\u001b[0m \u001b[0mmodel\u001b[0m\u001b[0;34m\u001b[0m\u001b[0;34m\u001b[0m\u001b[0m\n\u001b[0m\u001b[1;32m     10\u001b[0m \u001b[0;31m# Convert Keras model to ConcreteFunction\u001b[0m\u001b[0;34m\u001b[0m\u001b[0;34m\u001b[0m\u001b[0;34m\u001b[0m\u001b[0m\n\u001b[1;32m     11\u001b[0m \u001b[0mfull_model\u001b[0m \u001b[0;34m=\u001b[0m \u001b[0mtf\u001b[0m\u001b[0;34m.\u001b[0m\u001b[0mfunction\u001b[0m\u001b[0;34m(\u001b[0m\u001b[0;32mlambda\u001b[0m \u001b[0mx\u001b[0m\u001b[0;34m:\u001b[0m \u001b[0mmodel\u001b[0m\u001b[0;34m(\u001b[0m\u001b[0mx\u001b[0m\u001b[0;34m)\u001b[0m\u001b[0;34m)\u001b[0m\u001b[0;34m\u001b[0m\u001b[0;34m\u001b[0m\u001b[0m\n",
            "\u001b[0;31mNameError\u001b[0m: name 'model' is not defined"
          ]
        }
      ]
    },
    {
      "cell_type": "code",
      "metadata": {
        "colab": {
          "base_uri": "https://localhost:8080/"
        },
        "id": "qMqe0_uQClV-",
        "outputId": "7c321914-d863-4fed-d0e9-05454690ee12"
      },
      "source": [
        ""
      ],
      "execution_count": null,
      "outputs": [
        {
          "output_type": "execute_result",
          "data": {
            "text/plain": [
              "tensorflow.core.protobuf.meta_graph_pb2.MetaGraphDef"
            ]
          },
          "metadata": {
            "tags": []
          },
          "execution_count": 56
        }
      ]
    },
    {
      "cell_type": "code",
      "metadata": {
        "colab": {
          "base_uri": "https://localhost:8080/"
        },
        "id": "nZ3tqzd6DDo_",
        "outputId": "8b9bd59d-3d96-4b91-ff0a-1399594c8117"
      },
      "source": [
        "!nvidia-smi"
      ],
      "execution_count": null,
      "outputs": [
        {
          "output_type": "stream",
          "text": [
            "Mon Jul 12 06:49:55 2021       \n",
            "+-----------------------------------------------------------------------------+\n",
            "| NVIDIA-SMI 470.42.01    Driver Version: 460.32.03    CUDA Version: 11.2     |\n",
            "|-------------------------------+----------------------+----------------------+\n",
            "| GPU  Name        Persistence-M| Bus-Id        Disp.A | Volatile Uncorr. ECC |\n",
            "| Fan  Temp  Perf  Pwr:Usage/Cap|         Memory-Usage | GPU-Util  Compute M. |\n",
            "|                               |                      |               MIG M. |\n",
            "|===============================+======================+======================|\n",
            "|   0  Tesla T4            Off  | 00000000:00:04.0 Off |                    0 |\n",
            "| N/A   64C    P0    29W /  70W |    348MiB / 15109MiB |      0%      Default |\n",
            "|                               |                      |                  N/A |\n",
            "+-------------------------------+----------------------+----------------------+\n",
            "                                                                               \n",
            "+-----------------------------------------------------------------------------+\n",
            "| Processes:                                                                  |\n",
            "|  GPU   GI   CI        PID   Type   Process name                  GPU Memory |\n",
            "|        ID   ID                                                   Usage      |\n",
            "|=============================================================================|\n",
            "|  No running processes found                                                 |\n",
            "+-----------------------------------------------------------------------------+\n"
          ],
          "name": "stdout"
        }
      ]
    },
    {
      "cell_type": "code",
      "metadata": {
        "id": "VlIw7rFqd1rO"
      },
      "source": [
        ""
      ],
      "execution_count": null,
      "outputs": []
    }
  ]
}