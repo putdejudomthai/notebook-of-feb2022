{
  "nbformat": 4,
  "nbformat_minor": 0,
  "metadata": {
    "colab": {
      "name": "SenSeg_LSTM V3.ipynb",
      "provenance": [],
      "collapsed_sections": []
    },
    "kernelspec": {
      "name": "python3",
      "display_name": "Python 3"
    },
    "language_info": {
      "name": "python"
    },
    "accelerator": "GPU"
  },
  "cells": [
    {
      "cell_type": "code",
      "source": [
        "!pip install pythainlp"
      ],
      "metadata": {
        "colab": {
          "base_uri": "https://localhost:8080/"
        },
        "id": "QafLHWkHjrF9",
        "outputId": "78f85099-afcd-49f6-f2f7-9483d9ab34aa"
      },
      "execution_count": null,
      "outputs": [
        {
          "output_type": "stream",
          "name": "stdout",
          "text": [
            "Collecting pythainlp\n",
            "  Downloading pythainlp-3.0.5-py3-none-any.whl (11.5 MB)\n",
            "\u001b[K     |████████████████████████████████| 11.5 MB 4.3 MB/s \n",
            "\u001b[?25hCollecting tinydb>=3.0\n",
            "  Downloading tinydb-4.6.1-py3-none-any.whl (24 kB)\n",
            "Requirement already satisfied: requests>=2.22.0 in /usr/local/lib/python3.7/dist-packages (from pythainlp) (2.23.0)\n",
            "Requirement already satisfied: chardet<4,>=3.0.2 in /usr/local/lib/python3.7/dist-packages (from requests>=2.22.0->pythainlp) (3.0.4)\n",
            "Requirement already satisfied: certifi>=2017.4.17 in /usr/local/lib/python3.7/dist-packages (from requests>=2.22.0->pythainlp) (2021.10.8)\n",
            "Requirement already satisfied: urllib3!=1.25.0,!=1.25.1,<1.26,>=1.21.1 in /usr/local/lib/python3.7/dist-packages (from requests>=2.22.0->pythainlp) (1.24.3)\n",
            "Requirement already satisfied: idna<3,>=2.5 in /usr/local/lib/python3.7/dist-packages (from requests>=2.22.0->pythainlp) (2.10)\n",
            "Requirement already satisfied: typing-extensions<5.0.0,>=3.10.0 in /usr/local/lib/python3.7/dist-packages (from tinydb>=3.0->pythainlp) (3.10.0.2)\n",
            "Installing collected packages: tinydb, pythainlp\n",
            "Successfully installed pythainlp-3.0.5 tinydb-4.6.1\n"
          ]
        }
      ]
    },
    {
      "cell_type": "code",
      "execution_count": null,
      "metadata": {
        "id": "6iVulDd8h4vB"
      },
      "outputs": [],
      "source": [
        "import pandas as pd\n",
        "import numpy as np\n",
        "import tensorflow as tf\n",
        "from tensorflow.keras.models import Sequential, Model\n",
        "from tensorflow.keras.layers import InputLayer , Embedding , LSTM , TimeDistributed , Dense , Activation, Bidirectional,Concatenate, Input, Dropout\n",
        "import glob\n",
        "import os\n",
        "from pythainlp.tokenize import word_tokenize, sent_tokenize\n",
        "from pythainlp.tag import pos_tag,pos_tag_sents\n",
        "from pythainlp import tag\n",
        "from tqdm import tqdm"
      ]
    },
    {
      "cell_type": "code",
      "source": [
        "!tar -xf /content/drive/MyDrive/SuperAI_NLP/AIFORTHAI-LST20Corpus.tar.gz"
      ],
      "metadata": {
        "id": "lukCNJiViHc5"
      },
      "execution_count": null,
      "outputs": []
    },
    {
      "cell_type": "code",
      "source": [
        "train_path = '/content/LST20_Corpus/train'\n",
        "test_path = '/content/LST20_Corpus/test'\n",
        "\n",
        "def get_doc(path):\n",
        "  docs = []\n",
        "  for i in tqdm(list(os.scandir(path))):\n",
        "    if i.name[0] != '.':\n",
        "      doc = open(i.path,'r').read()\n",
        "      doc = doc.split('\\n\\n')\n",
        "      doc = [[k.split('\\t')[0] for k in d.split('\\n')] for d in doc]\n",
        "      # doc = [d.split('\\t')[0] for j in doc for d in j]\n",
        "      docs.append(doc)\n",
        "  return docs\n",
        "\n",
        "def get_label(docz):\n",
        "  label = []\n",
        "  for i in docz:\n",
        "    temp = []\n",
        "    for index, j in enumerate(i[:-1]):\n",
        "      # print(len(j))\n",
        "      temp.append(['I_SENT']*len(j))\n",
        "      temp[index][-1] = 'E_SENT'\n",
        "      temp[index][0] = 'B_SENT'\n",
        "    label.append(temp)\n",
        "  return label\n",
        "\n",
        "docs = get_doc(train_path)\n",
        "docs_test = get_doc(test_path)\n",
        "label = get_label(docs)\n",
        "label_test = get_label(docs_test)\n",
        "\n",
        "list_pos = ['AJ', 'AV', 'AX', 'CC', 'CL', 'FX', 'IJ', 'NG', 'NN', 'NU', 'PA', 'PR', 'PS', 'PU', 'VV', 'XX']\n",
        "dic_pos = {j:i for i,j in enumerate(list_pos)}\n",
        "dic_pos['<PAD_TOKEN>'] = len(dic_pos)\n",
        "inv_dic_pos = {i:j for j,i in dic_pos.items()}\n",
        "\n",
        "dic = {j:i for i,j in enumerate(list(set([x for i in docs for d in i for x in d])))}\n",
        "dic_class = {}\n",
        "dic['<PAD_TOKEN>'] = len(dic)\n",
        "dic['<UNKNOWN>'] = len(dic)\n",
        "dic_class['I_SENT'] = len(dic_class)\n",
        "dic_class['B_SENT'] = len(dic_class)\n",
        "dic_class['E_SENT'] = len(dic_class)\n",
        "dic_class['O_SENT'] = len(dic_class)\n",
        "dic_class['P_SENT'] = len(dic_class)\n",
        "inv_dic_class = {i:j for j,i in dic_class.items()}\n"
      ],
      "metadata": {
        "colab": {
          "base_uri": "https://localhost:8080/"
        },
        "id": "V-O-Q6UJjI2v",
        "outputId": "867794aa-2498-4381-fe07-cc3b794383ff"
      },
      "execution_count": null,
      "outputs": [
        {
          "output_type": "stream",
          "name": "stderr",
          "text": [
            "100%|██████████| 7588/7588 [00:01<00:00, 4329.68it/s]\n",
            "100%|██████████| 966/966 [00:00<00:00, 6559.79it/s]\n"
          ]
        }
      ]
    },
    {
      "cell_type": "code",
      "source": [
        "print(dic_class)\n",
        "print(inv_dic_class)\n",
        "print(dic_pos)\n",
        "\n"
      ],
      "metadata": {
        "colab": {
          "base_uri": "https://localhost:8080/"
        },
        "id": "Pj2wBq9CGTpP",
        "outputId": "078ea69f-5b0f-4d69-9ae7-99f692d687d5"
      },
      "execution_count": null,
      "outputs": [
        {
          "output_type": "stream",
          "name": "stdout",
          "text": [
            "{'I_SENT': 0, 'B_SENT': 1, 'E_SENT': 2, 'O_SENT': 3, 'P_SENT': 4}\n",
            "{0: 'I_SENT', 1: 'B_SENT', 2: 'E_SENT', 3: 'O_SENT', 4: 'P_SENT'}\n",
            "{'AJ': 0, 'AV': 1, 'AX': 2, 'CC': 3, 'CL': 4, 'FX': 5, 'IJ': 6, 'NG': 7, 'NN': 8, 'NU': 9, 'PA': 10, 'PR': 11, 'PS': 12, 'PU': 13, 'VV': 14, 'XX': 15, '<PAD_TOKEN>': 16}\n"
          ]
        }
      ]
    },
    {
      "cell_type": "code",
      "source": [
        "X_train, Y_train = [],[]\n",
        "max_length = 1024\n",
        "\n",
        "def get_data(docz, labelz):\n",
        "  X_train, Y_train, Original = [],[],[]\n",
        "  def get_middle_index_b(label):\n",
        "    # print(label)\n",
        "    b_index = []\n",
        "    for i in range(len(label)):\n",
        "      if label[i] == dic_class['B_SENT']: b_index.append(i)\n",
        "    sorted(b_index)\n",
        "    return b_index[round(len(b_index) / 2)]\n",
        "\n",
        "  for x,y in tqdm(zip(docz,labelz),total = len(docz)):\n",
        "    string = []\n",
        "    pstag = []\n",
        "    lab = []\n",
        "    pstag_temp = []\n",
        "    original = []\n",
        "    for xx, yy in zip(x,y):\n",
        "      # print(xx)\n",
        "      original.extend(xx+['_'])\n",
        "      pstag_temp = [pos_tag([a],corpus='lst20')[0][1] for a in xx]\n",
        "      xx = [dic[word] if word in dic.keys() else dic['<UNKNOWN>'] for word in xx]\n",
        "      pstag_temp = [dic_pos[p] for p in pstag_temp]\n",
        "      string.extend(xx)\n",
        "      string.append(dic['_'])\n",
        "      yy = [dic_class[word] for word in yy]\n",
        "      lab.extend(yy)\n",
        "      lab.append(dic_class['O_SENT'])\n",
        "      pstag.extend(pstag_temp)\n",
        "      pstag.append(dic_pos[pos_tag(['_'], corpus='lst20')[0][1]])\n",
        "    Original.append(original)\n",
        "    if len(string) > max_length:\n",
        "      id = get_middle_index_b(lab)\n",
        "      if len(string[:id]) < max_length:\n",
        "        padded_string = string[:id] + [dic['<PAD_TOKEN>']] * (max_length - len(string[:id]))\n",
        "        padded_label = lab[:id] + [dic_class['P_SENT']] * (max_length - len(string[:id]))\n",
        "        padded_pos = pstag[:id] + [dic_pos['<PAD_TOKEN>']] * (max_length - len(string[:id]))\n",
        "        X_train.append([padded_string, padded_pos])\n",
        "        Y_train.append(padded_label)\n",
        "        # print(id,len(string[:id]), len( [dic['<PAD_TOKEN>']] * (max_length - len(string[:id]))))\n",
        "      if len(string[id:]) < max_length:\n",
        "        padded_string = string[id:] + [dic['<PAD_TOKEN>']] * (max_length - len(string[id:]))\n",
        "        padded_label = lab[id:] + [dic_class['P_SENT']] * (max_length - len(string[id:]))\n",
        "        padded_pos = pstag[id:] + [dic_pos['<PAD_TOKEN>']] * (max_length - len(string[id:]))\n",
        "        X_train.append([padded_string, padded_pos])\n",
        "        Y_train.append(padded_label)\n",
        "    else:\n",
        "        padded_string = string + [dic['<PAD_TOKEN>']] * (max_length - len(string))\n",
        "        padded_label = lab + [dic_class['P_SENT']] * (max_length - len(string))\n",
        "        padded_pos = pstag + [dic_pos['<PAD_TOKEN>']] * (max_length - len(string))\n",
        "        X_train.append([padded_string, padded_pos])\n",
        "        Y_train.append(padded_label)\n",
        "  return X_train, Y_train, Original\n",
        "    # print(len(string))\n",
        "\n",
        "X_train, Y_train, Original_train = get_data(docs, label)\n",
        "X_test, Y_test, Original_test = get_data(docs_test, label_test)"
      ],
      "metadata": {
        "id": "PlraWR-mkfZT",
        "colab": {
          "base_uri": "https://localhost:8080/"
        },
        "outputId": "225487cd-9184-48cc-f436-a0614fa889e4"
      },
      "execution_count": null,
      "outputs": [
        {
          "output_type": "stream",
          "name": "stderr",
          "text": [
            "100%|██████████| 3794/3794 [01:31<00:00, 41.55it/s]\n",
            "100%|██████████| 483/483 [00:04<00:00, 99.82it/s]\n"
          ]
        }
      ]
    },
    {
      "cell_type": "code",
      "source": [
        "temp = np.array(X_train[0])\n",
        "ori = np.array(Original_train[0])\n",
        "for i,j,k in zip(temp[0,:], temp[1,:], ori):\n",
        "  print(i,inv_dic_pos[j],k)\n"
      ],
      "metadata": {
        "id": "2taiNGTMsHOg"
      },
      "execution_count": null,
      "outputs": []
    },
    {
      "cell_type": "code",
      "source": [
        "[j for i in np.array(docs[0]).flatten() for j in i]"
      ],
      "metadata": {
        "id": "vNZs-xXupwDW"
      },
      "execution_count": null,
      "outputs": []
    },
    {
      "cell_type": "code",
      "source": [
        "# model = Sequential() \n",
        "# model.add(InputLayer(input_shape=(1024,)))\n",
        "# model.add(Embedding(len(dic),64))\n",
        "# model.add(Bidirectional(LSTM(64,return_sequences=True)))\n",
        "# model.add(TimeDistributed(Dense(5)))\n",
        "# model.add(Activation('softmax'))\n",
        "# model.compile(optimizer=\"Adam\",loss=tf.keras.losses.SparseCategoricalCrossentropy(from_logits=True),\n",
        "#               weighted_metrics=['accuracy'], run_eagerly=True)\n",
        "\n",
        "input_word = Input(shape=(1024,))\n",
        "embed_word = Embedding(len(dic),64)(input_word)\n",
        "input_pos = Input(shape=(1024,))\n",
        "embed_pos = Embedding(len(dic_pos),10)(input_pos)\n",
        "\n",
        "concat = Concatenate()([embed_word, embed_pos])\n",
        "bidirec = Bidirectional(LSTM(80,return_sequences=True))(concat)\n",
        "time_dis = TimeDistributed(Dense(30))(bidirec)\n",
        "drop = TimeDistributed(Dropout(0.3))(time_dis)\n",
        "dense = TimeDistributed(Dense(13))(drop)\n",
        "dense = TimeDistributed(Dense(5))(dense)\n",
        "act = Activation('softmax')(dense)\n",
        "model = Model(inputs=[input_word, input_pos], outputs=[act])\n",
        "model.compile(optimizer=\"Adam\",loss=tf.keras.losses.SparseCategoricalCrossentropy(from_logits=True),\n",
        "              weighted_metrics=['accuracy'], run_eagerly=True)\n",
        "\n",
        "# input_word = Input(shape=(1024,))\n",
        "# embed_word = Embedding(len(dic),64)(input_word)\n",
        "# input_pos = Input(shape=(1024,))\n",
        "# embed_pos = Embedding(len(dic_pos),4)(input_pos)\n",
        "\n",
        "# concat = Concatenate()([embed_word, embed_pos])\n",
        "# bidirec = Bidirectional(LSTM(128,return_sequences=True))(concat)\n",
        "# bidirec = Bidirectional(LSTM(64,return_sequences=True))(bidirec)\n",
        "# bidirec = Bidirectional(LSTM(32,return_sequences=True))(bidirec)\n",
        "# time_dis = TimeDistributed(Dense(5))(bidirec)\n",
        "# act = Activation('softmax')(time_dis)\n",
        "# model = Model(inputs=[input_word, input_pos], outputs=[act])\n",
        "# model.compile(optimizer=\"Adam\",loss=tf.keras.losses.SparseCategoricalCrossentropy(from_logits=True),\n",
        "#               weighted_metrics=['accuracy'], run_eagerly=True)\n",
        "\n",
        "\n",
        "\n"
      ],
      "metadata": {
        "id": "Yeo-T3C8oUZh"
      },
      "execution_count": null,
      "outputs": []
    },
    {
      "cell_type": "code",
      "source": [
        "model.summary()"
      ],
      "metadata": {
        "colab": {
          "base_uri": "https://localhost:8080/"
        },
        "id": "BXsolIMY1n47",
        "outputId": "e195bff5-6bf0-41dd-d941-748c0dd6fefe"
      },
      "execution_count": null,
      "outputs": [
        {
          "output_type": "stream",
          "name": "stdout",
          "text": [
            "Model: \"model\"\n",
            "__________________________________________________________________________________________________\n",
            " Layer (type)                   Output Shape         Param #     Connected to                     \n",
            "==================================================================================================\n",
            " input_1 (InputLayer)           [(None, 1024)]       0           []                               \n",
            "                                                                                                  \n",
            " input_2 (InputLayer)           [(None, 1024)]       0           []                               \n",
            "                                                                                                  \n",
            " embedding (Embedding)          (None, 1024, 64)     3132672     ['input_1[0][0]']                \n",
            "                                                                                                  \n",
            " embedding_1 (Embedding)        (None, 1024, 10)     170         ['input_2[0][0]']                \n",
            "                                                                                                  \n",
            " concatenate (Concatenate)      (None, 1024, 74)     0           ['embedding[0][0]',              \n",
            "                                                                  'embedding_1[0][0]']            \n",
            "                                                                                                  \n",
            " bidirectional (Bidirectional)  (None, 1024, 160)    99200       ['concatenate[0][0]']            \n",
            "                                                                                                  \n",
            " time_distributed (TimeDistribu  (None, 1024, 30)    4830        ['bidirectional[0][0]']          \n",
            " ted)                                                                                             \n",
            "                                                                                                  \n",
            " time_distributed_1 (TimeDistri  (None, 1024, 13)    403         ['time_distributed[0][0]']       \n",
            " buted)                                                                                           \n",
            "                                                                                                  \n",
            " time_distributed_2 (TimeDistri  (None, 1024, 5)     70          ['time_distributed_1[0][0]']     \n",
            " buted)                                                                                           \n",
            "                                                                                                  \n",
            " activation (Activation)        (None, 1024, 5)      0           ['time_distributed_2[0][0]']     \n",
            "                                                                                                  \n",
            "==================================================================================================\n",
            "Total params: 3,237,345\n",
            "Trainable params: 3,237,345\n",
            "Non-trainable params: 0\n",
            "__________________________________________________________________________________________________\n"
          ]
        }
      ]
    },
    {
      "cell_type": "code",
      "source": [
        "Y_test = np.array(Y_test)\n",
        "\n",
        "print('B', np.sum(Y_test == dic_class['B_SENT']))\n",
        "print('I', np.sum(Y_test == dic_class['I_SENT']))\n",
        "print('E', np.sum(Y_test == dic_class['E_SENT']))\n",
        "print('O', np.sum(Y_test == dic_class['O_SENT']))\n",
        "\n",
        "total = len(Y_test.flatten())\n",
        "\n",
        "# class_weight = {dic_class['B_SENT']: total/(np.sum(Y_test == dic_class['B_SENT'])),\n",
        "#                 dic_class['I_SENT']: total/(np.sum(Y_test == dic_class['I_SENT'])),\n",
        "#                 dic_class['E_SENT']: total/(np.sum(Y_test == dic_class['E_SENT'])),\n",
        "#                 dic_class['O_SENT']: total/(np.sum(Y_test == dic_class['O_SENT'])),\n",
        "#                 dic_class['P_SENT']: total/(np.sum(Y_test == dic_class['P_SENT'])),}\n",
        "\n",
        "# V1 submit 0.82\n",
        "class_weight = {dic_class['B_SENT']: 20.0,\n",
        "                dic_class['I_SENT']: 0.5,\n",
        "                dic_class['E_SENT']: 20.0,\n",
        "                dic_class['O_SENT']: 30.0,\n",
        "                dic_class['P_SENT']: 0.005,}\n",
        "\n",
        "#V2\n",
        "# class_weight = {dic_class['B_SENT']: 30.0,\n",
        "#                 dic_class['I_SENT']: 1.0,\n",
        "#                 dic_class['E_SENT']: 20.0,\n",
        "#                 dic_class['O_SENT']: 30.0,\n",
        "#                 dic_class['P_SENT']: 1.0,}\n",
        "\n",
        "Y_test = Y_test.tolist()\n",
        "print(dic_class)\n",
        "class_weight"
      ],
      "metadata": {
        "colab": {
          "base_uri": "https://localhost:8080/"
        },
        "id": "EqaqmvEH5c-q",
        "outputId": "39615841-9fe5-410b-d917-83567c6e5bdd"
      },
      "execution_count": null,
      "outputs": [
        {
          "output_type": "stream",
          "name": "stdout",
          "text": [
            "B 5116\n",
            "I 191333\n",
            "E 5113\n",
            "O 5116\n",
            "{'I_SENT': 0, 'B_SENT': 1, 'E_SENT': 2, 'O_SENT': 3, 'P_SENT': 4}\n"
          ]
        },
        {
          "output_type": "execute_result",
          "data": {
            "text/plain": [
              "{0: 0.5, 1: 20.0, 2: 20.0, 3: 30.0, 4: 0.005}"
            ]
          },
          "metadata": {},
          "execution_count": 16
        }
      ]
    },
    {
      "cell_type": "code",
      "source": [
        "def gen_sample_weight(Y, class_weight):\n",
        "  Y = np.array(Y).astype(np.float32)\n",
        "  for k,v in class_weight.items():\n",
        "    Y[Y==k] = v\n",
        "  return Y\n",
        "\n",
        "gen_sample_weight(Y_train, class_weight)"
      ],
      "metadata": {
        "id": "16eQd_vf3d-A",
        "colab": {
          "base_uri": "https://localhost:8080/"
        },
        "outputId": "9bf6992f-f563-4d21-b1ad-f018943676af"
      },
      "execution_count": null,
      "outputs": [
        {
          "output_type": "execute_result",
          "data": {
            "text/plain": [
              "array([[2.e+01, 5.e-01, 5.e-01, ..., 5.e-03, 5.e-03, 5.e-03],\n",
              "       [2.e+01, 5.e-01, 5.e-01, ..., 5.e-03, 5.e-03, 5.e-03],\n",
              "       [2.e+01, 5.e-01, 5.e-01, ..., 5.e-03, 5.e-03, 5.e-03],\n",
              "       ...,\n",
              "       [2.e+01, 5.e-01, 5.e-01, ..., 5.e-03, 5.e-03, 5.e-03],\n",
              "       [2.e+01, 5.e-01, 5.e-01, ..., 5.e-03, 5.e-03, 5.e-03],\n",
              "       [2.e+01, 5.e-01, 5.e-01, ..., 5.e-03, 5.e-03, 5.e-03]],\n",
              "      dtype=float32)"
            ]
          },
          "metadata": {},
          "execution_count": 17
        }
      ]
    },
    {
      "cell_type": "code",
      "source": [
        "X_train = np.array(X_train).astype(np.float32)\n",
        "X_test = np.array(X_test).astype(np.float32)\n",
        "Y_train = np.array(Y_train).astype(np.float32)\n",
        "Y_test = np.array(Y_test).astype(np.float32)\n",
        "\n"
      ],
      "metadata": {
        "id": "BdMwL1mu16dS"
      },
      "execution_count": null,
      "outputs": []
    },
    {
      "cell_type": "code",
      "source": [
        "model.fit([X_train[:,0,:],X_train[:,1,:]], Y_train, batch_size = 128, validation_data = ([X_test[:,0,:],X_test[:,1,:]], Y_test), sample_weight = gen_sample_weight(Y_train, class_weight), epochs=20)"
      ],
      "metadata": {
        "colab": {
          "base_uri": "https://localhost:8080/"
        },
        "id": "Z-hdWg8_sR_p",
        "outputId": "71a5e9ee-2149-4814-9490-c4e5edaa74f6"
      },
      "execution_count": null,
      "outputs": [
        {
          "output_type": "stream",
          "name": "stdout",
          "text": [
            "Epoch 1/20\n",
            " 1/32 [..............................] - ETA: 7s - loss: 1.7487 - accuracy: 0.2047"
          ]
        },
        {
          "output_type": "stream",
          "name": "stderr",
          "text": [
            "/usr/local/lib/python3.7/dist-packages/tensorflow/python/util/dispatch.py:1082: UserWarning: \"`sparse_categorical_crossentropy` received `from_logits=True`, but the `output` argument was produced by a sigmoid or softmax activation and thus does not represent logits. Was this intended?\"\n",
            "  return dispatch_target(*args, **kwargs)\n"
          ]
        },
        {
          "output_type": "stream",
          "name": "stdout",
          "text": [
            "32/32 [==============================] - 5s 154ms/step - loss: 1.4659 - accuracy: 0.3882 - val_loss: 2.3111 - val_accuracy: 0.2179\n",
            "Epoch 2/20\n",
            "32/32 [==============================] - 5s 156ms/step - loss: 0.7292 - accuracy: 0.7739 - val_loss: 1.9614 - val_accuracy: 0.2456\n",
            "Epoch 3/20\n",
            "32/32 [==============================] - 5s 158ms/step - loss: 0.2980 - accuracy: 0.9034 - val_loss: 0.9089 - val_accuracy: 0.3733\n",
            "Epoch 4/20\n",
            "32/32 [==============================] - 5s 157ms/step - loss: 0.2303 - accuracy: 0.9249 - val_loss: 0.5011 - val_accuracy: 0.8853\n",
            "Epoch 5/20\n",
            "32/32 [==============================] - 5s 158ms/step - loss: 0.2013 - accuracy: 0.9370 - val_loss: 0.3631 - val_accuracy: 0.8959\n",
            "Epoch 6/20\n",
            "32/32 [==============================] - 5s 160ms/step - loss: 0.1832 - accuracy: 0.9436 - val_loss: 0.2721 - val_accuracy: 0.9116\n",
            "Epoch 7/20\n",
            "32/32 [==============================] - 5s 159ms/step - loss: 0.1642 - accuracy: 0.9505 - val_loss: 0.2582 - val_accuracy: 0.9106\n",
            "Epoch 8/20\n",
            "32/32 [==============================] - 5s 160ms/step - loss: 0.1526 - accuracy: 0.9553 - val_loss: 0.1925 - val_accuracy: 0.9321\n",
            "Epoch 9/20\n",
            "32/32 [==============================] - 5s 159ms/step - loss: 0.1387 - accuracy: 0.9605 - val_loss: 0.1968 - val_accuracy: 0.9310\n",
            "Epoch 10/20\n",
            "32/32 [==============================] - 5s 160ms/step - loss: 0.1250 - accuracy: 0.9654 - val_loss: 0.1846 - val_accuracy: 0.9367\n",
            "Epoch 11/20\n",
            "32/32 [==============================] - 5s 158ms/step - loss: 0.1134 - accuracy: 0.9695 - val_loss: 0.1719 - val_accuracy: 0.9414\n",
            "Epoch 12/20\n",
            "32/32 [==============================] - 5s 166ms/step - loss: 0.1036 - accuracy: 0.9729 - val_loss: 0.1541 - val_accuracy: 0.9472\n",
            "Epoch 13/20\n",
            "32/32 [==============================] - 5s 157ms/step - loss: 0.0947 - accuracy: 0.9757 - val_loss: 0.1476 - val_accuracy: 0.9500\n",
            "Epoch 14/20\n",
            "32/32 [==============================] - 5s 157ms/step - loss: 0.0907 - accuracy: 0.9768 - val_loss: 0.1394 - val_accuracy: 0.9537\n",
            "Epoch 15/20\n",
            "32/32 [==============================] - 5s 157ms/step - loss: 0.0812 - accuracy: 0.9800 - val_loss: 0.1395 - val_accuracy: 0.9552\n",
            "Epoch 16/20\n",
            "32/32 [==============================] - 6s 173ms/step - loss: 0.0729 - accuracy: 0.9824 - val_loss: 0.1373 - val_accuracy: 0.9569\n",
            "Epoch 17/20\n",
            "32/32 [==============================] - 5s 156ms/step - loss: 0.0653 - accuracy: 0.9848 - val_loss: 0.1827 - val_accuracy: 0.9476\n",
            "Epoch 18/20\n",
            "32/32 [==============================] - 5s 160ms/step - loss: 0.0616 - accuracy: 0.9857 - val_loss: 0.1722 - val_accuracy: 0.9511\n",
            "Epoch 19/20\n",
            "32/32 [==============================] - 5s 159ms/step - loss: 0.0574 - accuracy: 0.9867 - val_loss: 0.1562 - val_accuracy: 0.9556\n",
            "Epoch 20/20\n",
            "32/32 [==============================] - 5s 159ms/step - loss: 0.0535 - accuracy: 0.9878 - val_loss: 0.1441 - val_accuracy: 0.9598\n"
          ]
        },
        {
          "output_type": "execute_result",
          "data": {
            "text/plain": [
              "<keras.callbacks.History at 0x7f1f44408190>"
            ]
          },
          "metadata": {},
          "execution_count": 19
        }
      ]
    },
    {
      "cell_type": "code",
      "source": [
        "y_pred = model.predict([X_test[:,0,:],X_test[:,1,:]])"
      ],
      "metadata": {
        "id": "AaJ_YbBnyVgc"
      },
      "execution_count": null,
      "outputs": []
    },
    {
      "cell_type": "code",
      "source": [
        "# model.save('/content/drive/MyDrive/SuperAI_NLP/model_0999_bilstm_1.h5')"
      ],
      "metadata": {
        "id": "s4Zkf03B_wHr"
      },
      "execution_count": null,
      "outputs": []
    },
    {
      "cell_type": "code",
      "source": [
        "correct = 0\n",
        "total = np.sum(np.array(Y_test) == dic_class['O_SENT'])\n",
        "corr = 0\n",
        "for yp,yt in zip(y_pred, Y_test):\n",
        "  pred = [inv_dic_class[d] for d in np.argmax(yp, axis=1).tolist()]\n",
        "  gt = [inv_dic_class[d] for d in yt]\n",
        "\n",
        "  for p,g in zip(pred, gt):\n",
        "    if g == 'O_SENT':\n",
        "      if p == g: corr += 1\n",
        "      # print(p,g)\n",
        "  # break\n",
        "\n",
        "print('ac', corr/total)"
      ],
      "metadata": {
        "colab": {
          "base_uri": "https://localhost:8080/"
        },
        "id": "x1_yqESvp3xi",
        "outputId": "a65d7186-cdae-420a-c95b-9a143df795d5"
      },
      "execution_count": null,
      "outputs": [
        {
          "output_type": "stream",
          "name": "stdout",
          "text": [
            "ac 0.7570367474589523\n"
          ]
        }
      ]
    },
    {
      "cell_type": "code",
      "source": [
        "import pandas as pd\n",
        "\n",
        "my_file =  open('/content/drive/MyDrive/SuperAI_NLP/ss_test.txt', 'r')\n",
        "\n",
        "\n",
        "r = my_file.read()\n",
        "\n",
        "\n",
        "data = r.split(\"\\n\")\n",
        "# print(data)\n",
        "my_file.close()\n",
        "text = ''\n",
        "for  i in range(len(data)):\n",
        "    \n",
        "    if data[i] =='':\n",
        "        text = text+' '\n",
        "        data[i] = '_'\n",
        "    else:\n",
        "        text = text+data[i]\n",
        "# print(text)\n",
        "# print(data)\n",
        "df = pd.DataFrame({'word':data})\n",
        "data = np.array(data)\n",
        "id = np.where(data == '_')[0]\n"
      ],
      "metadata": {
        "id": "cT3pII1iqF4R"
      },
      "execution_count": null,
      "outputs": []
    },
    {
      "cell_type": "code",
      "source": [
        "inc = 0\n",
        "idx = list(range(0,len(data),1024))\n",
        "len(idx)\n",
        "res = []\n",
        "for i in idx:\n",
        "  dat = data[i:i+1024]\n",
        "  temp = []\n",
        "  sent = []\n",
        "  for word in dat:\n",
        "    if word in dic.keys():\n",
        "      temp.append(dic[word])\n",
        "    else: temp.append(dic['<UNKNOWN>'])\n",
        "  pos = [dic_pos[x[1]] for x in pos_tag(dat.tolist(), corpus='lst20')]\n",
        "  lenz = len(temp)\n",
        "  temp = np.expand_dims(np.array(temp + ([dic['<PAD_TOKEN>']]*(1024-lenz))).astype(np.float32), axis = 0)\n",
        "  pos = np.expand_dims(np.array(pos + ([dic_pos['<PAD_TOKEN>']]*(1024-lenz))).astype(np.float32), axis = 0)\n",
        "\n",
        "  pred = model.predict([temp, pos])[0]\n",
        "  pred = pred.argmax(1)\n",
        "  pred = [inv_dic_class[i] for i in pred]\n",
        "  pred = pred[:len(dat)]\n",
        "  res.extend(pred)\n",
        "  # print(pred)\n",
        "  # index = np.sort(id[(id > inc) & (id < 1024 + inc)])[-1]\n",
        "  # inc = i\n",
        "  # print(index)"
      ],
      "metadata": {
        "id": "mPHAmF0RqglG"
      },
      "execution_count": null,
      "outputs": []
    },
    {
      "cell_type": "code",
      "source": [
        "print(res.__len__())\n",
        "print(data.__len__())\n"
      ],
      "metadata": {
        "colab": {
          "base_uri": "https://localhost:8080/"
        },
        "id": "O48dZnM2tbPa",
        "outputId": "1d97c330-e2eb-465f-b6e5-1068ce35e128"
      },
      "execution_count": null,
      "outputs": [
        {
          "output_type": "stream",
          "name": "stdout",
          "text": [
            "74405\n",
            "74405\n"
          ]
        }
      ]
    },
    {
      "cell_type": "code",
      "source": [
        "map_class = {\n",
        "    'B_SENT':'B_SENT',\n",
        "    'I_SENT':'I_SENT',\n",
        "    'E_SENT':'E_SENT',\n",
        "    'O_SENT':'O',\n",
        "    'P_SENT':'I_SENT',\n",
        "}\n",
        "\n",
        "res = [map_class[i] for i in res]"
      ],
      "metadata": {
        "id": "mY5mUc7anAIj"
      },
      "execution_count": null,
      "outputs": []
    },
    {
      "cell_type": "code",
      "source": [
        "np.unique(res, return_counts=True)"
      ],
      "metadata": {
        "colab": {
          "base_uri": "https://localhost:8080/"
        },
        "id": "2FJyT3yKI4aZ",
        "outputId": "a879f982-512d-49b7-874c-ee22d96a5dc1"
      },
      "execution_count": null,
      "outputs": [
        {
          "output_type": "execute_result",
          "data": {
            "text/plain": [
              "(array(['B_SENT', 'E_SENT', 'I_SENT', 'O'], dtype='<U6'),\n",
              " array([ 1196,  1240, 70745,  1224]))"
            ]
          },
          "metadata": {},
          "execution_count": 79
        }
      ]
    },
    {
      "cell_type": "code",
      "source": [
        "sub = pd.read_csv('/content/drive/MyDrive/SuperAI_NLP/ss_sample_submission.csv')\n",
        "sub['Predicted'] = res[:-2]"
      ],
      "metadata": {
        "id": "WY4CNpyxwJrk"
      },
      "execution_count": null,
      "outputs": []
    },
    {
      "cell_type": "code",
      "source": [
        "sub.to_csv('submit3.csv',index=False)"
      ],
      "metadata": {
        "id": "hKtJwlhLxAKm"
      },
      "execution_count": null,
      "outputs": []
    },
    {
      "cell_type": "code",
      "source": [
        "sub"
      ],
      "metadata": {
        "colab": {
          "base_uri": "https://localhost:8080/",
          "height": 677
        },
        "id": "wX22AT4bFcdt",
        "outputId": "c998a427-97b2-48bb-f0dc-3dab3b26a047"
      },
      "execution_count": null,
      "outputs": [
        {
          "output_type": "execute_result",
          "data": {
            "text/html": [
              "\n",
              "  <div id=\"df-428dc1f0-4d53-4955-8f27-8f3a4f70d947\">\n",
              "    <div class=\"colab-df-container\">\n",
              "      <div>\n",
              "<style scoped>\n",
              "    .dataframe tbody tr th:only-of-type {\n",
              "        vertical-align: middle;\n",
              "    }\n",
              "\n",
              "    .dataframe tbody tr th {\n",
              "        vertical-align: top;\n",
              "    }\n",
              "\n",
              "    .dataframe thead th {\n",
              "        text-align: right;\n",
              "    }\n",
              "</style>\n",
              "<table border=\"1\" class=\"dataframe\">\n",
              "  <thead>\n",
              "    <tr style=\"text-align: right;\">\n",
              "      <th></th>\n",
              "      <th>Id</th>\n",
              "      <th>Predicted</th>\n",
              "    </tr>\n",
              "  </thead>\n",
              "  <tbody>\n",
              "    <tr>\n",
              "      <th>0</th>\n",
              "      <td>1</td>\n",
              "      <td>I_SENT</td>\n",
              "    </tr>\n",
              "    <tr>\n",
              "      <th>1</th>\n",
              "      <td>2</td>\n",
              "      <td>I_SENT</td>\n",
              "    </tr>\n",
              "    <tr>\n",
              "      <th>2</th>\n",
              "      <td>3</td>\n",
              "      <td>I_SENT</td>\n",
              "    </tr>\n",
              "    <tr>\n",
              "      <th>3</th>\n",
              "      <td>4</td>\n",
              "      <td>I_SENT</td>\n",
              "    </tr>\n",
              "    <tr>\n",
              "      <th>4</th>\n",
              "      <td>5</td>\n",
              "      <td>I_SENT</td>\n",
              "    </tr>\n",
              "    <tr>\n",
              "      <th>...</th>\n",
              "      <td>...</td>\n",
              "      <td>...</td>\n",
              "    </tr>\n",
              "    <tr>\n",
              "      <th>74398</th>\n",
              "      <td>74399</td>\n",
              "      <td>I_SENT</td>\n",
              "    </tr>\n",
              "    <tr>\n",
              "      <th>74399</th>\n",
              "      <td>74400</td>\n",
              "      <td>I_SENT</td>\n",
              "    </tr>\n",
              "    <tr>\n",
              "      <th>74400</th>\n",
              "      <td>74401</td>\n",
              "      <td>I_SENT</td>\n",
              "    </tr>\n",
              "    <tr>\n",
              "      <th>74401</th>\n",
              "      <td>74402</td>\n",
              "      <td>I_SENT</td>\n",
              "    </tr>\n",
              "    <tr>\n",
              "      <th>74402</th>\n",
              "      <td>74403</td>\n",
              "      <td>I_SENT</td>\n",
              "    </tr>\n",
              "  </tbody>\n",
              "</table>\n",
              "<p>74403 rows × 2 columns</p>\n",
              "</div>\n",
              "      <button class=\"colab-df-convert\" onclick=\"convertToInteractive('df-428dc1f0-4d53-4955-8f27-8f3a4f70d947')\"\n",
              "              title=\"Convert this dataframe to an interactive table.\"\n",
              "              style=\"display:none;\">\n",
              "        \n",
              "  <svg xmlns=\"http://www.w3.org/2000/svg\" height=\"24px\"viewBox=\"0 0 24 24\"\n",
              "       width=\"24px\">\n",
              "    <path d=\"M0 0h24v24H0V0z\" fill=\"none\"/>\n",
              "    <path d=\"M18.56 5.44l.94 2.06.94-2.06 2.06-.94-2.06-.94-.94-2.06-.94 2.06-2.06.94zm-11 1L8.5 8.5l.94-2.06 2.06-.94-2.06-.94L8.5 2.5l-.94 2.06-2.06.94zm10 10l.94 2.06.94-2.06 2.06-.94-2.06-.94-.94-2.06-.94 2.06-2.06.94z\"/><path d=\"M17.41 7.96l-1.37-1.37c-.4-.4-.92-.59-1.43-.59-.52 0-1.04.2-1.43.59L10.3 9.45l-7.72 7.72c-.78.78-.78 2.05 0 2.83L4 21.41c.39.39.9.59 1.41.59.51 0 1.02-.2 1.41-.59l7.78-7.78 2.81-2.81c.8-.78.8-2.07 0-2.86zM5.41 20L4 18.59l7.72-7.72 1.47 1.35L5.41 20z\"/>\n",
              "  </svg>\n",
              "      </button>\n",
              "      \n",
              "  <style>\n",
              "    .colab-df-container {\n",
              "      display:flex;\n",
              "      flex-wrap:wrap;\n",
              "      gap: 12px;\n",
              "    }\n",
              "\n",
              "    .colab-df-convert {\n",
              "      background-color: #E8F0FE;\n",
              "      border: none;\n",
              "      border-radius: 50%;\n",
              "      cursor: pointer;\n",
              "      display: none;\n",
              "      fill: #1967D2;\n",
              "      height: 32px;\n",
              "      padding: 0 0 0 0;\n",
              "      width: 32px;\n",
              "    }\n",
              "\n",
              "    .colab-df-convert:hover {\n",
              "      background-color: #E2EBFA;\n",
              "      box-shadow: 0px 1px 2px rgba(60, 64, 67, 0.3), 0px 1px 3px 1px rgba(60, 64, 67, 0.15);\n",
              "      fill: #174EA6;\n",
              "    }\n",
              "\n",
              "    [theme=dark] .colab-df-convert {\n",
              "      background-color: #3B4455;\n",
              "      fill: #D2E3FC;\n",
              "    }\n",
              "\n",
              "    [theme=dark] .colab-df-convert:hover {\n",
              "      background-color: #434B5C;\n",
              "      box-shadow: 0px 1px 3px 1px rgba(0, 0, 0, 0.15);\n",
              "      filter: drop-shadow(0px 1px 2px rgba(0, 0, 0, 0.3));\n",
              "      fill: #FFFFFF;\n",
              "    }\n",
              "  </style>\n",
              "\n",
              "      <script>\n",
              "        const buttonEl =\n",
              "          document.querySelector('#df-428dc1f0-4d53-4955-8f27-8f3a4f70d947 button.colab-df-convert');\n",
              "        buttonEl.style.display =\n",
              "          google.colab.kernel.accessAllowed ? 'block' : 'none';\n",
              "\n",
              "        async function convertToInteractive(key) {\n",
              "          const element = document.querySelector('#df-428dc1f0-4d53-4955-8f27-8f3a4f70d947');\n",
              "          const dataTable =\n",
              "            await google.colab.kernel.invokeFunction('convertToInteractive',\n",
              "                                                     [key], {});\n",
              "          if (!dataTable) return;\n",
              "\n",
              "          const docLinkHtml = 'Like what you see? Visit the ' +\n",
              "            '<a target=\"_blank\" href=https://colab.research.google.com/notebooks/data_table.ipynb>data table notebook</a>'\n",
              "            + ' to learn more about interactive tables.';\n",
              "          element.innerHTML = '';\n",
              "          dataTable['output_type'] = 'display_data';\n",
              "          await google.colab.output.renderOutput(dataTable, element);\n",
              "          const docLink = document.createElement('div');\n",
              "          docLink.innerHTML = docLinkHtml;\n",
              "          element.appendChild(docLink);\n",
              "        }\n",
              "      </script>\n",
              "    </div>\n",
              "  </div>\n",
              "  "
            ],
            "text/plain": [
              "          Id Predicted\n",
              "0          1    I_SENT\n",
              "1          2    I_SENT\n",
              "2          3    I_SENT\n",
              "3          4    I_SENT\n",
              "4          5    I_SENT\n",
              "...      ...       ...\n",
              "74398  74399    I_SENT\n",
              "74399  74400    I_SENT\n",
              "74400  74401    I_SENT\n",
              "74401  74402    I_SENT\n",
              "74402  74403    I_SENT\n",
              "\n",
              "[74403 rows x 2 columns]"
            ]
          },
          "metadata": {},
          "execution_count": 82
        },
        {
          "output_type": "stream",
          "name": "stdout",
          "text": [
            "Warning: total number of rows (74403) exceeds max_rows (20000). Limiting to first (20000) rows.\n"
          ]
        }
      ]
    },
    {
      "cell_type": "code",
      "source": [
        "rez = y_pred.argmax(2).flatten()"
      ],
      "metadata": {
        "id": "-Y-RtvWRJr2m"
      },
      "execution_count": null,
      "outputs": []
    },
    {
      "cell_type": "code",
      "source": [
        "import copy\n",
        "temp_rez = []\n",
        "t = []\n",
        "count = 0\n",
        "for i in rez:\n",
        "  if i == 'O':\n",
        "    count += 1\n",
        "    if len(t) == 0:print('t')\n",
        "    temp_rez.append(copy.deepcopy(t))\n",
        "    t = []\n",
        "  else:\n",
        "    count += 1\n",
        "    t.append(i)\n",
        "temp_rez.append(t)\n",
        "# rez = ''.join(rez).split('O')\n",
        "rez = [['I_SENT']*len(i) for i in temp_rez]\n",
        "for i in range(len(rez)):\n",
        "  if len(rez[i]) == 0: \n",
        "    rez[i] = ['I_SENT']\n",
        "    continue\n",
        "  elif len(rez[i]) == 1: rez[i] = ['B_SENT']\n",
        "  elif len(rez[i]) == 2: rez[i] = ['B_SENT','E_SENT']\n",
        "  else:\n",
        "    rez[i][0] = 'B_SENT'\n",
        "    rez[i][-1] = 'E_SENT'\n",
        "  rez[i].append('O')\n",
        "\n",
        "temp = []\n",
        "for i in rez:\n",
        "  for j in i:\n",
        "    temp.append(j)\n",
        "  # temp.append('O')\n",
        "# rez = [i for j in rez for i in j]\n",
        "temp = [dic_class[i] for i in temp]"
      ],
      "metadata": {
        "colab": {
          "base_uri": "https://localhost:8080/",
          "height": 301
        },
        "id": "6Dia9r8WJrSv",
        "outputId": "435a0b89-be9f-4ea6-d2e7-b1d793b56d91"
      },
      "execution_count": null,
      "outputs": [
        {
          "output_type": "error",
          "ename": "KeyError",
          "evalue": "ignored",
          "traceback": [
            "\u001b[0;31m---------------------------------------------------------------------------\u001b[0m",
            "\u001b[0;31mKeyError\u001b[0m                                  Traceback (most recent call last)",
            "\u001b[0;32m<ipython-input-31-61dcd6951bee>\u001b[0m in \u001b[0;36m<module>\u001b[0;34m()\u001b[0m\n\u001b[1;32m     32\u001b[0m   \u001b[0;31m# temp.append('O')\u001b[0m\u001b[0;34m\u001b[0m\u001b[0;34m\u001b[0m\u001b[0;34m\u001b[0m\u001b[0m\n\u001b[1;32m     33\u001b[0m \u001b[0;31m# rez = [i for j in rez for i in j]\u001b[0m\u001b[0;34m\u001b[0m\u001b[0;34m\u001b[0m\u001b[0;34m\u001b[0m\u001b[0m\n\u001b[0;32m---> 34\u001b[0;31m \u001b[0mtemp\u001b[0m \u001b[0;34m=\u001b[0m \u001b[0;34m[\u001b[0m\u001b[0mdic_class\u001b[0m\u001b[0;34m[\u001b[0m\u001b[0mi\u001b[0m\u001b[0;34m]\u001b[0m \u001b[0;32mfor\u001b[0m \u001b[0mi\u001b[0m \u001b[0;32min\u001b[0m \u001b[0mtemp\u001b[0m\u001b[0;34m]\u001b[0m\u001b[0;34m\u001b[0m\u001b[0;34m\u001b[0m\u001b[0m\n\u001b[0m",
            "\u001b[0;32m<ipython-input-31-61dcd6951bee>\u001b[0m in \u001b[0;36m<listcomp>\u001b[0;34m(.0)\u001b[0m\n\u001b[1;32m     32\u001b[0m   \u001b[0;31m# temp.append('O')\u001b[0m\u001b[0;34m\u001b[0m\u001b[0;34m\u001b[0m\u001b[0;34m\u001b[0m\u001b[0m\n\u001b[1;32m     33\u001b[0m \u001b[0;31m# rez = [i for j in rez for i in j]\u001b[0m\u001b[0;34m\u001b[0m\u001b[0;34m\u001b[0m\u001b[0;34m\u001b[0m\u001b[0m\n\u001b[0;32m---> 34\u001b[0;31m \u001b[0mtemp\u001b[0m \u001b[0;34m=\u001b[0m \u001b[0;34m[\u001b[0m\u001b[0mdic_class\u001b[0m\u001b[0;34m[\u001b[0m\u001b[0mi\u001b[0m\u001b[0;34m]\u001b[0m \u001b[0;32mfor\u001b[0m \u001b[0mi\u001b[0m \u001b[0;32min\u001b[0m \u001b[0mtemp\u001b[0m\u001b[0;34m]\u001b[0m\u001b[0;34m\u001b[0m\u001b[0;34m\u001b[0m\u001b[0m\n\u001b[0m",
            "\u001b[0;31mKeyError\u001b[0m: 'O'"
          ]
        }
      ]
    },
    {
      "cell_type": "code",
      "source": [
        "from sklearn.metrics import f1_score\n",
        "\n",
        "ytest = np.array(Y_test).flatten()\n",
        "ypred = temp[:-1]\n",
        "\n",
        "f1_score(ytest, ypred, average='micro')"
      ],
      "metadata": {
        "id": "d_oc_q5CidNH",
        "colab": {
          "base_uri": "https://localhost:8080/",
          "height": 362
        },
        "outputId": "4a684a26-9808-4d2d-decc-3350757546ca"
      },
      "execution_count": null,
      "outputs": [
        {
          "output_type": "error",
          "ename": "ValueError",
          "evalue": "ignored",
          "traceback": [
            "\u001b[0;31m---------------------------------------------------------------------------\u001b[0m",
            "\u001b[0;31mValueError\u001b[0m                                Traceback (most recent call last)",
            "\u001b[0;32m<ipython-input-29-8ffeed075e17>\u001b[0m in \u001b[0;36m<module>\u001b[0;34m()\u001b[0m\n\u001b[1;32m      4\u001b[0m \u001b[0mypred\u001b[0m \u001b[0;34m=\u001b[0m \u001b[0mtemp\u001b[0m\u001b[0;34m[\u001b[0m\u001b[0;34m:\u001b[0m\u001b[0;34m-\u001b[0m\u001b[0;36m1\u001b[0m\u001b[0;34m]\u001b[0m\u001b[0;34m\u001b[0m\u001b[0;34m\u001b[0m\u001b[0m\n\u001b[1;32m      5\u001b[0m \u001b[0;34m\u001b[0m\u001b[0m\n\u001b[0;32m----> 6\u001b[0;31m \u001b[0mf1_score\u001b[0m\u001b[0;34m(\u001b[0m\u001b[0mytest\u001b[0m\u001b[0;34m,\u001b[0m \u001b[0mypred\u001b[0m\u001b[0;34m,\u001b[0m \u001b[0maverage\u001b[0m\u001b[0;34m=\u001b[0m\u001b[0;34m'micro'\u001b[0m\u001b[0;34m)\u001b[0m\u001b[0;34m\u001b[0m\u001b[0;34m\u001b[0m\u001b[0m\n\u001b[0m",
            "\u001b[0;32m/usr/local/lib/python3.7/dist-packages/sklearn/metrics/_classification.py\u001b[0m in \u001b[0;36mf1_score\u001b[0;34m(y_true, y_pred, labels, pos_label, average, sample_weight, zero_division)\u001b[0m\n\u001b[1;32m   1129\u001b[0m         \u001b[0maverage\u001b[0m\u001b[0;34m=\u001b[0m\u001b[0maverage\u001b[0m\u001b[0;34m,\u001b[0m\u001b[0;34m\u001b[0m\u001b[0;34m\u001b[0m\u001b[0m\n\u001b[1;32m   1130\u001b[0m         \u001b[0msample_weight\u001b[0m\u001b[0;34m=\u001b[0m\u001b[0msample_weight\u001b[0m\u001b[0;34m,\u001b[0m\u001b[0;34m\u001b[0m\u001b[0;34m\u001b[0m\u001b[0m\n\u001b[0;32m-> 1131\u001b[0;31m         \u001b[0mzero_division\u001b[0m\u001b[0;34m=\u001b[0m\u001b[0mzero_division\u001b[0m\u001b[0;34m,\u001b[0m\u001b[0;34m\u001b[0m\u001b[0;34m\u001b[0m\u001b[0m\n\u001b[0m\u001b[1;32m   1132\u001b[0m     )\n\u001b[1;32m   1133\u001b[0m \u001b[0;34m\u001b[0m\u001b[0m\n",
            "\u001b[0;32m/usr/local/lib/python3.7/dist-packages/sklearn/metrics/_classification.py\u001b[0m in \u001b[0;36mfbeta_score\u001b[0;34m(y_true, y_pred, beta, labels, pos_label, average, sample_weight, zero_division)\u001b[0m\n\u001b[1;32m   1268\u001b[0m         \u001b[0mwarn_for\u001b[0m\u001b[0;34m=\u001b[0m\u001b[0;34m(\u001b[0m\u001b[0;34m\"f-score\"\u001b[0m\u001b[0;34m,\u001b[0m\u001b[0;34m)\u001b[0m\u001b[0;34m,\u001b[0m\u001b[0;34m\u001b[0m\u001b[0;34m\u001b[0m\u001b[0m\n\u001b[1;32m   1269\u001b[0m         \u001b[0msample_weight\u001b[0m\u001b[0;34m=\u001b[0m\u001b[0msample_weight\u001b[0m\u001b[0;34m,\u001b[0m\u001b[0;34m\u001b[0m\u001b[0;34m\u001b[0m\u001b[0m\n\u001b[0;32m-> 1270\u001b[0;31m         \u001b[0mzero_division\u001b[0m\u001b[0;34m=\u001b[0m\u001b[0mzero_division\u001b[0m\u001b[0;34m,\u001b[0m\u001b[0;34m\u001b[0m\u001b[0;34m\u001b[0m\u001b[0m\n\u001b[0m\u001b[1;32m   1271\u001b[0m     )\n\u001b[1;32m   1272\u001b[0m     \u001b[0;32mreturn\u001b[0m \u001b[0mf\u001b[0m\u001b[0;34m\u001b[0m\u001b[0;34m\u001b[0m\u001b[0m\n",
            "\u001b[0;32m/usr/local/lib/python3.7/dist-packages/sklearn/metrics/_classification.py\u001b[0m in \u001b[0;36mprecision_recall_fscore_support\u001b[0;34m(y_true, y_pred, beta, labels, pos_label, average, warn_for, sample_weight, zero_division)\u001b[0m\n\u001b[1;32m   1542\u001b[0m     \u001b[0;32mif\u001b[0m \u001b[0mbeta\u001b[0m \u001b[0;34m<\u001b[0m \u001b[0;36m0\u001b[0m\u001b[0;34m:\u001b[0m\u001b[0;34m\u001b[0m\u001b[0;34m\u001b[0m\u001b[0m\n\u001b[1;32m   1543\u001b[0m         \u001b[0;32mraise\u001b[0m \u001b[0mValueError\u001b[0m\u001b[0;34m(\u001b[0m\u001b[0;34m\"beta should be >=0 in the F-beta score\"\u001b[0m\u001b[0;34m)\u001b[0m\u001b[0;34m\u001b[0m\u001b[0;34m\u001b[0m\u001b[0m\n\u001b[0;32m-> 1544\u001b[0;31m     \u001b[0mlabels\u001b[0m \u001b[0;34m=\u001b[0m \u001b[0m_check_set_wise_labels\u001b[0m\u001b[0;34m(\u001b[0m\u001b[0my_true\u001b[0m\u001b[0;34m,\u001b[0m \u001b[0my_pred\u001b[0m\u001b[0;34m,\u001b[0m \u001b[0maverage\u001b[0m\u001b[0;34m,\u001b[0m \u001b[0mlabels\u001b[0m\u001b[0;34m,\u001b[0m \u001b[0mpos_label\u001b[0m\u001b[0;34m)\u001b[0m\u001b[0;34m\u001b[0m\u001b[0;34m\u001b[0m\u001b[0m\n\u001b[0m\u001b[1;32m   1545\u001b[0m \u001b[0;34m\u001b[0m\u001b[0m\n\u001b[1;32m   1546\u001b[0m     \u001b[0;31m# Calculate tp_sum, pred_sum, true_sum ###\u001b[0m\u001b[0;34m\u001b[0m\u001b[0;34m\u001b[0m\u001b[0;34m\u001b[0m\u001b[0m\n",
            "\u001b[0;32m/usr/local/lib/python3.7/dist-packages/sklearn/metrics/_classification.py\u001b[0m in \u001b[0;36m_check_set_wise_labels\u001b[0;34m(y_true, y_pred, average, labels, pos_label)\u001b[0m\n\u001b[1;32m   1349\u001b[0m     \u001b[0;31m# Convert to Python primitive type to avoid NumPy type / Python str\u001b[0m\u001b[0;34m\u001b[0m\u001b[0;34m\u001b[0m\u001b[0;34m\u001b[0m\u001b[0m\n\u001b[1;32m   1350\u001b[0m     \u001b[0;31m# comparison. See https://github.com/numpy/numpy/issues/6784\u001b[0m\u001b[0;34m\u001b[0m\u001b[0;34m\u001b[0m\u001b[0;34m\u001b[0m\u001b[0m\n\u001b[0;32m-> 1351\u001b[0;31m     \u001b[0mpresent_labels\u001b[0m \u001b[0;34m=\u001b[0m \u001b[0munique_labels\u001b[0m\u001b[0;34m(\u001b[0m\u001b[0my_true\u001b[0m\u001b[0;34m,\u001b[0m \u001b[0my_pred\u001b[0m\u001b[0;34m)\u001b[0m\u001b[0;34m.\u001b[0m\u001b[0mtolist\u001b[0m\u001b[0;34m(\u001b[0m\u001b[0;34m)\u001b[0m\u001b[0;34m\u001b[0m\u001b[0;34m\u001b[0m\u001b[0m\n\u001b[0m\u001b[1;32m   1352\u001b[0m     \u001b[0;32mif\u001b[0m \u001b[0maverage\u001b[0m \u001b[0;34m==\u001b[0m \u001b[0;34m\"binary\"\u001b[0m\u001b[0;34m:\u001b[0m\u001b[0;34m\u001b[0m\u001b[0;34m\u001b[0m\u001b[0m\n\u001b[1;32m   1353\u001b[0m         \u001b[0;32mif\u001b[0m \u001b[0my_type\u001b[0m \u001b[0;34m==\u001b[0m \u001b[0;34m\"binary\"\u001b[0m\u001b[0;34m:\u001b[0m\u001b[0;34m\u001b[0m\u001b[0;34m\u001b[0m\u001b[0m\n",
            "\u001b[0;32m/usr/local/lib/python3.7/dist-packages/sklearn/utils/multiclass.py\u001b[0m in \u001b[0;36munique_labels\u001b[0;34m(*ys)\u001b[0m\n\u001b[1;32m    105\u001b[0m     \u001b[0;31m# Check that we don't mix string type with number type\u001b[0m\u001b[0;34m\u001b[0m\u001b[0;34m\u001b[0m\u001b[0;34m\u001b[0m\u001b[0m\n\u001b[1;32m    106\u001b[0m     \u001b[0;32mif\u001b[0m \u001b[0mlen\u001b[0m\u001b[0;34m(\u001b[0m\u001b[0mset\u001b[0m\u001b[0;34m(\u001b[0m\u001b[0misinstance\u001b[0m\u001b[0;34m(\u001b[0m\u001b[0mlabel\u001b[0m\u001b[0;34m,\u001b[0m \u001b[0mstr\u001b[0m\u001b[0;34m)\u001b[0m \u001b[0;32mfor\u001b[0m \u001b[0mlabel\u001b[0m \u001b[0;32min\u001b[0m \u001b[0mys_labels\u001b[0m\u001b[0;34m)\u001b[0m\u001b[0;34m)\u001b[0m \u001b[0;34m>\u001b[0m \u001b[0;36m1\u001b[0m\u001b[0;34m:\u001b[0m\u001b[0;34m\u001b[0m\u001b[0;34m\u001b[0m\u001b[0m\n\u001b[0;32m--> 107\u001b[0;31m         \u001b[0;32mraise\u001b[0m \u001b[0mValueError\u001b[0m\u001b[0;34m(\u001b[0m\u001b[0;34m\"Mix of label input types (string and number)\"\u001b[0m\u001b[0;34m)\u001b[0m\u001b[0;34m\u001b[0m\u001b[0;34m\u001b[0m\u001b[0m\n\u001b[0m\u001b[1;32m    108\u001b[0m \u001b[0;34m\u001b[0m\u001b[0m\n\u001b[1;32m    109\u001b[0m     \u001b[0;32mreturn\u001b[0m \u001b[0mnp\u001b[0m\u001b[0;34m.\u001b[0m\u001b[0marray\u001b[0m\u001b[0;34m(\u001b[0m\u001b[0msorted\u001b[0m\u001b[0;34m(\u001b[0m\u001b[0mys_labels\u001b[0m\u001b[0;34m)\u001b[0m\u001b[0;34m)\u001b[0m\u001b[0;34m\u001b[0m\u001b[0;34m\u001b[0m\u001b[0m\n",
            "\u001b[0;31mValueError\u001b[0m: Mix of label input types (string and number)"
          ]
        }
      ]
    },
    {
      "cell_type": "code",
      "source": [
        "from sklearn.metrics import f1_score\n",
        "\n",
        "ytest = np.array(Y_test).flatten()\n",
        "ypred = y_pred.argmax(2).flatten()\n",
        "\n",
        "f1_score(ytest, ypred, average='micro')"
      ],
      "metadata": {
        "colab": {
          "base_uri": "https://localhost:8080/"
        },
        "id": "TJ6Ek3tF-doO",
        "outputId": "dc4e9136-f838-4697-c0ff-f69af0d34a26"
      },
      "execution_count": null,
      "outputs": [
        {
          "output_type": "execute_result",
          "data": {
            "text/plain": [
              "0.9683412977867203"
            ]
          },
          "metadata": {},
          "execution_count": 143
        }
      ]
    },
    {
      "cell_type": "code",
      "source": [
        "from sklearn.metrics import f1_score\n",
        "\n",
        "ytest = np.array(Y_test).flatten()\n",
        "ypred = y_pred.argmax(2).flatten()\n",
        "\n",
        "f1_score(ytest, ypred, average='micro')"
      ],
      "metadata": {
        "colab": {
          "base_uri": "https://localhost:8080/"
        },
        "id": "PkUh1-W6eS9r",
        "outputId": "3fc506de-5f6f-409a-b276-24e35a581e6b"
      },
      "execution_count": null,
      "outputs": [
        {
          "output_type": "execute_result",
          "data": {
            "text/plain": [
              "0.9763286751760564"
            ]
          },
          "metadata": {},
          "execution_count": 73
        }
      ]
    },
    {
      "cell_type": "code",
      "source": [
        "from sklearn.metrics import f1_score\n",
        "\n",
        "ytest = np.array(Y_test).flatten()\n",
        "ypred = y_pred.argmax(2).flatten()\n",
        "\n",
        "f1_score(ytest, ypred, average='micro')"
      ],
      "metadata": {
        "colab": {
          "base_uri": "https://localhost:8080/"
        },
        "id": "0__mtD5nJhMB",
        "outputId": "a43f5a19-7f5b-4dc5-a6ca-fa5d867aadf0"
      },
      "execution_count": null,
      "outputs": [
        {
          "output_type": "execute_result",
          "data": {
            "text/plain": [
              "0.9598194636569416"
            ]
          },
          "metadata": {},
          "execution_count": 22
        }
      ]
    },
    {
      "cell_type": "code",
      "source": [
        "model = tf.keras.models.load_model('/content/drive/MyDrive/SuperAI_NLP/model_0999_bilstm_1.h5')"
      ],
      "metadata": {
        "id": "oFZZ5tx31hU3"
      },
      "execution_count": null,
      "outputs": []
    },
    {
      "cell_type": "code",
      "source": [
        "pos_tag(docs[0][0],corpus='lst20')"
      ],
      "metadata": {
        "id": "DhQ-kevWIaZr",
        "colab": {
          "base_uri": "https://localhost:8080/"
        },
        "outputId": "f2d38422-376b-4ddd-f701-9ef5c94c76b6"
      },
      "execution_count": null,
      "outputs": [
        {
          "output_type": "execute_result",
          "data": {
            "text/plain": [
              "[('เปิด', 'VV'),\n",
              " ('ขนส่ง', 'VV'),\n",
              " ('สินค้า', 'NN'),\n",
              " ('เชื่อม', 'VV'),\n",
              " (' ', 'PU'),\n",
              " ('3', 'NU'),\n",
              " (' ', 'PU'),\n",
              " ('ประเทศ', 'CL')]"
            ]
          },
          "metadata": {},
          "execution_count": 37
        }
      ]
    },
    {
      "cell_type": "code",
      "source": [
        ""
      ],
      "metadata": {
        "colab": {
          "base_uri": "https://localhost:8080/",
          "height": 325
        },
        "id": "kFGku4yRnqIj",
        "outputId": "065b2e95-2913-448a-8ce5-5fd0ec0d64b8"
      },
      "execution_count": null,
      "outputs": [
        {
          "output_type": "error",
          "ename": "IndexError",
          "evalue": "ignored",
          "traceback": [
            "\u001b[0;31m---------------------------------------------------------------------------\u001b[0m",
            "\u001b[0;31mIndexError\u001b[0m                                Traceback (most recent call last)",
            "\u001b[0;32m<ipython-input-28-c0b9781def5c>\u001b[0m in \u001b[0;36m<module>\u001b[0;34m()\u001b[0m\n\u001b[0;32m----> 1\u001b[0;31m \u001b[0mpos_tag_sents\u001b[0m\u001b[0;34m(\u001b[0m\u001b[0mdocs\u001b[0m\u001b[0;34m[\u001b[0m\u001b[0;36m0\u001b[0m\u001b[0;34m]\u001b[0m\u001b[0;34m,\u001b[0m\u001b[0mcorpus\u001b[0m\u001b[0;34m=\u001b[0m\u001b[0;34m'orchid_ud'\u001b[0m\u001b[0;34m)\u001b[0m\u001b[0;34m\u001b[0m\u001b[0;34m\u001b[0m\u001b[0m\n\u001b[0m",
            "\u001b[0;32m/usr/local/lib/python3.7/dist-packages/pythainlp/tag/pos_tag.py\u001b[0m in \u001b[0;36mpos_tag_sents\u001b[0;34m(sentences, engine, corpus)\u001b[0m\n\u001b[1;32m    167\u001b[0m         \u001b[0;32mreturn\u001b[0m \u001b[0;34m[\u001b[0m\u001b[0;34m]\u001b[0m\u001b[0;34m\u001b[0m\u001b[0;34m\u001b[0m\u001b[0m\n\u001b[1;32m    168\u001b[0m \u001b[0;34m\u001b[0m\u001b[0m\n\u001b[0;32m--> 169\u001b[0;31m     \u001b[0;32mreturn\u001b[0m \u001b[0;34m[\u001b[0m\u001b[0mpos_tag\u001b[0m\u001b[0;34m(\u001b[0m\u001b[0msent\u001b[0m\u001b[0;34m,\u001b[0m \u001b[0mengine\u001b[0m\u001b[0;34m=\u001b[0m\u001b[0mengine\u001b[0m\u001b[0;34m,\u001b[0m \u001b[0mcorpus\u001b[0m\u001b[0;34m=\u001b[0m\u001b[0mcorpus\u001b[0m\u001b[0;34m)\u001b[0m \u001b[0;32mfor\u001b[0m \u001b[0msent\u001b[0m \u001b[0;32min\u001b[0m \u001b[0msentences\u001b[0m\u001b[0;34m]\u001b[0m\u001b[0;34m\u001b[0m\u001b[0;34m\u001b[0m\u001b[0m\n\u001b[0m",
            "\u001b[0;32m/usr/local/lib/python3.7/dist-packages/pythainlp/tag/pos_tag.py\u001b[0m in \u001b[0;36m<listcomp>\u001b[0;34m(.0)\u001b[0m\n\u001b[1;32m    167\u001b[0m         \u001b[0;32mreturn\u001b[0m \u001b[0;34m[\u001b[0m\u001b[0;34m]\u001b[0m\u001b[0;34m\u001b[0m\u001b[0;34m\u001b[0m\u001b[0m\n\u001b[1;32m    168\u001b[0m \u001b[0;34m\u001b[0m\u001b[0m\n\u001b[0;32m--> 169\u001b[0;31m     \u001b[0;32mreturn\u001b[0m \u001b[0;34m[\u001b[0m\u001b[0mpos_tag\u001b[0m\u001b[0;34m(\u001b[0m\u001b[0msent\u001b[0m\u001b[0;34m,\u001b[0m \u001b[0mengine\u001b[0m\u001b[0;34m=\u001b[0m\u001b[0mengine\u001b[0m\u001b[0;34m,\u001b[0m \u001b[0mcorpus\u001b[0m\u001b[0;34m=\u001b[0m\u001b[0mcorpus\u001b[0m\u001b[0;34m)\u001b[0m \u001b[0;32mfor\u001b[0m \u001b[0msent\u001b[0m \u001b[0;32min\u001b[0m \u001b[0msentences\u001b[0m\u001b[0;34m]\u001b[0m\u001b[0;34m\u001b[0m\u001b[0;34m\u001b[0m\u001b[0m\n\u001b[0m",
            "\u001b[0;32m/usr/local/lib/python3.7/dist-packages/pythainlp/tag/pos_tag.py\u001b[0m in \u001b[0;36mpos_tag\u001b[0;34m(words, engine, corpus)\u001b[0m\n\u001b[1;32m    114\u001b[0m         )\n\u001b[1;32m    115\u001b[0m \u001b[0;34m\u001b[0m\u001b[0m\n\u001b[0;32m--> 116\u001b[0;31m     \u001b[0mword_tags\u001b[0m \u001b[0;34m=\u001b[0m \u001b[0mtag_\u001b[0m\u001b[0;34m(\u001b[0m\u001b[0mwords\u001b[0m\u001b[0;34m,\u001b[0m \u001b[0mcorpus\u001b[0m\u001b[0;34m=\u001b[0m\u001b[0mcorpus\u001b[0m\u001b[0;34m)\u001b[0m\u001b[0;34m\u001b[0m\u001b[0;34m\u001b[0m\u001b[0m\n\u001b[0m\u001b[1;32m    117\u001b[0m \u001b[0;34m\u001b[0m\u001b[0m\n\u001b[1;32m    118\u001b[0m     \u001b[0;32mreturn\u001b[0m \u001b[0mword_tags\u001b[0m\u001b[0;34m\u001b[0m\u001b[0;34m\u001b[0m\u001b[0m\n",
            "\u001b[0;32m/usr/local/lib/python3.7/dist-packages/pythainlp/tag/perceptron.py\u001b[0m in \u001b[0;36mtag\u001b[0;34m(words, corpus)\u001b[0m\n\u001b[1;32m     61\u001b[0m     \u001b[0;32mif\u001b[0m \u001b[0mcorpus\u001b[0m \u001b[0;34m==\u001b[0m \u001b[0;34m\"orchid\"\u001b[0m \u001b[0;32mor\u001b[0m \u001b[0mcorpus\u001b[0m \u001b[0;34m==\u001b[0m \u001b[0;34m\"orchid_ud\"\u001b[0m\u001b[0;34m:\u001b[0m\u001b[0;34m\u001b[0m\u001b[0;34m\u001b[0m\u001b[0m\n\u001b[1;32m     62\u001b[0m         \u001b[0mwords\u001b[0m \u001b[0;34m=\u001b[0m \u001b[0morchid\u001b[0m\u001b[0;34m.\u001b[0m\u001b[0mpre_process\u001b[0m\u001b[0;34m(\u001b[0m\u001b[0mwords\u001b[0m\u001b[0;34m)\u001b[0m\u001b[0;34m\u001b[0m\u001b[0;34m\u001b[0m\u001b[0m\n\u001b[0;32m---> 63\u001b[0;31m         \u001b[0mword_tags\u001b[0m \u001b[0;34m=\u001b[0m \u001b[0m_orchid_tagger\u001b[0m\u001b[0;34m(\u001b[0m\u001b[0;34m)\u001b[0m\u001b[0;34m.\u001b[0m\u001b[0mtag\u001b[0m\u001b[0;34m(\u001b[0m\u001b[0mwords\u001b[0m\u001b[0;34m)\u001b[0m\u001b[0;34m\u001b[0m\u001b[0;34m\u001b[0m\u001b[0m\n\u001b[0m\u001b[1;32m     64\u001b[0m         \u001b[0mword_tags\u001b[0m \u001b[0;34m=\u001b[0m \u001b[0morchid\u001b[0m\u001b[0;34m.\u001b[0m\u001b[0mpost_process\u001b[0m\u001b[0;34m(\u001b[0m\u001b[0mword_tags\u001b[0m\u001b[0;34m,\u001b[0m \u001b[0mto_ud\u001b[0m\u001b[0;34m)\u001b[0m\u001b[0;34m\u001b[0m\u001b[0;34m\u001b[0m\u001b[0m\n\u001b[1;32m     65\u001b[0m     \u001b[0;32melif\u001b[0m \u001b[0mcorpus\u001b[0m \u001b[0;34m==\u001b[0m \u001b[0;34m\"lst20\"\u001b[0m \u001b[0;32mor\u001b[0m \u001b[0mcorpus\u001b[0m \u001b[0;34m==\u001b[0m \u001b[0;34m\"lst20_ud\"\u001b[0m\u001b[0;34m:\u001b[0m\u001b[0;34m\u001b[0m\u001b[0;34m\u001b[0m\u001b[0m\n",
            "\u001b[0;32m/usr/local/lib/python3.7/dist-packages/pythainlp/tag/_tag_perceptron.py\u001b[0m in \u001b[0;36mtag\u001b[0;34m(self, tokens)\u001b[0m\n\u001b[1;32m    135\u001b[0m         \u001b[0moutput\u001b[0m \u001b[0;34m=\u001b[0m \u001b[0;34m[\u001b[0m\u001b[0;34m]\u001b[0m\u001b[0;34m\u001b[0m\u001b[0;34m\u001b[0m\u001b[0m\n\u001b[1;32m    136\u001b[0m \u001b[0;34m\u001b[0m\u001b[0m\n\u001b[0;32m--> 137\u001b[0;31m         \u001b[0mcontext\u001b[0m \u001b[0;34m=\u001b[0m \u001b[0mself\u001b[0m\u001b[0;34m.\u001b[0m\u001b[0mSTART\u001b[0m \u001b[0;34m+\u001b[0m \u001b[0;34m[\u001b[0m\u001b[0mself\u001b[0m\u001b[0;34m.\u001b[0m\u001b[0m_normalize\u001b[0m\u001b[0;34m(\u001b[0m\u001b[0mw\u001b[0m\u001b[0;34m)\u001b[0m \u001b[0;32mfor\u001b[0m \u001b[0mw\u001b[0m \u001b[0;32min\u001b[0m \u001b[0mtokens\u001b[0m\u001b[0;34m]\u001b[0m \u001b[0;34m+\u001b[0m \u001b[0mself\u001b[0m\u001b[0;34m.\u001b[0m\u001b[0mEND\u001b[0m\u001b[0;34m\u001b[0m\u001b[0;34m\u001b[0m\u001b[0m\n\u001b[0m\u001b[1;32m    138\u001b[0m         \u001b[0;32mfor\u001b[0m \u001b[0mi\u001b[0m\u001b[0;34m,\u001b[0m \u001b[0mword\u001b[0m \u001b[0;32min\u001b[0m \u001b[0menumerate\u001b[0m\u001b[0;34m(\u001b[0m\u001b[0mtokens\u001b[0m\u001b[0;34m)\u001b[0m\u001b[0;34m:\u001b[0m\u001b[0;34m\u001b[0m\u001b[0;34m\u001b[0m\u001b[0m\n\u001b[1;32m    139\u001b[0m             \u001b[0mtag\u001b[0m \u001b[0;34m=\u001b[0m \u001b[0mself\u001b[0m\u001b[0;34m.\u001b[0m\u001b[0mtagdict\u001b[0m\u001b[0;34m.\u001b[0m\u001b[0mget\u001b[0m\u001b[0;34m(\u001b[0m\u001b[0mword\u001b[0m\u001b[0;34m)\u001b[0m\u001b[0;34m\u001b[0m\u001b[0;34m\u001b[0m\u001b[0m\n",
            "\u001b[0;32m/usr/local/lib/python3.7/dist-packages/pythainlp/tag/_tag_perceptron.py\u001b[0m in \u001b[0;36m<listcomp>\u001b[0;34m(.0)\u001b[0m\n\u001b[1;32m    135\u001b[0m         \u001b[0moutput\u001b[0m \u001b[0;34m=\u001b[0m \u001b[0;34m[\u001b[0m\u001b[0;34m]\u001b[0m\u001b[0;34m\u001b[0m\u001b[0;34m\u001b[0m\u001b[0m\n\u001b[1;32m    136\u001b[0m \u001b[0;34m\u001b[0m\u001b[0m\n\u001b[0;32m--> 137\u001b[0;31m         \u001b[0mcontext\u001b[0m \u001b[0;34m=\u001b[0m \u001b[0mself\u001b[0m\u001b[0;34m.\u001b[0m\u001b[0mSTART\u001b[0m \u001b[0;34m+\u001b[0m \u001b[0;34m[\u001b[0m\u001b[0mself\u001b[0m\u001b[0;34m.\u001b[0m\u001b[0m_normalize\u001b[0m\u001b[0;34m(\u001b[0m\u001b[0mw\u001b[0m\u001b[0;34m)\u001b[0m \u001b[0;32mfor\u001b[0m \u001b[0mw\u001b[0m \u001b[0;32min\u001b[0m \u001b[0mtokens\u001b[0m\u001b[0;34m]\u001b[0m \u001b[0;34m+\u001b[0m \u001b[0mself\u001b[0m\u001b[0;34m.\u001b[0m\u001b[0mEND\u001b[0m\u001b[0;34m\u001b[0m\u001b[0;34m\u001b[0m\u001b[0m\n\u001b[0m\u001b[1;32m    138\u001b[0m         \u001b[0;32mfor\u001b[0m \u001b[0mi\u001b[0m\u001b[0;34m,\u001b[0m \u001b[0mword\u001b[0m \u001b[0;32min\u001b[0m \u001b[0menumerate\u001b[0m\u001b[0;34m(\u001b[0m\u001b[0mtokens\u001b[0m\u001b[0;34m)\u001b[0m\u001b[0;34m:\u001b[0m\u001b[0;34m\u001b[0m\u001b[0;34m\u001b[0m\u001b[0m\n\u001b[1;32m    139\u001b[0m             \u001b[0mtag\u001b[0m \u001b[0;34m=\u001b[0m \u001b[0mself\u001b[0m\u001b[0;34m.\u001b[0m\u001b[0mtagdict\u001b[0m\u001b[0;34m.\u001b[0m\u001b[0mget\u001b[0m\u001b[0;34m(\u001b[0m\u001b[0mword\u001b[0m\u001b[0;34m)\u001b[0m\u001b[0;34m\u001b[0m\u001b[0;34m\u001b[0m\u001b[0m\n",
            "\u001b[0;32m/usr/local/lib/python3.7/dist-packages/pythainlp/tag/_tag_perceptron.py\u001b[0m in \u001b[0;36m_normalize\u001b[0;34m(self, word)\u001b[0m\n\u001b[1;32m    227\u001b[0m         \u001b[0;32melif\u001b[0m \u001b[0mword\u001b[0m\u001b[0;34m.\u001b[0m\u001b[0misdigit\u001b[0m\u001b[0;34m(\u001b[0m\u001b[0;34m)\u001b[0m \u001b[0;32mand\u001b[0m \u001b[0mlen\u001b[0m\u001b[0;34m(\u001b[0m\u001b[0mword\u001b[0m\u001b[0;34m)\u001b[0m \u001b[0;34m==\u001b[0m \u001b[0;36m4\u001b[0m\u001b[0;34m:\u001b[0m\u001b[0;34m\u001b[0m\u001b[0;34m\u001b[0m\u001b[0m\n\u001b[1;32m    228\u001b[0m             \u001b[0;32mreturn\u001b[0m \u001b[0;34m\"!YEAR\"\u001b[0m\u001b[0;34m\u001b[0m\u001b[0;34m\u001b[0m\u001b[0m\n\u001b[0;32m--> 229\u001b[0;31m         \u001b[0;32melif\u001b[0m \u001b[0mword\u001b[0m\u001b[0;34m[\u001b[0m\u001b[0;36m0\u001b[0m\u001b[0;34m]\u001b[0m\u001b[0;34m.\u001b[0m\u001b[0misdigit\u001b[0m\u001b[0;34m(\u001b[0m\u001b[0;34m)\u001b[0m\u001b[0;34m:\u001b[0m\u001b[0;34m\u001b[0m\u001b[0;34m\u001b[0m\u001b[0m\n\u001b[0m\u001b[1;32m    230\u001b[0m             \u001b[0;32mreturn\u001b[0m \u001b[0;34m\"!DIGITS\"\u001b[0m\u001b[0;34m\u001b[0m\u001b[0;34m\u001b[0m\u001b[0m\n\u001b[1;32m    231\u001b[0m         \u001b[0;32melse\u001b[0m\u001b[0;34m:\u001b[0m\u001b[0;34m\u001b[0m\u001b[0;34m\u001b[0m\u001b[0m\n",
            "\u001b[0;31mIndexError\u001b[0m: string index out of range"
          ]
        }
      ]
    },
    {
      "cell_type": "code",
      "source": [
        "docs[0]"
      ],
      "metadata": {
        "id": "myapTqpinsB-"
      },
      "execution_count": null,
      "outputs": []
    },
    {
      "cell_type": "code",
      "source": [
        ""
      ],
      "metadata": {
        "id": "XKMf0Qm5pZsf"
      },
      "execution_count": null,
      "outputs": []
    }
  ]
}