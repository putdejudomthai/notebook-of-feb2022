{
  "cells": [
    {
      "cell_type": "code",
      "source": [
        "from google.colab import drive\n",
        "drive.mount('/content/drive')"
      ],
      "metadata": {
        "colab": {
          "base_uri": "https://localhost:8080/"
        },
        "id": "ZKurA9WqlisH",
        "outputId": "15034a72-1087-4f09-d4b7-aaba8e82b18a"
      },
      "execution_count": 1,
      "outputs": [
        {
          "output_type": "stream",
          "name": "stdout",
          "text": [
            "Mounted at /content/drive\n"
          ]
        }
      ]
    },
    {
      "cell_type": "code",
      "execution_count": 2,
      "metadata": {
        "colab": {
          "base_uri": "https://localhost:8080/"
        },
        "id": "QafLHWkHjrF9",
        "outputId": "5285d496-cf61-4e35-a7bb-e2571350fb19"
      },
      "outputs": [
        {
          "output_type": "stream",
          "name": "stdout",
          "text": [
            "Collecting pythainlp\n",
            "  Downloading pythainlp-3.0.5-py3-none-any.whl (11.5 MB)\n",
            "\u001b[K     |████████████████████████████████| 11.5 MB 7.8 MB/s \n",
            "\u001b[?25hCollecting python-crfsuite\n",
            "  Downloading python_crfsuite-0.9.7-cp37-cp37m-manylinux1_x86_64.whl (743 kB)\n",
            "\u001b[K     |████████████████████████████████| 743 kB 71.3 MB/s \n",
            "\u001b[?25hCollecting tinydb>=3.0\n",
            "  Downloading tinydb-4.6.1-py3-none-any.whl (24 kB)\n",
            "Requirement already satisfied: requests>=2.22.0 in /usr/local/lib/python3.7/dist-packages (from pythainlp) (2.23.0)\n",
            "Requirement already satisfied: chardet<4,>=3.0.2 in /usr/local/lib/python3.7/dist-packages (from requests>=2.22.0->pythainlp) (3.0.4)\n",
            "Requirement already satisfied: urllib3!=1.25.0,!=1.25.1,<1.26,>=1.21.1 in /usr/local/lib/python3.7/dist-packages (from requests>=2.22.0->pythainlp) (1.24.3)\n",
            "Requirement already satisfied: certifi>=2017.4.17 in /usr/local/lib/python3.7/dist-packages (from requests>=2.22.0->pythainlp) (2021.10.8)\n",
            "Requirement already satisfied: idna<3,>=2.5 in /usr/local/lib/python3.7/dist-packages (from requests>=2.22.0->pythainlp) (2.10)\n",
            "Requirement already satisfied: typing-extensions<5.0.0,>=3.10.0 in /usr/local/lib/python3.7/dist-packages (from tinydb>=3.0->pythainlp) (3.10.0.2)\n",
            "Installing collected packages: tinydb, python-crfsuite, pythainlp\n",
            "Successfully installed pythainlp-3.0.5 python-crfsuite-0.9.7 tinydb-4.6.1\n"
          ]
        }
      ],
      "source": [
        "!pip install pythainlp python-crfsuite"
      ]
    },
    {
      "cell_type": "code",
      "execution_count": 1,
      "metadata": {
        "id": "6iVulDd8h4vB"
      },
      "outputs": [],
      "source": [
        "import pandas as pd\n",
        "import numpy as np\n",
        "import tensorflow as tf\n",
        "from tensorflow.keras.models import Sequential, Model\n",
        "from tensorflow.keras.layers import InputLayer , Embedding , LSTM , TimeDistributed , Dense , Activation, Bidirectional,Concatenate, Input, Dropout\n",
        "import glob\n",
        "import os\n",
        "import sys\n",
        "from pythainlp.tokenize import word_tokenize, sent_tokenize\n",
        "from pythainlp.tag import pos_tag,pos_tag_sents\n",
        "from pythainlp.tag.thainer import ThaiNameTagger\n",
        "from pythainlp import tag\n",
        "from tqdm import tqdm\n",
        "import re\n",
        "import copy"
      ]
    },
    {
      "cell_type": "code",
      "execution_count": 2,
      "metadata": {
        "id": "AUP6TpfjB5tX",
        "colab": {
          "base_uri": "https://localhost:8080/"
        },
        "outputId": "f558d224-628e-4921-c86e-20ed065038bc"
      },
      "outputs": [
        {
          "output_type": "execute_result",
          "data": {
            "text/plain": [
              "36"
            ]
          },
          "metadata": {},
          "execution_count": 2
        }
      ],
      "source": [
        "st = open('/content/drive/MyDrive/SuperAI_NLP/ss_test.txt','r').read().split('\\n')\n",
        "st = '_'.join(st)\n",
        "st = st.split('_')\n",
        "max([len(i) for i in st])"
      ]
    },
    {
      "cell_type": "code",
      "execution_count": 5,
      "metadata": {
        "id": "lukCNJiViHc5",
        "colab": {
          "base_uri": "https://localhost:8080/"
        },
        "outputId": "c02c4ac2-051e-4b21-a8bb-cda0eae99d1f"
      },
      "outputs": [
        {
          "output_type": "stream",
          "name": "stdout",
          "text": [
            "--2022-02-18 12:10:00--  https://raw.githubusercontent.com/KoichiYasuoka/spaCy-Thai/master/th_pud-ud-orchid.conllu\n",
            "Resolving raw.githubusercontent.com (raw.githubusercontent.com)... 185.199.108.133, 185.199.109.133, 185.199.110.133, ...\n",
            "Connecting to raw.githubusercontent.com (raw.githubusercontent.com)|185.199.108.133|:443... connected.\n",
            "HTTP request sent, awaiting response... 200 OK\n",
            "Length: 1647521 (1.6M) [text/plain]\n",
            "Saving to: ‘th_pud-ud-orchid.conllu’\n",
            "\n",
            "th_pud-ud-orchid.co 100%[===================>]   1.57M  --.-KB/s    in 0.03s   \n",
            "\n",
            "2022-02-18 12:10:00 (47.6 MB/s) - ‘th_pud-ud-orchid.conllu’ saved [1647521/1647521]\n",
            "\n",
            "--2022-02-18 12:10:00--  https://raw.githubusercontent.com/UniversalDependencies/UD_Thai-PUD/master/th_pud-ud-test.conllu\n",
            "Resolving raw.githubusercontent.com (raw.githubusercontent.com)... 185.199.108.133, 185.199.109.133, 185.199.110.133, ...\n",
            "Connecting to raw.githubusercontent.com (raw.githubusercontent.com)|185.199.108.133|:443... connected.\n",
            "HTTP request sent, awaiting response... 200 OK\n",
            "Length: 1604812 (1.5M) [text/plain]\n",
            "Saving to: ‘th_pud-ud-test.conllu’\n",
            "\n",
            "th_pud-ud-test.conl 100%[===================>]   1.53M  --.-KB/s    in 0.04s   \n",
            "\n",
            "2022-02-18 12:10:00 (42.4 MB/s) - ‘th_pud-ud-test.conllu’ saved [1604812/1604812]\n",
            "\n"
          ]
        }
      ],
      "source": [
        "!tar -xf /content/drive/MyDrive/SuperAI_NLP/AIFORTHAI-LST20Corpus.tar.gz\n",
        "!wget https://raw.githubusercontent.com/KoichiYasuoka/spaCy-Thai/master/th_pud-ud-orchid.conllu\n",
        "!wget https://raw.githubusercontent.com/UniversalDependencies/UD_Thai-PUD/master/th_pud-ud-test.conllu"
      ]
    },
    {
      "cell_type": "markdown",
      "metadata": {
        "id": "ZSTT7mIUAWir"
      },
      "source": [
        "### **Preprocess orchid - PUD dataset**"
      ]
    },
    {
      "cell_type": "code",
      "execution_count": 3,
      "metadata": {
        "colab": {
          "base_uri": "https://localhost:8080/"
        },
        "id": "q_zSEm5WAWE3",
        "outputId": "183e2d19-f8d9-444c-812e-ebec2865097b"
      },
      "outputs": [
        {
          "output_type": "stream",
          "name": "stdout",
          "text": [
            "word : 44656\n"
          ]
        }
      ],
      "source": [
        "orchid = open('/content/th_pud-ud-orchid.conllu','r').read()\n",
        "pud = open('/content/th_pud-ud-test.conllu','r').read()\n",
        "orchid = orchid + pud\n",
        "orchid = orchid.split('\\n')\n",
        "orchid = list(filter(lambda x: len(x) != 0, orchid))\n",
        "\n",
        "orchid = list(filter(lambda x: x[0].isdigit(), orchid))\n",
        "orchid = [x.split('\\t') for x in orchid]\n",
        "\n",
        "orchid_sentences = []\n",
        "prev = 0\n",
        "temp = []\n",
        "for i in orchid:\n",
        "  num = int(i[0])\n",
        "  if num < prev:\n",
        "    orchid_sentences.append(temp)\n",
        "    temp = []\n",
        "    temp.append(i[1])\n",
        "  else: temp.append(i[1])\n",
        "  prev = num\n",
        "\n",
        "orchid_sentences.append(temp)\n",
        "orchid_sentences\n",
        "\n",
        "print(f'word : {len([j for i in orchid_sentences for j in i])}')\n",
        "\n",
        "def get_sentence_pair_and_label_orchid(sentences):\n",
        "  sentence_pairs = []\n",
        "  label = [1]*len(sentences)\n",
        "  for i in range(len(sentences)-1):\n",
        "    sentence_pairs.append([sentences[i], sentences[i+1]])\n",
        "\n",
        "  return [sentence_pairs], [label]\n"
      ]
    },
    {
      "cell_type": "code",
      "execution_count": 4,
      "metadata": {
        "colab": {
          "base_uri": "https://localhost:8080/"
        },
        "id": "V-O-Q6UJjI2v",
        "outputId": "7f8f4837-f31d-4715-bf37-e8ee4ecc93d5"
      },
      "outputs": [
        {
          "output_type": "stream",
          "name": "stderr",
          "text": [
            "100%|██████████| 7588/7588 [00:03<00:00, 2102.24it/s]\n",
            "100%|██████████| 966/966 [00:00<00:00, 2729.61it/s]\n",
            "100%|██████████| 966/966 [00:00<00:00, 7443.99it/s]\n",
            "100%|██████████| 7588/7588 [00:01<00:00, 4568.78it/s]\n",
            "100%|██████████| 3794/3794 [04:12<00:00, 15.02it/s]\n",
            "100%|██████████| 1/1 [00:04<00:00,  4.21s/it]\n",
            "100%|██████████| 483/483 [00:18<00:00, 25.96it/s]\n"
          ]
        }
      ],
      "source": [
        "train_path = '/content/LST20_Corpus/train'\n",
        "test_path = '/content/LST20_Corpus/test'\n",
        "\n",
        "def get_doc_old(path):\n",
        "  docs = []\n",
        "  for i in tqdm(list(os.scandir(path))):\n",
        "    if i.name[0] != '.':\n",
        "      doc = open(i.path,'r').read()\n",
        "      doc = doc.split('\\n\\n')\n",
        "      doc = [[k.split('\\t')[0] for k in d.split('\\n')] for d in doc]\n",
        "      docs.append(doc)\n",
        "  return docs\n",
        "\n",
        "def get_doc(path):\n",
        "  docs = []\n",
        "  for i in tqdm(list(os.scandir(path))):\n",
        "    if i.name[0] != '.':\n",
        "      doc = open(i.path,'r').read()\n",
        "      doc = doc.split('\\n')\n",
        "      doc = [d.split('\\t')[0] if d != '' else '<SEP>' for d in doc]\n",
        "      docs.append(doc[:-2])\n",
        "  return docs\n",
        "\n",
        "docs = get_doc(train_path)\n",
        "docs_test = get_doc(test_path)\n",
        "\n",
        "\n",
        "def get_sentence_pair_and_label(docs):\n",
        "  X,Y = [],[]\n",
        "  for doc in docs:\n",
        "    sentence_pairs = []\n",
        "    labels = []\n",
        "    sen_pair = []\n",
        "    label = []\n",
        "    idx_to_cut = [0]*len(doc)\n",
        "    for i in range(len(doc)):\n",
        "      if doc[i] == '<SEP>':\n",
        "        idx_to_cut[i] = 1\n",
        "    \n",
        "    word_seg = []\n",
        "    ws = []\n",
        "    for word in doc:\n",
        "      if word == '<SEP>' or word == '_':\n",
        "        word_seg.append(ws)\n",
        "        ws = []\n",
        "      else:\n",
        "        ws.append(word)\n",
        "    word_seg.append(ws)\n",
        "\n",
        "    word_seg = [w + ['_'] for w in word_seg]\n",
        "\n",
        "    sum_len = 0\n",
        "    size = []\n",
        "    for sub in range(len(word_seg)-1):\n",
        "      len_sub = len(word_seg[sub]) + sum_len - 1\n",
        "      is_cut = idx_to_cut[len_sub]\n",
        "      labels.append(is_cut)\n",
        "      sentence_pairs.append([word_seg[sub], word_seg[sub+1]])\n",
        "      sum_len += len(word_seg[sub])\n",
        "\n",
        "    X.append(sentence_pairs)\n",
        "    Y.append(labels)\n",
        "\n",
        "  return X,Y\n",
        "\n",
        "ner = ThaiNameTagger()\n",
        "def get_ner(seg,ner):\n",
        "  gt = seg\n",
        "  txt = ner.get_ner(''.join(gt))\n",
        "  result = []\n",
        "  for i in txt:\n",
        "    tag = i[2]\n",
        "    for char in i[0]:\n",
        "      result.append([char,tag])\n",
        "  result\n",
        "  gt_idx = [len(i) for i in gt][:-1]\n",
        "  count = 0\n",
        "  segs = []\n",
        "  for i in gt_idx:\n",
        "    to_cut = i + count\n",
        "    seg = result[count:i+count]\n",
        "    segs.append(seg)\n",
        "    count += i\n",
        "  seg = result[count:i+count]\n",
        "  segs.append(seg)\n",
        "\n",
        "  result = []\n",
        "  for i in segs:\n",
        "    tag = i[0][1]\n",
        "    result.append(tag)\n",
        "\n",
        "  return result\n",
        "\n",
        "docs_test = get_doc(test_path)\n",
        "\n",
        "list_pos = ['AJ', 'AV', 'AX', 'CC', 'CL', 'FX', 'IJ', 'NG', 'NN', 'NU', 'PA', 'PR', 'PS', 'PU', 'VV', 'XX']\n",
        "list_ner = ['DATE','TIME','EMAIL' ,'LEN' ,'LOCATION' ,'ORGANIZATION' ,'PERSON' ,'PHONE' ,'URL', 'ZIP' ,'MONEY' ,'LAW', 'PERCENT','O']\n",
        "dic_pos = {j:i for i,j in enumerate(list_pos)}\n",
        "dic_ner = {j:i for i,j in enumerate(list_ner)}\n",
        "dic_pos['<PAD_TOKEN>'] = len(dic_pos)\n",
        "dic_ner['<PAD_TOKEN>'] = len(dic_ner)\n",
        "inv_dic_pos = {i:j for j,i in dic_pos.items()}\n",
        "inv_dic_ner = {i:j for j,i in dic_ner.items()}\n",
        "\n",
        "\n",
        "orchid_dict = set([j for i in orchid_sentences for j in i])\n",
        "dic = {j:i for i,j in enumerate(list(set([x for i in get_doc_old(train_path) for d in i for x in d]).union(orchid_dict)))}\n",
        "dic_class = {}\n",
        "dic['<PAD_TOKEN>'] = len(dic)\n",
        "dic['<UNKNOWN>'] = len(dic)\n",
        "inv_dic = {i:j for j,i in dic.items()}\n",
        "dic_class['I_SENT'] = len(dic_class)\n",
        "dic_class['B_SENT'] = len(dic_class)\n",
        "dic_class['E_SENT'] = len(dic_class)\n",
        "dic_class['O_SENT'] = len(dic_class)\n",
        "dic_class['P_SENT'] = len(dic_class)\n",
        "inv_dic_class = {i:j for j,i in dic_class.items()}\n",
        "\n",
        "sentence_pairs, labels = get_sentence_pair_and_label(docs)\n",
        "sentence_pairs_orchid, labels_orchid = get_sentence_pair_and_label_orchid(orchid_sentences)\n",
        "sentence_pairs_test, labels_test = get_sentence_pair_and_label(docs_test)\n",
        "\n",
        "max_len = 50\n",
        "def preprocess_sentence(x):\n",
        "  output = []\n",
        "  x_ner = get_ner(x,ner)\n",
        "  x_ner = [x if x == 'O' else x.split('-')[1] for x in x_ner]\n",
        "  x = [[i, dic_pos[pos_tag([i], corpus='lst20')[0][1]], dic_ner[xner]] for i, xner in zip(x,x_ner)]\n",
        "  x = [[dic[i[0]] if i[0] in dic.keys() else dic['<UNKNOWN>'], i[1], i[2]] for i in x]\n",
        "  if len(x) > max_len: return -1\n",
        "  x =  x + [[dic['<PAD_TOKEN>'], dic_pos['<PAD_TOKEN>'], dic_ner['<PAD_TOKEN>']]]*(max_len - len(x))\n",
        "  return x\n",
        "\n",
        "def gen_data(sentence_pairs, labels):\n",
        "  X_train = []\n",
        "  Y_train = []\n",
        "  for sentence_pair,label in tqdm(zip(sentence_pairs, labels), total=len(sentence_pairs)):\n",
        "    temp = []\n",
        "    temp_l = []\n",
        "    s2_copy = None\n",
        "    for (s1,s2) ,lab in zip(sentence_pair, label):\n",
        "      s1 = s2_copy if s2_copy is not None else preprocess_sentence(s1)\n",
        "      s2 = preprocess_sentence(s2)\n",
        "      s2_copy = copy.deepcopy(s2)\n",
        "      if s1 == -1 or s2 == -1: continue\n",
        "      temp.append([s1,s2])\n",
        "      temp_l.append(lab)\n",
        "    X_train.append(temp)\n",
        "    Y_train.append(temp_l)\n",
        "  return X_train, Y_train\n",
        "\n",
        "X_train, Y_train  = gen_data(sentence_pairs, labels)\n",
        "X_train_orchid, Y_train_orchid  = gen_data(sentence_pairs_orchid, labels_orchid)\n",
        "X_test, Y_test  = gen_data(sentence_pairs_test, labels_test)\n"
      ]
    },
    {
      "cell_type": "code",
      "source": [
        "# for i,j,k in X_train[0][20][0]:\n",
        "#   print(inv_dic[i],j,inv_dic_ner[k])"
      ],
      "metadata": {
        "id": "xfkNuGb55_qM"
      },
      "execution_count": 5,
      "outputs": []
    },
    {
      "cell_type": "code",
      "execution_count": 26,
      "metadata": {
        "id": "ypEc8cc1AKFQ"
      },
      "outputs": [],
      "source": [
        "# X_train_2 = []\n",
        "merged_X_train = []\n",
        "merged_Y_train = []\n",
        "merged_X_test = []\n",
        "merged_Y_test = []\n",
        "for i,j in zip(X_train,Y_train):\n",
        "  merged_X_train.extend(i)\n",
        "  merged_Y_train.extend(j)\n",
        "\n",
        "for i,j in zip(X_train_orchid,Y_train_orchid):\n",
        "  merged_X_train.extend(i)\n",
        "  merged_Y_train.extend(j)\n",
        "\n",
        "for i,j in zip(X_test,Y_test):\n",
        "  merged_X_test.extend(i)\n",
        "  merged_Y_test.extend(j)\n",
        "    # print(np.array(j))\n",
        "  # print(np.array(i).shape)"
      ]
    },
    {
      "cell_type": "code",
      "execution_count": 7,
      "metadata": {
        "colab": {
          "base_uri": "https://localhost:8080/"
        },
        "id": "t-lV3RgDUarg",
        "outputId": "e5df0b04-06f5-4f8a-de89-02d2cd0a0b05"
      },
      "outputs": [
        {
          "output_type": "execute_result",
          "data": {
            "text/plain": [
              "461192"
            ]
          },
          "metadata": {},
          "execution_count": 7
        }
      ],
      "source": [
        "len([j for i in Y_train for j in i])"
      ]
    },
    {
      "cell_type": "code",
      "execution_count": 27,
      "metadata": {
        "id": "K3kR5O_qG0j2"
      },
      "outputs": [],
      "source": [
        "merged_X_train = np.array(merged_X_train)\n",
        "merged_Y_train = np.array(merged_Y_train)\n",
        "merged_X_test = np.array(merged_X_test)\n",
        "merged_Y_test = np.array(merged_Y_test)"
      ]
    },
    {
      "cell_type": "markdown",
      "metadata": {
        "id": "QZKW9WfFInUx"
      },
      "source": [
        "### **LST-20 Dataset**"
      ]
    },
    {
      "cell_type": "code",
      "execution_count": 28,
      "metadata": {
        "colab": {
          "base_uri": "https://localhost:8080/"
        },
        "id": "A0mZu85fUEfo",
        "outputId": "69ca9ea6-0c8c-410d-cd4a-6e6e952e6925"
      },
      "outputs": [
        {
          "output_type": "stream",
          "name": "stdout",
          "text": [
            "(463167, 2, 50, 3) (463167,)\n",
            "(37955, 2, 50, 3) (37955,)\n"
          ]
        }
      ],
      "source": [
        "print(merged_X_train.shape, merged_Y_train.shape)\n",
        "print(merged_X_test.shape, merged_Y_test.shape)"
      ]
    },
    {
      "cell_type": "markdown",
      "metadata": {
        "id": "TkvieC6_IqIP"
      },
      "source": [
        "**LST-20 Dataset + Orchid**"
      ]
    },
    {
      "cell_type": "code",
      "execution_count": 10,
      "metadata": {
        "colab": {
          "base_uri": "https://localhost:8080/"
        },
        "id": "JKt4yNHkImjl",
        "outputId": "16713fee-6801-4aa8-89c0-b0dae41375ca"
      },
      "outputs": [
        {
          "output_type": "stream",
          "name": "stdout",
          "text": [
            "(463167, 2, 50, 3) (463167,)\n",
            "(37955, 2, 50, 3) (37955,)\n"
          ]
        }
      ],
      "source": [
        "print(merged_X_train.shape, merged_Y_train.shape)\n",
        "print(merged_X_test.shape, merged_Y_test.shape)"
      ]
    },
    {
      "cell_type": "markdown",
      "source": [
        "**Augment negative class**"
      ],
      "metadata": {
        "id": "uQdXKbi9-vY_"
      }
    },
    {
      "cell_type": "code",
      "execution_count": 29,
      "metadata": {
        "colab": {
          "base_uri": "https://localhost:8080/"
        },
        "id": "1MGlU69GNuGJ",
        "outputId": "f263b55a-07d5-48e2-e2b0-d9a5e52f106f"
      },
      "outputs": [
        {
          "output_type": "stream",
          "name": "stderr",
          "text": [
            "100%|██████████| 463167/463167 [00:03<00:00, 139406.11it/s]\n"
          ]
        }
      ],
      "source": [
        "import random\n",
        "perm = [[p1,p2] for p1,p2 in zip(np.random.permutation(len(merged_X_train)),np.random.permutation(len(merged_X_train)))]\n",
        "augmented_X_train = []\n",
        "augmented_Y_train = []\n",
        "for p1,p2 in tqdm(perm):\n",
        "  if p1 == p2: continue\n",
        "  dat1 = merged_X_train[p1]\n",
        "  dat2 = merged_X_train[p2]\n",
        "  sen1 = dat1[0,:,:]\n",
        "  sen2 = dat2[1,:,:]\n",
        "  sen3 = dat1[1,:,:]\n",
        "  sen4 = dat2[0,:,:]\n",
        "  aug1 = np.array([sen1,sen2])\n",
        "  aug2 = np.array([sen3,sen4])\n",
        "  augmented_X_train.extend([aug1, aug2])\n",
        "  augmented_Y_train.extend([0,0])"
      ]
    },
    {
      "cell_type": "code",
      "execution_count": 12,
      "metadata": {
        "id": "-VvEt8UJQf64"
      },
      "outputs": [],
      "source": [
        "augmented_X_train = np.array(augmented_X_train)\n",
        "augmented_Y_train = np.array(augmented_Y_train)\n",
        "merged_X_train = np.concatenate((merged_X_train, augmented_X_train), axis = 0)\n",
        "merged_Y_train = np.concatenate((merged_Y_train, augmented_Y_train), axis = 0)\n"
      ]
    },
    {
      "cell_type": "code",
      "execution_count": 13,
      "metadata": {
        "id": "Yeo-T3C8oUZh"
      },
      "outputs": [],
      "source": [
        "input_word = Input(shape=(50,))\n",
        "embed_word = Embedding(len(dic),64)(input_word)\n",
        "input_pos = Input(shape=(50,))\n",
        "embed_pos = Embedding(len(dic_pos),10)(input_pos)\n",
        "input_ner = Input(shape=(50,))\n",
        "embed_ner = Embedding(len(dic_ner),20)(input_ner)\n",
        "input_word2 = Input(shape=(50,))\n",
        "embed_word2 = Embedding(len(dic),64)(input_word2)\n",
        "input_pos2 = Input(shape=(50,))\n",
        "embed_pos2 = Embedding(len(dic_pos),10)(input_pos2)\n",
        "input_ner2 = Input(shape=(50,))\n",
        "embed_ner2 = Embedding(len(dic_ner),20)(input_ner2)\n",
        "\n",
        "concat = Concatenate()([embed_word, \n",
        "                        embed_pos, \n",
        "                        embed_ner, \n",
        "                        embed_word2, \n",
        "                        embed_pos2, \n",
        "                        embed_ner2])\n",
        "\n",
        "bidirec = Bidirectional(LSTM(100,return_sequences=False))(concat)\n",
        "time_dis = Dense(30)(bidirec)\n",
        "drop = Dropout(0.3)(time_dis)\n",
        "dense = Dense(13)(drop)\n",
        "dense = Dense(1)(dense)\n",
        "act = Activation('sigmoid')(dense)\n",
        "model = Model(inputs=[input_word, input_pos, input_ner, input_word2, input_pos2, input_ner2], outputs=[act])\n",
        "model.compile(optimizer=\"Adam\",loss=tf.keras.losses.BinaryCrossentropy(from_logits=True),\n",
        "              metrics=['accuracy'], run_eagerly=True)"
      ]
    },
    {
      "cell_type": "code",
      "execution_count": 14,
      "metadata": {
        "colab": {
          "base_uri": "https://localhost:8080/"
        },
        "id": "BXsolIMY1n47",
        "outputId": "5c8c1d74-d351-4562-a8e0-fc9ced1c0485"
      },
      "outputs": [
        {
          "output_type": "stream",
          "name": "stdout",
          "text": [
            "Model: \"model\"\n",
            "__________________________________________________________________________________________________\n",
            " Layer (type)                   Output Shape         Param #     Connected to                     \n",
            "==================================================================================================\n",
            " input_1 (InputLayer)           [(None, 50)]         0           []                               \n",
            "                                                                                                  \n",
            " input_2 (InputLayer)           [(None, 50)]         0           []                               \n",
            "                                                                                                  \n",
            " input_3 (InputLayer)           [(None, 50)]         0           []                               \n",
            "                                                                                                  \n",
            " input_4 (InputLayer)           [(None, 50)]         0           []                               \n",
            "                                                                                                  \n",
            " input_5 (InputLayer)           [(None, 50)]         0           []                               \n",
            "                                                                                                  \n",
            " input_6 (InputLayer)           [(None, 50)]         0           []                               \n",
            "                                                                                                  \n",
            " embedding (Embedding)          (None, 50, 64)       3220032     ['input_1[0][0]']                \n",
            "                                                                                                  \n",
            " embedding_1 (Embedding)        (None, 50, 10)       170         ['input_2[0][0]']                \n",
            "                                                                                                  \n",
            " embedding_2 (Embedding)        (None, 50, 20)       300         ['input_3[0][0]']                \n",
            "                                                                                                  \n",
            " embedding_3 (Embedding)        (None, 50, 64)       3220032     ['input_4[0][0]']                \n",
            "                                                                                                  \n",
            " embedding_4 (Embedding)        (None, 50, 10)       170         ['input_5[0][0]']                \n",
            "                                                                                                  \n",
            " embedding_5 (Embedding)        (None, 50, 20)       300         ['input_6[0][0]']                \n",
            "                                                                                                  \n",
            " concatenate (Concatenate)      (None, 50, 188)      0           ['embedding[0][0]',              \n",
            "                                                                  'embedding_1[0][0]',            \n",
            "                                                                  'embedding_2[0][0]',            \n",
            "                                                                  'embedding_3[0][0]',            \n",
            "                                                                  'embedding_4[0][0]',            \n",
            "                                                                  'embedding_5[0][0]']            \n",
            "                                                                                                  \n",
            " bidirectional (Bidirectional)  (None, 200)          231200      ['concatenate[0][0]']            \n",
            "                                                                                                  \n",
            " dense (Dense)                  (None, 30)           6030        ['bidirectional[0][0]']          \n",
            "                                                                                                  \n",
            " dropout (Dropout)              (None, 30)           0           ['dense[0][0]']                  \n",
            "                                                                                                  \n",
            " dense_1 (Dense)                (None, 13)           403         ['dropout[0][0]']                \n",
            "                                                                                                  \n",
            " dense_2 (Dense)                (None, 1)            14          ['dense_1[0][0]']                \n",
            "                                                                                                  \n",
            " activation (Activation)        (None, 1)            0           ['dense_2[0][0]']                \n",
            "                                                                                                  \n",
            "==================================================================================================\n",
            "Total params: 6,678,651\n",
            "Trainable params: 6,678,651\n",
            "Non-trainable params: 0\n",
            "__________________________________________________________________________________________________\n"
          ]
        }
      ],
      "source": [
        "model.summary()"
      ]
    },
    {
      "cell_type": "code",
      "execution_count": 15,
      "metadata": {
        "colab": {
          "base_uri": "https://localhost:8080/"
        },
        "id": "EqaqmvEH5c-q",
        "outputId": "c552210a-028e-4796-decd-82d093dc94b7"
      },
      "outputs": [
        {
          "output_type": "execute_result",
          "data": {
            "text/plain": [
              "{0: 1.1, 1: 15.0}"
            ]
          },
          "metadata": {},
          "execution_count": 15
        }
      ],
      "source": [
        "class_weight = {0: 1.1,\n",
        "                1: 15.0,\n",
        "                }\n",
        "class_weight"
      ]
    },
    {
      "cell_type": "code",
      "execution_count": 16,
      "metadata": {
        "id": "16eQd_vf3d-A"
      },
      "outputs": [],
      "source": [
        "def gen_sample_weight(Y, class_weight):\n",
        "  Y = copy.deepcopy(np.array(Y).astype(np.float32))\n",
        "  for k,v in class_weight.items():\n",
        "    Y[Y==k] = v\n",
        "  return Y\n",
        "\n",
        "sample_weight = gen_sample_weight(merged_Y_train, class_weight)"
      ]
    },
    {
      "cell_type": "code",
      "execution_count": 17,
      "metadata": {
        "colab": {
          "base_uri": "https://localhost:8080/"
        },
        "id": "dxfV-V-KcRMy",
        "outputId": "f588730d-056b-44cb-d4ce-4a3c2e826763"
      },
      "outputs": [
        {
          "output_type": "execute_result",
          "data": {
            "text/plain": [
              "array([ 1.1, 15. ,  1.1, ..., 15. , 15. , 15. ], dtype=float32)"
            ]
          },
          "metadata": {},
          "execution_count": 17
        }
      ],
      "source": [
        "sample_weight"
      ]
    },
    {
      "cell_type": "code",
      "execution_count": 41,
      "metadata": {
        "id": "Z-hdWg8_sR_p",
        "colab": {
          "base_uri": "https://localhost:8080/"
        },
        "outputId": "2c301d2a-7a4d-405e-e800-d342bf22d268"
      },
      "outputs": [
        {
          "output_type": "stream",
          "name": "stdout",
          "text": [
            "927/927 [==============================] - 25s 27ms/step - loss: 0.1041 - accuracy: 0.9597 - val_loss: 0.2890 - val_accuracy: 0.9055\n"
          ]
        },
        {
          "output_type": "execute_result",
          "data": {
            "text/plain": [
              "<keras.callbacks.History at 0x7f0cbae9cb10>"
            ]
          },
          "metadata": {},
          "execution_count": 41
        }
      ],
      "source": [
        "model.fit(\n",
        "    [merged_X_train[:,0,:,0],\n",
        "     merged_X_train[:,0,:,1],\n",
        "     merged_X_train[:,0,:,2],\n",
        "     merged_X_train[:,1,:,0],\n",
        "     merged_X_train[:,1,:,1],\n",
        "     merged_X_train[:,1,:,2],\n",
        "     ], \n",
        "    merged_Y_train, \n",
        "    batch_size = 500, \n",
        "    validation_data = ( \n",
        "      [merged_X_test[:,0,:,0],\n",
        "     merged_X_test[:,0,:,1],\n",
        "     merged_X_test[:,0,:,2],\n",
        "     merged_X_test[:,1,:,0],\n",
        "     merged_X_test[:,1,:,1],\n",
        "     merged_X_test[:,1,:,2],\n",
        "     ], merged_Y_test),\n",
        "    # sample_weight = gen_sample_weight(merged_Y_train, class_weight), \n",
        "    epochs=1)"
      ]
    },
    {
      "cell_type": "code",
      "execution_count": null,
      "metadata": {
        "colab": {
          "base_uri": "https://localhost:8080/"
        },
        "id": "8R578RF1khmd",
        "outputId": "4fb087cd-06be-4e78-80f0-62974271d7e4"
      },
      "outputs": [
        {
          "data": {
            "text/plain": [
              "array([[33838,  7361, 22217, ..., 48946, 48946, 48946],\n",
              "       [38072, 19040, 48946, ..., 48946, 48946, 48946],\n",
              "       [20063, 19040, 48946, ..., 48946, 48946, 48946],\n",
              "       ...,\n",
              "       [ 4357, 23543, 44581, ..., 48946, 48946, 48946],\n",
              "       [31821, 19040, 48946, ..., 48946, 48946, 48946],\n",
              "       [12616, 19040, 48946, ..., 48946, 48946, 48946]])"
            ]
          },
          "execution_count": 17,
          "metadata": {},
          "output_type": "execute_result"
        }
      ],
      "source": [
        "merged_X_train[:,0,:,0]"
      ]
    },
    {
      "cell_type": "code",
      "execution_count": 58,
      "metadata": {
        "id": "AaJ_YbBnyVgc"
      },
      "outputs": [],
      "source": [
        "y_pred = model.predict([merged_X_test[:,0,:,0],\n",
        "     merged_X_test[:,0,:,1],\n",
        "     merged_X_test[:,0,:,2],\n",
        "     merged_X_test[:,1,:,0],\n",
        "     merged_X_test[:,1,:,1],\n",
        "     merged_X_test[:,1,:,2],\n",
        "     ])"
      ]
    },
    {
      "cell_type": "code",
      "execution_count": 37,
      "metadata": {
        "id": "s4Zkf03B_wHr"
      },
      "outputs": [],
      "source": [
        "model.save('/content/drive/MyDrive/SuperAI_NLP/binary_cut_5epoch_92f1.h5')"
      ]
    },
    {
      "cell_type": "code",
      "execution_count": null,
      "metadata": {
        "colab": {
          "base_uri": "https://localhost:8080/"
        },
        "id": "x1_yqESvp3xi",
        "outputId": "a65d7186-cdae-420a-c95b-9a143df795d5"
      },
      "outputs": [
        {
          "name": "stdout",
          "output_type": "stream",
          "text": [
            "ac 0.7570367474589523\n"
          ]
        }
      ],
      "source": [
        "correct = 0\n",
        "total = np.sum(np.array(Y_test) == dic_class['O_SENT'])\n",
        "corr = 0\n",
        "for yp,yt in zip(y_pred, Y_test):\n",
        "  pred = [inv_dic_class[d] for d in np.argmax(yp, axis=1).tolist()]\n",
        "  gt = [inv_dic_class[d] for d in yt]\n",
        "\n",
        "  for p,g in zip(pred, gt):\n",
        "    if g == 'O_SENT':\n",
        "      if p == g: corr += 1\n",
        "      # print(p,g)\n",
        "  # break\n",
        "\n",
        "print('ac', corr/total)"
      ]
    },
    {
      "cell_type": "code",
      "execution_count": 46,
      "metadata": {
        "id": "cT3pII1iqF4R"
      },
      "outputs": [],
      "source": [
        "import pandas as pd\n",
        "\n",
        "my_file =  open('/content/drive/MyDrive/SuperAI_NLP/ss_test.txt', 'r')\n",
        "\n",
        "\n",
        "r = my_file.read()\n",
        "\n",
        "\n",
        "data = r.split(\"\\n\")\n",
        "# print(data)\n",
        "my_file.close()\n",
        "text = ''\n",
        "for  i in range(len(data)):\n",
        "    \n",
        "    if data[i] =='':\n",
        "        text = text+' '\n",
        "        data[i] = '_'\n",
        "    else:\n",
        "        text = text+data[i]\n",
        "# print(text)\n",
        "# print(data)\n",
        "df = pd.DataFrame({'word':data})\n",
        "data = np.array(data)\n",
        "id = np.where(data == '_')[0]\n"
      ]
    },
    {
      "cell_type": "code",
      "execution_count": 47,
      "metadata": {
        "id": "mPHAmF0RqglG"
      },
      "outputs": [],
      "source": [
        "data = '<separator>'.join(data).split('<separator>')\n",
        "\n",
        "temp_data = []\n",
        "t = []\n",
        "for i in data:\n",
        "  if i != '_': t.append(i)\n",
        "  else: temp_data.append(t); t = []\n",
        "if len(t) != 0: temp_data.append(t); t=[] \n",
        "\n",
        "data = temp_data\n",
        "sent_pair = []\n",
        "for i in range(len(data)-1):\n",
        "  if data[i].__len__() == 0: break\n",
        "  sent1 = data[i]\n",
        "  sent2 = data[i+1]\n",
        "  if len(sent2) == 0: continue\n",
        "  # if sent1[0] == '' and len(sent1) > 1: sent1 = sent1[1:]\n",
        "  # if sent2[0] == '' and len(sent2) > 1: sent2 = sent2[1:]\n",
        "  sent1 = sent1[:] + ['_']\n",
        "  sent2 = sent2[:] + ['_']\n",
        "  pos1 = [dic_pos[pos_tag([k], corpus='lst20')[0][1]] for k in sent1]\n",
        "  pos2 = [dic_pos[pos_tag([k], corpus='lst20')[0][1]] for k in sent2]\n",
        "  ner1 = get_ner(sent1,ner)\n",
        "  ner2 = get_ner(sent2,ner)\n",
        "  ner1 = [x if x == 'O' else x.split('-')[1] for x in ner1]\n",
        "  ner2 = [x if x == 'O' else x.split('-')[1] for x in ner2]\n",
        "  ner1 = [dic_ner[x] for x in ner1]\n",
        "  ner2 = [dic_ner[x] for x in ner2]\n",
        "  sent1 = [dic[d] if d in dic.keys() else dic['<UNKNOWN>'] for d in sent1]\n",
        "  sent2 = [dic[d] if d in dic.keys() else dic['<UNKNOWN>'] for d in sent2]\n",
        "  pos1 = pos1 + [dic_pos['<PAD_TOKEN>']]*(50 - len(pos1))\n",
        "  pos2 = pos2 + [dic_pos['<PAD_TOKEN>']]*(50 - len(pos2))\n",
        "  ner1 = ner1 + [dic_ner['<PAD_TOKEN>']]*(50 - len(ner1))\n",
        "  ner2 = ner2 + [dic_ner['<PAD_TOKEN>']]*(50 - len(ner2))\n",
        "  sent1 = sent1 + [dic['<PAD_TOKEN>']]*(50 - len(sent1))\n",
        "  sent2 = sent2 + [dic['<PAD_TOKEN>']]*(50 - len(sent2))\n",
        "  merg1 = [[d,p,n] for d,p,n in zip(sent1,pos1,ner1)]\n",
        "  merg2 = [[d,p,n] for d,p,n in zip(sent2,pos2,ner2)]\n",
        "  sent_pair.append([merg1,merg2])\n",
        "# data = [[d, pos_tag([i], corpus='lst20')[0][1]] for d in data]\n",
        "  # prdint(pred)\n",
        "  # index = np.sort(id[(id > inc) & (id < 1024 + inc)])[-1]\n",
        "  # inc = i\n",
        "  # print(index)\n",
        "sent_pair = np.array(sent_pair)"
      ]
    },
    {
      "cell_type": "code",
      "execution_count": null,
      "metadata": {
        "colab": {
          "base_uri": "https://localhost:8080/"
        },
        "id": "LOIjxQMI1E9i",
        "outputId": "d47c5844-90e9-48a4-a34c-cfb5b5905a0c"
      },
      "outputs": [
        {
          "data": {
            "text/plain": [
              "['2/2004']"
            ]
          },
          "execution_count": 262,
          "metadata": {},
          "output_type": "execute_result"
        }
      ],
      "source": [
        "data[i]"
      ]
    },
    {
      "cell_type": "code",
      "execution_count": null,
      "metadata": {
        "colab": {
          "base_uri": "https://localhost:8080/"
        },
        "id": "A_yNOLrm0G1U",
        "outputId": "d7f7ac78-04e9-48d0-8048-904bb8a56893"
      },
      "outputs": [
        {
          "data": {
            "text/plain": [
              "['หนังสือพิมพ์', 'ผู้', 'จัด', 'การ']"
            ]
          },
          "execution_count": 263,
          "metadata": {},
          "output_type": "execute_result"
        }
      ],
      "source": [
        "data[-3]"
      ]
    },
    {
      "cell_type": "code",
      "execution_count": null,
      "metadata": {
        "colab": {
          "base_uri": "https://localhost:8080/"
        },
        "id": "mwqNOvFvy183",
        "outputId": "966dfa03-7d20-4752-8ae2-983e55164173"
      },
      "outputs": [
        {
          "data": {
            "text/plain": [
              "array([[[11414,     8],\n",
              "        [30003,     8],\n",
              "        [36247,     8],\n",
              "        [31124,     8],\n",
              "        [21452,     9],\n",
              "        [ 4532,    12],\n",
              "        [  911,     8],\n",
              "        [27797,     8],\n",
              "        [38130,     8],\n",
              "        [12227,     3],\n",
              "        [32948,     8],\n",
              "        [ 3709,    14],\n",
              "        [ 3711,    12],\n",
              "        [ 9210,     8],\n",
              "        [27797,     8],\n",
              "        [40095,    13],\n",
              "        [22949,    13],\n",
              "        [48946,    16],\n",
              "        [48946,    16],\n",
              "        [48946,    16],\n",
              "        [48946,    16],\n",
              "        [48946,    16],\n",
              "        [48946,    16],\n",
              "        [48946,    16],\n",
              "        [48946,    16],\n",
              "        [48946,    16],\n",
              "        [48946,    16],\n",
              "        [48946,    16],\n",
              "        [48946,    16],\n",
              "        [48946,    16],\n",
              "        [48946,    16],\n",
              "        [48946,    16],\n",
              "        [48946,    16],\n",
              "        [48946,    16],\n",
              "        [48946,    16],\n",
              "        [48946,    16],\n",
              "        [48946,    16],\n",
              "        [48946,    16],\n",
              "        [48946,    16],\n",
              "        [48946,    16],\n",
              "        [48946,    16],\n",
              "        [48946,    16],\n",
              "        [48946,    16],\n",
              "        [48946,    16],\n",
              "        [48946,    16],\n",
              "        [48946,    16],\n",
              "        [48946,    16],\n",
              "        [48946,    16],\n",
              "        [48946,    16],\n",
              "        [48946,    16]],\n",
              "\n",
              "       [[28742,    14],\n",
              "        [48179,     5],\n",
              "        [22378,    14],\n",
              "        [27537,    14],\n",
              "        [ 9094,    14],\n",
              "        [15961,     8],\n",
              "        [22949,    13],\n",
              "        [48946,    16],\n",
              "        [48946,    16],\n",
              "        [48946,    16],\n",
              "        [48946,    16],\n",
              "        [48946,    16],\n",
              "        [48946,    16],\n",
              "        [48946,    16],\n",
              "        [48946,    16],\n",
              "        [48946,    16],\n",
              "        [48946,    16],\n",
              "        [48946,    16],\n",
              "        [48946,    16],\n",
              "        [48946,    16],\n",
              "        [48946,    16],\n",
              "        [48946,    16],\n",
              "        [48946,    16],\n",
              "        [48946,    16],\n",
              "        [48946,    16],\n",
              "        [48946,    16],\n",
              "        [48946,    16],\n",
              "        [48946,    16],\n",
              "        [48946,    16],\n",
              "        [48946,    16],\n",
              "        [48946,    16],\n",
              "        [48946,    16],\n",
              "        [48946,    16],\n",
              "        [48946,    16],\n",
              "        [48946,    16],\n",
              "        [48946,    16],\n",
              "        [48946,    16],\n",
              "        [48946,    16],\n",
              "        [48946,    16],\n",
              "        [48946,    16],\n",
              "        [48946,    16],\n",
              "        [48946,    16],\n",
              "        [48946,    16],\n",
              "        [48946,    16],\n",
              "        [48946,    16],\n",
              "        [48946,    16],\n",
              "        [48946,    16],\n",
              "        [48946,    16],\n",
              "        [48946,    16],\n",
              "        [48946,    16]]])"
            ]
          },
          "execution_count": 264,
          "metadata": {},
          "output_type": "execute_result"
        }
      ],
      "source": [
        "sent_pair[11]"
      ]
    },
    {
      "cell_type": "code",
      "execution_count": 49,
      "metadata": {
        "id": "3r2I_7Nqofv6"
      },
      "outputs": [],
      "source": [
        "out = np.round(model.predict(\n",
        "   [sent_pair[:,0,:,0],\n",
        "    sent_pair[:,0,:,1],\n",
        "     sent_pair[:,0,:,2],\n",
        "     sent_pair[:,1,:,0],\n",
        "     sent_pair[:,1,:,1],\n",
        "     sent_pair[:,1,:,2],]\n",
        "))"
      ]
    },
    {
      "cell_type": "code",
      "execution_count": 50,
      "metadata": {
        "id": "_uABbdRrqqvq"
      },
      "outputs": [],
      "source": [
        "group_output = []\n",
        "for d,o in zip(data, out):\n",
        "  group_output.append([d,o])"
      ]
    },
    {
      "cell_type": "code",
      "execution_count": 51,
      "metadata": {
        "id": "1IecELA5r63C"
      },
      "outputs": [],
      "source": [
        "out_result = []\n",
        "lab = []\n",
        "\n",
        "flag = True\n",
        "for i in group_output:\n",
        "  # i[0] = ''i[0].strip(' ')\n",
        "  if flag : lab.append('B_SENT'); flag=False\n",
        "  else: lab.append('I_SENT')\n",
        "  # i[0] = i[0].split(' ')\n",
        "  out_result.append(i[0][0])\n",
        "  # if len(i[0]) > 1:\n",
        "  for j in i[0][1:]:\n",
        "    lab.append('I_SENT')\n",
        "    out_result.append(j)\n",
        "  if i[1][0] == 1.:\n",
        "    out_result.append('_')\n",
        "    lab[-1] = 'E_SENT'\n",
        "    lab.append('O')\n",
        "    flag = True\n",
        "  else: \n",
        "    out_result.append('_')\n",
        "    # lab[-1] = 'I_SENT'\n",
        "    lab.append('I_SENT')\n"
      ]
    },
    {
      "cell_type": "code",
      "execution_count": 52,
      "metadata": {
        "id": "XM8xQLakuIJ9"
      },
      "outputs": [],
      "source": [
        "t = []\n",
        "for i,j,l in zip(out_result, data,lab):\n",
        "  t.append([i,j,l])\n"
      ]
    },
    {
      "cell_type": "code",
      "execution_count": 53,
      "metadata": {
        "id": "cYoIveSD6OQp"
      },
      "outputs": [],
      "source": [
        "lab.append('I_SENT')"
      ]
    },
    {
      "cell_type": "code",
      "execution_count": 56,
      "metadata": {
        "id": "1J94aXPn7Wir"
      },
      "outputs": [],
      "source": [
        "sub['Predicted'] = lab"
      ]
    },
    {
      "cell_type": "code",
      "execution_count": null,
      "metadata": {
        "colab": {
          "base_uri": "https://localhost:8080/"
        },
        "id": "Vqq_Eo2E64oM",
        "outputId": "da40c4b7-e315-4be4-d004-f325f23e9d19"
      },
      "outputs": [
        {
          "data": {
            "text/plain": [
              "array(['_', '_', '2/2004', '_', 'การ', 'จัด', 'ผู้', 'หนังสือพิมพ์', '_',\n",
              "       'ใหม่', 'อุบัติ', 'โรค', 'ควบคุม', 'การ', 'ถึง', 'ไป', 'รวม', '_',\n",
              "       'เร็ว', 'ได้', 'โรค', 'ของ', 'ระบาด', 'การ', 'ควบคุม', 'และ',\n",
              "       'ดูแล', 'ช่วย', 'จะ', '_', 'ได้', 'ศูนย์', '_', '12', '_', 'ทั้ง',\n",
              "       'ภูมิภาค', 'ใน', 'แล็บ', 'ศูนย์', 'ของ', 'เข้มแข็ง', 'ความ',\n",
              "       'พัฒนา', 'สามารถ', 'ถ้า', 'ซึ่ง', '_', 'ยาว', 'คิว', 'วิเคราะห์',\n",
              "       'ตรวจ', 'การ', 'ที่', 'ขณะ', '_', 'กรุงเทพฯ', 'ใน', 'เฉพาะ',\n",
              "       'เข้มแข็ง', 'ศูนย์', 'มี', 'เหมือน', 'นี้', 'ขณะ', 'เพราะ', '_',\n",
              "       'เขต', 'ศูนย์', 'ใน', '_', 'จังหวัด', 'ต่าง', 'เขต', 'ใน', 'แล็บ',\n",
              "       'ศักยภาพ', 'พัฒนา', 'การ', 'เรื่อง', 'พิจารณา', 'กำลัง', 'ยาว',\n",
              "       'ระยะ', 'แต่', '_', 'แล้ว', 'หนึ่ง', 'ส่วน', 'ไว้', 'ขอ', 'นี้',\n",
              "       'ขณะ', 'นั้น', 'ประมาณ', 'งบ', 'เรื่อง', '_', 'ว่า', 'กล่าว'],\n",
              "      dtype='<U36')"
            ]
          },
          "execution_count": 282,
          "metadata": {},
          "output_type": "execute_result"
        }
      ],
      "source": [
        "data[::-1][:100]"
      ]
    },
    {
      "cell_type": "code",
      "execution_count": 57,
      "metadata": {
        "id": "yrzTUgYk7c2N"
      },
      "outputs": [],
      "source": [
        "sub.to_csv('submitzz.csv',index=False)"
      ]
    },
    {
      "cell_type": "code",
      "execution_count": null,
      "metadata": {
        "colab": {
          "base_uri": "https://localhost:8080/"
        },
        "id": "CBct7H5x41rd",
        "outputId": "231d74c5-7300-43cb-a8d5-de81e73b658e"
      },
      "outputs": [
        {
          "data": {
            "text/plain": [
              "array(['กล่าว', 'ชม', 'ตร.', 'เร่ง', 'สำนวน', 'คดี', 'เร็ว', 'ดี', 'ลั่น',\n",
              "       'จะ', 'ไม่', 'หนี', 'เหมือน', 'นัก', 'การ', 'เมือง', 'บาง', 'คน',\n",
              "       '_', 'ตาม', 'ที่', 'นาย', 'ธนชาติ', '_', 'แสงประดับธรรมโชติ', '_',\n",
              "       'เข้า', 'แจ้ง', 'ความ', 'กับ', '_', 'ตำรวจ', '_', 'สน.',\n",
              "       'นางเลิ้ง', 'เมื่อ', '_', '29', '_', 'มิ.ย.', '_', '2551', '_',\n",
              "       'โดย', 'กล่าวหา', 'นาย', 'สมเกียรติ', '_', 'พงษ์ไพบูลย์', '_',\n",
              "       'ส.ส.', 'สัดส่วน', 'พรรค', 'ประชาธิปัตย์', 'หนึ่ง', 'ใน', 'แกนนำ',\n",
              "       'พันธมิตร', 'ประชาชน', 'เพื่อ', 'ประชาธิปไตย', 'ปราศรัย', 'บน',\n",
              "       'เวที', 'พันธมิตร', 'ฯ', '_', 'มี', 'การ', 'กล่าว', 'พาดพิง',\n",
              "       'ดูหมิ่น', 'สถาบัน', '_', 'มี', 'ความ', 'ผิด', 'ตาม', 'ประมวล',\n",
              "       'กฎหมาย', 'อาญา', '_', 'มาตรา', '_', '112', '_', 'โดย', 'นำ',\n",
              "       'เทป', 'การ', 'กล่าว', 'ปราศรัย', '_', 'ภาพ', 'ถ่าย', '_', 'ภาพ',\n",
              "       'วีดีโอ', '_', 'มอบ'], dtype='<U36')"
            ]
          },
          "execution_count": 253,
          "metadata": {},
          "output_type": "execute_result"
        }
      ],
      "source": [
        "data[:100]"
      ]
    },
    {
      "cell_type": "code",
      "execution_count": null,
      "metadata": {
        "id": "yrGJgAOElj5F"
      },
      "outputs": [],
      "source": [
        "for i in data:\n",
        "  print(len(i.split(' ')))"
      ]
    },
    {
      "cell_type": "code",
      "execution_count": null,
      "metadata": {
        "colab": {
          "base_uri": "https://localhost:8080/"
        },
        "id": "O48dZnM2tbPa",
        "outputId": "1d97c330-e2eb-465f-b6e5-1068ce35e128"
      },
      "outputs": [
        {
          "name": "stdout",
          "output_type": "stream",
          "text": [
            "74405\n",
            "74405\n"
          ]
        }
      ],
      "source": [
        "print(res.__len__())\n",
        "print(data.__len__())\n"
      ]
    },
    {
      "cell_type": "code",
      "execution_count": null,
      "metadata": {
        "id": "mY5mUc7anAIj"
      },
      "outputs": [],
      "source": [
        "map_class = {\n",
        "    'B_SENT':'B_SENT',\n",
        "    'I_SENT':'I_SENT',\n",
        "    'E_SENT':'E_SENT',\n",
        "    'O_SENT':'O',\n",
        "    'P_SENT':'I_SENT',\n",
        "}\n",
        "\n",
        "res = [map_class[i] for i in res]"
      ]
    },
    {
      "cell_type": "code",
      "execution_count": null,
      "metadata": {
        "colab": {
          "base_uri": "https://localhost:8080/"
        },
        "id": "2FJyT3yKI4aZ",
        "outputId": "a879f982-512d-49b7-874c-ee22d96a5dc1"
      },
      "outputs": [
        {
          "data": {
            "text/plain": [
              "(array(['B_SENT', 'E_SENT', 'I_SENT', 'O'], dtype='<U6'),\n",
              " array([ 1196,  1240, 70745,  1224]))"
            ]
          },
          "execution_count": 79,
          "metadata": {},
          "output_type": "execute_result"
        }
      ],
      "source": [
        "np.unique(res, return_counts=True)"
      ]
    },
    {
      "cell_type": "code",
      "execution_count": 55,
      "metadata": {
        "id": "WY4CNpyxwJrk"
      },
      "outputs": [],
      "source": [
        "sub = pd.read_csv('/content/drive/MyDrive/SuperAI_NLP/ss_sample_submission.csv')\n",
        "# sub['Predicted'] = res[:-2]"
      ]
    },
    {
      "cell_type": "code",
      "execution_count": null,
      "metadata": {
        "id": "hKtJwlhLxAKm"
      },
      "outputs": [],
      "source": [
        "sub.to_csv('submit3.csv',index=False)"
      ]
    },
    {
      "cell_type": "code",
      "execution_count": null,
      "metadata": {
        "colab": {
          "base_uri": "https://localhost:8080/",
          "height": 677
        },
        "id": "wX22AT4bFcdt",
        "outputId": "c998a427-97b2-48bb-f0dc-3dab3b26a047"
      },
      "outputs": [
        {
          "data": {
            "text/html": [
              "\n",
              "  <div id=\"df-428dc1f0-4d53-4955-8f27-8f3a4f70d947\">\n",
              "    <div class=\"colab-df-container\">\n",
              "      <div>\n",
              "<style scoped>\n",
              "    .dataframe tbody tr th:only-of-type {\n",
              "        vertical-align: middle;\n",
              "    }\n",
              "\n",
              "    .dataframe tbody tr th {\n",
              "        vertical-align: top;\n",
              "    }\n",
              "\n",
              "    .dataframe thead th {\n",
              "        text-align: right;\n",
              "    }\n",
              "</style>\n",
              "<table border=\"1\" class=\"dataframe\">\n",
              "  <thead>\n",
              "    <tr style=\"text-align: right;\">\n",
              "      <th></th>\n",
              "      <th>Id</th>\n",
              "      <th>Predicted</th>\n",
              "    </tr>\n",
              "  </thead>\n",
              "  <tbody>\n",
              "    <tr>\n",
              "      <th>0</th>\n",
              "      <td>1</td>\n",
              "      <td>I_SENT</td>\n",
              "    </tr>\n",
              "    <tr>\n",
              "      <th>1</th>\n",
              "      <td>2</td>\n",
              "      <td>I_SENT</td>\n",
              "    </tr>\n",
              "    <tr>\n",
              "      <th>2</th>\n",
              "      <td>3</td>\n",
              "      <td>I_SENT</td>\n",
              "    </tr>\n",
              "    <tr>\n",
              "      <th>3</th>\n",
              "      <td>4</td>\n",
              "      <td>I_SENT</td>\n",
              "    </tr>\n",
              "    <tr>\n",
              "      <th>4</th>\n",
              "      <td>5</td>\n",
              "      <td>I_SENT</td>\n",
              "    </tr>\n",
              "    <tr>\n",
              "      <th>...</th>\n",
              "      <td>...</td>\n",
              "      <td>...</td>\n",
              "    </tr>\n",
              "    <tr>\n",
              "      <th>74398</th>\n",
              "      <td>74399</td>\n",
              "      <td>I_SENT</td>\n",
              "    </tr>\n",
              "    <tr>\n",
              "      <th>74399</th>\n",
              "      <td>74400</td>\n",
              "      <td>I_SENT</td>\n",
              "    </tr>\n",
              "    <tr>\n",
              "      <th>74400</th>\n",
              "      <td>74401</td>\n",
              "      <td>I_SENT</td>\n",
              "    </tr>\n",
              "    <tr>\n",
              "      <th>74401</th>\n",
              "      <td>74402</td>\n",
              "      <td>I_SENT</td>\n",
              "    </tr>\n",
              "    <tr>\n",
              "      <th>74402</th>\n",
              "      <td>74403</td>\n",
              "      <td>I_SENT</td>\n",
              "    </tr>\n",
              "  </tbody>\n",
              "</table>\n",
              "<p>74403 rows × 2 columns</p>\n",
              "</div>\n",
              "      <button class=\"colab-df-convert\" onclick=\"convertToInteractive('df-428dc1f0-4d53-4955-8f27-8f3a4f70d947')\"\n",
              "              title=\"Convert this dataframe to an interactive table.\"\n",
              "              style=\"display:none;\">\n",
              "        \n",
              "  <svg xmlns=\"http://www.w3.org/2000/svg\" height=\"24px\"viewBox=\"0 0 24 24\"\n",
              "       width=\"24px\">\n",
              "    <path d=\"M0 0h24v24H0V0z\" fill=\"none\"/>\n",
              "    <path d=\"M18.56 5.44l.94 2.06.94-2.06 2.06-.94-2.06-.94-.94-2.06-.94 2.06-2.06.94zm-11 1L8.5 8.5l.94-2.06 2.06-.94-2.06-.94L8.5 2.5l-.94 2.06-2.06.94zm10 10l.94 2.06.94-2.06 2.06-.94-2.06-.94-.94-2.06-.94 2.06-2.06.94z\"/><path d=\"M17.41 7.96l-1.37-1.37c-.4-.4-.92-.59-1.43-.59-.52 0-1.04.2-1.43.59L10.3 9.45l-7.72 7.72c-.78.78-.78 2.05 0 2.83L4 21.41c.39.39.9.59 1.41.59.51 0 1.02-.2 1.41-.59l7.78-7.78 2.81-2.81c.8-.78.8-2.07 0-2.86zM5.41 20L4 18.59l7.72-7.72 1.47 1.35L5.41 20z\"/>\n",
              "  </svg>\n",
              "      </button>\n",
              "      \n",
              "  <style>\n",
              "    .colab-df-container {\n",
              "      display:flex;\n",
              "      flex-wrap:wrap;\n",
              "      gap: 12px;\n",
              "    }\n",
              "\n",
              "    .colab-df-convert {\n",
              "      background-color: #E8F0FE;\n",
              "      border: none;\n",
              "      border-radius: 50%;\n",
              "      cursor: pointer;\n",
              "      display: none;\n",
              "      fill: #1967D2;\n",
              "      height: 32px;\n",
              "      padding: 0 0 0 0;\n",
              "      width: 32px;\n",
              "    }\n",
              "\n",
              "    .colab-df-convert:hover {\n",
              "      background-color: #E2EBFA;\n",
              "      box-shadow: 0px 1px 2px rgba(60, 64, 67, 0.3), 0px 1px 3px 1px rgba(60, 64, 67, 0.15);\n",
              "      fill: #174EA6;\n",
              "    }\n",
              "\n",
              "    [theme=dark] .colab-df-convert {\n",
              "      background-color: #3B4455;\n",
              "      fill: #D2E3FC;\n",
              "    }\n",
              "\n",
              "    [theme=dark] .colab-df-convert:hover {\n",
              "      background-color: #434B5C;\n",
              "      box-shadow: 0px 1px 3px 1px rgba(0, 0, 0, 0.15);\n",
              "      filter: drop-shadow(0px 1px 2px rgba(0, 0, 0, 0.3));\n",
              "      fill: #FFFFFF;\n",
              "    }\n",
              "  </style>\n",
              "\n",
              "      <script>\n",
              "        const buttonEl =\n",
              "          document.querySelector('#df-428dc1f0-4d53-4955-8f27-8f3a4f70d947 button.colab-df-convert');\n",
              "        buttonEl.style.display =\n",
              "          google.colab.kernel.accessAllowed ? 'block' : 'none';\n",
              "\n",
              "        async function convertToInteractive(key) {\n",
              "          const element = document.querySelector('#df-428dc1f0-4d53-4955-8f27-8f3a4f70d947');\n",
              "          const dataTable =\n",
              "            await google.colab.kernel.invokeFunction('convertToInteractive',\n",
              "                                                     [key], {});\n",
              "          if (!dataTable) return;\n",
              "\n",
              "          const docLinkHtml = 'Like what you see? Visit the ' +\n",
              "            '<a target=\"_blank\" href=https://colab.research.google.com/notebooks/data_table.ipynb>data table notebook</a>'\n",
              "            + ' to learn more about interactive tables.';\n",
              "          element.innerHTML = '';\n",
              "          dataTable['output_type'] = 'display_data';\n",
              "          await google.colab.output.renderOutput(dataTable, element);\n",
              "          const docLink = document.createElement('div');\n",
              "          docLink.innerHTML = docLinkHtml;\n",
              "          element.appendChild(docLink);\n",
              "        }\n",
              "      </script>\n",
              "    </div>\n",
              "  </div>\n",
              "  "
            ],
            "text/plain": [
              "          Id Predicted\n",
              "0          1    I_SENT\n",
              "1          2    I_SENT\n",
              "2          3    I_SENT\n",
              "3          4    I_SENT\n",
              "4          5    I_SENT\n",
              "...      ...       ...\n",
              "74398  74399    I_SENT\n",
              "74399  74400    I_SENT\n",
              "74400  74401    I_SENT\n",
              "74401  74402    I_SENT\n",
              "74402  74403    I_SENT\n",
              "\n",
              "[74403 rows x 2 columns]"
            ]
          },
          "execution_count": 82,
          "metadata": {},
          "output_type": "execute_result"
        },
        {
          "name": "stdout",
          "output_type": "stream",
          "text": [
            "Warning: total number of rows (74403) exceeds max_rows (20000). Limiting to first (20000) rows.\n"
          ]
        }
      ],
      "source": [
        "sub"
      ]
    },
    {
      "cell_type": "code",
      "execution_count": null,
      "metadata": {
        "colab": {
          "base_uri": "https://localhost:8080/",
          "height": 166
        },
        "id": "-Y-RtvWRJr2m",
        "outputId": "f178647b-34b2-4582-e228-891aeed9d24d"
      },
      "outputs": [
        {
          "ename": "AxisError",
          "evalue": "ignored",
          "output_type": "error",
          "traceback": [
            "\u001b[0;31m---------------------------------------------------------------------------\u001b[0m",
            "\u001b[0;31mAxisError\u001b[0m                                 Traceback (most recent call last)",
            "\u001b[0;32m<ipython-input-275-31ea873abae4>\u001b[0m in \u001b[0;36m<module>\u001b[0;34m()\u001b[0m\n\u001b[0;32m----> 1\u001b[0;31m \u001b[0mrez\u001b[0m \u001b[0;34m=\u001b[0m \u001b[0my_pred\u001b[0m\u001b[0;34m.\u001b[0m\u001b[0margmax\u001b[0m\u001b[0;34m(\u001b[0m\u001b[0;36m2\u001b[0m\u001b[0;34m)\u001b[0m\u001b[0;34m.\u001b[0m\u001b[0mflatten\u001b[0m\u001b[0;34m(\u001b[0m\u001b[0;34m)\u001b[0m\u001b[0;34m\u001b[0m\u001b[0;34m\u001b[0m\u001b[0m\n\u001b[0m",
            "\u001b[0;31mAxisError\u001b[0m: axis 2 is out of bounds for array of dimension 2"
          ]
        }
      ],
      "source": [
        "rez = y_pred.argmax(2).flatten()"
      ]
    },
    {
      "cell_type": "code",
      "execution_count": null,
      "metadata": {
        "colab": {
          "base_uri": "https://localhost:8080/",
          "height": 301
        },
        "id": "6Dia9r8WJrSv",
        "outputId": "435a0b89-be9f-4ea6-d2e7-b1d793b56d91"
      },
      "outputs": [
        {
          "ename": "KeyError",
          "evalue": "ignored",
          "output_type": "error",
          "traceback": [
            "\u001b[0;31m---------------------------------------------------------------------------\u001b[0m",
            "\u001b[0;31mKeyError\u001b[0m                                  Traceback (most recent call last)",
            "\u001b[0;32m<ipython-input-31-61dcd6951bee>\u001b[0m in \u001b[0;36m<module>\u001b[0;34m()\u001b[0m\n\u001b[1;32m     32\u001b[0m   \u001b[0;31m# temp.append('O')\u001b[0m\u001b[0;34m\u001b[0m\u001b[0;34m\u001b[0m\u001b[0;34m\u001b[0m\u001b[0m\n\u001b[1;32m     33\u001b[0m \u001b[0;31m# rez = [i for j in rez for i in j]\u001b[0m\u001b[0;34m\u001b[0m\u001b[0;34m\u001b[0m\u001b[0;34m\u001b[0m\u001b[0m\n\u001b[0;32m---> 34\u001b[0;31m \u001b[0mtemp\u001b[0m \u001b[0;34m=\u001b[0m \u001b[0;34m[\u001b[0m\u001b[0mdic_class\u001b[0m\u001b[0;34m[\u001b[0m\u001b[0mi\u001b[0m\u001b[0;34m]\u001b[0m \u001b[0;32mfor\u001b[0m \u001b[0mi\u001b[0m \u001b[0;32min\u001b[0m \u001b[0mtemp\u001b[0m\u001b[0;34m]\u001b[0m\u001b[0;34m\u001b[0m\u001b[0;34m\u001b[0m\u001b[0m\n\u001b[0m",
            "\u001b[0;32m<ipython-input-31-61dcd6951bee>\u001b[0m in \u001b[0;36m<listcomp>\u001b[0;34m(.0)\u001b[0m\n\u001b[1;32m     32\u001b[0m   \u001b[0;31m# temp.append('O')\u001b[0m\u001b[0;34m\u001b[0m\u001b[0;34m\u001b[0m\u001b[0;34m\u001b[0m\u001b[0m\n\u001b[1;32m     33\u001b[0m \u001b[0;31m# rez = [i for j in rez for i in j]\u001b[0m\u001b[0;34m\u001b[0m\u001b[0;34m\u001b[0m\u001b[0;34m\u001b[0m\u001b[0m\n\u001b[0;32m---> 34\u001b[0;31m \u001b[0mtemp\u001b[0m \u001b[0;34m=\u001b[0m \u001b[0;34m[\u001b[0m\u001b[0mdic_class\u001b[0m\u001b[0;34m[\u001b[0m\u001b[0mi\u001b[0m\u001b[0;34m]\u001b[0m \u001b[0;32mfor\u001b[0m \u001b[0mi\u001b[0m \u001b[0;32min\u001b[0m \u001b[0mtemp\u001b[0m\u001b[0;34m]\u001b[0m\u001b[0;34m\u001b[0m\u001b[0;34m\u001b[0m\u001b[0m\n\u001b[0m",
            "\u001b[0;31mKeyError\u001b[0m: 'O'"
          ]
        }
      ],
      "source": [
        "import copy\n",
        "temp_rez = []\n",
        "t = []\n",
        "count = 0\n",
        "for i in rez:\n",
        "  if i == 'O':\n",
        "    count += 1\n",
        "    if len(t) == 0:print('t')\n",
        "    temp_rez.append(copy.deepcopy(t))\n",
        "    t = []\n",
        "  else:\n",
        "    count += 1\n",
        "    t.append(i)\n",
        "temp_rez.append(t)\n",
        "# rez = ''.join(rez).split('O')\n",
        "rez = [['I_SENT']*len(i) for i in temp_rez]\n",
        "for i in range(len(rez)):\n",
        "  if len(rez[i]) == 0: \n",
        "    rez[i] = ['I_SENT']\n",
        "    continue\n",
        "  elif len(rez[i]) == 1: rez[i] = ['B_SENT']\n",
        "  elif len(rez[i]) == 2: rez[i] = ['B_SENT','E_SENT']\n",
        "  else:\n",
        "    rez[i][0] = 'B_SENT'\n",
        "    rez[i][-1] = 'E_SENT'\n",
        "  rez[i].append('O')\n",
        "\n",
        "temp = []\n",
        "for i in rez:\n",
        "  for j in i:\n",
        "    temp.append(j)\n",
        "  # temp.append('O')\n",
        "# rez = [i for j in rez for i in j]\n",
        "temp = [dic_class[i] for i in temp]"
      ]
    },
    {
      "cell_type": "code",
      "execution_count": null,
      "metadata": {
        "colab": {
          "base_uri": "https://localhost:8080/",
          "height": 290
        },
        "id": "d_oc_q5CidNH",
        "outputId": "15e8bedd-474c-414b-9474-619568e1de3e"
      },
      "outputs": [
        {
          "name": "stderr",
          "output_type": "stream",
          "text": [
            "/usr/local/lib/python3.7/dist-packages/ipykernel_launcher.py:3: VisibleDeprecationWarning: Creating an ndarray from ragged nested sequences (which is a list-or-tuple of lists-or-tuples-or ndarrays with different lengths or shapes) is deprecated. If you meant to do this, you must specify 'dtype=object' when creating the ndarray.\n",
            "  This is separate from the ipykernel package so we can avoid doing imports until\n"
          ]
        },
        {
          "ename": "NameError",
          "evalue": "ignored",
          "output_type": "error",
          "traceback": [
            "\u001b[0;31m---------------------------------------------------------------------------\u001b[0m",
            "\u001b[0;31mNameError\u001b[0m                                 Traceback (most recent call last)",
            "\u001b[0;32m<ipython-input-274-8ffeed075e17>\u001b[0m in \u001b[0;36m<module>\u001b[0;34m()\u001b[0m\n\u001b[1;32m      2\u001b[0m \u001b[0;34m\u001b[0m\u001b[0m\n\u001b[1;32m      3\u001b[0m \u001b[0mytest\u001b[0m \u001b[0;34m=\u001b[0m \u001b[0mnp\u001b[0m\u001b[0;34m.\u001b[0m\u001b[0marray\u001b[0m\u001b[0;34m(\u001b[0m\u001b[0mY_test\u001b[0m\u001b[0;34m)\u001b[0m\u001b[0;34m.\u001b[0m\u001b[0mflatten\u001b[0m\u001b[0;34m(\u001b[0m\u001b[0;34m)\u001b[0m\u001b[0;34m\u001b[0m\u001b[0;34m\u001b[0m\u001b[0m\n\u001b[0;32m----> 4\u001b[0;31m \u001b[0mypred\u001b[0m \u001b[0;34m=\u001b[0m \u001b[0mtemp\u001b[0m\u001b[0;34m[\u001b[0m\u001b[0;34m:\u001b[0m\u001b[0;34m-\u001b[0m\u001b[0;36m1\u001b[0m\u001b[0;34m]\u001b[0m\u001b[0;34m\u001b[0m\u001b[0;34m\u001b[0m\u001b[0m\n\u001b[0m\u001b[1;32m      5\u001b[0m \u001b[0;34m\u001b[0m\u001b[0m\n\u001b[1;32m      6\u001b[0m \u001b[0mf1_score\u001b[0m\u001b[0;34m(\u001b[0m\u001b[0mytest\u001b[0m\u001b[0;34m,\u001b[0m \u001b[0mypred\u001b[0m\u001b[0;34m,\u001b[0m \u001b[0maverage\u001b[0m\u001b[0;34m=\u001b[0m\u001b[0;34m'micro'\u001b[0m\u001b[0;34m)\u001b[0m\u001b[0;34m\u001b[0m\u001b[0;34m\u001b[0m\u001b[0m\n",
            "\u001b[0;31mNameError\u001b[0m: name 'temp' is not defined"
          ]
        }
      ],
      "source": [
        "from sklearn.metrics import f1_score\n",
        "\n",
        "ytest = np.array(Y_test).flatten()\n",
        "ypred = temp[:-1]\n",
        "\n",
        "f1_score(ytest, ypred, average='micro')"
      ]
    },
    {
      "cell_type": "code",
      "execution_count": null,
      "metadata": {
        "colab": {
          "base_uri": "https://localhost:8080/"
        },
        "id": "TJ6Ek3tF-doO",
        "outputId": "dc4e9136-f838-4697-c0ff-f69af0d34a26"
      },
      "outputs": [
        {
          "data": {
            "text/plain": [
              "0.9683412977867203"
            ]
          },
          "execution_count": 143,
          "metadata": {},
          "output_type": "execute_result"
        }
      ],
      "source": [
        "from sklearn.metrics import f1_score\n",
        "\n",
        "ytest = np.array(Y_test).flatten()\n",
        "ypred = y_pred.argmax(2).flatten()\n",
        "\n",
        "f1_score(ytest, ypred, average='micro')"
      ]
    },
    {
      "cell_type": "code",
      "execution_count": null,
      "metadata": {
        "colab": {
          "base_uri": "https://localhost:8080/"
        },
        "id": "PkUh1-W6eS9r",
        "outputId": "3fc506de-5f6f-409a-b276-24e35a581e6b"
      },
      "outputs": [
        {
          "data": {
            "text/plain": [
              "0.9763286751760564"
            ]
          },
          "execution_count": 73,
          "metadata": {},
          "output_type": "execute_result"
        }
      ],
      "source": [
        "from sklearn.metrics import f1_score\n",
        "\n",
        "ytest = np.array(Y_test).flatten()\n",
        "ypred = y_pred.argmax(2).flatten()\n",
        "\n",
        "f1_score(ytest, ypred, average='micro')"
      ]
    },
    {
      "cell_type": "code",
      "execution_count": null,
      "metadata": {
        "colab": {
          "base_uri": "https://localhost:8080/"
        },
        "id": "0__mtD5nJhMB",
        "outputId": "c18f0efb-869e-45f8-8621-e56645b228fd"
      },
      "outputs": [
        {
          "data": {
            "text/plain": [
              "0.8566460281912791"
            ]
          },
          "execution_count": 22,
          "metadata": {},
          "output_type": "execute_result"
        }
      ],
      "source": [
        "from sklearn.metrics import f1_score\n",
        "\n",
        "ytest = np.array(merged_Y_test).flatten()\n",
        "ypred = np.round(y_pred[:,0]).astype(np.uint8)\n",
        "\n",
        "f1_score(ytest, ypred, average='micro')"
      ]
    },
    {
      "cell_type": "code",
      "source": [
        "from sklearn.metrics import f1_score\n",
        "\n",
        "ytest = np.array(merged_Y_test).flatten()\n",
        "ypred = np.round(y_pred[:,0]).astype(np.uint8)\n",
        "\n",
        "f1_score(ytest, ypred, average='micro')"
      ],
      "metadata": {
        "colab": {
          "base_uri": "https://localhost:8080/"
        },
        "id": "Je-ppDvCDmGK",
        "outputId": "6d236ae8-6d84-42cb-dbdd-18da3717748a"
      },
      "execution_count": 59,
      "outputs": [
        {
          "output_type": "execute_result",
          "data": {
            "text/plain": [
              "0.9200105387959425"
            ]
          },
          "metadata": {},
          "execution_count": 59
        }
      ]
    },
    {
      "cell_type": "code",
      "source": [
        "from sklearn.metrics import f1_score\n",
        "\n",
        "ytest = np.array(merged_Y_test).flatten()\n",
        "ypred = np.round(y_pred[:,0]).astype(np.uint8)\n",
        "\n",
        "f1_score(ytest, ypred, average='micro')"
      ],
      "metadata": {
        "colab": {
          "base_uri": "https://localhost:8080/"
        },
        "id": "6zX7MqgM7VcF",
        "outputId": "9d520f42-c614-4af6-c17a-232bc9f29002"
      },
      "execution_count": 36,
      "outputs": [
        {
          "output_type": "execute_result",
          "data": {
            "text/plain": [
              "0.9200105387959425"
            ]
          },
          "metadata": {},
          "execution_count": 36
        }
      ]
    },
    {
      "cell_type": "code",
      "execution_count": null,
      "metadata": {
        "colab": {
          "base_uri": "https://localhost:8080/"
        },
        "id": "SvIO398DMTeX",
        "outputId": "96111a60-3d04-4a04-9af6-d79fdb3a1b3a"
      },
      "outputs": [
        {
          "data": {
            "text/plain": [
              "array([[4.6172515e-02],\n",
              "       [2.1210741e-05],\n",
              "       [6.9497329e-01],\n",
              "       ...,\n",
              "       [2.3458363e-02],\n",
              "       [2.7394648e-08],\n",
              "       [5.7124515e-13]], dtype=float32)"
            ]
          },
          "execution_count": 67,
          "metadata": {},
          "output_type": "execute_result"
        }
      ],
      "source": [
        "y_pred"
      ]
    },
    {
      "cell_type": "code",
      "execution_count": 42,
      "metadata": {
        "id": "oFZZ5tx31hU3"
      },
      "outputs": [],
      "source": [
        "model = tf.keras.models.load_model('/content/drive/MyDrive/SuperAI_NLP/binary_cut_5epoch_92f1.h5')"
      ]
    },
    {
      "cell_type": "code",
      "execution_count": null,
      "metadata": {
        "colab": {
          "base_uri": "https://localhost:8080/"
        },
        "id": "DhQ-kevWIaZr",
        "outputId": "f2d38422-376b-4ddd-f701-9ef5c94c76b6"
      },
      "outputs": [
        {
          "data": {
            "text/plain": [
              "[('เปิด', 'VV'),\n",
              " ('ขนส่ง', 'VV'),\n",
              " ('สินค้า', 'NN'),\n",
              " ('เชื่อม', 'VV'),\n",
              " (' ', 'PU'),\n",
              " ('3', 'NU'),\n",
              " (' ', 'PU'),\n",
              " ('ประเทศ', 'CL')]"
            ]
          },
          "execution_count": 37,
          "metadata": {},
          "output_type": "execute_result"
        }
      ],
      "source": [
        "pos_tag(docs[0][0],corpus='lst20')"
      ]
    },
    {
      "cell_type": "code",
      "execution_count": null,
      "metadata": {
        "colab": {
          "base_uri": "https://localhost:8080/",
          "height": 325
        },
        "id": "kFGku4yRnqIj",
        "outputId": "065b2e95-2913-448a-8ce5-5fd0ec0d64b8"
      },
      "outputs": [
        {
          "ename": "IndexError",
          "evalue": "ignored",
          "output_type": "error",
          "traceback": [
            "\u001b[0;31m---------------------------------------------------------------------------\u001b[0m",
            "\u001b[0;31mIndexError\u001b[0m                                Traceback (most recent call last)",
            "\u001b[0;32m<ipython-input-28-c0b9781def5c>\u001b[0m in \u001b[0;36m<module>\u001b[0;34m()\u001b[0m\n\u001b[0;32m----> 1\u001b[0;31m \u001b[0mpos_tag_sents\u001b[0m\u001b[0;34m(\u001b[0m\u001b[0mdocs\u001b[0m\u001b[0;34m[\u001b[0m\u001b[0;36m0\u001b[0m\u001b[0;34m]\u001b[0m\u001b[0;34m,\u001b[0m\u001b[0mcorpus\u001b[0m\u001b[0;34m=\u001b[0m\u001b[0;34m'orchid_ud'\u001b[0m\u001b[0;34m)\u001b[0m\u001b[0;34m\u001b[0m\u001b[0;34m\u001b[0m\u001b[0m\n\u001b[0m",
            "\u001b[0;32m/usr/local/lib/python3.7/dist-packages/pythainlp/tag/pos_tag.py\u001b[0m in \u001b[0;36mpos_tag_sents\u001b[0;34m(sentences, engine, corpus)\u001b[0m\n\u001b[1;32m    167\u001b[0m         \u001b[0;32mreturn\u001b[0m \u001b[0;34m[\u001b[0m\u001b[0;34m]\u001b[0m\u001b[0;34m\u001b[0m\u001b[0;34m\u001b[0m\u001b[0m\n\u001b[1;32m    168\u001b[0m \u001b[0;34m\u001b[0m\u001b[0m\n\u001b[0;32m--> 169\u001b[0;31m     \u001b[0;32mreturn\u001b[0m \u001b[0;34m[\u001b[0m\u001b[0mpos_tag\u001b[0m\u001b[0;34m(\u001b[0m\u001b[0msent\u001b[0m\u001b[0;34m,\u001b[0m \u001b[0mengine\u001b[0m\u001b[0;34m=\u001b[0m\u001b[0mengine\u001b[0m\u001b[0;34m,\u001b[0m \u001b[0mcorpus\u001b[0m\u001b[0;34m=\u001b[0m\u001b[0mcorpus\u001b[0m\u001b[0;34m)\u001b[0m \u001b[0;32mfor\u001b[0m \u001b[0msent\u001b[0m \u001b[0;32min\u001b[0m \u001b[0msentences\u001b[0m\u001b[0;34m]\u001b[0m\u001b[0;34m\u001b[0m\u001b[0;34m\u001b[0m\u001b[0m\n\u001b[0m",
            "\u001b[0;32m/usr/local/lib/python3.7/dist-packages/pythainlp/tag/pos_tag.py\u001b[0m in \u001b[0;36m<listcomp>\u001b[0;34m(.0)\u001b[0m\n\u001b[1;32m    167\u001b[0m         \u001b[0;32mreturn\u001b[0m \u001b[0;34m[\u001b[0m\u001b[0;34m]\u001b[0m\u001b[0;34m\u001b[0m\u001b[0;34m\u001b[0m\u001b[0m\n\u001b[1;32m    168\u001b[0m \u001b[0;34m\u001b[0m\u001b[0m\n\u001b[0;32m--> 169\u001b[0;31m     \u001b[0;32mreturn\u001b[0m \u001b[0;34m[\u001b[0m\u001b[0mpos_tag\u001b[0m\u001b[0;34m(\u001b[0m\u001b[0msent\u001b[0m\u001b[0;34m,\u001b[0m \u001b[0mengine\u001b[0m\u001b[0;34m=\u001b[0m\u001b[0mengine\u001b[0m\u001b[0;34m,\u001b[0m \u001b[0mcorpus\u001b[0m\u001b[0;34m=\u001b[0m\u001b[0mcorpus\u001b[0m\u001b[0;34m)\u001b[0m \u001b[0;32mfor\u001b[0m \u001b[0msent\u001b[0m \u001b[0;32min\u001b[0m \u001b[0msentences\u001b[0m\u001b[0;34m]\u001b[0m\u001b[0;34m\u001b[0m\u001b[0;34m\u001b[0m\u001b[0m\n\u001b[0m",
            "\u001b[0;32m/usr/local/lib/python3.7/dist-packages/pythainlp/tag/pos_tag.py\u001b[0m in \u001b[0;36mpos_tag\u001b[0;34m(words, engine, corpus)\u001b[0m\n\u001b[1;32m    114\u001b[0m         )\n\u001b[1;32m    115\u001b[0m \u001b[0;34m\u001b[0m\u001b[0m\n\u001b[0;32m--> 116\u001b[0;31m     \u001b[0mword_tags\u001b[0m \u001b[0;34m=\u001b[0m \u001b[0mtag_\u001b[0m\u001b[0;34m(\u001b[0m\u001b[0mwords\u001b[0m\u001b[0;34m,\u001b[0m \u001b[0mcorpus\u001b[0m\u001b[0;34m=\u001b[0m\u001b[0mcorpus\u001b[0m\u001b[0;34m)\u001b[0m\u001b[0;34m\u001b[0m\u001b[0;34m\u001b[0m\u001b[0m\n\u001b[0m\u001b[1;32m    117\u001b[0m \u001b[0;34m\u001b[0m\u001b[0m\n\u001b[1;32m    118\u001b[0m     \u001b[0;32mreturn\u001b[0m \u001b[0mword_tags\u001b[0m\u001b[0;34m\u001b[0m\u001b[0;34m\u001b[0m\u001b[0m\n",
            "\u001b[0;32m/usr/local/lib/python3.7/dist-packages/pythainlp/tag/perceptron.py\u001b[0m in \u001b[0;36mtag\u001b[0;34m(words, corpus)\u001b[0m\n\u001b[1;32m     61\u001b[0m     \u001b[0;32mif\u001b[0m \u001b[0mcorpus\u001b[0m \u001b[0;34m==\u001b[0m \u001b[0;34m\"orchid\"\u001b[0m \u001b[0;32mor\u001b[0m \u001b[0mcorpus\u001b[0m \u001b[0;34m==\u001b[0m \u001b[0;34m\"orchid_ud\"\u001b[0m\u001b[0;34m:\u001b[0m\u001b[0;34m\u001b[0m\u001b[0;34m\u001b[0m\u001b[0m\n\u001b[1;32m     62\u001b[0m         \u001b[0mwords\u001b[0m \u001b[0;34m=\u001b[0m \u001b[0morchid\u001b[0m\u001b[0;34m.\u001b[0m\u001b[0mpre_process\u001b[0m\u001b[0;34m(\u001b[0m\u001b[0mwords\u001b[0m\u001b[0;34m)\u001b[0m\u001b[0;34m\u001b[0m\u001b[0;34m\u001b[0m\u001b[0m\n\u001b[0;32m---> 63\u001b[0;31m         \u001b[0mword_tags\u001b[0m \u001b[0;34m=\u001b[0m \u001b[0m_orchid_tagger\u001b[0m\u001b[0;34m(\u001b[0m\u001b[0;34m)\u001b[0m\u001b[0;34m.\u001b[0m\u001b[0mtag\u001b[0m\u001b[0;34m(\u001b[0m\u001b[0mwords\u001b[0m\u001b[0;34m)\u001b[0m\u001b[0;34m\u001b[0m\u001b[0;34m\u001b[0m\u001b[0m\n\u001b[0m\u001b[1;32m     64\u001b[0m         \u001b[0mword_tags\u001b[0m \u001b[0;34m=\u001b[0m \u001b[0morchid\u001b[0m\u001b[0;34m.\u001b[0m\u001b[0mpost_process\u001b[0m\u001b[0;34m(\u001b[0m\u001b[0mword_tags\u001b[0m\u001b[0;34m,\u001b[0m \u001b[0mto_ud\u001b[0m\u001b[0;34m)\u001b[0m\u001b[0;34m\u001b[0m\u001b[0;34m\u001b[0m\u001b[0m\n\u001b[1;32m     65\u001b[0m     \u001b[0;32melif\u001b[0m \u001b[0mcorpus\u001b[0m \u001b[0;34m==\u001b[0m \u001b[0;34m\"lst20\"\u001b[0m \u001b[0;32mor\u001b[0m \u001b[0mcorpus\u001b[0m \u001b[0;34m==\u001b[0m \u001b[0;34m\"lst20_ud\"\u001b[0m\u001b[0;34m:\u001b[0m\u001b[0;34m\u001b[0m\u001b[0;34m\u001b[0m\u001b[0m\n",
            "\u001b[0;32m/usr/local/lib/python3.7/dist-packages/pythainlp/tag/_tag_perceptron.py\u001b[0m in \u001b[0;36mtag\u001b[0;34m(self, tokens)\u001b[0m\n\u001b[1;32m    135\u001b[0m         \u001b[0moutput\u001b[0m \u001b[0;34m=\u001b[0m \u001b[0;34m[\u001b[0m\u001b[0;34m]\u001b[0m\u001b[0;34m\u001b[0m\u001b[0;34m\u001b[0m\u001b[0m\n\u001b[1;32m    136\u001b[0m \u001b[0;34m\u001b[0m\u001b[0m\n\u001b[0;32m--> 137\u001b[0;31m         \u001b[0mcontext\u001b[0m \u001b[0;34m=\u001b[0m \u001b[0mself\u001b[0m\u001b[0;34m.\u001b[0m\u001b[0mSTART\u001b[0m \u001b[0;34m+\u001b[0m \u001b[0;34m[\u001b[0m\u001b[0mself\u001b[0m\u001b[0;34m.\u001b[0m\u001b[0m_normalize\u001b[0m\u001b[0;34m(\u001b[0m\u001b[0mw\u001b[0m\u001b[0;34m)\u001b[0m \u001b[0;32mfor\u001b[0m \u001b[0mw\u001b[0m \u001b[0;32min\u001b[0m \u001b[0mtokens\u001b[0m\u001b[0;34m]\u001b[0m \u001b[0;34m+\u001b[0m \u001b[0mself\u001b[0m\u001b[0;34m.\u001b[0m\u001b[0mEND\u001b[0m\u001b[0;34m\u001b[0m\u001b[0;34m\u001b[0m\u001b[0m\n\u001b[0m\u001b[1;32m    138\u001b[0m         \u001b[0;32mfor\u001b[0m \u001b[0mi\u001b[0m\u001b[0;34m,\u001b[0m \u001b[0mword\u001b[0m \u001b[0;32min\u001b[0m \u001b[0menumerate\u001b[0m\u001b[0;34m(\u001b[0m\u001b[0mtokens\u001b[0m\u001b[0;34m)\u001b[0m\u001b[0;34m:\u001b[0m\u001b[0;34m\u001b[0m\u001b[0;34m\u001b[0m\u001b[0m\n\u001b[1;32m    139\u001b[0m             \u001b[0mtag\u001b[0m \u001b[0;34m=\u001b[0m \u001b[0mself\u001b[0m\u001b[0;34m.\u001b[0m\u001b[0mtagdict\u001b[0m\u001b[0;34m.\u001b[0m\u001b[0mget\u001b[0m\u001b[0;34m(\u001b[0m\u001b[0mword\u001b[0m\u001b[0;34m)\u001b[0m\u001b[0;34m\u001b[0m\u001b[0;34m\u001b[0m\u001b[0m\n",
            "\u001b[0;32m/usr/local/lib/python3.7/dist-packages/pythainlp/tag/_tag_perceptron.py\u001b[0m in \u001b[0;36m<listcomp>\u001b[0;34m(.0)\u001b[0m\n\u001b[1;32m    135\u001b[0m         \u001b[0moutput\u001b[0m \u001b[0;34m=\u001b[0m \u001b[0;34m[\u001b[0m\u001b[0;34m]\u001b[0m\u001b[0;34m\u001b[0m\u001b[0;34m\u001b[0m\u001b[0m\n\u001b[1;32m    136\u001b[0m \u001b[0;34m\u001b[0m\u001b[0m\n\u001b[0;32m--> 137\u001b[0;31m         \u001b[0mcontext\u001b[0m \u001b[0;34m=\u001b[0m \u001b[0mself\u001b[0m\u001b[0;34m.\u001b[0m\u001b[0mSTART\u001b[0m \u001b[0;34m+\u001b[0m \u001b[0;34m[\u001b[0m\u001b[0mself\u001b[0m\u001b[0;34m.\u001b[0m\u001b[0m_normalize\u001b[0m\u001b[0;34m(\u001b[0m\u001b[0mw\u001b[0m\u001b[0;34m)\u001b[0m \u001b[0;32mfor\u001b[0m \u001b[0mw\u001b[0m \u001b[0;32min\u001b[0m \u001b[0mtokens\u001b[0m\u001b[0;34m]\u001b[0m \u001b[0;34m+\u001b[0m \u001b[0mself\u001b[0m\u001b[0;34m.\u001b[0m\u001b[0mEND\u001b[0m\u001b[0;34m\u001b[0m\u001b[0;34m\u001b[0m\u001b[0m\n\u001b[0m\u001b[1;32m    138\u001b[0m         \u001b[0;32mfor\u001b[0m \u001b[0mi\u001b[0m\u001b[0;34m,\u001b[0m \u001b[0mword\u001b[0m \u001b[0;32min\u001b[0m \u001b[0menumerate\u001b[0m\u001b[0;34m(\u001b[0m\u001b[0mtokens\u001b[0m\u001b[0;34m)\u001b[0m\u001b[0;34m:\u001b[0m\u001b[0;34m\u001b[0m\u001b[0;34m\u001b[0m\u001b[0m\n\u001b[1;32m    139\u001b[0m             \u001b[0mtag\u001b[0m \u001b[0;34m=\u001b[0m \u001b[0mself\u001b[0m\u001b[0;34m.\u001b[0m\u001b[0mtagdict\u001b[0m\u001b[0;34m.\u001b[0m\u001b[0mget\u001b[0m\u001b[0;34m(\u001b[0m\u001b[0mword\u001b[0m\u001b[0;34m)\u001b[0m\u001b[0;34m\u001b[0m\u001b[0;34m\u001b[0m\u001b[0m\n",
            "\u001b[0;32m/usr/local/lib/python3.7/dist-packages/pythainlp/tag/_tag_perceptron.py\u001b[0m in \u001b[0;36m_normalize\u001b[0;34m(self, word)\u001b[0m\n\u001b[1;32m    227\u001b[0m         \u001b[0;32melif\u001b[0m \u001b[0mword\u001b[0m\u001b[0;34m.\u001b[0m\u001b[0misdigit\u001b[0m\u001b[0;34m(\u001b[0m\u001b[0;34m)\u001b[0m \u001b[0;32mand\u001b[0m \u001b[0mlen\u001b[0m\u001b[0;34m(\u001b[0m\u001b[0mword\u001b[0m\u001b[0;34m)\u001b[0m \u001b[0;34m==\u001b[0m \u001b[0;36m4\u001b[0m\u001b[0;34m:\u001b[0m\u001b[0;34m\u001b[0m\u001b[0;34m\u001b[0m\u001b[0m\n\u001b[1;32m    228\u001b[0m             \u001b[0;32mreturn\u001b[0m \u001b[0;34m\"!YEAR\"\u001b[0m\u001b[0;34m\u001b[0m\u001b[0;34m\u001b[0m\u001b[0m\n\u001b[0;32m--> 229\u001b[0;31m         \u001b[0;32melif\u001b[0m \u001b[0mword\u001b[0m\u001b[0;34m[\u001b[0m\u001b[0;36m0\u001b[0m\u001b[0;34m]\u001b[0m\u001b[0;34m.\u001b[0m\u001b[0misdigit\u001b[0m\u001b[0;34m(\u001b[0m\u001b[0;34m)\u001b[0m\u001b[0;34m:\u001b[0m\u001b[0;34m\u001b[0m\u001b[0;34m\u001b[0m\u001b[0m\n\u001b[0m\u001b[1;32m    230\u001b[0m             \u001b[0;32mreturn\u001b[0m \u001b[0;34m\"!DIGITS\"\u001b[0m\u001b[0;34m\u001b[0m\u001b[0;34m\u001b[0m\u001b[0m\n\u001b[1;32m    231\u001b[0m         \u001b[0;32melse\u001b[0m\u001b[0;34m:\u001b[0m\u001b[0;34m\u001b[0m\u001b[0;34m\u001b[0m\u001b[0m\n",
            "\u001b[0;31mIndexError\u001b[0m: string index out of range"
          ]
        }
      ],
      "source": [
        ""
      ]
    },
    {
      "cell_type": "code",
      "execution_count": null,
      "metadata": {
        "id": "myapTqpinsB-"
      },
      "outputs": [],
      "source": [
        "docs[0]"
      ]
    },
    {
      "cell_type": "code",
      "execution_count": null,
      "metadata": {
        "id": "XKMf0Qm5pZsf"
      },
      "outputs": [],
      "source": [
        ""
      ]
    }
  ],
  "metadata": {
    "colab": {
      "collapsed_sections": [],
      "machine_shape": "hm",
      "name": "Binary_cut_V3_(add ner).ipynb",
      "provenance": []
    },
    "kernelspec": {
      "display_name": "Python 3",
      "name": "python3"
    },
    "language_info": {
      "name": "python"
    },
    "accelerator": "GPU"
  },
  "nbformat": 4,
  "nbformat_minor": 0
}